{
 "cells": [
  {
   "cell_type": "markdown",
   "metadata": {},
   "source": [
    "# 第3章 数据预处理\n",
    "## 3.1 numpy基础\n",
    "### 　3.1.1 向量\n",
    "### 　3.1.2 数组\n",
    "#### 　　　3.1.2.1 数据类型与结构数组\n",
    "#### 　　　3.1.2.2 索引与切片\n",
    "#### 　　　3.1.2.3 数组的属性"
   ]
  },
  {
   "cell_type": "markdown",
   "metadata": {},
   "source": [
    "## 3.1 numpy基础"
   ]
  },
  {
   "cell_type": "code",
   "execution_count": 1,
   "metadata": {},
   "outputs": [],
   "source": [
    "'''\n",
    "numpy能够提供诸如向量、数组、矩阵等便于进行数据分析的数据结构，\n",
    "现已成为数据分析中的基本工具库。\n",
    "\n",
    "1.安装：\n",
    "-- 使用pip命令安装numpy模块。\n",
    "   -- pip install numpy\n",
    "   \n",
    "-- 导入Anaconda中内置的numpy。\n",
    "   -- from numpy import *\n",
    "      numpy属于大型库，一次性全部导入占用系统资源。\n",
    "   -- import numpy\n",
    "      numpy中一些函数或模块容易和python基本库中的函数或模块混淆。\n",
    "   -- import numpy as np \n",
    "      节省系统资源，在调用numpy中的模块或函数时使用“np.模块或函数名称”的方式。\n",
    "'''\n",
    "import numpy as np "
   ]
  },
  {
   "cell_type": "code",
   "execution_count": 2,
   "metadata": {},
   "outputs": [
    {
     "data": {
      "text/plain": [
       "'\\n2.numpy核心数据结构：\\n数组对象ndarray，其中的数组元素可以是同质的，也可以是异质的即结构数组。\\n'"
      ]
     },
     "execution_count": 2,
     "metadata": {},
     "output_type": "execute_result"
    }
   ],
   "source": [
    "'''\n",
    "2.numpy核心数据结构：\n",
    "数组对象ndarray，其中的数组元素可以是同质的，也可以是异质的即结构数组。\n",
    "'''"
   ]
  },
  {
   "cell_type": "code",
   "execution_count": 3,
   "metadata": {},
   "outputs": [
    {
     "data": {
      "text/plain": [
       "' \\n3.numpy的优点：\\n可以不用循环便可对数据执行矢量化运算，大小相等的数组之间的任何算术运算都\\n会应用到元素，数组与标量之间的运算也会“广播”到数组的各个元素，提高分析\\n的运行效率。\\n'"
      ]
     },
     "execution_count": 3,
     "metadata": {},
     "output_type": "execute_result"
    }
   ],
   "source": [
    "''' \n",
    "3.numpy的优点：\n",
    "可以不用循环便可对数据执行矢量化运算，大小相等的数组之间的任何算术运算都\n",
    "会应用到元素，数组与标量之间的运算也会“广播”到数组的各个元素，提高分析\n",
    "的运行效率。\n",
    "'''"
   ]
  },
  {
   "cell_type": "code",
   "execution_count": 4,
   "metadata": {},
   "outputs": [],
   "source": [
    "#课堂练习1：Python列表每个元素*2的运算："
   ]
  },
  {
   "cell_type": "code",
   "execution_count": null,
   "metadata": {},
   "outputs": [],
   "source": []
  },
  {
   "cell_type": "code",
   "execution_count": null,
   "metadata": {},
   "outputs": [],
   "source": []
  },
  {
   "cell_type": "code",
   "execution_count": null,
   "metadata": {},
   "outputs": [],
   "source": []
  },
  {
   "cell_type": "code",
   "execution_count": null,
   "metadata": {},
   "outputs": [],
   "source": []
  },
  {
   "cell_type": "code",
   "execution_count": 5,
   "metadata": {},
   "outputs": [
    {
     "data": {
      "text/plain": [
       "[2, 4, 6, 8, 10]"
      ]
     },
     "execution_count": 5,
     "metadata": {},
     "output_type": "execute_result"
    }
   ],
   "source": [
    "list_data=[1,2,3,4,5]\n",
    "for i in range(len(list_data)):\n",
    "    list_data[i]*=2\n",
    "list_data"
   ]
  },
  {
   "cell_type": "code",
   "execution_count": 6,
   "metadata": {},
   "outputs": [
    {
     "name": "stdout",
     "output_type": "stream",
     "text": [
      "[2, 4, 6, 8, 10]\n"
     ]
    }
   ],
   "source": [
    "list_data=[1,2,3,4,5]\n",
    "print(list(map(lambda x:x*2,list_data)))"
   ]
  },
  {
   "cell_type": "code",
   "execution_count": 7,
   "metadata": {},
   "outputs": [
    {
     "data": {
      "text/plain": [
       "[1, 2, 3, 4, 5, 1, 2, 3, 4, 5]"
      ]
     },
     "execution_count": 7,
     "metadata": {},
     "output_type": "execute_result"
    }
   ],
   "source": [
    "#对列表的操作不是元素级别的，要对列表元素操作，需要使用可以遍历列表的方法。\n",
    "#如for循环、map()函数\n",
    "2*list_data "
   ]
  },
  {
   "cell_type": "code",
   "execution_count": 8,
   "metadata": {},
   "outputs": [
    {
     "data": {
      "text/plain": [
       "\"\\nnp.array(object, dtype=None, copy=True, order='K', subok=False, ndmin=0)\\n\\nobject — list或tuple对象。强制参数。\\n\\ndtype — 数据类型。可选参数。\\n\\ncopy — 默认为True，对象被复制。可选参数。\\n\\norder — 数组按一定的顺序排列。C - 按行；F - 按列；A - 如果输入为F则按列排列，\\n         否则按行排列；K - 保留按行和列排列。默认值为K。可选参数。\\n\\nsubok — 默认为False，返回的数组被强制为基类数组。如果为True，则返回子类。可选参数。\\n\\nndmin — 最小维数。可选参数。\\n\\n注：array函数的参数必须是由方括号括起来的列表，而不能使用多个数值作为参数调用array。\\n\""
      ]
     },
     "execution_count": 8,
     "metadata": {},
     "output_type": "execute_result"
    }
   ],
   "source": [
    "#numpy提供的数据类型可以实现元素级别的操作\n",
    "#使用numpy.array创建数组\n",
    "'''\n",
    "np.array(object, dtype=None, copy=True, order='K', subok=False, ndmin=0)\n",
    "\n",
    "object — list或tuple对象。强制参数。\n",
    "\n",
    "dtype — 数据类型。可选参数。\n",
    "\n",
    "copy — 默认为True，对象被复制。可选参数。\n",
    "\n",
    "order — 数组按一定的顺序排列。C - 按行；F - 按列；A - 如果输入为F则按列排列，\n",
    "         否则按行排列；K - 保留按行和列排列。默认值为K。可选参数。\n",
    "\n",
    "subok — 默认为False，返回的数组被强制为基类数组。如果为True，则返回子类。可选参数。\n",
    "\n",
    "ndmin — 最小维数。可选参数。\n",
    "\n",
    "注：array函数的参数必须是由方括号括起来的列表，而不能使用多个数值作为参数调用array。\n",
    "'''"
   ]
  },
  {
   "cell_type": "code",
   "execution_count": 9,
   "metadata": {},
   "outputs": [
    {
     "name": "stdout",
     "output_type": "stream",
     "text": [
      "[2 3 4]\n"
     ]
    }
   ],
   "source": [
    "#创建一维数组\n",
    "import numpy as np\n",
    "a=np.array((2,3,4))\n",
    "a\n",
    "print(a)"
   ]
  },
  {
   "cell_type": "code",
   "execution_count": 10,
   "metadata": {},
   "outputs": [
    {
     "data": {
      "text/plain": [
       "array([2, 3, 4])"
      ]
     },
     "execution_count": 10,
     "metadata": {},
     "output_type": "execute_result"
    }
   ],
   "source": [
    "#创建一维数组\n",
    "a=np.array([2,3,4])\n",
    "a"
   ]
  },
  {
   "cell_type": "code",
   "execution_count": 11,
   "metadata": {},
   "outputs": [
    {
     "ename": "TypeError",
     "evalue": "array() takes from 1 to 2 positional arguments but 3 were given",
     "output_type": "error",
     "traceback": [
      "\u001b[0;31m---------------------------------------------------------------------------\u001b[0m",
      "\u001b[0;31mTypeError\u001b[0m                                 Traceback (most recent call last)",
      "Cell \u001b[0;32mIn[11], line 2\u001b[0m\n\u001b[1;32m      1\u001b[0m \u001b[38;5;66;03m#创建一维数组\u001b[39;00m\n\u001b[0;32m----> 2\u001b[0m a\u001b[38;5;241m=\u001b[39mnp\u001b[38;5;241m.\u001b[39marray(\u001b[38;5;241m2\u001b[39m,\u001b[38;5;241m3\u001b[39m,\u001b[38;5;241m4\u001b[39m)\n\u001b[1;32m      3\u001b[0m a\n",
      "\u001b[0;31mTypeError\u001b[0m: array() takes from 1 to 2 positional arguments but 3 were given"
     ]
    }
   ],
   "source": [
    "#创建一维数组\n",
    "a=np.array(2,3,4)\n",
    "a"
   ]
  },
  {
   "cell_type": "code",
   "execution_count": null,
   "metadata": {
    "scrolled": true
   },
   "outputs": [],
   "source": [
    "#创建一维数组\n",
    "a=np.array([2,3,4])\n",
    "print(a,a.dtype)"
   ]
  },
  {
   "cell_type": "code",
   "execution_count": null,
   "metadata": {},
   "outputs": [],
   "source": [
    "#创建一维数组\n",
    "b=np.array([2.,3.,4.])\n",
    "print(b,b.dtype)"
   ]
  },
  {
   "cell_type": "code",
   "execution_count": null,
   "metadata": {},
   "outputs": [],
   "source": [
    "#创建二维数组\n",
    "c=np.array([[1.,2.],[3.,4.]])\n",
    "print(c,c.dtype)"
   ]
  },
  {
   "cell_type": "code",
   "execution_count": null,
   "metadata": {},
   "outputs": [],
   "source": [
    "#创建二维数组\n",
    "d=np.array([[1,2],[3,4]],dtype=complex)\n",
    "print(d,d.dtype)"
   ]
  },
  {
   "cell_type": "code",
   "execution_count": null,
   "metadata": {},
   "outputs": [],
   "source": [
    "numpy_data=np.array([1,2,3,4,5])\n",
    "2*numpy_data"
   ]
  },
  {
   "cell_type": "code",
   "execution_count": null,
   "metadata": {},
   "outputs": [],
   "source": []
  },
  {
   "cell_type": "code",
   "execution_count": null,
   "metadata": {},
   "outputs": [],
   "source": [
    "#使用np.arange函数创建数组\n",
    "'''\n",
    "arange() - 创建一个一维的等差数列数组，与Python中的range()函数类似。\n",
    "\n",
    "区别在于：\n",
    "np.arange()返回的是一个numpy数组\n",
    "Python中的range()函数返回的是一个列表。\n",
    "\n",
    "np.arange(start, stop, step, dtype=None)\n",
    "\n",
    "start — 起始值（取得到）。默认值为0。可选参数。\n",
    "\n",
    "stop — 终止值（取不到）。强制参数。\n",
    "\n",
    "step — 步长。默认值为1。若指定step，则start值必须给出。可选参数。\n",
    "\n",
    "dtype — 数据类型。若不指定数据类型，则通过其他参数（如start, stop, step）判断。\n",
    "         可选参数。\n",
    "'''"
   ]
  },
  {
   "cell_type": "code",
   "execution_count": null,
   "metadata": {},
   "outputs": [],
   "source": [
    "#指定元素个数：\n",
    "v=np.arange(10)\n",
    "print(v)\n",
    "print(v.dtype)\n",
    "print(v.shape)"
   ]
  },
  {
   "cell_type": "code",
   "execution_count": null,
   "metadata": {},
   "outputs": [],
   "source": [
    "#指定初值、终值、步长：\n",
    "vstep=np.arange(0,10,0.5)\n",
    "print(vstep)\n",
    "print(vstep.dtype)\n",
    "print(vstep.shape)"
   ]
  },
  {
   "cell_type": "code",
   "execution_count": null,
   "metadata": {
    "scrolled": false
   },
   "outputs": [],
   "source": [
    "#提升运算效率\n",
    "def python_multi(n):\n",
    "    a=list(range(n))\n",
    "    b=list(range(n))\n",
    "    c=[]\n",
    "    for i in range(len(a)):\n",
    "        a[i]=a[i]**2\n",
    "        b[i]=b[i]**3\n",
    "        c.append(a[i]*b[i])\n",
    "    return c\n",
    "\n",
    "def numpy_multi(n):\n",
    "    c=np.arange(n)**2*np.arange(n)**3\n",
    "    return c\n",
    "\n",
    "%timeit python_multi(10000)\n",
    "%timeit numpy_multi(10000)"
   ]
  },
  {
   "cell_type": "code",
   "execution_count": null,
   "metadata": {},
   "outputs": [],
   "source": [
    "'''\n",
    " s（秒）、ms（毫秒）、μs（微秒）、ns（纳秒），\n",
    " 1s=1000ms，1 ms=1000μs，1μs=1000ns\n",
    "'''"
   ]
  },
  {
   "cell_type": "code",
   "execution_count": null,
   "metadata": {},
   "outputs": [],
   "source": [
    "'''\n",
    "4.创建数组的函数：见教材p86\n",
    "'''"
   ]
  },
  {
   "cell_type": "markdown",
   "metadata": {},
   "source": [
    "### 　3.1.1 向量"
   ]
  },
  {
   "cell_type": "code",
   "execution_count": null,
   "metadata": {},
   "outputs": [],
   "source": [
    "'''\n",
    "向量(vector)即一维数组。\n",
    "1.用arange函数创建向量是最简单的最常用的方法。\n",
    "'''\n",
    "#1.1指定元素个数：\n",
    "v=np.arange(10)\n",
    "print(v)\n",
    "print(v.dtype)\n",
    "print(v.shape)"
   ]
  },
  {
   "cell_type": "code",
   "execution_count": null,
   "metadata": {
    "scrolled": true
   },
   "outputs": [],
   "source": [
    "#1.2指定初值、终值、步长：\n",
    "vstep=np.arange(0,10,0.5)\n",
    "vstep"
   ]
  },
  {
   "cell_type": "code",
   "execution_count": null,
   "metadata": {},
   "outputs": [],
   "source": [
    "#1.3向量直接对元素运算：\n",
    "vstep*10"
   ]
  },
  {
   "cell_type": "code",
   "execution_count": null,
   "metadata": {
    "scrolled": true
   },
   "outputs": [],
   "source": [
    "'''\n",
    "2.等差数列向量\n",
    "linspace() - 创建一个一维数组，在给定的区间上num等分。\n",
    "\n",
    "np.linspace(start, stop, num=50, endpoint=True, retstep=False, dtype=None)\n",
    "\n",
    "start — 区间起始值。强制参数。\n",
    "\n",
    "stop — 区间终止值（是否取得到，需要设定参数endpoint）。强制参数。\n",
    "\n",
    "num — 等分的个数。默认值为50。可选参数。\n",
    "\n",
    "endpoint — 若为True（默认），则可以取到区间终止值；否则取不到。可选参数。\n",
    "\n",
    "retstep — 若为True，则返回由生成的数组和步长构成的元组；若为False（默认），\n",
    "           则只返回生成的数组。可选参数。\n",
    "\n",
    "dtype — 数据类型。若不指定数据类型，则通过其他参数判断。可选参数。\n",
    "\n",
    "'''\n",
    "np.linspace(1,19,10)"
   ]
  },
  {
   "cell_type": "code",
   "execution_count": null,
   "metadata": {
    "scrolled": true
   },
   "outputs": [],
   "source": [
    "np.linspace(1,19,10,endpoint=False)"
   ]
  },
  {
   "cell_type": "code",
   "execution_count": null,
   "metadata": {
    "scrolled": false
   },
   "outputs": [],
   "source": [
    "np.linspace(1,19,endpoint=False)"
   ]
  },
  {
   "cell_type": "code",
   "execution_count": null,
   "metadata": {},
   "outputs": [],
   "source": [
    "'''\n",
    "3.等比数列向量\n",
    "logspace() - 创建对数等比数列数组，底数为base。\n",
    "\n",
    "np.logspace(start, stop, num=50, endpoint=True, base=10.0, dtype=None)\n",
    "\n",
    "start — 区间起始值为base的start次方。强制参数。\n",
    "\n",
    "stop — 区间终止值为base的stop次方（是否取得到，需要设定参数endpoint）。强制参数。\n",
    "\n",
    "num — 等分的个数。按照对数，即start和stop值进行等分。默认值为50。可选参数。\n",
    "\n",
    "endpoint — 若为True（默认），则可以取到区间终止值；否则取不到。可选参数。\n",
    "\n",
    "base — 底数。\n",
    "\n",
    "dtype — 数据类型。若不指定数据类型，则通过其他参数判断。可选参数。\n",
    "'''\n",
    "np.logspace(0,2,4,base=2)"
   ]
  },
  {
   "cell_type": "code",
   "execution_count": 12,
   "metadata": {},
   "outputs": [
    {
     "data": {
      "text/plain": [
       "array([  1.        ,   4.64158883,  21.5443469 , 100.        ])"
      ]
     },
     "execution_count": 12,
     "metadata": {},
     "output_type": "execute_result"
    }
   ],
   "source": [
    "np.logspace(0,2,4)"
   ]
  },
  {
   "cell_type": "code",
   "execution_count": null,
   "metadata": {},
   "outputs": [],
   "source": [
    "np.logspace(0,2,4,endpoint=False)"
   ]
  },
  {
   "cell_type": "code",
   "execution_count": null,
   "metadata": {
    "scrolled": true
   },
   "outputs": [],
   "source": [
    "from math import e\n",
    "np.logspace(1,20,10,endpoint=False,base=e)"
   ]
  },
  {
   "cell_type": "code",
   "execution_count": null,
   "metadata": {},
   "outputs": [],
   "source": [
    "np.logspace(0,3,4,base=2)"
   ]
  },
  {
   "cell_type": "code",
   "execution_count": null,
   "metadata": {},
   "outputs": [],
   "source": [
    "'''\n",
    "4.全0整数型向量\n",
    "zeros() - 创建给定形状的ndarray，并将数组中所有元素填充为0。\n",
    "\n",
    "np.zeros(shape, dtype=float, order='C')\n",
    "\n",
    "shape — 维度。强制参数。\n",
    "\n",
    "dtype — 数据类型。默认为np.float64。可选参数。\n",
    "\n",
    "order — 数组按一定的顺序排列。C - 按行；F - 按列。默认值为C。可选参数。\n",
    "\n",
    "'''\n",
    "np.zeros(20)"
   ]
  },
  {
   "cell_type": "code",
   "execution_count": null,
   "metadata": {
    "scrolled": true
   },
   "outputs": [],
   "source": [
    "np.zeros(20,dtype=np.int)"
   ]
  },
  {
   "cell_type": "code",
   "execution_count": null,
   "metadata": {},
   "outputs": [],
   "source": [
    "np.zeros((2,3))"
   ]
  },
  {
   "cell_type": "code",
   "execution_count": null,
   "metadata": {},
   "outputs": [],
   "source": [
    "np.zeros((2,3),dtype=np.int)"
   ]
  },
  {
   "cell_type": "code",
   "execution_count": null,
   "metadata": {},
   "outputs": [],
   "source": [
    "'''\n",
    "5.内容随机且依赖内存状态的向量,直接分配了一块未被清空的内存而已，初始值无意义。\n",
    "empty() - 返回一个没有初始化内存的数组，该数组是空的。\n",
    "\n",
    "np.empty(shape, dtype=float, order='C')\n",
    "\n",
    "shape — 维度。强制参数。\n",
    "\n",
    "dtype — 数据类型。默认为np.float64。可选参数。\n",
    "\n",
    "order — 数组按一定的顺序排列。C - 按行；F - 按列。默认值为C。可选参数。\n",
    "\n",
    "'''\n",
    "np.empty(8,dtype=np.int)"
   ]
  },
  {
   "cell_type": "code",
   "execution_count": null,
   "metadata": {
    "scrolled": true
   },
   "outputs": [],
   "source": [
    "np.empty((2,3))"
   ]
  },
  {
   "cell_type": "code",
   "execution_count": null,
   "metadata": {},
   "outputs": [],
   "source": [
    "#6.随机数向量\n",
    "np.random.randn(10)#randn是numpy.random中生成正态分布随机数据的函数"
   ]
  },
  {
   "cell_type": "code",
   "execution_count": null,
   "metadata": {
    "scrolled": true
   },
   "outputs": [],
   "source": [
    "'''\n",
    "7.从字符串创建8bit的整数数组\n",
    "fromstring() - 从字符串中读取数据，并将其转换为一维数组，从字符串到ASCII码的转换。\n",
    "np.fromstring(string, dtype=float, count=-1, sep='')\n",
    "\n",
    "string — 包含数据的字符串。强制参数。\n",
    "\n",
    "dtype — 数据类型，默认为浮点型。可选参数。\n",
    "\n",
    "count — 从左到右读取数据的个数。默认为-1，表示读取所有数据。可选参数。\n",
    "\n",
    "sep — 分隔符。可选参数。\n",
    "当字符串中全为数字时，不管数字之间有没有分隔符，只要sep='',那么数字就按ascii的值解析；\n",
    "如果之间没有间隔，不管sep为不为空，数字也按ascii值解析；如果数字之间有间隔符， 而且\n",
    "sep=''，数字按ascii值解析；如果数字之间有间隔符，sep等于间隔符，数字解析为数字值； \n",
    "其中，空格不可以忽略，也作为一种间隔符。当字母数字混合时，如果有间隔符而且以数字开头\n",
    "的字符串，sep==间隔符， 只解析前几个为数字，然后终止；其他情况都按ascii来解析。\n",
    "'''\n",
    "'''\n",
    "当dtype=int8时，用8个比特位来存储一个整数，当fromstring函数读取字符串string时，\n",
    "首先读取一个dtype的位数，这里即8位int，所以是读取一个字符来进行解析，这样便实\n",
    "现了从字符到ASCII码的转换。\n",
    "'''\n",
    "\n",
    "s='Hello,Python!'\n",
    "np.fromstring(s,dtype=np.int8)"
   ]
  },
  {
   "cell_type": "code",
   "execution_count": null,
   "metadata": {},
   "outputs": [],
   "source": [
    "s='Hello,Python!'\n",
    "np.fromstring(s)"
   ]
  },
  {
   "cell_type": "code",
   "execution_count": null,
   "metadata": {},
   "outputs": [],
   "source": [
    "s='Hello,Python!abc'\n",
    "np.fromstring(s)"
   ]
  },
  {
   "cell_type": "markdown",
   "metadata": {},
   "source": [
    "当dtype=int8时，用8个比特位来存储一个整数，当fromstring函数读取字符串string时，首先读取一个dtype的位数，这里即8位int，所以是读取一个字符来进行解析，这样便实现了从字符到ascii码的转换。\n",
    "\n",
    "当dtype=int16时，用16个bit位来存储一个整数，当fromstring函数读取字符串string时，首先读取一个dtype的位数，这里即16位int，所以是读取2个字符来进行解析，这里是读取ab这两个字符进行解析，字符a在低位 字符b在高位，2个字符当作一个来处理，a的ascii码为97，二进制表示为：01100001，b的ascii码为98，二进制表示为：01100010.，放在一起为(a在低位b在高位)：011100010 01100001，整个二进制转换为十进制即25185；  接下来依次处理cd、ef，相同的处理方式\n",
    "\n",
    "当dtype=int32时，用16个bit位来存储一个整数，当fromstring函数读取字符串string时，首先读取一个dtype的位数，这里即32位int，所以是读取4个字符来进行解析，但是这里有个问题，如果每次读取4个字符进行处理，不能完全凑够4的倍数，就是说先读取abcd，在读取时就只剩下ef了，不够4了，所以这时候就要报错啦。\n",
    "\n",
    "当dtype为其他类型，都是相同的道理，当字符的个数不能刚好凑齐时，就会报错，显示 string size must be a multiple of element size.\n"
   ]
  },
  {
   "cell_type": "code",
   "execution_count": null,
   "metadata": {},
   "outputs": [],
   "source": [
    "np.fromstring('1 2 3', dtype=np.int8, sep=' ')"
   ]
  },
  {
   "cell_type": "code",
   "execution_count": null,
   "metadata": {},
   "outputs": [],
   "source": [
    "np.fromstring('1,2,3', dtype=np.int8, sep=',')"
   ]
  },
  {
   "cell_type": "code",
   "execution_count": null,
   "metadata": {
    "scrolled": true
   },
   "outputs": [],
   "source": [
    "np.fromstring('123',dtype=np.int8)"
   ]
  },
  {
   "cell_type": "code",
   "execution_count": null,
   "metadata": {},
   "outputs": [],
   "source": [
    "'''\n",
    "8.从fromfunction创建数组或向量:\n",
    "fromfunction() - 在每个坐标轴上执行函数表达式，用得到的数据创建数组。\n",
    "\n",
    "np.fromfunction(function, shape, dtype)\n",
    "\n",
    "function — 可调用的函数。必选参数。\n",
    "\n",
    "shape — 要创建的数组的维度。其长度与函数参数的个数一致。必选参数。\n",
    "\n",
    "dtype — 数据类型，默认为浮点型。可选参数。\n",
    "'''"
   ]
  },
  {
   "cell_type": "code",
   "execution_count": null,
   "metadata": {},
   "outputs": [],
   "source": [
    "#课堂练习2，数组元素加1操作，并输出该数组"
   ]
  },
  {
   "cell_type": "code",
   "execution_count": null,
   "metadata": {},
   "outputs": [],
   "source": []
  },
  {
   "cell_type": "code",
   "execution_count": null,
   "metadata": {},
   "outputs": [],
   "source": []
  },
  {
   "cell_type": "code",
   "execution_count": null,
   "metadata": {},
   "outputs": [],
   "source": []
  },
  {
   "cell_type": "code",
   "execution_count": null,
   "metadata": {
    "scrolled": true
   },
   "outputs": [],
   "source": [
    "np.arange(20)"
   ]
  },
  {
   "cell_type": "code",
   "execution_count": null,
   "metadata": {},
   "outputs": [],
   "source": [
    "np.arange(20)+1"
   ]
  },
  {
   "cell_type": "code",
   "execution_count": null,
   "metadata": {},
   "outputs": [],
   "source": [
    "def f(x):\n",
    "    x=x+1\n",
    "    return x\n",
    "\n",
    "np.fromfunction(f,(20,))"
   ]
  },
  {
   "cell_type": "code",
   "execution_count": null,
   "metadata": {},
   "outputs": [],
   "source": [
    "def f1(x,y):\n",
    "    return x\n",
    "\n",
    "def f2(x,y):\n",
    "    return y"
   ]
  },
  {
   "cell_type": "code",
   "execution_count": null,
   "metadata": {},
   "outputs": [],
   "source": [
    "b=np.fromfunction(f1,(5,5),dtype=int)\n",
    "b"
   ]
  },
  {
   "cell_type": "code",
   "execution_count": null,
   "metadata": {},
   "outputs": [],
   "source": [
    "b=np.fromfunction(f2,(5,5),dtype=int)\n",
    "b"
   ]
  },
  {
   "cell_type": "code",
   "execution_count": null,
   "metadata": {
    "scrolled": true
   },
   "outputs": [],
   "source": [
    "def f(x,y):\n",
    "    return 10*x+y\n",
    "\n",
    "np.fromfunction(f,(5,4),dtype=int)"
   ]
  },
  {
   "cell_type": "code",
   "execution_count": null,
   "metadata": {},
   "outputs": [],
   "source": [
    "#课堂练习3：输出九九乘法表"
   ]
  },
  {
   "attachments": {
    "99.png": {
     "image/png": "[encoded data removed]"
    }
   },
   "cell_type": "markdown",
   "metadata": {},
   "source": [
    "![99.png](attachment:99.png)"
   ]
  },
  {
   "cell_type": "code",
   "execution_count": null,
   "metadata": {},
   "outputs": [],
   "source": []
  },
  {
   "cell_type": "code",
   "execution_count": null,
   "metadata": {},
   "outputs": [],
   "source": []
  },
  {
   "cell_type": "code",
   "execution_count": null,
   "metadata": {},
   "outputs": [],
   "source": [
    "#课堂练习3：输出九九乘法表\n",
    "def multiply99(i,j):\n",
    "    return (i+1)*(j+1)\n",
    "\n",
    "np.fromfunction(multiply99,(9,9),dtype=int)\n"
   ]
  },
  {
   "cell_type": "markdown",
   "metadata": {},
   "source": [
    "### 　3.1.2 数组"
   ]
  },
  {
   "cell_type": "code",
   "execution_count": null,
   "metadata": {},
   "outputs": [],
   "source": [
    "import numpy as np"
   ]
  },
  {
   "cell_type": "code",
   "execution_count": null,
   "metadata": {},
   "outputs": [],
   "source": [
    "'''\n",
    "数组（ndarray）由实际数据和描述这些数据的元数据组成。\n",
    "1.使用array函数创建。\n",
    "'''\n",
    "a=np.array([np.arange(3),np.arange(3)])\n",
    "print(a)\n",
    "print(a.shape)\n",
    "print(a.ndim)"
   ]
  },
  {
   "cell_type": "code",
   "execution_count": null,
   "metadata": {
    "scrolled": true
   },
   "outputs": [],
   "source": [
    "'''\n",
    "2.创建一个单位矩阵\n",
    "identity() - 创建单位矩阵，即主对角线上为1而其余位置为0的方阵。\n",
    "\n",
    "identity(n, dtype=None)\n",
    "\n",
    "n — 行数和列数。即生成的是nxn的方阵。强制参数。\n",
    "\n",
    "dtype — 数据类型。默认为浮点数。可选参数。\n",
    "'''\n",
    "np.identity(9,dtype=np.int8)"
   ]
  },
  {
   "cell_type": "code",
   "execution_count": null,
   "metadata": {
    "scrolled": true
   },
   "outputs": [],
   "source": [
    "np.identity(9)"
   ]
  },
  {
   "cell_type": "code",
   "execution_count": null,
   "metadata": {},
   "outputs": [],
   "source": [
    "np.identity(9).astype(np.int8)"
   ]
  },
  {
   "cell_type": "code",
   "execution_count": null,
   "metadata": {},
   "outputs": [],
   "source": [
    "a"
   ]
  },
  {
   "cell_type": "code",
   "execution_count": null,
   "metadata": {
    "scrolled": true
   },
   "outputs": [],
   "source": [
    "'''\n",
    "3.数组可通过tolist()方法转换为列表。\n",
    "'''\n",
    "a.tolist()"
   ]
  },
  {
   "cell_type": "code",
   "execution_count": null,
   "metadata": {
    "scrolled": false
   },
   "outputs": [],
   "source": [
    "type(a.tolist())"
   ]
  },
  {
   "cell_type": "markdown",
   "metadata": {},
   "source": [
    "#### 　　　3.1.2.1 数据类型与结构数组"
   ]
  },
  {
   "cell_type": "code",
   "execution_count": null,
   "metadata": {},
   "outputs": [],
   "source": [
    "#1.数据类型（见教材p89)"
   ]
  },
  {
   "cell_type": "code",
   "execution_count": null,
   "metadata": {
    "scrolled": true
   },
   "outputs": [],
   "source": [
    "np.datetime64(1522987504,'s')#距离1970年1月1日0点时刻的秒数"
   ]
  },
  {
   "cell_type": "code",
   "execution_count": null,
   "metadata": {},
   "outputs": [],
   "source": [
    "np.datetime64('2018-04-07T08:30:45.67')-np.datetime64('2018-04-05T12:35:40.123')"
   ]
  },
  {
   "cell_type": "code",
   "execution_count": null,
   "metadata": {},
   "outputs": [],
   "source": [
    "print(set(np.typeDict.values()))"
   ]
  },
  {
   "cell_type": "code",
   "execution_count": null,
   "metadata": {},
   "outputs": [],
   "source": [
    "#2.结构数组\n",
    "'''\n",
    "自定义数据类型是一种异质结构数据类型，通常用来记录一行数据或一系列数据，即结构数组。\n",
    "'''"
   ]
  },
  {
   "cell_type": "code",
   "execution_count": null,
   "metadata": {
    "scrolled": true
   },
   "outputs": [],
   "source": [
    "#2.1 使用dtype()函数定义字段类型\n",
    "#创建购物清单：商品名称、购买地点、价格、数量。\n",
    "#float32bit,int32bit\n",
    "goodslist=np.dtype([('name',np.str_,50),('location',np.str_,30),('price',np.float32),\n",
    "                   ('volume',np.int32)])\n",
    "goodslist"
   ]
  },
  {
   "cell_type": "code",
   "execution_count": null,
   "metadata": {
    "scrolled": false
   },
   "outputs": [],
   "source": [
    "#2.2 使用np.array()函数构造结构数组，增加4条记录\n",
    "goods=np.array([('Gree Airconditioner','JD.com',6245,1),\n",
    "                ('Sony Blueray Player','Amazon.com',3210,2),\n",
    "                ('Apple Macbook Pro 13','Tmall.com',12388,5),\n",
    "                ('iPhoneSE','JD.com',4588,2)],dtype=goodslist)\n",
    "goods"
   ]
  },
  {
   "cell_type": "code",
   "execution_count": null,
   "metadata": {
    "scrolled": false
   },
   "outputs": [],
   "source": [
    "#2.3使用描述结构类型的各个字段的字典定义结构数组\n",
    "#可以通过符号给出数据类型，比如float64可写为f4byte,i4byte\n",
    "goodsdict=np.dtype({'names':['name','location','price','volume'],\n",
    "                    'formats':['U50','U30','f4','i4']})\n",
    "#增加4条记录\n",
    "goods_new=np.array([('Gree Airconditioner','JD.com',6245,1),\n",
    "                ('Sony Blueray Player','Amazon.com',3210,2),\n",
    "                ('Apple Macbook Pro 13','Tmall.com',12388,5),\n",
    "                ('iPhoneSE','JD.com',4588,2)],dtype=goodsdict)\n",
    "goods_new"
   ]
  },
  {
   "cell_type": "code",
   "execution_count": null,
   "metadata": {},
   "outputs": [],
   "source": [
    "goods_new.shape"
   ]
  },
  {
   "cell_type": "code",
   "execution_count": null,
   "metadata": {},
   "outputs": [],
   "source": [
    "#查看某行，通过索引号\n",
    "goods_new[0]"
   ]
  },
  {
   "cell_type": "code",
   "execution_count": null,
   "metadata": {},
   "outputs": [],
   "source": [
    "goods_new[1]"
   ]
  },
  {
   "cell_type": "code",
   "execution_count": null,
   "metadata": {},
   "outputs": [],
   "source": [
    "#查看某列，通过字段名\n",
    "goods_new['name']"
   ]
  },
  {
   "cell_type": "code",
   "execution_count": null,
   "metadata": {},
   "outputs": [],
   "source": [
    "#查看某个值\n",
    "goods_new['name'][0]"
   ]
  },
  {
   "cell_type": "code",
   "execution_count": null,
   "metadata": {},
   "outputs": [],
   "source": [
    "#查看某个值\n",
    "goods_new[0]['name']"
   ]
  },
  {
   "cell_type": "code",
   "execution_count": null,
   "metadata": {
    "scrolled": true
   },
   "outputs": [],
   "source": [
    "%pwd"
   ]
  },
  {
   "cell_type": "markdown",
   "metadata": {},
   "source": [
    "#### 　　　3.1.2.2 索引与切片"
   ]
  },
  {
   "cell_type": "code",
   "execution_count": null,
   "metadata": {},
   "outputs": [],
   "source": [
    "#1.基本索引与切片\n",
    "'''\n",
    "-- 用中括号\"[]\"选定下标来实现。\n",
    "-- 用start,stop,step来设置。\n",
    "-- 用\":\"分隔起止位置与间隔。\n",
    "-- 用\",\"表示不同维度。\n",
    "-- 用\"...\"表示遍历剩下的维度。\n",
    "\n",
    "'''"
   ]
  },
  {
   "cell_type": "code",
   "execution_count": null,
   "metadata": {},
   "outputs": [],
   "source": [
    "import numpy as np"
   ]
  },
  {
   "cell_type": "code",
   "execution_count": null,
   "metadata": {},
   "outputs": [],
   "source": [
    "#1.1一维数组的索引与切片\n",
    "a=np.arange(1,20,2)\n",
    "a"
   ]
  },
  {
   "cell_type": "code",
   "execution_count": null,
   "metadata": {
    "scrolled": true
   },
   "outputs": [],
   "source": [
    "print(a[3])   #a[起始值:终止值:步长]，终值是必选参数，不包括终止值，起始值默认是0.\n",
    "print(a[1:4])\n",
    "print(a[1:4:2])\n",
    "print(a[:2])\n",
    "print(a[-2])\n",
    "print(a[::-1])#倒序输出"
   ]
  },
  {
   "cell_type": "code",
   "execution_count": null,
   "metadata": {
    "scrolled": true
   },
   "outputs": [],
   "source": [
    "#1.2 多维数组的索引与切片\n",
    "'''\n",
    "reshape() - 改变数组的形状。\n",
    "通过reshape生成的新数组和原始数组共用一个内存，\n",
    "也就是说，若更改其中数组的元素，另一个数组也将发生改变。\n",
    "\n",
    "reshape(a, newshape, order='C')\n",
    "\n",
    "a — 已知数组。强制参数。\n",
    "\n",
    "newshape — 新的维度，为整数或由整数组成的元组。强制参数。\n",
    "\n",
    "order — 数组按一定的顺序排列。C - 按行；F - 按列；\n",
    "         A - 如果输入为F则按列排列，否则按行排列；\n",
    "         K - 与数组a的排列尽可能接近。默认值为C。可选参数。\n",
    "或者写成\n",
    "ndarray1.reshape(newshape)\n",
    "'''\n",
    "a=np.arange(6)\n",
    "a"
   ]
  },
  {
   "cell_type": "code",
   "execution_count": null,
   "metadata": {},
   "outputs": [],
   "source": [
    "b=a.reshape(2,3)\n",
    "b"
   ]
  },
  {
   "cell_type": "code",
   "execution_count": null,
   "metadata": {},
   "outputs": [],
   "source": [
    "b.ndim"
   ]
  },
  {
   "cell_type": "code",
   "execution_count": null,
   "metadata": {},
   "outputs": [],
   "source": [
    "a"
   ]
  },
  {
   "cell_type": "code",
   "execution_count": null,
   "metadata": {},
   "outputs": [],
   "source": [
    "a[0]=10"
   ]
  },
  {
   "cell_type": "code",
   "execution_count": null,
   "metadata": {},
   "outputs": [],
   "source": [
    "a"
   ]
  },
  {
   "cell_type": "code",
   "execution_count": null,
   "metadata": {},
   "outputs": [],
   "source": [
    "b"
   ]
  },
  {
   "cell_type": "code",
   "execution_count": null,
   "metadata": {
    "scrolled": false
   },
   "outputs": [],
   "source": [
    "b=np.arange(24).reshape(2,3,4)\n",
    "b"
   ]
  },
  {
   "cell_type": "code",
   "execution_count": null,
   "metadata": {},
   "outputs": [],
   "source": [
    "b.shape"
   ]
  },
  {
   "cell_type": "code",
   "execution_count": null,
   "metadata": {},
   "outputs": [],
   "source": [
    "b.ndim"
   ]
  },
  {
   "cell_type": "code",
   "execution_count": null,
   "metadata": {},
   "outputs": [],
   "source": [
    "b"
   ]
  },
  {
   "cell_type": "code",
   "execution_count": null,
   "metadata": {
    "scrolled": false
   },
   "outputs": [],
   "source": [
    "#选取某层所有数字\n",
    "#b[起始值:终止值:步长 , 起始值:终止值:步长 , 起始值:终止值:步长]\n",
    "\n",
    "b[0,:,:]  #默认给的是起始值"
   ]
  },
  {
   "cell_type": "code",
   "execution_count": null,
   "metadata": {
    "scrolled": false
   },
   "outputs": [],
   "source": [
    "#选取某层所有数字\n",
    "b[0,...] #多个冒号可以由“...”来代替"
   ]
  },
  {
   "cell_type": "code",
   "execution_count": null,
   "metadata": {
    "scrolled": true
   },
   "outputs": [],
   "source": [
    "#选取某层所有数字\n",
    "b[0] "
   ]
  },
  {
   "cell_type": "code",
   "execution_count": null,
   "metadata": {},
   "outputs": [],
   "source": [
    "#选取某层某行所有数字\n",
    "b[0,1,:]"
   ]
  },
  {
   "cell_type": "code",
   "execution_count": null,
   "metadata": {
    "scrolled": true
   },
   "outputs": [],
   "source": [
    "#选取某层某行所有数字\n",
    "b[0,2,:]"
   ]
  },
  {
   "cell_type": "code",
   "execution_count": null,
   "metadata": {},
   "outputs": [],
   "source": [
    "#选取某层某列所有数字\n",
    "b[0,:,1]"
   ]
  },
  {
   "cell_type": "code",
   "execution_count": null,
   "metadata": {},
   "outputs": [],
   "source": [
    "b"
   ]
  },
  {
   "cell_type": "code",
   "execution_count": null,
   "metadata": {},
   "outputs": [],
   "source": [
    "#选取某行的数字\n",
    "b[:,0]"
   ]
  },
  {
   "cell_type": "code",
   "execution_count": null,
   "metadata": {},
   "outputs": [],
   "source": [
    "#选取某行的数字\n",
    "b[:,1]"
   ]
  },
  {
   "cell_type": "code",
   "execution_count": null,
   "metadata": {},
   "outputs": [],
   "source": [
    "#选取某列的数字\n",
    "b[:,:,1]"
   ]
  },
  {
   "cell_type": "code",
   "execution_count": null,
   "metadata": {},
   "outputs": [],
   "source": [
    "#选取某列的数字\n",
    "b[...,1]"
   ]
  },
  {
   "cell_type": "code",
   "execution_count": null,
   "metadata": {},
   "outputs": [],
   "source": [
    "b"
   ]
  },
  {
   "cell_type": "code",
   "execution_count": null,
   "metadata": {},
   "outputs": [],
   "source": [
    "#选取矩形区域\n",
    "b[0,1:3,0:2]"
   ]
  },
  {
   "cell_type": "code",
   "execution_count": null,
   "metadata": {},
   "outputs": [],
   "source": [
    "#选取某个数字，由外向内逐层选取，也可写成b[1][1][2]\n",
    "b[1,1,2]"
   ]
  },
  {
   "cell_type": "code",
   "execution_count": null,
   "metadata": {},
   "outputs": [],
   "source": [
    "#间隔选取元素，在某层中每隔n行选取该行倒数第m个数,第0层每隔1行选取倒数第2个数。\n",
    "b[0,0:3:2,2] #2为步长"
   ]
  },
  {
   "cell_type": "code",
   "execution_count": null,
   "metadata": {},
   "outputs": [],
   "source": [
    "#间隔选取元素，在某层中每隔n行选取该行倒数第m个数,第0层每隔1行选取倒数第2个数。\n",
    "b[0,::2,-2] #2为步长"
   ]
  },
  {
   "cell_type": "code",
   "execution_count": null,
   "metadata": {},
   "outputs": [],
   "source": [
    "b"
   ]
  },
  {
   "cell_type": "code",
   "execution_count": null,
   "metadata": {},
   "outputs": [],
   "source": [
    "#间隔选取元素，在每层中每隔2行选取该行倒数第2个数。\n",
    "b[:,::2,-2] #2为步长"
   ]
  },
  {
   "cell_type": "code",
   "execution_count": null,
   "metadata": {},
   "outputs": [],
   "source": [
    "goods"
   ]
  },
  {
   "cell_type": "code",
   "execution_count": null,
   "metadata": {},
   "outputs": [],
   "source": [
    "#1.3 结构数组的索引\n",
    "#可以使用字段名对结构数组进行索引\n",
    "#使用字段名索引获取字段内容\n",
    "goods['name']"
   ]
  },
  {
   "cell_type": "code",
   "execution_count": null,
   "metadata": {},
   "outputs": [],
   "source": [
    "goods[0]"
   ]
  },
  {
   "cell_type": "code",
   "execution_count": null,
   "metadata": {},
   "outputs": [],
   "source": [
    "#使用索引号获取行内容\n",
    "goods[3]"
   ]
  },
  {
   "cell_type": "code",
   "execution_count": null,
   "metadata": {
    "scrolled": false
   },
   "outputs": [],
   "source": [
    "goods[3]['name']"
   ]
  },
  {
   "cell_type": "code",
   "execution_count": null,
   "metadata": {
    "scrolled": true
   },
   "outputs": [],
   "source": [
    "sum(goods['volume'])"
   ]
  },
  {
   "cell_type": "code",
   "execution_count": null,
   "metadata": {},
   "outputs": [],
   "source": [
    "# 2.逻辑索引\n",
    "# 也称布尔型索引、条件索引，可以通过指定布尔数组或者条件进行索引。"
   ]
  },
  {
   "cell_type": "code",
   "execution_count": null,
   "metadata": {},
   "outputs": [],
   "source": [
    "b"
   ]
  },
  {
   "cell_type": "code",
   "execution_count": null,
   "metadata": {
    "scrolled": true
   },
   "outputs": [],
   "source": [
    "#2.1 条件索引\n",
    "b>=15"
   ]
  },
  {
   "cell_type": "code",
   "execution_count": null,
   "metadata": {
    "scrolled": true
   },
   "outputs": [],
   "source": [
    "#2.1 条件索引\n",
    "b[b>=15]"
   ]
  },
  {
   "cell_type": "code",
   "execution_count": null,
   "metadata": {},
   "outputs": [],
   "source": [
    "b"
   ]
  },
  {
   "cell_type": "code",
   "execution_count": null,
   "metadata": {},
   "outputs": [],
   "source": [
    "b[~(b>=15)]"
   ]
  },
  {
   "cell_type": "code",
   "execution_count": null,
   "metadata": {},
   "outputs": [],
   "source": [
    "(b>=5) & (b<=15) #逻辑运算符and or在布尔数组中无效。"
   ]
  },
  {
   "cell_type": "code",
   "execution_count": null,
   "metadata": {},
   "outputs": [],
   "source": [
    "b[(b>=5) & (b<=15)] #逻辑运算符and or在布尔数组中无效。"
   ]
  },
  {
   "cell_type": "code",
   "execution_count": null,
   "metadata": {},
   "outputs": [],
   "source": [
    "b"
   ]
  },
  {
   "cell_type": "code",
   "execution_count": null,
   "metadata": {},
   "outputs": [],
   "source": [
    "#2.2 布尔数组进行布尔型索引\n",
    "#创建一个布尔型数组(一般是一维数组)，将其用于对数组b的布尔型索引,\n",
    "#因为b是三维数组，所以第一个布尔型数组对应b的每一层，且布尔型数组元素的个数要与b的层的个数一致\n",
    "#第二个布尔型数组对应b的每一行，且个数一致，以此类推。\n",
    "b_bool1=np.array([False,True],dtype=bool)\n",
    "b[b_bool1]"
   ]
  },
  {
   "cell_type": "code",
   "execution_count": null,
   "metadata": {},
   "outputs": [],
   "source": [
    "b"
   ]
  },
  {
   "cell_type": "code",
   "execution_count": null,
   "metadata": {},
   "outputs": [],
   "source": [
    "#创建一个布尔型数组，将其用于对数组b的布尔型索引\n",
    "b_bool2=np.array([False,True,True],dtype=bool)\n",
    "b_bool3=np.array([False,True,True,False],dtype=bool)\n",
    "b[b_bool1,b_bool2]"
   ]
  },
  {
   "cell_type": "code",
   "execution_count": null,
   "metadata": {},
   "outputs": [],
   "source": [
    "#数组做下标或者下标是数组b[[1],[1,2],[1,2]]\n",
    "#如果下标是数组，截取的不是矩形区域，而是下标的匹配，可以选取不连续的元素\n",
    "#匹配后的下标为b[1,1,1]和b[1,2,2]"
   ]
  },
  {
   "cell_type": "code",
   "execution_count": null,
   "metadata": {},
   "outputs": [],
   "source": [
    "b[[1],[1,2],[1,2]]"
   ]
  },
  {
   "cell_type": "code",
   "execution_count": null,
   "metadata": {},
   "outputs": [],
   "source": [
    "#创建一个布尔型数组，将其用于对数组b的布尔型索引\n",
    "#b[[1],[1,2],[1,2]]\n",
    "#b[1,1,1]和b[1,2,2]\n",
    "b[b_bool1,b_bool2,b_bool3]#表示下标"
   ]
  },
  {
   "cell_type": "code",
   "execution_count": null,
   "metadata": {},
   "outputs": [],
   "source": [
    "\"\"\"\n",
    "b[[],[],[]]显示层的个数，行的个数，列的个数，要互相匹配\n",
    "如果显示层1，即显示层的个数是1，那么可匹配显示多行多列\n",
    "如果显示层0和层1，即显示层的个数是2，那么只能显示小于等于2行2列，\n",
    "如果显示2行，只能显示小于等于2列\n",
    "\"\"\""
   ]
  },
  {
   "cell_type": "code",
   "execution_count": null,
   "metadata": {},
   "outputs": [],
   "source": [
    "# 3.花式索引:利用整数数组进行索引，可使用指定顺序对数组提取子集。"
   ]
  },
  {
   "cell_type": "code",
   "execution_count": null,
   "metadata": {},
   "outputs": [],
   "source": [
    "b"
   ]
  },
  {
   "cell_type": "code",
   "execution_count": null,
   "metadata": {
    "scrolled": false
   },
   "outputs": [],
   "source": [
    "#选取某层所有数字\n",
    "b[[0]]"
   ]
  },
  {
   "cell_type": "code",
   "execution_count": null,
   "metadata": {},
   "outputs": [],
   "source": [
    "#选取某层某行所有数字\n",
    "b[[0],[1]]"
   ]
  },
  {
   "cell_type": "code",
   "execution_count": null,
   "metadata": {
    "scrolled": true
   },
   "outputs": [],
   "source": [
    "#选取某层某列所有数字\n",
    "b[[0],[0,1,2],[3]]"
   ]
  },
  {
   "cell_type": "code",
   "execution_count": null,
   "metadata": {},
   "outputs": [],
   "source": [
    "#选取某行的数字\n",
    "b[[0,1],[2]]"
   ]
  },
  {
   "cell_type": "code",
   "execution_count": null,
   "metadata": {
    "scrolled": false
   },
   "outputs": [],
   "source": [
    "#选取某列的数字\n",
    "b[[0,1],[2],[2]]"
   ]
  },
  {
   "cell_type": "code",
   "execution_count": null,
   "metadata": {},
   "outputs": [],
   "source": [
    "#选取矩形区域\n",
    "b[[0],[1,2],[0,1]]"
   ]
  },
  {
   "cell_type": "code",
   "execution_count": null,
   "metadata": {},
   "outputs": [],
   "source": [
    "b"
   ]
  },
  {
   "cell_type": "code",
   "execution_count": null,
   "metadata": {
    "scrolled": true
   },
   "outputs": [],
   "source": [
    "#ix_函数可以将若干一维整数数组转换为一个用于选取矩形区域的索引器：\n",
    "b[np.ix_([0],[1,2],[0,1])]"
   ]
  },
  {
   "cell_type": "code",
   "execution_count": null,
   "metadata": {},
   "outputs": [],
   "source": [
    "b[np.ix_([1,0],[2,1],[0,3,2])]"
   ]
  },
  {
   "cell_type": "code",
   "execution_count": null,
   "metadata": {},
   "outputs": [],
   "source": [
    "'''\n",
    "3.3 数组切片的浅复制\n",
    "数组切片是原始数组的视图(view)，它与原始数组共享一块数据存储空间，\n",
    "即：数据不会被复制， 视图上的任何修改都会直接反映到原始数组，如果\n",
    "需要数组切片是一个副本而不是视图，可以用copy方法进行浅复制。\n",
    "'''\n",
    "b=np.arange(24).reshape(2,3,4)\n",
    "b"
   ]
  },
  {
   "cell_type": "code",
   "execution_count": null,
   "metadata": {},
   "outputs": [],
   "source": [
    "b_slice=b[0,1,1:3]\n",
    "b_copy=b[0,1,1:3].copy()\n",
    "b_slice"
   ]
  },
  {
   "cell_type": "code",
   "execution_count": null,
   "metadata": {
    "scrolled": true
   },
   "outputs": [],
   "source": [
    "b_copy"
   ]
  },
  {
   "cell_type": "code",
   "execution_count": null,
   "metadata": {},
   "outputs": [],
   "source": [
    "b_slice[1]=666\n",
    "b_slice"
   ]
  },
  {
   "cell_type": "code",
   "execution_count": null,
   "metadata": {
    "scrolled": true
   },
   "outputs": [],
   "source": [
    "b"
   ]
  },
  {
   "cell_type": "code",
   "execution_count": null,
   "metadata": {},
   "outputs": [],
   "source": [
    "b_copy[1]=999\n",
    "b_copy"
   ]
  },
  {
   "cell_type": "code",
   "execution_count": null,
   "metadata": {
    "scrolled": true
   },
   "outputs": [],
   "source": [
    "b"
   ]
  },
  {
   "cell_type": "code",
   "execution_count": null,
   "metadata": {},
   "outputs": [],
   "source": []
  }
 ],
 "metadata": {
  "kernelspec": {
   "display_name": "base",
   "language": "python",
   "name": "python3"
  },
  "language_info": {
   "codemirror_mode": {
    "name": "ipython",
    "version": 3
   },
   "file_extension": ".py",
   "mimetype": "text/x-python",
   "name": "python",
   "nbconvert_exporter": "python",
   "pygments_lexer": "ipython3",
   "version": "3.12.7"
  }
 },
 "nbformat": 4,
 "nbformat_minor": 2
}
