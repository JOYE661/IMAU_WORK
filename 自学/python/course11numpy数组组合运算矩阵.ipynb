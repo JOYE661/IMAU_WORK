{
 "cells": [
  {
   "cell_type": "markdown",
   "metadata": {},
   "source": [
    "  \n",
    "# <font color=gray>第3章 数据预处理</font>\n",
    "## <font color=gray>3.1 numpy基础\n",
    "### 　<font color=gray>3.1.1 向量\n",
    "### 　<font color=gray>3.1.2 数组\n",
    "#### 　　　<font color=gray>3.1.2.1 数据类型与结构数组\n",
    "#### 　　　<font color=gray>3.1.2.2 索引与切片\n",
    "#### 　　　<font color=gray>3.1.2.3 数组的属性\n",
    "#### 　　　<font color=gray>3.1.2.4 数组排序\n",
    "#### 　　　<font color=gray>3.1.2.5 数组维度\n",
    "#### 　　　3.1.2.6 数组组合\n",
    "#### 　　　3.1.2.7 数组分拆\n",
    "#### 　　　3.1.2.8 ufunc运算\n",
    "###### 　　　　1.标准函数\n",
    "###### 　　　　2.自定义函数\n",
    "###### 　　　　3.广播\n",
    "###### 　　　　4.方法\n",
    "### 　3.1.3 矩阵\n",
    "### 　3.1.4 文件读写"
   ]
  },
  {
   "cell_type": "markdown",
   "metadata": {},
   "source": [
    "#### 　　　3.1.2.6 数组组合"
   ]
  },
  {
   "cell_type": "code",
   "execution_count": null,
   "metadata": {},
   "outputs": [],
   "source": [
    "'''\n",
    "numpy的数组组合可以分为：\n",
    "-- 水平组合(hstack)\n",
    "-- 垂直组合(vstack)\n",
    "-- 深度组合(dstack)\n",
    "-- 列组合(column_stack)\n",
    "-- 行组合(row_stack)\n",
    "'''"
   ]
  },
  {
   "cell_type": "code",
   "execution_count": null,
   "metadata": {},
   "outputs": [],
   "source": [
    "'''\n",
    "1.水平组合：\n",
    "即把所有参加组合的数组拼接起来，各数组行数应当相等。\n",
    "0 0 0     1 1 1 1 1\n",
    "0 0 0     1 1 1 1 1\n",
    "第2个数组的列追加到第1个数组列右侧。\n",
    "'''"
   ]
  },
  {
   "cell_type": "code",
   "execution_count": 1,
   "metadata": {
    "scrolled": false
   },
   "outputs": [
    {
     "name": "stdout",
     "output_type": "stream",
     "text": [
      "[[0 1 2]\n",
      " [3 4 5]\n",
      " [6 7 8]]\n"
     ]
    }
   ],
   "source": [
    "import numpy as np\n",
    "a=np.arange(9).reshape(3,3)\n",
    "print(a)"
   ]
  },
  {
   "cell_type": "code",
   "execution_count": 2,
   "metadata": {},
   "outputs": [
    {
     "name": "stdout",
     "output_type": "stream",
     "text": [
      "[[ 0 11 22 33]\n",
      " [44 55 66 77]\n",
      " [88 99  0 11]]\n"
     ]
    }
   ],
   "source": [
    "b=np.array([[0,11,22,33],[44,55,66,77],[88,99,0,11]])\n",
    "print(b)"
   ]
  },
  {
   "cell_type": "code",
   "execution_count": 3,
   "metadata": {},
   "outputs": [
    {
     "data": {
      "text/plain": [
       "array([[ 0,  1,  2,  0, 11, 22, 33],\n",
       "       [ 3,  4,  5, 44, 55, 66, 77],\n",
       "       [ 6,  7,  8, 88, 99,  0, 11]])"
      ]
     },
     "execution_count": 3,
     "metadata": {},
     "output_type": "execute_result"
    }
   ],
   "source": [
    "'''\n",
    "本函数的参数只有一个，应当把要参加组合的数组对象以元组的形式作为参数。\n",
    "'''\n",
    "np.hstack((a,b))"
   ]
  },
  {
   "cell_type": "code",
   "execution_count": 4,
   "metadata": {
    "scrolled": true
   },
   "outputs": [
    {
     "ename": "TypeError",
     "evalue": "hstack() takes 1 positional argument but 2 were given",
     "output_type": "error",
     "traceback": [
      "\u001b[1;31m---------------------------------------------------------------------------\u001b[0m",
      "\u001b[1;31mTypeError\u001b[0m                                 Traceback (most recent call last)",
      "\u001b[1;32m<ipython-input-4-42109af8c86a>\u001b[0m in \u001b[0;36m<module>\u001b[1;34m()\u001b[0m\n\u001b[0;32m      2\u001b[0m \u001b[0m本函数的参数只有一个\u001b[0m\u001b[0;31m，\u001b[0m\u001b[0m应当把要参加组合的数组对象以元组的形式作为参数\u001b[0m\u001b[0;31m。\u001b[0m\u001b[1;33m\u001b[0m\u001b[0m\n\u001b[0;32m      3\u001b[0m '''\n\u001b[1;32m----> 4\u001b[1;33m \u001b[0mnp\u001b[0m\u001b[1;33m.\u001b[0m\u001b[0mhstack\u001b[0m\u001b[1;33m(\u001b[0m\u001b[0ma\u001b[0m\u001b[1;33m,\u001b[0m\u001b[0mb\u001b[0m\u001b[1;33m)\u001b[0m\u001b[1;33m\u001b[0m\u001b[0m\n\u001b[0m",
      "\u001b[1;31mTypeError\u001b[0m: hstack() takes 1 positional argument but 2 were given"
     ]
    }
   ],
   "source": [
    "'''\n",
    "本函数的参数只有一个，应当把要参加组合的数组对象以元组的形式作为参数。\n",
    "'''\n",
    "np.hstack(a,b)"
   ]
  },
  {
   "cell_type": "code",
   "execution_count": 5,
   "metadata": {
    "scrolled": true
   },
   "outputs": [
    {
     "name": "stdout",
     "output_type": "stream",
     "text": [
      "[[ 0 11 22]\n",
      " [44 55 66]\n",
      " [88 99  0]\n",
      " [22 33 44]]\n"
     ]
    }
   ],
   "source": [
    "'''\n",
    "如果参加组合的各数组的行不一致，则系统会提示错误信息。\n",
    "'''\n",
    "c=np.array([[0,11,22],[44,55,66],[88,99,0],[22,33,44]])\n",
    "print(c)"
   ]
  },
  {
   "cell_type": "code",
   "execution_count": 6,
   "metadata": {
    "scrolled": true
   },
   "outputs": [
    {
     "ename": "ValueError",
     "evalue": "all the input array dimensions except for the concatenation axis must match exactly",
     "output_type": "error",
     "traceback": [
      "\u001b[1;31m---------------------------------------------------------------------------\u001b[0m",
      "\u001b[1;31mValueError\u001b[0m                                Traceback (most recent call last)",
      "\u001b[1;32m<ipython-input-6-958d06a29319>\u001b[0m in \u001b[0;36m<module>\u001b[1;34m()\u001b[0m\n\u001b[0;32m      2\u001b[0m \u001b[0m如果参加组合的各数组的行不一致\u001b[0m\u001b[0;31m，\u001b[0m\u001b[0m则系统会提示错误信息\u001b[0m\u001b[0;31m。\u001b[0m\u001b[1;33m\u001b[0m\u001b[0m\n\u001b[0;32m      3\u001b[0m '''\n\u001b[1;32m----> 4\u001b[1;33m \u001b[0mnp\u001b[0m\u001b[1;33m.\u001b[0m\u001b[0mhstack\u001b[0m\u001b[1;33m(\u001b[0m\u001b[1;33m(\u001b[0m\u001b[0ma\u001b[0m\u001b[1;33m,\u001b[0m\u001b[0mc\u001b[0m\u001b[1;33m)\u001b[0m\u001b[1;33m)\u001b[0m\u001b[1;33m\u001b[0m\u001b[0m\n\u001b[0m",
      "\u001b[1;32mC:\\Anaconda3\\lib\\site-packages\\numpy\\core\\shape_base.py\u001b[0m in \u001b[0;36mhstack\u001b[1;34m(tup)\u001b[0m\n\u001b[0;32m    286\u001b[0m         \u001b[1;32mreturn\u001b[0m \u001b[0m_nx\u001b[0m\u001b[1;33m.\u001b[0m\u001b[0mconcatenate\u001b[0m\u001b[1;33m(\u001b[0m\u001b[0marrs\u001b[0m\u001b[1;33m,\u001b[0m \u001b[1;36m0\u001b[0m\u001b[1;33m)\u001b[0m\u001b[1;33m\u001b[0m\u001b[0m\n\u001b[0;32m    287\u001b[0m     \u001b[1;32melse\u001b[0m\u001b[1;33m:\u001b[0m\u001b[1;33m\u001b[0m\u001b[0m\n\u001b[1;32m--> 288\u001b[1;33m         \u001b[1;32mreturn\u001b[0m \u001b[0m_nx\u001b[0m\u001b[1;33m.\u001b[0m\u001b[0mconcatenate\u001b[0m\u001b[1;33m(\u001b[0m\u001b[0marrs\u001b[0m\u001b[1;33m,\u001b[0m \u001b[1;36m1\u001b[0m\u001b[1;33m)\u001b[0m\u001b[1;33m\u001b[0m\u001b[0m\n\u001b[0m\u001b[0;32m    289\u001b[0m \u001b[1;33m\u001b[0m\u001b[0m\n\u001b[0;32m    290\u001b[0m \u001b[1;33m\u001b[0m\u001b[0m\n",
      "\u001b[1;31mValueError\u001b[0m: all the input array dimensions except for the concatenation axis must match exactly"
     ]
    }
   ],
   "source": [
    "'''\n",
    "如果参加组合的各数组的行不一致，则系统会提示错误信息。\n",
    "'''\n",
    "np.hstack((a,c))"
   ]
  },
  {
   "cell_type": "markdown",
   "metadata": {},
   "source": [
    "总结：行数一致，以元组形式给出参数。"
   ]
  },
  {
   "cell_type": "code",
   "execution_count": null,
   "metadata": {},
   "outputs": [],
   "source": [
    "'''\n",
    "2.垂直组合：\n",
    "即把所有参加组合的数组追加在一起，各数组列数应一致。\n",
    "如果参加组合的各数组的列不一致，则系统会提示错误信息。\n",
    "0 0 0\n",
    "0 0 0 \n",
    "\n",
    "1 1 1\n",
    "1 1 1\n",
    "1 1 1\n",
    "第2个数组的行追加到第1个数组的行后面。\n",
    "'''"
   ]
  },
  {
   "cell_type": "code",
   "execution_count": 84,
   "metadata": {},
   "outputs": [
    {
     "data": {
      "text/plain": [
       "array([[ 0,  1,  2],\n",
       "       [ 3,  4,  5],\n",
       "       [ 6,  7,  8],\n",
       "       [ 0, 11, 22],\n",
       "       [44, 55, 66],\n",
       "       [88, 99,  0],\n",
       "       [22, 33, 44]])"
      ]
     },
     "execution_count": 84,
     "metadata": {},
     "output_type": "execute_result"
    }
   ],
   "source": [
    "np.vstack((a,c))"
   ]
  },
  {
   "cell_type": "code",
   "execution_count": null,
   "metadata": {},
   "outputs": [],
   "source": []
  },
  {
   "cell_type": "code",
   "execution_count": null,
   "metadata": {},
   "outputs": [],
   "source": [
    "'''\n",
    "numpy.concatenate 函数用于沿指定轴连接相同形状的两个或多个数组。\n",
    "numpy.concatenate((a1, a2, ...), axis)\n",
    "\n",
    "a1, a2, ...：相同类型的数组\n",
    "axis：沿着它连接数组的轴，默认为 0\n",
    "'''"
   ]
  },
  {
   "cell_type": "code",
   "execution_count": 8,
   "metadata": {
    "scrolled": true
   },
   "outputs": [
    {
     "data": {
      "text/plain": [
       "array([[ 0,  1,  2],\n",
       "       [ 3,  4,  5],\n",
       "       [ 6,  7,  8],\n",
       "       [ 0, 11, 22],\n",
       "       [44, 55, 66],\n",
       "       [88, 99,  0],\n",
       "       [22, 33, 44]])"
      ]
     },
     "execution_count": 8,
     "metadata": {},
     "output_type": "execute_result"
    }
   ],
   "source": [
    "np.concatenate((a,c),axis=0)"
   ]
  },
  {
   "cell_type": "code",
   "execution_count": 7,
   "metadata": {
    "scrolled": true
   },
   "outputs": [
    {
     "data": {
      "text/plain": [
       "array([[ 0,  1,  2],\n",
       "       [ 3,  4,  5],\n",
       "       [ 6,  7,  8],\n",
       "       [ 0, 11, 22],\n",
       "       [44, 55, 66],\n",
       "       [88, 99,  0],\n",
       "       [22, 33, 44]])"
      ]
     },
     "execution_count": 7,
     "metadata": {},
     "output_type": "execute_result"
    }
   ],
   "source": [
    "np.concatenate((a,c))"
   ]
  },
  {
   "cell_type": "code",
   "execution_count": 9,
   "metadata": {
    "scrolled": true
   },
   "outputs": [
    {
     "data": {
      "text/plain": [
       "array([[ 0,  1,  2,  0, 11, 22, 33],\n",
       "       [ 3,  4,  5, 44, 55, 66, 77],\n",
       "       [ 6,  7,  8, 88, 99,  0, 11]])"
      ]
     },
     "execution_count": 9,
     "metadata": {},
     "output_type": "execute_result"
    }
   ],
   "source": [
    "np.concatenate((a,b),axis=1)"
   ]
  },
  {
   "cell_type": "code",
   "execution_count": null,
   "metadata": {},
   "outputs": [],
   "source": [
    "#课堂练习1：\n",
    "#生成以下三个全0、全1和全2的数组，数组名分别为k1 、k2和k3\n",
    "0 0 0     1 1 1 1   2 2 2 2 \n",
    "0 0 0     1 1 1 1   2 2 2 2 \n",
    "                    2 2 2 2 \n",
    "#要求利用np.hstack np.vstack和np.concatenate完成两数组的水平和垂直组合。"
   ]
  },
  {
   "cell_type": "code",
   "execution_count": 39,
   "metadata": {},
   "outputs": [
    {
     "data": {
      "text/plain": [
       "array([[0, 0, 0],\n",
       "       [0, 0, 0]])"
      ]
     },
     "execution_count": 39,
     "metadata": {},
     "output_type": "execute_result"
    }
   ],
   "source": [
    "k1=np.zeros((2,3),dtype=int)\n",
    "k1"
   ]
  },
  {
   "cell_type": "code",
   "execution_count": 40,
   "metadata": {
    "scrolled": true
   },
   "outputs": [
    {
     "data": {
      "text/plain": [
       "array([[1, 1, 1, 1],\n",
       "       [1, 1, 1, 1]])"
      ]
     },
     "execution_count": 40,
     "metadata": {},
     "output_type": "execute_result"
    }
   ],
   "source": [
    "k2=np.ones((2,4),dtype=int)\n",
    "k2"
   ]
  },
  {
   "cell_type": "code",
   "execution_count": 41,
   "metadata": {
    "scrolled": true
   },
   "outputs": [
    {
     "data": {
      "text/plain": [
       "array([[2, 2, 2, 2],\n",
       "       [2, 2, 2, 2],\n",
       "       [2, 2, 2, 2]])"
      ]
     },
     "execution_count": 41,
     "metadata": {},
     "output_type": "execute_result"
    }
   ],
   "source": [
    "k3=np.ones((3,4),dtype=int)+1\n",
    "k3"
   ]
  },
  {
   "cell_type": "code",
   "execution_count": 42,
   "metadata": {},
   "outputs": [
    {
     "data": {
      "text/plain": [
       "array([[0, 0, 0, 1, 1, 1, 1],\n",
       "       [0, 0, 0, 1, 1, 1, 1]])"
      ]
     },
     "execution_count": 42,
     "metadata": {},
     "output_type": "execute_result"
    }
   ],
   "source": [
    "#水平\n",
    "np.hstack((k1,k2))"
   ]
  },
  {
   "cell_type": "code",
   "execution_count": 43,
   "metadata": {},
   "outputs": [
    {
     "data": {
      "text/plain": [
       "array([[0, 0, 0, 1, 1, 1, 1],\n",
       "       [0, 0, 0, 1, 1, 1, 1]])"
      ]
     },
     "execution_count": 43,
     "metadata": {},
     "output_type": "execute_result"
    }
   ],
   "source": [
    "np.concatenate((k1,k2),axis=1)"
   ]
  },
  {
   "cell_type": "code",
   "execution_count": 44,
   "metadata": {
    "scrolled": true
   },
   "outputs": [
    {
     "data": {
      "text/plain": [
       "array([[1, 1, 1, 1],\n",
       "       [1, 1, 1, 1],\n",
       "       [2, 2, 2, 2],\n",
       "       [2, 2, 2, 2],\n",
       "       [2, 2, 2, 2]])"
      ]
     },
     "execution_count": 44,
     "metadata": {},
     "output_type": "execute_result"
    }
   ],
   "source": [
    "#垂直\n",
    "np.vstack((k2,k3))"
   ]
  },
  {
   "cell_type": "code",
   "execution_count": 45,
   "metadata": {
    "scrolled": true
   },
   "outputs": [
    {
     "data": {
      "text/plain": [
       "array([[1, 1, 1, 1],\n",
       "       [1, 1, 1, 1],\n",
       "       [2, 2, 2, 2],\n",
       "       [2, 2, 2, 2],\n",
       "       [2, 2, 2, 2]])"
      ]
     },
     "execution_count": 45,
     "metadata": {},
     "output_type": "execute_result"
    }
   ],
   "source": [
    "np.concatenate((k2,k3),axis=0)"
   ]
  },
  {
   "cell_type": "code",
   "execution_count": null,
   "metadata": {},
   "outputs": [],
   "source": []
  },
  {
   "cell_type": "code",
   "execution_count": null,
   "metadata": {},
   "outputs": [],
   "source": [
    "'''\n",
    "3.深度组合：\n",
    "即将参加组合的各数组相同位置的数据合在一起。\n",
    "要求所有数组维度属性要相同，类似于数组叠加。\n",
    "0 0 0   1 1 1\n",
    "0 0 0   1 1 1\n",
    "叠加后2个数组就有2列。\n",
    "'''"
   ]
  },
  {
   "cell_type": "code",
   "execution_count": 46,
   "metadata": {
    "scrolled": true
   },
   "outputs": [
    {
     "ename": "ValueError",
     "evalue": "all the input array dimensions except for the concatenation axis must match exactly",
     "output_type": "error",
     "traceback": [
      "\u001b[1;31m---------------------------------------------------------------------------\u001b[0m",
      "\u001b[1;31mValueError\u001b[0m                                Traceback (most recent call last)",
      "\u001b[1;32m<ipython-input-46-6d5af771dee5>\u001b[0m in \u001b[0;36m<module>\u001b[1;34m()\u001b[0m\n\u001b[1;32m----> 1\u001b[1;33m \u001b[0mnp\u001b[0m\u001b[1;33m.\u001b[0m\u001b[0mdstack\u001b[0m\u001b[1;33m(\u001b[0m\u001b[1;33m(\u001b[0m\u001b[0ma\u001b[0m\u001b[1;33m,\u001b[0m\u001b[0mb\u001b[0m\u001b[1;33m)\u001b[0m\u001b[1;33m)\u001b[0m\u001b[1;33m\u001b[0m\u001b[0m\n\u001b[0m",
      "\u001b[1;32mC:\\ProgramData\\Anaconda3\\lib\\site-packages\\numpy\\lib\\shape_base.py\u001b[0m in \u001b[0;36mdstack\u001b[1;34m(tup)\u001b[0m\n\u001b[0;32m    419\u001b[0m \u001b[1;33m\u001b[0m\u001b[0m\n\u001b[0;32m    420\u001b[0m     \"\"\"\n\u001b[1;32m--> 421\u001b[1;33m     \u001b[1;32mreturn\u001b[0m \u001b[0m_nx\u001b[0m\u001b[1;33m.\u001b[0m\u001b[0mconcatenate\u001b[0m\u001b[1;33m(\u001b[0m\u001b[1;33m[\u001b[0m\u001b[0matleast_3d\u001b[0m\u001b[1;33m(\u001b[0m\u001b[0m_m\u001b[0m\u001b[1;33m)\u001b[0m \u001b[1;32mfor\u001b[0m \u001b[0m_m\u001b[0m \u001b[1;32min\u001b[0m \u001b[0mtup\u001b[0m\u001b[1;33m]\u001b[0m\u001b[1;33m,\u001b[0m \u001b[1;36m2\u001b[0m\u001b[1;33m)\u001b[0m\u001b[1;33m\u001b[0m\u001b[0m\n\u001b[0m\u001b[0;32m    422\u001b[0m \u001b[1;33m\u001b[0m\u001b[0m\n\u001b[0;32m    423\u001b[0m \u001b[1;32mdef\u001b[0m \u001b[0m_replace_zero_by_x_arrays\u001b[0m\u001b[1;33m(\u001b[0m\u001b[0msub_arys\u001b[0m\u001b[1;33m)\u001b[0m\u001b[1;33m:\u001b[0m\u001b[1;33m\u001b[0m\u001b[0m\n",
      "\u001b[1;31mValueError\u001b[0m: all the input array dimensions except for the concatenation axis must match exactly"
     ]
    }
   ],
   "source": [
    "np.dstack((a,b))"
   ]
  },
  {
   "cell_type": "code",
   "execution_count": null,
   "metadata": {},
   "outputs": [],
   "source": []
  },
  {
   "cell_type": "code",
   "execution_count": null,
   "metadata": {},
   "outputs": [],
   "source": [
    "'''\n",
    "numpy.delete 函数返回从输入数组中删除指定子数组的新数组。\n",
    "\n",
    "numpy.delete(arr, obj, axis)\n",
    "\n",
    "arr：输入数组\n",
    "obj：可以是整数、整数数组或切片，对应的是删除某行/列，不连续的某几行/列，连续的某几行/列。\n",
    "axis：沿着它删除给定子数组的轴，如果未提供，则输入数组会被展开\n",
    "'''"
   ]
  },
  {
   "cell_type": "code",
   "execution_count": 10,
   "metadata": {
    "scrolled": false
   },
   "outputs": [
    {
     "name": "stdout",
     "output_type": "stream",
     "text": [
      "[[ 0  1  2  3]\n",
      " [ 4  5  6  7]\n",
      " [ 8  9 10 11]]\n"
     ]
    }
   ],
   "source": [
    "abc = np.arange(12).reshape(3,4)\n",
    "print (abc)"
   ]
  },
  {
   "cell_type": "code",
   "execution_count": 11,
   "metadata": {},
   "outputs": [
    {
     "name": "stdout",
     "output_type": "stream",
     "text": [
      "未传递 Axis 参数。 在删除之前输入数组会被展开。\n",
      "[ 0  1  2  3  4  6  7  8  9 10 11]\n"
     ]
    }
   ],
   "source": [
    "#删除某一个元素\n",
    "print ('未传递 Axis 参数。 在删除之前输入数组会被展开。')\n",
    "print (np.delete(abc,5))"
   ]
  },
  {
   "cell_type": "code",
   "execution_count": 12,
   "metadata": {
    "scrolled": true
   },
   "outputs": [
    {
     "name": "stdout",
     "output_type": "stream",
     "text": [
      "[ 0  2  4  6  8 10]\n"
     ]
    }
   ],
   "source": [
    "#删除某几个元素，可以是连续的，也可以是不连续的。\n",
    "abc = np.arange(12)\n",
    "print (np.delete(abc,[1,3,5,7,9,11]))"
   ]
  },
  {
   "cell_type": "code",
   "execution_count": 13,
   "metadata": {
    "scrolled": false
   },
   "outputs": [
    {
     "ename": "SyntaxError",
     "evalue": "invalid syntax (<ipython-input-13-e21e161b0633>, line 3)",
     "output_type": "error",
     "traceback": [
      "\u001b[1;36m  File \u001b[1;32m\"<ipython-input-13-e21e161b0633>\"\u001b[1;36m, line \u001b[1;32m3\u001b[0m\n\u001b[1;33m    print (np.delete(abc,[1:12:2]))#通过切片指定删除的子数组a[1:9:2]\u001b[0m\n\u001b[1;37m                           ^\u001b[0m\n\u001b[1;31mSyntaxError\u001b[0m\u001b[1;31m:\u001b[0m invalid syntax\n"
     ]
    }
   ],
   "source": [
    "print ('包含从数组中删除的替代值的切片：')\n",
    "abc = np.arange(12)\n",
    "print (np.delete(abc,[1:12:2]))#通过切片指定删除的子数组a[1:9:2]"
   ]
  },
  {
   "cell_type": "code",
   "execution_count": 14,
   "metadata": {
    "scrolled": true
   },
   "outputs": [
    {
     "name": "stdout",
     "output_type": "stream",
     "text": [
      "包含从数组中删除的替代值的切片：\n",
      "[ 0  2  4  6  8 10]\n"
     ]
    }
   ],
   "source": [
    "print ('包含从数组中删除的替代值的切片：')\n",
    "abc = np.arange(12)\n",
    "print (np.delete(abc, np.s_[1:12:2]))#通过切片指定删除的子数组a[1:9:2]"
   ]
  },
  {
   "cell_type": "code",
   "execution_count": 2,
   "metadata": {
    "scrolled": true
   },
   "outputs": [
    {
     "name": "stdout",
     "output_type": "stream",
     "text": [
      "Help on IndexExpression in module numpy.lib.index_tricks object:\n",
      "\n",
      "class IndexExpression(builtins.object)\n",
      " |  A nicer way to build up index tuples for arrays.\n",
      " |  \n",
      " |  .. note::\n",
      " |     Use one of the two predefined instances `index_exp` or `s_`\n",
      " |     rather than directly using `IndexExpression`.\n",
      " |  \n",
      " |  For any index combination, including slicing and axis insertion,\n",
      " |  ``a[indices]`` is the same as ``a[np.index_exp[indices]]`` for any\n",
      " |  array `a`. However, ``np.index_exp[indices]`` can be used anywhere\n",
      " |  in Python code and returns a tuple of slice objects that can be\n",
      " |  used in the construction of complex index expressions.\n",
      " |  \n",
      " |  Parameters\n",
      " |  ----------\n",
      " |  maketuple : bool\n",
      " |      If True, always returns a tuple.\n",
      " |  \n",
      " |  See Also\n",
      " |  --------\n",
      " |  index_exp : Predefined instance that always returns a tuple:\n",
      " |     `index_exp = IndexExpression(maketuple=True)`.\n",
      " |  s_ : Predefined instance without tuple conversion:\n",
      " |     `s_ = IndexExpression(maketuple=False)`.\n",
      " |  \n",
      " |  Notes\n",
      " |  -----\n",
      " |  You can do all this with `slice()` plus a few special objects,\n",
      " |  but there's a lot to remember and this version is simpler because\n",
      " |  it uses the standard array indexing syntax.\n",
      " |  \n",
      " |  Examples\n",
      " |  --------\n",
      " |  >>> np.s_[2::2]\n",
      " |  slice(2, None, 2)\n",
      " |  >>> np.index_exp[2::2]\n",
      " |  (slice(2, None, 2),)\n",
      " |  \n",
      " |  >>> np.array([0, 1, 2, 3, 4])[np.s_[2::2]]\n",
      " |  array([2, 4])\n",
      " |  \n",
      " |  Methods defined here:\n",
      " |  \n",
      " |  __getitem__(self, item)\n",
      " |  \n",
      " |  __init__(self, maketuple)\n",
      " |      Initialize self.  See help(type(self)) for accurate signature.\n",
      " |  \n",
      " |  ----------------------------------------------------------------------\n",
      " |  Data descriptors defined here:\n",
      " |  \n",
      " |  __dict__\n",
      " |      dictionary for instance variables (if defined)\n",
      " |  \n",
      " |  __weakref__\n",
      " |      list of weak references to the object (if defined)\n",
      "\n"
     ]
    }
   ],
   "source": [
    "import numpy as np\n",
    "help(np.s_)"
   ]
  },
  {
   "cell_type": "code",
   "execution_count": 52,
   "metadata": {
    "scrolled": true
   },
   "outputs": [
    {
     "name": "stdout",
     "output_type": "stream",
     "text": [
      "删除第二列：\n",
      "[[ 0  2  3]\n",
      " [ 4  6  7]\n",
      " [ 8 10 11]]\n"
     ]
    }
   ],
   "source": [
    "abc = np.arange(12).reshape(3,4)\n",
    "print ('删除第二列：')\n",
    "print (np.delete(abc,1,axis = 1))"
   ]
  },
  {
   "cell_type": "code",
   "execution_count": 53,
   "metadata": {},
   "outputs": [
    {
     "name": "stdout",
     "output_type": "stream",
     "text": [
      "删除第二、三列：\n",
      "[[ 0  3]\n",
      " [ 4  7]\n",
      " [ 8 11]]\n"
     ]
    }
   ],
   "source": [
    "#删除数组abc的第二、三列。\n",
    "abc = np.arange(12).reshape(3,4)\n",
    "print ('删除第二、三列：')\n",
    "print (np.delete(abc,[1,2],axis = 1))"
   ]
  },
  {
   "cell_type": "code",
   "execution_count": 54,
   "metadata": {},
   "outputs": [
    {
     "name": "stdout",
     "output_type": "stream",
     "text": [
      "删除前三列：\n",
      "[[ 3]\n",
      " [ 7]\n",
      " [11]]\n"
     ]
    }
   ],
   "source": [
    "#删除数组abc的前三列。\n",
    "abc = np.arange(12).reshape(3,4)\n",
    "print ('删除前三列：')\n",
    "print (np.delete(abc,np.s_[0:3],axis = 1))"
   ]
  },
  {
   "cell_type": "code",
   "execution_count": 55,
   "metadata": {
    "scrolled": true
   },
   "outputs": [
    {
     "name": "stdout",
     "output_type": "stream",
     "text": [
      "删除第二行：\n",
      "[[ 0  1  2  3]\n",
      " [ 8  9 10 11]]\n"
     ]
    }
   ],
   "source": [
    "#删除数组abc的第二行。\n",
    "abc = np.arange(12).reshape(3,4)\n",
    "print ('删除第二行：')\n",
    "print (np.delete(abc,1,axis =0))"
   ]
  },
  {
   "cell_type": "code",
   "execution_count": null,
   "metadata": {},
   "outputs": [],
   "source": [
    "#课堂练习：删除数组b的最后一列生成数组d，完成ad深度组合。"
   ]
  },
  {
   "cell_type": "code",
   "execution_count": 56,
   "metadata": {
    "scrolled": false
   },
   "outputs": [
    {
     "name": "stdout",
     "output_type": "stream",
     "text": [
      "[[ 0 11 22]\n",
      " [44 55 66]\n",
      " [88 99  0]]\n"
     ]
    }
   ],
   "source": [
    "d=np.delete(b,3,axis=1)\n",
    "print(d)"
   ]
  },
  {
   "cell_type": "code",
   "execution_count": 57,
   "metadata": {
    "scrolled": true
   },
   "outputs": [
    {
     "data": {
      "text/plain": [
       "array([[[ 0,  0],\n",
       "        [ 1, 11],\n",
       "        [ 2, 22]],\n",
       "\n",
       "       [[ 3, 44],\n",
       "        [ 4, 55],\n",
       "        [ 5, 66]],\n",
       "\n",
       "       [[ 6, 88],\n",
       "        [ 7, 99],\n",
       "        [ 8,  0]]])"
      ]
     },
     "execution_count": 57,
     "metadata": {},
     "output_type": "execute_result"
    }
   ],
   "source": [
    "#深度组合后数组形状（3，3，2），\n",
    "#两个数组的各行元素组成了各层元素，行数决定了层数\n",
    "#列数决定行数\n",
    "#组合数组的个数决定列数\n",
    "np.dstack((a,d))"
   ]
  },
  {
   "cell_type": "code",
   "execution_count": null,
   "metadata": {},
   "outputs": [],
   "source": [
    "#课堂练习：完成k1、k2的深度组合"
   ]
  },
  {
   "cell_type": "code",
   "execution_count": null,
   "metadata": {},
   "outputs": [],
   "source": []
  },
  {
   "cell_type": "code",
   "execution_count": null,
   "metadata": {},
   "outputs": [],
   "source": []
  },
  {
   "cell_type": "code",
   "execution_count": null,
   "metadata": {},
   "outputs": [],
   "source": []
  },
  {
   "cell_type": "code",
   "execution_count": null,
   "metadata": {},
   "outputs": [],
   "source": []
  },
  {
   "cell_type": "code",
   "execution_count": 58,
   "metadata": {},
   "outputs": [
    {
     "name": "stdout",
     "output_type": "stream",
     "text": [
      "[[1 1 1]\n",
      " [1 1 1]]\n"
     ]
    }
   ],
   "source": [
    "k4=np.delete(k2,3,axis=1)\n",
    "print(k4)"
   ]
  },
  {
   "cell_type": "code",
   "execution_count": 59,
   "metadata": {},
   "outputs": [
    {
     "data": {
      "text/plain": [
       "array([[[0, 1],\n",
       "        [0, 1],\n",
       "        [0, 1]],\n",
       "\n",
       "       [[0, 1],\n",
       "        [0, 1],\n",
       "        [0, 1]]])"
      ]
     },
     "execution_count": 59,
     "metadata": {},
     "output_type": "execute_result"
    }
   ],
   "source": [
    "np.dstack((k1,k4))"
   ]
  },
  {
   "cell_type": "code",
   "execution_count": null,
   "metadata": {},
   "outputs": [],
   "source": []
  },
  {
   "cell_type": "code",
   "execution_count": 5,
   "metadata": {},
   "outputs": [
    {
     "name": "stdout",
     "output_type": "stream",
     "text": [
      "[0 1 2 3]\n",
      "**********************\n",
      "[0 2 4 6]\n"
     ]
    },
    {
     "data": {
      "text/plain": [
       "array([[0, 0],\n",
       "       [1, 2],\n",
       "       [2, 4],\n",
       "       [3, 6]])"
      ]
     },
     "execution_count": 5,
     "metadata": {},
     "output_type": "execute_result"
    }
   ],
   "source": [
    "'''\n",
    "4.列组合(左右拼接)\n",
    "-- 对于一维数组按列方向进行组合，不是简单的追加列。\n",
    "   而是两个数组中相同位置的元素叠加，维度由1维增加为2维。\n",
    "   元素个数决定新数组行，数组个数决定新数组列\n",
    "-- 对于二维数组，column_stack与hstack（追加列）效果相同\n",
    "'''\n",
    "a1=np.arange(4)\n",
    "a2=np.arange(4)*2\n",
    "print(a1)\n",
    "print(\"**********************\")\n",
    "print(a2)\n",
    "#a3=np.arange(4)\n",
    "np.column_stack((a1,a2))"
   ]
  },
  {
   "cell_type": "code",
   "execution_count": 6,
   "metadata": {},
   "outputs": [
    {
     "name": "stdout",
     "output_type": "stream",
     "text": [
      "[[0 1]\n",
      " [2 3]]\n",
      "**********************\n",
      "[[0 2]\n",
      " [4 6]]\n"
     ]
    },
    {
     "data": {
      "text/plain": [
       "array([[0, 1, 0, 2],\n",
       "       [2, 3, 4, 6]])"
      ]
     },
     "execution_count": 6,
     "metadata": {},
     "output_type": "execute_result"
    }
   ],
   "source": [
    "a1=np.arange(4).reshape(2,2)\n",
    "a2=(np.arange(4)*2).reshape(2,2)\n",
    "print(a1)\n",
    "print(\"**********************\")\n",
    "print(a2)\n",
    "np.column_stack((a1,a2))"
   ]
  },
  {
   "cell_type": "code",
   "execution_count": 7,
   "metadata": {},
   "outputs": [
    {
     "name": "stdout",
     "output_type": "stream",
     "text": [
      "[0 1 2 3]\n",
      "**********************\n",
      "[0 2 4 6]\n"
     ]
    },
    {
     "data": {
      "text/plain": [
       "array([[0, 1, 2, 3],\n",
       "       [0, 2, 4, 6]])"
      ]
     },
     "execution_count": 7,
     "metadata": {},
     "output_type": "execute_result"
    }
   ],
   "source": [
    "'''\n",
    "5.行组合（row_stack）(上下拼接)\n",
    "-- 对于一维数组按行方向组合（追加行），维度由1维增加为2维。\n",
    "-- 对于二维数组，与vstack效果相同（追加行）。\n",
    "\n",
    "'''\n",
    "a1=np.arange(4)\n",
    "a2=np.arange(4)*2\n",
    "print(a1)\n",
    "print(\"**********************\")\n",
    "print(a2)\n",
    "np.row_stack((a1,a2))#第一个数组是第一行，第二个数组是第二行。"
   ]
  },
  {
   "cell_type": "code",
   "execution_count": 8,
   "metadata": {},
   "outputs": [
    {
     "name": "stdout",
     "output_type": "stream",
     "text": [
      "[[0 1]\n",
      " [2 3]]\n",
      "**********************\n",
      "[[0 2]\n",
      " [4 6]]\n"
     ]
    },
    {
     "data": {
      "text/plain": [
       "array([[0, 1],\n",
       "       [2, 3],\n",
       "       [0, 2],\n",
       "       [4, 6]])"
      ]
     },
     "execution_count": 8,
     "metadata": {},
     "output_type": "execute_result"
    }
   ],
   "source": [
    "a1=np.arange(4).reshape(2,2)\n",
    "a2=(np.arange(4)*2).reshape(2,2)\n",
    "print(a1)\n",
    "print(\"**********************\")\n",
    "print(a2)\n",
    "np.row_stack((a1,a2))"
   ]
  },
  {
   "cell_type": "markdown",
   "metadata": {},
   "source": [
    "#### 　　　3.1.2.7 数组分拆"
   ]
  },
  {
   "cell_type": "code",
   "execution_count": null,
   "metadata": {},
   "outputs": [],
   "source": [
    "'''\n",
    "-- 水平分拆（hsplit）\n",
    "-- 垂直分拆（vsplit）\n",
    "-- 深度分拆（dsplit）\n",
    "-- 各种分拆（split）\n",
    "数据分拆的结果是一个由数组作为元素构成的列表。\n",
    "'''"
   ]
  },
  {
   "cell_type": "code",
   "execution_count": 62,
   "metadata": {
    "scrolled": true
   },
   "outputs": [
    {
     "name": "stdout",
     "output_type": "stream",
     "text": [
      "[[0 1 2]\n",
      " [3 4 5]\n",
      " [6 7 8]]\n"
     ]
    }
   ],
   "source": [
    "'''\n",
    "1.水平分拆：沿着水平方向进行分拆，纵向按列拆。\n",
    "数据分拆结果返回的是列表，而列表中的元素才是numpy数组。\n",
    "'''\n",
    "a=np.arange(9).reshape(3,3)\n",
    "print(a)"
   ]
  },
  {
   "cell_type": "code",
   "execution_count": 63,
   "metadata": {
    "scrolled": true
   },
   "outputs": [
    {
     "name": "stdout",
     "output_type": "stream",
     "text": [
      "[array([[0],\n",
      "       [3],\n",
      "       [6]]), array([[1],\n",
      "       [4],\n",
      "       [7]]), array([[2],\n",
      "       [5],\n",
      "       [8]])]\n"
     ]
    }
   ],
   "source": [
    "ahs=np.hsplit(a,3)#数组的列数应该能整除拆分的个数\n",
    "print(ahs)"
   ]
  },
  {
   "cell_type": "code",
   "execution_count": 64,
   "metadata": {},
   "outputs": [
    {
     "data": {
      "text/plain": [
       "list"
      ]
     },
     "execution_count": 64,
     "metadata": {},
     "output_type": "execute_result"
    }
   ],
   "source": [
    "type(ahs)"
   ]
  },
  {
   "cell_type": "code",
   "execution_count": 65,
   "metadata": {},
   "outputs": [
    {
     "data": {
      "text/plain": [
       "numpy.ndarray"
      ]
     },
     "execution_count": 65,
     "metadata": {},
     "output_type": "execute_result"
    }
   ],
   "source": [
    "type(ahs[1])"
   ]
  },
  {
   "cell_type": "code",
   "execution_count": null,
   "metadata": {},
   "outputs": [],
   "source": [
    "'''\n",
    "2.垂直分拆：\n",
    "vsplit和split函数均可实现把数组沿着垂直方向进行分拆的功能，横向按行拆。\n",
    "'''"
   ]
  },
  {
   "cell_type": "code",
   "execution_count": 24,
   "metadata": {
    "scrolled": true
   },
   "outputs": [
    {
     "data": {
      "text/plain": [
       "[array([[0, 1, 2]]), array([[3, 4, 5]]), array([[6, 7, 8]])]"
      ]
     },
     "execution_count": 24,
     "metadata": {},
     "output_type": "execute_result"
    }
   ],
   "source": [
    "np.vsplit(a,3)"
   ]
  },
  {
   "cell_type": "code",
   "execution_count": null,
   "metadata": {},
   "outputs": [],
   "source": []
  },
  {
   "cell_type": "code",
   "execution_count": null,
   "metadata": {},
   "outputs": [],
   "source": [
    "'''\n",
    "numpy.split 函数沿特定的轴将数组分割为子数组\n",
    "\n",
    "numpy.split(ary, indices_or_sections, axis)\n",
    "\n",
    "ary：被分割的数组\n",
    "indices_or_sections：如果是一个整数，就用该数平均切分，\n",
    "                     如果是一个数组，为沿轴切分的位置（左闭右开）\n",
    "axis：沿着哪个维度进行切分，默认为0，横向切分。为1时，纵向切分\n",
    "'''"
   ]
  },
  {
   "cell_type": "code",
   "execution_count": 68,
   "metadata": {
    "scrolled": false
   },
   "outputs": [
    {
     "data": {
      "text/plain": [
       "[array([[0],\n",
       "        [3],\n",
       "        [6]]), array([[1],\n",
       "        [4],\n",
       "        [7]]), array([[2],\n",
       "        [5],\n",
       "        [8]])]"
      ]
     },
     "execution_count": 68,
     "metadata": {},
     "output_type": "execute_result"
    }
   ],
   "source": [
    "#split函数水平分拆，按列拆\n",
    "np.split(a,3,axis=1)"
   ]
  },
  {
   "cell_type": "code",
   "execution_count": 69,
   "metadata": {
    "scrolled": true
   },
   "outputs": [
    {
     "data": {
      "text/plain": [
       "[array([[0, 1, 2]]), array([[3, 4, 5]]), array([[6, 7, 8]])]"
      ]
     },
     "execution_count": 69,
     "metadata": {},
     "output_type": "execute_result"
    }
   ],
   "source": [
    "#split函数垂直分拆，按行拆\n",
    "np.split(a,3,axis=0)"
   ]
  },
  {
   "cell_type": "code",
   "execution_count": 67,
   "metadata": {},
   "outputs": [
    {
     "name": "stdout",
     "output_type": "stream",
     "text": [
      "Help on function split in module numpy.lib.shape_base:\n",
      "\n",
      "split(ary, indices_or_sections, axis=0)\n",
      "    Split an array into multiple sub-arrays.\n",
      "    \n",
      "    Parameters\n",
      "    ----------\n",
      "    ary : ndarray\n",
      "        Array to be divided into sub-arrays.\n",
      "    indices_or_sections : int or 1-D array\n",
      "        If `indices_or_sections` is an integer, N, the array will be divided\n",
      "        into N equal arrays along `axis`.  If such a split is not possible,\n",
      "        an error is raised.\n",
      "    \n",
      "        If `indices_or_sections` is a 1-D array of sorted integers, the entries\n",
      "        indicate where along `axis` the array is split.  For example,\n",
      "        ``[2, 3]`` would, for ``axis=0``, result in\n",
      "    \n",
      "          - ary[:2]\n",
      "          - ary[2:3]\n",
      "          - ary[3:]\n",
      "    \n",
      "        If an index exceeds the dimension of the array along `axis`,\n",
      "        an empty sub-array is returned correspondingly.\n",
      "    axis : int, optional\n",
      "        The axis along which to split, default is 0.\n",
      "    \n",
      "    Returns\n",
      "    -------\n",
      "    sub-arrays : list of ndarrays\n",
      "        A list of sub-arrays.\n",
      "    \n",
      "    Raises\n",
      "    ------\n",
      "    ValueError\n",
      "        If `indices_or_sections` is given as an integer, but\n",
      "        a split does not result in equal division.\n",
      "    \n",
      "    See Also\n",
      "    --------\n",
      "    array_split : Split an array into multiple sub-arrays of equal or\n",
      "                  near-equal size.  Does not raise an exception if\n",
      "                  an equal division cannot be made.\n",
      "    hsplit : Split array into multiple sub-arrays horizontally (column-wise).\n",
      "    vsplit : Split array into multiple sub-arrays vertically (row wise).\n",
      "    dsplit : Split array into multiple sub-arrays along the 3rd axis (depth).\n",
      "    concatenate : Join a sequence of arrays along an existing axis.\n",
      "    stack : Join a sequence of arrays along a new axis.\n",
      "    hstack : Stack arrays in sequence horizontally (column wise).\n",
      "    vstack : Stack arrays in sequence vertically (row wise).\n",
      "    dstack : Stack arrays in sequence depth wise (along third dimension).\n",
      "    \n",
      "    Examples\n",
      "    --------\n",
      "    >>> x = np.arange(9.0)\n",
      "    >>> np.split(x, 3)\n",
      "    [array([ 0.,  1.,  2.]), array([ 3.,  4.,  5.]), array([ 6.,  7.,  8.])]\n",
      "    \n",
      "    >>> x = np.arange(8.0)\n",
      "    >>> np.split(x, [3, 5, 6, 10])\n",
      "    [array([ 0.,  1.,  2.]),\n",
      "     array([ 3.,  4.]),\n",
      "     array([ 5.]),\n",
      "     array([ 6.,  7.]),\n",
      "     array([], dtype=float64)]\n",
      "\n"
     ]
    }
   ],
   "source": [
    "help(np.split)"
   ]
  },
  {
   "cell_type": "code",
   "execution_count": 9,
   "metadata": {},
   "outputs": [
    {
     "data": {
      "text/plain": [
       "array([0., 1., 2., 3., 4., 5., 6., 7.])"
      ]
     },
     "execution_count": 9,
     "metadata": {},
     "output_type": "execute_result"
    }
   ],
   "source": [
    "x=np.arange(8.0)\n",
    "x"
   ]
  },
  {
   "cell_type": "code",
   "execution_count": 70,
   "metadata": {},
   "outputs": [
    {
     "data": {
      "text/plain": [
       "array([[[ 0,  1,  2],\n",
       "        [ 3,  4,  5]],\n",
       "\n",
       "       [[ 6,  7,  8],\n",
       "        [ 9, 10, 11]]])"
      ]
     },
     "execution_count": 70,
     "metadata": {},
     "output_type": "execute_result"
    }
   ],
   "source": [
    "'''\n",
    "3.深度分拆：\n",
    "按照深度方向分拆3个维度以上（含）的数组：\n",
    "'''\n",
    "ads=np.arange(12)\n",
    "ads.shape=(2,2,3)\n",
    "ads"
   ]
  },
  {
   "cell_type": "code",
   "execution_count": 71,
   "metadata": {},
   "outputs": [
    {
     "name": "stdout",
     "output_type": "stream",
     "text": [
      "Help on function dsplit in module numpy.lib.shape_base:\n",
      "\n",
      "dsplit(ary, indices_or_sections)\n",
      "    Split array into multiple sub-arrays along the 3rd axis (depth).\n",
      "    \n",
      "    Please refer to the `split` documentation.  `dsplit` is equivalent\n",
      "    to `split` with ``axis=2``, the array is always split along the third\n",
      "    axis provided the array dimension is greater than or equal to 3.\n",
      "    \n",
      "    See Also\n",
      "    --------\n",
      "    split : Split an array into multiple sub-arrays of equal size.\n",
      "    \n",
      "    Examples\n",
      "    --------\n",
      "    >>> x = np.arange(16.0).reshape(2, 2, 4)\n",
      "    >>> x\n",
      "    array([[[  0.,   1.,   2.,   3.],\n",
      "            [  4.,   5.,   6.,   7.]],\n",
      "           [[  8.,   9.,  10.,  11.],\n",
      "            [ 12.,  13.,  14.,  15.]]])\n",
      "    >>> np.dsplit(x, 2)\n",
      "    [array([[[  0.,   1.],\n",
      "            [  4.,   5.]],\n",
      "           [[  8.,   9.],\n",
      "            [ 12.,  13.]]]),\n",
      "     array([[[  2.,   3.],\n",
      "            [  6.,   7.]],\n",
      "           [[ 10.,  11.],\n",
      "            [ 14.,  15.]]])]\n",
      "    >>> np.dsplit(x, np.array([3, 6]))\n",
      "    [array([[[  0.,   1.,   2.],\n",
      "            [  4.,   5.,   6.]],\n",
      "           [[  8.,   9.,  10.],\n",
      "            [ 12.,  13.,  14.]]]),\n",
      "     array([[[  3.],\n",
      "            [  7.]],\n",
      "           [[ 11.],\n",
      "            [ 15.]]]),\n",
      "     array([], dtype=float64)]\n",
      "\n"
     ]
    }
   ],
   "source": [
    "help(np.dsplit)"
   ]
  },
  {
   "cell_type": "code",
   "execution_count": 72,
   "metadata": {
    "scrolled": false
   },
   "outputs": [
    {
     "data": {
      "text/plain": [
       "[array([[[0],\n",
       "         [3]],\n",
       " \n",
       "        [[6],\n",
       "         [9]]]), array([[[ 1],\n",
       "         [ 4]],\n",
       " \n",
       "        [[ 7],\n",
       "         [10]]]), array([[[ 2],\n",
       "         [ 5]],\n",
       " \n",
       "        [[ 8],\n",
       "         [11]]])]"
      ]
     },
     "execution_count": 72,
     "metadata": {},
     "output_type": "execute_result"
    }
   ],
   "source": [
    "np.dsplit(ads,3)#按列分拆成3个3维数组。"
   ]
  },
  {
   "cell_type": "code",
   "execution_count": null,
   "metadata": {},
   "outputs": [],
   "source": [
    "#课堂练习：利用np.hsplit、np.vsplit和np.split完成数组c的水平和垂直分拆。"
   ]
  },
  {
   "cell_type": "code",
   "execution_count": null,
   "metadata": {},
   "outputs": [],
   "source": []
  },
  {
   "cell_type": "code",
   "execution_count": null,
   "metadata": {},
   "outputs": [],
   "source": []
  },
  {
   "cell_type": "code",
   "execution_count": null,
   "metadata": {},
   "outputs": [],
   "source": []
  },
  {
   "cell_type": "code",
   "execution_count": null,
   "metadata": {},
   "outputs": [],
   "source": []
  },
  {
   "cell_type": "code",
   "execution_count": null,
   "metadata": {},
   "outputs": [],
   "source": []
  },
  {
   "cell_type": "code",
   "execution_count": null,
   "metadata": {},
   "outputs": [],
   "source": []
  },
  {
   "cell_type": "code",
   "execution_count": null,
   "metadata": {},
   "outputs": [],
   "source": []
  },
  {
   "cell_type": "code",
   "execution_count": 25,
   "metadata": {},
   "outputs": [
    {
     "name": "stdout",
     "output_type": "stream",
     "text": [
      "[[ 0 11 22]\n",
      " [44 55 66]\n",
      " [88 99  0]\n",
      " [22 33 44]]\n"
     ]
    },
    {
     "data": {
      "text/plain": [
       "[array([[ 0],\n",
       "        [44],\n",
       "        [88],\n",
       "        [22]]), array([[11],\n",
       "        [55],\n",
       "        [99],\n",
       "        [33]]), array([[22],\n",
       "        [66],\n",
       "        [ 0],\n",
       "        [44]])]"
      ]
     },
     "execution_count": 25,
     "metadata": {},
     "output_type": "execute_result"
    }
   ],
   "source": [
    "#水平分拆\n",
    "c=np.array([[0,11,22],[44,55,66],[88,99,0],[22,33,44]])\n",
    "print(c)\n",
    "np.hsplit(c,3)"
   ]
  },
  {
   "cell_type": "code",
   "execution_count": 75,
   "metadata": {
    "scrolled": true
   },
   "outputs": [
    {
     "data": {
      "text/plain": [
       "[array([[ 0],\n",
       "        [44],\n",
       "        [88],\n",
       "        [22]]), array([[11],\n",
       "        [55],\n",
       "        [99],\n",
       "        [33]]), array([[22],\n",
       "        [66],\n",
       "        [ 0],\n",
       "        [44]])]"
      ]
     },
     "execution_count": 75,
     "metadata": {},
     "output_type": "execute_result"
    }
   ],
   "source": [
    "np.split(c,3,axis=1)"
   ]
  },
  {
   "cell_type": "code",
   "execution_count": 76,
   "metadata": {},
   "outputs": [
    {
     "data": {
      "text/plain": [
       "[array([[ 0, 11, 22]]),\n",
       " array([[44, 55, 66]]),\n",
       " array([[88, 99,  0]]),\n",
       " array([[22, 33, 44]])]"
      ]
     },
     "execution_count": 76,
     "metadata": {},
     "output_type": "execute_result"
    }
   ],
   "source": [
    "#垂直分拆\n",
    "np.vsplit(c,4)"
   ]
  },
  {
   "cell_type": "code",
   "execution_count": 77,
   "metadata": {},
   "outputs": [
    {
     "data": {
      "text/plain": [
       "[array([[ 0, 11, 22]]),\n",
       " array([[44, 55, 66]]),\n",
       " array([[88, 99,  0]]),\n",
       " array([[22, 33, 44]])]"
      ]
     },
     "execution_count": 77,
     "metadata": {},
     "output_type": "execute_result"
    }
   ],
   "source": [
    "np.split(c,4,axis=0)"
   ]
  },
  {
   "cell_type": "code",
   "execution_count": null,
   "metadata": {},
   "outputs": [],
   "source": []
  },
  {
   "cell_type": "markdown",
   "metadata": {},
   "source": [
    "#### 　　　3.1.2.8 ufunc运算"
   ]
  },
  {
   "cell_type": "code",
   "execution_count": 1,
   "metadata": {},
   "outputs": [],
   "source": [
    "'''\n",
    "ufunc(universal function)是一种能对数组中每个元素进行操作的函数。\n",
    "这些函数可以进行四则运算、比较运算以及布尔运算等。\n",
    "numpy内置的许多ufunc函数计算速度非常快。\n",
    "可以使用“out=”关键字来指定把函数返回结果存储在指定数组中。\n",
    "可以使用frompyfunc函数自定义ufunc函数。\n",
    "'''\n",
    "import numpy as np"
   ]
  },
  {
   "cell_type": "code",
   "execution_count": 11,
   "metadata": {},
   "outputs": [
    {
     "data": {
      "text/plain": [
       "array([0, 1, 2, 3, 4, 5, 6, 7, 8, 9])"
      ]
     },
     "execution_count": 11,
     "metadata": {},
     "output_type": "execute_result"
    }
   ],
   "source": [
    "'''\n",
    "1.函数运算、比较运算与布尔运算\n",
    "'''\n",
    "#函数运算\n",
    "a1=np.arange(10)\n",
    "a1"
   ]
  },
  {
   "cell_type": "code",
   "execution_count": 12,
   "metadata": {},
   "outputs": [
    {
     "data": {
      "text/plain": [
       "array([ 0,  2,  4,  6,  8, 10, 12, 14, 16, 18])"
      ]
     },
     "execution_count": 12,
     "metadata": {},
     "output_type": "execute_result"
    }
   ],
   "source": [
    "a2=np.arange(0,20,2)\n",
    "a2"
   ]
  },
  {
   "cell_type": "code",
   "execution_count": 13,
   "metadata": {},
   "outputs": [
    {
     "name": "stdout",
     "output_type": "stream",
     "text": [
      "[ 0  3  6  9 12 15 18 21 24 27]\n",
      "[ 0  3  6  9 12 15 18 21 24 27]\n"
     ]
    }
   ],
   "source": [
    "a3=np.add(a1,a2,out=a1)\n",
    "print(a3)\n",
    "print(a1)"
   ]
  },
  {
   "cell_type": "code",
   "execution_count": 31,
   "metadata": {},
   "outputs": [
    {
     "data": {
      "text/plain": [
       "True"
      ]
     },
     "execution_count": 31,
     "metadata": {},
     "output_type": "execute_result"
    }
   ],
   "source": [
    "'''\n",
    "使用out关键字指定数组与通常使用赋值方式得到的函数运算结果数组是绑定到同一个对象的\n",
    "'''\n",
    "id(a3)==id(a1)"
   ]
  },
  {
   "cell_type": "code",
   "execution_count": null,
   "metadata": {},
   "outputs": [],
   "source": [
    "#比较运算"
   ]
  },
  {
   "cell_type": "code",
   "execution_count": 32,
   "metadata": {
    "scrolled": true
   },
   "outputs": [
    {
     "data": {
      "text/plain": [
       "array([False,  True,  True,  True,  True,  True,  True,  True,  True,\n",
       "        True])"
      ]
     },
     "execution_count": 32,
     "metadata": {},
     "output_type": "execute_result"
    }
   ],
   "source": [
    "a1>a2 #比较两个数组中的元素，返回值是数组。"
   ]
  },
  {
   "cell_type": "code",
   "execution_count": null,
   "metadata": {},
   "outputs": [],
   "source": [
    "#布尔运算"
   ]
  },
  {
   "cell_type": "code",
   "execution_count": 6,
   "metadata": {},
   "outputs": [
    {
     "data": {
      "text/plain": [
       "False"
      ]
     },
     "execution_count": 6,
     "metadata": {},
     "output_type": "execute_result"
    }
   ],
   "source": [
    "#比较两个数组而不是其中的元素，可以做一次与运算，所有元素为True，输出为True。\n",
    "np.all(a1>a2)"
   ]
  },
  {
   "cell_type": "code",
   "execution_count": 7,
   "metadata": {
    "scrolled": true
   },
   "outputs": [
    {
     "data": {
      "text/plain": [
       "True"
      ]
     },
     "execution_count": 7,
     "metadata": {},
     "output_type": "execute_result"
    }
   ],
   "source": [
    "#可以做一次或运算,任意一个元素为True，输出为True。\n",
    "np.any(a1>a2)"
   ]
  },
  {
   "cell_type": "code",
   "execution_count": 33,
   "metadata": {},
   "outputs": [
    {
     "name": "stdout",
     "output_type": "stream",
     "text": [
      "328 ms ± 12.9 ms per loop (mean ± std. dev. of 7 runs, 1 loop each)\n",
      "135 ms ± 3.37 ms per loop (mean ± std. dev. of 7 runs, 10 loops each)\n"
     ]
    }
   ],
   "source": [
    "'''\n",
    "numpy的ufunc运算要比python内置函数运算速度快（在第3.1小节中本书已经展示过），如\n",
    "给定相同的一系列元素，使得每个元素都求平方，比较二者的运算速度。\n",
    "'''\n",
    "def mathcal(n):\n",
    "    s=[]\n",
    "    for i in range(n+1):\n",
    "        s.append(i**2)\n",
    "    return\n",
    "\n",
    "def ufuncal(n):\n",
    "    s=np.array(range(n+1))**2\n",
    "    return\n",
    "\n",
    "%timeit mathcal(1000000)\n",
    "%timeit ufuncal(1000000)"
   ]
  },
  {
   "cell_type": "code",
   "execution_count": 34,
   "metadata": {},
   "outputs": [
    {
     "data": {
      "text/plain": [
       "array([92.19544457292888, 88.88194417315589, 76.15773105863909,\n",
       "       100.99504938362078, 78.74007874011811], dtype=object)"
      ]
     },
     "execution_count": 34,
     "metadata": {},
     "output_type": "execute_result"
    }
   ],
   "source": [
    "'''\n",
    "2.自定义ufunc函数\n",
    "通过numpy提供的标准ufunc函数，可以组合出复杂的表达式，但有些时候，用户需要自定义\n",
    "函数对数组元素进行操作，这时可以用frompyfunc函数将一个计算单个元素的函数转换成\n",
    "ufunc函数。\n",
    "\n",
    "frompyfunc(func,nin,nout)\n",
    "\n",
    "nin： 函数输入参数的个数\n",
    "nout：函数返回值的个数\n",
    "\n",
    "如在考试中，由于出题难度偏大，需要对所有人的分数进行提升，并且保持分数的相对\n",
    "位置不变，可以编制一个函数：\n",
    "'''\n",
    "import numpy as np\n",
    "def liftscore(n):\n",
    "    n_new=np.sqrt((n^2)*100)\n",
    "    return n_new\n",
    "\n",
    "score=np.array([87,77,56,100,60])\n",
    "#使用frompyfunc将其自定义为ufunc函数，并对数组对象进行操作\n",
    "score_1=np.frompyfunc(liftscore,1,1)(score)\n",
    "score_1"
   ]
  },
  {
   "cell_type": "code",
   "execution_count": 35,
   "metadata": {},
   "outputs": [
    {
     "data": {
      "text/plain": [
       "dtype('O')"
      ]
     },
     "execution_count": 35,
     "metadata": {},
     "output_type": "execute_result"
    }
   ],
   "source": [
    "score_1.dtype #使用frompyfunc转换的ufunc函数所返回数组的元素类型是object"
   ]
  },
  {
   "cell_type": "code",
   "execution_count": 36,
   "metadata": {},
   "outputs": [
    {
     "data": {
      "text/plain": [
       "dtype('float64')"
      ]
     },
     "execution_count": 36,
     "metadata": {},
     "output_type": "execute_result"
    }
   ],
   "source": [
    "'''\n",
    "需要再调用数组的astype方法将其转换为浮点数组。\n",
    "'''\n",
    "score_1=score_1.astype(float)\n",
    "score_1.dtype"
   ]
  },
  {
   "cell_type": "code",
   "execution_count": 37,
   "metadata": {},
   "outputs": [
    {
     "data": {
      "text/plain": [
       "array([ 92.19544457,  88.88194417,  76.15773106, 100.99504938,\n",
       "        78.74007874])"
      ]
     },
     "execution_count": 37,
     "metadata": {},
     "output_type": "execute_result"
    }
   ],
   "source": [
    "score_1"
   ]
  },
  {
   "cell_type": "code",
   "execution_count": 38,
   "metadata": {
    "scrolled": true
   },
   "outputs": [
    {
     "data": {
      "text/plain": [
       "array([ 92.19544457,  88.88194417,  76.15773106, 100.99504938,\n",
       "        78.74007874])"
      ]
     },
     "execution_count": 38,
     "metadata": {},
     "output_type": "execute_result"
    }
   ],
   "source": [
    "'''\n",
    "使用vectorize也可以实现和frompyfunc类似的功能。但它可以通过otypes参数指定返回\n",
    "数组的元素类型。\n",
    "otypes参数可以是一个表示元素类型的字符串，也可以是一个类型列表，\n",
    "使用列表可以描述多个返回数组的元素类型：\n",
    "'''\n",
    "score_2=np.vectorize(liftscore,otypes=[float])(score)\n",
    "score_2"
   ]
  },
  {
   "cell_type": "code",
   "execution_count": 39,
   "metadata": {},
   "outputs": [
    {
     "data": {
      "text/plain": [
       "array([ True,  True,  True,  True,  True])"
      ]
     },
     "execution_count": 39,
     "metadata": {},
     "output_type": "execute_result"
    }
   ],
   "source": [
    "score_1==score_2"
   ]
  },
  {
   "cell_type": "code",
   "execution_count": 40,
   "metadata": {},
   "outputs": [
    {
     "data": {
      "text/plain": [
       "True"
      ]
     },
     "execution_count": 40,
     "metadata": {},
     "output_type": "execute_result"
    }
   ],
   "source": [
    "np.all(score_1==score_2)"
   ]
  },
  {
   "cell_type": "code",
   "execution_count": null,
   "metadata": {},
   "outputs": [],
   "source": [
    "#练习：自定义一个函数完成圆面积的计算，例如给定一组半径值[3,2,4，6]输出对应的圆面积。"
   ]
  },
  {
   "cell_type": "code",
   "execution_count": null,
   "metadata": {},
   "outputs": [],
   "source": []
  },
  {
   "cell_type": "code",
   "execution_count": null,
   "metadata": {},
   "outputs": [],
   "source": []
  },
  {
   "cell_type": "code",
   "execution_count": null,
   "metadata": {},
   "outputs": [],
   "source": []
  },
  {
   "cell_type": "code",
   "execution_count": null,
   "metadata": {},
   "outputs": [],
   "source": []
  },
  {
   "cell_type": "code",
   "execution_count": null,
   "metadata": {},
   "outputs": [],
   "source": []
  },
  {
   "cell_type": "code",
   "execution_count": null,
   "metadata": {},
   "outputs": [],
   "source": []
  },
  {
   "cell_type": "code",
   "execution_count": 51,
   "metadata": {},
   "outputs": [
    {
     "name": "stdout",
     "output_type": "stream",
     "text": [
      "[[2 2 3]\n",
      " [1 2 3]]\n",
      "------------------------\n",
      "[[1 1 3]\n",
      " [2 2 4]]\n",
      "------------------------\n",
      "[[3 3 6]\n",
      " [3 4 7]]\n"
     ]
    }
   ],
   "source": [
    "'''\n",
    "3.广播\n",
    "当使用ufunc函数对两个数组进行计算时，ufunc函数会对这两个数组的对应元素进行计算。\n",
    "因此要求这两个数组的形状相同。\n",
    "'''\n",
    "x = np.array([[2,2,3],[1,2,3]])\n",
    "y = np.array([[1,1,3],[2,2,4]])\n",
    "print(x)\n",
    "print('------------------------')\n",
    "print(y)\n",
    "print('------------------------')\n",
    "print(x+y)  #numpy当中的数组相加是对应元素的相加。"
   ]
  },
  {
   "cell_type": "code",
   "execution_count": null,
   "metadata": {},
   "outputs": [],
   "source": [
    "'''\n",
    "3.1 广播的引出：\n",
    "-- 当两个数组的形状并不相同的时候，我们可以通过扩展数组的方法来实现相加、相减、\n",
    "   相乘等操作，这种机制叫做广播（broadcasting）。\n",
    "    \n",
    "3.2 广播发生的情况：\n",
    "-- 两个数组的维数不相等，但是它们的后缘维度的轴长相符。\n",
    "-- 两个数组维数相等，两个数组中某一维度轴长相同，任一数组中另一维度轴长为1。\n",
    "-- 以上两种情况的混合。\n",
    "-- 如果两个数组的后缘维度（即从末尾开始算起的维度）的轴长度相符或者其中一方的长度为1\n",
    "  （注：这里是指两个数组同时从低维开始一一的比较，不能把其中一个数组的末尾第一个维度\n",
    "    和第二个数组的末尾第二维度比较，只能是同时比较各自的末尾第一个），则可认为他们是\n",
    "    广播兼容的。广播会在缺失或长度为１的维度上进行。\n",
    "    \n",
    "3.3 广播的原则：\n",
    "-- 广播会在缺失和（或）长度为1的维度上进行。\n",
    "-- 输出数组(即计算结果的数组)的shape属性是输入数组的shape属性在各个轴上的最大值。\n",
    "\n",
    "'''"
   ]
  },
  {
   "cell_type": "code",
   "execution_count": null,
   "metadata": {},
   "outputs": [],
   "source": [
    "# 情况1：两个数组的维数不相等，但是它们的后缘维度的轴长相符。\n",
    "#例3.1（4，3）和（3，）"
   ]
  },
  {
   "cell_type": "markdown",
   "metadata": {},
   "source": [
    "　　arr1的shape为（4,3），arr2的shape为（3，）,前者是二维的，而后者是一维的。\n",
    "但是它们的后缘维度相等，arr1的第二维长度为3，和arr2的维度相同。\n",
    "arr1和arr2的shape并不一样，但是它们可以执行相加操作，这就是通过广播完成的。\n",
    "在这个例子当中是将arr2沿着0轴进行扩展。\n",
    "<img src=\"images/broad1.png\" >"
   ]
  },
  {
   "cell_type": "code",
   "execution_count": 52,
   "metadata": {
    "scrolled": true
   },
   "outputs": [
    {
     "name": "stdout",
     "output_type": "stream",
     "text": [
      "[[0 0 0]\n",
      " [1 1 1]\n",
      " [2 2 2]\n",
      " [3 3 3]]\n",
      "------------------------\n",
      "[1 2 3]\n",
      "------------------------\n",
      "[[1 2 3]\n",
      " [2 3 4]\n",
      " [3 4 5]\n",
      " [4 5 6]]\n"
     ]
    }
   ],
   "source": [
    "#情况1：两个数组的维数不相等，但是它们的后缘维度的轴长相符。\n",
    "#例3.1（4，3）和（3，）\n",
    "import numpy as np\n",
    "arr1 = np.array([[0, 0, 0],[1, 1, 1],[2, 2, 2], [3, 3, 3]])  #arr1.shape = (4,3)\n",
    "arr2 = np.array([1, 2, 3])    #arr2.shape = (3,)\n",
    "arr_sum = arr1 + arr2\n",
    "print(arr1)\n",
    "print('------------------------')\n",
    "print(arr2)\n",
    "print('------------------------')\n",
    "print(arr_sum)"
   ]
  },
  {
   "cell_type": "code",
   "execution_count": null,
   "metadata": {},
   "outputs": [],
   "source": [
    "#例3.2 (3,4,2)和(4,2)"
   ]
  },
  {
   "cell_type": "markdown",
   "metadata": {},
   "source": [
    "<img src=\"images/broad2.png\" width=\"50%\">\n",
    "（3,4,2）和（4,2）的维度是不相同的，前者为3维，后者为2维。但是它们后缘维度的轴长相同，都为（4,2），所以可以沿着0轴进行广播。"
   ]
  },
  {
   "cell_type": "code",
   "execution_count": 53,
   "metadata": {},
   "outputs": [
    {
     "data": {
      "text/plain": [
       "array([[[ 0,  1],\n",
       "        [ 2,  3],\n",
       "        [ 4,  5],\n",
       "        [ 6,  7]],\n",
       "\n",
       "       [[ 8,  9],\n",
       "        [10, 11],\n",
       "        [12, 13],\n",
       "        [14, 15]],\n",
       "\n",
       "       [[16, 17],\n",
       "        [18, 19],\n",
       "        [20, 21],\n",
       "        [22, 23]]])"
      ]
     },
     "execution_count": 53,
     "metadata": {},
     "output_type": "execute_result"
    }
   ],
   "source": [
    "#例3.2 (3,4,2)和(4,2)\n",
    "brr1=np.arange(24).reshape(3,4,2)\n",
    "brr1"
   ]
  },
  {
   "cell_type": "code",
   "execution_count": 54,
   "metadata": {},
   "outputs": [
    {
     "data": {
      "text/plain": [
       "array([[0, 1],\n",
       "       [2, 3],\n",
       "       [4, 5],\n",
       "       [6, 7]])"
      ]
     },
     "execution_count": 54,
     "metadata": {},
     "output_type": "execute_result"
    }
   ],
   "source": [
    "brr2=np.arange(8).reshape(4,2)\n",
    "brr2"
   ]
  },
  {
   "cell_type": "code",
   "execution_count": 37,
   "metadata": {
    "scrolled": true
   },
   "outputs": [
    {
     "data": {
      "text/plain": [
       "array([[[ 0,  2],\n",
       "        [ 4,  6],\n",
       "        [ 8, 10],\n",
       "        [12, 14]],\n",
       "\n",
       "       [[ 8, 10],\n",
       "        [12, 14],\n",
       "        [16, 18],\n",
       "        [20, 22]],\n",
       "\n",
       "       [[16, 18],\n",
       "        [20, 22],\n",
       "        [24, 26],\n",
       "        [28, 30]]])"
      ]
     },
     "execution_count": 37,
     "metadata": {},
     "output_type": "execute_result"
    }
   ],
   "source": [
    "brr3=brr1+brr2\n",
    "brr3"
   ]
  },
  {
   "cell_type": "code",
   "execution_count": 55,
   "metadata": {},
   "outputs": [
    {
     "data": {
      "text/plain": [
       "array([0, 1])"
      ]
     },
     "execution_count": 55,
     "metadata": {},
     "output_type": "execute_result"
    }
   ],
   "source": [
    "#同样（3，4，2）和（2，）是兼容的，后者需要在两个轴上面进行扩展。\n",
    "#例3.3（3,4,2）和（2，）\n",
    "brr4=np.array([0,1])\n",
    "brr4"
   ]
  },
  {
   "cell_type": "code",
   "execution_count": 39,
   "metadata": {},
   "outputs": [
    {
     "data": {
      "text/plain": [
       "array([[[ 0,  2],\n",
       "        [ 2,  4],\n",
       "        [ 4,  6],\n",
       "        [ 6,  8]],\n",
       "\n",
       "       [[ 8, 10],\n",
       "        [10, 12],\n",
       "        [12, 14],\n",
       "        [14, 16]],\n",
       "\n",
       "       [[16, 18],\n",
       "        [18, 20],\n",
       "        [20, 22],\n",
       "        [22, 24]]])"
      ]
     },
     "execution_count": 39,
     "metadata": {},
     "output_type": "execute_result"
    }
   ],
   "source": [
    "brr5=brr1+brr4\n",
    "brr5"
   ]
  },
  {
   "cell_type": "code",
   "execution_count": null,
   "metadata": {},
   "outputs": [],
   "source": [
    "#情况2：两个数组维数相等，有一方的长度为1。\n",
    "#例3.4 （4，3）和（4，1）"
   ]
  },
  {
   "cell_type": "markdown",
   "metadata": {},
   "source": [
    "crr1的shape为（4,3），crr2的shape为（4,1），它们都是二维的，但是第二个数组在1轴上的长度为1，所以，可以在1轴上面进行广播。\n",
    "<img src=\"images/broad3.png\" width=\"50%\">\n",
    "在这种情况下，两个数组的维度要保证相等，其中有一个轴的长度为1，这样就会沿着长度为1的轴进行扩展。<br>\n",
    "这样的例子还有：（4,3）和（1,3） 。<br>\n",
    "（3,4,2）和（1,4,2）沿着0轴。<br>\n",
    "（3,4,2）和（3,1,2）沿着1轴。<br>\n",
    "（3,4,2）和（3,4,1）沿着2轴。<br>"
   ]
  },
  {
   "cell_type": "code",
   "execution_count": null,
   "metadata": {},
   "outputs": [],
   "source": [
    "#编写程序验证（3,4,2）和（1,4,2）"
   ]
  },
  {
   "cell_type": "code",
   "execution_count": null,
   "metadata": {},
   "outputs": [],
   "source": []
  },
  {
   "cell_type": "code",
   "execution_count": null,
   "metadata": {},
   "outputs": [],
   "source": []
  },
  {
   "cell_type": "code",
   "execution_count": null,
   "metadata": {},
   "outputs": [],
   "source": []
  },
  {
   "cell_type": "code",
   "execution_count": 56,
   "metadata": {},
   "outputs": [
    {
     "name": "stdout",
     "output_type": "stream",
     "text": [
      "[[0 0 0]\n",
      " [1 1 1]\n",
      " [2 2 2]\n",
      " [3 3 3]]\n",
      "----------------------\n",
      "[[1]\n",
      " [2]\n",
      " [3]\n",
      " [4]]\n",
      "----------------------\n",
      "[[1 1 1]\n",
      " [3 3 3]\n",
      " [5 5 5]\n",
      " [7 7 7]]\n"
     ]
    }
   ],
   "source": [
    "#例3.4（4,3）和（4,1）\n",
    "crr1 = np.array([[0, 0, 0],[1, 1, 1],[2, 2, 2], [3, 3, 3]])  #crr1.shape = (4,3)\n",
    "crr2 = np.array([[1],[2],[3],[4]])    #crr2.shape = (4, 1)\n",
    "crr3 = crr1 + crr2\n",
    "print(crr1)\n",
    "print('----------------------')\n",
    "print(crr2)\n",
    "print('----------------------')\n",
    "print(crr3)"
   ]
  },
  {
   "cell_type": "code",
   "execution_count": 41,
   "metadata": {},
   "outputs": [
    {
     "data": {
      "text/plain": [
       "array([[0, 1],\n",
       "       [2, 3],\n",
       "       [4, 5],\n",
       "       [6, 7],\n",
       "       [8, 9]])"
      ]
     },
     "execution_count": 41,
     "metadata": {},
     "output_type": "execute_result"
    }
   ],
   "source": [
    "#例3.5 （5，2）和（5，1）\n",
    "a=np.arange(0,10).reshape(5,2);a"
   ]
  },
  {
   "cell_type": "code",
   "execution_count": 42,
   "metadata": {
    "scrolled": true
   },
   "outputs": [
    {
     "data": {
      "text/plain": [
       "array([[0. ],\n",
       "       [0.2],\n",
       "       [0.4],\n",
       "       [0.6],\n",
       "       [0.8]])"
      ]
     },
     "execution_count": 42,
     "metadata": {},
     "output_type": "execute_result"
    }
   ],
   "source": [
    "b=np.arange(0,1,0.2).reshape(5,1);b"
   ]
  },
  {
   "cell_type": "code",
   "execution_count": 43,
   "metadata": {},
   "outputs": [
    {
     "data": {
      "text/plain": [
       "array([[0. , 1. ],\n",
       "       [2.2, 3.2],\n",
       "       [4.4, 5.4],\n",
       "       [6.6, 7.6],\n",
       "       [8.8, 9.8]])"
      ]
     },
     "execution_count": 43,
     "metadata": {},
     "output_type": "execute_result"
    }
   ],
   "source": [
    "c=a+b;c"
   ]
  },
  {
   "cell_type": "code",
   "execution_count": 44,
   "metadata": {},
   "outputs": [
    {
     "data": {
      "text/plain": [
       "(5, 2)"
      ]
     },
     "execution_count": 44,
     "metadata": {},
     "output_type": "execute_result"
    }
   ],
   "source": [
    "c.shape"
   ]
  },
  {
   "cell_type": "code",
   "execution_count": 45,
   "metadata": {},
   "outputs": [
    {
     "data": {
      "text/plain": [
       "array([1, 2, 3])"
      ]
     },
     "execution_count": 45,
     "metadata": {},
     "output_type": "execute_result"
    }
   ],
   "source": [
    "#例3.6（4,3）和（1,3）\n",
    "crr4=np.array([1,2,3]) \n",
    "crr4"
   ]
  },
  {
   "cell_type": "code",
   "execution_count": 46,
   "metadata": {
    "scrolled": true
   },
   "outputs": [
    {
     "data": {
      "text/plain": [
       "array([[1, 2, 3],\n",
       "       [2, 3, 4],\n",
       "       [3, 4, 5],\n",
       "       [4, 5, 6]])"
      ]
     },
     "execution_count": 46,
     "metadata": {},
     "output_type": "execute_result"
    }
   ],
   "source": [
    "crr5=crr1+crr4\n",
    "crr5"
   ]
  },
  {
   "cell_type": "code",
   "execution_count": 47,
   "metadata": {
    "scrolled": true
   },
   "outputs": [
    {
     "data": {
      "text/plain": [
       "array([[[ 0,  1],\n",
       "        [ 2,  3],\n",
       "        [ 4,  5],\n",
       "        [ 6,  7]],\n",
       "\n",
       "       [[ 8,  9],\n",
       "        [10, 11],\n",
       "        [12, 13],\n",
       "        [14, 15]],\n",
       "\n",
       "       [[16, 17],\n",
       "        [18, 19],\n",
       "        [20, 21],\n",
       "        [22, 23]]])"
      ]
     },
     "execution_count": 47,
     "metadata": {},
     "output_type": "execute_result"
    }
   ],
   "source": [
    "#例3.7（3,4,2）和（1,4,2）\n",
    "brr1"
   ]
  },
  {
   "cell_type": "code",
   "execution_count": 48,
   "metadata": {
    "scrolled": true
   },
   "outputs": [
    {
     "data": {
      "text/plain": [
       "array([[[0, 1],\n",
       "        [2, 3],\n",
       "        [4, 5],\n",
       "        [6, 7]]])"
      ]
     },
     "execution_count": 48,
     "metadata": {},
     "output_type": "execute_result"
    }
   ],
   "source": [
    "drr1=np.arange(8).reshape(1,4,2)\n",
    "drr1"
   ]
  },
  {
   "cell_type": "code",
   "execution_count": 49,
   "metadata": {},
   "outputs": [
    {
     "data": {
      "text/plain": [
       "array([[[ 0,  2],\n",
       "        [ 4,  6],\n",
       "        [ 8, 10],\n",
       "        [12, 14]],\n",
       "\n",
       "       [[ 8, 10],\n",
       "        [12, 14],\n",
       "        [16, 18],\n",
       "        [20, 22]],\n",
       "\n",
       "       [[16, 18],\n",
       "        [20, 22],\n",
       "        [24, 26],\n",
       "        [28, 30]]])"
      ]
     },
     "execution_count": 49,
     "metadata": {},
     "output_type": "execute_result"
    }
   ],
   "source": [
    "drr2=brr1+drr1\n",
    "drr2"
   ]
  },
  {
   "cell_type": "code",
   "execution_count": null,
   "metadata": {},
   "outputs": [],
   "source": [
    "#例3.8(3,4,2）和（3,1,2）\n",
    "drr3=np.arange(6).reshape(3,1,2)\n",
    "drr3"
   ]
  },
  {
   "cell_type": "code",
   "execution_count": null,
   "metadata": {},
   "outputs": [],
   "source": [
    "drr4=brr1+drr3\n",
    "drr4"
   ]
  },
  {
   "cell_type": "code",
   "execution_count": null,
   "metadata": {
    "scrolled": true
   },
   "outputs": [],
   "source": [
    "#例3.9（3,4,2）和（3,4,1）\n",
    "drr5=np.arange(12).reshape(3,4,1)\n",
    "drr5"
   ]
  },
  {
   "cell_type": "code",
   "execution_count": null,
   "metadata": {
    "scrolled": true
   },
   "outputs": [],
   "source": [
    "drr6=brr1+drr5\n",
    "drr6"
   ]
  },
  {
   "cell_type": "code",
   "execution_count": null,
   "metadata": {},
   "outputs": [],
   "source": [
    "#情况3：\n",
    "'''\n",
    "以上两种情况的结合，在TensorFlow当中计算张量的时候也是用广播机制，\n",
    "并且和numpy的广播机制是一样的。\n",
    "'''\n",
    "#例3.10（3,4,2）和（1,2）\n",
    "drr7=np.array([1,2])\n",
    "drr7"
   ]
  },
  {
   "cell_type": "code",
   "execution_count": null,
   "metadata": {},
   "outputs": [],
   "source": [
    "drr8=brr1+drr7\n",
    "drr8"
   ]
  },
  {
   "cell_type": "code",
   "execution_count": null,
   "metadata": {},
   "outputs": [],
   "source": [
    "#课堂练习（5，3）和（5，2） （2，3）和（3，1）"
   ]
  },
  {
   "cell_type": "code",
   "execution_count": null,
   "metadata": {},
   "outputs": [],
   "source": []
  },
  {
   "cell_type": "code",
   "execution_count": null,
   "metadata": {},
   "outputs": [],
   "source": []
  },
  {
   "cell_type": "code",
   "execution_count": null,
   "metadata": {},
   "outputs": [],
   "source": []
  },
  {
   "cell_type": "code",
   "execution_count": null,
   "metadata": {},
   "outputs": [],
   "source": []
  },
  {
   "cell_type": "code",
   "execution_count": null,
   "metadata": {
    "scrolled": true
   },
   "outputs": [],
   "source": [
    "#其他情况会出错（5，3）和（5，2）\n",
    "a=np.arange(0,15).reshape(5,3);a"
   ]
  },
  {
   "cell_type": "code",
   "execution_count": null,
   "metadata": {
    "scrolled": true
   },
   "outputs": [],
   "source": [
    "b=np.arange(0,20,2).reshape(5,2);b"
   ]
  },
  {
   "cell_type": "code",
   "execution_count": null,
   "metadata": {
    "scrolled": true
   },
   "outputs": [],
   "source": [
    "c=b+a;c"
   ]
  },
  {
   "cell_type": "code",
   "execution_count": 20,
   "metadata": {},
   "outputs": [
    {
     "data": {
      "text/plain": [
       "array([[0, 1, 2],\n",
       "       [3, 4, 5]])"
      ]
     },
     "execution_count": 20,
     "metadata": {},
     "output_type": "execute_result"
    }
   ],
   "source": [
    "#(2,3)和（3,1）\n",
    "a=np.arange(6).reshape(2,3)\n",
    "a"
   ]
  },
  {
   "cell_type": "code",
   "execution_count": 21,
   "metadata": {
    "scrolled": true
   },
   "outputs": [
    {
     "data": {
      "text/plain": [
       "array([[0],\n",
       "       [1],\n",
       "       [2]])"
      ]
     },
     "execution_count": 21,
     "metadata": {},
     "output_type": "execute_result"
    }
   ],
   "source": [
    "b=np.arange(3).reshape(3,1)\n",
    "b"
   ]
  },
  {
   "cell_type": "code",
   "execution_count": 22,
   "metadata": {},
   "outputs": [
    {
     "ename": "ValueError",
     "evalue": "operands could not be broadcast together with shapes (2,3) (3,1) ",
     "output_type": "error",
     "traceback": [
      "\u001b[1;31m---------------------------------------------------------------------------\u001b[0m",
      "\u001b[1;31mValueError\u001b[0m                                Traceback (most recent call last)",
      "\u001b[1;32m<ipython-input-22-73dd7d34129f>\u001b[0m in \u001b[0;36m<module>\u001b[1;34m()\u001b[0m\n\u001b[1;32m----> 1\u001b[1;33m \u001b[0mc\u001b[0m\u001b[1;33m=\u001b[0m\u001b[0ma\u001b[0m\u001b[1;33m+\u001b[0m\u001b[0mb\u001b[0m\u001b[1;33m\u001b[0m\u001b[0m\n\u001b[0m\u001b[0;32m      2\u001b[0m \u001b[0mc\u001b[0m\u001b[1;33m\u001b[0m\u001b[0m\n",
      "\u001b[1;31mValueError\u001b[0m: operands could not be broadcast together with shapes (2,3) (3,1) "
     ]
    }
   ],
   "source": [
    "c=a+b\n",
    "c"
   ]
  },
  {
   "cell_type": "code",
   "execution_count": null,
   "metadata": {},
   "outputs": [],
   "source": [
    "'''\n",
    "3.4 ogrid函数\n",
    "广播在numpy计算中比较常见，所以numpy提供了ogrid和mgrid来创建广播计算的数组，\n",
    "前者返回的是两个向量，后者返回的是进行广播运算的数组。\n",
    "\n",
    "ogrid函数作为产生numpy数组与numpy的arange函数功能有点类似，不同的是：\n",
    "-- arange函数产生的是一维数组，而ogrid函数产生的是二维数组。\n",
    "-- arange函数产生的是一个数组，而ogrid函数产生的是二个数组。\n",
    "-- ogrid函数产生的数组，第一个数组是以纵向产生的，即数组第二维的大小始终为1。\n",
    "                        第二个数组是以横向产生的，即数组第一维的大小始终为1。\n",
    "-- ogrid和多维数组一样，用切片元组作为下标。\n",
    "'''"
   ]
  },
  {
   "cell_type": "code",
   "execution_count": 2,
   "metadata": {},
   "outputs": [
    {
     "data": {
      "text/plain": [
       "[array([[0],\n",
       "        [1],\n",
       "        [2],\n",
       "        [3],\n",
       "        [4]]), array([[0, 1, 2, 3, 4]])]"
      ]
     },
     "execution_count": 2,
     "metadata": {},
     "output_type": "execute_result"
    }
   ],
   "source": [
    "'''\n",
    "有两个参数，返回列表，列表元素由x[0]和x[1]两个数组组成。 \n",
    "\n",
    "第一个数组x[0]是列向量,行数由第一个参数决定（0 1 2 3 4），共五行，；\n",
    "第二个数组x[1]是行向量,列数由第二个参数决定（0 1 2 3 4），共五列，；\n",
    "默认步长为1，左闭右开。\n",
    "\n",
    "第一个数组x[0]的元素由第一个参数决定（0 1 2 3 4），共五种元素；\n",
    "第二个数组x[1]的元素由第二个参数决定（0 1 2 3 4），共五种元素。\n",
    "'''\n",
    "x=np.ogrid[:5,:5]\n",
    "x"
   ]
  },
  {
   "cell_type": "code",
   "execution_count": 3,
   "metadata": {},
   "outputs": [
    {
     "data": {
      "text/plain": [
       "array([[0],\n",
       "       [1],\n",
       "       [2],\n",
       "       [3],\n",
       "       [4]])"
      ]
     },
     "execution_count": 3,
     "metadata": {},
     "output_type": "execute_result"
    }
   ],
   "source": [
    "x,y=np.ogrid[:5,:5]#基于位置把右侧的两个数组依次赋值给左侧的元组变量。\n",
    "x"
   ]
  },
  {
   "cell_type": "code",
   "execution_count": 4,
   "metadata": {},
   "outputs": [
    {
     "data": {
      "text/plain": [
       "array([[0, 1, 2, 3, 4]])"
      ]
     },
     "execution_count": 4,
     "metadata": {},
     "output_type": "execute_result"
    }
   ],
   "source": [
    "y"
   ]
  },
  {
   "cell_type": "code",
   "execution_count": null,
   "metadata": {},
   "outputs": [],
   "source": [
    "'''\n",
    "3.5 mgrid函数\n",
    "mgrid对象的用法和ogrid对象类似，但它返回进行广播之后的数组。\n",
    "\n",
    "np.mgrid[start:stop:step]\n",
    "\n",
    "参数解析：\n",
    "start:开始坐标\n",
    "stop:结束坐标（实数不包括，复数包括）\n",
    "step:步长：\n",
    "     步长为复数表示点数，左闭右闭\n",
    "     步长为实数表示间隔，左闭右开\n",
    "     如：mgrid[1:3:3j, 4:9:2]  \n",
    "     3j：3个点，用3个数值来等分整个区间[1,3]。\n",
    "\n",
    "用法：返回多维结构，常见的如2D图形，3D图形。\n",
    "第1返回值为第1维数据在最终结构中的分布，\n",
    "第2返回值为第2维数据在最终结构中的分布，以此类推。（分布以矩阵形式呈现）  \n",
    "'''"
   ]
  },
  {
   "cell_type": "code",
   "execution_count": 5,
   "metadata": {},
   "outputs": [
    {
     "data": {
      "text/plain": [
       "array([-5. , -2.5,  0. ,  2.5,  5. ])"
      ]
     },
     "execution_count": 5,
     "metadata": {},
     "output_type": "execute_result"
    }
   ],
   "source": [
    "#有一个参数，生成一维数组，用5个数值等分区间[-5,5]。\n",
    "x=np.mgrid[-5:5:5j]\n",
    "x"
   ]
  },
  {
   "cell_type": "code",
   "execution_count": 6,
   "metadata": {
    "scrolled": true
   },
   "outputs": [
    {
     "data": {
      "text/plain": [
       "array([[[0, 0, 0, 0, 0],\n",
       "        [1, 1, 1, 1, 1],\n",
       "        [2, 2, 2, 2, 2],\n",
       "        [3, 3, 3, 3, 3],\n",
       "        [4, 4, 4, 4, 4]],\n",
       "\n",
       "       [[0, 1, 2, 3, 4],\n",
       "        [0, 1, 2, 3, 4],\n",
       "        [0, 1, 2, 3, 4],\n",
       "        [0, 1, 2, 3, 4],\n",
       "        [0, 1, 2, 3, 4]]])"
      ]
     },
     "execution_count": 6,
     "metadata": {},
     "output_type": "execute_result"
    }
   ],
   "source": [
    "'''\n",
    "有两个参数，返回三维空间向量，由z[0]和z[1]两个数组组成。 \n",
    "两个数组的行数由第一个参数决定（0 1 2 3 4），共五行；\n",
    "          列数由第二个参数决定（0 1 2 3 4），共五列；\n",
    "          默认步长为1，左闭右开。\n",
    "\n",
    "第一个数组z[0]的元素由第一个参数决定（0 1 2 3 4），共五种元素；\n",
    "第二个数组z[1]的元素由第二个参数决定（0 1 2 3 4），共五种元素。\n",
    "\n",
    "第一个数组z[0]的元素行相同；\n",
    "第二个数组z[1]的元素列相同。\n",
    "'''\n",
    "z=np.mgrid[:5,:5]\n",
    "z"
   ]
  },
  {
   "cell_type": "code",
   "execution_count": 7,
   "metadata": {
    "scrolled": true
   },
   "outputs": [
    {
     "data": {
      "text/plain": [
       "array([[[0, 0, 0],\n",
       "        [1, 1, 1],\n",
       "        [2, 2, 2],\n",
       "        [3, 3, 3],\n",
       "        [4, 4, 4]],\n",
       "\n",
       "       [[0, 1, 2],\n",
       "        [0, 1, 2],\n",
       "        [0, 1, 2],\n",
       "        [0, 1, 2],\n",
       "        [0, 1, 2]]])"
      ]
     },
     "execution_count": 7,
     "metadata": {},
     "output_type": "execute_result"
    }
   ],
   "source": [
    "x1=np.mgrid[:5,:3]\n",
    "x1"
   ]
  },
  {
   "cell_type": "code",
   "execution_count": 8,
   "metadata": {
    "scrolled": true
   },
   "outputs": [
    {
     "data": {
      "text/plain": [
       "array([[0, 0, 0],\n",
       "       [1, 1, 1],\n",
       "       [2, 2, 2],\n",
       "       [3, 3, 3],\n",
       "       [4, 4, 4]])"
      ]
     },
     "execution_count": 8,
     "metadata": {},
     "output_type": "execute_result"
    }
   ],
   "source": [
    "x2,x3=np.mgrid[:5,:3]\n",
    "x2"
   ]
  },
  {
   "cell_type": "code",
   "execution_count": 9,
   "metadata": {
    "scrolled": true
   },
   "outputs": [
    {
     "data": {
      "text/plain": [
       "array([[0, 1, 2],\n",
       "       [0, 1, 2],\n",
       "       [0, 1, 2],\n",
       "       [0, 1, 2],\n",
       "       [0, 1, 2]])"
      ]
     },
     "execution_count": 9,
     "metadata": {},
     "output_type": "execute_result"
    }
   ],
   "source": [
    "x3"
   ]
  },
  {
   "cell_type": "code",
   "execution_count": null,
   "metadata": {},
   "outputs": [],
   "source": [
    "'''\n",
    "4.ufunc的方法\n",
    "ufunc函数还有只对两个输入一个输出的ufunc函数有效的方法:\n",
    "-- reduce\n",
    "-- accumulate\n",
    "-- reduceat\n",
    "-- outer\n",
    "'''\n"
   ]
  },
  {
   "cell_type": "code",
   "execution_count": 10,
   "metadata": {},
   "outputs": [
    {
     "data": {
      "text/plain": [
       "10"
      ]
     },
     "execution_count": 10,
     "metadata": {},
     "output_type": "execute_result"
    }
   ],
   "source": [
    "'''\n",
    "4.1 reduce方法\n",
    "它沿着axis轴对数组元素进行操作,相当于将相应的操作放到该轴元素之间,默认0轴。\n",
    "'''\n",
    "np.add.reduce(np.arange(5)) "
   ]
  },
  {
   "cell_type": "code",
   "execution_count": 11,
   "metadata": {},
   "outputs": [
    {
     "data": {
      "text/plain": [
       "array([10, 26])"
      ]
     },
     "execution_count": 11,
     "metadata": {},
     "output_type": "execute_result"
    }
   ],
   "source": [
    "np.add.reduce([[1,2,3,4],[5,6,7,8]],axis=1)"
   ]
  },
  {
   "cell_type": "code",
   "execution_count": 12,
   "metadata": {},
   "outputs": [
    {
     "data": {
      "text/plain": [
       "array([ 6,  8, 10, 12])"
      ]
     },
     "execution_count": 12,
     "metadata": {},
     "output_type": "execute_result"
    }
   ],
   "source": [
    "np.add.reduce([[1,2,3,4],[5,6,7,8]],axis=0)"
   ]
  },
  {
   "cell_type": "code",
   "execution_count": 13,
   "metadata": {},
   "outputs": [
    {
     "data": {
      "text/plain": [
       "array([ 6,  8, 10, 12])"
      ]
     },
     "execution_count": 13,
     "metadata": {},
     "output_type": "execute_result"
    }
   ],
   "source": [
    "np.add.reduce([[1,2,3,4],[5,6,7,8]])"
   ]
  },
  {
   "cell_type": "code",
   "execution_count": null,
   "metadata": {},
   "outputs": [],
   "source": [
    "'''\n",
    "4.2 accumulate方法\n",
    "返回的数组和输入的数组的形状相同，同时保存所有中间结果。\n",
    "'''"
   ]
  },
  {
   "cell_type": "code",
   "execution_count": 15,
   "metadata": {},
   "outputs": [
    {
     "data": {
      "text/plain": [
       "array([ 0,  1,  3,  6, 10], dtype=int32)"
      ]
     },
     "execution_count": 15,
     "metadata": {},
     "output_type": "execute_result"
    }
   ],
   "source": [
    "np.add.accumulate(np.arange(5))"
   ]
  },
  {
   "cell_type": "code",
   "execution_count": 16,
   "metadata": {},
   "outputs": [
    {
     "data": {
      "text/plain": [
       "array([[ 1,  3,  6, 10],\n",
       "       [ 5, 11, 18, 26]], dtype=int32)"
      ]
     },
     "execution_count": 16,
     "metadata": {},
     "output_type": "execute_result"
    }
   ],
   "source": [
    "np.add.accumulate([[1,2,3,4],[5,6,7,8]],axis=1)"
   ]
  },
  {
   "cell_type": "code",
   "execution_count": 17,
   "metadata": {},
   "outputs": [
    {
     "data": {
      "text/plain": [
       "array([[ 1,  2,  3,  4],\n",
       "       [ 6,  8, 10, 12]], dtype=int32)"
      ]
     },
     "execution_count": 17,
     "metadata": {},
     "output_type": "execute_result"
    }
   ],
   "source": [
    "np.add.accumulate([[1,2,3,4],[5,6,7,8]],axis=0)"
   ]
  },
  {
   "cell_type": "code",
   "execution_count": null,
   "metadata": {},
   "outputs": [],
   "source": [
    "'''\n",
    "4.3 reduceat方法\n",
    "可通过indices参数指定多对reduce的起始和终止位置，从而计算多组reduce的结果。\n",
    "'''"
   ]
  },
  {
   "cell_type": "code",
   "execution_count": 18,
   "metadata": {},
   "outputs": [
    {
     "data": {
      "text/plain": [
       "array([0, 1, 2, 3, 4, 5, 6, 7])"
      ]
     },
     "execution_count": 18,
     "metadata": {},
     "output_type": "execute_result"
    }
   ],
   "source": [
    "ara=np.arange(8)\n",
    "ara"
   ]
  },
  {
   "cell_type": "code",
   "execution_count": 19,
   "metadata": {},
   "outputs": [
    {
     "data": {
      "text/plain": [
       "array([ 6,  4, 10,  5, 14,  6, 18,  7], dtype=int32)"
      ]
     },
     "execution_count": 19,
     "metadata": {},
     "output_type": "execute_result"
    }
   ],
   "source": [
    "np.add.reduceat(ara,indices=[0,4,1,5,2,6,3,7])"
   ]
  },
  {
   "cell_type": "code",
   "execution_count": null,
   "metadata": {},
   "outputs": [],
   "source": [
    "'''\n",
    "返回数组中的元素实际上是按照如下方式进行的：\n",
    "ara[0]+ara[1]+ara[2]+ara[3]=0+1+2+3=6\n",
    "ara[4]=4\n",
    "ara[1]+ara[2]+ara[3]+ara[4]=1+2+3+4=10\n",
    "ara[5]=5\n",
    "ara[2]+ara[3]+ara[4]+ara[5]=2+3+4+5=14\n",
    "ara[6]=6\n",
    "ara[3]+ara[4]+ara[5]+ara[6]=3+4+5+6=18\n",
    "ara[7]=7\n",
    "'''"
   ]
  },
  {
   "cell_type": "code",
   "execution_count": 20,
   "metadata": {},
   "outputs": [
    {
     "data": {
      "text/plain": [
       "array([ 6, 10, 14, 18], dtype=int32)"
      ]
     },
     "execution_count": 20,
     "metadata": {},
     "output_type": "execute_result"
    }
   ],
   "source": [
    "np.add.reduceat(ara,[0,4,1,5,2,6,3,7])[::2]"
   ]
  },
  {
   "cell_type": "code",
   "execution_count": 21,
   "metadata": {},
   "outputs": [
    {
     "data": {
      "text/plain": [
       "array([[ 6,  7,  8,  9],\n",
       "       [ 7,  8,  9, 10],\n",
       "       [ 8,  9, 10, 11],\n",
       "       [ 9, 10, 11, 12]])"
      ]
     },
     "execution_count": 21,
     "metadata": {},
     "output_type": "execute_result"
    }
   ],
   "source": [
    "'''\n",
    "4.4 outer方法\n",
    "可对其作为两个参数的数组的每两对元素的组合进行运算：\n",
    "'''\n",
    "np.add.outer([1,2,3,4],[5,6,7,8])"
   ]
  },
  {
   "cell_type": "code",
   "execution_count": 22,
   "metadata": {},
   "outputs": [
    {
     "data": {
      "text/plain": [
       "array([[ 6,  7,  8],\n",
       "       [ 7,  8,  9],\n",
       "       [ 8,  9, 10],\n",
       "       [ 9, 10, 11]])"
      ]
     },
     "execution_count": 22,
     "metadata": {},
     "output_type": "execute_result"
    }
   ],
   "source": [
    "np.add.outer([1,2,3,4],[5,6,7])"
   ]
  },
  {
   "cell_type": "code",
   "execution_count": 23,
   "metadata": {},
   "outputs": [
    {
     "data": {
      "text/plain": [
       "array([[ 5,  6,  7,  8],\n",
       "       [10, 12, 14, 16],\n",
       "       [15, 18, 21, 24],\n",
       "       [20, 24, 28, 32]])"
      ]
     },
     "execution_count": 23,
     "metadata": {},
     "output_type": "execute_result"
    }
   ],
   "source": [
    "np.multiply.outer([1,2,3,4],[5,6,7,8])"
   ]
  },
  {
   "cell_type": "markdown",
   "metadata": {},
   "source": [
    "### 　3.1.3 矩阵(matrix)"
   ]
  },
  {
   "cell_type": "code",
   "execution_count": 24,
   "metadata": {
    "scrolled": true
   },
   "outputs": [
    {
     "data": {
      "text/plain": [
       "matrix([[1, 2, 3],\n",
       "        [4, 5, 6]])"
      ]
     },
     "execution_count": 24,
     "metadata": {},
     "output_type": "execute_result"
    }
   ],
   "source": [
    "'''\n",
    "矩阵是numpy提供的另外一种数据类型，可以使用mat或matrix函数将数组转化为矩阵。\n",
    "一般情况下在python中都会使用数组来进行运算，因为数组更灵活、速度更快。\n",
    "'''\n",
    "m1=np.mat([[1,2,3],[4,5,6]])\n",
    "m1"
   ]
  },
  {
   "cell_type": "code",
   "execution_count": 25,
   "metadata": {},
   "outputs": [
    {
     "data": {
      "text/plain": [
       "matrix([[ 8, 16, 24],\n",
       "        [32, 40, 48]])"
      ]
     },
     "execution_count": 25,
     "metadata": {},
     "output_type": "execute_result"
    }
   ],
   "source": [
    "m1*8"
   ]
  },
  {
   "cell_type": "code",
   "execution_count": 26,
   "metadata": {},
   "outputs": [
    {
     "data": {
      "text/plain": [
       "matrix([[1, 2, 3],\n",
       "        [4, 5, 6],\n",
       "        [7, 8, 9]])"
      ]
     },
     "execution_count": 26,
     "metadata": {},
     "output_type": "execute_result"
    }
   ],
   "source": [
    "m2=np.matrix([[1,2,3],[4,5,6],[7,8,9]])\n",
    "m2"
   ]
  },
  {
   "cell_type": "code",
   "execution_count": 27,
   "metadata": {},
   "outputs": [
    {
     "data": {
      "text/plain": [
       "matrix([[30, 36, 42],\n",
       "        [66, 81, 96]])"
      ]
     },
     "execution_count": 27,
     "metadata": {},
     "output_type": "execute_result"
    }
   ],
   "source": [
    "m1*m2"
   ]
  },
  {
   "cell_type": "code",
   "execution_count": 28,
   "metadata": {
    "scrolled": true
   },
   "outputs": [
    {
     "data": {
      "text/plain": [
       "matrix([[ 3.15251974e+15, -6.30503948e+15,  3.15251974e+15],\n",
       "        [-6.30503948e+15,  1.26100790e+16, -6.30503948e+15],\n",
       "        [ 3.15251974e+15, -6.30503948e+15,  3.15251974e+15]])"
      ]
     },
     "execution_count": 28,
     "metadata": {},
     "output_type": "execute_result"
    }
   ],
   "source": [
    "m2.I    #m2的逆矩阵"
   ]
  },
  {
   "cell_type": "markdown",
   "metadata": {},
   "source": [
    "### 　3.1.4 文件读写"
   ]
  },
  {
   "cell_type": "code",
   "execution_count": null,
   "metadata": {},
   "outputs": [],
   "source": [
    "'''\n",
    "通常通过以下I/O函数实现：\n",
    "-- savetxt:将数组保存到文本文件。\n",
    "-- loadtxt:将保存到txt文件中的数据读出为ndarrary类型。\n",
    "   主要读取csv格式的文件，自动切分字段，并将数组载入numpy数组\n",
    "'''"
   ]
  },
  {
   "cell_type": "code",
   "execution_count": 29,
   "metadata": {},
   "outputs": [
    {
     "data": {
      "text/plain": [
       "'C:\\\\jupyter'"
      ]
     },
     "execution_count": 29,
     "metadata": {},
     "output_type": "execute_result"
    }
   ],
   "source": [
    "import os\n",
    "os.getcwd()"
   ]
  },
  {
   "cell_type": "code",
   "execution_count": 57,
   "metadata": {},
   "outputs": [
    {
     "data": {
      "text/plain": [
       "'C:\\\\jupyter'"
      ]
     },
     "execution_count": 57,
     "metadata": {},
     "output_type": "execute_result"
    }
   ],
   "source": [
    "%pwd"
   ]
  },
  {
   "cell_type": "code",
   "execution_count": 30,
   "metadata": {},
   "outputs": [],
   "source": [
    "np.savetxt('m2.txt',m2) #将上面定义的m2对象作为m2.txt存储在当前文件夹中"
   ]
  },
  {
   "cell_type": "code",
   "execution_count": 31,
   "metadata": {},
   "outputs": [
    {
     "data": {
      "text/plain": [
       "array([[1., 2., 3.],\n",
       "       [4., 5., 6.],\n",
       "       [7., 8., 9.]])"
      ]
     },
     "execution_count": 31,
     "metadata": {},
     "output_type": "execute_result"
    }
   ],
   "source": [
    "'''\n",
    "读入数据时要注意源文件中数据之间的分隔符，在loadtxt函数中可以使用delimiter\n",
    "参数来指定\n",
    "'''\n",
    "m2_reload=np.loadtxt('m2.txt',delimiter=' ')\n",
    "m2_reload"
   ]
  },
  {
   "cell_type": "code",
   "execution_count": 33,
   "metadata": {},
   "outputs": [
    {
     "data": {
      "text/plain": [
       "array([('JD', '3-Jan-17', 25.95, 25.82, 25.64, 26.11,  8275300),\n",
       "       ('JD', '4-Jan-17', 26.05, 25.85, 25.58, 26.08,  7862800),\n",
       "       ('JD', '5-Jan-17', 26.15, 26.3 , 26.05, 26.8 , 10205600),\n",
       "       ('JD', '6-Jan-17', 26.3 , 26.27, 25.92, 26.41,  6234300),\n",
       "       ('JD', '9-Jan-17', 26.64, 26.26, 26.14, 26.95,  8071500),\n",
       "       ('JD', '10-Jan-17', 26.3 , 26.9 , 26.25, 27.1 , 20417400),\n",
       "       ('JD', '11-Jan-17', 26.76, 26.77, 26.44, 27.18,  5498100),\n",
       "       ('JD', '12-Jan-17', 26.83, 26.61, 26.48, 26.83,  4867700),\n",
       "       ('JD', '13-Jan-17', 26.77, 26.84, 26.52, 26.9 ,  5929700),\n",
       "       ('JD', '17-Jan-17', 26.82, 27.21, 26.71, 27.65,  7717500),\n",
       "       ('JD', '18-Jan-17', 27.34, 27.16, 26.86, 27.5 ,  5974400),\n",
       "       ('JD', '19-Jan-17', 27.3 , 27.75, 27.13, 27.84, 10279700),\n",
       "       ('JD', '20-Jan-17', 27.96, 27.6 , 27.54, 28.14,  7142000),\n",
       "       ('JD', '23-Jan-17', 27.5 , 28.18, 27.46, 28.27,  9972400),\n",
       "       ('JD', '24-Jan-17', 28.5 , 28.54, 28.22, 28.91, 13843200),\n",
       "       ('JD', '25-Jan-17', 28.77, 28.59, 28.35, 28.84,  7459500),\n",
       "       ('JD', '26-Jan-17', 28.8 , 28.32, 28.18, 28.8 ,  6052100),\n",
       "       ('JD', '27-Jan-17', 28.35, 28.36, 28.12, 28.5 ,  3107000),\n",
       "       ('JD', '30-Jan-17', 28.17, 28.56, 28.06, 28.64,  3595000),\n",
       "       ('JD', '31-Jan-17', 28.32, 28.4 , 28.01, 28.46,  4381700),\n",
       "       ('JD', '1-Feb-17', 28.59, 28.13, 28.02, 28.59,  4109200),\n",
       "       ('JD', '2-Feb-17', 28.  , 28.17, 27.88, 28.21,  4403300),\n",
       "       ('JD', '3-Feb-17', 28.28, 28.32, 28.08, 28.4 ,  3671500),\n",
       "       ('JD', '6-Feb-17', 28.64, 28.54, 28.35, 28.8 ,  3919200),\n",
       "       ('JD', '7-Feb-17', 28.66, 28.81, 28.46, 28.94,  4834600),\n",
       "       ('JD', '8-Feb-17', 28.81, 28.98, 28.63, 29.06,  3769400),\n",
       "       ('JD', '9-Feb-17', 28.96, 29.01, 28.76, 29.2 ,  6234700),\n",
       "       ('JD', '10-Feb-17', 29.21, 29.38, 29.01, 29.52,  4491400),\n",
       "       ('JD', '13-Feb-17', 29.52, 29.52, 29.1 , 29.65,  6084500),\n",
       "       ('JD', '14-Feb-17', 29.48, 29.43, 29.28, 29.74,  3330800),\n",
       "       ('JD', '15-Feb-17', 29.5 , 30.14, 29.4 , 30.25,  8001200),\n",
       "       ('JD', '16-Feb-17', 30.32, 30.23, 30.03, 30.57,  7706200),\n",
       "       ('JD', '17-Feb-17', 29.57, 29.85, 29.51, 30.27,  7079600),\n",
       "       ('JD', '21-Feb-17', 30.  , 30.23, 29.81, 30.28,  5131400),\n",
       "       ('JD', '22-Feb-17', 30.27, 30.47, 30.1 , 30.67,  6599800),\n",
       "       ('JD', '23-Feb-17', 30.75, 30.61, 30.23, 30.88,  9920800),\n",
       "       ('JD', '24-Feb-17', 30.5 , 30.27, 30.03, 30.52,  4641300),\n",
       "       ('JD', '27-Feb-17', 30.3 , 30.8 , 30.25, 30.91,  5946300),\n",
       "       ('JD', '28-Feb-17', 30.97, 30.57, 30.36, 31.16,  8639500),\n",
       "       ('JD', '1-Mar-17', 30.83, 30.67, 30.56, 30.99,  7942600),\n",
       "       ('JD', '2-Mar-17', 31.74, 30.93, 30.48, 32.47, 22176000),\n",
       "       ('JD', '3-Mar-17', 31.32, 30.93, 30.87, 31.58,  9199300),\n",
       "       ('JD', '6-Mar-17', 30.97, 30.41, 30.24, 30.98,  8109800),\n",
       "       ('JD', '7-Mar-17', 30.2 , 30.75, 29.96, 30.94,  7488300),\n",
       "       ('JD', '8-Mar-17', 30.61, 31.34, 30.6 , 31.64,  8226600),\n",
       "       ('JD', '9-Mar-17', 31.15, 31.2 , 30.96, 31.51,  5546200),\n",
       "       ('JD', '10-Mar-17', 31.35, 31.06, 30.94, 31.55,  6038500),\n",
       "       ('JD', '13-Mar-17', 31.27, 31.69, 31.15, 31.82,  6473500),\n",
       "       ('JD', '14-Mar-17', 31.46, 31.37, 31.11, 31.59,  4364700),\n",
       "       ('JD', '15-Mar-17', 31.35, 31.38, 31.08, 31.53,  4368800),\n",
       "       ('JD', '16-Mar-17', 31.87, 31.54, 31.44, 32.21,  6367500),\n",
       "       ('JD', '17-Mar-17', 31.77, 31.56, 31.34, 31.77,  6464100),\n",
       "       ('JD', '20-Mar-17', 31.57, 31.72, 31.54, 31.87,  4270800),\n",
       "       ('JD', '21-Mar-17', 31.88, 30.32, 30.14, 31.93,  9364400),\n",
       "       ('JD', '22-Mar-17', 30.18, 30.58, 29.88, 30.61,  6790000),\n",
       "       ('JD', '23-Mar-17', 30.85, 31.29, 30.61, 31.35,  8940500),\n",
       "       ('JD', '24-Mar-17', 31.42, 31.26, 31.1 , 31.84,  5826800),\n",
       "       ('JD', '27-Mar-17', 31.  , 31.38, 30.76, 31.55,  4055400),\n",
       "       ('JD', '28-Mar-17', 31.33, 31.46, 31.21, 32.  ,  5862300),\n",
       "       ('JD', '29-Mar-17', 31.5 , 31.58, 31.42, 31.67,  3152800),\n",
       "       ('JD', '30-Mar-17', 31.5 , 31.56, 31.47, 31.89,  4907700),\n",
       "       ('JD', '31-Mar-17', 31.4 , 31.11, 31.08, 31.56,  5975200),\n",
       "       ('JD', '3-Apr-17', 31.43, 31.92, 31.27, 32.1 ,  7934900),\n",
       "       ('JD', '4-Apr-17', 31.8 , 31.44, 31.23, 31.89,  4927500),\n",
       "       ('JD', '5-Apr-17', 31.58, 31.53, 31.44, 32.06,  5368400),\n",
       "       ('JD', '6-Apr-17', 31.69, 32.23, 31.49, 32.26,  5840700),\n",
       "       ('JD', '7-Apr-17', 32.2 , 32.01, 31.57, 32.25,  5651000),\n",
       "       ('JD', '10-Apr-17', 32.16, 32.67, 32.15, 32.92,  8303800),\n",
       "       ('JD', '11-Apr-17', 32.7 , 32.3 , 32.22, 33.28,  8054200),\n",
       "       ('JD', '12-Apr-17', 32.31, 32.71, 32.31, 32.88,  6818000),\n",
       "       ('JD', '13-Apr-17', 32.74, 32.47, 32.45, 32.87,  3013600)],\n",
       "      dtype=[('name', '<U4'), ('time', '<U10'), ('opening_price', '<f8'), ('closing_price', '<f8'), ('lowest_price', '<f8'), ('highest_price', '<f8'), ('volume', '<i4')])"
      ]
     },
     "execution_count": 33,
     "metadata": {},
     "output_type": "execute_result"
    }
   ],
   "source": [
    "'''\n",
    "如有某公司的历史股票价格数据存储在一个名为\"data.csv\"文档中，\n",
    "将其读入numpy中作为一个数组对象。\n",
    "'''\n",
    "#自定义结构类型\n",
    "stock=np.dtype([('name',np.str_,4),\n",
    "                ('time',np.str_,10),\n",
    "                ('opening_price',np.float64),\n",
    "                ('closing_price',np.float64),\n",
    "                ('lowest_price',np.float64),\n",
    "                ('highest_price',np.float64),\n",
    "                ('volume',np.int32)])\n",
    "#利用自定义的结构类型，初始化结构化数组，即解释数组所占的内存。\n",
    "jd_stock=np.loadtxt('data/data.csv',delimiter=',',dtype=stock)\n",
    "jd_stock"
   ]
  },
  {
   "cell_type": "code",
   "execution_count": null,
   "metadata": {},
   "outputs": [],
   "source": []
  }
 ],
 "metadata": {
  "kernelspec": {
   "display_name": "Python 3",
   "language": "python",
   "name": "python3"
  },
  "language_info": {
   "codemirror_mode": {
    "name": "ipython",
    "version": 3
   },
   "file_extension": ".py",
   "mimetype": "text/x-python",
   "name": "python",
   "nbconvert_exporter": "python",
   "pygments_lexer": "ipython3",
   "version": "3.6.4"
  }
 },
 "nbformat": 4,
 "nbformat_minor": 2
}
