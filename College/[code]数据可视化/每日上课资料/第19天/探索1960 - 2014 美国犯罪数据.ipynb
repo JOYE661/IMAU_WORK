{
 "cells": [
  {
   "cell_type": "code",
   "execution_count": null,
   "metadata": {},
   "outputs": [],
   "source": [
    "# 运行以下代码\n",
    "import numpy as np\n",
    "import pandas as pd"
   ]
  },
  {
   "cell_type": "code",
   "execution_count": null,
   "metadata": {},
   "outputs": [],
   "source": [
    "crime = pd.read_csv(\"./data/US_Crime_Rates_1960_2014.csv\")"
   ]
  },
  {
   "cell_type": "code",
   "execution_count": null,
   "metadata": {},
   "outputs": [],
   "source": [
    "# 查看前几条数据\n",
    "crime.head()"
   ]
  },
  {
   "cell_type": "markdown",
   "metadata": {},
   "source": [
    "- Year: 时间\n",
    "- Population: 人数\n",
    "- Total:总数\n",
    "- Violent:暴力\n",
    "- Property:财产\n",
    "- Murder:凶杀\n",
    "- Forcible_Rape: 强暴 \n",
    "- Robbery:抢劫\n",
    "- Aggravated_assault:故意伤害\n",
    "- Burglary:入室盗窃\n",
    "- Larceny_Theft: 偷窃\n",
    "- Vehicle_Theft:车辆盗窃"
   ]
  },
  {
   "cell_type": "code",
   "execution_count": null,
   "metadata": {},
   "outputs": [],
   "source": [
    "# 查看每一列(column)的数据类型\n",
    "crime.info()"
   ]
  },
  {
   "cell_type": "markdown",
   "metadata": {},
   "source": [
    "Year的数据类型为 int64，但是pandas有一个不同的数据类型去处理时间序列(time series)，我们现在来看看"
   ]
  },
  {
   "cell_type": "markdown",
   "metadata": {},
   "source": [
    "#### 1. 将Year的数据类型转换为 datetime64\n",
    "`to_datetime` 转换时间戳\n",
    "\n",
    "你可能会想到，我们经常要和文本数据（字符串）打交道，能否快速将文本数据转为时间戳呢？\n",
    "\n",
    "      答案是可以的，通过 to_datetime 能快速将字符串转换为时间戳。当传递一个Series时，它会返回一个Series（具有相同的索引），而类似列表的则转换为DatetimeIndex。\n",
    "      \n",
    "`to_datetime(arg, errors='raise', dayfirst=False, yearfirst=False, utc=None, format=None, unit=None, infer_datetime_format=False, origin='unix')`\n",
    "\n",
    "函数用户将数组、序列或dict的对象转换为datetime对象\n",
    "\n",
    "- `arg` 要转换为日期时间的对象\n",
    "- `errors`:错误处理\n",
    "        If 'raise',将引发异常.\n",
    "        If 'coerce', 无效的转换,使用NaT.\n",
    "        If 'ignore', 无效的转换,将使用输入的数据.\n",
    "- `dayfirst` :转换时指定日期分析顺序 `yearfirst` \n",
    "- `utc` :控制与时区相关的解析、本地化和转换(忽略)\n",
    "- `format`: 用于分析时间的strftime，例如“%d/%m/%Y”,自定义格式\n",
    "- `unit` : D,s,ms 将时间戳转datetime\n",
    "- `origin`: 定义参考日期。数值将被解析为自该参考日期起的单位数"
   ]
  },
  {
   "cell_type": "code",
   "execution_count": null,
   "metadata": {},
   "outputs": [],
   "source": [
    "crime.Year = pd.to_datetime(crime.Year,format=\"%Y\")"
   ]
  },
  {
   "cell_type": "code",
   "execution_count": null,
   "metadata": {
    "scrolled": true
   },
   "outputs": [],
   "source": [
    "crime.info()"
   ]
  },
  {
   "cell_type": "code",
   "execution_count": null,
   "metadata": {},
   "outputs": [],
   "source": []
  },
  {
   "cell_type": "markdown",
   "metadata": {},
   "source": [
    "#### 2. 将列Year设置为数据框的索引\n",
    "`crime.set_index(\n",
    "    keys,\n",
    "    drop=True,\n",
    "    append=False,\n",
    "    inplace=False,\n",
    "    verify_integrity=False,\n",
    ")`\n",
    "keys：需要设置为index的列名\n",
    "drop：True or False。在将原来的列设置为index，是否需要删除原来的列。默认为True，即删除\n",
    "append：True or False。新的index设置之后，是否要删除原来的index。默认为True。\n",
    "inplace：True or False。是否要用新的DataFrame取代原来的DataFrame。默认False，即不取代。"
   ]
  },
  {
   "cell_type": "code",
   "execution_count": null,
   "metadata": {},
   "outputs": [],
   "source": [
    "crime.set_index('Year', inplace = True)\n",
    "crime.head()"
   ]
  },
  {
   "cell_type": "markdown",
   "metadata": {},
   "source": [
    "#### 3.删除名为Total的列\n",
    "使用del或者drop()\n",
    "\n",
    "`drop(labels=None, axis=0, index=None, columns=None,\n",
    "             level=None, inplace=False, errors='raise')`\n",
    "- labels：一个字符或者数值，加上axis ，表示带label标识的行或者列；如 (labels='A', axis=1) 表示A列\n",
    "- axis：axis=0表示行，axis=1表示列\n",
    "- columns：列名\n",
    "- index：表示dataframe的index, 如index=1, index=a\n",
    "- inplace：True表示删除某行后原dataframe变化，False不改变原始dataframe          "
   ]
  },
  {
   "cell_type": "code",
   "execution_count": null,
   "metadata": {},
   "outputs": [],
   "source": [
    "del crime['Total']"
   ]
  },
  {
   "cell_type": "code",
   "execution_count": null,
   "metadata": {},
   "outputs": [],
   "source": [
    "crime.head()"
   ]
  },
  {
   "cell_type": "markdown",
   "metadata": {},
   "source": [
    "#### 4.找每10年对数据进行统计,降维操作\n",
    "\n",
    "resample，重新采样，是对原样本重新处理的一个方法，是一个对常规时间序列数据重新采样和频率转换的便捷的方法。\n",
    "\n",
    "`DataFrame.resample(rule, closed=None, label=None, level=None)`\n",
    "\n",
    "- rule: 表示目标转换的偏移量字符串或对象\n",
    "- closed:在降采样时，各时间段的哪一段是闭合的，‘right’或‘left’，默认‘right’\n",
    "- label:在降采样时，如何设置聚合值的标签，例如，9：30-9：35会被标记成9：30还是\n",
    "9：35,默认9：35"
   ]
  },
  {
   "cell_type": "code",
   "execution_count": null,
   "metadata": {},
   "outputs": [],
   "source": [
    "#YS 表示每一年的开始时间\n",
    "crime.resample(\"10YS\").sum()"
   ]
  }
 ],
 "metadata": {
  "kernelspec": {
   "display_name": "Python 3",
   "language": "python",
   "name": "python3"
  },
  "language_info": {
   "codemirror_mode": {
    "name": "ipython",
    "version": 3
   },
   "file_extension": ".py",
   "mimetype": "text/x-python",
   "name": "python",
   "nbconvert_exporter": "python",
   "pygments_lexer": "ipython3",
   "version": "3.7.6"
  }
 },
 "nbformat": 4,
 "nbformat_minor": 4
}
