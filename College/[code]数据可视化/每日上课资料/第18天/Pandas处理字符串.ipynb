{
 "cells": [
  {
   "cell_type": "markdown",
   "metadata": {},
   "source": [
    "当我们遇到一个超级大的DataFrame，里面有一列类型为字符串，要将每一行的字符串都用同一方式进行处理，\n",
    "一般会想到遍历整合DataFrame，但是如果直接这样做的话将会耗费很长时间，有时几个小时都处理不完。\n",
    "因此我们将学习pandas快速处理字符串方法。"
   ]
  },
  {
   "cell_type": "markdown",
   "metadata": {},
   "source": [
    "## 一 向量化字符串操作简介"
   ]
  },
  {
   "cell_type": "markdown",
   "metadata": {},
   "source": [
    "量化操作简化了纯数值的数组操作语法，我们不需要再担心数组的长度或维度，只需要把中心放在操作上面。\n",
    "而对字符串的向量化需要工具包的支持，如Numpy就没办法直接对字符串进行向量化操作，只能通过繁琐的循环来实现。\n",
    "Pandas则可以很好的处理这类问题。"
   ]
  },
  {
   "cell_type": "markdown",
   "metadata": {},
   "source": [
    "## 二、str方法的简介"
   ]
  },
  {
   "cell_type": "markdown",
   "metadata": {},
   "source": [
    "Python会处理字符串起来会很容易，作为工具包的Pandas同样可以简单快速的处理字符串，\n",
    "几乎把Python内置的字符串方法都给复制过来了，这种方法就是Pandas内置的str方法，\n",
    "通俗来说就可以将series和index对象中包含字符串的部分简单看作单个字符串处理，达到批量简单快速处理的目的"
   ]
  },
  {
   "cell_type": "markdown",
   "metadata": {},
   "source": [
    "- `lower()` \t将的字符串转换为小写。\n",
    "- `upper()` \t将的字符串转换为大写。\n",
    "- `len()` \t得出字符串的长度。\n",
    "- `strip()` \t去除字符串两边的空格（包含换行符）。\n",
    "- `split()` \t用指定的分割符分割字符串。\n",
    "- `cat(sep=\"\")` \t用给定的分隔符连接字符串元素。\n",
    "- `contains(pattern)`\t如果子字符串包含在元素中，则为每个元素返回一个布尔值 True，否则为 False。\n",
    "- `replace(a,b)` \t将值 a 替换为值 b。\n",
    "- `count(pattern)` \t返回每个字符串元素出现的次数。\n",
    "- `startswith(pattern)` \t如果 Series 中的元素以指定的字符串开头，则返回 True。\n",
    "- `endswith(pattern)`\t如果 Series 中的元素以指定的字符串结尾，则返回 True。\n",
    "- `findall(pattern)` \t以列表的形式返出现的字符串。\n",
    "- `find(pattern)` \t返回字符串第一次出现的索引位置。"
   ]
  },
  {
   "cell_type": "markdown",
   "metadata": {},
   "source": [
    "> 注意：上述所有字符串函数全部适用于 DataFrame 对象，同时也可以与 Python 内置的字符串函数一起使用，这些函数在处理 Series/DataFrame 对象的时候会自动忽略缺失值数据（NaN）"
   ]
  },
  {
   "cell_type": "code",
   "execution_count": null,
   "metadata": {},
   "outputs": [],
   "source": [
    "import pandas as pd\n",
    "import numpy as np"
   ]
  },
  {
   "cell_type": "markdown",
   "metadata": {},
   "source": [
    "- `lower()` \t将的字符串转换为小写。"
   ]
  },
  {
   "cell_type": "code",
   "execution_count": null,
   "metadata": {},
   "outputs": [],
   "source": [
    "s = pd.Series(['C', 'Python', 'java', 'go', np.nan, '1125','javascript'])\n",
    "s.str.lower()"
   ]
  },
  {
   "cell_type": "markdown",
   "metadata": {},
   "source": [
    "- upper() 将的字符串转换为大写。"
   ]
  },
  {
   "cell_type": "code",
   "execution_count": null,
   "metadata": {},
   "outputs": [],
   "source": [
    "s = pd.Series(['C', 'Python', 'java', 'go', np.nan, '1125','javascript'])\n",
    "s.str.upper()"
   ]
  },
  {
   "cell_type": "markdown",
   "metadata": {},
   "source": [
    "- `len()` 得出字符串的长度。"
   ]
  },
  {
   "cell_type": "code",
   "execution_count": null,
   "metadata": {},
   "outputs": [],
   "source": [
    "s = pd.Series(['C', 'Python', 'java', 'go', np.nan, '1125','javascript'])\n",
    "s.str.len()"
   ]
  },
  {
   "cell_type": "markdown",
   "metadata": {},
   "source": [
    "- `strip()` 去除字符串两边的空格（包含换行符）。"
   ]
  },
  {
   "cell_type": "code",
   "execution_count": null,
   "metadata": {},
   "outputs": [],
   "source": [
    "s = pd.Series(['C ', ' Python\\t', '    java     ', 'go\\t', np.nan, '\\t1125 ','\\tjavascript'])\n",
    "s.str.strip()"
   ]
  },
  {
   "cell_type": "markdown",
   "metadata": {},
   "source": [
    "- `split()` 用指定的分割符分割字符串。"
   ]
  },
  {
   "cell_type": "code",
   "execution_count": null,
   "metadata": {},
   "outputs": [],
   "source": [
    "s = pd.Series(['Zhang hua',' Py thon','java','go','11 25 ','javascript'])\n",
    "print(s.str.split(\" \"))"
   ]
  },
  {
   "cell_type": "markdown",
   "metadata": {},
   "source": [
    "- `cat(sep=\"\")` 用给定的分隔符连接字符串元素。"
   ]
  },
  {
   "cell_type": "code",
   "execution_count": null,
   "metadata": {},
   "outputs": [],
   "source": [
    "s = pd.Series(['C', 'Python', 'java', 'go', np.nan, '1125','javascript'])\n",
    "#会自动忽略NaN\n",
    "s.str.cat(sep=\"_\")"
   ]
  },
  {
   "cell_type": "markdown",
   "metadata": {},
   "source": [
    "- `contains(pattern)` 如果子字符串包含在元素中，则为每个元素返回一个布尔值 True，否则为 False。"
   ]
  },
  {
   "cell_type": "code",
   "execution_count": null,
   "metadata": {},
   "outputs": [],
   "source": [
    "s = pd.Series(['C ',' Python','java','go','1125 ','javascript'])\n",
    "s.str.contains(\" \")"
   ]
  },
  {
   "cell_type": "markdown",
   "metadata": {},
   "source": [
    "- `replace(a,b)` \t将值 a 替换为值 b。"
   ]
  },
  {
   "cell_type": "code",
   "execution_count": null,
   "metadata": {},
   "outputs": [],
   "source": [
    "s = pd.Series(['C ',' Python','java','go','1125 ','javascript'])\n",
    "s.str.replace(\"java\",\"python\")"
   ]
  },
  {
   "cell_type": "markdown",
   "metadata": {},
   "source": [
    "- `count(pattern)` \t返回每个字符串元素出现的次数。"
   ]
  },
  {
   "cell_type": "code",
   "execution_count": null,
   "metadata": {},
   "outputs": [],
   "source": [
    "s = pd.Series(['C ','Python Python','Python','go','1125 ','javascript'])\n",
    "s.str.count(\"Python\")"
   ]
  },
  {
   "cell_type": "markdown",
   "metadata": {},
   "source": [
    "- `startswith(pattern)` \t如果 Series 中的元素以指定的字符串开头，则返回 True。\n",
    "- `endswith(pattern)`\t如果 Series 中的元素以指定的字符串结尾，则返回 True。"
   ]
  },
  {
   "cell_type": "code",
   "execution_count": null,
   "metadata": {},
   "outputs": [],
   "source": [
    "s = pd.Series(['C ',' Python','java','go','1125 ','javascript'])\n",
    "#若以指定的\"j\"开头则返回True\n",
    "print(s.str.startswith(\"j\"))\n"
   ]
  },
  {
   "cell_type": "code",
   "execution_count": null,
   "metadata": {},
   "outputs": [],
   "source": [
    "#若以指定的\"j\"开头则返回True\n",
    "print(s.str.endswith(\"a\"))"
   ]
  },
  {
   "cell_type": "markdown",
   "metadata": {},
   "source": [
    "- `repeat(value)` \t以指定的次数重复每个元素。"
   ]
  },
  {
   "cell_type": "code",
   "execution_count": null,
   "metadata": {},
   "outputs": [],
   "source": [
    "s = pd.Series(['C ',' Python','java','go','1125 ','javascript'])\n",
    "print(s.str.repeat(3))"
   ]
  },
  {
   "cell_type": "markdown",
   "metadata": {},
   "source": [
    "- `find(pattern)` \t返回字符串第一次出现的索引位置。"
   ]
  },
  {
   "cell_type": "code",
   "execution_count": null,
   "metadata": {},
   "outputs": [],
   "source": [
    "s = pd.Series(['C ',' Python','java','go','1125 ','javascript'])\n",
    "print(s.str.find(\"a\"))\n",
    "# 如果返回 -1 表示该字符串中没有出现指定的字符。"
   ]
  },
  {
   "cell_type": "markdown",
   "metadata": {},
   "source": [
    "- `findall(pattern)` \t以列表的形式返出现的字符串。"
   ]
  },
  {
   "cell_type": "code",
   "execution_count": null,
   "metadata": {},
   "outputs": [],
   "source": [
    "s = pd.Series(['C ',' Python','java','go','1125 ','javascript'])\n",
    "print(s.str.findall(\"a\"))"
   ]
  }
 ],
 "metadata": {
  "kernelspec": {
   "display_name": "Python 3",
   "language": "python",
   "name": "python3"
  },
  "language_info": {
   "codemirror_mode": {
    "name": "ipython",
    "version": 3
   },
   "file_extension": ".py",
   "mimetype": "text/x-python",
   "name": "python",
   "nbconvert_exporter": "python",
   "pygments_lexer": "ipython3",
   "version": "3.7.6"
  }
 },
 "nbformat": 4,
 "nbformat_minor": 4
}
