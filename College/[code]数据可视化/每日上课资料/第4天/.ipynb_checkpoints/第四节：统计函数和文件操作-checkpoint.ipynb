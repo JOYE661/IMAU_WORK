{
 "cells": [
  {
   "cell_type": "markdown",
   "metadata": {},
   "source": [
    "# 统计函数\n",
    "NumPy 能方便地求出统计学常见的描述性统计量。"
   ]
  },
  {
   "cell_type": "code",
   "execution_count": 1,
   "metadata": {},
   "outputs": [],
   "source": [
    "import numpy as np"
   ]
  },
  {
   "cell_type": "markdown",
   "metadata": {},
   "source": [
    "### 求平均值 mean()"
   ]
  },
  {
   "cell_type": "code",
   "execution_count": 2,
   "metadata": {},
   "outputs": [
    {
     "name": "stdout",
     "output_type": "stream",
     "text": [
      "[[ 0  1  2  3  4]\n",
      " [ 5  6  7  8  9]\n",
      " [10 11 12 13 14]\n",
      " [15 16 17 18 19]]\n"
     ]
    },
    {
     "data": {
      "text/plain": [
       "9.5"
      ]
     },
     "execution_count": 2,
     "metadata": {},
     "output_type": "execute_result"
    }
   ],
   "source": [
    "m1 = np.arange(20).reshape((4,5))\n",
    "print(m1)\n",
    "# 默认求出数组所有元素的平均值\n",
    "m1.mean()"
   ]
  },
  {
   "cell_type": "markdown",
   "metadata": {},
   "source": [
    "#### 若想求某一维度的平均值，设置 axis 参数，多维数组的元素指定\n",
    "\n",
    "<img src=\"https://gitee.com/wu-chao-588/picgo/raw/master/images/image-20220306224655273.png\" />\n",
    "\n",
    "- axis = 0,将从上往下计算\n",
    "- axis = 1,将从左往右计算"
   ]
  },
  {
   "cell_type": "code",
   "execution_count": 3,
   "metadata": {},
   "outputs": [
    {
     "name": "stdout",
     "output_type": "stream",
     "text": [
      "[[ 0  1  2  3  4]\n",
      " [ 5  6  7  8  9]\n",
      " [10 11 12 13 14]\n",
      " [15 16 17 18 19]]\n"
     ]
    },
    {
     "data": {
      "text/plain": [
       "array([ 7.5,  8.5,  9.5, 10.5, 11.5])"
      ]
     },
     "execution_count": 3,
     "metadata": {},
     "output_type": "execute_result"
    }
   ],
   "source": [
    "m1 = np.arange(20).reshape((4,5))\n",
    "print(m1)\n",
    "# axis=0将从上往下计算平均值\n",
    "m1.mean(axis=0)"
   ]
  },
  {
   "cell_type": "code",
   "execution_count": 4,
   "metadata": {},
   "outputs": [
    {
     "data": {
      "text/plain": [
       "array([ 2.,  7., 12., 17.])"
      ]
     },
     "execution_count": 4,
     "metadata": {},
     "output_type": "execute_result"
    }
   ],
   "source": [
    "# axis=1 将从左往右计算平均值\n",
    "m1.mean(axis=1)"
   ]
  },
  {
   "cell_type": "markdown",
   "metadata": {},
   "source": [
    "### 中位数 np.median\n",
    "又称中点数，中值\n",
    "\n",
    "是按顺序排列的一组数据中居于中间位置的数，代表一个样本、种群或概率分布中的一个数值\n",
    "\n",
    "- 平均数：是一个\"虚拟\"的数，是通过计算得到的，它不是数据中的原始数据。. 中位数：是一个不完全\"虚拟\"的数。\n",
    "- 平均数：反映了一组数据的平均大小，常用来一代表数据的总体 \"平均水平\"。. 中位数：像一条分界线，将数据分成前半部分和后半部分，因此用来代表一组数据的\"中等水平\""
   ]
  },
  {
   "cell_type": "code",
   "execution_count": 5,
   "metadata": {},
   "outputs": [
    {
     "data": {
      "text/plain": [
       "5.0"
      ]
     },
     "execution_count": 5,
     "metadata": {},
     "output_type": "execute_result"
    }
   ],
   "source": [
    "ar1 = np.array([1,3,5,6,8])\n",
    "np.median(ar1)"
   ]
  },
  {
   "cell_type": "code",
   "execution_count": 6,
   "metadata": {},
   "outputs": [
    {
     "data": {
      "text/plain": [
       "5.5"
      ]
     },
     "execution_count": 6,
     "metadata": {},
     "output_type": "execute_result"
    }
   ],
   "source": [
    "ar1 = np.array([1,3,5,6,8,9])\n",
    "np.median(ar1)"
   ]
  },
  {
   "cell_type": "code",
   "execution_count": null,
   "metadata": {},
   "outputs": [],
   "source": []
  },
  {
   "cell_type": "markdown",
   "metadata": {},
   "source": [
    "### 求标准差 ndarray.std\n",
    "在概率统计中最常使用作为统计分布程度上的测量,是反映一组数据离散程度最常用的一种量化形式，是表示精确度的重要指标\n",
    "- 标准差定义是总体各单位标准值与其平均数离差平方的算术平均数的平方根。\n",
    "\n",
    "简单来说，标准差是一组数据平均值分散程度的一种度量。\n",
    "- 一个较大的标准差，代表大部分数值和其平均值之间差异较大；\n",
    "- 一个较小的标准差，代表这些数值较接近平均值。"
   ]
  },
  {
   "cell_type": "code",
   "execution_count": 15,
   "metadata": {},
   "outputs": [
    {
     "name": "stdout",
     "output_type": "stream",
     "text": [
      "17.07825127659933\n",
      "2.160246899469287\n"
     ]
    }
   ],
   "source": [
    "'''\n",
    "例如，A、B两组各有6位学生参加同一次语文测验，\n",
    "A组的分数为95、85、75、65、55、45，\n",
    "B组的分数为73、72、71、69、68、67。\n",
    "分析那组学生之间的差距大?\n",
    "'''\n",
    "a = np.array([95,85,75,65,55,45])\n",
    "b = np.array([73,72,71,69,68,67])\n",
    "print(np.std(a))\n",
    "print(np.std(b))"
   ]
  },
  {
   "cell_type": "code",
   "execution_count": 14,
   "metadata": {},
   "outputs": [
    {
     "data": {
      "text/plain": [
       "17.07825127659933"
      ]
     },
     "execution_count": 14,
     "metadata": {},
     "output_type": "execute_result"
    }
   ],
   "source": [
    "import math\n",
    "# 按步骤计算下标准差\n",
    "(a - np.mean(a))**2)\n",
    "math.sqrt(np.sum(((a - np.mean(a))**2)/a.size))\n"
   ]
  },
  {
   "cell_type": "markdown",
   "metadata": {},
   "source": [
    ">标准差应用于投资上，可作为量度回报稳定性的指标。标准差数值越大，代表回报远离过去平均数值，回报较不稳定故风险越高。相反，标准差数值越小，代表回报较为稳定，风险亦较小。"
   ]
  },
  {
   "cell_type": "markdown",
   "metadata": {},
   "source": [
    "###  方差ndarray.var()\n",
    "\n",
    "衡量随机变量或一组数据时离散程度的度量"
   ]
  },
  {
   "cell_type": "code",
   "execution_count": 16,
   "metadata": {},
   "outputs": [
    {
     "name": "stdout",
     "output_type": "stream",
     "text": [
      "A组的方差为: 291.6666666666667\n",
      "B组的方准差为: 4.666666666666667\n"
     ]
    }
   ],
   "source": [
    "a = np.array([95,85,75,65,55,45])\n",
    "b = np.array([73,72,71,69,68,67])\n",
    "print('A组的方差为:',a.var())\n",
    "print('B组的方准差为:',b.var())"
   ]
  },
  {
   "cell_type": "markdown",
   "metadata": {},
   "source": [
    "> 标准差有计量单位，而方差无计量单位，但两者的作用一样，虽然能很好的描述数据与均值的偏离程度，但是处理结果是不符合我们的直观思维的。 "
   ]
  },
  {
   "cell_type": "markdown",
   "metadata": {},
   "source": [
    "### 求最大值 ndarray.max()"
   ]
  },
  {
   "cell_type": "code",
   "execution_count": 17,
   "metadata": {},
   "outputs": [
    {
     "name": "stdout",
     "output_type": "stream",
     "text": [
      "[[ 0  1  2  3  4]\n",
      " [ 5  6  7  8  9]\n",
      " [10 11 12 13 14]\n",
      " [15 16 17 18 19]]\n",
      "19\n",
      "axis=0,从上往下查找: [15 16 17 18 19]\n",
      "axis=1,从左往右查找 [ 4  9 14 19]\n"
     ]
    }
   ],
   "source": [
    "print(m1)\n",
    "print(m1.max())\n",
    "print('axis=0,从上往下查找:',m1.max(axis=0))\n",
    "print('axis=1,从左往右查找',m1.max(axis=1))"
   ]
  },
  {
   "cell_type": "markdown",
   "metadata": {},
   "source": [
    "### 求最小值 ndarray.min()"
   ]
  },
  {
   "cell_type": "code",
   "execution_count": null,
   "metadata": {},
   "outputs": [],
   "source": [
    "print(m1)\n",
    "print(m1.min())\n",
    "print('axis=0,从上往下查找:',m1.min(axis=0))\n",
    "print('axis=1,从左往右查找',m1.min(axis=1))"
   ]
  },
  {
   "cell_type": "markdown",
   "metadata": {},
   "source": [
    "### 求和 ndarray.sum()"
   ]
  },
  {
   "cell_type": "code",
   "execution_count": null,
   "metadata": {},
   "outputs": [],
   "source": [
    "print(m1)\n",
    "print(m1.sum())\n",
    "print('axis=0,从上往下查找:',m1.sum(axis=0))\n",
    "print('axis=1,从左往右查找',m1.sum(axis=1))"
   ]
  },
  {
   "cell_type": "markdown",
   "metadata": {},
   "source": [
    "\n",
    "### 加权平均值 numpy.average()\n",
    "即将各数值乘以相应的权数，然后加总求和得到总体值，再除以总的单位数\n",
    "\n",
    "<b>numpy.average(a, axis=None, weights=None, returned=False)</b>\n",
    "\n",
    "- weights： 数组，可选\n",
    "\n",
    "    `与 a 中的值关联的权重数组。 a 中的每个值都根据其关联的权重对平均值做出贡献。权重数组可以是一维的(在这种情况下，它的长度必须是沿给定轴的 a 的大小)或与 a 具有相同的形状。如果 weights=None，则假定 a 中的所有数据的权重等于 1。一维计算是：\n",
    "\n",
    "    avg = sum(a * weights) / sum(weights)\n",
    "\n",
    "    对权重的唯一限制是 sum(weights) 不能为 0。`\n"
   ]
  },
  {
   "cell_type": "code",
   "execution_count": 18,
   "metadata": {},
   "outputs": [
    {
     "name": "stdout",
     "output_type": "stream",
     "text": [
      "33.333333333333336\n",
      "33.333333333333336\n"
     ]
    }
   ],
   "source": [
    "average_a1 = [20,30,50]\n",
    "\n",
    "print(np.average(average_a1))\n",
    "print(np.mean(average_a1))\n"
   ]
  },
  {
   "cell_type": "markdown",
   "metadata": {},
   "source": [
    "# 实例\n",
    "\n",
    "\n",
    "使用“示例—权重已知”中的数据，我们对比两位学生的考试成绩\n",
    "\n",
    "| 姓名| 平时测验|期中考试| 期末考试|\n",
    "|--| -- |:--| :--|\n",
    "|小明| 80 |90| 95|  \n",
    "|小刚| 95 |90| 80| \n",
    "\n",
    "学校规定的学科综合成绩的计算方式是：\n",
    "\n",
    "| 平时测验占比|期中考试占比| 期末考试占比|\n",
    "| -- |:--| :--|\n",
    "| 20% |30%| 50%|   \n",
    "\n",
    "要求 :比较谁的综合成绩更好\n"
   ]
  },
  {
   "cell_type": "code",
   "execution_count": 21,
   "metadata": {},
   "outputs": [
    {
     "name": "stdout",
     "output_type": "stream",
     "text": [
      "88.33333333333333\n",
      "88.33333333333333\n",
      "90.5\n",
      "86.0\n"
     ]
    }
   ],
   "source": [
    "xiaoming = np.array([80,90,95])\n",
    "xiaogang = np.array([95,90,80])\n",
    "# 权重:\n",
    "\n",
    "weights = np.array([0.2,0.3,0.5])\n",
    "# 分别计算小明和小刚的平均值\n",
    "print(np.mean(xiaoming))\n",
    "print(np.mean(xiaogang))\n",
    "\n",
    "# 分别计算小明和小刚的加权平均值\n",
    "print(np.average(xiaoming,weights=weights))\n",
    "print(np.average(xiaogang,weights=weights))\n",
    "# 对比得到结果\n"
   ]
  },
  {
   "cell_type": "markdown",
   "metadata": {},
   "source": [
    "股票价格的波动是股票市场风险的表现，因此股票市场风险分析就是对股票市场价格波动进行分析。波动性代表了未来价格取值的不确定性，这种不确定性一般用`方差`或`标准差`来刻画（Markowitz,1952）。\n",
    "\n",
    "下表是中国和美国部分时段的股票统计指标，其中中国证券市场的数据由“钱龙”软件下载，美国证券市场的数据取自ECI的“WorldStockExchangeDataDisk”。表2股票统计指标\n",
    "\n",
    "\n",
    "\n",
    "| 年份 | 业绩表现                                          | 业绩表现                                                  | 波动率                                            | 波动率                                                    |\n",
    "| ---- | ------------------------------------------------- | --------------------------------------------------------- | ------------------------------------------------- | :-------------------------------------------------------- |\n",
    "| 年代 | [上证综指] | [标准普尔指数] | [上证综指] | [标准普尔指数] |\n",
    "| 1996 | 110.93                                            | 16.46                                                     | 0.2376                                            | 0.0573                                                    |\n",
    "| 1997 | -0.13                                             | 31.01                                                     | 0.1188                                            | 0.0836                                                    |\n",
    "| 1998 | 8.94                                              | 26.67                                                     | 0.0565                                            | 0.0676                                                    |\n",
    "| 1999 | 17.24                                             | 19.53                                                     | 0.1512                                            | 0.0433                                                    |\n",
    "| 2000 | 43.86                                             | -10.14                                                    | 0.097                                             | 0.0421                                                    |\n",
    "| 2001 | -15.34                                            | -13.04                                                    | 0.0902                                            | 0.0732                                                    |\n",
    "| 2002 | -20.82                                            | -23.37                                                    | 0.0582                                            | 0.1091                                                    |\n",
    "\n",
    "\n",
    "变异系数（Coefficient of Variation）：当需要比较两组数据离散程度大小的时候，如果两组数据的测量尺度相差太大，或者数据量纲的不同，直接使用标准差来进行比较不合适，此时就应当消除测量尺度和量纲的影响，而变异系数可以做到这一点，它是原始数据标准差与原始数据平均数的比"
   ]
  },
  {
   "cell_type": "code",
   "execution_count": 26,
   "metadata": {},
   "outputs": [
    {
     "name": "stdout",
     "output_type": "stream",
     "text": [
      "[20.66857143 17.13428571  0.11564286  0.06802857]\n",
      "[4.18923479e+01 1.24739349e+01 5.84811046e-02 2.18930983e-02]\n"
     ]
    },
    {
     "data": {
      "text/plain": [
       "array([2.02686228, 0.72801021, 0.50570442, 0.32182211])"
      ]
     },
     "execution_count": 26,
     "metadata": {},
     "output_type": "execute_result"
    }
   ],
   "source": [
    "# 股票信息\n",
    "stat_info = np.array([\n",
    "                [110.93, 16.46, 0.2376, 0.0573],\n",
    "                [-0.13, 31.01, 0.1188, 0.0836],\n",
    "                [8.94, 26.67, 0.0565, 0.0676],\n",
    "                [17.24, 19.53, 0.1512, 0.0433],\n",
    "                [43.86, -10.14, 0.097, 0.0421],\n",
    "                [-15.34, 13.04, 0.0902, 0.0732],\n",
    "                [-20.82, 23.37, 0.0582, 0.1091]\n",
    "])\n",
    "    \n",
    "# 先计算7年的期望值(平均值)\n",
    "stat_mean = np.mean(stat_info,axis=0)\n",
    "print(stat_mean)\n",
    "\n",
    "# 计算7年的标准差\n",
    "stat_std = np.std(stat_info,axis=0)\n",
    "print(stat_std) \n",
    "# 因为标准差是绝对值，不能通过标准差对中美直接进行对比，而变异系数可以直接比较\n",
    "# 变异系数 = 原始数据标准差 / 原始数据平均数\n",
    "stat_std/stat_mean"
   ]
  },
  {
   "cell_type": "markdown",
   "metadata": {},
   "source": [
    "# 数据类型\n",
    "\n",
    "| 名称 \t| 描述 | 名称 \t| 描述 |\n",
    "| ------  \t|:------ |------  \t|:------ |\n",
    "| bool_\t| 布尔型数据类型（True 或者 False） |float_\t| float64 类型的简写 |\n",
    "|int_\t | 默认的整数类型（类似于 C 语言中的 long，int32 或 int64） |float16/32/64\t| 半精度浮点数:1 个符号位，5 个指数位，10个尾数位<br/>单精度浮点数:1 个符号位，8 个指数位，23个尾数位<br/>双精度浮点数,包括：1 个符号位，11 个指数位，52个尾数位|\n",
    "| intc \t | 和 C 语言的 int 类型一样，一般是 int32 或 int 64 |complex_\t| 复数类型，与 complex128 类型相同 |\n",
    "| intp \t | 用于索引的整数类型（类似于 C 的 ssize_t，通常为 int32 或 int64） |complex64/128\t| 复数，表示双 32 位浮点数（实数部分和虚数部分）<br/>复数，表示双 64 位浮点数（实数部分和虚数部分） |\n",
    "| int8/16/32/64  | \t代表与1字节相同的8位整数<br/>代表与2字节相同的16位整数<br/>代表与4字节相同的32位整数<br/>代表与8字节相同的64位整数 |str_\t| 表示字符串类型 |\n",
    "| uint8/16/32/64  | 代表1字节（8位）无符号整数<br/>代表与2字节相同的16位整数<br/>代表与4字节相同的32位整数<br/>代表与8字节相同的64位整数 |string_\t| 表示字节串类型,也就是bytes类型 |"
   ]
  },
  {
   "cell_type": "code",
   "execution_count": null,
   "metadata": {
    "scrolled": true
   },
   "outputs": [],
   "source": [
    "# 将数组中的类型存储为浮点型\n",
    "a = np.array([1,2,3,4],dtype=np.float64)\n",
    "a"
   ]
  },
  {
   "cell_type": "code",
   "execution_count": null,
   "metadata": {},
   "outputs": [],
   "source": [
    "# 将数组中的类型存储为布尔类型\n",
    "a = np.array([0,1,2,3,4],dtype=np.bool_)\n",
    "print(a)\n",
    "a = np.array([0,1,2,3,4],dtype=np.float_)\n",
    "print(a)"
   ]
  },
  {
   "cell_type": "code",
   "execution_count": 27,
   "metadata": {},
   "outputs": [
    {
     "name": "stdout",
     "output_type": "stream",
     "text": [
      "['1' '2' '3' '4' '5' '6'] <U1\n",
      "[b'1' b'2' b'3' b'4' b'5' b'6'] |S1\n",
      "['我们' '2' '3' '4' '5' '6'] <U2\n"
     ]
    }
   ],
   "source": [
    "# str_和string_区别\n",
    "str1 = np.array([1,2,3,4,5,6],dtype=np.str_)\n",
    "string1 = np.array([1,2,3,4,5,6],dtype=np.string_)\n",
    "\n",
    "str2 = np.array(['我们',2,3,4,5,6],dtype=np.str_)\n",
    "\n",
    "print(str1,str1.dtype)\n",
    "print(string1,string1.dtype)\n",
    "print(str2,str2.dtype)"
   ]
  },
  {
   "cell_type": "markdown",
   "metadata": {},
   "source": [
    "在内存里统一使用unicode， 记录到硬盘或者编辑文本的时候都转换成了utf8 UTF-8 将Unicode编码后的字符串保存到硬盘的一种压缩编码方式"
   ]
  },
  {
   "cell_type": "markdown",
   "metadata": {},
   "source": [
    "### 定义结构化数据\n",
    "\n",
    "使用数据类型标识码\n",
    "\n",
    "| 字符 \t| 对应类型 | 字符 \t| 对应类型 | 字符 \t| 对应类型 | 字符 \t| 对应类型 |\n",
    "| ------  \t|:------ |------  \t|:------ | ------  \t|:------ |------  \t|:------ |\n",
    "| b \t| 代表布尔型| i \t| 带符号整型| u \t| 无符号整型| f \t| 浮点型|  \n",
    "| c \t| 复数浮点型| m \t| 时间间隔（timedelta）| M \t| datatime（日期时间）| O \t| Python对象|  \n",
    "| S,a \t| 字节串（S）与字符串（a）| U \t| Unicode| V \t| 原始数据（void）|  \t| |   \n",
    " \n",
    "\n",
    "还可以将两个字符作为参数传给数据类型的构造函数。此时，第一个字符表示数据类型，\n",
    "第二个字符表示该类型在内存中占用的字节数（2、4、8分别代表精度为16、32、64位的\n",
    "浮点数）："
   ]
  },
  {
   "cell_type": "code",
   "execution_count": 82,
   "metadata": {},
   "outputs": [
    {
     "name": "stdout",
     "output_type": "stream",
     "text": [
      "[('age', '<U1')]\n",
      "[('我',) ('1',)] [('age', '<U1')] 1\n",
      "['我' '1']\n"
     ]
    }
   ],
   "source": [
    "# 首先创建结构化数据类型\n",
    "dt = np.dtype([('age','U1')]) \n",
    "print(dt)\n",
    "# 将数据类型应用于 ndarray 对象\n",
    "students = np.array([(\"我们\"),(128)],dtype=dt)\n",
    "print(students,students.dtype,students.ndim)\n",
    "print(students['age'])"
   ]
  },
  {
   "cell_type": "markdown",
   "metadata": {},
   "source": [
    "以下示例描述一位老师的姓名、年龄、工资的特征，该结构化数据其包含以下字段：\n",
    "\n",
    "    str 字段：name\n",
    "    int 字段：age\n",
    "    float 字段：salary"
   ]
  },
  {
   "cell_type": "code",
   "execution_count": 38,
   "metadata": {},
   "outputs": [
    {
     "name": "stdout",
     "output_type": "stream",
     "text": [
      "[('wl', 32, 8357.5) ('lh', 28, 7856.8)]\n"
     ]
    },
    {
     "data": {
      "text/plain": [
       "array([32, 28], dtype=int8)"
      ]
     },
     "execution_count": 38,
     "metadata": {},
     "output_type": "execute_result"
    }
   ],
   "source": [
    "import numpy as np\n",
    "teacher = np.dtype([('name',np.str_,2), ('age', 'i1'), ('salary', 'f4')])\n",
    "#输出结构化数据teacher\n",
    "#print(teacher)\n",
    "#将其应用于ndarray对象\n",
    "b = np.array([('wl', 32, 8357.50),\n",
    "              ('lh', 28, 7856.80)\n",
    "             ], dtype = teacher) \n",
    "print(b)\n",
    "b['name']\n",
    "b['age']"
   ]
  },
  {
   "cell_type": "markdown",
   "metadata": {},
   "source": [
    "### 结构化数据操作"
   ]
  },
  {
   "cell_type": "code",
   "execution_count": null,
   "metadata": {},
   "outputs": [],
   "source": [
    "# 使用数组名[结构化名]\n",
    "print(b)\n",
    "# 取出数组中的所有名称\n",
    "print(b['name'])\n",
    "# 取出数据中的所有年龄\n",
    "print(b['age'])"
   ]
  },
  {
   "cell_type": "markdown",
   "metadata": {},
   "source": [
    "# 操作文件  loadtxt\n",
    "loadtxt读取txt文本、、csv文件\n",
    "\n",
    "`loadtxt(fname, dtype=<type 'float'>, comments='#', delimiter=None, converters=None, skiprows=0, usecols=None, unpack=False, ndmin=0,encoding='bytes')`\n",
    "\n",
    "参数：\n",
    "\n",
    "- fname：指定文件名称或字符串。支持压缩文件，包括gz、bz格式。\n",
    "\n",
    "- dtype：数据类型。 默认float。\n",
    "\n",
    "- comments：字符串或字符串组成的列表。表示注释字符集开始的标志，默认为#。\n",
    "\n",
    "- delimiter：字符串。分隔符。\n",
    "\n",
    "- converters：字典。将特定列的数据转换为字典中对应的函数的浮点型数据。例如将空值转换为0，默认为空。\n",
    "\n",
    "- skiprows：跳过特定行数据。例如跳过前1行（可能是标题或注释）。默认为0。\n",
    "\n",
    "- usecols：元组。用来指定要读取数据的列，第一列为0。例如（1， 3， 5），默认为空。\n",
    "\n",
    "- unpack：布尔型。指定是否转置数组，如果为真则转置，默认为False。\n",
    "\n",
    "- ndmin：整数型。指定返回的数组至少包含特定维度的数组。值域为0、1、2，默认为0。\n",
    "- encoding:编码,  确认文件是gbk还是utf-8 格式\n",
    "\n",
    "返回：从文件中读取的数组。"
   ]
  },
  {
   "cell_type": "markdown",
   "metadata": {},
   "source": [
    "### 读取普通文件\n",
    "b如data1.txt存在数据:\n",
    "\n",
    "0 1 2 3 4 5 6 7 8 9\n",
    "\n",
    "...\n",
    "\n",
    "20 21 22 23 24 25 26 27 28 29\n"
   ]
  },
  {
   "cell_type": "code",
   "execution_count": 69,
   "metadata": {},
   "outputs": [
    {
     "name": "stdout",
     "output_type": "stream",
     "text": [
      "[[ 0  1  3  3  4  5  6  7  8  9]\n",
      " [20 21 22 23 24 25 26 27 28 29]] (2, 10)\n"
     ]
    }
   ],
   "source": [
    "# 读取普通文件文件 ,可以不用设置分隔符(空格 制表符)\n",
    "data = np.loadtxt(r'D:\\桌面\\数据分析-班级\\1-2班\\data1.txt',dtype=np.int32)\n",
    "print(data,data.shape)"
   ]
  },
  {
   "cell_type": "code",
   "execution_count": 46,
   "metadata": {},
   "outputs": [
    {
     "name": "stdout",
     "output_type": "stream",
     "text": [
      "[[ 0  1  2  3  4  5  6  7  8  9]\n",
      " [10 11 12 13 14 15 16 17 18 19]\n",
      " [20 21 22 23 24 25 26 27 28 29]] (3, 10)\n"
     ]
    }
   ],
   "source": [
    "# 读取csv文件 ,取药设置分隔符,csv默认为,号\n",
    "data = np.loadtxt('csv_test.csv',dtype=np.int32,delimiter=',')\n",
    "print(data,data.shape)"
   ]
  },
  {
   "cell_type": "markdown",
   "metadata": {},
   "source": [
    "### 不同列标识不同信息 数据读取\n",
    "数据如下:\n",
    "\n",
    "姓名 年龄 性别 身高\n",
    "\n",
    "小王 21 男 170\n",
    "\n",
    ".....\n",
    "\n",
    "老王 50 男 180\n",
    "\n",
    "`文件:has_title.txt`"
   ]
  },
  {
   "cell_type": "code",
   "execution_count": 60,
   "metadata": {},
   "outputs": [
    {
     "name": "stdout",
     "output_type": "stream",
     "text": [
      "[21 25 19 40 24 21 19 26 21 21 19 20]\n"
     ]
    }
   ],
   "source": [
    "# 1. 以上数据由于不同列数据标识的含义和类型不同,因此需要自定义数据类型\n",
    "user_info = np.dtype([('name','U10'),('age','i1'),('gender','U1'),('height','i2')])\n",
    "#print(user_info)\n",
    "# 2. 使用自定义的数据类型 读取数据,\n",
    "data = np.loadtxt('has_title.txt',dtype=user_info,skiprows=1, encoding='utf-8')\n",
    "#data = np.loadtxt('has_title.txt',dtype=int,skiprows=1,usecols=(1,3), encoding='utf-8')\n",
    "# 注意以上参数中:a.设置类型;  b.跳过第一行; c.跳过第一行;  d.编码\n",
    "print(data['age'])\n",
    "#data"
   ]
  },
  {
   "cell_type": "code",
   "execution_count": 61,
   "metadata": {},
   "outputs": [
    {
     "data": {
      "text/plain": [
       "23.0"
      ]
     },
     "execution_count": 61,
     "metadata": {},
     "output_type": "execute_result"
    }
   ],
   "source": [
    "'''\n",
    "计算平均年龄\n",
    "'''\n",
    "# 获取年龄的数组\n",
    "ages = data['age']\n",
    "ages.mean()\n",
    "# 计算年龄的中位数\n"
   ]
  },
  {
   "cell_type": "code",
   "execution_count": null,
   "metadata": {},
   "outputs": [],
   "source": [
    "# 计算平均身高\n",
    "\n",
    "\n",
    "# 计算身高中位数\n"
   ]
  },
  {
   "cell_type": "code",
   "execution_count": 65,
   "metadata": {},
   "outputs": [
    {
     "name": "stdout",
     "output_type": "stream",
     "text": [
      "[False  True  True False False  True  True False False  True  True  True]\n",
      "[170 165 167 180 168 167 159 170 168 175 160 167]\n"
     ]
    },
    {
     "data": {
      "text/plain": [
       "'165.71'"
      ]
     },
     "execution_count": 65,
     "metadata": {},
     "output_type": "execute_result"
    }
   ],
   "source": [
    "# 计算女生的平均身高\n",
    "isgirl = data['gender'] == '女'\n",
    "\n",
    "print(isgirl)\n",
    "print(data['height'])\n",
    "data['height'][isgirl]\n",
    "girl_mean = np.mean(data['height'][isgirl])\n",
    "'{:.2f}'.format(girl_mean)"
   ]
  },
  {
   "cell_type": "markdown",
   "metadata": {},
   "source": [
    "### 读取指定的列"
   ]
  },
  {
   "cell_type": "code",
   "execution_count": null,
   "metadata": {},
   "outputs": [],
   "source": [
    "# 读取指定的列 usecols=(1,3) 标识只读取第2列和第4列\n",
    "user_info = np.dtype([('age','i1'),('height','i2')])\n",
    "print(user_info)\n",
    "# 使用自定义的数据类型 读取数据,\n",
    "data = np.loadtxt('has_title.csv',dtype=user_info,delimiter=',',skiprows=1,usecols=(1,3))\n",
    "# 注意以上参数中:a.设置类型;  b.跳过第一行; c.分隔符 ;  \n",
    "print(data)\n",
    "\n"
   ]
  },
  {
   "cell_type": "markdown",
   "metadata": {},
   "source": [
    "### 数据中存在空值进行处理\n",
    "需要借助用于 converters参数,传递一个字典,key为列索引,value为对列中值得处理\n",
    "\n",
    "比如:\n",
    "\n",
    "csv中学生信息中存在空的年龄信息:\n",
    "\n",
    "姓名\t年龄\t性别\t身高\n",
    "\n",
    "小王\t21\t男\t170\n",
    "\n",
    "...\n",
    "\n",
    "小谭     男\t169\n",
    "\n",
    "...\n",
    "\n",
    "小陈\t27\t男\t177\n",
    "\n",
    "`文件:has_empty_data.csv`"
   ]
  },
  {
   "cell_type": "code",
   "execution_count": 26,
   "metadata": {},
   "outputs": [
    {
     "ename": "ValueError",
     "evalue": "could not convert string to float: ",
     "output_type": "error",
     "traceback": [
      "\u001b[1;31m---------------------------------------------------------------------------\u001b[0m",
      "\u001b[1;31mValueError\u001b[0m                                Traceback (most recent call last)",
      "\u001b[1;32m<ipython-input-26-672bcd60856c>\u001b[0m in \u001b[0;36m<module>\u001b[1;34m\u001b[0m\n\u001b[0;32m      1\u001b[0m \u001b[1;31m# 读取指定的列 usecols=(1,3) 标识只读取第2列和第4列\u001b[0m\u001b[1;33m\u001b[0m\u001b[1;33m\u001b[0m\u001b[1;33m\u001b[0m\u001b[0m\n\u001b[0;32m      2\u001b[0m \u001b[0muser_info\u001b[0m \u001b[1;33m=\u001b[0m \u001b[0mnp\u001b[0m\u001b[1;33m.\u001b[0m\u001b[0mdtype\u001b[0m\u001b[1;33m(\u001b[0m\u001b[1;33m[\u001b[0m\u001b[1;33m(\u001b[0m\u001b[1;34m'age'\u001b[0m\u001b[1;33m,\u001b[0m\u001b[1;34m'i1'\u001b[0m\u001b[1;33m)\u001b[0m\u001b[1;33m,\u001b[0m\u001b[1;33m(\u001b[0m\u001b[1;34m'height'\u001b[0m\u001b[1;33m,\u001b[0m\u001b[1;34m'i2'\u001b[0m\u001b[1;33m)\u001b[0m\u001b[1;33m]\u001b[0m\u001b[1;33m)\u001b[0m\u001b[1;33m\u001b[0m\u001b[1;33m\u001b[0m\u001b[0m\n\u001b[1;32m----> 3\u001b[1;33m \u001b[0mhas_empty_data\u001b[0m \u001b[1;33m=\u001b[0m \u001b[0mnp\u001b[0m\u001b[1;33m.\u001b[0m\u001b[0mloadtxt\u001b[0m\u001b[1;33m(\u001b[0m\u001b[1;34m'has_empty_data.csv'\u001b[0m\u001b[1;33m,\u001b[0m\u001b[0mdtype\u001b[0m\u001b[1;33m=\u001b[0m\u001b[0muser_info\u001b[0m\u001b[1;33m,\u001b[0m\u001b[0mdelimiter\u001b[0m\u001b[1;33m=\u001b[0m\u001b[1;34m','\u001b[0m\u001b[1;33m,\u001b[0m\u001b[0mskiprows\u001b[0m\u001b[1;33m=\u001b[0m\u001b[1;36m1\u001b[0m\u001b[1;33m,\u001b[0m \u001b[0musecols\u001b[0m\u001b[1;33m=\u001b[0m\u001b[1;33m(\u001b[0m\u001b[1;36m1\u001b[0m\u001b[1;33m,\u001b[0m\u001b[1;36m3\u001b[0m\u001b[1;33m)\u001b[0m\u001b[1;33m)\u001b[0m\u001b[1;33m\u001b[0m\u001b[1;33m\u001b[0m\u001b[0m\n\u001b[0m\u001b[0;32m      4\u001b[0m \u001b[0mhas_empty_data\u001b[0m\u001b[1;33m\u001b[0m\u001b[1;33m\u001b[0m\u001b[0m\n",
      "\u001b[1;32mD:\\Anaconda3\\lib\\site-packages\\numpy\\lib\\npyio.py\u001b[0m in \u001b[0;36mloadtxt\u001b[1;34m(fname, dtype, comments, delimiter, converters, skiprows, usecols, unpack, ndmin, encoding, max_rows)\u001b[0m\n\u001b[0;32m   1157\u001b[0m         \u001b[1;31m# converting the data\u001b[0m\u001b[1;33m\u001b[0m\u001b[1;33m\u001b[0m\u001b[1;33m\u001b[0m\u001b[0m\n\u001b[0;32m   1158\u001b[0m         \u001b[0mX\u001b[0m \u001b[1;33m=\u001b[0m \u001b[1;32mNone\u001b[0m\u001b[1;33m\u001b[0m\u001b[1;33m\u001b[0m\u001b[0m\n\u001b[1;32m-> 1159\u001b[1;33m         \u001b[1;32mfor\u001b[0m \u001b[0mx\u001b[0m \u001b[1;32min\u001b[0m \u001b[0mread_data\u001b[0m\u001b[1;33m(\u001b[0m\u001b[0m_loadtxt_chunksize\u001b[0m\u001b[1;33m)\u001b[0m\u001b[1;33m:\u001b[0m\u001b[1;33m\u001b[0m\u001b[1;33m\u001b[0m\u001b[0m\n\u001b[0m\u001b[0;32m   1160\u001b[0m             \u001b[1;32mif\u001b[0m \u001b[0mX\u001b[0m \u001b[1;32mis\u001b[0m \u001b[1;32mNone\u001b[0m\u001b[1;33m:\u001b[0m\u001b[1;33m\u001b[0m\u001b[1;33m\u001b[0m\u001b[0m\n\u001b[0;32m   1161\u001b[0m                 \u001b[0mX\u001b[0m \u001b[1;33m=\u001b[0m \u001b[0mnp\u001b[0m\u001b[1;33m.\u001b[0m\u001b[0marray\u001b[0m\u001b[1;33m(\u001b[0m\u001b[0mx\u001b[0m\u001b[1;33m,\u001b[0m \u001b[0mdtype\u001b[0m\u001b[1;33m)\u001b[0m\u001b[1;33m\u001b[0m\u001b[1;33m\u001b[0m\u001b[0m\n",
      "\u001b[1;32mD:\\Anaconda3\\lib\\site-packages\\numpy\\lib\\npyio.py\u001b[0m in \u001b[0;36mread_data\u001b[1;34m(chunk_size)\u001b[0m\n\u001b[0;32m   1085\u001b[0m \u001b[1;33m\u001b[0m\u001b[0m\n\u001b[0;32m   1086\u001b[0m             \u001b[1;31m# Convert each value according to its column and store\u001b[0m\u001b[1;33m\u001b[0m\u001b[1;33m\u001b[0m\u001b[1;33m\u001b[0m\u001b[0m\n\u001b[1;32m-> 1087\u001b[1;33m             \u001b[0mitems\u001b[0m \u001b[1;33m=\u001b[0m \u001b[1;33m[\u001b[0m\u001b[0mconv\u001b[0m\u001b[1;33m(\u001b[0m\u001b[0mval\u001b[0m\u001b[1;33m)\u001b[0m \u001b[1;32mfor\u001b[0m \u001b[1;33m(\u001b[0m\u001b[0mconv\u001b[0m\u001b[1;33m,\u001b[0m \u001b[0mval\u001b[0m\u001b[1;33m)\u001b[0m \u001b[1;32min\u001b[0m \u001b[0mzip\u001b[0m\u001b[1;33m(\u001b[0m\u001b[0mconverters\u001b[0m\u001b[1;33m,\u001b[0m \u001b[0mvals\u001b[0m\u001b[1;33m)\u001b[0m\u001b[1;33m]\u001b[0m\u001b[1;33m\u001b[0m\u001b[1;33m\u001b[0m\u001b[0m\n\u001b[0m\u001b[0;32m   1088\u001b[0m \u001b[1;33m\u001b[0m\u001b[0m\n\u001b[0;32m   1089\u001b[0m             \u001b[1;31m# Then pack it according to the dtype's nesting\u001b[0m\u001b[1;33m\u001b[0m\u001b[1;33m\u001b[0m\u001b[1;33m\u001b[0m\u001b[0m\n",
      "\u001b[1;32mD:\\Anaconda3\\lib\\site-packages\\numpy\\lib\\npyio.py\u001b[0m in \u001b[0;36m<listcomp>\u001b[1;34m(.0)\u001b[0m\n\u001b[0;32m   1085\u001b[0m \u001b[1;33m\u001b[0m\u001b[0m\n\u001b[0;32m   1086\u001b[0m             \u001b[1;31m# Convert each value according to its column and store\u001b[0m\u001b[1;33m\u001b[0m\u001b[1;33m\u001b[0m\u001b[1;33m\u001b[0m\u001b[0m\n\u001b[1;32m-> 1087\u001b[1;33m             \u001b[0mitems\u001b[0m \u001b[1;33m=\u001b[0m \u001b[1;33m[\u001b[0m\u001b[0mconv\u001b[0m\u001b[1;33m(\u001b[0m\u001b[0mval\u001b[0m\u001b[1;33m)\u001b[0m \u001b[1;32mfor\u001b[0m \u001b[1;33m(\u001b[0m\u001b[0mconv\u001b[0m\u001b[1;33m,\u001b[0m \u001b[0mval\u001b[0m\u001b[1;33m)\u001b[0m \u001b[1;32min\u001b[0m \u001b[0mzip\u001b[0m\u001b[1;33m(\u001b[0m\u001b[0mconverters\u001b[0m\u001b[1;33m,\u001b[0m \u001b[0mvals\u001b[0m\u001b[1;33m)\u001b[0m\u001b[1;33m]\u001b[0m\u001b[1;33m\u001b[0m\u001b[1;33m\u001b[0m\u001b[0m\n\u001b[0m\u001b[0;32m   1088\u001b[0m \u001b[1;33m\u001b[0m\u001b[0m\n\u001b[0;32m   1089\u001b[0m             \u001b[1;31m# Then pack it according to the dtype's nesting\u001b[0m\u001b[1;33m\u001b[0m\u001b[1;33m\u001b[0m\u001b[1;33m\u001b[0m\u001b[0m\n",
      "\u001b[1;32mD:\\Anaconda3\\lib\\site-packages\\numpy\\lib\\npyio.py\u001b[0m in \u001b[0;36m<lambda>\u001b[1;34m(x)\u001b[0m\n\u001b[0;32m    802\u001b[0m         \u001b[1;32mreturn\u001b[0m \u001b[0mnp\u001b[0m\u001b[1;33m.\u001b[0m\u001b[0mint64\u001b[0m\u001b[1;33m\u001b[0m\u001b[1;33m\u001b[0m\u001b[0m\n\u001b[0;32m    803\u001b[0m     \u001b[1;32mif\u001b[0m \u001b[0missubclass\u001b[0m\u001b[1;33m(\u001b[0m\u001b[0mtyp\u001b[0m\u001b[1;33m,\u001b[0m \u001b[0mnp\u001b[0m\u001b[1;33m.\u001b[0m\u001b[0minteger\u001b[0m\u001b[1;33m)\u001b[0m\u001b[1;33m:\u001b[0m\u001b[1;33m\u001b[0m\u001b[1;33m\u001b[0m\u001b[0m\n\u001b[1;32m--> 804\u001b[1;33m         \u001b[1;32mreturn\u001b[0m \u001b[1;32mlambda\u001b[0m \u001b[0mx\u001b[0m\u001b[1;33m:\u001b[0m \u001b[0mint\u001b[0m\u001b[1;33m(\u001b[0m\u001b[0mfloat\u001b[0m\u001b[1;33m(\u001b[0m\u001b[0mx\u001b[0m\u001b[1;33m)\u001b[0m\u001b[1;33m)\u001b[0m\u001b[1;33m\u001b[0m\u001b[1;33m\u001b[0m\u001b[0m\n\u001b[0m\u001b[0;32m    805\u001b[0m     \u001b[1;32melif\u001b[0m \u001b[0missubclass\u001b[0m\u001b[1;33m(\u001b[0m\u001b[0mtyp\u001b[0m\u001b[1;33m,\u001b[0m \u001b[0mnp\u001b[0m\u001b[1;33m.\u001b[0m\u001b[0mlongdouble\u001b[0m\u001b[1;33m)\u001b[0m\u001b[1;33m:\u001b[0m\u001b[1;33m\u001b[0m\u001b[1;33m\u001b[0m\u001b[0m\n\u001b[0;32m    806\u001b[0m         \u001b[1;32mreturn\u001b[0m \u001b[0mnp\u001b[0m\u001b[1;33m.\u001b[0m\u001b[0mlongdouble\u001b[0m\u001b[1;33m\u001b[0m\u001b[1;33m\u001b[0m\u001b[0m\n",
      "\u001b[1;31mValueError\u001b[0m: could not convert string to float: "
     ]
    }
   ],
   "source": [
    "# 读取指定的列 usecols=(1,3) 标识只读取第2列和第4列\n",
    "user_info = np.dtype([('age','i1'),('height','i2')])\n",
    "has_empty_data = np.loadtxt('has_empty_data.csv',dtype=user_info,delimiter=',',skiprows=1, usecols=(1,3))\n",
    "has_empty_data"
   ]
  },
  {
   "cell_type": "code",
   "execution_count": 28,
   "metadata": {},
   "outputs": [],
   "source": [
    "# 处理空数据,需要创建一个函数,接收列的参数,并加以处理.\n",
    "def parse_age(age):\n",
    "    try:\n",
    "        return int(age)\n",
    "    except:\n",
    "        return 0"
   ]
  },
  {
   "cell_type": "code",
   "execution_count": 41,
   "metadata": {},
   "outputs": [
    {
     "name": "stdout",
     "output_type": "stream",
     "text": [
      "[('age', 'i1'), ('height', '<i2')]\n"
     ]
    },
    {
     "ename": "ValueError",
     "evalue": "could not convert string to float: ",
     "output_type": "error",
     "traceback": [
      "\u001b[1;31m---------------------------------------------------------------------------\u001b[0m",
      "\u001b[1;31mValueError\u001b[0m                                Traceback (most recent call last)",
      "\u001b[1;32m<ipython-input-41-5d25bce7a7f1>\u001b[0m in \u001b[0;36m<module>\u001b[1;34m\u001b[0m\n\u001b[0;32m      2\u001b[0m \u001b[0mprint\u001b[0m\u001b[1;33m(\u001b[0m\u001b[0muser_info\u001b[0m\u001b[1;33m)\u001b[0m\u001b[1;33m\u001b[0m\u001b[1;33m\u001b[0m\u001b[0m\n\u001b[0;32m      3\u001b[0m \u001b[1;31m# 使用自定义的数据类型 读取数据,\u001b[0m\u001b[1;33m\u001b[0m\u001b[1;33m\u001b[0m\u001b[1;33m\u001b[0m\u001b[0m\n\u001b[1;32m----> 4\u001b[1;33m \u001b[0mdata\u001b[0m \u001b[1;33m=\u001b[0m \u001b[0mnp\u001b[0m\u001b[1;33m.\u001b[0m\u001b[0mloadtxt\u001b[0m\u001b[1;33m(\u001b[0m\u001b[1;34m'has_empty_data.csv'\u001b[0m\u001b[1;33m,\u001b[0m\u001b[0mdtype\u001b[0m\u001b[1;33m=\u001b[0m\u001b[0muser_info\u001b[0m\u001b[1;33m,\u001b[0m\u001b[0mdelimiter\u001b[0m\u001b[1;33m=\u001b[0m\u001b[1;34m','\u001b[0m\u001b[1;33m,\u001b[0m\u001b[0mskiprows\u001b[0m\u001b[1;33m=\u001b[0m\u001b[1;36m1\u001b[0m\u001b[1;33m,\u001b[0m\u001b[0musecols\u001b[0m\u001b[1;33m=\u001b[0m\u001b[1;33m(\u001b[0m\u001b[1;36m1\u001b[0m\u001b[1;33m,\u001b[0m\u001b[1;36m3\u001b[0m\u001b[1;33m)\u001b[0m\u001b[1;33m,\u001b[0m\u001b[0mconverters\u001b[0m\u001b[1;33m=\u001b[0m\u001b[1;33m{\u001b[0m\u001b[1;36m1\u001b[0m\u001b[1;33m:\u001b[0m\u001b[0mparse_age\u001b[0m\u001b[1;33m}\u001b[0m\u001b[1;33m)\u001b[0m\u001b[1;33m\u001b[0m\u001b[1;33m\u001b[0m\u001b[0m\n\u001b[0m\u001b[0;32m      5\u001b[0m \u001b[0mprint\u001b[0m\u001b[1;33m(\u001b[0m\u001b[0mdata\u001b[0m\u001b[1;33m)\u001b[0m\u001b[1;33m\u001b[0m\u001b[1;33m\u001b[0m\u001b[0m\n",
      "\u001b[1;32mD:\\Anaconda3\\lib\\site-packages\\numpy\\lib\\npyio.py\u001b[0m in \u001b[0;36mloadtxt\u001b[1;34m(fname, dtype, comments, delimiter, converters, skiprows, usecols, unpack, ndmin, encoding, max_rows)\u001b[0m\n\u001b[0;32m   1157\u001b[0m         \u001b[1;31m# converting the data\u001b[0m\u001b[1;33m\u001b[0m\u001b[1;33m\u001b[0m\u001b[1;33m\u001b[0m\u001b[0m\n\u001b[0;32m   1158\u001b[0m         \u001b[0mX\u001b[0m \u001b[1;33m=\u001b[0m \u001b[1;32mNone\u001b[0m\u001b[1;33m\u001b[0m\u001b[1;33m\u001b[0m\u001b[0m\n\u001b[1;32m-> 1159\u001b[1;33m         \u001b[1;32mfor\u001b[0m \u001b[0mx\u001b[0m \u001b[1;32min\u001b[0m \u001b[0mread_data\u001b[0m\u001b[1;33m(\u001b[0m\u001b[0m_loadtxt_chunksize\u001b[0m\u001b[1;33m)\u001b[0m\u001b[1;33m:\u001b[0m\u001b[1;33m\u001b[0m\u001b[1;33m\u001b[0m\u001b[0m\n\u001b[0m\u001b[0;32m   1160\u001b[0m             \u001b[1;32mif\u001b[0m \u001b[0mX\u001b[0m \u001b[1;32mis\u001b[0m \u001b[1;32mNone\u001b[0m\u001b[1;33m:\u001b[0m\u001b[1;33m\u001b[0m\u001b[1;33m\u001b[0m\u001b[0m\n\u001b[0;32m   1161\u001b[0m                 \u001b[0mX\u001b[0m \u001b[1;33m=\u001b[0m \u001b[0mnp\u001b[0m\u001b[1;33m.\u001b[0m\u001b[0marray\u001b[0m\u001b[1;33m(\u001b[0m\u001b[0mx\u001b[0m\u001b[1;33m,\u001b[0m \u001b[0mdtype\u001b[0m\u001b[1;33m)\u001b[0m\u001b[1;33m\u001b[0m\u001b[1;33m\u001b[0m\u001b[0m\n",
      "\u001b[1;32mD:\\Anaconda3\\lib\\site-packages\\numpy\\lib\\npyio.py\u001b[0m in \u001b[0;36mread_data\u001b[1;34m(chunk_size)\u001b[0m\n\u001b[0;32m   1085\u001b[0m \u001b[1;33m\u001b[0m\u001b[0m\n\u001b[0;32m   1086\u001b[0m             \u001b[1;31m# Convert each value according to its column and store\u001b[0m\u001b[1;33m\u001b[0m\u001b[1;33m\u001b[0m\u001b[1;33m\u001b[0m\u001b[0m\n\u001b[1;32m-> 1087\u001b[1;33m             \u001b[0mitems\u001b[0m \u001b[1;33m=\u001b[0m \u001b[1;33m[\u001b[0m\u001b[0mconv\u001b[0m\u001b[1;33m(\u001b[0m\u001b[0mval\u001b[0m\u001b[1;33m)\u001b[0m \u001b[1;32mfor\u001b[0m \u001b[1;33m(\u001b[0m\u001b[0mconv\u001b[0m\u001b[1;33m,\u001b[0m \u001b[0mval\u001b[0m\u001b[1;33m)\u001b[0m \u001b[1;32min\u001b[0m \u001b[0mzip\u001b[0m\u001b[1;33m(\u001b[0m\u001b[0mconverters\u001b[0m\u001b[1;33m,\u001b[0m \u001b[0mvals\u001b[0m\u001b[1;33m)\u001b[0m\u001b[1;33m]\u001b[0m\u001b[1;33m\u001b[0m\u001b[1;33m\u001b[0m\u001b[0m\n\u001b[0m\u001b[0;32m   1088\u001b[0m \u001b[1;33m\u001b[0m\u001b[0m\n\u001b[0;32m   1089\u001b[0m             \u001b[1;31m# Then pack it according to the dtype's nesting\u001b[0m\u001b[1;33m\u001b[0m\u001b[1;33m\u001b[0m\u001b[1;33m\u001b[0m\u001b[0m\n",
      "\u001b[1;32mD:\\Anaconda3\\lib\\site-packages\\numpy\\lib\\npyio.py\u001b[0m in \u001b[0;36m<listcomp>\u001b[1;34m(.0)\u001b[0m\n\u001b[0;32m   1085\u001b[0m \u001b[1;33m\u001b[0m\u001b[0m\n\u001b[0;32m   1086\u001b[0m             \u001b[1;31m# Convert each value according to its column and store\u001b[0m\u001b[1;33m\u001b[0m\u001b[1;33m\u001b[0m\u001b[1;33m\u001b[0m\u001b[0m\n\u001b[1;32m-> 1087\u001b[1;33m             \u001b[0mitems\u001b[0m \u001b[1;33m=\u001b[0m \u001b[1;33m[\u001b[0m\u001b[0mconv\u001b[0m\u001b[1;33m(\u001b[0m\u001b[0mval\u001b[0m\u001b[1;33m)\u001b[0m \u001b[1;32mfor\u001b[0m \u001b[1;33m(\u001b[0m\u001b[0mconv\u001b[0m\u001b[1;33m,\u001b[0m \u001b[0mval\u001b[0m\u001b[1;33m)\u001b[0m \u001b[1;32min\u001b[0m \u001b[0mzip\u001b[0m\u001b[1;33m(\u001b[0m\u001b[0mconverters\u001b[0m\u001b[1;33m,\u001b[0m \u001b[0mvals\u001b[0m\u001b[1;33m)\u001b[0m\u001b[1;33m]\u001b[0m\u001b[1;33m\u001b[0m\u001b[1;33m\u001b[0m\u001b[0m\n\u001b[0m\u001b[0;32m   1088\u001b[0m \u001b[1;33m\u001b[0m\u001b[0m\n\u001b[0;32m   1089\u001b[0m             \u001b[1;31m# Then pack it according to the dtype's nesting\u001b[0m\u001b[1;33m\u001b[0m\u001b[1;33m\u001b[0m\u001b[1;33m\u001b[0m\u001b[0m\n",
      "\u001b[1;32mD:\\Anaconda3\\lib\\site-packages\\numpy\\lib\\npyio.py\u001b[0m in \u001b[0;36m<lambda>\u001b[1;34m(x)\u001b[0m\n\u001b[0;32m    802\u001b[0m         \u001b[1;32mreturn\u001b[0m \u001b[0mnp\u001b[0m\u001b[1;33m.\u001b[0m\u001b[0mint64\u001b[0m\u001b[1;33m\u001b[0m\u001b[1;33m\u001b[0m\u001b[0m\n\u001b[0;32m    803\u001b[0m     \u001b[1;32mif\u001b[0m \u001b[0missubclass\u001b[0m\u001b[1;33m(\u001b[0m\u001b[0mtyp\u001b[0m\u001b[1;33m,\u001b[0m \u001b[0mnp\u001b[0m\u001b[1;33m.\u001b[0m\u001b[0minteger\u001b[0m\u001b[1;33m)\u001b[0m\u001b[1;33m:\u001b[0m\u001b[1;33m\u001b[0m\u001b[1;33m\u001b[0m\u001b[0m\n\u001b[1;32m--> 804\u001b[1;33m         \u001b[1;32mreturn\u001b[0m \u001b[1;32mlambda\u001b[0m \u001b[0mx\u001b[0m\u001b[1;33m:\u001b[0m \u001b[0mint\u001b[0m\u001b[1;33m(\u001b[0m\u001b[0mfloat\u001b[0m\u001b[1;33m(\u001b[0m\u001b[0mx\u001b[0m\u001b[1;33m)\u001b[0m\u001b[1;33m)\u001b[0m\u001b[1;33m\u001b[0m\u001b[1;33m\u001b[0m\u001b[0m\n\u001b[0m\u001b[0;32m    805\u001b[0m     \u001b[1;32melif\u001b[0m \u001b[0missubclass\u001b[0m\u001b[1;33m(\u001b[0m\u001b[0mtyp\u001b[0m\u001b[1;33m,\u001b[0m \u001b[0mnp\u001b[0m\u001b[1;33m.\u001b[0m\u001b[0mlongdouble\u001b[0m\u001b[1;33m)\u001b[0m\u001b[1;33m:\u001b[0m\u001b[1;33m\u001b[0m\u001b[1;33m\u001b[0m\u001b[0m\n\u001b[0;32m    806\u001b[0m         \u001b[1;32mreturn\u001b[0m \u001b[0mnp\u001b[0m\u001b[1;33m.\u001b[0m\u001b[0mlongdouble\u001b[0m\u001b[1;33m\u001b[0m\u001b[1;33m\u001b[0m\u001b[0m\n",
      "\u001b[1;31mValueError\u001b[0m: could not convert string to float: "
     ]
    }
   ],
   "source": [
    "# 和之前一样的步骤\n",
    "print(user_info)\n",
    "# 使用自定义的数据类型 读取数据,\n",
    "data = np.loadtxt('has_empty_data.csv',dtype=user_info,delimiter=',',skiprows=1,usecols=(1,3),converters={1:parse_age,3:parse_age})\n",
    "print(data)"
   ]
  },
  {
   "cell_type": "code",
   "execution_count": 33,
   "metadata": {},
   "outputs": [
    {
     "data": {
      "text/plain": [
       "array([21, 25, 19,  0, 21, 19, 27], dtype=int8)"
      ]
     },
     "execution_count": 33,
     "metadata": {},
     "output_type": "execute_result"
    }
   ],
   "source": [
    "age_arr = data['age']\n",
    "age_arr"
   ]
  },
  {
   "cell_type": "code",
   "execution_count": 37,
   "metadata": {},
   "outputs": [],
   "source": [
    "age_arr[age_arr == 0] = np.median(age_arr[age_arr != 0])"
   ]
  },
  {
   "cell_type": "code",
   "execution_count": 39,
   "metadata": {},
   "outputs": [
    {
     "data": {
      "text/plain": [
       "21.857142857142858"
      ]
     },
     "execution_count": 39,
     "metadata": {},
     "output_type": "execute_result"
    }
   ],
   "source": [
    "age_arr.mean()"
   ]
  },
  {
   "cell_type": "markdown",
   "metadata": {},
   "source": [
    "####  计算班级年龄的平均值.由于存在0的数据,因此一般做法是将中位数填充"
   ]
  },
  {
   "cell_type": "code",
   "execution_count": null,
   "metadata": {},
   "outputs": [],
   "source": [
    "# 填充中位数:\n",
    "ages = data['age']\n",
    "ages[ages==0] = np.median(ages)\n",
    "print(ages)\n",
    "\n",
    "# 计算平均值\n",
    "np.round(np.mean(ages),2)"
   ]
  },
  {
   "cell_type": "markdown",
   "metadata": {},
   "source": [
    "## 作业?"
   ]
  },
  {
   "cell_type": "markdown",
   "metadata": {},
   "source": [
    "#### 考虑下列与学生（虚构）人口有关的数据文本文件\n",
    "<img src=\"https://gitee.com/wu-chao-588/picgo/raw/master/images/image-20220308155311955.png\" alt=\"image-20220308155311955\" style=\"zoom:50%;\" />\n",
    "\n",
    "文件为:student-data.txt"
   ]
  },
  {
   "cell_type": "code",
   "execution_count": 25,
   "metadata": {},
   "outputs": [
    {
     "data": {
      "text/plain": [
       "array([['M', '1.82'],\n",
       "       ['M', '1.77'],\n",
       "       ['F', '1.68'],\n",
       "       ['6/7/95', '75.5'],\n",
       "       ['F', '1.78'],\n",
       "       ['F', '1.60'],\n",
       "       ['M', '1.72'],\n",
       "       ['M', '1.83'],\n",
       "       ['F', '1.56'],\n",
       "       ['F', '1.64'],\n",
       "       ['M', '1.63'],\n",
       "       ['M', '1.67'],\n",
       "       ['M', '1.66'],\n",
       "       ['F', '1.59'],\n",
       "       ['F', '1.70'],\n",
       "       ['M', '1.97'],\n",
       "       ['F', '1.66'],\n",
       "       ['F', '1.63'],\n",
       "       ['M', '1.69']], dtype=object)"
      ]
     },
     "execution_count": 25,
     "metadata": {},
     "output_type": "execute_result"
    }
   ],
   "source": [
    "'''1 .找出男女学生的平均身高?'''\n",
    "\n",
    "# 1. 定义数据类型\n",
    "\n",
    "# 2.确定文件内容特点:  a.需要跳过9行; b.只需要第二列和第4列\n",
    "data = np.loadtxt('student-data.txt',dtype=object,usecols=(1,3),skiprows=9)\n",
    "data\n",
    "\n",
    "# 3. 取得身高信息\n",
    "\n",
    "\n",
    "# 4.计算平均值 mean\n"
   ]
  },
  {
   "cell_type": "code",
   "execution_count": null,
   "metadata": {},
   "outputs": [],
   "source": [
    "'''2. 找到男学生的平均身高?'''\n",
    "\n",
    "# 1.首先判断那些数据性别为男性 ,或者取得性别为男的行索引\n",
    "\n",
    "# 提取出和性别对应为True的身高信息\n",
    "\n",
    "\n",
    "# 计算平均值\n"
   ]
  },
  {
   "cell_type": "code",
   "execution_count": null,
   "metadata": {},
   "outputs": [],
   "source": [
    "# 3.计算女生身高中位数? 步骤同上.\n"
   ]
  },
  {
   "cell_type": "code",
   "execution_count": 2,
   "metadata": {},
   "outputs": [],
   "source": [
    "a = np.array([1,1.2,\"abc\"])"
   ]
  },
  {
   "cell_type": "code",
   "execution_count": 3,
   "metadata": {},
   "outputs": [
    {
     "data": {
      "text/plain": [
       "array(['1', '1.2', 'abc'], dtype='<U32')"
      ]
     },
     "execution_count": 3,
     "metadata": {},
     "output_type": "execute_result"
    }
   ],
   "source": [
    "a "
   ]
  },
  {
   "cell_type": "code",
   "execution_count": 4,
   "metadata": {},
   "outputs": [],
   "source": [
    "a = np.array([1,11,12])"
   ]
  },
  {
   "cell_type": "code",
   "execution_count": 5,
   "metadata": {},
   "outputs": [
    {
     "data": {
      "text/plain": [
       "array([ 1, 11, 12])"
      ]
     },
     "execution_count": 5,
     "metadata": {},
     "output_type": "execute_result"
    }
   ],
   "source": [
    "a"
   ]
  },
  {
   "cell_type": "code",
   "execution_count": 6,
   "metadata": {},
   "outputs": [
    {
     "data": {
      "text/plain": [
       "dtype('int32')"
      ]
     },
     "execution_count": 6,
     "metadata": {},
     "output_type": "execute_result"
    }
   ],
   "source": [
    "a.dtype"
   ]
  },
  {
   "cell_type": "code",
   "execution_count": 7,
   "metadata": {},
   "outputs": [],
   "source": [
    "# int8 ---- -128~ 127  1 1 1 1 1 1 1 1\n",
    "i1 = np.array([1,2,3,43],dtype=np.int8)"
   ]
  },
  {
   "cell_type": "code",
   "execution_count": 8,
   "metadata": {},
   "outputs": [
    {
     "data": {
      "text/plain": [
       "1"
      ]
     },
     "execution_count": 8,
     "metadata": {},
     "output_type": "execute_result"
    }
   ],
   "source": [
    "i1[0]"
   ]
  },
  {
   "cell_type": "code",
   "execution_count": 9,
   "metadata": {
    "collapsed": true
   },
   "outputs": [
    {
     "data": {
      "text/plain": [
       "array([127,   2,   3,  43], dtype=int8)"
      ]
     },
     "execution_count": 9,
     "metadata": {},
     "output_type": "execute_result"
    }
   ],
   "source": [
    "i1[0]=127\n",
    "i1"
   ]
  },
  {
   "cell_type": "code",
   "execution_count": null,
   "metadata": {},
   "outputs": [],
   "source": []
  },
  {
   "cell_type": "code",
   "execution_count": 10,
   "metadata": {},
   "outputs": [
    {
     "data": {
      "text/plain": [
       "array([-128,    2,    3,   43], dtype=int8)"
      ]
     },
     "execution_count": 10,
     "metadata": {},
     "output_type": "execute_result"
    }
   ],
   "source": [
    "i1[0]=128\n",
    "i1"
   ]
  },
  {
   "cell_type": "code",
   "execution_count": 13,
   "metadata": {},
   "outputs": [],
   "source": [
    "a = np.array(['a',\"abc\",\"d\"], dtype=object)"
   ]
  },
  {
   "cell_type": "code",
   "execution_count": 14,
   "metadata": {},
   "outputs": [
    {
     "data": {
      "text/plain": [
       "array(['a', 'abc', 'd'], dtype=object)"
      ]
     },
     "execution_count": 14,
     "metadata": {},
     "output_type": "execute_result"
    }
   ],
   "source": [
    "a"
   ]
  },
  {
   "cell_type": "code",
   "execution_count": 15,
   "metadata": {},
   "outputs": [],
   "source": [
    "a[0] = \"1234567\""
   ]
  },
  {
   "cell_type": "code",
   "execution_count": 16,
   "metadata": {},
   "outputs": [
    {
     "data": {
      "text/plain": [
       "array(['1234567', 'abc', 'd'], dtype=object)"
      ]
     },
     "execution_count": 16,
     "metadata": {},
     "output_type": "execute_result"
    }
   ],
   "source": [
    "a"
   ]
  },
  {
   "cell_type": "code",
   "execution_count": null,
   "metadata": {},
   "outputs": [],
   "source": []
  }
 ],
 "metadata": {
  "kernelspec": {
   "display_name": "Python 3",
   "language": "python",
   "name": "python3"
  },
  "language_info": {
   "codemirror_mode": {
    "name": "ipython",
    "version": 3
   },
   "file_extension": ".py",
   "mimetype": "text/x-python",
   "name": "python",
   "nbconvert_exporter": "python",
   "pygments_lexer": "ipython3",
   "version": "3.7.6"
  }
 },
 "nbformat": 4,
 "nbformat_minor": 4
}
