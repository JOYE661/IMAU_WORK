{
 "cells": [
  {
   "cell_type": "markdown",
   "metadata": {},
   "source": [
    "# 正太分布"
   ]
  },
  {
   "cell_type": "markdown",
   "metadata": {},
   "source": [
    "正态分布是最重要的一种概率分布。正态分布概念是由德国的数学家和天文学家Moivre（棣莫弗）于1733年受次提出的，但由于德国数学家Gauss（高斯）率先将其应用于天文学家研究，故正态分布又叫高斯分布。正态分布起源于误差分析，早期的天文学家通过长期对一些天体的观测收集到了大量数据，并利用这些数据天体运动的物理模型，其中第谷与开 普勒在建模中提出了一条原则—“模型选择的最终标准是其与观测数据的符合程度”，这个“符合程度”实质上蕴涵了误差概率理论的问题，伽例略是第一个在其著作中提出随机误差这一概念的人。因其曲线呈钟形，\n",
    "因此人们又经常称之为钟形曲线。我们通常所说的标准正态分布是μ = 0,σ = 1的正态分布。\n"
   ]
  },
  {
   "cell_type": "markdown",
   "metadata": {},
   "source": [
    "### 正态分布的定义\n",
    "\n",
    "正态分布（Normal distribution）又名高斯分布（Gaussian distribution），是一个在数学、物理及工程等领域都非常重要的概率分布，在统计学的许多方面有着重大的影响力。正态分布之所以被称为正态，是因为它的形态看起来合乎理想。在现实生活中，遇到测量之类的大量连续数据时，你\"正常情况下\"会期望看到这种形态。\n",
    "<img src=\"images/20220517205642.png\">\n",
    "<img src=\"images/20220517210209.png\">"
   ]
  },
  {
   "cell_type": "markdown",
   "metadata": {},
   "source": [
    "### 正态分布函数密度曲线可以表示为\n",
    "\n",
    "<img src=\"images/20220517205925.png\" style=\"height:100px\">"
   ]
  },
  {
   "cell_type": "markdown",
   "metadata": {},
   "source": [
    "#### 标准正态分布\n",
    "<img src=\"images/20220517210109.png\" style=\"height:130px\"/>"
   ]
  },
  {
   "cell_type": "markdown",
   "metadata": {},
   "source": [
    "下面列出的变量的分布都比较接近正态分布：\n",
    "\n",
    "    人群的身高\n",
    "    成年人的血压\n",
    "    传播中的粒子的位置\n",
    "    测量误差\n",
    "    回归中的残差\n",
    "    人群的鞋码\n",
    "    一天中雇员回家的总耗时\n",
    "    教育指标"
   ]
  },
  {
   "cell_type": "markdown",
   "metadata": {},
   "source": [
    "正态分布只依赖于数据集的两个特征：样本的均值和方差。\n",
    "\n",
    "    均值——样本所有取值的平均\n",
    "    方差——该指标衡量了样本总体偏离均值的程度\n",
    "\n",
    "正态分布的这种统计特性使得问题变得异常简单，任何具有正态分布的变量，都可以进行高精度分预测。\n",
    "\n",
    "值得注意的是，大自然中发现的变量，大多近似服从正态分布。\n",
    "\n",
    "正态分布很容易解释，这是因为：\n",
    "\n",
    "    正态分布的均值，模和中位数是相等的。\n",
    "    我们只需要用均值和标准差就能解释整个分布。\n",
    "\n",
    "正态分布是我们熟悉的正常行为。"
   ]
  },
  {
   "cell_type": "markdown",
   "metadata": {},
   "source": [
    "#### 为何如此多的变量都大致服从正态分布？\n",
    "这个现象可以由如下定理解释：当在大量随机变量上重复很多次实验时，它们的分布总和将非常接近正态分布。\n",
    "\n",
    "由于人的身高是一个随机变量，并且基于其他随机变量，例如一个人消耗的营养量，他们所处的环境，他们的遗传等等，这些变量的分布总和最终是非常接近正态的。\n",
    "\n",
    "这就是中心极限定理。"
   ]
  },
  {
   "cell_type": "markdown",
   "metadata": {},
   "source": [
    "#### 特点\n",
    "<img src=\"images/20220517210908.png\" style=\"height:350px\">\n",
    "<img src=\"images/20220517210953.png\" style=\"height:220px\">"
   ]
  },
  {
   "cell_type": "markdown",
   "metadata": {},
   "source": [
    "## 正态性检验\n",
    "\n",
    "利用观测数据判断总体是否服从正态分布的检验称为正态性检验，它是统计判决中重要的一种特殊的拟合优度假设检验。\n",
    "\n",
    "直方图初判 / Q-Q图判断 / K-S检验"
   ]
  },
  {
   "cell_type": "code",
   "execution_count": null,
   "metadata": {},
   "outputs": [],
   "source": [
    "import numpy as np\n",
    "import pandas as pd\n",
    "import matplotlib.pyplot as plt\n",
    "plt.rcParams['font.sans-serif'] = 'SimHei'\n",
    "plt.rcParams['axes.unicode_minus'] = False"
   ]
  },
  {
   "cell_type": "code",
   "execution_count": null,
   "metadata": {},
   "outputs": [],
   "source": [
    "# 创建随机数据\n",
    "s = pd.DataFrame(np.random.randn(1000)+10,columns = ['value'])\n",
    "s.head()"
   ]
  },
  {
   "cell_type": "code",
   "execution_count": null,
   "metadata": {
    "scrolled": true
   },
   "outputs": [],
   "source": [
    "# 绘制直方图\n",
    "# 呈现较明显的正太性\n",
    "fig = plt.figure(figsize = (10,6))\n",
    "ax1 = fig.add_subplot(1,1,1)  # 创建子图1\n",
    "s.hist(bins=30,alpha = 0.5, ax=ax1)\n",
    "# 开启第二个y坐标   密度图\n",
    "s.plot(kind = 'kde', secondary_y=True, ax=ax1)\n",
    "plt.grid()"
   ]
  },
  {
   "cell_type": "markdown",
   "metadata": {},
   "source": [
    "密度图也被称作KDE（Kernel Density Estimate,核密度估计）图。调用plot时加上kind='kde'即可生成一张密度图（标准混合正态分布KDE）\n",
    "\n",
    "这两种图表常常会被画在一起。直方图以规格化形式给出（以便给出面元化密度），然后再在其上绘制核密度估计"
   ]
  },
  {
   "cell_type": "markdown",
   "metadata": {},
   "source": []
  },
  {
   "cell_type": "markdown",
   "metadata": {},
   "source": [
    "####  QQ图判断\n",
    "- QQ图通过把测试样本数据的分位数与已知分布相比较，从而来检验数据的分布情况\n",
    "\n",
    "- QQ图是一种散点图，对应于正态分布的QQ图，就是由标准正态分布的分位数为横坐标，样本值为纵坐标的散点图\n",
    "\n",
    "        分位数（Quantile），亦称分位点，是指将一个随机变量的概率分布范围分为几个等份的数值点，常用的有中位数（即二分位数）、四分位数、百分位数等。\n",
    "        百分位数，统计学术语，如果将一组数据从小到大排序，并计算相应的累计百分位，则某一百分位所对应数据的值就称为这一百分位的百分位数\n",
    "        \n",
    "- 参考直线：四分之一分位点和四分之三分位点这两点确定，看散点是否落在这条线的附近\n",
    "\n",
    "#### 绘制思路\n",
    "\n",
    "        ① 在做好数据清洗后，对数据进行排序（次序统计量：x(1)<x(2)<....<x(n)）\n",
    "        ② 排序后，计算出每个数据对应的百分位p{i}，即第i个数据x(i)为p(i)分位数，其中p(i)=(i-0.5)/n （pi有多重算法，这里以最常用方法为主）\n",
    "        ③ 绘制直方图 + qq图，直方图作为参考"
   ]
  },
  {
   "cell_type": "code",
   "execution_count": null,
   "metadata": {
    "scrolled": false
   },
   "outputs": [],
   "source": [
    "s = pd.DataFrame(np.random.randn(1000)+10, columns=['value'])\n",
    "s.head(3)"
   ]
  },
  {
   "cell_type": "code",
   "execution_count": null,
   "metadata": {},
   "outputs": [],
   "source": [
    "\n",
    "mean = s['value'].mean()\n",
    "std = s['value'].std()\n",
    "print('均值为：%.2f,标准差为：%.2f' % (mean, std))\n",
    "print('----------')\n",
    "\n",
    "s.sort_values(by='value', inplace=True)\n",
    "s_r = s.reset_index(drop=False)\n",
    "\n",
    "s_r['p'] = (s_r.index+1-0.5)/len(s_r) #计算百分位数\n",
    "\n",
    "# 四分之一分位点和四分之三分位点\n",
    "st = s['value'].describe()\n",
    "x1, y1 = 0.25, st['25%']\n",
    "x2, y2 = 0.75, st['75%']\n",
    "# 绘制直方图和密度图\n",
    "fig = plt.figure(figsize=(10, 9))\n",
    "\n",
    "ax1 = fig.add_subplot(2, 1, 1)\n",
    "s.hist(bins=30, alpha=0.5, ax=ax1)\n",
    "s.plot(kind='kde', secondary_y=True, ax=ax1)\n",
    "plt.grid()\n",
    "\n",
    "#plt.plot(s_r['value'],s_r['q']) \n",
    "# 绘制Q-Q图\n",
    "ax2 = fig.add_subplot(2, 1, 2)\n",
    "ax2.scatter(s_r['p'], s_r['value'], cmap='Reds', alpha=0.7) # 绘制Q-Q图\n",
    "\n",
    "ax2.plot([x1, x2], [y1, y2], '-r') #添加一条直线\n",
    "plt.grid()\n"
   ]
  },
  {
   "cell_type": "markdown",
   "metadata": {},
   "source": [
    " 将数据修改为使用np.random.rand 均匀分布,使用柱状图我们可以看出 不满足正太分布,Q-Q图也不是一个正太分布的图"
   ]
  },
  {
   "cell_type": "markdown",
   "metadata": {},
   "source": [
    "## KS-检验 -- 检验数据是否符合某种分布\n",
    "\n",
    "是比较一个频率分布f(x)与理论分布g(x)或者两个观测值分布的检验方法\n",
    "\n",
    "以样本数据的`累计频数分布`和`特定的理论分布比较(比如正太分布)`进行比较,如果两者差距小,则推论样本分布取自某个特定分布\n",
    "\n",
    "#### 建设性检验\n",
    "    \n",
    "        H0:样本的总体分布服从某个特定分布\n",
    "        H1:样本的总部分布,不服从某个特定分布\n",
    "\n",
    "Fn(x)-->样本的累计分布函数\n",
    "\n",
    "F0(x)-->理论分布的分布函数(样本进行标准化取值后对应的正太分布值)\n",
    "    \n",
    "    标准化数据:经过处理的数据符合标准正态分布，即均值为0，标准差为1，其转化函数为\n",
    "        （x−μ）/σ :(x-均值)/标准差\n",
    "\n",
    "D-->Fn(x)与F0(x)差值的绝对值的最大值\n",
    "\n",
    "D = max|Fn(x)-F0(x)|\n",
    "\n",
    "当实际观测值D>D(n,α)则拒绝H0，否则则接受H0假设\n",
    "\n",
    "<span style=\"color:red\">p>0.5接受H0, p<0.5拒绝H0,接收H1</a>\n"
   ]
  },
  {
   "cell_type": "markdown",
   "metadata": {},
   "source": [
    "#### 累积频率"
   ]
  },
  {
   "cell_type": "markdown",
   "metadata": {},
   "source": [
    "`累积频率`（Cumulative Frequencies），按某种标志对数据进行分组后，分布在各组内的数据个数称为频数或次数，各组频数与全部频数之和的比值称为频率或比重。\n",
    "\n",
    "为了统计分析的需要，有时需要观察某一数值以下或某一数值以上的频率之和，叫做`累积频率`，或叫做对频率的累计。从变量值小的一方向变量值大的一方累加，称为向上累积，反之为向下累积。频率的最终累积值为100%。"
   ]
  },
  {
   "cell_type": "markdown",
   "metadata": {},
   "source": [
    "#### P值 \n",
    "\n",
    "\n",
    "P值是用来判定假设检验结果的一个参数，也可以根据不同的分布使用分布的拒绝域进行比较。由R·A·Fisher首先提出。\n",
    "P值（P value）就是当原假设为真时，比所得到的样本观察结果更极端的结果出现的概率。如果P值很小，说明原假设情况的发生的概率很小，而如果出现了，根据小概率原理，我们就有理由拒绝原假设，P值越小，我们拒绝原假设的理由越充分。总之，P值越小，表明结果越显著。但是检验的结果究竟是“显著的”、“中度显著的”还是“高度显著的”需要我们自己根据P值的大小和实际问题来解决。\n",
    "\n",
    "\n",
    "从研究总体中抽取一个随机样本计算检验统计量的值计算概率P值或者说观测的显著水平，即在假设为真时的前提下，检验统计量大于或等于实际观测值的概率。\n",
    "\n",
    "        如果P<0.01，说明是较强的判定结果，拒绝假定的参数取值。\n",
    "        如果0.01<P值<0.05，说明较弱的判定结果，拒绝假定的参数取值。\n",
    "        如果P值>0.05，说明结果更倾向于接受假定的参数取值。"
   ]
  },
  {
   "cell_type": "code",
   "execution_count": null,
   "metadata": {},
   "outputs": [],
   "source": [
    "# 样本数据，35位健康男性在未进食之前的血糖浓度\n",
    "data = [87,77,92,68,80,78,84,77,81,80,80,77,92,86,\n",
    "       76,80,81,75,77,72,81,72,84,86,80,68,77,87,\n",
    "       76,77,78,92,75,80,78]"
   ]
  },
  {
   "cell_type": "code",
   "execution_count": null,
   "metadata": {},
   "outputs": [],
   "source": [
    "# 查看数据基本统计量\n",
    "df = pd.DataFrame(data, columns =['value'])\n",
    "u = df['value'].mean() # 均值\n",
    "std = df['value'].std() # 标准差\n",
    "print(\"样本均值为：%.2f，样本标准差为：%.2f\" % (u,std))"
   ]
  },
  {
   "cell_type": "code",
   "execution_count": null,
   "metadata": {},
   "outputs": [],
   "source": [
    "# 创建频率数据\n",
    "s = df['value'].value_counts().sort_index()\n",
    "df_s = pd.DataFrame({'血糖浓度':s.index,'次数':s.values})\n",
    "df_s"
   ]
  },
  {
   "cell_type": "code",
   "execution_count": null,
   "metadata": {},
   "outputs": [],
   "source": [
    "# D值序列计算结果表格\n",
    "df_s['累计次数'] = df_s['次数'].cumsum()\n",
    "#\n",
    "df_s['累计频率'] = df_s['累计次数'] / len(data)\n",
    "# 数据转化为标准分布,就可以查出他的理论分布.\n",
    "df_s['标准化取值'] = (df_s['血糖浓度'] - u) / std\n",
    "# 通过查阅正太分布表\n",
    "df_s['理论分布'] =[0.0244,0.0968,0.2148,0.2643,0.3228,0.3859,0.5160,0.5832,0.7611,0.8531,0.8888,0.9803]  \n",
    "df_s['D'] = np.abs(df_s['累计频率'] - df_s['理论分布'])\n",
    "dmax = df_s['D'].max()\n",
    "print(\"实际观测D值为：%.4f\" % dmax)"
   ]
  },
  {
   "cell_type": "code",
   "execution_count": null,
   "metadata": {},
   "outputs": [],
   "source": [
    "df_s['标准化取值']"
   ]
  },
  {
   "cell_type": "code",
   "execution_count": null,
   "metadata": {},
   "outputs": [],
   "source": [
    "# 密度图表示\n",
    "df_s['累计频率'].plot(style = '--k.')\n",
    "df_s['理论分布'].plot(style = '--r.')\n",
    "plt.legend(loc = 'upper left')\n",
    "plt.grid()"
   ]
  },
  {
   "cell_type": "markdown",
   "metadata": {},
   "source": [
    "# 正太分布图\n",
    "<img src=\"images/20220517225939.jpg\">"
   ]
  },
  {
   "cell_type": "code",
   "execution_count": null,
   "metadata": {},
   "outputs": [],
   "source": []
  }
 ],
 "metadata": {
  "kernelspec": {
   "display_name": "Python 3",
   "language": "python",
   "name": "python3"
  },
  "language_info": {
   "codemirror_mode": {
    "name": "ipython",
    "version": 3
   },
   "file_extension": ".py",
   "mimetype": "text/x-python",
   "name": "python",
   "nbconvert_exporter": "python",
   "pygments_lexer": "ipython3",
   "version": "3.7.6"
  }
 },
 "nbformat": 4,
 "nbformat_minor": 4
}
