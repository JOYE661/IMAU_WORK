{
 "cells": [
  {
   "cell_type": "markdown",
   "metadata": {},
   "source": [
    "# 二手房分布分析\n",
    "`data/second_hand_ house.csv`\n",
    "\n",
    "- 朝向分布情况\n",
    "- 首付分布情况\n",
    "- "
   ]
  },
  {
   "cell_type": "code",
   "execution_count": null,
   "metadata": {},
   "outputs": [],
   "source": [
    "import numpy as np\n",
    "import pandas as pd\n",
    "import matplotlib.pyplot as plt\n",
    "plt.rcParams['font.sans-serif'] = 'SimHei'\n",
    "plt.rcParams['axes.unicode_minus'] = False"
   ]
  },
  {
   "cell_type": "code",
   "execution_count": null,
   "metadata": {},
   "outputs": [],
   "source": [
    "data = pd.read_csv('data/second_hand_ house.csv')\n",
    "data"
   ]
  },
  {
   "cell_type": "code",
   "execution_count": null,
   "metadata": {},
   "outputs": [],
   "source": [
    "# 绘制散点图\n",
    "#  精度和维度作为x和y\n",
    "# 按照房屋的单价控制大小  颜色按照参考总价"
   ]
  },
  {
   "cell_type": "code",
   "execution_count": null,
   "metadata": {
    "scrolled": false
   },
   "outputs": [],
   "source": [
    "plt.scatter(data['经度'],\n",
    "            data['纬度'], \n",
    "            s=data['房屋单价']/500, \n",
    "            c=data['参考总价'],\n",
    "            alpha=0.5,\n",
    "            cmap=\"Reds\")\n",
    "plt.grid()"
   ]
  },
  {
   "cell_type": "markdown",
   "metadata": {},
   "source": [
    "### 极差：max-min\n",
    "- 只针对定量字段"
   ]
  },
  {
   "cell_type": "code",
   "execution_count": null,
   "metadata": {},
   "outputs": [],
   "source": [
    "### 房价首付的极差\n",
    "data.参考首付.max() - data.参考首付.min()"
   ]
  },
  {
   "cell_type": "code",
   "execution_count": null,
   "metadata": {},
   "outputs": [],
   "source": [
    "### 房价总价的极差\n",
    "data.参考总价.max() - data.参考总价.min()"
   ]
  },
  {
   "cell_type": "markdown",
   "metadata": {},
   "source": [
    "#### 参考总价-频率分布情况\n",
    "① 通过直方图直接判断分组组数"
   ]
  },
  {
   "cell_type": "code",
   "execution_count": null,
   "metadata": {},
   "outputs": [],
   "source": [
    "data.参考总价.hist(bins=10)\n",
    "# 简单查看数据分布，确定分布组数 → 一般8-16即可"
   ]
  },
  {
   "cell_type": "code",
   "execution_count": null,
   "metadata": {},
   "outputs": [],
   "source": [
    "# 取得分组区间\n",
    "d_hist = data.参考总价.hist(bins=10)\n",
    "for d in d_hist.patches:\n",
    "    print(d.get_height())"
   ]
  },
  {
   "cell_type": "markdown",
   "metadata": {},
   "source": [
    "###  也可以通过cut方法\n",
    "pandas.cut使用总结\n",
    "\n",
    "用途\n",
    "\n",
    "pandas.cut用来把一组数据分割成离散的区间。比如有一组年龄数据，可以使用pandas.cut将年龄数据分割成不同的年龄段并打上标签。"
   ]
  },
  {
   "cell_type": "markdown",
   "metadata": {},
   "source": [
    "第一个0表示1在第0个bin中"
   ]
  },
  {
   "cell_type": "code",
   "execution_count": null,
   "metadata": {
    "scrolled": true
   },
   "outputs": [],
   "source": [
    "gcut = pd.cut(data['参考总价'],10,right=False)\n",
    "gcut_count = gcut.value_counts(sort=False)  # 不排序\n",
    "data['参考总价分组区间'] = gcut.values\n",
    "data.head()"
   ]
  },
  {
   "cell_type": "markdown",
   "metadata": {},
   "source": [
    "③  求出目标字段下频率分布的其他统计量 → 频数，频率，累计频率\n",
    "\n",
    "分组区间,每个区间的频率"
   ]
  },
  {
   "cell_type": "code",
   "execution_count": null,
   "metadata": {},
   "outputs": [],
   "source": [
    "r_zj = pd.DataFrame(gcut_count)\n",
    "r_zj.rename(columns ={gcut_count.name:'频数'}, inplace = True)  # 修改频数字段名\n",
    "r_zj['频率'] = r_zj / r_zj['频数'].sum()  # 计算频率\n",
    "r_zj['累计频率'] = r_zj['频率'].cumsum()  # 计算累计频率\n",
    "r_zj['频率%'] = r_zj['频率'].apply(lambda x: \"%.2f%%\" % (x*100))  # 以百分比显示频率\n",
    "r_zj['累计频率%'] = r_zj['累计频率'].apply(lambda x: \"%.2f%%\" % (x*100))  # 以百分比显示累计频率\n",
    "r_zj.style.bar(subset=['频率','累计频率'], color='green',width=100)"
   ]
  },
  {
   "cell_type": "code",
   "execution_count": null,
   "metadata": {},
   "outputs": [],
   "source": [
    "### 表格视觉样式:\n"
   ]
  },
  {
   "cell_type": "code",
   "execution_count": null,
   "metadata": {},
   "outputs": [],
   "source": [
    "# 频率分布情况 - 定量字段\n",
    "# ④ 绘制频率直方图\n",
    "# 中文设置\n",
    "plt.rcParams['font.sans-serif'] = [\"SimHei\"]\n",
    "r_zj['频率'].plot(kind = 'bar',\n",
    "                 width = 0.8,\n",
    "                 figsize = (12,2),\n",
    "                 rot = 0,\n",
    "                 color = 'k',\n",
    "                 grid = True,\n",
    "                 alpha = 0.5)\n",
    "plt.title('参考总价分布频率直方图')\n",
    "# 绘制直方图\n",
    "\n",
    "x = len(r_zj)\n",
    "y = r_zj['频率']\n",
    "m = r_zj['频数']\n",
    "for i,j,k in zip(range(x),y,m):\n",
    "    plt.text(i-0.1,j+0.01,'%i' % k, color = 'k')"
   ]
  },
  {
   "cell_type": "code",
   "execution_count": null,
   "metadata": {},
   "outputs": [],
   "source": [
    "# 频率分布情况 - 定性字段\n",
    "# ① 通过计数统计判断不同类别的频率\n",
    "\n",
    "cx_g = data['朝向'].value_counts(sort=True)\n",
    "print(cx_g)\n",
    "# 统计频率\n",
    "\n",
    "r_cx = pd.DataFrame(cx_g)\n",
    "r_cx.rename(columns ={cx_g.name:'频数'}, inplace = True)  # 修改频数字段名\n",
    "r_cx['频率'] = r_cx / r_cx['频数'].sum()  # 计算频率\n",
    "r_cx['累计频率'] = r_cx['频率'].cumsum()  # 计算累计频率\n",
    "r_cx['频率%'] = r_cx['频率'].apply(lambda x: \"%.2f%%\" % (x*100))  # 以百分比显示频率\n",
    "r_cx['累计频率%'] = r_cx['累计频率'].apply(lambda x: \"%.2f%%\" % (x*100))  # 以百分比显示累计频率\n",
    "r_cx.style.bar(subset=['频率','累计频率'], color='#d65f5f',width=100)"
   ]
  },
  {
   "cell_type": "code",
   "execution_count": null,
   "metadata": {},
   "outputs": [],
   "source": [
    "# 频率分布情况 - 定量字段\n",
    "# ② 绘制频率直方图、饼图\n",
    "\n",
    "plt.figure(num = 1,figsize = (12,2))\n",
    "r_cx['频率'].plot(kind = 'bar',\n",
    "                 width = 0.8,\n",
    "                 rot = 0,\n",
    "                 color = 'k',\n",
    "                 grid = True,\n",
    "                 alpha = 0.5)\n",
    "plt.title('参考总价分布频率直方图')\n",
    "# 绘制直方图\n",
    "\n",
    "plt.figure(num = 2)\n",
    "plt.pie(r_cx['频数'],\n",
    "       labels = r_cx.index,\n",
    "       autopct='%.2f%%',\n",
    "       shadow = True)\n",
    "plt.axis('equal')"
   ]
  },
  {
   "cell_type": "code",
   "execution_count": null,
   "metadata": {},
   "outputs": [],
   "source": []
  }
 ],
 "metadata": {
  "kernelspec": {
   "display_name": "Python 3",
   "language": "python",
   "name": "python3"
  },
  "language_info": {
   "codemirror_mode": {
    "name": "ipython",
    "version": 3
   },
   "file_extension": ".py",
   "mimetype": "text/x-python",
   "name": "python",
   "nbconvert_exporter": "python",
   "pygments_lexer": "ipython3",
   "version": "3.7.6"
  }
 },
 "nbformat": 4,
 "nbformat_minor": 4
}
