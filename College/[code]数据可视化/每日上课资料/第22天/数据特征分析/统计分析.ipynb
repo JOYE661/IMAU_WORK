{
 "cells": [
  {
   "cell_type": "code",
   "execution_count": null,
   "metadata": {},
   "outputs": [],
   "source": [
    "import numpy as np\n",
    "import pandas as pd\n",
    "import matplotlib.pyplot as plt\n",
    "plt.rcParams['font.sans-serif'] = 'SimHei'\n",
    "plt.rcParams['axes.unicode_minus'] = False"
   ]
  },
  {
   "cell_type": "markdown",
   "metadata": {},
   "source": [
    "\n",
    "# 统计分析\n",
    "\n",
    "统计指标对定量数据进行统计描述，常从集中趋势和离中趋势两个方面进行分析\n",
    "\n",
    "集中趋势度量 / 离中趋势度量\n"
   ]
  },
  {
   "cell_type": "markdown",
   "metadata": {},
   "source": [
    "## 1、集中趋势度量\n",
    "\n",
    "- 指一组数据向某一中心靠拢的倾向，核心在于寻找数据的代表值或中心值 —— 统计平均数\n",
    "- 算数平均数、位置平均数"
   ]
  },
  {
   "cell_type": "markdown",
   "metadata": {},
   "source": [
    "### (1）算数平均数"
   ]
  },
  {
   "cell_type": "code",
   "execution_count": null,
   "metadata": {},
   "outputs": [],
   "source": [
    "# 创建数据\n",
    "data = pd.DataFrame({'value':np.random.randint(100,120,100),\n",
    "                    'f':np.random.rand(100)})\n",
    "data['f'] = data['f'] / data['f'].sum()  # f为权重，这里将f列设置成总和为1的权重占比\n",
    "print(data.head())\n",
    "print('------')\n",
    "\n",
    "# 简单算数平均值 = 总和 / 样本数量 （不涉及权重）\n",
    "mean = data['value'].mean()\n",
    "print('简单算数平均值为：%.2f' % mean)\n",
    "\n",
    "#加权平均值即将各数值乘以相应的权数，然后加总求和得到总体值，再除以总的单位数\n",
    "mean_w = (data['value'] * data['f']).sum() / data['f'].sum()\n",
    "print('加权算数平均值为：%.2f' % mean_w)"
   ]
  },
  {
   "cell_type": "markdown",
   "metadata": {},
   "source": [
    "### （2）位置平均数"
   ]
  },
  {
   "cell_type": "code",
   "execution_count": null,
   "metadata": {
    "scrolled": true
   },
   "outputs": [],
   "source": [
    "# 众数是一组数据中出现次数最多的数，这里可能返回多个值\n",
    "m = data['value'].mode()\n",
    "print('众数为',m.tolist())\n",
    "\n",
    "# 中位数指将总体各单位标志按照大小顺序排列后，中间位置的数字\n",
    "med = data['value'].median()\n",
    "print('中位数为%i' % med)\n",
    "\n",
    "# 密度曲线在:频率分布直方图 ，当样本容量充分放大时，组距就会充分缩短，\n",
    "#            这时阶梯折线就会演变成一条光滑的曲线，这条曲线就称为总体的密度分布曲线\n",
    "data['value'].plot(kind = 'kde',style = '--k',grid = True)\n",
    "\n",
    "# 简单算数平均值  axvline:在绘图轴上添加垂直线\n",
    "plt.axvline(mean,color='r',linestyle=\"--\",alpha=0.8)  \n",
    "plt.text(mean + 5,0.005,'简单算数平均值为：%.2f' % mean, color = 'r')\n",
    "\n",
    "\n",
    "plt.axvline(mean_w,color='b',linestyle=\"--\",alpha=0.8)  \n",
    "plt.text(mean + 5,0.01,'加权算数平均值：%.2f' % mean_w, color = 'b')\n",
    "# 加权算数平均值\n",
    "\n",
    "plt.axvline(med,color='g',linestyle=\"--\",alpha=0.8)  \n",
    "plt.text(mean + 5,0.015,'中位数：%i' % med, color = 'g')\n",
    "# 中位数\n",
    "# **这里三个数text显示的横坐标一致，目的是图示效果不拥挤"
   ]
  },
  {
   "cell_type": "code",
   "execution_count": null,
   "metadata": {},
   "outputs": [],
   "source": [
    "# 简单算数平均值\n",
    "plt.axvline(mean,color='r',linestyle=\"--\",alpha=0.8)  \n",
    "plt.text(mean + 5,0.005,'简单算数平均值为：%.2f' % mean, color = 'r')"
   ]
  },
  {
   "cell_type": "markdown",
   "metadata": {},
   "source": [
    " ## 2、计算离散度\n",
    "- 指一组数据中各数据以不同程度的距离偏离中心的趋势\n",
    "- 极差与分位差、方差与标准差、离散系数"
   ]
  },
  {
   "cell_type": "code",
   "execution_count": null,
   "metadata": {
    "scrolled": true
   },
   "outputs": [],
   "source": [
    "# 创建数据\n",
    "# A/B销售额量级在同一水平\n",
    "data = pd.DataFrame({'A_sale':np.random.rand(30)*1000,\n",
    "                    'B_sale':np.random.rand(30)*1000},\n",
    "                   index = pd.period_range('20170601','20170630'))\n",
    "print(data.head())\n"
   ]
  },
  {
   "cell_type": "markdown",
   "metadata": {},
   "source": [
    "### （1）极差\n",
    "\n",
    "极差法就是指使用该组数据中的最大值减去最小值。\n",
    "\n",
    "    在计算一组数据的离散度时，最简便的方法就是使用这组数据中的最大值减去这组数据的最小值，目的就是为了观测变量的最大观测值与最小观测值之间的区间跨度。\n",
    "    \n",
    "    它是标志值变动的最大范围"
   ]
  },
  {
   "cell_type": "code",
   "execution_count": null,
   "metadata": {
    "scrolled": true
   },
   "outputs": [],
   "source": [
    "a_r = data['A_sale'].max() - data['A_sale'].min()\n",
    "\n",
    "b_r = data['B_sale'].max() - data['B_sale'].min()\n",
    "\n",
    "print('A销售额的极差为：%.2f, B销售额的极差为：%.2f' % (a_r,b_r))"
   ]
  },
  {
   "cell_type": "markdown",
   "metadata": {},
   "source": [
    "### ( 2 )分位数\n",
    "分位数。分位数也叫分位点，是指将一个随机变量的概率分布范围分为几个等份的数值点。常用的有中位数（即二分位数）、四分位数\n",
    "\n",
    "四分位数（Quartile）是统计学中分位数的一种，即把所有数值由小到大排列并分成四等份，处于三个分割点位置的数值就是四分位数。\n",
    "\n",
    "- 1）第一四分位数(Q1)，又称“较小四分位数”，等于该样本中所有数值由小到大排列后第25%的数字；\n",
    "\n",
    "- 2）第二四分位数(Q2)，又称“中位数”，等于该样本中所有数值由小到大排列后第50%的数字；\n",
    "\n",
    "- 3）第三四分位数(Q3)，又称“较大四分位数”，等于该样本中所有数值由小到大排列后第75%的数字。\n",
    "\n",
    "- 第三四分位数与第一四分位数的差距又称四分位距。\n",
    "\n",
    "<img src=\"images/20220518221603.png\">\n",
    "\n",
    "#### 2.1分位数的计算方法及举例\n",
    "\n",
    "为了更一般化，这里考虑四分位。即当p=0.25 0.5 0.75 时，所求得的分位数值。过程分为三步：\n",
    "\n",
    "    将数据从小到大排列\n",
    "    确定p分位数的位置\n",
    "    确定p分位数具体的数值\n",
    "\n",
    "为了更好得说明，这里我们设n表示数据的长度，<font color=\"red\">Q1、Q2、Q3</font>分别表示所求的第1分位数、第2分位数、第3分位数。\n",
    "\n",
    "<font color=\"red\">position（）</font>表示分位数的位置，<spfontan color=\"red\">figure（）</font>表示分位数处的值。\n",
    "\n",
    "将n个数据从小到大排列，记排序前的数据为<font color=\"red\">before_data</font>；排序后的数据为<font color=\"red\">data</font>，简记为a[1]~a[n]\n",
    "\n",
    "#### 2.2确定p分位数的位置\n",
    "\n",
    "p分位数的位置公式如下：\n",
    "\n",
    "`position = 1+（n-1）*p `\n",
    "\n",
    "由公式，第1分位数、第2分位数、第3分位数的位置分别为：\n",
    "<img src=\"images/20220518222846.png\"/>\n",
    "\n",
    "#### 2.4 确定的p分位数位置处的具体值\n",
    "\n",
    "p分位数的值的计算公式如下：\n",
    "\n",
    "    figure(Q1) = data[ ⌊position(Q1)⌋ ] +（data[ ⌊position(Q1)⌋+1] - data[ ⌊position(Q1)⌋]）*（position(Q1)-⌊position(Q1)⌋）\n",
    "\n",
    "           = a[ ⌊1 +（n-1）* 0.25⌋ ] +( a[ ⌊1 +（n-1）* 0.25⌋+1 ]-a[ ⌊1 +（n-1）* 0.25⌋ ])*(1 +（n-1）* 0.25 - ⌊1 +（n-1）* 0.25⌋)\n",
    "\n",
    "    figure(Q2) = data[ ⌊position(Q2)⌋ ] +（data[ ⌊position(Q2)⌋+1] - data [ ⌊position(Q2)⌋]）*（position(Q2)-⌊position(Q2)⌋）\n",
    "\n",
    "           = a[ ⌊1 +（n-1）* 0.5⌋ ] +( a[ ⌊1 +（n-1）* 0.5⌋+1 ]-a[ ⌊1 +（n-1）* 0.5⌋ ]) * (1 +（n-1）* 0.5 - ⌊1 +（n-1）* 0.5 ⌋)\n",
    "\n",
    "    figure(Q3) = data[ ⌊position(Q3)⌋ ]+（data[ ⌊position(Q3)⌋+1] - data[ ⌊position(Q3)⌋]）*（position(Q3)-⌊position(Q3)⌋）\n",
    "\n",
    "           = a[ ⌊1 +（n-1）* 0.75⌋ ] +( a[ ⌊ 1 +（n-1）* 0.75⌋+1 ]-a[ ⌊1 +（n-1）* 0.75⌋ ])*(1 +（n-1）* 0.75 - ⌊1 +（n-1）* 0.75⌋)\n",
    "                      \n",
    "\n",
    "也就是说，将数据从小到大排列，p分位数位置的值 = 位于p分位数取整后位置的值 + （位于p分位数取整下一位位置的值 - 位于p分位数取整后位置的值）*（p分位数位置 - p分位数位置取整）\n",
    "\n",
    "<font color=\"red\">注：</font>其中 ⌊Q⌋ 表示对 Q 值向下取整"
   ]
  },
  {
   "cell_type": "markdown",
   "metadata": {},
   "source": [
    "#### 实例：\n",
    "\n",
    "给出一组数据before_data：7, 15, 36, 39, 40, 41,20,18，一共8项\n",
    "\n",
    "从小到大排序后结果data：7,15,18,20,36,39,40,41\n",
    "\n",
    "    position(Q1) = 1 + (8 - 1) * 0.25 = 2.75\n",
    "    position(Q2) = 1 + (8 - 1) * 0.5 = 4.5\n",
    "    position(Q3) = 1 + (8 - 1) * 0.75 = 6.25\n",
    "    \n",
    "\n",
    "    figure(Q1) = data[ ⌊position(Q1)⌋] + (data[ ⌊position(Q1)⌋+1] - data[ ⌊position(Q1)⌋]) * (position(Q1) - ⌊position(Q1)⌋)\n",
    "\n",
    "                = a[2] + (a[3] - a[2] ) * (2.75 - 2)\n",
    "\n",
    "                = 15 + (18-15)*(2.75-2)\n",
    "\n",
    "                = 17.25\n",
    "\n",
    "    figure(Q2) = data[ ⌊position(Q2)⌋] + (data[ ⌊position(Q2)⌋+1] - data[⌊position(Q2)⌋]) * (position(Q2) - ⌊position(Q2)⌋)     \n",
    "\n",
    "               = a[4] + (a[5] - a[4] ) * (4.5 -4)\n",
    "               \n",
    "               = 20 + (36-20)*(4.5-4)\n",
    "\n",
    "               = 28\n",
    "\n",
    "    figure(Q3) = data[ ⌊position(Q3)⌋] + (data[ ⌊position(Q3)⌋+1] - data[ ⌊position(Q3)⌋]) * (position(Q3) - ⌊position(Q3)⌋)\n",
    "\n",
    "                = a[6] + (a[7] - a[7] ) * (6.25 - 6)\n",
    "                \n",
    "                = 39 + (40-39)*(6.25-6)\n",
    "\n",
    "                = 39.25"
   ]
  },
  {
   "cell_type": "code",
   "execution_count": null,
   "metadata": {},
   "outputs": [],
   "source": [
    "test_data = pd.DataFrame({\"values\" :[7, 15, 36, 39, 40, 41,20,18]})\n",
    "test_data"
   ]
  },
  {
   "cell_type": "code",
   "execution_count": null,
   "metadata": {},
   "outputs": [],
   "source": [
    "# 排序\n",
    "test_data.sort_values('values',inplace=True)\n",
    "test_data"
   ]
  },
  {
   "cell_type": "code",
   "execution_count": null,
   "metadata": {},
   "outputs": [],
   "source": [
    "# 查看四分位\n",
    "test_data.describe()"
   ]
  },
  {
   "cell_type": "code",
   "execution_count": null,
   "metadata": {},
   "outputs": [],
   "source": []
  },
  {
   "cell_type": "code",
   "execution_count": null,
   "metadata": {},
   "outputs": [],
   "source": [
    "# 创建数据\n",
    "# A/B销售额量级在同一水平\n",
    "data = pd.DataFrame({'A_sale':np.random.rand(30)*1000,\n",
    "                    'B_sale':np.random.rand(30)*1000},\n",
    "                   index = pd.period_range('20170601','20170630'))\n",
    "print(data.head())\n",
    "\n",
    "sta = data['A_sale'].describe()\n",
    "stb = data['B_sale'].describe()\n",
    "\n",
    "# 分位差\n",
    "a_iqr  = sta.loc['75%'] - sta.loc['25%']\n",
    "b_iqr = stb.loc['75%'] - stb.loc['25%']\n",
    "print('A销售额的分位差为：%.2f, B销售额的分位差为：%.2f' % (a_iqr,b_iqr))\n"
   ]
  },
  {
   "cell_type": "code",
   "execution_count": null,
   "metadata": {
    "scrolled": true
   },
   "outputs": [],
   "source": [
    "sta"
   ]
  },
  {
   "cell_type": "markdown",
   "metadata": {},
   "source": [
    "#### 箱型图 :是一种用作显示一组数据分散情况资料的统计图\n",
    "我们从上四分位数到下四分位数绘制一个盒子，然后用一条垂直触须（形象地称为“盒须”）穿过盒子的中间。\n",
    "上垂线延伸至上边缘（最大值），下垂线延伸至下边缘（最小值）。箱型图结构如下所示\n",
    "<img src=\"images/20220518224925.png\">"
   ]
  },
  {
   "cell_type": "code",
   "execution_count": null,
   "metadata": {
    "scrolled": true
   },
   "outputs": [],
   "source": [
    "# 主箱体（Box）、中位线（median）、颈部（Stem）和须线（Whishker） 顶部caps\n",
    "color = dict(boxes='DarkGreen', whiskers='DarkOrange', medians='DarkBlue', caps='Gray')\n",
    "data.plot.box(vert=False,grid = True,color = color,figsize = (10,3))"
   ]
  },
  {
   "cell_type": "markdown",
   "metadata": {},
   "source": [
    "#### (2）方差与标准差\n",
    "\n",
    "标准差（Standard Deviation） ，数学术语，是离均差平方的算术平均数（即：方差）的算术平方根，用σ表示。标准差也被称为标准偏差，或者实验标准差，在概率统计中最常使用作为统计分布程度上的测量依据。\n",
    "<img src=\"images/20220518225746.png\">"
   ]
  },
  {
   "cell_type": "code",
   "execution_count": null,
   "metadata": {},
   "outputs": [],
   "source": [
    "# 方差 → 各组中数值与算数平均数离差平方的算术平均数\n",
    "\n",
    "\n",
    "# 标准差 → 方差的平方根\n",
    "# 标准差是最常用的离中趋势指标 → 标准差越大，离中趋势越明显\n",
    "a_std = sta.loc['std']\n",
    "b_std = stb.loc['std']\n",
    "\n",
    "a_var = data['A_sale'].var()\n",
    "b_var = data['B_sale'].var()\n",
    "print('A销售额的标准差为：%.2f, B销售额的标准差为：%.2f' % (a_std,b_std))\n",
    "print('A销售额的方差为：%.2f, B销售额的方差为：%.2f' % (a_var,b_var))"
   ]
  },
  {
   "cell_type": "code",
   "execution_count": null,
   "metadata": {},
   "outputs": [],
   "source": [
    "### A密度曲线，1个标准差\n",
    "fig = plt.figure(figsize = (12,4))\n",
    "ax1 = fig.add_subplot(1,2,1)\n",
    "data['A_sale'].plot(kind = 'kde',style = 'k--',grid = True,title = 'A密度曲线')\n",
    "# 绘制二分之一位\n",
    "plt.axvline(sta.loc['50%'],color='r',linestyle=\"--\",alpha=0.8)  \n",
    "\n",
    "# 二分之一位减一个标准差\n",
    "plt.axvline(sta.loc['50%'] - a_std,color='b',linestyle=\"--\",alpha=0.8) \n",
    "# 二分之一位加一个标准差\n",
    "plt.axvline(sta.loc['50%'] + a_std,color='b',linestyle=\"--\",alpha=0.8) \n",
    "\n",
    "plt.axvline(sta.loc['75%'] + a_std,color='orange',linestyle=\"--\",alpha=0.8) "
   ]
  },
  {
   "cell_type": "code",
   "execution_count": null,
   "metadata": {},
   "outputs": [],
   "source": [
    "# B密度曲线，1个标准差\n",
    "ax2 = fig.add_subplot(1,2,2)\n",
    "data['B_sale'].plot(kind = 'kde',style = 'k--',grid = True,title = 'B密度曲线')\n",
    "# \n",
    "plt.axvline(stb.loc['50%'],color='r',linestyle=\"--\",alpha=0.8)  \n",
    "plt.axvline(stb.loc['50%'] - b_std,color='b',linestyle=\"--\",alpha=0.8)  \n",
    "plt.axvline(stb.loc['50%'] + b_std,color='b',linestyle=\"--\",alpha=0.8) "
   ]
  },
  {
   "cell_type": "code",
   "execution_count": null,
   "metadata": {},
   "outputs": [],
   "source": []
  }
 ],
 "metadata": {
  "kernelspec": {
   "display_name": "Python 3",
   "language": "python",
   "name": "python3"
  },
  "language_info": {
   "codemirror_mode": {
    "name": "ipython",
    "version": 3
   },
   "file_extension": ".py",
   "mimetype": "text/x-python",
   "name": "python",
   "nbconvert_exporter": "python",
   "pygments_lexer": "ipython3",
   "version": "3.7.6"
  }
 },
 "nbformat": 4,
 "nbformat_minor": 4
}
