{
 "cells": [
  {
   "cell_type": "markdown",
   "metadata": {},
   "source": [
    "  \n",
    "# <font color=gray>第3章 数据预处理</font>\n",
    "## <font color=gray>3.1 numpy基础\n",
    "### 　<font color=gray>3.1.1 向量\n",
    "### 　<font color=gray>3.1.2 数组\n",
    "#### 　　　<font color=gray>3.1.2.1 数据类型与结构数组\n",
    "#### 　　　<font color=gray>3.1.2.2 索引与切片\n",
    "#### 　　　3.1.2.3 数组的属性\n",
    "#### 　　　3.1.2.4 数组排序\n",
    "#### 　　　3.1.2.5 数组维度"
   ]
  },
  {
   "cell_type": "markdown",
   "metadata": {},
   "source": [
    "#### 　　　3.1.2.3 数组的属性(见教材p94)"
   ]
  },
  {
   "cell_type": "code",
   "execution_count": 1,
   "metadata": {
    "scrolled": true
   },
   "outputs": [
    {
     "data": {
      "text/plain": [
       "array([[[ 0,  1,  2],\n",
       "        [ 3,  4,  5]],\n",
       "\n",
       "       [[ 6,  7,  8],\n",
       "        [ 9, 10, 11]]])"
      ]
     },
     "execution_count": 1,
     "metadata": {},
     "output_type": "execute_result"
    }
   ],
   "source": [
    "import numpy as np\n",
    "ac=np.arange(12)\n",
    "ac.shape=(2,2,3)\n",
    "ac"
   ]
  },
  {
   "cell_type": "code",
   "execution_count": 48,
   "metadata": {
    "scrolled": true
   },
   "outputs": [
    {
     "data": {
      "text/plain": [
       "(2, 2, 3)"
      ]
     },
     "execution_count": 48,
     "metadata": {},
     "output_type": "execute_result"
    }
   ],
   "source": [
    "#1.返回数组的形状，如行、列、层等。\n",
    "ac.shape"
   ]
  },
  {
   "cell_type": "code",
   "execution_count": 49,
   "metadata": {},
   "outputs": [
    {
     "data": {
      "text/plain": [
       "dtype('int32')"
      ]
     },
     "execution_count": 49,
     "metadata": {},
     "output_type": "execute_result"
    }
   ],
   "source": [
    "#2.返回数组中各元素的类型\n",
    "ac.dtype"
   ]
  },
  {
   "cell_type": "code",
   "execution_count": 2,
   "metadata": {},
   "outputs": [
    {
     "data": {
      "text/plain": [
       "dtype([('name', '<U50'), ('location', '<U30'), ('price', '<f4'), ('volume', '<i4')])"
      ]
     },
     "execution_count": 2,
     "metadata": {},
     "output_type": "execute_result"
    }
   ],
   "source": [
    "goodslist=np.dtype([('name',np.str_,50),('location',np.str_,30),('price',np.float32),\n",
    "                   ('volume',np.int32)])\n",
    "goods=np.array([('Gree Airconditioner','JD.com',6245,1),\n",
    "                ('Sony Blueray Player','Amazon.com',3210,2),\n",
    "                ('Apple Macbook Pro 13','Tmall.com',12388,5),\n",
    "                ('iPhoneSE','JD.com',4588,2)],dtype=goodslist)\n",
    "goods.dtype"
   ]
  },
  {
   "cell_type": "code",
   "execution_count": 55,
   "metadata": {},
   "outputs": [
    {
     "data": {
      "text/plain": [
       "3"
      ]
     },
     "execution_count": 55,
     "metadata": {},
     "output_type": "execute_result"
    }
   ],
   "source": [
    "#3.返回数组的维数或数组轴的个数（有多少对[]就有多少维数）\n",
    "ac.ndim"
   ]
  },
  {
   "cell_type": "code",
   "execution_count": 56,
   "metadata": {},
   "outputs": [
    {
     "data": {
      "text/plain": [
       "12"
      ]
     },
     "execution_count": 56,
     "metadata": {},
     "output_type": "execute_result"
    }
   ],
   "source": [
    "#4.返回数组元素的总个数\n",
    "ac.size"
   ]
  },
  {
   "cell_type": "code",
   "execution_count": 57,
   "metadata": {},
   "outputs": [
    {
     "data": {
      "text/plain": [
       "4"
      ]
     },
     "execution_count": 57,
     "metadata": {},
     "output_type": "execute_result"
    }
   ],
   "source": [
    "#5.返回数组元素在内存中所占的字节数\n",
    "ac.itemsize"
   ]
  },
  {
   "cell_type": "code",
   "execution_count": 58,
   "metadata": {
    "scrolled": true
   },
   "outputs": [
    {
     "data": {
      "text/plain": [
       "48"
      ]
     },
     "execution_count": 58,
     "metadata": {},
     "output_type": "execute_result"
    }
   ],
   "source": [
    "#6.返回数组所占的存储空间即itemsize*size\n",
    "ac.nbytes"
   ]
  },
  {
   "cell_type": "code",
   "execution_count": null,
   "metadata": {},
   "outputs": [],
   "source": [
    "#7.返回数组的转置数组"
   ]
  },
  {
   "cell_type": "code",
   "execution_count": 8,
   "metadata": {
    "scrolled": true
   },
   "outputs": [
    {
     "data": {
      "text/plain": [
       "array([0, 1, 2, 3])"
      ]
     },
     "execution_count": 8,
     "metadata": {},
     "output_type": "execute_result"
    }
   ],
   "source": [
    "np.array([0,1,2,3]).T #数组对象.T,一维数组转置后元素值不变。"
   ]
  },
  {
   "cell_type": "code",
   "execution_count": 36,
   "metadata": {
    "scrolled": true
   },
   "outputs": [
    {
     "name": "stdout",
     "output_type": "stream",
     "text": [
      "[[ 0  1  2]\n",
      " [ 3  4  5]\n",
      " [ 6  7  8]\n",
      " [ 9 10 11]]\n"
     ]
    }
   ],
   "source": [
    "b=np.arange(12).reshape(4,3)\n",
    "print(b)"
   ]
  },
  {
   "cell_type": "code",
   "execution_count": 37,
   "metadata": {
    "scrolled": true
   },
   "outputs": [
    {
     "data": {
      "text/plain": [
       "array([[ 0,  3,  6,  9],\n",
       "       [ 1,  4,  7, 10],\n",
       "       [ 2,  5,  8, 11]])"
      ]
     },
     "execution_count": 37,
     "metadata": {},
     "output_type": "execute_result"
    }
   ],
   "source": [
    "b.T"
   ]
  },
  {
   "cell_type": "code",
   "execution_count": 6,
   "metadata": {
    "scrolled": false
   },
   "outputs": [
    {
     "name": "stdout",
     "output_type": "stream",
     "text": [
      "[[[ 0  6]\n",
      "  [ 3  9]]\n",
      "\n",
      " [[ 1  7]\n",
      "  [ 4 10]]\n",
      "\n",
      " [[ 2  8]\n",
      "  [ 5 11]]]\n"
     ]
    }
   ],
   "source": [
    "print(ac.T)"
   ]
  },
  {
   "cell_type": "code",
   "execution_count": 7,
   "metadata": {},
   "outputs": [
    {
     "data": {
      "text/plain": [
       "array([[[ 0,  1,  2],\n",
       "        [ 3,  4,  5]],\n",
       "\n",
       "       [[ 6,  7,  8],\n",
       "        [ 9, 10, 11]]])"
      ]
     },
     "execution_count": 7,
     "metadata": {},
     "output_type": "execute_result"
    }
   ],
   "source": [
    "#转置后ac源数组形状不变\n",
    "ac"
   ]
  },
  {
   "cell_type": "code",
   "execution_count": null,
   "metadata": {},
   "outputs": [],
   "source": [
    "#课堂练习1：修改ac数组中三个元素的值为100"
   ]
  },
  {
   "cell_type": "code",
   "execution_count": null,
   "metadata": {},
   "outputs": [],
   "source": []
  },
  {
   "cell_type": "code",
   "execution_count": null,
   "metadata": {},
   "outputs": [],
   "source": []
  },
  {
   "cell_type": "code",
   "execution_count": null,
   "metadata": {},
   "outputs": [],
   "source": []
  },
  {
   "cell_type": "code",
   "execution_count": null,
   "metadata": {},
   "outputs": [],
   "source": []
  },
  {
   "cell_type": "code",
   "execution_count": null,
   "metadata": {},
   "outputs": [],
   "source": []
  },
  {
   "cell_type": "code",
   "execution_count": null,
   "metadata": {},
   "outputs": [],
   "source": []
  },
  {
   "cell_type": "code",
   "execution_count": 10,
   "metadata": {
    "scrolled": false
   },
   "outputs": [
    {
     "data": {
      "text/plain": [
       "array([[[  0, 100,   2],\n",
       "        [  3,   4,   5]],\n",
       "\n",
       "       [[  6,   7,   8],\n",
       "        [  9,  10,  11]]])"
      ]
     },
     "execution_count": 10,
     "metadata": {},
     "output_type": "execute_result"
    }
   ],
   "source": [
    "ac[0,0,1]=100\n",
    "ac"
   ]
  },
  {
   "cell_type": "code",
   "execution_count": 11,
   "metadata": {
    "scrolled": true
   },
   "outputs": [
    {
     "data": {
      "text/plain": [
       "array([[[  0, 100,   2],\n",
       "        [100,   4,   5]],\n",
       "\n",
       "       [[  6,   7,   8],\n",
       "        [  9,  10,  11]]])"
      ]
     },
     "execution_count": 11,
     "metadata": {},
     "output_type": "execute_result"
    }
   ],
   "source": [
    "ac[0,1,0]=100\n",
    "ac"
   ]
  },
  {
   "cell_type": "code",
   "execution_count": 12,
   "metadata": {
    "scrolled": false
   },
   "outputs": [
    {
     "data": {
      "text/plain": [
       "array([[[  0, 100,   2],\n",
       "        [100,   4,   5]],\n",
       "\n",
       "       [[  6,   7,   8],\n",
       "        [  9,  10, 100]]])"
      ]
     },
     "execution_count": 12,
     "metadata": {},
     "output_type": "execute_result"
    }
   ],
   "source": [
    "ac[1,1,2]=100\n",
    "ac"
   ]
  },
  {
   "cell_type": "code",
   "execution_count": null,
   "metadata": {},
   "outputs": [],
   "source": [
    "#8.flat方法返回一个numpy.flatiter对象，即展平迭代器，\n",
    "#可以像遍历一维数组一样遍历任意多维数组，也可获取指定元素。"
   ]
  },
  {
   "cell_type": "code",
   "execution_count": 39,
   "metadata": {
    "scrolled": true
   },
   "outputs": [
    {
     "data": {
      "text/plain": [
       "array([[[ 0,  1,  2],\n",
       "        [ 3,  4,  5]],\n",
       "\n",
       "       [[ 6,  7,  8],\n",
       "        [ 9, 10, 11]]])"
      ]
     },
     "execution_count": 39,
     "metadata": {},
     "output_type": "execute_result"
    }
   ],
   "source": [
    "ac=np.arange(12)\n",
    "ac.shape=(2,2,3)#彻底修改，源数组形状发生改变\n",
    "ac"
   ]
  },
  {
   "cell_type": "code",
   "execution_count": 6,
   "metadata": {},
   "outputs": [
    {
     "data": {
      "text/plain": [
       "array([ 0,  1,  2,  3,  4,  5,  6,  7,  8,  9, 10, 11])"
      ]
     },
     "execution_count": 6,
     "metadata": {},
     "output_type": "execute_result"
    }
   ],
   "source": [
    "ac=np.arange(12)\n",
    "b=ac.reshape(2,2,3) #临时修改，源数组形状不变\n",
    "ac"
   ]
  },
  {
   "cell_type": "code",
   "execution_count": 40,
   "metadata": {},
   "outputs": [
    {
     "data": {
      "text/plain": [
       "<numpy.flatiter at 0x5f177a8>"
      ]
     },
     "execution_count": 40,
     "metadata": {},
     "output_type": "execute_result"
    }
   ],
   "source": [
    "acf=ac.flat\n",
    "acf"
   ]
  },
  {
   "cell_type": "code",
   "execution_count": 41,
   "metadata": {
    "scrolled": true
   },
   "outputs": [
    {
     "name": "stdout",
     "output_type": "stream",
     "text": [
      "0 1 2 3 4 5 6 7 8 9 10 11 "
     ]
    }
   ],
   "source": [
    "for i in acf:\n",
    "    print(i,end=' ')"
   ]
  },
  {
   "cell_type": "code",
   "execution_count": 42,
   "metadata": {},
   "outputs": [
    {
     "name": "stdout",
     "output_type": "stream",
     "text": [
      "0 100 2 3 4 5 6 7 8 9 10 11 "
     ]
    }
   ],
   "source": [
    "acf[1]=100\n",
    "for i in acf:\n",
    "    print(i,end=' ')"
   ]
  },
  {
   "cell_type": "code",
   "execution_count": 9,
   "metadata": {},
   "outputs": [
    {
     "data": {
      "text/plain": [
       "array([ 5,  6,  7,  8,  9, 10, 11])"
      ]
     },
     "execution_count": 9,
     "metadata": {},
     "output_type": "execute_result"
    }
   ],
   "source": [
    "acf[5:]"
   ]
  },
  {
   "cell_type": "code",
   "execution_count": 19,
   "metadata": {},
   "outputs": [
    {
     "ename": "IndexError",
     "evalue": "unsupported iterator index",
     "output_type": "error",
     "traceback": [
      "\u001b[1;31m---------------------------------------------------------------------------\u001b[0m",
      "\u001b[1;31mIndexError\u001b[0m                                Traceback (most recent call last)",
      "\u001b[1;32m<ipython-input-19-915be08f00f0>\u001b[0m in \u001b[0;36m<module>\u001b[1;34m()\u001b[0m\n\u001b[1;32m----> 1\u001b[1;33m \u001b[0macf\u001b[0m\u001b[1;33m[\u001b[0m\u001b[1;36m1\u001b[0m\u001b[1;33m,\u001b[0m\u001b[1;36m3\u001b[0m\u001b[1;33m,\u001b[0m\u001b[1;36m11\u001b[0m\u001b[1;33m]\u001b[0m\u001b[1;33m=\u001b[0m\u001b[1;36m100\u001b[0m\u001b[1;33m\u001b[0m\u001b[0m\n\u001b[0m\u001b[0;32m      2\u001b[0m \u001b[0macf\u001b[0m\u001b[1;33m\u001b[0m\u001b[0m\n",
      "\u001b[1;31mIndexError\u001b[0m: unsupported iterator index"
     ]
    }
   ],
   "source": [
    "acf[1,3,11]=100\n",
    "acf"
   ]
  },
  {
   "cell_type": "code",
   "execution_count": 43,
   "metadata": {
    "scrolled": true
   },
   "outputs": [
    {
     "name": "stdout",
     "output_type": "stream",
     "text": [
      "[[[  0 100   2]\n",
      "  [100   4   5]]\n",
      "\n",
      " [[  6   7   8]\n",
      "  [  9  10 100]]]\n"
     ]
    }
   ],
   "source": [
    "#修改指定位置元素\n",
    "acf[[1,3,11]]=100\n",
    "print(ac)"
   ]
  },
  {
   "cell_type": "markdown",
   "metadata": {},
   "source": [
    "#### 　　　3.1.2.4 数组排序"
   ]
  },
  {
   "cell_type": "code",
   "execution_count": null,
   "metadata": {},
   "outputs": [],
   "source": [
    "'''\n",
    "1.使用sort()函数\n",
    "\n",
    "numpy.sort() 函数返回输入数组的排序副本，会分配内存保存。\n",
    "\n",
    "numpy.sort(a, axis, kind, order)\n",
    "\n",
    "a: 要排序的数组，强制参数\n",
    "axis: int or None, 可选参数\n",
    "      沿着它排序数组的轴 \n",
    "      如果没有,数组在排序前会被展平\n",
    "      默认值是-1, 沿着最后的轴排序\n",
    "      axis=0 按列排序，axis=1 按行排序 \n",
    "kind: 排序的算法，默认为'quicksort'（快速排序），可选参数\n",
    "order: 如果数组包含字段，则是要排序的字段，可选参数\n",
    "'''"
   ]
  },
  {
   "cell_type": "markdown",
   "metadata": {},
   "source": [
    "在二维NumPy数组中，轴是沿行和列的方向\n",
    "\n",
    "\n",
    "<img src=\"images/pic1.png\" width=\"50%\">"
   ]
  },
  {
   "cell_type": "markdown",
   "metadata": {},
   "source": [
    "axis 0轴是沿着行（rows）的方向，在NumPy数组中，axis 0是第一轴。\n",
    "对于二维或多维数组，axis 0是沿行（row）向下的轴。\n",
    "<img src=\"images/pic2.png\" width=\"50%\">"
   ]
  },
  {
   "cell_type": "markdown",
   "metadata": {},
   "source": [
    "axis 1轴是沿着列（columns）的方向，在NumPy数组中，axis1是第2根轴。\n",
    "对于二维或多维数组，axis1是沿列（columns）横穿的轴。\n",
    "<img src=\"images/pic3.png\" width=\"50%\">"
   ]
  },
  {
   "cell_type": "markdown",
   "metadata": {},
   "source": [
    "在带有axis参数的二维数组上使用聚合函数时，它会将二维数组折叠为一维数组。\n",
    "axis参数控制哪个轴将被折叠。\n",
    "将NumPy和函数与axis参数一起使用时，指定的轴是折叠的轴。\n",
    "<img src=\"images/pic4.png\" width=\"50%\">"
   ]
  },
  {
   "cell_type": "markdown",
   "metadata": {},
   "source": [
    "<img src=\"images/pic5.png\" width=\"50%\">"
   ]
  },
  {
   "cell_type": "markdown",
   "metadata": {},
   "source": [
    "一维NumPy数组只有一个轴（即axis=0）\n",
    "<img src=\"images/pic6.png\" width=\"40%\">"
   ]
  },
  {
   "cell_type": "code",
   "execution_count": 12,
   "metadata": {},
   "outputs": [
    {
     "data": {
      "text/plain": [
       "array([1, 1, 2, 2, 2, 2, 3, 4, 4, 4, 4, 5, 6, 7, 8])"
      ]
     },
     "execution_count": 12,
     "metadata": {},
     "output_type": "execute_result"
    }
   ],
   "source": [
    "s=np.array([1,2,4,3,1,2,2,4,6,7,2,4,8,4,5])\n",
    "np.sort(s) #np.函数名"
   ]
  },
  {
   "cell_type": "code",
   "execution_count": 13,
   "metadata": {},
   "outputs": [
    {
     "data": {
      "text/plain": [
       "array([1, 2, 4, 3, 1, 2, 2, 4, 6, 7, 2, 4, 8, 4, 5])"
      ]
     },
     "execution_count": 13,
     "metadata": {},
     "output_type": "execute_result"
    }
   ],
   "source": [
    "s"
   ]
  },
  {
   "cell_type": "code",
   "execution_count": 23,
   "metadata": {},
   "outputs": [
    {
     "data": {
      "text/plain": [
       "array([-8, -7, -6, -5, -4, -4, -4, -4, -3, -2, -2, -2, -2, -1, -1])"
      ]
     },
     "execution_count": 23,
     "metadata": {},
     "output_type": "execute_result"
    }
   ],
   "source": [
    "#如何倒序排列？\n",
    "np.sort(-s)"
   ]
  },
  {
   "cell_type": "code",
   "execution_count": 14,
   "metadata": {
    "scrolled": false
   },
   "outputs": [
    {
     "data": {
      "text/plain": [
       "array([ 0,  4,  1,  5,  6, 10,  3,  2,  7, 11, 13, 14,  8,  9, 12],\n",
       "      dtype=int32)"
      ]
     },
     "execution_count": 14,
     "metadata": {},
     "output_type": "execute_result"
    }
   ],
   "source": [
    "#2 使用numpy.argsort() 函数\n",
    "#此函数返回的是数组值从小到大的索引值。\n",
    "np.argsort(s)"
   ]
  },
  {
   "cell_type": "code",
   "execution_count": 5,
   "metadata": {},
   "outputs": [
    {
     "data": {
      "text/plain": [
       "array([12,  9,  8, 14,  2,  7, 11, 13,  3,  1,  5,  6, 10,  0,  4],\n",
       "      dtype=int32)"
      ]
     },
     "execution_count": 5,
     "metadata": {},
     "output_type": "execute_result"
    }
   ],
   "source": [
    "#倒序排列\n",
    "np.argsort(-s)"
   ]
  },
  {
   "cell_type": "code",
   "execution_count": 15,
   "metadata": {},
   "outputs": [
    {
     "data": {
      "text/plain": [
       "array([1, 1, 2, 2, 2, 2, 3, 4, 4, 4, 4, 5, 6, 7, 8])"
      ]
     },
     "execution_count": 15,
     "metadata": {},
     "output_type": "execute_result"
    }
   ],
   "source": [
    "#argsort() 函数返回的是数组值从大到小的索引值。\n",
    "#通过升序索引值间接取出S中的元素达到升序输出的目的。\n",
    "s[np.argsort(s)]"
   ]
  },
  {
   "cell_type": "code",
   "execution_count": 16,
   "metadata": {},
   "outputs": [
    {
     "data": {
      "text/plain": [
       "array([8, 7, 6, 5, 4, 4, 4, 4, 3, 2, 2, 2, 2, 1, 1])"
      ]
     },
     "execution_count": 16,
     "metadata": {},
     "output_type": "execute_result"
    }
   ],
   "source": [
    "#argsort() 函数返回的是数组值从大到小的索引值。\n",
    "#通过降序索引值间接取出S中的元素达到降序输出的目的。\n",
    "s[np.argsort(-s)]"
   ]
  },
  {
   "cell_type": "code",
   "execution_count": null,
   "metadata": {},
   "outputs": [],
   "source": [
    "'''\n",
    "ndarray对象的sort方法可对数组进行原地排序，即改变原数组元素的位置。\n",
    "'''"
   ]
  },
  {
   "cell_type": "code",
   "execution_count": 17,
   "metadata": {},
   "outputs": [
    {
     "data": {
      "text/plain": [
       "array([1, 2, 4, 3, 1, 2, 2, 4, 6, 7, 2, 4, 8, 4, 5])"
      ]
     },
     "execution_count": 17,
     "metadata": {},
     "output_type": "execute_result"
    }
   ],
   "source": [
    "s=np.array([1,2,4,3,1,2,2,4,6,7,2,4,8,4,5])\n",
    "s"
   ]
  },
  {
   "cell_type": "code",
   "execution_count": 18,
   "metadata": {},
   "outputs": [
    {
     "name": "stdout",
     "output_type": "stream",
     "text": [
      "[1 1 2 2 2 2 3 4 4 4 4 5 6 7 8]\n"
     ]
    }
   ],
   "source": [
    "s.sort()  #对象名.方法名\n",
    "print(s)"
   ]
  },
  {
   "cell_type": "code",
   "execution_count": 26,
   "metadata": {},
   "outputs": [
    {
     "data": {
      "text/plain": [
       "array([[  3,  23],\n",
       "       [ 52,  34],\n",
       "       [ 52,   3],\n",
       "       [  6, 645],\n",
       "       [ 34,   7],\n",
       "       [ 85,  23]])"
      ]
     },
     "execution_count": 26,
     "metadata": {},
     "output_type": "execute_result"
    }
   ],
   "source": [
    "#3 多维数组按照数组的轴进行排序\n",
    "s_r=np.array([3,23,52,34,52,3,6,645,34,7,85,23]).reshape(6,2)#reshape就地改形状\n",
    "s_r"
   ]
  },
  {
   "cell_type": "code",
   "execution_count": 27,
   "metadata": {
    "scrolled": true
   },
   "outputs": [
    {
     "data": {
      "text/plain": [
       "array([[  3,  23],\n",
       "       [ 34,  52],\n",
       "       [  3,  52],\n",
       "       [  6, 645],\n",
       "       [  7,  34],\n",
       "       [ 23,  85]])"
      ]
     },
     "execution_count": 27,
     "metadata": {},
     "output_type": "execute_result"
    }
   ],
   "source": [
    "#3.1 按1轴排序（按行排序）\n",
    "#调用方法时括号里不需要给出数组对象名称，axis=1横穿列等价于按行排序。\n",
    "#每一行各排各的，互不影响\n",
    "s_r.sort(axis=1)\n",
    "s_r"
   ]
  },
  {
   "cell_type": "code",
   "execution_count": 28,
   "metadata": {
    "scrolled": true
   },
   "outputs": [
    {
     "data": {
      "text/plain": [
       "array([[  3,   3],\n",
       "       [  6,   7],\n",
       "       [ 34,  23],\n",
       "       [ 52,  23],\n",
       "       [ 52,  34],\n",
       "       [ 85, 645]])"
      ]
     },
     "execution_count": 28,
     "metadata": {},
     "output_type": "execute_result"
    }
   ],
   "source": [
    "#3.2 按0轴排序（按列排序）\n",
    "#调用方法时括号里不需要给出数组对象名称，axis=0沿着行向下排序，等价于按列排序。\n",
    "#每一列各排各的，互不影响\n",
    "s_r=np.array([3,23,52,34,52,3,6,645,34,7,85,23]).reshape(6,2)#reshape就地改形状\n",
    "s_r.sort(axis=0) \n",
    "s_r"
   ]
  },
  {
   "cell_type": "code",
   "execution_count": null,
   "metadata": {},
   "outputs": [],
   "source": [
    "#3.3 按默认轴排序\n",
    "#调用方法时括号里不需要给出数组对象名称。\n",
    "#axis=-1按最后一个轴即axis 1轴，横穿列按行排序。"
   ]
  },
  {
   "cell_type": "code",
   "execution_count": 29,
   "metadata": {
    "scrolled": true
   },
   "outputs": [
    {
     "data": {
      "text/plain": [
       "array([[  3,  23],\n",
       "       [ 34,  52],\n",
       "       [  3,  52],\n",
       "       [  6, 645],\n",
       "       [  7,  34],\n",
       "       [ 23,  85]])"
      ]
     },
     "execution_count": 29,
     "metadata": {},
     "output_type": "execute_result"
    }
   ],
   "source": [
    "s_r=np.array([3,23,52,34,52,3,6,645,34,7,85,23]).reshape(6,2)#reshape就地改形状\n",
    "s_r.sort() \n",
    "s_r"
   ]
  },
  {
   "cell_type": "code",
   "execution_count": 30,
   "metadata": {},
   "outputs": [
    {
     "data": {
      "text/plain": [
       "array([2, 0, 4, 6, 5, 3, 1], dtype=int32)"
      ]
     },
     "execution_count": 30,
     "metadata": {},
     "output_type": "execute_result"
    }
   ],
   "source": [
    "'''\n",
    "4.使用lexsort函数：\n",
    "此函数可以指定排序的顺序\n",
    "numpy.lexsort() 用于对多个序列进行排序。\n",
    "把它想象成对电子表格进行排序，每一列代表一个序列，排序时优先照顾靠后的列。\n",
    "比如卓越班录取学生按照总成绩录取，在总成绩相同时，数学成绩高的优先录取，\n",
    "在总成绩和数学成绩都相同时，按照英语成绩录取。\n",
    "因此总成绩排在电子表格的最后一列，数学成绩在倒数第二列，英语成绩在倒数第三列。\n",
    "'''\n",
    "a=[1,5,1,4,3,4,4]\n",
    "b=[9,4,0,4,0,2,1]\n",
    "ind=np.lexsort((b,a))# 传入np.lexsort的是一个tuple，先按a排序，再按b排序，升序\n",
    "ind # np.lexsort返回值是一维数组，数组元素为排序后的两个序列中每对值的索引号"
   ]
  },
  {
   "cell_type": "code",
   "execution_count": 34,
   "metadata": {},
   "outputs": [
    {
     "name": "stdout",
     "output_type": "stream",
     "text": [
      "1 0\n",
      "1 9\n",
      "3 0\n",
      "4 1\n",
      "4 2\n",
      "4 4\n",
      "5 4\n"
     ]
    }
   ],
   "source": [
    "for i in ind:\n",
    "    print (a[i],b[i])"
   ]
  },
  {
   "cell_type": "code",
   "execution_count": 35,
   "metadata": {},
   "outputs": [
    {
     "data": {
      "text/plain": [
       "[(1, 0), (1, 9), (3, 0), (4, 1), (4, 2), (4, 4), (5, 4)]"
      ]
     },
     "execution_count": 35,
     "metadata": {},
     "output_type": "execute_result"
    }
   ],
   "source": [
    "[(a[i],b[i]) for i in ind]#列表推导式取出ind中的元素"
   ]
  },
  {
   "cell_type": "markdown",
   "metadata": {},
   "source": [
    "#### 　　　3.1.2.5 数组维度"
   ]
  },
  {
   "cell_type": "code",
   "execution_count": null,
   "metadata": {},
   "outputs": [],
   "source": [
    "'''\n",
    "数组的维度可以进行变换，如行列互换、降维等。\n",
    "-- reshape()函数用来改变数组的维数，即不改变数据的条件下修改形状。\n",
    "-- ravel()、flatten()函数可把数组展平为一维数组。\n",
    "\n",
    "'''"
   ]
  },
  {
   "cell_type": "code",
   "execution_count": 33,
   "metadata": {
    "scrolled": true
   },
   "outputs": [
    {
     "data": {
      "text/plain": [
       "array([[[ 0,  1,  2,  3],\n",
       "        [ 4,  5,  6,  7],\n",
       "        [ 8,  9, 10, 11]],\n",
       "\n",
       "       [[12, 13, 14, 15],\n",
       "        [16, 17, 18, 19],\n",
       "        [20, 21, 22, 23]]])"
      ]
     },
     "execution_count": 33,
     "metadata": {},
     "output_type": "execute_result"
    }
   ],
   "source": [
    "'''\n",
    "1.展平\n",
    "即把多维数组降成一维数组。\n",
    "'''\n",
    "b=np.arange(24).reshape(2,3,4)\n",
    "b"
   ]
  },
  {
   "cell_type": "code",
   "execution_count": 35,
   "metadata": {
    "scrolled": true
   },
   "outputs": [
    {
     "data": {
      "text/plain": [
       "3"
      ]
     },
     "execution_count": 35,
     "metadata": {},
     "output_type": "execute_result"
    }
   ],
   "source": [
    "b.ndim"
   ]
  },
  {
   "cell_type": "code",
   "execution_count": 36,
   "metadata": {},
   "outputs": [
    {
     "data": {
      "text/plain": [
       "array([ 0,  1,  2,  3,  4,  5,  6,  7,  8,  9, 10, 11, 12, 13, 14, 15, 16,\n",
       "       17, 18, 19, 20, 21, 22, 23])"
      ]
     },
     "execution_count": 36,
     "metadata": {},
     "output_type": "execute_result"
    }
   ],
   "source": [
    "'''\n",
    "1.1 使用ravel()函数\n",
    "numpy.ravel() 展平数组元素，返回的是数组视图（view），和原数组共用一块内存，\n",
    "修改会影响原始数组。\n",
    "\n",
    "numpy.ravel(a, order='C')\n",
    "\n",
    "a: 要展平的数组，强制参数\n",
    "order：可选参数\n",
    "       'C' -- 按行，'F' -- 按列，\n",
    "       'A' -- 原顺序，'K' -- 元素在内存中的出现顺序。\n",
    "'''\n",
    "br=np.ravel(b)\n",
    "br"
   ]
  },
  {
   "cell_type": "code",
   "execution_count": 37,
   "metadata": {},
   "outputs": [
    {
     "data": {
      "text/plain": [
       "array([[[100,   1,   2,   3],\n",
       "        [  4,   5,   6,   7],\n",
       "        [  8,   9,  10,  11]],\n",
       "\n",
       "       [[ 12,  13,  14,  15],\n",
       "        [ 16,  17,  18,  19],\n",
       "        [ 20,  21,  22,  23]]])"
      ]
     },
     "execution_count": 37,
     "metadata": {},
     "output_type": "execute_result"
    }
   ],
   "source": [
    "br[0]=100\n",
    "b"
   ]
  },
  {
   "cell_type": "code",
   "execution_count": 42,
   "metadata": {
    "scrolled": true
   },
   "outputs": [
    {
     "name": "stdout",
     "output_type": "stream",
     "text": [
      "[[[ 0  1  2  3]\n",
      "  [ 4  5  6  7]\n",
      "  [ 8  9 10 11]]\n",
      "\n",
      " [[12 13 14 15]\n",
      "  [16 17 18 19]\n",
      "  [20 21 22 23]]]\n",
      "[ 0  1  2  3  4  5  6  7  8  9 10 11 12 13 14 15 16 17 18 19 20 21 22 23]\n"
     ]
    }
   ],
   "source": [
    "'''\n",
    "1.2 使用flatten()方法\n",
    "ndarray对象的flatten方法与ravel函数功能相同。\n",
    "但是执行flatten方法后，会分配内存保存结果，\n",
    "ravel函数只是返回数组的一个视图。\n",
    "'''\n",
    "b=np.arange(24).reshape(2,3,4)\n",
    "print(b)\n",
    "bf=b.flatten()\n",
    "print(bf)"
   ]
  },
  {
   "cell_type": "code",
   "execution_count": 43,
   "metadata": {},
   "outputs": [
    {
     "data": {
      "text/plain": [
       "array([[[ 0,  1,  2,  3],\n",
       "        [ 4,  5,  6,  7],\n",
       "        [ 8,  9, 10, 11]],\n",
       "\n",
       "       [[12, 13, 14, 15],\n",
       "        [16, 17, 18, 19],\n",
       "        [20, 21, 22, 23]]])"
      ]
     },
     "execution_count": 43,
     "metadata": {},
     "output_type": "execute_result"
    }
   ],
   "source": [
    "bf[0]=100\n",
    "b"
   ]
  },
  {
   "cell_type": "code",
   "execution_count": 44,
   "metadata": {},
   "outputs": [
    {
     "name": "stdout",
     "output_type": "stream",
     "text": [
      "[[[ 0  1  2  3]\n",
      "  [ 4  5  6  7]\n",
      "  [ 8  9 10 11]]\n",
      "\n",
      " [[12 13 14 15]\n",
      "  [16 17 18 19]\n",
      "  [20 21 22 23]]]\n"
     ]
    },
    {
     "data": {
      "text/plain": [
       "array([[[ 0,  1,  2,  3,  4,  5,  6,  7,  8,  9, 10, 11, 12, 13, 14, 15,\n",
       "         16, 17, 18, 19, 20, 21, 22, 23]]])"
      ]
     },
     "execution_count": 44,
     "metadata": {},
     "output_type": "execute_result"
    }
   ],
   "source": [
    "'''\n",
    "1.3 使用reshape()函数\n",
    "使用reshape函数展平后的数组维度与ravel函数展平结果的数组维度不一样。\n",
    "'''\n",
    "b=np.arange(24).reshape(2,3,4)\n",
    "print(b)\n",
    "brsh=b.reshape(1,1,24)\n",
    "brsh"
   ]
  },
  {
   "cell_type": "code",
   "execution_count": 45,
   "metadata": {},
   "outputs": [
    {
     "data": {
      "text/plain": [
       "3"
      ]
     },
     "execution_count": 45,
     "metadata": {},
     "output_type": "execute_result"
    }
   ],
   "source": [
    "brsh.ndim"
   ]
  },
  {
   "cell_type": "code",
   "execution_count": 51,
   "metadata": {
    "scrolled": true
   },
   "outputs": [
    {
     "data": {
      "text/plain": [
       "array([[ 0,  1,  2,  3,  4,  5],\n",
       "       [ 6,  7,  8,  9, 10, 11],\n",
       "       [12, 13, 14, 15, 16, 17],\n",
       "       [18, 19, 20, 21, 22, 23]])"
      ]
     },
     "execution_count": 51,
     "metadata": {},
     "output_type": "execute_result"
    }
   ],
   "source": [
    "'''\n",
    "2.维度改变\n",
    "reshape方法和resize方法均可改变数组的维度和数组尺寸。\n",
    "'''\n",
    "#2.1 使用reshape方法：\n",
    "b=np.arange(24).reshape(2,3,4)\n",
    "bd=b.reshape(4,6)\n",
    "bd"
   ]
  },
  {
   "cell_type": "code",
   "execution_count": 47,
   "metadata": {},
   "outputs": [
    {
     "data": {
      "text/plain": [
       "2"
      ]
     },
     "execution_count": 47,
     "metadata": {},
     "output_type": "execute_result"
    }
   ],
   "source": [
    "bd.ndim"
   ]
  },
  {
   "cell_type": "code",
   "execution_count": 52,
   "metadata": {},
   "outputs": [
    {
     "data": {
      "text/plain": [
       "array([[[ 0,  1,  2,  3],\n",
       "        [ 4,  5,  6,  7],\n",
       "        [ 8,  9, 10, 11]],\n",
       "\n",
       "       [[12, 13, 14, 15],\n",
       "        [16, 17, 18, 19],\n",
       "        [20, 21, 22, 23]]])"
      ]
     },
     "execution_count": 52,
     "metadata": {},
     "output_type": "execute_result"
    }
   ],
   "source": [
    "b"
   ]
  },
  {
   "cell_type": "code",
   "execution_count": 53,
   "metadata": {},
   "outputs": [
    {
     "data": {
      "text/plain": [
       "array([[[ 0,  1,  2,  3,  4,  5,  6,  7,  8,  9, 10, 11, 12, 13, 14, 15,\n",
       "         16, 17, 18, 19, 20, 21, 22, 23]]])"
      ]
     },
     "execution_count": 53,
     "metadata": {},
     "output_type": "execute_result"
    }
   ],
   "source": [
    "#2.2 为数组的shape属性赋值：\n",
    "b.shape=(1,1,24)\n",
    "b"
   ]
  },
  {
   "cell_type": "code",
   "execution_count": 45,
   "metadata": {
    "scrolled": true
   },
   "outputs": [
    {
     "name": "stdout",
     "output_type": "stream",
     "text": [
      "[[[ 0  1  2  3]\n",
      "  [ 4  5  6  7]\n",
      "  [ 8  9 10 11]]\n",
      "\n",
      " [[12 13 14 15]\n",
      "  [16 17 18 19]\n",
      "  [20 21 22 23]]]\n",
      "----------------------------\n"
     ]
    },
    {
     "data": {
      "text/plain": [
       "array([[[ 0,  1,  2,  3,  4,  5,  6,  7,  8,  9, 10, 11, 12, 13, 14, 15,\n",
       "         16, 17, 18, 19, 20, 21, 22, 23]]])"
      ]
     },
     "execution_count": 45,
     "metadata": {},
     "output_type": "execute_result"
    }
   ],
   "source": [
    "#2.3 使用resize方法：\n",
    "'''\n",
    "resize方法与reshape方法的功能一样，但是reshape只是返回数组的一个视图；\n",
    "而resize会直接修改所操作的数组，与直接为数组的shape属性赋值一样。\n",
    "'''\n",
    "b=np.arange(24).reshape(2,3,4)\n",
    "print(b)\n",
    "print('----------------------------')\n",
    "b.resize(1,1,24)\n",
    "b"
   ]
  },
  {
   "cell_type": "code",
   "execution_count": 33,
   "metadata": {
    "scrolled": true
   },
   "outputs": [
    {
     "name": "stdout",
     "output_type": "stream",
     "text": [
      "[[[ 0  1  2  3]\n",
      "  [ 4  5  6  7]\n",
      "  [ 8  9 10 11]]\n",
      "\n",
      " [[12 13 14 15]\n",
      "  [16 17 18 19]\n",
      "  [20 21 22 23]]]\n",
      "--------------------------\n",
      "[[[ 0  1  2  3]\n",
      "  [ 4  5  6  7]\n",
      "  [ 8  9 10 11]]\n",
      "\n",
      " [[12 13 14 15]\n",
      "  [16 17 18 19]\n",
      "  [20 21 22 23]]]\n"
     ]
    }
   ],
   "source": [
    "#2.3 使用resize方法：\n",
    "'''\n",
    "resize方法与reshape方法的功能一样，但是reshape只是返回数组的一个视图；\n",
    "而resize会直接修改所操作的数组，与直接为数组的shape属性赋值一样。\n",
    "'''\n",
    "b=np.arange(24).reshape(2,3,4)\n",
    "print(b)\n",
    "print('--------------------------')\n",
    "b.reshape(1,1,24)\n",
    "print(b)"
   ]
  },
  {
   "cell_type": "code",
   "execution_count": null,
   "metadata": {},
   "outputs": [],
   "source": []
  },
  {
   "cell_type": "code",
   "execution_count": 46,
   "metadata": {
    "scrolled": true
   },
   "outputs": [
    {
     "name": "stdout",
     "output_type": "stream",
     "text": [
      "[[[ 0  1  2  3]\n",
      "  [ 4  5  6  7]\n",
      "  [ 8  9 10 11]]\n",
      "\n",
      " [[12 13 14 15]\n",
      "  [16 17 18 19]\n",
      "  [20 21 22 23]]]\n"
     ]
    },
    {
     "data": {
      "text/plain": [
       "array([[[ 0,  1],\n",
       "        [ 2,  3],\n",
       "        [ 4,  5],\n",
       "        [ 6,  7]],\n",
       "\n",
       "       [[ 8,  9],\n",
       "        [10, 11],\n",
       "        [12, 13],\n",
       "        [14, 15]],\n",
       "\n",
       "       [[16, 17],\n",
       "        [18, 19],\n",
       "        [20, 21],\n",
       "        [22, 23]]])"
      ]
     },
     "execution_count": 46,
     "metadata": {},
     "output_type": "execute_result"
    }
   ],
   "source": [
    "#课堂练习2：输出转置后的b数组。\n",
    "#3.转置：\n",
    "#3.1使用transpose()函数\n",
    "b=np.arange(24).reshape(2,3,4)\n",
    "print(b)\n",
    "b.shape=(3,4,2)\n",
    "b"
   ]
  },
  {
   "cell_type": "code",
   "execution_count": 58,
   "metadata": {
    "scrolled": true
   },
   "outputs": [
    {
     "data": {
      "text/plain": [
       "array([[[ 0,  8, 16],\n",
       "        [ 2, 10, 18],\n",
       "        [ 4, 12, 20],\n",
       "        [ 6, 14, 22]],\n",
       "\n",
       "       [[ 1,  9, 17],\n",
       "        [ 3, 11, 19],\n",
       "        [ 5, 13, 21],\n",
       "        [ 7, 15, 23]]])"
      ]
     },
     "execution_count": 58,
     "metadata": {},
     "output_type": "execute_result"
    }
   ],
   "source": [
    "np.transpose(b) #等价于b.T"
   ]
  },
  {
   "cell_type": "code",
   "execution_count": 60,
   "metadata": {},
   "outputs": [
    {
     "data": {
      "text/plain": [
       "array([[[ 0,  8, 16],\n",
       "        [ 2, 10, 18],\n",
       "        [ 4, 12, 20],\n",
       "        [ 6, 14, 22]],\n",
       "\n",
       "       [[ 1,  9, 17],\n",
       "        [ 3, 11, 19],\n",
       "        [ 5, 13, 21],\n",
       "        [ 7, 15, 23]]])"
      ]
     },
     "execution_count": 60,
     "metadata": {},
     "output_type": "execute_result"
    }
   ],
   "source": [
    "# 3.2 使用数组T属性：\n",
    "b.T "
   ]
  }
 ],
 "metadata": {
  "kernelspec": {
   "display_name": "Python 3",
   "language": "python",
   "name": "python3"
  },
  "language_info": {
   "codemirror_mode": {
    "name": "ipython",
    "version": 3
   },
   "file_extension": ".py",
   "mimetype": "text/x-python",
   "name": "python",
   "nbconvert_exporter": "python",
   "pygments_lexer": "ipython3",
   "version": "3.6.4"
  }
 },
 "nbformat": 4,
 "nbformat_minor": 2
}
