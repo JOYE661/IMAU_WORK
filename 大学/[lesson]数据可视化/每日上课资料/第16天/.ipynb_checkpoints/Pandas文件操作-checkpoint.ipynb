{
 "cells": [
  {
   "cell_type": "markdown",
   "metadata": {},
   "source": [
    "# Pandas读取文件"
   ]
  },
  {
   "cell_type": "markdown",
   "metadata": {},
   "source": [
    "当使用 Pandas 做数据分析的时，需要读取事先准备好的数据集，这是做数据分析的第一步。Panda 提供了多种读取数据的方法：\n",
    "\n",
    "    read_csv() 用于读取文本文件\n",
    "    read_json() 用于读取 json 文件\n",
    "    read_sql_query() 读取 sql 语句的，"
   ]
  },
  {
   "cell_type": "markdown",
   "metadata": {},
   "source": [
    "通用流程\n",
    "\n",
    "    1. 导入库 import pandas as pd\n",
    "    2. 找到文件所在位置（绝对路径 = 全称）（相对路径 = 和程序在同一个文件夹中的路径的简称）\n",
    "    3. 变量名 = pd.读写操作方法（文件路径，具体的筛选条件，……）"
   ]
  },
  {
   "cell_type": "markdown",
   "metadata": {},
   "source": [
    "## CSV文件读取\n",
    "\n",
    "CSV 又称逗号分隔值文件，是一种简单的文件格式，以特定的结构来排列表格数据。 CSV 文件能够以纯文本形式存储表格数据，比如电子表格、数据库文件，并具有数据交换的通用格式。CSV 文件会在 Excel 文件中被打开，其行和列都定义了标准的数据格式。\n",
    "\n",
    "将 CSV 中的数据转换为 DataFrame 对象是非常便捷的。和一般文件读写不一样，它不需要你做打开文件、读取文件、关闭文件等操作。相反，您只需要一行代码就可以完成上述所有步骤，并将数据存储在 DataFrame 中。\n",
    "\n",
    "\n",
    "下面进行实例演示，源数据如下： \n",
    "<img src=\"images/20220424113515.png\">"
   ]
  },
  {
   "cell_type": "markdown",
   "metadata": {},
   "source": [
    "读取文件:"
   ]
  },
  {
   "cell_type": "code",
   "execution_count": 1,
   "metadata": {},
   "outputs": [
    {
     "name": "stdout",
     "output_type": "stream",
     "text": [
      "   col1 col2  col3    col4      col5\n",
      "0     2    a   1.4   apple  2022/1/1\n",
      "1     3    b   3.4  banana  2022/1/2\n",
      "2     6    c   2.5  orange  2020/1/5\n",
      "3     5    d   3.2   grape  2020/1/7\n"
     ]
    }
   ],
   "source": [
    "import pandas as pd\n",
    "# 读取csv文件\n",
    "df = pd.read_csv(\"data/my_csv.csv\")\n",
    "print(df)"
   ]
  },
  {
   "cell_type": "markdown",
   "metadata": {},
   "source": [
    "#### 方法详细说明:\n",
    "    \n",
    "`read_csv(filepath_or_buffer, sep=',',  header='infer', names=None, index_col=None, usecols=None, squeeze=None, prefix=None, mangle_dupe_cols=True, dtype=None, engine=None, converters=None, true_values=None, false_values=None, skipinitialspace=False, skiprows=None, skipfooter=0, nrows=None, na_values=None, keep_default_na=True, na_filter=True, verbose=False, skip_blank_lines=True, parse_dates=None, infer_datetime_format=False, keep_date_col=False, date_parser=None, dayfirst=False, cache_dates=True, iterator=False, chunksize=None, compression='infer', thousands=None, decimal='.', lineterminator=None, quotechar='\"', quoting=0, doublequote=True, escapechar=None, comment=None, encoding=None, encoding_errors='strict', dialect=None, error_bad_lines=None, warn_bad_lines=None, on_bad_lines=None, delim_whitespace=False, low_memory=True, memory_map=False, float_precision=None, storage_options=None)`\n"
   ]
  },
  {
   "cell_type": "markdown",
   "metadata": {},
   "source": [
    "### 一、基本参数\n",
    "\n",
    "    1、filepath_or_buffer：数据输入的路径：可以是文件路径、可以是URL，也可以是实现read方法的任意对象。这个参数，就是我们输入的第一个参数。"
   ]
  },
  {
   "cell_type": "code",
   "execution_count": 14,
   "metadata": {
    "scrolled": true
   },
   "outputs": [
    {
     "data": {
      "text/html": [
       "<div>\n",
       "<style scoped>\n",
       "    .dataframe tbody tr th:only-of-type {\n",
       "        vertical-align: middle;\n",
       "    }\n",
       "\n",
       "    .dataframe tbody tr th {\n",
       "        vertical-align: top;\n",
       "    }\n",
       "\n",
       "    .dataframe thead th {\n",
       "        text-align: right;\n",
       "    }\n",
       "</style>\n",
       "<table border=\"1\" class=\"dataframe\">\n",
       "  <thead>\n",
       "    <tr style=\"text-align: right;\">\n",
       "      <th></th>\n",
       "      <th>id</th>\n",
       "      <th>name</th>\n",
       "      <th>address</th>\n",
       "      <th>gender</th>\n",
       "      <th>birthday</th>\n",
       "    </tr>\n",
       "  </thead>\n",
       "  <tbody>\n",
       "    <tr>\n",
       "      <th>0</th>\n",
       "      <td>1</td>\n",
       "      <td>朱梦雪</td>\n",
       "      <td>地球村</td>\n",
       "      <td>女</td>\n",
       "      <td>2004/11/2</td>\n",
       "    </tr>\n",
       "    <tr>\n",
       "      <th>1</th>\n",
       "      <td>2</td>\n",
       "      <td>许文博</td>\n",
       "      <td>月亮星</td>\n",
       "      <td>女</td>\n",
       "      <td>2003/8/7</td>\n",
       "    </tr>\n",
       "    <tr>\n",
       "      <th>2</th>\n",
       "      <td>3</td>\n",
       "      <td>张兆媛</td>\n",
       "      <td>艾尔星</td>\n",
       "      <td>女</td>\n",
       "      <td>2004/11/2</td>\n",
       "    </tr>\n",
       "    <tr>\n",
       "      <th>3</th>\n",
       "      <td>4</td>\n",
       "      <td>付延旭</td>\n",
       "      <td>克哈星</td>\n",
       "      <td>男</td>\n",
       "      <td>2003/10/11</td>\n",
       "    </tr>\n",
       "    <tr>\n",
       "      <th>4</th>\n",
       "      <td>5</td>\n",
       "      <td>王杰</td>\n",
       "      <td>查尔星</td>\n",
       "      <td>男</td>\n",
       "      <td>2002/6/12</td>\n",
       "    </tr>\n",
       "    <tr>\n",
       "      <th>5</th>\n",
       "      <td>6</td>\n",
       "      <td>董泽宇</td>\n",
       "      <td>塔桑尼斯</td>\n",
       "      <td>男</td>\n",
       "      <td>2002/2/12</td>\n",
       "    </tr>\n",
       "  </tbody>\n",
       "</table>\n",
       "</div>"
      ],
      "text/plain": [
       "   id name address gender    birthday\n",
       "0   1  朱梦雪     地球村      女   2004/11/2\n",
       "1   2  许文博     月亮星      女    2003/8/7\n",
       "2   3  张兆媛     艾尔星      女   2004/11/2\n",
       "3   4  付延旭     克哈星      男  2003/10/11\n",
       "4   5   王杰     查尔星      男   2002/6/12\n",
       "5   6  董泽宇    塔桑尼斯      男   2002/2/12"
      ]
     },
     "execution_count": 14,
     "metadata": {},
     "output_type": "execute_result"
    }
   ],
   "source": [
    "import pandas as pd\n",
    "pd.read_csv(r\"data\\students.csv\")"
   ]
  },
  {
   "cell_type": "code",
   "execution_count": 11,
   "metadata": {},
   "outputs": [
    {
     "data": {
      "text/html": [
       "<div>\n",
       "<style scoped>\n",
       "    .dataframe tbody tr th:only-of-type {\n",
       "        vertical-align: middle;\n",
       "    }\n",
       "\n",
       "    .dataframe tbody tr th {\n",
       "        vertical-align: top;\n",
       "    }\n",
       "\n",
       "    .dataframe thead th {\n",
       "        text-align: right;\n",
       "    }\n",
       "</style>\n",
       "<table border=\"1\" class=\"dataframe\">\n",
       "  <thead>\n",
       "    <tr style=\"text-align: right;\">\n",
       "      <th></th>\n",
       "      <th>id</th>\n",
       "      <th>name</th>\n",
       "      <th>address</th>\n",
       "      <th>gender</th>\n",
       "      <th>birthday</th>\n",
       "    </tr>\n",
       "  </thead>\n",
       "  <tbody>\n",
       "    <tr>\n",
       "      <th>0</th>\n",
       "      <td>1</td>\n",
       "      <td>朱梦雪</td>\n",
       "      <td>地球村</td>\n",
       "      <td>女</td>\n",
       "      <td>2004/11/2</td>\n",
       "    </tr>\n",
       "    <tr>\n",
       "      <th>1</th>\n",
       "      <td>2</td>\n",
       "      <td>许文博</td>\n",
       "      <td>月亮星</td>\n",
       "      <td>女</td>\n",
       "      <td>2003/8/7</td>\n",
       "    </tr>\n",
       "    <tr>\n",
       "      <th>2</th>\n",
       "      <td>3</td>\n",
       "      <td>张兆媛</td>\n",
       "      <td>艾尔星</td>\n",
       "      <td>女</td>\n",
       "      <td>2004/11/2</td>\n",
       "    </tr>\n",
       "    <tr>\n",
       "      <th>3</th>\n",
       "      <td>4</td>\n",
       "      <td>付延旭</td>\n",
       "      <td>克哈星</td>\n",
       "      <td>男</td>\n",
       "      <td>2003/10/11</td>\n",
       "    </tr>\n",
       "    <tr>\n",
       "      <th>4</th>\n",
       "      <td>5</td>\n",
       "      <td>王杰</td>\n",
       "      <td>查尔星</td>\n",
       "      <td>男</td>\n",
       "      <td>2002/6/12</td>\n",
       "    </tr>\n",
       "    <tr>\n",
       "      <th>5</th>\n",
       "      <td>6</td>\n",
       "      <td>董泽宇</td>\n",
       "      <td>塔桑尼斯</td>\n",
       "      <td>男</td>\n",
       "      <td>2002/2/12</td>\n",
       "    </tr>\n",
       "  </tbody>\n",
       "</table>\n",
       "</div>"
      ],
      "text/plain": [
       "   id name address gender    birthday\n",
       "0   1  朱梦雪     地球村      女   2004/11/2\n",
       "1   2  许文博     月亮星      女    2003/8/7\n",
       "2   3  张兆媛     艾尔星      女   2004/11/2\n",
       "3   4  付延旭     克哈星      男  2003/10/11\n",
       "4   5   王杰     查尔星      男   2002/6/12\n",
       "5   6  董泽宇    塔桑尼斯      男   2002/2/12"
      ]
     },
     "execution_count": 11,
     "metadata": {},
     "output_type": "execute_result"
    }
   ],
   "source": [
    "# 还可以是一个URL，如果访问该URL会返回一个文件的话，那么pandas的read_csv函数会自动将\n",
    "# 该文件进行读取。比如：我们服务器上放的数据，将刚才的文件返回。\n",
    "pd.read_csv(\"http://my-teaching.top/static/data/students.csv\")"
   ]
  },
  {
   "cell_type": "code",
   "execution_count": 15,
   "metadata": {},
   "outputs": [
    {
     "data": {
      "text/html": [
       "<div>\n",
       "<style scoped>\n",
       "    .dataframe tbody tr th:only-of-type {\n",
       "        vertical-align: middle;\n",
       "    }\n",
       "\n",
       "    .dataframe tbody tr th {\n",
       "        vertical-align: top;\n",
       "    }\n",
       "\n",
       "    .dataframe thead th {\n",
       "        text-align: right;\n",
       "    }\n",
       "</style>\n",
       "<table border=\"1\" class=\"dataframe\">\n",
       "  <thead>\n",
       "    <tr style=\"text-align: right;\">\n",
       "      <th></th>\n",
       "      <th>id</th>\n",
       "      <th>name</th>\n",
       "      <th>address</th>\n",
       "      <th>gender</th>\n",
       "      <th>birthday</th>\n",
       "    </tr>\n",
       "  </thead>\n",
       "  <tbody>\n",
       "    <tr>\n",
       "      <th>0</th>\n",
       "      <td>1</td>\n",
       "      <td>朱梦雪</td>\n",
       "      <td>地球村</td>\n",
       "      <td>女</td>\n",
       "      <td>2004/11/2</td>\n",
       "    </tr>\n",
       "    <tr>\n",
       "      <th>1</th>\n",
       "      <td>2</td>\n",
       "      <td>许文博</td>\n",
       "      <td>月亮星</td>\n",
       "      <td>女</td>\n",
       "      <td>2003/8/7</td>\n",
       "    </tr>\n",
       "    <tr>\n",
       "      <th>2</th>\n",
       "      <td>3</td>\n",
       "      <td>张兆媛</td>\n",
       "      <td>艾尔星</td>\n",
       "      <td>女</td>\n",
       "      <td>2004/11/2</td>\n",
       "    </tr>\n",
       "    <tr>\n",
       "      <th>3</th>\n",
       "      <td>4</td>\n",
       "      <td>付延旭</td>\n",
       "      <td>克哈星</td>\n",
       "      <td>男</td>\n",
       "      <td>2003/10/11</td>\n",
       "    </tr>\n",
       "    <tr>\n",
       "      <th>4</th>\n",
       "      <td>5</td>\n",
       "      <td>王杰</td>\n",
       "      <td>查尔星</td>\n",
       "      <td>男</td>\n",
       "      <td>2002/6/12</td>\n",
       "    </tr>\n",
       "    <tr>\n",
       "      <th>5</th>\n",
       "      <td>6</td>\n",
       "      <td>董泽宇</td>\n",
       "      <td>塔桑尼斯</td>\n",
       "      <td>男</td>\n",
       "      <td>2002/2/12</td>\n",
       "    </tr>\n",
       "  </tbody>\n",
       "</table>\n",
       "</div>"
      ],
      "text/plain": [
       "   id name address gender    birthday\n",
       "0   1  朱梦雪     地球村      女   2004/11/2\n",
       "1   2  许文博     月亮星      女    2003/8/7\n",
       "2   3  张兆媛     艾尔星      女   2004/11/2\n",
       "3   4  付延旭     克哈星      男  2003/10/11\n",
       "4   5   王杰     查尔星      男   2002/6/12\n",
       "5   6  董泽宇    塔桑尼斯      男   2002/2/12"
      ]
     },
     "execution_count": 15,
     "metadata": {},
     "output_type": "execute_result"
    }
   ],
   "source": [
    "# 里面还可以是一个 _io.TextIOWrapper，比如：\n",
    "f = open(r\"data\\students.csv\", encoding=\"utf-8\")\n",
    "pd.read_csv(f)"
   ]
  },
  {
   "cell_type": "markdown",
   "metadata": {},
   "source": [
    "\n",
    "    2、sep：读取csv文件时指定的分隔符，默认为逗号。注意：\"csv文件的分隔符\" 和 \"我们读取csv文件时指定的分隔符\" 一定要一致。"
   ]
  },
  {
   "cell_type": "code",
   "execution_count": 33,
   "metadata": {},
   "outputs": [
    {
     "data": {
      "text/html": [
       "<div>\n",
       "<style scoped>\n",
       "    .dataframe tbody tr th:only-of-type {\n",
       "        vertical-align: middle;\n",
       "    }\n",
       "\n",
       "    .dataframe tbody tr th {\n",
       "        vertical-align: top;\n",
       "    }\n",
       "\n",
       "    .dataframe thead th {\n",
       "        text-align: right;\n",
       "    }\n",
       "</style>\n",
       "<table border=\"1\" class=\"dataframe\">\n",
       "  <thead>\n",
       "    <tr style=\"text-align: right;\">\n",
       "      <th></th>\n",
       "      <th>id|name|address|gender|birthday</th>\n",
       "    </tr>\n",
       "  </thead>\n",
       "  <tbody>\n",
       "    <tr>\n",
       "      <th>0</th>\n",
       "      <td>1|朱梦雪|地球村|女|2004/11/2</td>\n",
       "    </tr>\n",
       "    <tr>\n",
       "      <th>1</th>\n",
       "      <td>2|许文博|月亮星|女|2003/8/7</td>\n",
       "    </tr>\n",
       "    <tr>\n",
       "      <th>2</th>\n",
       "      <td>3|张兆媛|艾尔星|女|2004/11/2</td>\n",
       "    </tr>\n",
       "    <tr>\n",
       "      <th>3</th>\n",
       "      <td>4|付延旭|克哈星|男|2003/10/11</td>\n",
       "    </tr>\n",
       "    <tr>\n",
       "      <th>4</th>\n",
       "      <td>5|王杰|查尔星|男|2002/6/12</td>\n",
       "    </tr>\n",
       "    <tr>\n",
       "      <th>5</th>\n",
       "      <td>6|董泽宇|塔桑尼斯|男|2002/2/12</td>\n",
       "    </tr>\n",
       "  </tbody>\n",
       "</table>\n",
       "</div>"
      ],
      "text/plain": [
       "  id|name|address|gender|birthday\n",
       "0           1|朱梦雪|地球村|女|2004/11/2\n",
       "1            2|许文博|月亮星|女|2003/8/7\n",
       "2           3|张兆媛|艾尔星|女|2004/11/2\n",
       "3          4|付延旭|克哈星|男|2003/10/11\n",
       "4            5|王杰|查尔星|男|2002/6/12\n",
       "5          6|董泽宇|塔桑尼斯|男|2002/2/12"
      ]
     },
     "execution_count": 33,
     "metadata": {},
     "output_type": "execute_result"
    }
   ],
   "source": [
    "import pandas as pd\n",
    "pd.read_csv(r\"data\\students_step_t.csv\")"
   ]
  },
  {
   "cell_type": "markdown",
   "metadata": {},
   "source": [
    "由于指定的分隔符 和 csv文件采用的分隔符 不一致，因此多个列之间没有分开，而是连在一起了。 所以，我们需要将分隔符设置成\"\\t\"才可以。"
   ]
  },
  {
   "cell_type": "code",
   "execution_count": 32,
   "metadata": {
    "scrolled": true
   },
   "outputs": [
    {
     "data": {
      "text/html": [
       "<div>\n",
       "<style scoped>\n",
       "    .dataframe tbody tr th:only-of-type {\n",
       "        vertical-align: middle;\n",
       "    }\n",
       "\n",
       "    .dataframe tbody tr th {\n",
       "        vertical-align: top;\n",
       "    }\n",
       "\n",
       "    .dataframe thead th {\n",
       "        text-align: right;\n",
       "    }\n",
       "</style>\n",
       "<table border=\"1\" class=\"dataframe\">\n",
       "  <thead>\n",
       "    <tr style=\"text-align: right;\">\n",
       "      <th></th>\n",
       "      <th>id</th>\n",
       "      <th>name</th>\n",
       "      <th>address</th>\n",
       "      <th>gender</th>\n",
       "      <th>birthday</th>\n",
       "    </tr>\n",
       "  </thead>\n",
       "  <tbody>\n",
       "    <tr>\n",
       "      <th>0</th>\n",
       "      <td>1</td>\n",
       "      <td>朱梦雪</td>\n",
       "      <td>地球村</td>\n",
       "      <td>女</td>\n",
       "      <td>2004/11/2</td>\n",
       "    </tr>\n",
       "    <tr>\n",
       "      <th>1</th>\n",
       "      <td>2</td>\n",
       "      <td>许文博</td>\n",
       "      <td>月亮星</td>\n",
       "      <td>女</td>\n",
       "      <td>2003/8/7</td>\n",
       "    </tr>\n",
       "    <tr>\n",
       "      <th>2</th>\n",
       "      <td>3</td>\n",
       "      <td>张兆媛</td>\n",
       "      <td>艾尔星</td>\n",
       "      <td>女</td>\n",
       "      <td>2004/11/2</td>\n",
       "    </tr>\n",
       "    <tr>\n",
       "      <th>3</th>\n",
       "      <td>4</td>\n",
       "      <td>付延旭</td>\n",
       "      <td>克哈星</td>\n",
       "      <td>男</td>\n",
       "      <td>2003/10/11</td>\n",
       "    </tr>\n",
       "    <tr>\n",
       "      <th>4</th>\n",
       "      <td>5</td>\n",
       "      <td>王杰</td>\n",
       "      <td>查尔星</td>\n",
       "      <td>男</td>\n",
       "      <td>2002/6/12</td>\n",
       "    </tr>\n",
       "    <tr>\n",
       "      <th>5</th>\n",
       "      <td>6</td>\n",
       "      <td>董泽宇</td>\n",
       "      <td>塔桑尼斯</td>\n",
       "      <td>男</td>\n",
       "      <td>2002/2/12</td>\n",
       "    </tr>\n",
       "  </tbody>\n",
       "</table>\n",
       "</div>"
      ],
      "text/plain": [
       "   id name address gender    birthday\n",
       "0   1  朱梦雪     地球村      女   2004/11/2\n",
       "1   2  许文博     月亮星      女    2003/8/7\n",
       "2   3  张兆媛     艾尔星      女   2004/11/2\n",
       "3   4  付延旭     克哈星      男  2003/10/11\n",
       "4   5   王杰     查尔星      男   2002/6/12\n",
       "5   6  董泽宇    塔桑尼斯      男   2002/2/12"
      ]
     },
     "execution_count": 32,
     "metadata": {},
     "output_type": "execute_result"
    }
   ],
   "source": [
    "df = pd.read_csv(r\"data\\students_step_t.csv\", sep=\"|\")\n",
    "df"
   ]
  },
  {
   "cell_type": "markdown",
   "metadata": {},
   "source": [
    "    3.delim_whitespace ：默认为 False，设置为 True 时，表示分割符为空白字符，可以是空格、\"\\t\"等等。不管分隔符是什么，只要是空白字符，那么可以通过delim_whitespace=True进行读取。"
   ]
  },
  {
   "cell_type": "code",
   "execution_count": 38,
   "metadata": {},
   "outputs": [
    {
     "data": {
      "text/html": [
       "<div>\n",
       "<style scoped>\n",
       "    .dataframe tbody tr th:only-of-type {\n",
       "        vertical-align: middle;\n",
       "    }\n",
       "\n",
       "    .dataframe tbody tr th {\n",
       "        vertical-align: top;\n",
       "    }\n",
       "\n",
       "    .dataframe thead th {\n",
       "        text-align: right;\n",
       "    }\n",
       "</style>\n",
       "<table border=\"1\" class=\"dataframe\">\n",
       "  <thead>\n",
       "    <tr style=\"text-align: right;\">\n",
       "      <th></th>\n",
       "      <th>id</th>\n",
       "      <th>name</th>\n",
       "      <th>address</th>\n",
       "      <th>gender</th>\n",
       "      <th>birthday</th>\n",
       "    </tr>\n",
       "  </thead>\n",
       "  <tbody>\n",
       "    <tr>\n",
       "      <th>0</th>\n",
       "      <td>1</td>\n",
       "      <td>朱梦雪</td>\n",
       "      <td>地球村</td>\n",
       "      <td>女</td>\n",
       "      <td>2004/11/2</td>\n",
       "    </tr>\n",
       "    <tr>\n",
       "      <th>1</th>\n",
       "      <td>2</td>\n",
       "      <td>许文博</td>\n",
       "      <td>月亮星</td>\n",
       "      <td>女</td>\n",
       "      <td>2003/8/7</td>\n",
       "    </tr>\n",
       "    <tr>\n",
       "      <th>2</th>\n",
       "      <td>3</td>\n",
       "      <td>张兆媛</td>\n",
       "      <td>艾尔星</td>\n",
       "      <td>女</td>\n",
       "      <td>2004/11/2</td>\n",
       "    </tr>\n",
       "    <tr>\n",
       "      <th>3</th>\n",
       "      <td>4</td>\n",
       "      <td>付延旭</td>\n",
       "      <td>克哈星</td>\n",
       "      <td>男</td>\n",
       "      <td>2003/10/11</td>\n",
       "    </tr>\n",
       "    <tr>\n",
       "      <th>4</th>\n",
       "      <td>5</td>\n",
       "      <td>王杰</td>\n",
       "      <td>查尔星</td>\n",
       "      <td>男</td>\n",
       "      <td>2002/6/12</td>\n",
       "    </tr>\n",
       "    <tr>\n",
       "      <th>5</th>\n",
       "      <td>6</td>\n",
       "      <td>董泽宇</td>\n",
       "      <td>塔桑尼斯</td>\n",
       "      <td>男</td>\n",
       "      <td>2002/2/12</td>\n",
       "    </tr>\n",
       "  </tbody>\n",
       "</table>\n",
       "</div>"
      ],
      "text/plain": [
       "   id name address gender    birthday\n",
       "0   1  朱梦雪     地球村      女   2004/11/2\n",
       "1   2  许文博     月亮星      女    2003/8/7\n",
       "2   3  张兆媛     艾尔星      女   2004/11/2\n",
       "3   4  付延旭     克哈星      男  2003/10/11\n",
       "4   5   王杰     查尔星      男   2002/6/12\n",
       "5   6  董泽宇    塔桑尼斯      男   2002/2/12"
      ]
     },
     "execution_count": 38,
     "metadata": {},
     "output_type": "execute_result"
    }
   ],
   "source": [
    "df = pd.read_csv(r\"data\\students_whitespace.txt\", delim_whitespace=True)\n",
    "df"
   ]
  },
  {
   "cell_type": "markdown",
   "metadata": {},
   "source": [
    "- `header`:用作列名的行号，以及数据的开头。默认行为是推断列名：如果没有传递任何名称，则该行为与header=0相同，并且从文件的第一行推断列名，如果显式传递列名，则该行为与header=None相同。显式传递header=0以替换现有名称。标题可以是整数列表，指定列上多索引的行位置，例如[0,1,3]。未指定的中间行将被跳过（例如，本例中跳过2行）。请注意，如果skip_blank_lines=True，此参数将忽略注释行和空行，因此header=0表示数据的第一行，而不是文件的第一行。\n",
    "- `names`:当names没被赋值时，header会变成0，即选取数据文件的第一行作为列名；当 names 被赋值，header 没被赋值时，那么header会变成None。如果都赋值，就会实现两个参数的组合功能。"
   ]
  },
  {
   "cell_type": "markdown",
   "metadata": {},
   "source": [
    "1) names 没有被赋值，header 也没赋值："
   ]
  },
  {
   "cell_type": "code",
   "execution_count": 39,
   "metadata": {},
   "outputs": [
    {
     "data": {
      "text/html": [
       "<div>\n",
       "<style scoped>\n",
       "    .dataframe tbody tr th:only-of-type {\n",
       "        vertical-align: middle;\n",
       "    }\n",
       "\n",
       "    .dataframe tbody tr th {\n",
       "        vertical-align: top;\n",
       "    }\n",
       "\n",
       "    .dataframe thead th {\n",
       "        text-align: right;\n",
       "    }\n",
       "</style>\n",
       "<table border=\"1\" class=\"dataframe\">\n",
       "  <thead>\n",
       "    <tr style=\"text-align: right;\">\n",
       "      <th></th>\n",
       "      <th>id</th>\n",
       "      <th>name</th>\n",
       "      <th>address</th>\n",
       "      <th>gender</th>\n",
       "      <th>birthday</th>\n",
       "    </tr>\n",
       "  </thead>\n",
       "  <tbody>\n",
       "    <tr>\n",
       "      <th>0</th>\n",
       "      <td>1</td>\n",
       "      <td>朱梦雪</td>\n",
       "      <td>地球村</td>\n",
       "      <td>女</td>\n",
       "      <td>2004/11/2</td>\n",
       "    </tr>\n",
       "    <tr>\n",
       "      <th>1</th>\n",
       "      <td>2</td>\n",
       "      <td>许文博</td>\n",
       "      <td>月亮星</td>\n",
       "      <td>女</td>\n",
       "      <td>2003/8/7</td>\n",
       "    </tr>\n",
       "    <tr>\n",
       "      <th>2</th>\n",
       "      <td>3</td>\n",
       "      <td>张兆媛</td>\n",
       "      <td>艾尔星</td>\n",
       "      <td>女</td>\n",
       "      <td>2004/11/2</td>\n",
       "    </tr>\n",
       "    <tr>\n",
       "      <th>3</th>\n",
       "      <td>4</td>\n",
       "      <td>付延旭</td>\n",
       "      <td>克哈星</td>\n",
       "      <td>男</td>\n",
       "      <td>2003/10/11</td>\n",
       "    </tr>\n",
       "    <tr>\n",
       "      <th>4</th>\n",
       "      <td>5</td>\n",
       "      <td>王杰</td>\n",
       "      <td>查尔星</td>\n",
       "      <td>男</td>\n",
       "      <td>2002/6/12</td>\n",
       "    </tr>\n",
       "    <tr>\n",
       "      <th>5</th>\n",
       "      <td>6</td>\n",
       "      <td>董泽宇</td>\n",
       "      <td>塔桑尼斯</td>\n",
       "      <td>男</td>\n",
       "      <td>2002/2/12</td>\n",
       "    </tr>\n",
       "  </tbody>\n",
       "</table>\n",
       "</div>"
      ],
      "text/plain": [
       "   id name address gender    birthday\n",
       "0   1  朱梦雪     地球村      女   2004/11/2\n",
       "1   2  许文博     月亮星      女    2003/8/7\n",
       "2   3  张兆媛     艾尔星      女   2004/11/2\n",
       "3   4  付延旭     克哈星      男  2003/10/11\n",
       "4   5   王杰     查尔星      男   2002/6/12\n",
       "5   6  董泽宇    塔桑尼斯      男   2002/2/12"
      ]
     },
     "execution_count": 39,
     "metadata": {},
     "output_type": "execute_result"
    }
   ],
   "source": [
    "# 这种情况下，header为0，即选取文件的第一行作为表头\n",
    "pd.read_csv(r\"data\\students.csv\")"
   ]
  },
  {
   "cell_type": "markdown",
   "metadata": {},
   "source": [
    "2) names 没有被赋值，header 被赋值："
   ]
  },
  {
   "cell_type": "code",
   "execution_count": 40,
   "metadata": {},
   "outputs": [
    {
     "data": {
      "text/html": [
       "<div>\n",
       "<style scoped>\n",
       "    .dataframe tbody tr th:only-of-type {\n",
       "        vertical-align: middle;\n",
       "    }\n",
       "\n",
       "    .dataframe tbody tr th {\n",
       "        vertical-align: top;\n",
       "    }\n",
       "\n",
       "    .dataframe thead th {\n",
       "        text-align: right;\n",
       "    }\n",
       "</style>\n",
       "<table border=\"1\" class=\"dataframe\">\n",
       "  <thead>\n",
       "    <tr style=\"text-align: right;\">\n",
       "      <th></th>\n",
       "      <th>1</th>\n",
       "      <th>朱梦雪</th>\n",
       "      <th>地球村</th>\n",
       "      <th>女</th>\n",
       "      <th>2004/11/2</th>\n",
       "    </tr>\n",
       "  </thead>\n",
       "  <tbody>\n",
       "    <tr>\n",
       "      <th>0</th>\n",
       "      <td>2</td>\n",
       "      <td>许文博</td>\n",
       "      <td>月亮星</td>\n",
       "      <td>女</td>\n",
       "      <td>2003/8/7</td>\n",
       "    </tr>\n",
       "    <tr>\n",
       "      <th>1</th>\n",
       "      <td>3</td>\n",
       "      <td>张兆媛</td>\n",
       "      <td>艾尔星</td>\n",
       "      <td>女</td>\n",
       "      <td>2004/11/2</td>\n",
       "    </tr>\n",
       "    <tr>\n",
       "      <th>2</th>\n",
       "      <td>4</td>\n",
       "      <td>付延旭</td>\n",
       "      <td>克哈星</td>\n",
       "      <td>男</td>\n",
       "      <td>2003/10/11</td>\n",
       "    </tr>\n",
       "    <tr>\n",
       "      <th>3</th>\n",
       "      <td>5</td>\n",
       "      <td>王杰</td>\n",
       "      <td>查尔星</td>\n",
       "      <td>男</td>\n",
       "      <td>2002/6/12</td>\n",
       "    </tr>\n",
       "    <tr>\n",
       "      <th>4</th>\n",
       "      <td>6</td>\n",
       "      <td>董泽宇</td>\n",
       "      <td>塔桑尼斯</td>\n",
       "      <td>男</td>\n",
       "      <td>2002/2/12</td>\n",
       "    </tr>\n",
       "  </tbody>\n",
       "</table>\n",
       "</div>"
      ],
      "text/plain": [
       "   1  朱梦雪   地球村  女   2004/11/2\n",
       "0  2  许文博   月亮星  女    2003/8/7\n",
       "1  3  张兆媛   艾尔星  女   2004/11/2\n",
       "2  4  付延旭   克哈星  男  2003/10/11\n",
       "3  5   王杰   查尔星  男   2002/6/12\n",
       "4  6  董泽宇  塔桑尼斯  男   2002/2/12"
      ]
     },
     "execution_count": 40,
     "metadata": {},
     "output_type": "execute_result"
    }
   ],
   "source": [
    "# 不指定names，指定header为1，则选取第二行当做表头，第二行下面为数据\n",
    "pd.read_csv(r\"data\\students.csv\", header=1)"
   ]
  },
  {
   "cell_type": "markdown",
   "metadata": {},
   "source": [
    "3) names 被赋值，header 没有被赋值："
   ]
  },
  {
   "cell_type": "code",
   "execution_count": 41,
   "metadata": {},
   "outputs": [
    {
     "data": {
      "text/html": [
       "<div>\n",
       "<style scoped>\n",
       "    .dataframe tbody tr th:only-of-type {\n",
       "        vertical-align: middle;\n",
       "    }\n",
       "\n",
       "    .dataframe tbody tr th {\n",
       "        vertical-align: top;\n",
       "    }\n",
       "\n",
       "    .dataframe thead th {\n",
       "        text-align: right;\n",
       "    }\n",
       "</style>\n",
       "<table border=\"1\" class=\"dataframe\">\n",
       "  <thead>\n",
       "    <tr style=\"text-align: right;\">\n",
       "      <th></th>\n",
       "      <th>编号</th>\n",
       "      <th>姓名</th>\n",
       "      <th>地址</th>\n",
       "      <th>性别</th>\n",
       "      <th>出生日期</th>\n",
       "    </tr>\n",
       "  </thead>\n",
       "  <tbody>\n",
       "    <tr>\n",
       "      <th>0</th>\n",
       "      <td>id</td>\n",
       "      <td>name</td>\n",
       "      <td>address</td>\n",
       "      <td>gender</td>\n",
       "      <td>birthday</td>\n",
       "    </tr>\n",
       "    <tr>\n",
       "      <th>1</th>\n",
       "      <td>1</td>\n",
       "      <td>朱梦雪</td>\n",
       "      <td>地球村</td>\n",
       "      <td>女</td>\n",
       "      <td>2004/11/2</td>\n",
       "    </tr>\n",
       "    <tr>\n",
       "      <th>2</th>\n",
       "      <td>2</td>\n",
       "      <td>许文博</td>\n",
       "      <td>月亮星</td>\n",
       "      <td>女</td>\n",
       "      <td>2003/8/7</td>\n",
       "    </tr>\n",
       "    <tr>\n",
       "      <th>3</th>\n",
       "      <td>3</td>\n",
       "      <td>张兆媛</td>\n",
       "      <td>艾尔星</td>\n",
       "      <td>女</td>\n",
       "      <td>2004/11/2</td>\n",
       "    </tr>\n",
       "    <tr>\n",
       "      <th>4</th>\n",
       "      <td>4</td>\n",
       "      <td>付延旭</td>\n",
       "      <td>克哈星</td>\n",
       "      <td>男</td>\n",
       "      <td>2003/10/11</td>\n",
       "    </tr>\n",
       "    <tr>\n",
       "      <th>5</th>\n",
       "      <td>5</td>\n",
       "      <td>王杰</td>\n",
       "      <td>查尔星</td>\n",
       "      <td>男</td>\n",
       "      <td>2002/6/12</td>\n",
       "    </tr>\n",
       "    <tr>\n",
       "      <th>6</th>\n",
       "      <td>6</td>\n",
       "      <td>董泽宇</td>\n",
       "      <td>塔桑尼斯</td>\n",
       "      <td>男</td>\n",
       "      <td>2002/2/12</td>\n",
       "    </tr>\n",
       "  </tbody>\n",
       "</table>\n",
       "</div>"
      ],
      "text/plain": [
       "   编号    姓名       地址      性别        出生日期\n",
       "0  id  name  address  gender    birthday\n",
       "1   1   朱梦雪      地球村       女   2004/11/2\n",
       "2   2   许文博      月亮星       女    2003/8/7\n",
       "3   3   张兆媛      艾尔星       女   2004/11/2\n",
       "4   4   付延旭      克哈星       男  2003/10/11\n",
       "5   5    王杰      查尔星       男   2002/6/12\n",
       "6   6   董泽宇     塔桑尼斯       男   2002/2/12"
      ]
     },
     "execution_count": 41,
     "metadata": {},
     "output_type": "execute_result"
    }
   ],
   "source": [
    "pd.read_csv(r\"data\\students.csv\", names=[\"编号\", \"姓名\", \"地址\", \"性别\", \"出生日期\"])"
   ]
  },
  {
   "cell_type": "markdown",
   "metadata": {},
   "source": [
    "可以看到，names适用于没有表头的情况，指定names没有指定header，那么header相当于None。\n",
    "一般来说，读取文件的时候会有一个表头，一般默认是第一行，但是有的文件中是没有表头的，那么这个时候就可以通过names手动指定、或者生成表头，而文件里面的数据则全部是内容。所以这里id、name、address、date也当成是一条记录了，本来它是表头的，但是我们指定了names，所以它就变成数据了，表头是我们在names里面指定的。"
   ]
  },
  {
   "cell_type": "markdown",
   "metadata": {},
   "source": [
    "4) names和header都被赋值："
   ]
  },
  {
   "cell_type": "code",
   "execution_count": 43,
   "metadata": {},
   "outputs": [
    {
     "data": {
      "text/html": [
       "<div>\n",
       "<style scoped>\n",
       "    .dataframe tbody tr th:only-of-type {\n",
       "        vertical-align: middle;\n",
       "    }\n",
       "\n",
       "    .dataframe tbody tr th {\n",
       "        vertical-align: top;\n",
       "    }\n",
       "\n",
       "    .dataframe thead th {\n",
       "        text-align: right;\n",
       "    }\n",
       "</style>\n",
       "<table border=\"1\" class=\"dataframe\">\n",
       "  <thead>\n",
       "    <tr style=\"text-align: right;\">\n",
       "      <th></th>\n",
       "      <th>编号</th>\n",
       "      <th>姓名</th>\n",
       "      <th>地址</th>\n",
       "      <th>性别</th>\n",
       "      <th>出生日期</th>\n",
       "    </tr>\n",
       "  </thead>\n",
       "  <tbody>\n",
       "    <tr>\n",
       "      <th>0</th>\n",
       "      <td>1</td>\n",
       "      <td>朱梦雪</td>\n",
       "      <td>地球村</td>\n",
       "      <td>女</td>\n",
       "      <td>2004/11/2</td>\n",
       "    </tr>\n",
       "    <tr>\n",
       "      <th>1</th>\n",
       "      <td>2</td>\n",
       "      <td>许文博</td>\n",
       "      <td>月亮星</td>\n",
       "      <td>女</td>\n",
       "      <td>2003/8/7</td>\n",
       "    </tr>\n",
       "    <tr>\n",
       "      <th>2</th>\n",
       "      <td>3</td>\n",
       "      <td>张兆媛</td>\n",
       "      <td>艾尔星</td>\n",
       "      <td>女</td>\n",
       "      <td>2004/11/2</td>\n",
       "    </tr>\n",
       "    <tr>\n",
       "      <th>3</th>\n",
       "      <td>4</td>\n",
       "      <td>付延旭</td>\n",
       "      <td>克哈星</td>\n",
       "      <td>男</td>\n",
       "      <td>2003/10/11</td>\n",
       "    </tr>\n",
       "    <tr>\n",
       "      <th>4</th>\n",
       "      <td>5</td>\n",
       "      <td>王杰</td>\n",
       "      <td>查尔星</td>\n",
       "      <td>男</td>\n",
       "      <td>2002/6/12</td>\n",
       "    </tr>\n",
       "    <tr>\n",
       "      <th>5</th>\n",
       "      <td>6</td>\n",
       "      <td>董泽宇</td>\n",
       "      <td>塔桑尼斯</td>\n",
       "      <td>男</td>\n",
       "      <td>2002/2/12</td>\n",
       "    </tr>\n",
       "  </tbody>\n",
       "</table>\n",
       "</div>"
      ],
      "text/plain": [
       "   编号   姓名    地址 性别        出生日期\n",
       "0   1  朱梦雪   地球村  女   2004/11/2\n",
       "1   2  许文博   月亮星  女    2003/8/7\n",
       "2   3  张兆媛   艾尔星  女   2004/11/2\n",
       "3   4  付延旭   克哈星  男  2003/10/11\n",
       "4   5   王杰   查尔星  男   2002/6/12\n",
       "5   6  董泽宇  塔桑尼斯  男   2002/2/12"
      ]
     },
     "execution_count": 43,
     "metadata": {},
     "output_type": "execute_result"
    }
   ],
   "source": [
    "pd.read_csv(r\"data\\students.csv\", names=[\"编号\", \"姓名\", \"地址\", \"性别\", \"出生日期\"], header=0)"
   ]
  },
  {
   "cell_type": "markdown",
   "metadata": {},
   "source": [
    "这个时候，相当于先不看names，只看header，header为0代表先把第一行当做表头，下面的当成数据；然后再把表头用names给替换掉。"
   ]
  },
  {
   "cell_type": "markdown",
   "metadata": {},
   "source": [
    "所以names和header的使用场景主要如下：\n",
    "\n",
    "    ①. csv文件有表头并且是第一行，那么names和header都无需指定;\n",
    "    ②. csv文件有表头、但表头不是第一行，可能从下面几行开始才是真正的表头和数据，这个时候指定header即可;\n",
    "    ③. csv文件没有表头，全部是纯数据，那么我们可以通过names手动生成表头;\n",
    "    ④. csv文件有表头、但是这个表头你不想用，这个时候同时指定names和header。先用header选出表头和数据，然后再用names将表头替换掉，就等价于将数据读取进来之后再对列名进行rename；"
   ]
  },
  {
   "cell_type": "markdown",
   "metadata": {},
   "source": [
    "    4 index_col：我们在读取文件之后所得到的DataFrame的索引默认是0、1、2……，我们可以通过set_index设定索引，但是也可以在读取的时候就指定某列为索引。"
   ]
  },
  {
   "cell_type": "code",
   "execution_count": 110,
   "metadata": {},
   "outputs": [
    {
     "data": {
      "text/html": [
       "<div>\n",
       "<style scoped>\n",
       "    .dataframe tbody tr th:only-of-type {\n",
       "        vertical-align: middle;\n",
       "    }\n",
       "\n",
       "    .dataframe tbody tr th {\n",
       "        vertical-align: top;\n",
       "    }\n",
       "\n",
       "    .dataframe thead th {\n",
       "        text-align: right;\n",
       "    }\n",
       "</style>\n",
       "<table border=\"1\" class=\"dataframe\">\n",
       "  <thead>\n",
       "    <tr style=\"text-align: right;\">\n",
       "      <th></th>\n",
       "      <th>id</th>\n",
       "      <th>name</th>\n",
       "      <th>address</th>\n",
       "      <th>gender</th>\n",
       "    </tr>\n",
       "    <tr>\n",
       "      <th>birthday</th>\n",
       "      <th></th>\n",
       "      <th></th>\n",
       "      <th></th>\n",
       "      <th></th>\n",
       "    </tr>\n",
       "  </thead>\n",
       "  <tbody>\n",
       "    <tr>\n",
       "      <th>2004/11/2</th>\n",
       "      <td>1</td>\n",
       "      <td>朱梦雪</td>\n",
       "      <td>地球村</td>\n",
       "      <td>女</td>\n",
       "    </tr>\n",
       "    <tr>\n",
       "      <th>2003/8/7</th>\n",
       "      <td>2</td>\n",
       "      <td>许文博</td>\n",
       "      <td>月亮星</td>\n",
       "      <td>女</td>\n",
       "    </tr>\n",
       "    <tr>\n",
       "      <th>2004/11/2</th>\n",
       "      <td>3</td>\n",
       "      <td>张兆媛</td>\n",
       "      <td>艾尔星</td>\n",
       "      <td>女</td>\n",
       "    </tr>\n",
       "    <tr>\n",
       "      <th>2003/10/11</th>\n",
       "      <td>4</td>\n",
       "      <td>付延旭</td>\n",
       "      <td>克哈星</td>\n",
       "      <td>男</td>\n",
       "    </tr>\n",
       "    <tr>\n",
       "      <th>2002/6/12</th>\n",
       "      <td>5</td>\n",
       "      <td>王杰</td>\n",
       "      <td>查尔星</td>\n",
       "      <td>男</td>\n",
       "    </tr>\n",
       "    <tr>\n",
       "      <th>2002/2/12</th>\n",
       "      <td>6</td>\n",
       "      <td>董泽宇</td>\n",
       "      <td>塔桑尼斯</td>\n",
       "      <td>男</td>\n",
       "    </tr>\n",
       "  </tbody>\n",
       "</table>\n",
       "</div>"
      ],
      "text/plain": [
       "            id name address gender\n",
       "birthday                          \n",
       "2004/11/2    1  朱梦雪     地球村      女\n",
       "2003/8/7     2  许文博     月亮星      女\n",
       "2004/11/2    3  张兆媛     艾尔星      女\n",
       "2003/10/11   4  付延旭     克哈星      男\n",
       "2002/6/12    5   王杰     查尔星      男\n",
       "2002/2/12    6  董泽宇    塔桑尼斯      男"
      ]
     },
     "execution_count": 110,
     "metadata": {},
     "output_type": "execute_result"
    }
   ],
   "source": [
    "df = pd.read_csv(r\"data\\students.csv\", index_col=\"birthday\")\n",
    "df"
   ]
  },
  {
   "cell_type": "code",
   "execution_count": 111,
   "metadata": {},
   "outputs": [],
   "source": [
    "df.index = pd.to_datetime(df.index)"
   ]
  },
  {
   "cell_type": "code",
   "execution_count": 112,
   "metadata": {},
   "outputs": [
    {
     "data": {
      "text/plain": [
       "DatetimeIndex(['2004-11-02', '2003-08-07', '2004-11-02', '2003-10-11',\n",
       "               '2002-06-12', '2002-02-12'],\n",
       "              dtype='datetime64[ns]', name='birthday', freq=None)"
      ]
     },
     "execution_count": 112,
     "metadata": {},
     "output_type": "execute_result"
    }
   ],
   "source": [
    "df.index"
   ]
  },
  {
   "cell_type": "markdown",
   "metadata": {},
   "source": [
    "这里，我们在读取的时候指定了name列作为索引；\n",
    "此外，除了指定单个列，还可以指定多列作为索引，比如[\"id\", \"name\"]。同时，我们除了可以输入列名外，还可以输入列对应的索引。比如：\"id\"、\"name\"、\"address\"、\"date\"对应的索引就分别是0、1、2、3。"
   ]
  },
  {
   "cell_type": "code",
   "execution_count": 90,
   "metadata": {},
   "outputs": [],
   "source": [
    "df2 = pd.read_csv(r\"data\\students.csv\", index_col=[\"birthday\",\"gender\"])\n",
    "df2"
   ]
  },
  {
   "cell_type": "code",
   "execution_count": 91,
   "metadata": {},
   "outputs": [
    {
     "data": {
      "text/html": [
       "<div>\n",
       "<style scoped>\n",
       "    .dataframe tbody tr th:only-of-type {\n",
       "        vertical-align: middle;\n",
       "    }\n",
       "\n",
       "    .dataframe tbody tr th {\n",
       "        vertical-align: top;\n",
       "    }\n",
       "\n",
       "    .dataframe thead th {\n",
       "        text-align: right;\n",
       "    }\n",
       "</style>\n",
       "<table border=\"1\" class=\"dataframe\">\n",
       "  <thead>\n",
       "    <tr style=\"text-align: right;\">\n",
       "      <th></th>\n",
       "      <th></th>\n",
       "      <th>id</th>\n",
       "      <th>name</th>\n",
       "      <th>address</th>\n",
       "    </tr>\n",
       "    <tr>\n",
       "      <th>birthday</th>\n",
       "      <th>gender</th>\n",
       "      <th></th>\n",
       "      <th></th>\n",
       "      <th></th>\n",
       "    </tr>\n",
       "  </thead>\n",
       "  <tbody>\n",
       "    <tr>\n",
       "      <th rowspan=\"2\" valign=\"top\">2004/11/2</th>\n",
       "      <th>女</th>\n",
       "      <td>1</td>\n",
       "      <td>朱梦雪</td>\n",
       "      <td>地球村</td>\n",
       "    </tr>\n",
       "    <tr>\n",
       "      <th>女</th>\n",
       "      <td>3</td>\n",
       "      <td>张兆媛</td>\n",
       "      <td>艾尔星</td>\n",
       "    </tr>\n",
       "  </tbody>\n",
       "</table>\n",
       "</div>"
      ],
      "text/plain": [
       "                  id name address\n",
       "birthday  gender                 \n",
       "2004/11/2 女        1  朱梦雪     地球村\n",
       "          女        3  张兆媛     艾尔星"
      ]
     },
     "execution_count": 91,
     "metadata": {},
     "output_type": "execute_result"
    }
   ],
   "source": [
    "df2.loc['2004/11/2',\"女\"]"
   ]
  },
  {
   "cell_type": "code",
   "execution_count": 96,
   "metadata": {},
   "outputs": [
    {
     "data": {
      "text/html": [
       "<div>\n",
       "<style scoped>\n",
       "    .dataframe tbody tr th:only-of-type {\n",
       "        vertical-align: middle;\n",
       "    }\n",
       "\n",
       "    .dataframe tbody tr th {\n",
       "        vertical-align: top;\n",
       "    }\n",
       "\n",
       "    .dataframe thead th {\n",
       "        text-align: right;\n",
       "    }\n",
       "</style>\n",
       "<table border=\"1\" class=\"dataframe\">\n",
       "  <thead>\n",
       "    <tr style=\"text-align: right;\">\n",
       "      <th></th>\n",
       "      <th></th>\n",
       "      <th>id</th>\n",
       "      <th>name</th>\n",
       "      <th>address</th>\n",
       "    </tr>\n",
       "    <tr>\n",
       "      <th>birthday</th>\n",
       "      <th>gender</th>\n",
       "      <th></th>\n",
       "      <th></th>\n",
       "      <th></th>\n",
       "    </tr>\n",
       "  </thead>\n",
       "  <tbody>\n",
       "    <tr>\n",
       "      <th rowspan=\"2\" valign=\"top\">2004/11/2</th>\n",
       "      <th>女</th>\n",
       "      <td>1</td>\n",
       "      <td>朱梦雪</td>\n",
       "      <td>地球村</td>\n",
       "    </tr>\n",
       "    <tr>\n",
       "      <th>女</th>\n",
       "      <td>3</td>\n",
       "      <td>张兆媛</td>\n",
       "      <td>艾尔星</td>\n",
       "    </tr>\n",
       "  </tbody>\n",
       "</table>\n",
       "</div>"
      ],
      "text/plain": [
       "                  id name address\n",
       "birthday  gender                 \n",
       "2004/11/2 女        1  朱梦雪     地球村\n",
       "          女        3  张兆媛     艾尔星"
      ]
     },
     "execution_count": 96,
     "metadata": {},
     "output_type": "execute_result"
    }
   ],
   "source": [
    "df2.sort_index(inplace=True)\n",
    "df2.loc['2004/11/2',\"女\"]"
   ]
  },
  {
   "cell_type": "code",
   "execution_count": null,
   "metadata": {
    "scrolled": true
   },
   "outputs": [],
   "source": [
    "df['rank1']"
   ]
  },
  {
   "cell_type": "markdown",
   "metadata": {},
   "source": [
    "    5. usecols：返回列的子集。如果是类似列表的，则所有元素都必须是位置性的（即文档列中的整数索引），或者是与用户在名称中提供的列名或从文档标题行推断的列名相对应的字符串。如果给出了名称，则不考虑文档标题行"
   ]
  },
  {
   "cell_type": "code",
   "execution_count": 97,
   "metadata": {},
   "outputs": [
    {
     "data": {
      "text/html": [
       "<div>\n",
       "<style scoped>\n",
       "    .dataframe tbody tr th:only-of-type {\n",
       "        vertical-align: middle;\n",
       "    }\n",
       "\n",
       "    .dataframe tbody tr th {\n",
       "        vertical-align: top;\n",
       "    }\n",
       "\n",
       "    .dataframe thead th {\n",
       "        text-align: right;\n",
       "    }\n",
       "</style>\n",
       "<table border=\"1\" class=\"dataframe\">\n",
       "  <thead>\n",
       "    <tr style=\"text-align: right;\">\n",
       "      <th></th>\n",
       "      <th>name</th>\n",
       "      <th>birthday</th>\n",
       "    </tr>\n",
       "  </thead>\n",
       "  <tbody>\n",
       "    <tr>\n",
       "      <th>0</th>\n",
       "      <td>朱梦雪</td>\n",
       "      <td>2004/11/2</td>\n",
       "    </tr>\n",
       "    <tr>\n",
       "      <th>1</th>\n",
       "      <td>许文博</td>\n",
       "      <td>2003/8/7</td>\n",
       "    </tr>\n",
       "    <tr>\n",
       "      <th>2</th>\n",
       "      <td>张兆媛</td>\n",
       "      <td>2004/11/2</td>\n",
       "    </tr>\n",
       "    <tr>\n",
       "      <th>3</th>\n",
       "      <td>付延旭</td>\n",
       "      <td>2003/10/11</td>\n",
       "    </tr>\n",
       "    <tr>\n",
       "      <th>4</th>\n",
       "      <td>王杰</td>\n",
       "      <td>2002/6/12</td>\n",
       "    </tr>\n",
       "    <tr>\n",
       "      <th>5</th>\n",
       "      <td>董泽宇</td>\n",
       "      <td>2002/2/12</td>\n",
       "    </tr>\n",
       "  </tbody>\n",
       "</table>\n",
       "</div>"
      ],
      "text/plain": [
       "  name    birthday\n",
       "0  朱梦雪   2004/11/2\n",
       "1  许文博    2003/8/7\n",
       "2  张兆媛   2004/11/2\n",
       "3  付延旭  2003/10/11\n",
       "4   王杰   2002/6/12\n",
       "5  董泽宇   2002/2/12"
      ]
     },
     "execution_count": 97,
     "metadata": {},
     "output_type": "execute_result"
    }
   ],
   "source": [
    "pd.read_csv(r\"data\\students.csv\", usecols=[\"name\",\"birthday\"])"
   ]
  },
  {
   "cell_type": "markdown",
   "metadata": {},
   "source": [
    "### 二、通用解析参数\n",
    "\n",
    "    1. encoding:这只编码格式  utf-8  gbk\n",
    "  "
   ]
  },
  {
   "cell_type": "code",
   "execution_count": 101,
   "metadata": {
    "scrolled": true
   },
   "outputs": [
    {
     "ename": "UnicodeDecodeError",
     "evalue": "'utf-8' codec can't decode byte 0xd6 in position 0: invalid continuation byte",
     "output_type": "error",
     "traceback": [
      "\u001b[1;31m---------------------------------------------------------------------------\u001b[0m",
      "\u001b[1;31mUnicodeDecodeError\u001b[0m                        Traceback (most recent call last)",
      "\u001b[1;32mpandas\\_libs\\parsers.pyx\u001b[0m in \u001b[0;36mpandas._libs.parsers.TextReader._convert_tokens\u001b[1;34m()\u001b[0m\n",
      "\u001b[1;32mpandas\\_libs\\parsers.pyx\u001b[0m in \u001b[0;36mpandas._libs.parsers.TextReader._convert_with_dtype\u001b[1;34m()\u001b[0m\n",
      "\u001b[1;32mpandas\\_libs\\parsers.pyx\u001b[0m in \u001b[0;36mpandas._libs.parsers.TextReader._string_convert\u001b[1;34m()\u001b[0m\n",
      "\u001b[1;32mpandas\\_libs\\parsers.pyx\u001b[0m in \u001b[0;36mpandas._libs.parsers._string_box_utf8\u001b[1;34m()\u001b[0m\n",
      "\u001b[1;31mUnicodeDecodeError\u001b[0m: 'utf-8' codec can't decode byte 0xd6 in position 0: invalid continuation byte",
      "\nDuring handling of the above exception, another exception occurred:\n",
      "\u001b[1;31mUnicodeDecodeError\u001b[0m                        Traceback (most recent call last)",
      "\u001b[1;32m<ipython-input-101-58e4f4506302>\u001b[0m in \u001b[0;36m<module>\u001b[1;34m\u001b[0m\n\u001b[1;32m----> 1\u001b[1;33m \u001b[0mpd\u001b[0m\u001b[1;33m.\u001b[0m\u001b[0mread_csv\u001b[0m\u001b[1;33m(\u001b[0m\u001b[1;34mr\"data\\students_gbk.csv\"\u001b[0m\u001b[1;33m)\u001b[0m\u001b[1;33m\u001b[0m\u001b[1;33m\u001b[0m\u001b[0m\n\u001b[0m",
      "\u001b[1;32mD:\\Anaconda3\\lib\\site-packages\\pandas\\io\\parsers.py\u001b[0m in \u001b[0;36mparser_f\u001b[1;34m(filepath_or_buffer, sep, delimiter, header, names, index_col, usecols, squeeze, prefix, mangle_dupe_cols, dtype, engine, converters, true_values, false_values, skipinitialspace, skiprows, skipfooter, nrows, na_values, keep_default_na, na_filter, verbose, skip_blank_lines, parse_dates, infer_datetime_format, keep_date_col, date_parser, dayfirst, cache_dates, iterator, chunksize, compression, thousands, decimal, lineterminator, quotechar, quoting, doublequote, escapechar, comment, encoding, dialect, error_bad_lines, warn_bad_lines, delim_whitespace, low_memory, memory_map, float_precision)\u001b[0m\n\u001b[0;32m    674\u001b[0m         )\n\u001b[0;32m    675\u001b[0m \u001b[1;33m\u001b[0m\u001b[0m\n\u001b[1;32m--> 676\u001b[1;33m         \u001b[1;32mreturn\u001b[0m \u001b[0m_read\u001b[0m\u001b[1;33m(\u001b[0m\u001b[0mfilepath_or_buffer\u001b[0m\u001b[1;33m,\u001b[0m \u001b[0mkwds\u001b[0m\u001b[1;33m)\u001b[0m\u001b[1;33m\u001b[0m\u001b[1;33m\u001b[0m\u001b[0m\n\u001b[0m\u001b[0;32m    677\u001b[0m \u001b[1;33m\u001b[0m\u001b[0m\n\u001b[0;32m    678\u001b[0m     \u001b[0mparser_f\u001b[0m\u001b[1;33m.\u001b[0m\u001b[0m__name__\u001b[0m \u001b[1;33m=\u001b[0m \u001b[0mname\u001b[0m\u001b[1;33m\u001b[0m\u001b[1;33m\u001b[0m\u001b[0m\n",
      "\u001b[1;32mD:\\Anaconda3\\lib\\site-packages\\pandas\\io\\parsers.py\u001b[0m in \u001b[0;36m_read\u001b[1;34m(filepath_or_buffer, kwds)\u001b[0m\n\u001b[0;32m    452\u001b[0m \u001b[1;33m\u001b[0m\u001b[0m\n\u001b[0;32m    453\u001b[0m     \u001b[1;32mtry\u001b[0m\u001b[1;33m:\u001b[0m\u001b[1;33m\u001b[0m\u001b[1;33m\u001b[0m\u001b[0m\n\u001b[1;32m--> 454\u001b[1;33m         \u001b[0mdata\u001b[0m \u001b[1;33m=\u001b[0m \u001b[0mparser\u001b[0m\u001b[1;33m.\u001b[0m\u001b[0mread\u001b[0m\u001b[1;33m(\u001b[0m\u001b[0mnrows\u001b[0m\u001b[1;33m)\u001b[0m\u001b[1;33m\u001b[0m\u001b[1;33m\u001b[0m\u001b[0m\n\u001b[0m\u001b[0;32m    455\u001b[0m     \u001b[1;32mfinally\u001b[0m\u001b[1;33m:\u001b[0m\u001b[1;33m\u001b[0m\u001b[1;33m\u001b[0m\u001b[0m\n\u001b[0;32m    456\u001b[0m         \u001b[0mparser\u001b[0m\u001b[1;33m.\u001b[0m\u001b[0mclose\u001b[0m\u001b[1;33m(\u001b[0m\u001b[1;33m)\u001b[0m\u001b[1;33m\u001b[0m\u001b[1;33m\u001b[0m\u001b[0m\n",
      "\u001b[1;32mD:\\Anaconda3\\lib\\site-packages\\pandas\\io\\parsers.py\u001b[0m in \u001b[0;36mread\u001b[1;34m(self, nrows)\u001b[0m\n\u001b[0;32m   1131\u001b[0m     \u001b[1;32mdef\u001b[0m \u001b[0mread\u001b[0m\u001b[1;33m(\u001b[0m\u001b[0mself\u001b[0m\u001b[1;33m,\u001b[0m \u001b[0mnrows\u001b[0m\u001b[1;33m=\u001b[0m\u001b[1;32mNone\u001b[0m\u001b[1;33m)\u001b[0m\u001b[1;33m:\u001b[0m\u001b[1;33m\u001b[0m\u001b[1;33m\u001b[0m\u001b[0m\n\u001b[0;32m   1132\u001b[0m         \u001b[0mnrows\u001b[0m \u001b[1;33m=\u001b[0m \u001b[0m_validate_integer\u001b[0m\u001b[1;33m(\u001b[0m\u001b[1;34m\"nrows\"\u001b[0m\u001b[1;33m,\u001b[0m \u001b[0mnrows\u001b[0m\u001b[1;33m)\u001b[0m\u001b[1;33m\u001b[0m\u001b[1;33m\u001b[0m\u001b[0m\n\u001b[1;32m-> 1133\u001b[1;33m         \u001b[0mret\u001b[0m \u001b[1;33m=\u001b[0m \u001b[0mself\u001b[0m\u001b[1;33m.\u001b[0m\u001b[0m_engine\u001b[0m\u001b[1;33m.\u001b[0m\u001b[0mread\u001b[0m\u001b[1;33m(\u001b[0m\u001b[0mnrows\u001b[0m\u001b[1;33m)\u001b[0m\u001b[1;33m\u001b[0m\u001b[1;33m\u001b[0m\u001b[0m\n\u001b[0m\u001b[0;32m   1134\u001b[0m \u001b[1;33m\u001b[0m\u001b[0m\n\u001b[0;32m   1135\u001b[0m         \u001b[1;31m# May alter columns / col_dict\u001b[0m\u001b[1;33m\u001b[0m\u001b[1;33m\u001b[0m\u001b[1;33m\u001b[0m\u001b[0m\n",
      "\u001b[1;32mD:\\Anaconda3\\lib\\site-packages\\pandas\\io\\parsers.py\u001b[0m in \u001b[0;36mread\u001b[1;34m(self, nrows)\u001b[0m\n\u001b[0;32m   2035\u001b[0m     \u001b[1;32mdef\u001b[0m \u001b[0mread\u001b[0m\u001b[1;33m(\u001b[0m\u001b[0mself\u001b[0m\u001b[1;33m,\u001b[0m \u001b[0mnrows\u001b[0m\u001b[1;33m=\u001b[0m\u001b[1;32mNone\u001b[0m\u001b[1;33m)\u001b[0m\u001b[1;33m:\u001b[0m\u001b[1;33m\u001b[0m\u001b[1;33m\u001b[0m\u001b[0m\n\u001b[0;32m   2036\u001b[0m         \u001b[1;32mtry\u001b[0m\u001b[1;33m:\u001b[0m\u001b[1;33m\u001b[0m\u001b[1;33m\u001b[0m\u001b[0m\n\u001b[1;32m-> 2037\u001b[1;33m             \u001b[0mdata\u001b[0m \u001b[1;33m=\u001b[0m \u001b[0mself\u001b[0m\u001b[1;33m.\u001b[0m\u001b[0m_reader\u001b[0m\u001b[1;33m.\u001b[0m\u001b[0mread\u001b[0m\u001b[1;33m(\u001b[0m\u001b[0mnrows\u001b[0m\u001b[1;33m)\u001b[0m\u001b[1;33m\u001b[0m\u001b[1;33m\u001b[0m\u001b[0m\n\u001b[0m\u001b[0;32m   2038\u001b[0m         \u001b[1;32mexcept\u001b[0m \u001b[0mStopIteration\u001b[0m\u001b[1;33m:\u001b[0m\u001b[1;33m\u001b[0m\u001b[1;33m\u001b[0m\u001b[0m\n\u001b[0;32m   2039\u001b[0m             \u001b[1;32mif\u001b[0m \u001b[0mself\u001b[0m\u001b[1;33m.\u001b[0m\u001b[0m_first_chunk\u001b[0m\u001b[1;33m:\u001b[0m\u001b[1;33m\u001b[0m\u001b[1;33m\u001b[0m\u001b[0m\n",
      "\u001b[1;32mpandas\\_libs\\parsers.pyx\u001b[0m in \u001b[0;36mpandas._libs.parsers.TextReader.read\u001b[1;34m()\u001b[0m\n",
      "\u001b[1;32mpandas\\_libs\\parsers.pyx\u001b[0m in \u001b[0;36mpandas._libs.parsers.TextReader._read_low_memory\u001b[1;34m()\u001b[0m\n",
      "\u001b[1;32mpandas\\_libs\\parsers.pyx\u001b[0m in \u001b[0;36mpandas._libs.parsers.TextReader._read_rows\u001b[1;34m()\u001b[0m\n",
      "\u001b[1;32mpandas\\_libs\\parsers.pyx\u001b[0m in \u001b[0;36mpandas._libs.parsers.TextReader._convert_column_data\u001b[1;34m()\u001b[0m\n",
      "\u001b[1;32mpandas\\_libs\\parsers.pyx\u001b[0m in \u001b[0;36mpandas._libs.parsers.TextReader._convert_tokens\u001b[1;34m()\u001b[0m\n",
      "\u001b[1;32mpandas\\_libs\\parsers.pyx\u001b[0m in \u001b[0;36mpandas._libs.parsers.TextReader._convert_with_dtype\u001b[1;34m()\u001b[0m\n",
      "\u001b[1;32mpandas\\_libs\\parsers.pyx\u001b[0m in \u001b[0;36mpandas._libs.parsers.TextReader._string_convert\u001b[1;34m()\u001b[0m\n",
      "\u001b[1;32mpandas\\_libs\\parsers.pyx\u001b[0m in \u001b[0;36mpandas._libs.parsers._string_box_utf8\u001b[1;34m()\u001b[0m\n",
      "\u001b[1;31mUnicodeDecodeError\u001b[0m: 'utf-8' codec can't decode byte 0xd6 in position 0: invalid continuation byte"
     ]
    }
   ],
   "source": [
    "pd.read_csv(r\"data\\students_gbk.csv\") # UnicodeDecodeError "
   ]
  },
  {
   "cell_type": "code",
   "execution_count": 103,
   "metadata": {},
   "outputs": [
    {
     "data": {
      "text/html": [
       "<div>\n",
       "<style scoped>\n",
       "    .dataframe tbody tr th:only-of-type {\n",
       "        vertical-align: middle;\n",
       "    }\n",
       "\n",
       "    .dataframe tbody tr th {\n",
       "        vertical-align: top;\n",
       "    }\n",
       "\n",
       "    .dataframe thead th {\n",
       "        text-align: right;\n",
       "    }\n",
       "</style>\n",
       "<table border=\"1\" class=\"dataframe\">\n",
       "  <thead>\n",
       "    <tr style=\"text-align: right;\">\n",
       "      <th></th>\n",
       "      <th>id</th>\n",
       "      <th>name</th>\n",
       "      <th>address</th>\n",
       "      <th>gender</th>\n",
       "      <th>birthday</th>\n",
       "    </tr>\n",
       "  </thead>\n",
       "  <tbody>\n",
       "    <tr>\n",
       "      <th>0</th>\n",
       "      <td>1</td>\n",
       "      <td>朱梦雪</td>\n",
       "      <td>地球村</td>\n",
       "      <td>女</td>\n",
       "      <td>2004/11/2</td>\n",
       "    </tr>\n",
       "    <tr>\n",
       "      <th>1</th>\n",
       "      <td>2</td>\n",
       "      <td>许文博</td>\n",
       "      <td>月亮星</td>\n",
       "      <td>女</td>\n",
       "      <td>2003/8/7</td>\n",
       "    </tr>\n",
       "    <tr>\n",
       "      <th>2</th>\n",
       "      <td>3</td>\n",
       "      <td>张兆媛</td>\n",
       "      <td>艾尔星</td>\n",
       "      <td>女</td>\n",
       "      <td>2004/11/2</td>\n",
       "    </tr>\n",
       "    <tr>\n",
       "      <th>3</th>\n",
       "      <td>4</td>\n",
       "      <td>付延旭</td>\n",
       "      <td>克哈星</td>\n",
       "      <td>男</td>\n",
       "      <td>2003/10/11</td>\n",
       "    </tr>\n",
       "    <tr>\n",
       "      <th>4</th>\n",
       "      <td>5</td>\n",
       "      <td>王杰</td>\n",
       "      <td>查尔星</td>\n",
       "      <td>男</td>\n",
       "      <td>2002/6/12</td>\n",
       "    </tr>\n",
       "    <tr>\n",
       "      <th>5</th>\n",
       "      <td>6</td>\n",
       "      <td>董泽宇</td>\n",
       "      <td>塔桑尼斯</td>\n",
       "      <td>男</td>\n",
       "      <td>2002/2/12</td>\n",
       "    </tr>\n",
       "  </tbody>\n",
       "</table>\n",
       "</div>"
      ],
      "text/plain": [
       "   id name address gender    birthday\n",
       "0   1  朱梦雪     地球村      女   2004/11/2\n",
       "1   2  许文博     月亮星      女    2003/8/7\n",
       "2   3  张兆媛     艾尔星      女   2004/11/2\n",
       "3   4  付延旭     克哈星      男  2003/10/11\n",
       "4   5   王杰     查尔星      男   2002/6/12\n",
       "5   6  董泽宇    塔桑尼斯      男   2002/2/12"
      ]
     },
     "execution_count": 103,
     "metadata": {},
     "output_type": "execute_result"
    }
   ],
   "source": [
    "pd.read_csv(r\"data\\students_gbk.csv\", encoding=\"gbk\") "
   ]
  },
  {
   "cell_type": "markdown",
   "metadata": {},
   "source": [
    "    2. dtype：在读取数据的时候，设定字段的类型。比如，公司员工的id一般是：00001234，如果默认读取的时候，会显示为1234，所以这个时候要把他转为字符串类型，才能正常显示为00001234："
   ]
  },
  {
   "cell_type": "code",
   "execution_count": 125,
   "metadata": {},
   "outputs": [
    {
     "data": {
      "text/html": [
       "<div>\n",
       "<style scoped>\n",
       "    .dataframe tbody tr th:only-of-type {\n",
       "        vertical-align: middle;\n",
       "    }\n",
       "\n",
       "    .dataframe tbody tr th {\n",
       "        vertical-align: top;\n",
       "    }\n",
       "\n",
       "    .dataframe thead th {\n",
       "        text-align: right;\n",
       "    }\n",
       "</style>\n",
       "<table border=\"1\" class=\"dataframe\">\n",
       "  <thead>\n",
       "    <tr style=\"text-align: right;\">\n",
       "      <th></th>\n",
       "      <th>id</th>\n",
       "      <th>name</th>\n",
       "      <th>address</th>\n",
       "      <th>gender</th>\n",
       "      <th>birthday</th>\n",
       "    </tr>\n",
       "  </thead>\n",
       "  <tbody>\n",
       "    <tr>\n",
       "      <th>0</th>\n",
       "      <td>001</td>\n",
       "      <td>朱梦雪</td>\n",
       "      <td>地球村</td>\n",
       "      <td>女</td>\n",
       "      <td>2004/11/2</td>\n",
       "    </tr>\n",
       "    <tr>\n",
       "      <th>1</th>\n",
       "      <td>002</td>\n",
       "      <td>许文博</td>\n",
       "      <td>月亮星</td>\n",
       "      <td>女</td>\n",
       "      <td>2003/8/7</td>\n",
       "    </tr>\n",
       "    <tr>\n",
       "      <th>2</th>\n",
       "      <td>003</td>\n",
       "      <td>张兆媛</td>\n",
       "      <td>艾尔星</td>\n",
       "      <td>女</td>\n",
       "      <td>2004/11/2</td>\n",
       "    </tr>\n",
       "    <tr>\n",
       "      <th>3</th>\n",
       "      <td>004</td>\n",
       "      <td>付延旭</td>\n",
       "      <td>克哈星</td>\n",
       "      <td>男</td>\n",
       "      <td>2003/10/11</td>\n",
       "    </tr>\n",
       "    <tr>\n",
       "      <th>4</th>\n",
       "      <td>005</td>\n",
       "      <td>王杰</td>\n",
       "      <td>查尔星</td>\n",
       "      <td>男</td>\n",
       "      <td>2002/6/12</td>\n",
       "    </tr>\n",
       "    <tr>\n",
       "      <th>5</th>\n",
       "      <td>006</td>\n",
       "      <td>董泽宇</td>\n",
       "      <td>塔桑尼斯</td>\n",
       "      <td>男</td>\n",
       "      <td>2002/2/12</td>\n",
       "    </tr>\n",
       "  </tbody>\n",
       "</table>\n",
       "</div>"
      ],
      "text/plain": [
       "    id name address gender    birthday\n",
       "0  001  朱梦雪     地球村      女   2004/11/2\n",
       "1  002  许文博     月亮星      女    2003/8/7\n",
       "2  003  张兆媛     艾尔星      女   2004/11/2\n",
       "3  004  付延旭     克哈星      男  2003/10/11\n",
       "4  005   王杰     查尔星      男   2002/6/12\n",
       "5  006  董泽宇    塔桑尼斯      男   2002/2/12"
      ]
     },
     "execution_count": 125,
     "metadata": {},
     "output_type": "execute_result"
    }
   ],
   "source": [
    "\n",
    "df = pd.read_csv(r\"data\\students_step_001.csv\", sep=\"|\", dtype ={\"id\":str}) \n",
    "df"
   ]
  },
  {
   "cell_type": "markdown",
   "metadata": {},
   "source": [
    "    3. converters：在读取数据的时候对列数据进行变换，例如将id增加10，但是注意 int(x)，在使用converters参数时，解析器默认所有列的类型为 str，所以需要进行类型转换。"
   ]
  },
  {
   "cell_type": "code",
   "execution_count": 127,
   "metadata": {},
   "outputs": [
    {
     "data": {
      "text/html": [
       "<div>\n",
       "<style scoped>\n",
       "    .dataframe tbody tr th:only-of-type {\n",
       "        vertical-align: middle;\n",
       "    }\n",
       "\n",
       "    .dataframe tbody tr th {\n",
       "        vertical-align: top;\n",
       "    }\n",
       "\n",
       "    .dataframe thead th {\n",
       "        text-align: right;\n",
       "    }\n",
       "</style>\n",
       "<table border=\"1\" class=\"dataframe\">\n",
       "  <thead>\n",
       "    <tr style=\"text-align: right;\">\n",
       "      <th></th>\n",
       "      <th>id</th>\n",
       "      <th>name</th>\n",
       "      <th>address</th>\n",
       "      <th>gender</th>\n",
       "      <th>birthday</th>\n",
       "    </tr>\n",
       "  </thead>\n",
       "  <tbody>\n",
       "    <tr>\n",
       "      <th>0</th>\n",
       "      <td>11</td>\n",
       "      <td>朱梦雪</td>\n",
       "      <td>地球村</td>\n",
       "      <td>女</td>\n",
       "      <td>2004/11/2</td>\n",
       "    </tr>\n",
       "    <tr>\n",
       "      <th>1</th>\n",
       "      <td>12</td>\n",
       "      <td>许文博</td>\n",
       "      <td>月亮星</td>\n",
       "      <td>女</td>\n",
       "      <td>2003/8/7</td>\n",
       "    </tr>\n",
       "    <tr>\n",
       "      <th>2</th>\n",
       "      <td>13</td>\n",
       "      <td>张兆媛</td>\n",
       "      <td>艾尔星</td>\n",
       "      <td>女</td>\n",
       "      <td>2004/11/2</td>\n",
       "    </tr>\n",
       "    <tr>\n",
       "      <th>3</th>\n",
       "      <td>14</td>\n",
       "      <td>付延旭</td>\n",
       "      <td>克哈星</td>\n",
       "      <td>男</td>\n",
       "      <td>2003/10/11</td>\n",
       "    </tr>\n",
       "    <tr>\n",
       "      <th>4</th>\n",
       "      <td>15</td>\n",
       "      <td>王杰</td>\n",
       "      <td>查尔星</td>\n",
       "      <td>男</td>\n",
       "      <td>2002/6/12</td>\n",
       "    </tr>\n",
       "    <tr>\n",
       "      <th>5</th>\n",
       "      <td>16</td>\n",
       "      <td>董泽宇</td>\n",
       "      <td>塔桑尼斯</td>\n",
       "      <td>男</td>\n",
       "      <td>2002/2/12</td>\n",
       "    </tr>\n",
       "  </tbody>\n",
       "</table>\n",
       "</div>"
      ],
      "text/plain": [
       "   id name address gender    birthday\n",
       "0  11  朱梦雪     地球村      女   2004/11/2\n",
       "1  12  许文博     月亮星      女    2003/8/7\n",
       "2  13  张兆媛     艾尔星      女   2004/11/2\n",
       "3  14  付延旭     克哈星      男  2003/10/11\n",
       "4  15   王杰     查尔星      男   2002/6/12\n",
       "5  16  董泽宇    塔桑尼斯      男   2002/2/12"
      ]
     },
     "execution_count": 127,
     "metadata": {},
     "output_type": "execute_result"
    }
   ],
   "source": [
    "pd.read_csv('data\\students.csv', converters={\"id\": lambda x: int(x) + 10})"
   ]
  },
  {
   "cell_type": "markdown",
   "metadata": {},
   "source": [
    "    4.true_values和false_value：指定哪些值应该被清洗为True，哪些值被清洗为False。"
   ]
  },
  {
   "cell_type": "code",
   "execution_count": 129,
   "metadata": {},
   "outputs": [
    {
     "data": {
      "text/html": [
       "<div>\n",
       "<style scoped>\n",
       "    .dataframe tbody tr th:only-of-type {\n",
       "        vertical-align: middle;\n",
       "    }\n",
       "\n",
       "    .dataframe tbody tr th {\n",
       "        vertical-align: top;\n",
       "    }\n",
       "\n",
       "    .dataframe thead th {\n",
       "        text-align: right;\n",
       "    }\n",
       "</style>\n",
       "<table border=\"1\" class=\"dataframe\">\n",
       "  <thead>\n",
       "    <tr style=\"text-align: right;\">\n",
       "      <th></th>\n",
       "      <th>id</th>\n",
       "      <th>name</th>\n",
       "      <th>address</th>\n",
       "      <th>gender</th>\n",
       "      <th>birthday</th>\n",
       "    </tr>\n",
       "  </thead>\n",
       "  <tbody>\n",
       "    <tr>\n",
       "      <th>0</th>\n",
       "      <td>1</td>\n",
       "      <td>朱梦雪</td>\n",
       "      <td>地球村</td>\n",
       "      <td>False</td>\n",
       "      <td>2004/11/2</td>\n",
       "    </tr>\n",
       "    <tr>\n",
       "      <th>1</th>\n",
       "      <td>2</td>\n",
       "      <td>许文博</td>\n",
       "      <td>月亮星</td>\n",
       "      <td>False</td>\n",
       "      <td>2003/8/7</td>\n",
       "    </tr>\n",
       "    <tr>\n",
       "      <th>2</th>\n",
       "      <td>3</td>\n",
       "      <td>张兆媛</td>\n",
       "      <td>艾尔星</td>\n",
       "      <td>False</td>\n",
       "      <td>2004/11/2</td>\n",
       "    </tr>\n",
       "    <tr>\n",
       "      <th>3</th>\n",
       "      <td>4</td>\n",
       "      <td>付延旭</td>\n",
       "      <td>克哈星</td>\n",
       "      <td>True</td>\n",
       "      <td>2003/10/11</td>\n",
       "    </tr>\n",
       "    <tr>\n",
       "      <th>4</th>\n",
       "      <td>5</td>\n",
       "      <td>王杰</td>\n",
       "      <td>查尔星</td>\n",
       "      <td>True</td>\n",
       "      <td>2002/6/12</td>\n",
       "    </tr>\n",
       "    <tr>\n",
       "      <th>5</th>\n",
       "      <td>6</td>\n",
       "      <td>董泽宇</td>\n",
       "      <td>塔桑尼斯</td>\n",
       "      <td>True</td>\n",
       "      <td>2002/2/12</td>\n",
       "    </tr>\n",
       "  </tbody>\n",
       "</table>\n",
       "</div>"
      ],
      "text/plain": [
       "   id name address  gender    birthday\n",
       "0   1  朱梦雪     地球村   False   2004/11/2\n",
       "1   2  许文博     月亮星   False    2003/8/7\n",
       "2   3  张兆媛     艾尔星   False   2004/11/2\n",
       "3   4  付延旭     克哈星    True  2003/10/11\n",
       "4   5   王杰     查尔星    True   2002/6/12\n",
       "5   6  董泽宇    塔桑尼斯    True   2002/2/12"
      ]
     },
     "execution_count": 129,
     "metadata": {},
     "output_type": "execute_result"
    }
   ],
   "source": [
    "pd.read_csv('data\\students.csv', true_values=['男'], false_values=['女'])"
   ]
  },
  {
   "cell_type": "code",
   "execution_count": 131,
   "metadata": {},
   "outputs": [
    {
     "data": {
      "text/html": [
       "<div>\n",
       "<style scoped>\n",
       "    .dataframe tbody tr th:only-of-type {\n",
       "        vertical-align: middle;\n",
       "    }\n",
       "\n",
       "    .dataframe tbody tr th {\n",
       "        vertical-align: top;\n",
       "    }\n",
       "\n",
       "    .dataframe thead th {\n",
       "        text-align: right;\n",
       "    }\n",
       "</style>\n",
       "<table border=\"1\" class=\"dataframe\">\n",
       "  <thead>\n",
       "    <tr style=\"text-align: right;\">\n",
       "      <th></th>\n",
       "      <th>id</th>\n",
       "      <th>name</th>\n",
       "      <th>address</th>\n",
       "      <th>gender</th>\n",
       "      <th>birthday</th>\n",
       "    </tr>\n",
       "  </thead>\n",
       "  <tbody>\n",
       "    <tr>\n",
       "      <th>0</th>\n",
       "      <td>1</td>\n",
       "      <td>朱梦雪</td>\n",
       "      <td>地球村</td>\n",
       "      <td>女</td>\n",
       "      <td>2004/11/2</td>\n",
       "    </tr>\n",
       "    <tr>\n",
       "      <th>1</th>\n",
       "      <td>2</td>\n",
       "      <td>许文博</td>\n",
       "      <td>月亮星</td>\n",
       "      <td>女</td>\n",
       "      <td>2003/8/7</td>\n",
       "    </tr>\n",
       "    <tr>\n",
       "      <th>2</th>\n",
       "      <td>3</td>\n",
       "      <td>张兆媛</td>\n",
       "      <td>艾尔星</td>\n",
       "      <td>女</td>\n",
       "      <td>2004/11/2</td>\n",
       "    </tr>\n",
       "    <tr>\n",
       "      <th>3</th>\n",
       "      <td>4</td>\n",
       "      <td>付延旭</td>\n",
       "      <td>克哈星</td>\n",
       "      <td>男</td>\n",
       "      <td>2003/10/11</td>\n",
       "    </tr>\n",
       "    <tr>\n",
       "      <th>4</th>\n",
       "      <td>5</td>\n",
       "      <td>王杰</td>\n",
       "      <td>查尔星</td>\n",
       "      <td>男</td>\n",
       "      <td>2002/6/12</td>\n",
       "    </tr>\n",
       "    <tr>\n",
       "      <th>5</th>\n",
       "      <td>6</td>\n",
       "      <td>董泽宇</td>\n",
       "      <td>塔桑尼斯</td>\n",
       "      <td>男</td>\n",
       "      <td>2002/2/12</td>\n",
       "    </tr>\n",
       "  </tbody>\n",
       "</table>\n",
       "</div>"
      ],
      "text/plain": [
       "   id name address gender    birthday\n",
       "0   1  朱梦雪     地球村      女   2004/11/2\n",
       "1   2  许文博     月亮星      女    2003/8/7\n",
       "2   3  张兆媛     艾尔星      女   2004/11/2\n",
       "3   4  付延旭     克哈星      男  2003/10/11\n",
       "4   5   王杰     查尔星      男   2002/6/12\n",
       "5   6  董泽宇    塔桑尼斯      男   2002/2/12"
      ]
     },
     "execution_count": 131,
     "metadata": {},
     "output_type": "execute_result"
    }
   ],
   "source": [
    "pd.read_csv('data\\students.csv', true_values=['女'])"
   ]
  },
  {
   "cell_type": "markdown",
   "metadata": {},
   "source": [
    "这里的替换规则为，只有当某一列的数据类别全部出现在`true_values + false_values`里面，才会被替换。\n",
    "我们看到\"错\"并没有被替换成False，原因就是result字段中只有\"错\"这个类别的值在`true_values + false_values`中，而\"对\"并没有出现，所以不会替换。\n",
    "而最后的对、错都出现在了`true_values + false_values`中，所以全部被替换。"
   ]
  },
  {
   "cell_type": "markdown",
   "metadata": {},
   "source": [
    "    5、skiprows：表示过滤行，想过滤掉哪些行，就写在一个列表里面传递给skiprows即可。注意的是：这里是先过滤，然后再确定表头，比如："
   ]
  },
  {
   "cell_type": "code",
   "execution_count": 135,
   "metadata": {},
   "outputs": [
    {
     "data": {
      "text/html": [
       "<div>\n",
       "<style scoped>\n",
       "    .dataframe tbody tr th:only-of-type {\n",
       "        vertical-align: middle;\n",
       "    }\n",
       "\n",
       "    .dataframe tbody tr th {\n",
       "        vertical-align: top;\n",
       "    }\n",
       "\n",
       "    .dataframe thead th {\n",
       "        text-align: right;\n",
       "    }\n",
       "</style>\n",
       "<table border=\"1\" class=\"dataframe\">\n",
       "  <thead>\n",
       "    <tr style=\"text-align: right;\">\n",
       "      <th></th>\n",
       "      <th>id</th>\n",
       "      <th>name</th>\n",
       "      <th>address</th>\n",
       "      <th>gender</th>\n",
       "      <th>birthday</th>\n",
       "    </tr>\n",
       "  </thead>\n",
       "  <tbody>\n",
       "    <tr>\n",
       "      <th>0</th>\n",
       "      <td>2</td>\n",
       "      <td>许文博</td>\n",
       "      <td>月亮星</td>\n",
       "      <td>女</td>\n",
       "      <td>2003/8/7</td>\n",
       "    </tr>\n",
       "    <tr>\n",
       "      <th>1</th>\n",
       "      <td>4</td>\n",
       "      <td>付延旭</td>\n",
       "      <td>克哈星</td>\n",
       "      <td>男</td>\n",
       "      <td>2003/10/11</td>\n",
       "    </tr>\n",
       "    <tr>\n",
       "      <th>2</th>\n",
       "      <td>5</td>\n",
       "      <td>王杰</td>\n",
       "      <td>查尔星</td>\n",
       "      <td>男</td>\n",
       "      <td>2002/6/12</td>\n",
       "    </tr>\n",
       "    <tr>\n",
       "      <th>3</th>\n",
       "      <td>6</td>\n",
       "      <td>董泽宇</td>\n",
       "      <td>塔桑尼斯</td>\n",
       "      <td>男</td>\n",
       "      <td>2002/2/12</td>\n",
       "    </tr>\n",
       "  </tbody>\n",
       "</table>\n",
       "</div>"
      ],
      "text/plain": [
       "   id name address gender    birthday\n",
       "0   2  许文博     月亮星      女    2003/8/7\n",
       "1   4  付延旭     克哈星      男  2003/10/11\n",
       "2   5   王杰     查尔星      男   2002/6/12\n",
       "3   6  董泽宇    塔桑尼斯      男   2002/2/12"
      ]
     },
     "execution_count": 135,
     "metadata": {},
     "output_type": "execute_result"
    }
   ],
   "source": [
    "pd.read_csv('data\\students.csv', skiprows=[0])"
   ]
  },
  {
   "cell_type": "markdown",
   "metadata": {},
   "source": [
    "这里把第一行过滤掉了，因为第一行是表头，所以在过滤掉之后第二行就变成表头了。\n",
    "当然里面除了传入具体的数值，来表明要过滤掉哪些行，还可以传入一个函数。"
   ]
  },
  {
   "cell_type": "code",
   "execution_count": 136,
   "metadata": {},
   "outputs": [
    {
     "data": {
      "text/html": [
       "<div>\n",
       "<style scoped>\n",
       "    .dataframe tbody tr th:only-of-type {\n",
       "        vertical-align: middle;\n",
       "    }\n",
       "\n",
       "    .dataframe tbody tr th {\n",
       "        vertical-align: top;\n",
       "    }\n",
       "\n",
       "    .dataframe thead th {\n",
       "        text-align: right;\n",
       "    }\n",
       "</style>\n",
       "<table border=\"1\" class=\"dataframe\">\n",
       "  <thead>\n",
       "    <tr style=\"text-align: right;\">\n",
       "      <th></th>\n",
       "      <th>id</th>\n",
       "      <th>name</th>\n",
       "      <th>address</th>\n",
       "      <th>gender</th>\n",
       "      <th>birthday</th>\n",
       "    </tr>\n",
       "  </thead>\n",
       "  <tbody>\n",
       "    <tr>\n",
       "      <th>0</th>\n",
       "      <td>1</td>\n",
       "      <td>朱梦雪</td>\n",
       "      <td>地球村</td>\n",
       "      <td>女</td>\n",
       "      <td>2004/11/2</td>\n",
       "    </tr>\n",
       "    <tr>\n",
       "      <th>1</th>\n",
       "      <td>3</td>\n",
       "      <td>张兆媛</td>\n",
       "      <td>艾尔星</td>\n",
       "      <td>女</td>\n",
       "      <td>2004/11/2</td>\n",
       "    </tr>\n",
       "    <tr>\n",
       "      <th>2</th>\n",
       "      <td>5</td>\n",
       "      <td>王杰</td>\n",
       "      <td>查尔星</td>\n",
       "      <td>男</td>\n",
       "      <td>2002/6/12</td>\n",
       "    </tr>\n",
       "  </tbody>\n",
       "</table>\n",
       "</div>"
      ],
      "text/plain": [
       "   id name address gender   birthday\n",
       "0   1  朱梦雪     地球村      女  2004/11/2\n",
       "1   3  张兆媛     艾尔星      女  2004/11/2\n",
       "2   5   王杰     查尔星      男  2002/6/12"
      ]
     },
     "execution_count": 136,
     "metadata": {},
     "output_type": "execute_result"
    }
   ],
   "source": [
    "pd.read_csv('data\\students.csv', skiprows=lambda x: x > 0 and x % 2 == 0)"
   ]
  },
  {
   "cell_type": "markdown",
   "metadata": {},
   "source": [
    "由于索引从0开始，所以凡是索引大于0、并且%2等于0的记录都过滤掉。索引大于0，是为了保证表头不被过滤掉。"
   ]
  },
  {
   "cell_type": "markdown",
   "metadata": {},
   "source": [
    "    6、skipfooter：从文件末尾过滤行"
   ]
  },
  {
   "cell_type": "code",
   "execution_count": 140,
   "metadata": {},
   "outputs": [
    {
     "data": {
      "text/html": [
       "<div>\n",
       "<style scoped>\n",
       "    .dataframe tbody tr th:only-of-type {\n",
       "        vertical-align: middle;\n",
       "    }\n",
       "\n",
       "    .dataframe tbody tr th {\n",
       "        vertical-align: top;\n",
       "    }\n",
       "\n",
       "    .dataframe thead th {\n",
       "        text-align: right;\n",
       "    }\n",
       "</style>\n",
       "<table border=\"1\" class=\"dataframe\">\n",
       "  <thead>\n",
       "    <tr style=\"text-align: right;\">\n",
       "      <th></th>\n",
       "      <th>id</th>\n",
       "      <th>name</th>\n",
       "      <th>address</th>\n",
       "      <th>gender</th>\n",
       "      <th>birthday</th>\n",
       "    </tr>\n",
       "  </thead>\n",
       "  <tbody>\n",
       "    <tr>\n",
       "      <th>0</th>\n",
       "      <td>1</td>\n",
       "      <td>朱梦雪</td>\n",
       "      <td>地球村</td>\n",
       "      <td>女</td>\n",
       "      <td>2004/11/2</td>\n",
       "    </tr>\n",
       "    <tr>\n",
       "      <th>1</th>\n",
       "      <td>2</td>\n",
       "      <td>许文博</td>\n",
       "      <td>月亮星</td>\n",
       "      <td>女</td>\n",
       "      <td>2003/8/7</td>\n",
       "    </tr>\n",
       "    <tr>\n",
       "      <th>2</th>\n",
       "      <td>3</td>\n",
       "      <td>张兆媛</td>\n",
       "      <td>艾尔星</td>\n",
       "      <td>女</td>\n",
       "      <td>2004/11/2</td>\n",
       "    </tr>\n",
       "    <tr>\n",
       "      <th>3</th>\n",
       "      <td>4</td>\n",
       "      <td>付延旭</td>\n",
       "      <td>克哈星</td>\n",
       "      <td>男</td>\n",
       "      <td>2003/10/11</td>\n",
       "    </tr>\n",
       "    <tr>\n",
       "      <th>4</th>\n",
       "      <td>5</td>\n",
       "      <td>王杰</td>\n",
       "      <td>查尔星</td>\n",
       "      <td>男</td>\n",
       "      <td>2002/6/12</td>\n",
       "    </tr>\n",
       "  </tbody>\n",
       "</table>\n",
       "</div>"
      ],
      "text/plain": [
       "   id name address gender    birthday\n",
       "0   1  朱梦雪     地球村      女   2004/11/2\n",
       "1   2  许文博     月亮星      女    2003/8/7\n",
       "2   3  张兆媛     艾尔星      女   2004/11/2\n",
       "3   4  付延旭     克哈星      男  2003/10/11\n",
       "4   5   王杰     查尔星      男   2002/6/12"
      ]
     },
     "execution_count": 140,
     "metadata": {},
     "output_type": "execute_result"
    }
   ],
   "source": [
    "pd.read_csv('data\\students.csv', skipfooter=1, engine=\"python\", encoding=\"utf-8\")"
   ]
  },
  {
   "cell_type": "markdown",
   "metadata": {},
   "source": [
    " pandas解析数据时用的引擎，目前解析引擎有两种：c、python。默认为 c，因为 c 引擎解析速度更快，但是特性没有 python 引擎全"
   ]
  },
  {
   "cell_type": "markdown",
   "metadata": {},
   "source": [
    " skipfooter接收整型，表示从结尾往上过滤掉指定数量的行，因为引擎退化为python，那么要手动指定engine=\"python\"，不然会警告。另外需要指定encoding=\"utf-8\"，因为csv存在编码问题，当引擎退化为python的时候，在Windows上读取会乱码。"
   ]
  },
  {
   "cell_type": "markdown",
   "metadata": {},
   "source": [
    "    7、nrows：设置一次性读入的文件行数，在读入大文件时很有用，比如 16G 内存的PC无法容纳几百 G 的大文件。"
   ]
  },
  {
   "cell_type": "code",
   "execution_count": 141,
   "metadata": {},
   "outputs": [
    {
     "data": {
      "text/html": [
       "<div>\n",
       "<style scoped>\n",
       "    .dataframe tbody tr th:only-of-type {\n",
       "        vertical-align: middle;\n",
       "    }\n",
       "\n",
       "    .dataframe tbody tr th {\n",
       "        vertical-align: top;\n",
       "    }\n",
       "\n",
       "    .dataframe thead th {\n",
       "        text-align: right;\n",
       "    }\n",
       "</style>\n",
       "<table border=\"1\" class=\"dataframe\">\n",
       "  <thead>\n",
       "    <tr style=\"text-align: right;\">\n",
       "      <th></th>\n",
       "      <th>id</th>\n",
       "      <th>name</th>\n",
       "      <th>address</th>\n",
       "      <th>gender</th>\n",
       "      <th>birthday</th>\n",
       "    </tr>\n",
       "  </thead>\n",
       "  <tbody>\n",
       "    <tr>\n",
       "      <th>0</th>\n",
       "      <td>1</td>\n",
       "      <td>朱梦雪</td>\n",
       "      <td>地球村</td>\n",
       "      <td>女</td>\n",
       "      <td>2004/11/2</td>\n",
       "    </tr>\n",
       "  </tbody>\n",
       "</table>\n",
       "</div>"
      ],
      "text/plain": [
       "   id name address gender   birthday\n",
       "0   1  朱梦雪     地球村      女  2004/11/2"
      ]
     },
     "execution_count": 141,
     "metadata": {},
     "output_type": "execute_result"
    }
   ],
   "source": [
    "pd.read_csv('data\\students.csv', nrows=1)"
   ]
  },
  {
   "cell_type": "markdown",
   "metadata": {},
   "source": [
    "### 三、空值处理相关参数"
   ]
  },
  {
   "cell_type": "markdown",
   "metadata": {},
   "source": [
    "    na_values：该参数可以配置哪些值需要处理成 NaN："
   ]
  },
  {
   "cell_type": "code",
   "execution_count": 143,
   "metadata": {},
   "outputs": [
    {
     "data": {
      "text/html": [
       "<div>\n",
       "<style scoped>\n",
       "    .dataframe tbody tr th:only-of-type {\n",
       "        vertical-align: middle;\n",
       "    }\n",
       "\n",
       "    .dataframe tbody tr th {\n",
       "        vertical-align: top;\n",
       "    }\n",
       "\n",
       "    .dataframe thead th {\n",
       "        text-align: right;\n",
       "    }\n",
       "</style>\n",
       "<table border=\"1\" class=\"dataframe\">\n",
       "  <thead>\n",
       "    <tr style=\"text-align: right;\">\n",
       "      <th></th>\n",
       "      <th>id</th>\n",
       "      <th>name</th>\n",
       "      <th>address</th>\n",
       "      <th>gender</th>\n",
       "      <th>birthday</th>\n",
       "    </tr>\n",
       "  </thead>\n",
       "  <tbody>\n",
       "    <tr>\n",
       "      <th>0</th>\n",
       "      <td>1</td>\n",
       "      <td>NaN</td>\n",
       "      <td>地球村</td>\n",
       "      <td>NaN</td>\n",
       "      <td>2004/11/2</td>\n",
       "    </tr>\n",
       "    <tr>\n",
       "      <th>1</th>\n",
       "      <td>2</td>\n",
       "      <td>许文博</td>\n",
       "      <td>月亮星</td>\n",
       "      <td>NaN</td>\n",
       "      <td>2003/8/7</td>\n",
       "    </tr>\n",
       "    <tr>\n",
       "      <th>2</th>\n",
       "      <td>3</td>\n",
       "      <td>张兆媛</td>\n",
       "      <td>艾尔星</td>\n",
       "      <td>NaN</td>\n",
       "      <td>2004/11/2</td>\n",
       "    </tr>\n",
       "    <tr>\n",
       "      <th>3</th>\n",
       "      <td>4</td>\n",
       "      <td>付延旭</td>\n",
       "      <td>克哈星</td>\n",
       "      <td>男</td>\n",
       "      <td>2003/10/11</td>\n",
       "    </tr>\n",
       "    <tr>\n",
       "      <th>4</th>\n",
       "      <td>5</td>\n",
       "      <td>王杰</td>\n",
       "      <td>查尔星</td>\n",
       "      <td>男</td>\n",
       "      <td>2002/6/12</td>\n",
       "    </tr>\n",
       "    <tr>\n",
       "      <th>5</th>\n",
       "      <td>6</td>\n",
       "      <td>董泽宇</td>\n",
       "      <td>塔桑尼斯</td>\n",
       "      <td>男</td>\n",
       "      <td>2002/2/12</td>\n",
       "    </tr>\n",
       "  </tbody>\n",
       "</table>\n",
       "</div>"
      ],
      "text/plain": [
       "   id name address gender    birthday\n",
       "0   1  NaN     地球村    NaN   2004/11/2\n",
       "1   2  许文博     月亮星    NaN    2003/8/7\n",
       "2   3  张兆媛     艾尔星    NaN   2004/11/2\n",
       "3   4  付延旭     克哈星      男  2003/10/11\n",
       "4   5   王杰     查尔星      男   2002/6/12\n",
       "5   6  董泽宇    塔桑尼斯      男   2002/2/12"
      ]
     },
     "execution_count": 143,
     "metadata": {},
     "output_type": "execute_result"
    }
   ],
   "source": [
    "pd.read_csv('data\\students.csv', na_values=[\"女\", \"朱梦雪\"])"
   ]
  },
  {
   "cell_type": "markdown",
   "metadata": {},
   "source": [
    "可以看到将\"女\"和\"朱梦雪\"设置成了NaN，这里的情况是不同的列中包含了不同的值。"
   ]
  },
  {
   "cell_type": "markdown",
   "metadata": {},
   "source": [
    "### 四、时间处理相关参数\n"
   ]
  },
  {
   "cell_type": "markdown",
   "metadata": {},
   "source": [
    "    1、parse_dates：指定某些列为时间类型，这个参数一般搭配date_parser使用。\n",
    "\n",
    "    2、date_parser：是用来配合parse_dates参数的，因为有的列虽然是日期，但没办法直接转化，需要我们指定一个解析格式："
   ]
  },
  {
   "cell_type": "code",
   "execution_count": 154,
   "metadata": {},
   "outputs": [
    {
     "data": {
      "text/html": [
       "<div>\n",
       "<style scoped>\n",
       "    .dataframe tbody tr th:only-of-type {\n",
       "        vertical-align: middle;\n",
       "    }\n",
       "\n",
       "    .dataframe tbody tr th {\n",
       "        vertical-align: top;\n",
       "    }\n",
       "\n",
       "    .dataframe thead th {\n",
       "        text-align: right;\n",
       "    }\n",
       "</style>\n",
       "<table border=\"1\" class=\"dataframe\">\n",
       "  <thead>\n",
       "    <tr style=\"text-align: right;\">\n",
       "      <th></th>\n",
       "      <th>id</th>\n",
       "      <th>name</th>\n",
       "      <th>address</th>\n",
       "      <th>gender</th>\n",
       "      <th>birthday</th>\n",
       "    </tr>\n",
       "  </thead>\n",
       "  <tbody>\n",
       "    <tr>\n",
       "      <th>0</th>\n",
       "      <td>1</td>\n",
       "      <td>朱梦雪</td>\n",
       "      <td>地球村</td>\n",
       "      <td>女</td>\n",
       "      <td>2004-11-02</td>\n",
       "    </tr>\n",
       "    <tr>\n",
       "      <th>1</th>\n",
       "      <td>2</td>\n",
       "      <td>许文博</td>\n",
       "      <td>月亮星</td>\n",
       "      <td>女</td>\n",
       "      <td>2003-08-07</td>\n",
       "    </tr>\n",
       "    <tr>\n",
       "      <th>2</th>\n",
       "      <td>3</td>\n",
       "      <td>张兆媛</td>\n",
       "      <td>艾尔星</td>\n",
       "      <td>女</td>\n",
       "      <td>2004-11-02</td>\n",
       "    </tr>\n",
       "    <tr>\n",
       "      <th>3</th>\n",
       "      <td>4</td>\n",
       "      <td>付延旭</td>\n",
       "      <td>克哈星</td>\n",
       "      <td>男</td>\n",
       "      <td>2003-10-11</td>\n",
       "    </tr>\n",
       "    <tr>\n",
       "      <th>4</th>\n",
       "      <td>5</td>\n",
       "      <td>王杰</td>\n",
       "      <td>查尔星</td>\n",
       "      <td>男</td>\n",
       "      <td>2002-06-12</td>\n",
       "    </tr>\n",
       "    <tr>\n",
       "      <th>5</th>\n",
       "      <td>6</td>\n",
       "      <td>董泽宇</td>\n",
       "      <td>塔桑尼斯</td>\n",
       "      <td>男</td>\n",
       "      <td>2002-02-12</td>\n",
       "    </tr>\n",
       "  </tbody>\n",
       "</table>\n",
       "</div>"
      ],
      "text/plain": [
       "   id name address gender   birthday\n",
       "0   1  朱梦雪     地球村      女 2004-11-02\n",
       "1   2  许文博     月亮星      女 2003-08-07\n",
       "2   3  张兆媛     艾尔星      女 2004-11-02\n",
       "3   4  付延旭     克哈星      男 2003-10-11\n",
       "4   5   王杰     查尔星      男 2002-06-12\n",
       "5   6  董泽宇    塔桑尼斯      男 2002-02-12"
      ]
     },
     "execution_count": 154,
     "metadata": {},
     "output_type": "execute_result"
    }
   ],
   "source": [
    "df = pd.read_csv('data\\students.csv', parse_dates=[\"birthday\"])\n",
    "df"
   ]
  },
  {
   "cell_type": "code",
   "execution_count": 158,
   "metadata": {},
   "outputs": [
    {
     "data": {
      "text/plain": [
       "id                   int64\n",
       "name                object\n",
       "address             object\n",
       "gender              object\n",
       "birthday    datetime64[ns]\n",
       "dtype: object"
      ]
     },
     "execution_count": 158,
     "metadata": {},
     "output_type": "execute_result"
    }
   ],
   "source": [
    "df.dtypes"
   ]
  },
  {
   "cell_type": "code",
   "execution_count": 165,
   "metadata": {},
   "outputs": [
    {
     "name": "stdout",
     "output_type": "stream",
     "text": [
      "   id name address gender     birthday\n",
      "0   1  朱梦雪     地球村      女   2004年11月2日\n",
      "1   2  许文博     月亮星      女    2003年8月7日\n",
      "2   3  张兆媛     艾尔星      女   2004年11月2日\n",
      "3   4  付延旭     克哈星      男  2003年10月11日\n",
      "4   5   王杰     查尔星      男   2002年6月12日\n",
      "5   6  董泽宇    塔桑尼斯      男   2002年2月12日\n"
     ]
    },
    {
     "data": {
      "text/plain": [
       "id           int64\n",
       "name        object\n",
       "address     object\n",
       "gender      object\n",
       "birthday    object\n",
       "dtype: object"
      ]
     },
     "execution_count": 165,
     "metadata": {},
     "output_type": "execute_result"
    }
   ],
   "source": [
    "df2 = pd.read_csv('data\\students_年月日.csv', parse_dates=[\"birthday\"])\n",
    "print(df2)\n",
    "df2.dtypes"
   ]
  },
  {
   "cell_type": "code",
   "execution_count": 167,
   "metadata": {},
   "outputs": [
    {
     "name": "stdout",
     "output_type": "stream",
     "text": [
      "   id name address gender   birthday\n",
      "0   1  朱梦雪     地球村      女 2004-11-02\n",
      "1   2  许文博     月亮星      女 2003-08-07\n",
      "2   3  张兆媛     艾尔星      女 2004-11-02\n",
      "3   4  付延旭     克哈星      男 2003-10-11\n",
      "4   5   王杰     查尔星      男 2002-06-12\n",
      "5   6  董泽宇    塔桑尼斯      男 2002-02-12\n"
     ]
    },
    {
     "data": {
      "text/plain": [
       "id                   int64\n",
       "name                object\n",
       "address             object\n",
       "gender              object\n",
       "birthday    datetime64[ns]\n",
       "dtype: object"
      ]
     },
     "execution_count": 167,
     "metadata": {},
     "output_type": "execute_result"
    }
   ],
   "source": [
    "import pandas as pd\n",
    "from datetime import datetime\n",
    "\n",
    "df2 = pd.read_csv('data\\students_年月日.csv', parse_dates=[\"birthday\"], date_parser=lambda x: datetime.strptime(x, \"%Y年%m月%d日\"))\n",
    "print(df2)\n",
    "df2.dtypes"
   ]
  },
  {
   "cell_type": "markdown",
   "metadata": {},
   "source": [
    "### 五、分块读入相关参数"
   ]
  },
  {
   "cell_type": "markdown",
   "metadata": {},
   "source": [
    "    1、iterator：迭代器, iterator 为 bool类型，默认为False。如果为True，那么返回一个 TextFileReader 对象，以便逐块处理文件。这个在文件很大、内存无法容纳所有数据文件时，可以分批读入，依次处理。"
   ]
  },
  {
   "cell_type": "code",
   "execution_count": 175,
   "metadata": {},
   "outputs": [
    {
     "data": {
      "text/plain": [
       "<pandas.io.parsers.TextFileReader at 0x1f54b25d148>"
      ]
     },
     "execution_count": 175,
     "metadata": {},
     "output_type": "execute_result"
    }
   ],
   "source": [
    "chunk = pd.read_csv('data\\students.csv', iterator=True)\n",
    "chunk"
   ]
  },
  {
   "cell_type": "code",
   "execution_count": 176,
   "metadata": {},
   "outputs": [
    {
     "name": "stdout",
     "output_type": "stream",
     "text": [
      "   id name address gender   birthday\n",
      "0   1  朱梦雪     地球村      女  2004/11/2\n",
      "1   2  许文博     月亮星      女   2003/8/7\n"
     ]
    }
   ],
   "source": [
    "print(chunk.get_chunk(2))"
   ]
  },
  {
   "cell_type": "code",
   "execution_count": 177,
   "metadata": {},
   "outputs": [
    {
     "name": "stdout",
     "output_type": "stream",
     "text": [
      "   id name address gender    birthday\n",
      "2   3  张兆媛     艾尔星      女   2004/11/2\n",
      "3   4  付延旭     克哈星      男  2003/10/11\n",
      "4   5   王杰     查尔星      男   2002/6/12\n",
      "5   6  董泽宇    塔桑尼斯      男   2002/2/12\n"
     ]
    }
   ],
   "source": [
    "# 文件还剩下三行，但是我们指定读取100，那么也不会报错，不够指定的行数，那么有多少返回多少\n",
    "print(chunk.get_chunk(100))"
   ]
  },
  {
   "cell_type": "code",
   "execution_count": 179,
   "metadata": {},
   "outputs": [
    {
     "name": "stdout",
     "output_type": "stream",
     "text": [
      "读取完毕\n"
     ]
    }
   ],
   "source": [
    "try:\n",
    "    # 但是在读取完毕之后，再读的话就会报错了\n",
    "    chunk.get_chunk(5)\n",
    "except StopIteration as e:\n",
    "    print(\"读取完毕\")\n",
    "# 读取完毕"
   ]
  },
  {
   "cell_type": "markdown",
   "metadata": {},
   "source": [
    "    2、chunksize：整型，默认为 None，设置文件块的大小。"
   ]
  },
  {
   "cell_type": "code",
   "execution_count": 180,
   "metadata": {},
   "outputs": [
    {
     "name": "stdout",
     "output_type": "stream",
     "text": [
      "<pandas.io.parsers.TextFileReader object at 0x000001F54B252A48>\n",
      "   id name address gender   birthday\n",
      "0   1  朱梦雪     地球村      女  2004/11/2\n",
      "1   2  许文博     月亮星      女   2003/8/7\n"
     ]
    }
   ],
   "source": [
    "chunk = pd.read_csv('data\\students.csv', chunksize=2)\n",
    "# 还是返回一个类似于迭代器的对象\n",
    "print(chunk)  \n",
    "# <pandas.io.parsers.TextFileReader object at 0x0000025501143AF0>\n",
    "\n",
    "# 调用get_chunk，如果不指定行数，那么就是默认的chunksize\n",
    "print(chunk.get_chunk())"
   ]
  },
  {
   "cell_type": "code",
   "execution_count": 181,
   "metadata": {},
   "outputs": [
    {
     "name": "stdout",
     "output_type": "stream",
     "text": [
      "   id name address gender    birthday\n",
      "2   3  张兆媛     艾尔星      女   2004/11/2\n",
      "3   4  付延旭     克哈星      男  2003/10/11\n",
      "4   5   王杰     查尔星      男   2002/6/12\n",
      "5   6  董泽宇    塔桑尼斯      男   2002/2/12\n"
     ]
    }
   ],
   "source": [
    "# 也可以指定\n",
    "print(chunk.get_chunk(100))"
   ]
  },
  {
   "cell_type": "code",
   "execution_count": 182,
   "metadata": {},
   "outputs": [
    {
     "name": "stdout",
     "output_type": "stream",
     "text": [
      "读取完毕\n"
     ]
    }
   ],
   "source": [
    "try:\n",
    "    chunk.get_chunk(5)\n",
    "except StopIteration as e:\n",
    "    print(\"读取完毕\")\n",
    "# 读取完毕  "
   ]
  },
  {
   "cell_type": "markdown",
   "metadata": {},
   "source": [
    "> 以上便是pandas的read_csv函数中绝大部分参数了，同时其中的部分参数也适用于读取其它类型的文件。\n",
    "其实在读取csv文件时所使用的参数不多，很多参数平常我们都不会用到的，不过不妨碍我们了解一下，因为在某些特定的场景下它们是可以很方便地帮我们解决一些问题的。个人感觉分块读取这个参数最近在工作中提高了很大的效率。\n",
    "上面列到的read_csv函数中的参数并不是全部，有几个还没有介绍到"
   ]
  },
  {
   "cell_type": "code",
   "execution_count": null,
   "metadata": {},
   "outputs": [],
   "source": []
  }
 ],
 "metadata": {
  "kernelspec": {
   "display_name": "Python 3",
   "language": "python",
   "name": "python3"
  },
  "language_info": {
   "codemirror_mode": {
    "name": "ipython",
    "version": 3
   },
   "file_extension": ".py",
   "mimetype": "text/x-python",
   "name": "python",
   "nbconvert_exporter": "python",
   "pygments_lexer": "ipython3",
   "version": "3.7.6"
  }
 },
 "nbformat": 4,
 "nbformat_minor": 4
}
