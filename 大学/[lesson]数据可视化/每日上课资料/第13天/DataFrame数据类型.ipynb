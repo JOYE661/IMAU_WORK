{
 "cells": [
  {
   "cell_type": "markdown",
   "metadata": {},
   "source": [
    "# DataFrame数据类型"
   ]
  },
  {
   "cell_type": "markdown",
   "metadata": {},
   "source": [
    "DataFrame 是 Pandas 的重要数据结构之一，也是在使用 Pandas 进行数据分析过程中最常用的结构之一，可以这么说，掌握了 DataFrame 的用法，你就拥有了学习数据分析的基本能力。\n",
    "\n",
    "### 认识DataFrame结构\n",
    " \n",
    "DataFrame 一个表格型的数据结构，既有行标签（index），又有列标签（columns），它也被称异构数据表，所谓异构，指的是表格中每列的数据类型可以不同，比如可以是字符串、整型或者浮点型等。其结构图示意图，如下所示：\n",
    "\n",
    "<img src=\"images/154931A54-0.gif\">\n"
   ]
  },
  {
   "cell_type": "markdown",
   "metadata": {},
   "source": [
    "表格中展示了某个销售团队个人信息和绩效评级（rating）的相关数据。数据以行和列形式来表示，其中每一列表示一个属性，而每一行表示一个条目的信息。\n",
    "\n",
    "下表展示了上述表格中每一列标签所描述数据的数据类型，如下所示：\n",
    "\n",
    "<img src=\"images/20220407223504.png\" />\n"
   ]
  },
  {
   "cell_type": "markdown",
   "metadata": {},
   "source": [
    "DataFrame 的每一列数据都可以看成一个 Series 结构，只不过，DataFrame 为每列数据值增加了一个列标签。因此 DataFrame 其实是从 Series 的基础上演变而来,并且他们有相同的标签,在数据分析任务中 DataFrame 的应用非常广泛，因为它描述数据的更为清晰、直观。\n",
    "\n",
    "通过示例对  DataFrame 结构做进一步讲解。 下面展示了一张学生评分表，如下所示：\n",
    "<img src=\"images/20220407230833.png\">"
   ]
  },
  {
   "cell_type": "markdown",
   "metadata": {},
   "source": [
    "同 Series 一样，DataFrame 自带行标签索引，默认为“隐式索引”即从 0 开始依次递增，行标签与 DataFrame 中的数据项一一对应。上述表格的行标签从 0 到 3，共记录了 4 条数据（图中将行标签省略）。当然你也可以用“显式索引”的方式来设置行标签。\n",
    "\n",
    "下面对 DataFrame 数据结构的特点做简单地总结，如下所示：\n",
    "\n",
    "- DataFrame 每一列的标签值允许使用不同的数据类型；\n",
    "- DataFrame 是表格型的数据结构，具有行和列；\n",
    "- DataFrame 中的每个数据值都可以被修改。\n",
    "- DataFrame 结构的行数、列数允许增加或者删除；\n",
    "- DataFrame 有两个方向的标签轴，分别是行标签和列标签；\n",
    "- DataFrame 可以对行和列执行算术运算。\n"
   ]
  },
  {
   "cell_type": "markdown",
   "metadata": {},
   "source": [
    "## 创建DataFrame对象\n",
    "`pandas.DataFrame(data=None, index=None, columns=None, dtype=None, copy=None)`\n",
    "\n",
    "- data: 输入的数据，可以是 ndarray，series，list，dict，标量以及一个 DataFrame\n",
    "- index: 行标签，如果没有传递 index 值，则默认行标签是 RangeIndex(0, 1, 2, …, n)，n 代表 data 的元素个数。\n",
    "- columns: 列标签，如果没有传递 columns 值，则默认列标签是 RangeIndex(0, 1, 2, …, n)。\n",
    "- dtype: 要强制的数据类型。只允许使用一种数据类型。如果没有，自行推断\n",
    "- copy:  从输入复制数据。对于dict数据，copy=True,重新复制一份。对于DataFrame或ndarray输入，类似于copy=False,使用的是试图"
   ]
  },
  {
   "cell_type": "markdown",
   "metadata": {},
   "source": [
    "### Pandas DataFrame 是一个二维的数组结构，类似二维数组。"
   ]
  },
  {
   "cell_type": "code",
   "execution_count": 1,
   "metadata": {},
   "outputs": [],
   "source": [
    "# 引入numpy和pandas\n",
    "import numpy as np\n",
    "\n",
    "import pandas as pd"
   ]
  },
  {
   "cell_type": "markdown",
   "metadata": {},
   "source": [
    "<b>1. 使用普通列表创建</b>"
   ]
  },
  {
   "cell_type": "code",
   "execution_count": 2,
   "metadata": {},
   "outputs": [
    {
     "name": "stdout",
     "output_type": "stream",
     "text": [
      "   0\n",
      "0  1\n",
      "1  2\n",
      "2  3\n",
      "3  4\n",
      "4  5\n"
     ]
    }
   ],
   "source": [
    "data = [1,2,3,4,5]\n",
    "df = pd.DataFrame(data)\n",
    "print(df)"
   ]
  },
  {
   "cell_type": "code",
   "execution_count": 3,
   "metadata": {},
   "outputs": [
    {
     "name": "stdout",
     "output_type": "stream",
     "text": [
      "0    1\n",
      "1    2\n",
      "2    3\n",
      "3    4\n",
      "4    5\n",
      "dtype: int64\n"
     ]
    }
   ],
   "source": [
    "data = [1,2,3,4,5]\n",
    "df = pd.Series(data)\n",
    "print(df)"
   ]
  },
  {
   "cell_type": "markdown",
   "metadata": {},
   "source": [
    "<b>2. 使用嵌套列表创建</b>"
   ]
  },
  {
   "cell_type": "code",
   "execution_count": 4,
   "metadata": {
    "scrolled": true
   },
   "outputs": [
    {
     "name": "stdout",
     "output_type": "stream",
     "text": [
      "          0   1\n",
      "0  xiaowang  20\n",
      "1      Lily  30\n",
      "2      Anne  40\n"
     ]
    }
   ],
   "source": [
    "# 列表中每个元素代表一行数据\n",
    "data = [['xiaowang',20],['Lily',30],['Anne',40]]\n",
    "# 未分配列标签\n",
    "df = pd.DataFrame(data)\n",
    "\n",
    "print(df)"
   ]
  },
  {
   "cell_type": "code",
   "execution_count": null,
   "metadata": {},
   "outputs": [],
   "source": [
    "data = [['xiaowang',20],['Lily',30],['Anne',40]]\n",
    "# 分配列标签\n",
    "df = pd.DataFrame(data,columns=['Name','Age'])\n",
    "\n",
    "print(df)"
   ]
  },
  {
   "cell_type": "markdown",
   "metadata": {},
   "source": [
    "<b>3  指定数值元素的数据类型为 float：\n",
    "- 需要注意,dtype只能设置一个, 设置多个列的数据类型,需要使用其他方式"
   ]
  },
  {
   "cell_type": "code",
   "execution_count": null,
   "metadata": {},
   "outputs": [],
   "source": [
    "data = [['xiaowang', 20, \"男\", 5000],['Lily', 30, \"男\", 8000],['Anne', 40, \"女\", 10000]]\n",
    "# 分配列标签 \n",
    "df = pd.DataFrame(data,columns=['Name','Age',\"gender\", \"salary\"], dtype=int)\n",
    "# int满足某列特征,会自动使用, 不满足,则自动识别\n",
    "print(df)"
   ]
  },
  {
   "cell_type": "code",
   "execution_count": 6,
   "metadata": {},
   "outputs": [
    {
     "name": "stdout",
     "output_type": "stream",
     "text": [
      "       Name  Age gender   salary\n",
      "0  xiaowang   20      男   5000.5\n",
      "1      Lily   30      男   8000.0\n",
      "2      Anne   40      女  10000.0\n",
      "float64\n"
     ]
    }
   ],
   "source": [
    "data = [['xiaowang', 20, \"男\", 5000.50],['Lily', 30, \"男\", 8000],['Anne', 40, \"女\", 10000]]\n",
    "# 分配列标签 \n",
    "#df = pd.DataFrame(data,columns=['Name','Age',\"gender\", \"salary\"], dtype=[str,int,str,float])  #错误\n",
    "df = pd.DataFrame(data, columns=['Name','Age',\"gender\", \"salary\"], dtype=int)\n",
    "# int满足某列特征,会自动使用, 不满足,则自动识别\n",
    "print(df)\n",
    "\n",
    "print(df['salary'].dtype)"
   ]
  },
  {
   "cell_type": "markdown",
   "metadata": {},
   "source": [
    "<b>4. 字典嵌套列表创建</b>\n",
    "\n",
    "data 字典中，键对应的值的元素长度必须相同（也就是列表长度相同）。如果传递了索引，那么索引的长度应该等于数组的长度；如果没有传递索引，那么默认情况下，索引将是 RangeIndex(0.1...n)，其中 n 代表数组长度。"
   ]
  },
  {
   "cell_type": "code",
   "execution_count": 9,
   "metadata": {},
   "outputs": [
    {
     "name": "stdout",
     "output_type": "stream",
     "text": [
      "  Name  Age\n",
      "0   关羽   28\n",
      "1   刘备   34\n",
      "2   张飞   29\n",
      "3   曹操   42\n",
      "RangeIndex(start=0, stop=4, step=1)\n",
      "Index(['Name', 'Age'], dtype='object')\n"
     ]
    }
   ],
   "source": [
    "# 字典.3.6之前是没有的 key--->values  变量: 变量携带数据位置\n",
    "\n",
    "# 3.7以后是有顺序的.\n",
    "data = {'Name':['关羽', '刘备', '张飞', '曹操'],'Age':[28,34,29,42]}\n",
    "# 通过字典创建DataFrame\n",
    "df = pd.DataFrame(data)\n",
    "print(df)\n",
    "# 输入行标签\n",
    "print(df.index)\n",
    "# 输入列表区\n",
    "print(df.columns)"
   ]
  },
  {
   "cell_type": "markdown",
   "metadata": {},
   "source": [
    "> 注意：这里使用了默认行标签，也就是 RangeIndex(0.1...n)。它生成了 0,1,2,3，并分别对应了列表中的每个元素值。"
   ]
  },
  {
   "cell_type": "markdown",
   "metadata": {},
   "source": [
    "<b>5. 添加自定义的行标签</b>"
   ]
  },
  {
   "cell_type": "code",
   "execution_count": 10,
   "metadata": {},
   "outputs": [
    {
     "name": "stdout",
     "output_type": "stream",
     "text": [
      "      Name  Age\n",
      "rank1   关羽   28\n",
      "rank2   刘备   34\n",
      "rank3   张飞   29\n",
      "rank4   曹操   42\n",
      "Index(['rank1', 'rank2', 'rank3', 'rank4'], dtype='object')\n",
      "Index(['Name', 'Age'], dtype='object')\n"
     ]
    }
   ],
   "source": [
    "# 字典\n",
    "data = {'Name':['关羽', '刘备', '张飞', '曹操'],'Age':[28,34,29,42]}\n",
    "# 定义行标签\n",
    "index = [\"rank1\", \"rank2\", \"rank3\", \"rank4\"]\n",
    "# 通过字典创建DataFrame\n",
    "df = pd.DataFrame(data, index=index)\n",
    "print(df)\n",
    "# 输入行标签\n",
    "print(df.index)\n",
    "# 输出列表标签\n",
    "print(df.columns)\n"
   ]
  },
  {
   "cell_type": "markdown",
   "metadata": {},
   "source": [
    "<b>6. 列表嵌套字典创建DataFrame对象</b>\n",
    "\n",
    "列表嵌套字典可以作为输入数据传递给 DataFrame 构造函数。默认情况下，字典的键被用作列名。"
   ]
  },
  {
   "cell_type": "code",
   "execution_count": 11,
   "metadata": {},
   "outputs": [
    {
     "name": "stdout",
     "output_type": "stream",
     "text": [
      "        a   b     c\n",
      "first   1   2   NaN\n",
      "second  5  10  20.0\n"
     ]
    }
   ],
   "source": [
    "\n",
    "data = [{'a': 1, 'b': 2},{'a': 5, 'b': 10, 'c': 20}]\n",
    "#df = pd.DataFrame(data)\n",
    "df = pd.DataFrame(data, index=['first', 'second'])\n",
    "\n",
    "print(df)"
   ]
  },
  {
   "cell_type": "code",
   "execution_count": 19,
   "metadata": {},
   "outputs": [
    {
     "name": "stdout",
     "output_type": "stream",
     "text": [
      "        a   b     c\n",
      "first   1   2   NaN\n",
      "second  5  10  20.0\n"
     ]
    }
   ],
   "source": [
    "data = ({'a': 1, 'b': 2},{'a': 5, 'b': 10, 'c': 20})\n",
    "#df = pd.DataFrame(data)\n",
    "df = pd.DataFrame(data, index=['first', 'second'])\n",
    "\n",
    "print(df)"
   ]
  },
  {
   "cell_type": "markdown",
   "metadata": {},
   "source": [
    "<font color=\"red\">注意：如果其中某个元素值缺失，也就是字典的 key 无法找到对应的 value，将使用 NaN 代替。</font>"
   ]
  },
  {
   "cell_type": "markdown",
   "metadata": {},
   "source": [
    "如何使用列表嵌套字典创建一个 DataFrame 对象,可以设置结果需要那些列"
   ]
  },
  {
   "cell_type": "code",
   "execution_count": 12,
   "metadata": {
    "scrolled": true
   },
   "outputs": [
    {
     "name": "stdout",
     "output_type": "stream",
     "text": [
      "===========df1============\n",
      "        a   b\n",
      "first   1   2\n",
      "second  5  10\n",
      "===========df2============\n",
      "        a  b1\n",
      "first   1 NaN\n",
      "second  5 NaN\n"
     ]
    }
   ],
   "source": [
    "data = [{'a': 1, 'b': 2},{'a': 5, 'b': 10, 'c': 20}]\n",
    "df1 = pd.DataFrame(data, index=['first', 'second'], columns=['a', 'b'])\n",
    "\n",
    "# 注意：因为 b1 在字典键中不存在，所以对应值为 NaN。 \n",
    "df2 = pd.DataFrame(data, index=['first', 'second'], columns=['a', 'b1'])\n",
    "print(\"===========df1============\")\n",
    "print(df1)\n",
    "print(\"===========df2============\")\n",
    "print(df2)"
   ]
  },
  {
   "cell_type": "markdown",
   "metadata": {},
   "source": [
    "<b>7. Series创建DataFrame对象</b>\n",
    "\n",
    "您也可以传递一个字典形式的 Series，从而创建一个 DataFrame 对象，其输出结果的行索引是所有 index 的合集"
   ]
  },
  {
   "cell_type": "code",
   "execution_count": 13,
   "metadata": {},
   "outputs": [
    {
     "name": "stdout",
     "output_type": "stream",
     "text": [
      "   one  two\n",
      "a  1.0    1\n",
      "b  2.0    2\n",
      "c  3.0    3\n",
      "d  NaN    4\n"
     ]
    }
   ],
   "source": [
    "d = {'one' : pd.Series([1, 2, 3], index=['a', 'b', 'c']),\n",
    "   'two' : pd.Series([1, 2, 3, 4], index=['a', 'b', 'c', 'd'])}\n",
    "df = pd.DataFrame(d)\n",
    "print(df)"
   ]
  },
  {
   "cell_type": "code",
   "execution_count": 14,
   "metadata": {},
   "outputs": [
    {
     "data": {
      "text/plain": [
       "float"
      ]
     },
     "execution_count": 14,
     "metadata": {},
     "output_type": "execute_result"
    }
   ],
   "source": [
    "type(np.NaN)"
   ]
  },
  {
   "cell_type": "markdown",
   "metadata": {},
   "source": [
    "<font color=\"red\">注意：对于 one 列而言，此处虽然显示了行索引 'd'，但由于没有与其对应的值，所以它的值为 NaN。</font>"
   ]
  },
  {
   "cell_type": "code",
   "execution_count": null,
   "metadata": {},
   "outputs": [],
   "source": [
    "# 创建数据\n",
    "data = {\n",
    "    \"Name\":pd.Series(['xiaowang', 'Lily', 'Anne']),\n",
    "    \"Age\":pd.Series([20, 30, 40],  dtype=float),\n",
    "    \"gender\":pd.Series([\"男\", \"男\", \"女\"]),\n",
    "    \"salary\":pd.Series([5000, 8000, 10000], dtype=float)\n",
    "}\n",
    "df = pd.DataFrame(data)\n",
    "# int满足某列特征,会自动使用, 不满足,则自动识别\n",
    "df\n",
    "# 解决不同列 设置自定义数据类型"
   ]
  },
  {
   "cell_type": "code",
   "execution_count": null,
   "metadata": {
    "scrolled": true
   },
   "outputs": [],
   "source": []
  },
  {
   "cell_type": "markdown",
   "metadata": {},
   "source": [
    "# 列操作DataFrame\n",
    "DataFrame 可以使用列标签来完成数据的选取、添加和删除操作。下面依次对这些操作进行介绍。"
   ]
  },
  {
   "cell_type": "markdown",
   "metadata": {},
   "source": [
    "<b>1. 选取数据列</b>\n",
    "- 可以使用列索引，轻松实现数据选取"
   ]
  },
  {
   "cell_type": "code",
   "execution_count": 20,
   "metadata": {},
   "outputs": [
    {
     "name": "stdout",
     "output_type": "stream",
     "text": [
      "      Name  Age\n",
      "rank1   关羽   28\n",
      "rank2   刘备   34\n",
      "rank3   张飞   29\n",
      "rank4   曹操   42\n",
      "=========df['Name']:取得Name列===============\n",
      "rank1    关羽\n",
      "rank2    刘备\n",
      "rank3    张飞\n",
      "rank4    曹操\n",
      "Name: Name, dtype: object\n",
      "=========df['Age']:取得Age列===============\n",
      "rank1    28\n",
      "rank2    34\n",
      "rank3    29\n",
      "rank4    42\n",
      "Name: Age, dtype: int64\n"
     ]
    }
   ],
   "source": [
    "data = {'Name':['关羽', '刘备', '张飞', '曹操'],'Age':[28,34,29,42]}\n",
    "# 定义行标签\n",
    "index = [\"rank1\", \"rank2\", \"rank3\", \"rank4\"]\n",
    "# 通过字典创建DataFrame\n",
    "df = pd.DataFrame(data, index=index)\n",
    "print(df)\n",
    "print(\"=========df['Name']:取得Name列===============\")\n",
    "print(df['Name'])\n",
    "print(\"=========df['Age']:取得Age列===============\")\n",
    "print(df['Age'])\n"
   ]
  },
  {
   "cell_type": "code",
   "execution_count": 22,
   "metadata": {},
   "outputs": [
    {
     "name": "stdout",
     "output_type": "stream",
     "text": [
      "=========df[['Name', 'Age']]:df选取多列===============\n",
      "      Name  Age\n",
      "rank1   关羽   28\n",
      "rank2   刘备   34\n",
      "rank3   张飞   29\n",
      "rank4   曹操   42\n"
     ]
    }
   ],
   "source": [
    "\n",
    "print(\"=========df[['Name', 'Age']]:df选取多列===============\")\n",
    "print(df[['Name', 'Age']])\n",
    "\n"
   ]
  },
  {
   "cell_type": "code",
   "execution_count": null,
   "metadata": {},
   "outputs": [],
   "source": [
    "# 注意列不是能使用切片选取多列\n",
    "print(\"=========df不能使用切片选取多列===============\")\n",
    "print(df['Name': 'Age'])   # 空DataFrame"
   ]
  },
  {
   "cell_type": "markdown",
   "metadata": {},
   "source": [
    "<font color=\"red\"> 没有办法直接通过标签位置去获取列</font>"
   ]
  },
  {
   "cell_type": "code",
   "execution_count": null,
   "metadata": {},
   "outputs": [],
   "source": [
    "df[1]  # 会报错"
   ]
  },
  {
   "cell_type": "markdown",
   "metadata": {},
   "source": [
    "<b>2. 列添加</b>\n",
    "- 使用 columns 列索引标签可以实现添加新的数据列，示例如下"
   ]
  },
  {
   "cell_type": "code",
   "execution_count": 36,
   "metadata": {
    "scrolled": true
   },
   "outputs": [
    {
     "name": "stdout",
     "output_type": "stream",
     "text": [
      "====通过Series添加一个新的列====:\n",
      "   one  two  three\n",
      "a  1.0    1   10.0\n",
      "b  2.0    2   20.0\n",
      "c  3.0    3   30.0\n",
      "d  NaN    4    NaN\n",
      "======将已经存在的数据列相加运算,从而创建一个新的列:=======\n",
      "   one  two  three  four\n",
      "a  1.0    1   10.0  11.0\n",
      "b  2.0    2   20.0  22.0\n",
      "c  3.0    3   30.0  33.0\n",
      "d  NaN    4    NaN   NaN\n"
     ]
    }
   ],
   "source": [
    "d = {'one' : pd.Series([1, 2, 3], index=['a', 'b', 'c']),\n",
    "   'two' : pd.Series([1, 2, 3, 4], index=['a', 'b', 'c', 'd'])}\n",
    "df = pd.DataFrame(d)\n",
    "\n",
    "#使用df['列']=值，插入新的数据列\n",
    "print (\"====通过Series添加一个新的列====:\")\n",
    "df['three']=pd.Series([10,20,30],index=['a','b','c'])\n",
    "print(df)\n",
    "\n",
    "#将已经存在的数据列相加运算,从而创建一个新的列\n",
    "print (\"======将已经存在的数据列相加运算,从而创建一个新的列:=======\")\n",
    "df['four']=df['one']+df['three']\n",
    "print(df)\n",
    "\n"
   ]
  },
  {
   "cell_type": "code",
   "execution_count": 38,
   "metadata": {},
   "outputs": [
    {
     "name": "stdout",
     "output_type": "stream",
     "text": [
      "   one  two  three  four  error\n",
      "a  1.0    1   10.0  11.0   20.0\n",
      "b  2.0    2   20.0  22.0   10.0\n",
      "c  3.0    3   30.0  33.0    NaN\n",
      "d  NaN    4    NaN   NaN    NaN\n"
     ]
    }
   ],
   "source": [
    "df['error']=pd.Series([10,20,30],index=['b','a','s3'])\n",
    "print(df)"
   ]
  },
  {
   "cell_type": "markdown",
   "metadata": {},
   "source": [
    "### insert() 方法添加"
   ]
  },
  {
   "cell_type": "markdown",
   "metadata": {},
   "source": [
    "上述示例，我们初次使用了 DataFrame 的算术运算，这和 NumPy 非常相似。除了使用df[]=value的方式外，您还可以使用 insert() 方法插入新的列，示例如下： \n",
    "`df.insert(loc, column, value, allow_duplicates=False)`\n",
    "- loc : 整型,插入索引,必须验证0<=loc<=len（列）\n",
    "- column : 插入列的标签,类型可以是(字符串/数字/散列对象)\n",
    "- value : 数值,Series或者数组\n",
    "- allow_duplicates : 允许重复,可以有相同的列标签数据,默认为False"
   ]
  },
  {
   "cell_type": "code",
   "execution_count": 32,
   "metadata": {},
   "outputs": [
    {
     "name": "stdout",
     "output_type": "stream",
     "text": [
      "  name  age\n",
      "0   王杰   18\n",
      "1   李杰   19\n",
      "2   刘杰   17\n",
      "=====df.insert插入数据:=======\n",
      "  name  score  age\n",
      "0   王杰     91   18\n",
      "1   李杰     90   19\n",
      "2   刘杰     75   17\n"
     ]
    }
   ],
   "source": [
    "info=[['王杰',18],['李杰',19],['刘杰',17]]\n",
    "df=pd.DataFrame(info,columns=['name','age'])\n",
    "print(df)\n",
    "#注意是column参数\n",
    "#数值1代表插入到columns列表的索引位置 :loc : 整型,插入索引,必须验证0<=loc<=len（列）\n",
    "df.insert(1,column='score',value=[91,90,75])\n",
    "print(\"=====df.insert插入数据:=======\")\n",
    "print(df)"
   ]
  },
  {
   "cell_type": "code",
   "execution_count": 33,
   "metadata": {},
   "outputs": [
    {
     "name": "stdout",
     "output_type": "stream",
     "text": [
      "  name  score  score  age\n",
      "0   王杰     80     91   18\n",
      "1   李杰     70     90   19\n",
      "2   刘杰     90     75   17\n"
     ]
    }
   ],
   "source": [
    "# 可以添加重复列标签数据\n",
    "df.insert(1,column='score',value=[80,70,90],allow_duplicates=True)\n",
    "print(df)"
   ]
  },
  {
   "cell_type": "code",
   "execution_count": 34,
   "metadata": {},
   "outputs": [
    {
     "data": {
      "text/html": [
       "<div>\n",
       "<style scoped>\n",
       "    .dataframe tbody tr th:only-of-type {\n",
       "        vertical-align: middle;\n",
       "    }\n",
       "\n",
       "    .dataframe tbody tr th {\n",
       "        vertical-align: top;\n",
       "    }\n",
       "\n",
       "    .dataframe thead th {\n",
       "        text-align: right;\n",
       "    }\n",
       "</style>\n",
       "<table border=\"1\" class=\"dataframe\">\n",
       "  <thead>\n",
       "    <tr style=\"text-align: right;\">\n",
       "      <th></th>\n",
       "      <th>score</th>\n",
       "      <th>score</th>\n",
       "    </tr>\n",
       "  </thead>\n",
       "  <tbody>\n",
       "    <tr>\n",
       "      <th>0</th>\n",
       "      <td>80</td>\n",
       "      <td>91</td>\n",
       "    </tr>\n",
       "    <tr>\n",
       "      <th>1</th>\n",
       "      <td>70</td>\n",
       "      <td>90</td>\n",
       "    </tr>\n",
       "    <tr>\n",
       "      <th>2</th>\n",
       "      <td>90</td>\n",
       "      <td>75</td>\n",
       "    </tr>\n",
       "  </tbody>\n",
       "</table>\n",
       "</div>"
      ],
      "text/plain": [
       "   score  score\n",
       "0     80     91\n",
       "1     70     90\n",
       "2     90     75"
      ]
     },
     "execution_count": 34,
     "metadata": {},
     "output_type": "execute_result"
    }
   ],
   "source": [
    "df['score']"
   ]
  },
  {
   "cell_type": "code",
   "execution_count": null,
   "metadata": {
    "scrolled": true
   },
   "outputs": [],
   "source": [
    "# 如果存在相同的列名,会报错\n",
    "df.insert(1,column='score',value=[80,70,90]) # 错误 cannot insert name, already exists"
   ]
  },
  {
   "cell_type": "markdown",
   "metadata": {},
   "source": [
    "<b>2. 删除数据列</b>\n",
    "- 通过 del 和 pop() 都能够删除 DataFrame 中的数据列,pop有返回值\n",
    "\n",
    "示例如下："
   ]
  },
  {
   "cell_type": "code",
   "execution_count": null,
   "metadata": {},
   "outputs": [],
   "source": [
    "import pandas as pd\n",
    "d = {'one' : pd.Series([1, 2, 3], index=['a', 'b', 'c']),\n",
    "     'two' : pd.Series([1, 2, 3, 4], index=['a', 'b', 'c', 'd']),\n",
    "     'three' : pd.Series([10,20,30], index=['a','b','c'])}\n",
    "df = pd.DataFrame(d)\n",
    "print (\"Our dataframe is:\")\n",
    "print(df)\n",
    "#使用del删除\n",
    "del df['one']\n",
    "print(\"=======del df['one']=========\")\n",
    "print(df)\n",
    "#使用pop方法删除\n",
    "res_pop = df.pop('two')\n",
    "print(\"=======df.pop('two')=========\")\n",
    "print(df)\n",
    "print(\"=======res_pop = df.pop('two')=========\")\n",
    "print(res_pop)"
   ]
  },
  {
   "cell_type": "code",
   "execution_count": null,
   "metadata": {},
   "outputs": [],
   "source": [
    "my_dict ={\"name\":\"xiao网\",\"age\":20}\n",
    "del my_dict[\"name\"]\n",
    "my_dict"
   ]
  },
  {
   "cell_type": "markdown",
   "metadata": {},
   "source": [
    "# 行操作DataFrame\n",
    "\n",
    "理解了上述的列索引操作后，行索引操作就变的简单"
   ]
  },
  {
   "cell_type": "markdown",
   "metadata": {},
   "source": [
    "<b>1. 标签选取</b>\n",
    "- 行操作需要借助`loc`属性来完成:按标签或布尔数组访问一组行和列"
   ]
  },
  {
   "cell_type": "code",
   "execution_count": 39,
   "metadata": {},
   "outputs": [
    {
     "name": "stdout",
     "output_type": "stream",
     "text": [
      "===========df原始数据========\n",
      "   one  two\n",
      "a  1.0    1\n",
      "b  2.0    2\n",
      "c  3.0    3\n",
      "d  NaN    4\n",
      "===========标签为b的数据========\n",
      "one    2.0\n",
      "two    2.0\n",
      "Name: b, dtype: float64\n"
     ]
    }
   ],
   "source": [
    "import pandas as pd\n",
    "# 定义字典\n",
    "d = {'one' : pd.Series([1, 2, 3], index=['a', 'b', 'c']),\n",
    "     'two' : pd.Series([1, 2, 3, 4], index=['a', 'b', 'c', 'd'])}\n",
    "# 创建DataFrame数据结构\n",
    "df = pd.DataFrame(d)\n",
    "print(\"===========df原始数据========\")\n",
    "print(df)\n",
    "# 确定标签为b的数据\n",
    "print(\"===========标签为b的数据========\")\n",
    "print(df.loc['b'])"
   ]
  },
  {
   "cell_type": "markdown",
   "metadata": {},
   "source": [
    "<b>注意：loc 允许接受两个参数分别是行和列</b>"
   ]
  },
  {
   "cell_type": "code",
   "execution_count": 40,
   "metadata": {},
   "outputs": [
    {
     "data": {
      "text/plain": [
       "2.0"
      ]
     },
     "execution_count": 40,
     "metadata": {},
     "output_type": "execute_result"
    }
   ],
   "source": [
    "# b行 one列交叉的数据\n",
    "df.loc['b',\"one\"]"
   ]
  },
  {
   "cell_type": "markdown",
   "metadata": {},
   "source": [
    "<b>行和列还可以使用切片</b>"
   ]
  },
  {
   "cell_type": "code",
   "execution_count": 41,
   "metadata": {},
   "outputs": [
    {
     "data": {
      "text/plain": [
       "b    2.0\n",
       "c    3.0\n",
       "d    NaN\n",
       "Name: one, dtype: float64"
      ]
     },
     "execution_count": 41,
     "metadata": {},
     "output_type": "execute_result"
    }
   ],
   "source": [
    "# 标签为b的行到标签为d的行, 对应标签为one的列\n",
    "df.loc['b':'d',\"one\"]   # 注意使用行标签切片,包含结束的行"
   ]
  },
  {
   "cell_type": "code",
   "execution_count": 42,
   "metadata": {},
   "outputs": [
    {
     "data": {
      "text/html": [
       "<div>\n",
       "<style scoped>\n",
       "    .dataframe tbody tr th:only-of-type {\n",
       "        vertical-align: middle;\n",
       "    }\n",
       "\n",
       "    .dataframe tbody tr th {\n",
       "        vertical-align: top;\n",
       "    }\n",
       "\n",
       "    .dataframe thead th {\n",
       "        text-align: right;\n",
       "    }\n",
       "</style>\n",
       "<table border=\"1\" class=\"dataframe\">\n",
       "  <thead>\n",
       "    <tr style=\"text-align: right;\">\n",
       "      <th></th>\n",
       "      <th>one</th>\n",
       "      <th>two</th>\n",
       "    </tr>\n",
       "  </thead>\n",
       "  <tbody>\n",
       "    <tr>\n",
       "      <th>a</th>\n",
       "      <td>1.0</td>\n",
       "      <td>1</td>\n",
       "    </tr>\n",
       "    <tr>\n",
       "      <th>b</th>\n",
       "      <td>2.0</td>\n",
       "      <td>2</td>\n",
       "    </tr>\n",
       "  </tbody>\n",
       "</table>\n",
       "</div>"
      ],
      "text/plain": [
       "   one  two\n",
       "a  1.0    1\n",
       "b  2.0    2"
      ]
     },
     "execution_count": 42,
     "metadata": {},
     "output_type": "execute_result"
    }
   ],
   "source": [
    "# 注意这里和numpy整数数组索引区别\n",
    "df.loc[['a','b'],[\"one\",\"two\"]]\n",
    "# 这里两个参数,第一个代表行,第二个代表列"
   ]
  },
  {
   "cell_type": "code",
   "execution_count": null,
   "metadata": {},
   "outputs": [],
   "source": [
    "s = np.arange(12).reshape((3,4))\n",
    "s"
   ]
  },
  {
   "cell_type": "code",
   "execution_count": null,
   "metadata": {},
   "outputs": [],
   "source": [
    "# 1行1列和3行4列分别相交的数据\n",
    "s[[0,2],[0,3]]"
   ]
  },
  {
   "cell_type": "code",
   "execution_count": null,
   "metadata": {},
   "outputs": [],
   "source": [
    "s[[0,2],[0,3]]"
   ]
  },
  {
   "cell_type": "markdown",
   "metadata": {},
   "source": [
    "<b>2. 数值型索引和切片</b>\n",
    "- 使用数据型索引 需要使用`iloc`属性\n",
    "\n",
    "<font color=\"red\">直接使用索引,会优先查找的是列标签,如果找不到会报错.列没有位置索引</font>\n",
    "- 可以使用`iloc` :行基于整数位置的按位置选择索引"
   ]
  },
  {
   "cell_type": "code",
   "execution_count": 43,
   "metadata": {},
   "outputs": [
    {
     "data": {
      "text/html": [
       "<div>\n",
       "<style scoped>\n",
       "    .dataframe tbody tr th:only-of-type {\n",
       "        vertical-align: middle;\n",
       "    }\n",
       "\n",
       "    .dataframe tbody tr th {\n",
       "        vertical-align: top;\n",
       "    }\n",
       "\n",
       "    .dataframe thead th {\n",
       "        text-align: right;\n",
       "    }\n",
       "</style>\n",
       "<table border=\"1\" class=\"dataframe\">\n",
       "  <thead>\n",
       "    <tr style=\"text-align: right;\">\n",
       "      <th></th>\n",
       "      <th>Name</th>\n",
       "      <th>Age</th>\n",
       "    </tr>\n",
       "  </thead>\n",
       "  <tbody>\n",
       "    <tr>\n",
       "      <th>rank1</th>\n",
       "      <td>关羽</td>\n",
       "      <td>28</td>\n",
       "    </tr>\n",
       "    <tr>\n",
       "      <th>rank2</th>\n",
       "      <td>刘备</td>\n",
       "      <td>34</td>\n",
       "    </tr>\n",
       "    <tr>\n",
       "      <th>rank3</th>\n",
       "      <td>张飞</td>\n",
       "      <td>29</td>\n",
       "    </tr>\n",
       "    <tr>\n",
       "      <th>rank4</th>\n",
       "      <td>曹操</td>\n",
       "      <td>42</td>\n",
       "    </tr>\n",
       "  </tbody>\n",
       "</table>\n",
       "</div>"
      ],
      "text/plain": [
       "      Name  Age\n",
       "rank1   关羽   28\n",
       "rank2   刘备   34\n",
       "rank3   张飞   29\n",
       "rank4   曹操   42"
      ]
     },
     "execution_count": 43,
     "metadata": {},
     "output_type": "execute_result"
    }
   ],
   "source": [
    "data = {'Name':['关羽', '刘备', '张飞', '曹操'],'Age':[28,34,29,42]}\n",
    "# 定义行标签\n",
    "index = [\"rank1\", \"rank2\", \"rank3\", \"rank4\"]\n",
    "# 通过字典创建DataFrame\n",
    "df = pd.DataFrame(data, index=index)\n",
    "df"
   ]
  },
  {
   "cell_type": "code",
   "execution_count": 44,
   "metadata": {},
   "outputs": [
    {
     "data": {
      "text/plain": [
       "Name    张飞\n",
       "Age     29\n",
       "Name: rank3, dtype: object"
      ]
     },
     "execution_count": 44,
     "metadata": {},
     "output_type": "execute_result"
    }
   ],
   "source": [
    "# 取得位置索引为2的数据\n",
    "df.iloc[2]"
   ]
  },
  {
   "cell_type": "code",
   "execution_count": 45,
   "metadata": {},
   "outputs": [
    {
     "data": {
      "text/html": [
       "<div>\n",
       "<style scoped>\n",
       "    .dataframe tbody tr th:only-of-type {\n",
       "        vertical-align: middle;\n",
       "    }\n",
       "\n",
       "    .dataframe tbody tr th {\n",
       "        vertical-align: top;\n",
       "    }\n",
       "\n",
       "    .dataframe thead th {\n",
       "        text-align: right;\n",
       "    }\n",
       "</style>\n",
       "<table border=\"1\" class=\"dataframe\">\n",
       "  <thead>\n",
       "    <tr style=\"text-align: right;\">\n",
       "      <th></th>\n",
       "      <th>Name</th>\n",
       "      <th>Age</th>\n",
       "    </tr>\n",
       "  </thead>\n",
       "  <tbody>\n",
       "    <tr>\n",
       "      <th>rank1</th>\n",
       "      <td>关羽</td>\n",
       "      <td>28</td>\n",
       "    </tr>\n",
       "    <tr>\n",
       "      <th>rank3</th>\n",
       "      <td>张飞</td>\n",
       "      <td>29</td>\n",
       "    </tr>\n",
       "  </tbody>\n",
       "</table>\n",
       "</div>"
      ],
      "text/plain": [
       "      Name  Age\n",
       "rank1   关羽   28\n",
       "rank3   张飞   29"
      ]
     },
     "execution_count": 45,
     "metadata": {},
     "output_type": "execute_result"
    }
   ],
   "source": [
    "# 取得位置索引分别为0和2的数据\n",
    "df.iloc[[0,2]]"
   ]
  },
  {
   "cell_type": "code",
   "execution_count": 46,
   "metadata": {},
   "outputs": [
    {
     "data": {
      "text/plain": [
       "28"
      ]
     },
     "execution_count": 46,
     "metadata": {},
     "output_type": "execute_result"
    }
   ],
   "source": [
    "# 表示行索引为0,列索引为1的数据\n",
    "df.iloc[0,1]"
   ]
  },
  {
   "cell_type": "markdown",
   "metadata": {},
   "source": [
    "<font color=\"red\">注意:</font>\n",
    "- loc使用的是标签\n",
    "- iloc使用的是位置索引\n",
    "\n",
    "两者不能混用,比如在loc中使用位置索引,或者在iloc中使用标签索引"
   ]
  },
  {
   "cell_type": "markdown",
   "metadata": {},
   "source": [
    "##### 错误写法:"
   ]
  },
  {
   "cell_type": "code",
   "execution_count": null,
   "metadata": {},
   "outputs": [],
   "source": [
    "# 错误写法:\n",
    "#df.loc[1,\"Name\"]\n",
    "\n",
    "# 或者\n",
    "\n",
    "#df.iloc[1,\"Name\"]"
   ]
  },
  {
   "cell_type": "markdown",
   "metadata": {},
   "source": [
    "<b>3. 切片操作多行选取</b>\n",
    "\n",
    "可以直接使用数值型切片操作行.和使用`iloc`同样的结果"
   ]
  },
  {
   "cell_type": "code",
   "execution_count": 48,
   "metadata": {},
   "outputs": [
    {
     "data": {
      "text/html": [
       "<div>\n",
       "<style scoped>\n",
       "    .dataframe tbody tr th:only-of-type {\n",
       "        vertical-align: middle;\n",
       "    }\n",
       "\n",
       "    .dataframe tbody tr th {\n",
       "        vertical-align: top;\n",
       "    }\n",
       "\n",
       "    .dataframe thead th {\n",
       "        text-align: right;\n",
       "    }\n",
       "</style>\n",
       "<table border=\"1\" class=\"dataframe\">\n",
       "  <thead>\n",
       "    <tr style=\"text-align: right;\">\n",
       "      <th></th>\n",
       "      <th>Name</th>\n",
       "      <th>Age</th>\n",
       "    </tr>\n",
       "  </thead>\n",
       "  <tbody>\n",
       "    <tr>\n",
       "      <th>rank1</th>\n",
       "      <td>关羽</td>\n",
       "      <td>28</td>\n",
       "    </tr>\n",
       "    <tr>\n",
       "      <th>rank2</th>\n",
       "      <td>刘备</td>\n",
       "      <td>34</td>\n",
       "    </tr>\n",
       "    <tr>\n",
       "      <th>rank3</th>\n",
       "      <td>张飞</td>\n",
       "      <td>29</td>\n",
       "    </tr>\n",
       "    <tr>\n",
       "      <th>rank4</th>\n",
       "      <td>曹操</td>\n",
       "      <td>42</td>\n",
       "    </tr>\n",
       "  </tbody>\n",
       "</table>\n",
       "</div>"
      ],
      "text/plain": [
       "      Name  Age\n",
       "rank1   关羽   28\n",
       "rank2   刘备   34\n",
       "rank3   张飞   29\n",
       "rank4   曹操   42"
      ]
     },
     "execution_count": 48,
     "metadata": {},
     "output_type": "execute_result"
    }
   ],
   "source": [
    "data = {'Name':['关羽', '刘备', '张飞', '曹操'],'Age':[28,34,29,42]}\n",
    "# 定义行标签\n",
    "index = [\"rank1\", \"rank2\", \"rank3\", \"rank4\"]\n",
    "# 通过字典创建DataFrame\n",
    "df = pd.DataFrame(data, index=index)\n",
    "df"
   ]
  },
  {
   "cell_type": "code",
   "execution_count": 47,
   "metadata": {},
   "outputs": [
    {
     "name": "stdout",
     "output_type": "stream",
     "text": [
      "=====df.iloc[1:3]:=======\n",
      "      Name  Age\n",
      "rank2   刘备   34\n",
      "rank3   张飞   29\n"
     ]
    }
   ],
   "source": [
    "# 取得位置索引1到3行,但是不包含3的数据\n",
    "print(\"=====df.iloc[1:3]:=======\")\n",
    "print(df.iloc[1:3])"
   ]
  },
  {
   "cell_type": "code",
   "execution_count": 49,
   "metadata": {},
   "outputs": [
    {
     "name": "stdout",
     "output_type": "stream",
     "text": [
      "=====df[1:3]:=======\n",
      "      Name  Age\n",
      "rank2   刘备   34\n",
      "rank3   张飞   29\n"
     ]
    }
   ],
   "source": [
    "# 使用切片可以直接提取行\n",
    "print(\"=====df[1:3]:=======\")\n",
    "print(df[1:3])"
   ]
  },
  {
   "cell_type": "code",
   "execution_count": null,
   "metadata": {
    "scrolled": true
   },
   "outputs": [],
   "source": []
  },
  {
   "cell_type": "markdown",
   "metadata": {},
   "source": [
    "## 练习:"
   ]
  },
  {
   "cell_type": "code",
   "execution_count": null,
   "metadata": {
    "scrolled": true
   },
   "outputs": [],
   "source": [
    "\n",
    "data = {\n",
    "            'Name':['关羽', '刘备', '张飞', '曹操'], \n",
    "            'Age':[28, 34, 29, 42],\n",
    "            \"Salary\":[5000, 8000, 4500, 10000],\n",
    "            \"hobby\":[\"python\", \"java\", \"go\", \"JavaScript\"]\n",
    "       }\n",
    "# 定义行标签\n",
    "index = [\"rank1\", \"rank2\", \"rank3\", \"rank4\"]\n",
    "# 通过字典创建DataFrame\n",
    "df = pd.DataFrame(data, index=index)\n",
    "df"
   ]
  },
  {
   "cell_type": "markdown",
   "metadata": {},
   "source": [
    "1.  取得第3行数据\n",
    "2.  取得Age列数据\n",
    "3.  取得Age和Salary列数据\n",
    "4.  取得前3行数据\n",
    "5.  取得前3行Name|Age|Salary数据\n",
    "6.  取得行1和3,列Age和Salary数据\n",
    "\n",
    "尽量使用多种方式"
   ]
  },
  {
   "cell_type": "code",
   "execution_count": null,
   "metadata": {},
   "outputs": [],
   "source": []
  },
  {
   "cell_type": "code",
   "execution_count": null,
   "metadata": {},
   "outputs": [],
   "source": []
  },
  {
   "cell_type": "code",
   "execution_count": null,
   "metadata": {},
   "outputs": [],
   "source": []
  },
  {
   "cell_type": "code",
   "execution_count": null,
   "metadata": {},
   "outputs": [],
   "source": []
  },
  {
   "cell_type": "code",
   "execution_count": null,
   "metadata": {},
   "outputs": [],
   "source": []
  },
  {
   "cell_type": "markdown",
   "metadata": {},
   "source": [
    "#### 4. 添加数据行\n",
    "\n",
    "使用 `append()` 函数，可以将新的数据行添加到 DataFrame 中，该函数会在行末追加数据行\n",
    "\n",
    "`df.append(other, ignore_index=False, verify_integrity=False, sort=False)`\n",
    "\n",
    "将\"other\"追加到调用者的末尾，<font color=\"red\">返回一个新对象</font>。\"other\"行中不在调用者中的列将作为新列添加。\n",
    "\n",
    "- other : DataFrame或Series/dict类对象，或这些对象的列表\n",
    "- ignore_index : 默认为False,如果为True将不适用index 标签.\n",
    "- verify_integrity : 默认为False如果为True，则在创建具有重复项的索引时引发ValueError.\n",
    "- sort : 排序"
   ]
  },
  {
   "cell_type": "code",
   "execution_count": null,
   "metadata": {},
   "outputs": [],
   "source": [
    "import pandas as pd\n",
    "data = {\n",
    "            'Name':['关羽', '刘备', '张飞', '曹操'], \n",
    "            'Age':[28, 34, 29, 42],\n",
    "            \"Salary\":[5000, 8000, 4500, 10000]\n",
    "       }\n",
    "df = pd.DataFrame(data)\n",
    "df"
   ]
  },
  {
   "cell_type": "markdown",
   "metadata": {},
   "source": [
    "1). 追加字典"
   ]
  },
  {
   "cell_type": "code",
   "execution_count": null,
   "metadata": {},
   "outputs": [],
   "source": [
    "d2 = {\"Name\":\"诸葛亮\", \"Age\":30}\n",
    "#在行末追加新数据行\n",
    "df3 = df.append(d2) # 需要添加 ignore_index=True\n",
    "print(df3)"
   ]
  },
  {
   "cell_type": "markdown",
   "metadata": {},
   "source": [
    "<font color=\"red\">错误提示:</font>\n",
    "\n",
    "Can only append a Series if ignore_index=True or if the Series has a name\n",
    "\n",
    "仅当ignore_index=True或序列有名称时，才能追加序列\n",
    "\n",
    "或者\n",
    "\n",
    "Series数据有name"
   ]
  },
  {
   "cell_type": "code",
   "execution_count": null,
   "metadata": {},
   "outputs": [],
   "source": [
    "d2 = {\"Name\":\"诸葛亮\", \"Age\":30}\n",
    "#在行末追加新数据行\n",
    "df3 = df.append(d2, ignore_index=True) # 需要添加 \n",
    "print(df3)"
   ]
  },
  {
   "cell_type": "code",
   "execution_count": null,
   "metadata": {},
   "outputs": [],
   "source": [
    "d2 = {\"Name\":\"诸葛亮\", \"Age\":30}\n",
    "\n",
    "s = pd.Series(d2, name=\"a\")\n",
    "print(s)\n",
    "#在行末追加新数据行\n",
    "df3 = df.append(s) # 需要添加 \n",
    "print(df3)"
   ]
  },
  {
   "cell_type": "markdown",
   "metadata": {},
   "source": []
  },
  {
   "cell_type": "code",
   "execution_count": null,
   "metadata": {},
   "outputs": [],
   "source": []
  },
  {
   "cell_type": "markdown",
   "metadata": {},
   "source": [
    "2).追加列表\n",
    "- 如果list是一维的,则以列的形式追加\n",
    "- 如果list是二维的,则以行的形式追加\n",
    "- 如果list是三维的,只添加一个值\n",
    "\n",
    "<font color=\"red\">注意:</font>使用append可能会出现相同的index,想避免的话,可以使用ignore_index=True"
   ]
  },
  {
   "cell_type": "code",
   "execution_count": null,
   "metadata": {},
   "outputs": [],
   "source": [
    "data = [\n",
    "            [1, 2, 3, 4],\n",
    "            [5, 6, 7, 8]\n",
    "       ]\n",
    "            \n",
    "df = pd.DataFrame(data)\n",
    "print(df)"
   ]
  },
  {
   "cell_type": "markdown",
   "metadata": {},
   "source": [
    "- list是一维,则以列的形式追加"
   ]
  },
  {
   "cell_type": "code",
   "execution_count": null,
   "metadata": {},
   "outputs": [],
   "source": [
    "a_l = [10,20]\n",
    "\n",
    "df3 = df.append(a_l) # 需要添加 \n",
    "print(df3)"
   ]
  },
  {
   "cell_type": "code",
   "execution_count": null,
   "metadata": {},
   "outputs": [],
   "source": [
    "a_l = [10,20,30]\n",
    "df3 = df.append(a_l,ignore_index=True) # 需要添加 \n",
    "print(df3)"
   ]
  },
  {
   "cell_type": "markdown",
   "metadata": {},
   "source": [
    "- list是二维的,则以行的形式追加"
   ]
  },
  {
   "cell_type": "code",
   "execution_count": null,
   "metadata": {},
   "outputs": [],
   "source": [
    "a_l = [[10,\"20\",30]]\n",
    "df4 = df.append(a_l) # 需要添加 \n",
    "print(df4)\n",
    "print(\"=========使用:ignore_index=True===========\")\n",
    "df5 = df.append(a_l,ignore_index=True) # 需要添加 \n",
    "print(df5)"
   ]
  },
  {
   "cell_type": "code",
   "execution_count": null,
   "metadata": {},
   "outputs": [],
   "source": [
    "#### 5. 删除数据行\n",
    "\n",
    "您可以使用行索引标签，从 DataFrame 中删除某一行数据。如果索引标签存在重复，那么它们将被一起删除。示例如下："
   ]
  },
  {
   "cell_type": "code",
   "execution_count": null,
   "metadata": {},
   "outputs": [],
   "source": [
    "df = pd.DataFrame([[1, 2], [3, 4]], columns = ['a','b'])\n",
    "\n",
    "df2 = pd.DataFrame([[5, 6], [7, 8]], columns = ['a','b'])\n",
    "\n",
    "df = df.append(df2)\n",
    "print(\"=======源数据df=======\")\n",
    "print(df)\n",
    "#注意此处调用了drop()方法,注意drop默认不会更改源数据\n",
    "df1 = df.drop(0)\n",
    "print(\"=======修改后数据df1=======\")\n",
    "print(df1)\n",
    "\n",
    "print(\"=======源数据df=======\")\n",
    "print(df)"
   ]
  },
  {
   "cell_type": "code",
   "execution_count": null,
   "metadata": {},
   "outputs": [],
   "source": [
    "# 两种方式解决:\n",
    "# 1. 源数据=修改后的数据\n",
    "df = df.drop(0)\n",
    "# 2.添加inplace=True\n",
    "df = df.drop(1)"
   ]
  },
  {
   "cell_type": "code",
   "execution_count": null,
   "metadata": {},
   "outputs": [],
   "source": []
  },
  {
   "cell_type": "markdown",
   "metadata": {},
   "source": [
    "# 常用属性和方法汇总\n",
    "\n",
    "| 名称     | 属性&方法描述                                                |\n",
    "| :-------- | :------------------------------------------------------------ |\n",
    "| T        | 行和列转置。                                                 |\n",
    "| axes     | 返回一个仅以行轴标签和列轴标签为成员的列表。                 |\n",
    "| dtypes   | 返回每列数据的数据类型。                                     |\n",
    "| empty    | DataFrame中没有数据或者任意坐标轴的长度为0，则返回True       |\n",
    "| columns  | 返回DataFrame所有列标签                                                     |\n",
    "| shape    | 返回一个元组，获取行数和列数,表示了 DataFrame 维度。         |\n",
    "| size     | DataFrame中的元素数量。                                      |\n",
    "| values   | 使用 numpy 数组表示 DataFrame 中的元素值。                   |\n",
    "| head()   | 返回前 n 行数据。                                            |\n",
    "| tail()   | 返回后 n 行数据。                                            |\n",
    "| rename() | rename(columns=字典) ,修改列名                               |\n",
    "| info()   | 可以显示信息，例如行数/列数，总内存使用量，每列的数据类型以及不缺少值的元素数 |\n",
    "| sort_index()   | 默认根据行标签对所有行排序，或根据列标签对所有列排序，或根据指定某列或某几列对行排序。 |\n",
    "| sort_values()   | 既可以根据列数据，也可根据行数据排序 |"
   ]
  },
  {
   "cell_type": "code",
   "execution_count": null,
   "metadata": {},
   "outputs": [],
   "source": [
    "import pandas as pd\n",
    "data = {\n",
    "            'Name':['关羽', '刘备', '张飞', '曹操'], \n",
    "            'Age':[28, 34, 29, 42],\n",
    "            \"Salary\":[5000, 8000, 4500, 10000]\n",
    "       }\n",
    "df = pd.DataFrame(data)\n",
    "df"
   ]
  },
  {
   "cell_type": "markdown",
   "metadata": {},
   "source": [
    "### 转置\n",
    "返回 DataFrame 的转置，也就是把行和列进行交换。"
   ]
  },
  {
   "cell_type": "code",
   "execution_count": null,
   "metadata": {},
   "outputs": [],
   "source": [
    "df.T"
   ]
  },
  {
   "cell_type": "markdown",
   "metadata": {},
   "source": [
    "### axes\n",
    "\n",
    "返回一个行标签、列标签组成的列表。"
   ]
  },
  {
   "cell_type": "code",
   "execution_count": null,
   "metadata": {},
   "outputs": [],
   "source": [
    "df.axes"
   ]
  },
  {
   "cell_type": "markdown",
   "metadata": {},
   "source": [
    "### dtypes\n",
    "\n",
    "返回Series,每一列的数据类型。示例如下："
   ]
  },
  {
   "cell_type": "code",
   "execution_count": null,
   "metadata": {},
   "outputs": [],
   "source": [
    "df.dtypes"
   ]
  },
  {
   "cell_type": "code",
   "execution_count": null,
   "metadata": {},
   "outputs": [],
   "source": []
  },
  {
   "cell_type": "markdown",
   "metadata": {},
   "source": [
    "### empty\n",
    "\n",
    "返回一个布尔值，判断输出的数据对象是否为空，若为 True 表示对象为空。"
   ]
  },
  {
   "cell_type": "code",
   "execution_count": null,
   "metadata": {},
   "outputs": [],
   "source": [
    "df.empty  # 返回假"
   ]
  },
  {
   "cell_type": "code",
   "execution_count": null,
   "metadata": {},
   "outputs": [],
   "source": [
    "# 创建一个空的DataFrame\n",
    "empty_df = pd.DataFrame()\n",
    "empty_df.empty   # 返回真"
   ]
  },
  {
   "cell_type": "markdown",
   "metadata": {},
   "source": [
    "### columns\n",
    "\n",
    "返回DataFrame所有列标签 "
   ]
  },
  {
   "cell_type": "code",
   "execution_count": null,
   "metadata": {},
   "outputs": [],
   "source": [
    "df.columns"
   ]
  },
  {
   "cell_type": "code",
   "execution_count": null,
   "metadata": {},
   "outputs": [],
   "source": [
    "# 可以通过df.columns的个数获取DataFrame列个数\n",
    "len(df.columns)"
   ]
  },
  {
   "cell_type": "code",
   "execution_count": null,
   "metadata": {},
   "outputs": [],
   "source": [
    "df.columns.size"
   ]
  },
  {
   "cell_type": "markdown",
   "metadata": {},
   "source": [
    "### shape    \n",
    "\n",
    "返回一个元组，获取行数和列数,表示了 DataFrame 维度。"
   ]
  },
  {
   "cell_type": "code",
   "execution_count": null,
   "metadata": {},
   "outputs": [],
   "source": [
    "df.shape"
   ]
  },
  {
   "cell_type": "code",
   "execution_count": null,
   "metadata": {},
   "outputs": [],
   "source": [
    "row_num,column_num = df.shape\n",
    "print(row_num,column_num )"
   ]
  },
  {
   "cell_type": "markdown",
   "metadata": {},
   "source": [
    "### values\n",
    "\n",
    "以 ndarray 数组的形式返回 DataFrame 中的数据"
   ]
  },
  {
   "cell_type": "code",
   "execution_count": null,
   "metadata": {},
   "outputs": [],
   "source": [
    "df.values"
   ]
  },
  {
   "cell_type": "markdown",
   "metadata": {},
   "source": [
    "### head()&tail()查看数据\n"
   ]
  },
  {
   "cell_type": "code",
   "execution_count": null,
   "metadata": {},
   "outputs": [],
   "source": [
    "#获取前3行数据\n",
    "df.head(3)"
   ]
  },
  {
   "cell_type": "code",
   "execution_count": null,
   "metadata": {},
   "outputs": [],
   "source": [
    "#获取后3行数据\n",
    "df.tail(3)"
   ]
  },
  {
   "cell_type": "markdown",
   "metadata": {},
   "source": [
    "## 修改列名rename()\n",
    "\n",
    "`DataFrame.rename(index=None, columns=None, inplace=False)`\n",
    "- index: 修改后的行标签\n",
    "- columns: 修改后的列标签\n",
    "- inplace: 默认为False,不改变源数据,返回修改后的数据. True更改源数据\n",
    "\n",
    "可以修改部分行或者列"
   ]
  },
  {
   "cell_type": "code",
   "execution_count": null,
   "metadata": {},
   "outputs": [],
   "source": [
    "df"
   ]
  },
  {
   "cell_type": "code",
   "execution_count": null,
   "metadata": {},
   "outputs": [],
   "source": [
    "# 修改变量df的行标签\n",
    "df.rename(index={1:\"row2\", 2:\"row3\"})"
   ]
  },
  {
   "cell_type": "code",
   "execution_count": null,
   "metadata": {},
   "outputs": [],
   "source": [
    "# 修改变量df的列标签\n",
    "df.rename(columns = {\"Name\":\"name\", \"Age\":\"age\"})"
   ]
  },
  {
   "cell_type": "code",
   "execution_count": null,
   "metadata": {},
   "outputs": [],
   "source": [
    "df"
   ]
  },
  {
   "cell_type": "code",
   "execution_count": null,
   "metadata": {},
   "outputs": [],
   "source": [
    "# 添加inplace参数,修改原数据\n",
    "df.rename(index={1:\"row2\", 2:\"row3\"}, columns = {\"Name\":\"name\", \"Age\":\"age\"}, inplace=True)"
   ]
  },
  {
   "cell_type": "code",
   "execution_count": null,
   "metadata": {},
   "outputs": [],
   "source": [
    "df"
   ]
  },
  {
   "cell_type": "markdown",
   "metadata": {},
   "source": [
    "### info()函数\n",
    "用于打印DataFrame的简要摘要，显示有关DataFrame的信息，包括索引的数据类型dtype和列的数据类型dtype，非空值的数量和内存使用情况。"
   ]
  },
  {
   "cell_type": "code",
   "execution_count": null,
   "metadata": {},
   "outputs": [],
   "source": [
    "# 创建一组数据\n",
    "data = {\"name\":\"诸葛亮\",\"age\":30}\n",
    "# 将数据追加到df数据中\n",
    "df = df.append(data, ignore_index =True)\n",
    "df"
   ]
  },
  {
   "cell_type": "code",
   "execution_count": null,
   "metadata": {},
   "outputs": [],
   "source": [
    "df.info()"
   ]
  },
  {
   "cell_type": "markdown",
   "metadata": {},
   "source": [
    "我们来看一看都有些什么信息：\n",
    "\n",
    "- <class 'pandas.core.frame.DataFrame'>: 是说数据类型为DataFrame\n",
    "- RangeIndex: 5 entries, 0 to 4: 有5条数据（5行），索引为0-4\n",
    "- Data columns (total 3 columns): 该数据帧有3列\n",
    "- #: 索引号，不用太在意\n",
    "- column: 每列数据的列名\n",
    "- Non-Null count: 每列数据的数据个数，缺失值NaN不作计算。可以看出上面Salary列数据有缺失值。\n",
    "- Dtype: 数据的类型。\n",
    "- dtypes: float64(1), int64(1), object(1): 数据类型的统计\n",
    "- memory usage: 248.0+ bytes: 该数据帧占用的运行内存（RAM）"
   ]
  },
  {
   "cell_type": "markdown",
   "metadata": {},
   "source": [
    "### df. sort_index()\n",
    "`sort_index(axis=0, ascending=True, inplace=False)`\n",
    "\n",
    "作用：默认根据行标签对所有行排序，或根据列标签对所有列排序，或根据指定某列或某几列对行排序。\n",
    "\n",
    "注意：df.sort_index()可以完成和df.sort_values()完全相同的功能，但python更推荐用只用df.sort_index()对“根据行标签”和“根据列标签”排序，其他排序方式用df.sort_values()。\n",
    "\n",
    "- axis：0按照行名排序；1按照列名排序\n",
    "- ascending：默认True升序排列；False降序排列\n",
    "- inplace：默认False，否则排序之后的数据直接替换原来的数据\n"
   ]
  },
  {
   "cell_type": "code",
   "execution_count": null,
   "metadata": {},
   "outputs": [],
   "source": [
    "df = pd.DataFrame({'b':[1,2,2,3],'a':[4,3,2,1],'c':[1,3,8,2]},index=[2,0,1,3]) \n",
    "df"
   ]
  },
  {
   "cell_type": "code",
   "execution_count": null,
   "metadata": {},
   "outputs": [],
   "source": [
    "#默认按“行标签”升序排序，或df.sort_index(axis=0, ascending=True)\n",
    "df.sort_index() "
   ]
  },
  {
   "cell_type": "code",
   "execution_count": null,
   "metadata": {},
   "outputs": [],
   "source": [
    "#按“列标签”升序排序\n",
    "df.sort_index(axis=1) "
   ]
  },
  {
   "cell_type": "code",
   "execution_count": null,
   "metadata": {},
   "outputs": [],
   "source": [
    "#按“列标签”升序排序\n",
    "df.sort_index(axis=1, inplace=True) \n",
    "df"
   ]
  },
  {
   "cell_type": "code",
   "execution_count": null,
   "metadata": {},
   "outputs": [],
   "source": [
    "## df.sort_values()\n",
    "`DataFrame.sort_values(by, axis=0, ascending=True, inplace=False, kind='quicksort', na_position='last')`\n",
    "\n",
    "作用：既可以根据列数据，也可根据行数据排序。\n",
    "\n",
    "注意：必须指定by参数，即必须指定哪几行或哪几列；无法根据index名和columns名排序（由.sort_index()执行）\n",
    "\n",
    "- by：str or list of str；如果axis=0，那么by=\"列名\"；如果axis=1，那么by=\"行名\"。\n",
    "- axis：{0 or ‘index’, 1 or ‘columns’}, default 0，默认按照列排序，即纵向排序；如果为1，则是横向排序。\n",
    "- ascending：布尔型，True则升序，如果by=['列名1','列名2']，则该参数可以是[True, False]，即第一字段升序，第二个降序。\n",
    "- inplace：布尔型，是否用排序后的数据框替换现有的数据框。\n",
    "- na_position：{‘first’, ‘last’}, default ‘last’，默认缺失值排在最后面。"
   ]
  },
  {
   "cell_type": "code",
   "execution_count": null,
   "metadata": {
    "scrolled": true
   },
   "outputs": [],
   "source": [
    "# 源数据\n",
    "df = pd.DataFrame({'b':[1,2,3,2],'a':[4,3,2,1],'c':[1,3,8,2]},index=[2,0,1,3]) \n",
    "df"
   ]
  },
  {
   "cell_type": "markdown",
   "metadata": {},
   "source": [
    "1. 按b列升序排序"
   ]
  },
  {
   "cell_type": "code",
   "execution_count": null,
   "metadata": {},
   "outputs": [],
   "source": [
    "print(df)\n",
    "#等同于df.sort_values(by='b',axis=0)\n",
    "df.sort_values(by='b') "
   ]
  },
  {
   "cell_type": "markdown",
   "metadata": {},
   "source": [
    "2. 先按b列降序，再按a列升序排序"
   ]
  },
  {
   "cell_type": "code",
   "execution_count": null,
   "metadata": {},
   "outputs": [],
   "source": [
    "print(df)\n",
    "df.sort_values(by=['b','a'],ascending=[False,True]) \n",
    "#等同于df.sort_values(by=['b','a'],axis=0,ascending=[False,True])"
   ]
  },
  {
   "cell_type": "markdown",
   "metadata": {},
   "source": [
    "3. 按行3升序排列"
   ]
  },
  {
   "cell_type": "code",
   "execution_count": null,
   "metadata": {},
   "outputs": [],
   "source": [
    "print(df)\n",
    "df.sort_values(by=3,axis=1) #必须指定axis=1"
   ]
  },
  {
   "cell_type": "markdown",
   "metadata": {},
   "source": [
    "4. 按行3升序，行0降排列"
   ]
  },
  {
   "cell_type": "code",
   "execution_count": null,
   "metadata": {},
   "outputs": [],
   "source": [
    "print(df)\n",
    "df.sort_values(by=[3,0],axis=1,ascending=[True,False])"
   ]
  },
  {
   "cell_type": "markdown",
   "metadata": {},
   "source": [
    "<font color=\"red\">注意：</font>指定多列（多行）排序时，先按排在前面的列（行）排序，如果内部有相同数据，再对相同数据内部用下一个列（行）排序，\n",
    "\n",
    "以此类推。如何内部无重复数据，则后续排列不执行。即首先满足排在前面的参数的排序，再排后面参数\n"
   ]
  },
  {
   "cell_type": "code",
   "execution_count": null,
   "metadata": {},
   "outputs": [],
   "source": []
  },
  {
   "cell_type": "code",
   "execution_count": null,
   "metadata": {},
   "outputs": [],
   "source": []
  },
  {
   "cell_type": "markdown",
   "metadata": {},
   "source": [
    "# 补充:  错误提示"
   ]
  },
  {
   "cell_type": "markdown",
   "metadata": {},
   "source": [
    "<font color=\"red\">错误提示:</font>\n",
    "\n",
    "- If using all scalar values, you must pass an index: (直接传入一组标量,必须通过index写入)"
   ]
  },
  {
   "cell_type": "code",
   "execution_count": null,
   "metadata": {},
   "outputs": [],
   "source": [
    "# 一组数据,字典的value只有一个值\n",
    "dict_1 = {\"Name\":\"诸葛亮\", \"Age\":30}\n",
    "df = pd.DataFrame(dict_1) # 提示:If using all scalar values, you must pass an index\n",
    "df"
   ]
  },
  {
   "cell_type": "code",
   "execution_count": null,
   "metadata": {},
   "outputs": [],
   "source": [
    "# 方案1:将字典的value修改为列表\n",
    "dict_1 = {\"Name\":[\"诸葛亮\"], \"Age\":[30]}\n",
    "df = pd.DataFrame(dict_1) \n",
    "df"
   ]
  },
  {
   "cell_type": "code",
   "execution_count": null,
   "metadata": {},
   "outputs": [],
   "source": [
    "# 方案2:创建DF是添加一个index参数为[0]\n",
    "dict_1 = {\"Name\":[\"诸葛亮\"], \"Age\":[30]}\n",
    "df = pd.DataFrame(dict_1,index =[0]) \n",
    "df"
   ]
  },
  {
   "cell_type": "markdown",
   "metadata": {},
   "source": [
    "<font color=\"red\">错误提示:</font>\n",
    "\n",
    "- The truth value of a DataFrame is ambiguous. Use a.empty, a.bool(), a.item(), a.any() or a.all().(数据为真是模糊的)\n",
    "\n",
    "\n",
    "直接对DataFrame为空进行判断,出错"
   ]
  },
  {
   "cell_type": "code",
   "execution_count": null,
   "metadata": {},
   "outputs": [],
   "source": [
    "df = pd.DataFrame()\n",
    "if df:\n",
    "    print(\"df中存在数据\")\n",
    "else:\n",
    "    print(\"df中不存在数据\")"
   ]
  },
  {
   "cell_type": "code",
   "execution_count": null,
   "metadata": {},
   "outputs": [],
   "source": [
    "df = pd.DataFrame()\n",
    "if df.bool:\n",
    "    print(\"df中存在数据\")\n",
    "else:\n",
    "    print(\"df中不存在数据\")"
   ]
  },
  {
   "cell_type": "markdown",
   "metadata": {},
   "source": [
    "# 作业"
   ]
  },
  {
   "cell_type": "code",
   "execution_count": null,
   "metadata": {},
   "outputs": [],
   "source": [
    "1. 用三种不同的方法，创建以下Dataframe（保证columns和index一致，值不做要求）\n",
    "\n",
    "结果Dataframe为：\n",
    "    four  one  three  two\n",
    "a     4    1      3    2\n",
    "b     5    2      4    3\n",
    "c     6    3      5    4\n",
    "d     7    4      6    5\n",
    "e     8    5      7    6\n",
    "\n",
    "2. 如图创建Dataframe(4*4，值为0-100的随机数)，通过索引得到以下值\n",
    "    ① 索引得到b，c列的所有值\n",
    "    ② 索引得到第三第四行的数据\n",
    "    ③ 按顺序索引得到two，one行的值\n",
    "    ④ 索引得到大于50的值\n",
    "          a          b          c          d\n",
    "one    60.936882  34.198569  86.933961  63.217850\n",
    "two    93.910622   8.843498  12.482240  35.940462\n",
    "three  11.350391  40.704308  50.524502   5.215897\n",
    "four    5.777448  75.515444  96.847913  57.683561\n",
    "\n",
    "\n",
    "3 .创建一个3*3，值在0-100区间随机值的Dataframe（如图），分别按照index和第二列值大小，降序排序\n",
    "\n",
    "创建Dataframe为：\n",
    "      v1         v2         v3\n",
    "a   6.477556   9.470260  99.929419\n",
    "b  47.411645  50.873012  33.376488\n",
    "c  65.374675  23.431663  43.404255 \n",
    "-------\n",
    "按照index降序：\n",
    "      v1         v2         v3\n",
    "c  65.374675  23.431663  43.404255\n",
    "b  47.411645  50.873012  33.376488\n",
    "a   6.477556   9.470260  99.929419 \n",
    "-------\n",
    "按照第二列值大小降序：\n",
    "    v1         v2         v3\n",
    "b  47.411645  50.873012  33.376488\n",
    "c  65.374675  23.431663  43.404255\n",
    "a   6.477556   9.470260  99.929419 "
   ]
  }
 ],
 "metadata": {
  "kernelspec": {
   "display_name": "Python 3",
   "language": "python",
   "name": "python3"
  },
  "language_info": {
   "codemirror_mode": {
    "name": "ipython",
    "version": 3
   },
   "file_extension": ".py",
   "mimetype": "text/x-python",
   "name": "python",
   "nbconvert_exporter": "python",
   "pygments_lexer": "ipython3",
   "version": "3.7.6"
  }
 },
 "nbformat": 4,
 "nbformat_minor": 4
}
