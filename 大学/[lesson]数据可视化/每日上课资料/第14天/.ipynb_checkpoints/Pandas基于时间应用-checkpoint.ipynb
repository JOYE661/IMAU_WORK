{
 "cells": [
  {
   "cell_type": "markdown",
   "metadata": {},
   "source": [
    "# 时间处理基础"
   ]
  },
  {
   "cell_type": "markdown",
   "metadata": {},
   "source": [
    "\n",
    "\n",
    "Pandas提供了四种类型的生成日期时间的对象：日期时间、时间增量、时间跨度、日期偏移量\n",
    "\n",
    "（1） 日期时间(Date Times)：具有时区支持的特定日期和时间。与Python标准库中的datetime.datetime类似。如2020年12月6日13点37分50秒；\n",
    "\n",
    "（2） 时间增量(Time Deltas)：绝对持续时间，用于在指定时间点基础上增加指定的增量，如在某年月日的基础上增加2天、增加2个月、减少4小时等，最后产生一个新的时间点；\n",
    "\n",
    "（3） 时间跨度(Time Span)：由时间点及其相关周期定义的时间跨度，如连续产生一年四个季度的时间序列；\n",
    "\n",
    "（4） 日期偏移(Date Offsets)：以日历计算的相对持续时间，表示时间间隔，两个时间点之间的长度，如日、周、月、季度、年。"
   ]
  },
  {
   "cell_type": "markdown",
   "metadata": {},
   "source": [
    "<img src=\"images/20220415102506.png\">\n",
    "\n",
    "一般情况下，时间序列主要是 `Series`  或 `DataFrame` 的时间型索引，可以用时间元素进行操控。"
   ]
  },
  {
   "cell_type": "code",
   "execution_count": null,
   "metadata": {},
   "outputs": [],
   "source": [
    "import pandas as pd\n",
    "\n",
    "import numpy as np\n",
    "\n",
    "import time\n",
    "\n",
    "import datetime"
   ]
  },
  {
   "cell_type": "markdown",
   "metadata": {},
   "source": [
    "## 一、时间序列类型"
   ]
  },
  {
   "cell_type": "markdown",
   "metadata": {},
   "source": [
    "### 1.时间戳\n",
    "\n",
    "python datetime的替代品\n",
    "\n",
    "时间戳相当于python的Datetime，在大多数情况下可以与之互换。\n",
    "\n",
    "该类型用于组成DatetimeIndex的条目，以及pandas中其他面向时间序列的数据结构。"
   ]
  },
  {
   "cell_type": "markdown",
   "metadata": {},
   "source": [
    "#### 例子:\n",
    "- 转换类似日期时间的字符串"
   ]
  },
  {
   "cell_type": "code",
   "execution_count": null,
   "metadata": {},
   "outputs": [],
   "source": [
    "pd.Timestamp('2022-01-01 12')"
   ]
  },
  {
   "cell_type": "code",
   "execution_count": null,
   "metadata": {},
   "outputs": [],
   "source": [
    "pd.Timestamp('2022-01')"
   ]
  },
  {
   "cell_type": "markdown",
   "metadata": {},
   "source": [
    "- unit参数为s:\n",
    "       这将转换以秒为单位表示Unix历元的浮点值 \n",
    "       1970年1月1日这个时间正是Unix系统的起始时间"
   ]
  },
  {
   "cell_type": "code",
   "execution_count": null,
   "metadata": {},
   "outputs": [],
   "source": [
    "pd.Timestamp(time.time(), unit=\"s\")"
   ]
  },
  {
   "cell_type": "markdown",
   "metadata": {},
   "source": [
    "- year, month, day,hour, minute, second, microsecond单独设置时间"
   ]
  },
  {
   "cell_type": "code",
   "execution_count": null,
   "metadata": {},
   "outputs": [],
   "source": [
    "pd.Timestamp(2022, 1, 1, 12)"
   ]
  },
  {
   "cell_type": "code",
   "execution_count": null,
   "metadata": {},
   "outputs": [],
   "source": [
    "pd.Timestamp(year=2022, month=1, day=1, hour=12)"
   ]
  },
  {
   "cell_type": "code",
   "execution_count": null,
   "metadata": {},
   "outputs": [],
   "source": [
    "总结:\n",
    "    \n",
    "Timestamp\n",
    "\n",
    "- 将字符串或者unix时间转化为 pandas对应的时间戳"
   ]
  },
  {
   "cell_type": "markdown",
   "metadata": {},
   "source": [
    "### 2.时间间隔--实现datetime加减\n",
    "\n",
    "表示持续时间，即两个日期或时间之间的差异。\n",
    "\n",
    "相当于python的datetime.timedelta，在大多数情况下可以与之互换"
   ]
  },
  {
   "cell_type": "code",
   "execution_count": null,
   "metadata": {},
   "outputs": [],
   "source": [
    "ts = pd.Timestamp('2022-01-01 12')\n",
    "ts + pd.Timedelta(-1, \"d\")"
   ]
  },
  {
   "cell_type": "code",
   "execution_count": null,
   "metadata": {},
   "outputs": [],
   "source": [
    "#时间间隔\n",
    "td = pd.Timedelta(days=5, minutes=50, seconds=20)\n",
    "td"
   ]
  },
  {
   "cell_type": "code",
   "execution_count": null,
   "metadata": {},
   "outputs": [],
   "source": [
    "ts - td"
   ]
  },
  {
   "cell_type": "code",
   "execution_count": null,
   "metadata": {},
   "outputs": [],
   "source": [
    "td.total_seconds()"
   ]
  },
  {
   "cell_type": "code",
   "execution_count": null,
   "metadata": {},
   "outputs": [],
   "source": [
    "from datetime import timedelta\n",
    "\n",
    "now = datetime.datetime.now()\n",
    "print(now)\n",
    "#计算当前时间往后100天的日期\n",
    "#dt = now + pd.Timedelta(days=100)\n",
    "dt = now + timedelta(days=100)\n",
    "print(dt,type(dt))\n",
    "#只显示年月日\n",
    "dt.strftime('%Y-%m-%d')"
   ]
  },
  {
   "cell_type": "markdown",
   "metadata": {},
   "source": [
    "### 3.时间转化\n",
    "\n",
    "`to_datetime` 转换时间戳\n",
    "\n",
    "你可能会想到，我们经常要和文本数据（字符串）打交道，能否快速将文本数据转为时间戳呢？\n",
    "\n",
    "      答案是可以的，通过 to_datetime 能快速将字符串转换为时间戳。当传递一个Series时，它会返回一个Series（具有相同的索引），而类似列表的则转换为DatetimeIndex。\n",
    "      \n",
    "`to_datetime(arg, errors='raise', dayfirst=False, yearfirst=False, utc=None, format=None, unit=None, infer_datetime_format=False, origin='unix')`\n",
    "\n",
    "函数用户将数组、序列或dict的对象转换为datetime对象\n",
    "\n",
    "- `arg` 要转换为日期时间的对象\n",
    "- `errors`:错误处理\n",
    "        If 'raise',将引发异常.\n",
    "        If 'coerce', 无效的转换,使用NaT.\n",
    "        If 'ignore', 无效的转换,将使用输入的数据.\n",
    "- `dayfirst` :转换时指定日期分析顺序\n",
    "- `utc` :控制与时区相关的解析、本地化和转换(忽略)\n",
    "- `format`: 用于分析时间的strftime，例如“%d/%m/%Y”,自定义格式\n",
    "- `unit` : D,s,ms 将时间戳转datetime\n",
    "- `origin`: 定义参考日期。数值将被解析为自该参考日期起的单位数"
   ]
  },
  {
   "cell_type": "markdown",
   "metadata": {},
   "source": [
    "1). 处理各种输入格式\n",
    "\n",
    "    从一个数据帧的多个列中组装日期时间。\n",
    "\n",
    "    这些键可以是常见的缩写，\n",
    "\n",
    "    如['year'、'month'、'day'、'minute'、'second'、'ms'、'us'、'ns']），\n",
    "\n",
    "    也可以是相同的复数形式"
   ]
  },
  {
   "cell_type": "code",
   "execution_count": null,
   "metadata": {},
   "outputs": [],
   "source": [
    "df = pd.DataFrame({'year': [2015, 2016],'month': [2, 3],'day': [4, 5]})\n",
    "df"
   ]
  },
  {
   "cell_type": "code",
   "execution_count": null,
   "metadata": {
    "scrolled": true
   },
   "outputs": [],
   "source": [
    "pd.to_datetime(df)"
   ]
  },
  {
   "cell_type": "markdown",
   "metadata": {},
   "source": [
    "2). 将字符串转datetime"
   ]
  },
  {
   "cell_type": "code",
   "execution_count": null,
   "metadata": {},
   "outputs": [],
   "source": [
    "pd.to_datetime(['11-12-2021'])"
   ]
  },
  {
   "cell_type": "code",
   "execution_count": null,
   "metadata": {},
   "outputs": [],
   "source": [
    "pd.to_datetime([\"2005/11/23\", \"2010.12.31\"])"
   ]
  },
  {
   "cell_type": "markdown",
   "metadata": {},
   "source": [
    "3). 除了可以将文本数据转为时间戳外，还可以将 unix 时间转为时间戳。"
   ]
  },
  {
   "cell_type": "code",
   "execution_count": null,
   "metadata": {},
   "outputs": [],
   "source": [
    "pd.to_datetime([1349720105, 1349806505, 1349892905], unit=\"s\")"
   ]
  },
  {
   "cell_type": "code",
   "execution_count": null,
   "metadata": {},
   "outputs": [],
   "source": [
    "pd.to_datetime([1349720105100, 1349720105200, 1349720105300], unit=\"ms\")"
   ]
  },
  {
   "cell_type": "markdown",
   "metadata": {},
   "source": [
    "4). 自动识别异常\n",
    "    - 210605"
   ]
  },
  {
   "cell_type": "code",
   "execution_count": null,
   "metadata": {},
   "outputs": [],
   "source": [
    "pd.to_datetime('210605')"
   ]
  },
  {
   "cell_type": "code",
   "execution_count": null,
   "metadata": {},
   "outputs": [],
   "source": [
    "pd.to_datetime('210605',yearfirst=True)"
   ]
  },
  {
   "cell_type": "markdown",
   "metadata": {},
   "source": [
    "5). 配合unit参数,使用非unix时间"
   ]
  },
  {
   "cell_type": "code",
   "execution_count": null,
   "metadata": {},
   "outputs": [],
   "source": [
    "# origin参考起始时间\n",
    "pd.to_datetime([1, 2, 3], unit='D', origin=pd.Timestamp('2020-01-11'))"
   ]
  },
  {
   "cell_type": "markdown",
   "metadata": {},
   "source": [
    "6).  不可转换日期/时间 \n",
    "\n",
    "        如果日期不符合时间戳限制，则传递errors='ignore'将返回原始输入，而不是引发任何异常。\n",
    "\n",
    "        除了将非日期（或不可解析的日期）强制传递给NaT之外，传递errors='coerce'还会将越界日期强制传递给NaT\n",
    "\n",
    "- errors`:错误处理\n",
    "        If 'raise',将引发异常.\n",
    "        If 'coerce', 无效的转换,使用NaT.\n",
    "        If 'ignore', 无效的转换,将使用输入的数据."
   ]
  },
  {
   "cell_type": "code",
   "execution_count": null,
   "metadata": {},
   "outputs": [],
   "source": [
    "pd.to_datetime('120211204')"
   ]
  },
  {
   "cell_type": "code",
   "execution_count": null,
   "metadata": {},
   "outputs": [],
   "source": [
    "pd.to_datetime('120211204',errors=\"ignore\")"
   ]
  },
  {
   "cell_type": "code",
   "execution_count": null,
   "metadata": {},
   "outputs": [],
   "source": [
    "pd.to_datetime('120211204',errors=\"coerce\")"
   ]
  },
  {
   "cell_type": "code",
   "execution_count": null,
   "metadata": {},
   "outputs": [],
   "source": [
    "pd.to_datetime(pd.Series([\"Jul 31, 2018\", \"2018-05-10\", None]))"
   ]
  },
  {
   "cell_type": "code",
   "execution_count": null,
   "metadata": {},
   "outputs": [],
   "source": []
  },
  {
   "cell_type": "markdown",
   "metadata": {},
   "source": [
    "> 对于float arg，可能会发生精确舍入。要防止意外行为，请使用固定宽度的精确类型。"
   ]
  },
  {
   "cell_type": "markdown",
   "metadata": {},
   "source": [
    "### 4.生成时间戳范围\n",
    "\n",
    "\n",
    "有时候，我们可能想要生成某个范围内的时间戳。例如，我想要生成 \"2018-6-26\" 这一天之后的8天时间戳\n",
    "\n",
    "我们可以使用 `date_range` 和 `bdate_range` 来完成时间戳范围的生成。"
   ]
  },
  {
   "cell_type": "markdown",
   "metadata": {},
   "source": [
    "#### date_range() 返回固定频率的DatetimeIndex\n",
    "`date_range(start=None, end=None, periods=None, freq=None, tz=None, normalize=False, name=None, closed=None, **kwargs)`\n",
    "\n",
    " 返回等距时间点的范围（其中任意两个相邻点之间的差值由给定频率指定），以便它们都满足开始<[=]x<[=]end，其中第一个和最后一个分别为。，该范围内的第一个和最后一个时间点位于freq的边界（如果以频率字符串的形式给出）或对freq有效\n",
    "- start :生成日期的左边界\n",
    "- end : 生成日期的左边界\n",
    "- periods: 要生成的周期数 \n",
    "\n",
    "- freq : 频率, default 'D' ,频率字符串可以有倍数, '5H'\n",
    "- tz: 时区用于返回本地化日期时间索引的时区名称，例如“Asia/Hong_Kong”。默认情况下，生成的DatetimeIndex是时区初始索引。\n",
    "- normalize: 默认 False, 在生成日期范围之前，将开始/结束日期标准化\n",
    "- name: 默认 None 设置返回DatetimeIndex name   \n",
    "- closed: 控制是否包括屏幕上的“开始”和“结束”边界默认设置包括两端的边界点{None, ‘left’, ‘right’}\n",
    "\n",
    "    (closed 1.4.0被启用) inclusive:包括边界{\"both\", \"neither\", \"left\", \"right\"}, default \"both\"\n",
    " "
   ]
  },
  {
   "cell_type": "markdown",
   "metadata": {},
   "source": [
    "1). 指定值\n",
    "- 默认是包含开始和结束时间, 默认频率使用的D(天)"
   ]
  },
  {
   "cell_type": "code",
   "execution_count": null,
   "metadata": {},
   "outputs": [],
   "source": [
    "pd.date_range(start='1/1/2021', end='1/08/2021')"
   ]
  },
  {
   "cell_type": "code",
   "execution_count": null,
   "metadata": {},
   "outputs": [],
   "source": [
    "pd.date_range(start='2010', end='2011')"
   ]
  },
  {
   "cell_type": "markdown",
   "metadata": {},
   "source": [
    "2). 指定开始日期,设置期间数"
   ]
  },
  {
   "cell_type": "code",
   "execution_count": null,
   "metadata": {},
   "outputs": [],
   "source": [
    "pd.date_range(start='1/1/2018', periods=8)"
   ]
  },
  {
   "cell_type": "markdown",
   "metadata": {},
   "source": [
    "- 指定开始、结束和期间；频率自动生成（线性间隔）"
   ]
  },
  {
   "cell_type": "code",
   "execution_count": null,
   "metadata": {},
   "outputs": [],
   "source": [
    "pd.date_range(start='2018-04-24', end='2018-04-27', periods=3)"
   ]
  },
  {
   "cell_type": "code",
   "execution_count": null,
   "metadata": {},
   "outputs": [],
   "source": [
    "pd.date_range(start='2018-04-24', end='2018-04-27', periods=4)"
   ]
  },
  {
   "cell_type": "markdown",
   "metadata": {},
   "source": [
    "3). 频率 freq\n",
    "<img src=\"images/20220417232702.png\" style=\"width:80%\">"
   ]
  },
  {
   "cell_type": "markdown",
   "metadata": {},
   "source": [
    "- 月缩写：JAN/FEB/MAR/APR/MAY/JUN/JUL/AUG/SEP/OCT/NOV/DEC\n",
    "- 星期几缩写：MON/TUE/WED/THU/FRI/SAT/SUN\n",
    "- 所以Q-月只有三种情况：1-4-7-10,2-5-8-11,3-6-9-12"
   ]
  },
  {
   "cell_type": "code",
   "execution_count": null,
   "metadata": {},
   "outputs": [],
   "source": [
    "pd.date_range('2022/1/1','2022/2/1', freq = 'W-MON')\n",
    "# W-MON：从指定星期几开始算起，每周\n",
    "# 星期几缩写：MON/TUE/WED/THU/FRI/SAT/SUN"
   ]
  },
  {
   "cell_type": "code",
   "execution_count": null,
   "metadata": {},
   "outputs": [],
   "source": [
    "pd.date_range('2021/1/1','2021/5/1', freq = 'WOM-2MON')\n",
    "# WOM-2MON：每月的第几个星期几开始算，这里是每月第二个星期一"
   ]
  },
  {
   "cell_type": "code",
   "execution_count": null,
   "metadata": {},
   "outputs": [],
   "source": [
    "# 默认freq = 'D'：每日历日\n",
    "pd.date_range('2022/1/1','2022/1/4')"
   ]
  },
  {
   "cell_type": "code",
   "execution_count": null,
   "metadata": {},
   "outputs": [],
   "source": [
    "pd.date_range('2022/1/1','2022/1/5', freq = 'B')  # B：每工作日"
   ]
  },
  {
   "cell_type": "code",
   "execution_count": null,
   "metadata": {},
   "outputs": [],
   "source": [
    "pd.date_range('2022/1/1','2022/1/2', freq = 'H')  # H：每小时"
   ]
  },
  {
   "cell_type": "code",
   "execution_count": null,
   "metadata": {},
   "outputs": [],
   "source": [
    "pd.date_range('2022/1/1 12:00','2022/1/1 12:10', freq = 'T')  # T/MIN：每分"
   ]
  },
  {
   "cell_type": "code",
   "execution_count": null,
   "metadata": {},
   "outputs": [],
   "source": [
    "print(pd.date_range('2022/1/1 12:00:00','2022/1/1 12:00:10', freq = 'S'))  # S：每秒"
   ]
  },
  {
   "cell_type": "code",
   "execution_count": null,
   "metadata": {
    "scrolled": true
   },
   "outputs": [],
   "source": [
    "print(pd.date_range('2022/1/1 12:00:00','2022/1/1 12:00:10', freq = 'L'))  # L：每毫秒（千分之一秒）"
   ]
  },
  {
   "cell_type": "code",
   "execution_count": null,
   "metadata": {},
   "outputs": [],
   "source": [
    "pd.date_range('2022/1/1 12:00:00','2022/1/1 12:00:10', freq = 'U')  # U：每微秒（百万分之一秒）"
   ]
  },
  {
   "cell_type": "code",
   "execution_count": null,
   "metadata": {},
   "outputs": [],
   "source": [
    "# M：每月最后一个日历日\n",
    "pd.date_range('2017','2018', freq = 'M')"
   ]
  },
  {
   "cell_type": "code",
   "execution_count": null,
   "metadata": {},
   "outputs": [],
   "source": [
    "# Q-月：指定月为季度末，每个季度末最后一月的最后一个日历日\n",
    "print(pd.date_range('2017','2020', freq = 'Q-DEC')) "
   ]
  },
  {
   "cell_type": "code",
   "execution_count": null,
   "metadata": {},
   "outputs": [],
   "source": [
    "# A-月：每年指定月份的最后一个日历日\n",
    "print(pd.date_range('2017','2020', freq = 'A-DEC')) "
   ]
  },
  {
   "cell_type": "code",
   "execution_count": null,
   "metadata": {},
   "outputs": [],
   "source": [
    "# B,(M,Q,A),S \t分别代表了工作日，（以月为频率，以季度为频率，以年为频率），最接近月初的那一天\n",
    "print(pd.date_range('2017','2018', freq = 'BM'))  \n",
    "print(pd.date_range('2017','2020', freq = 'BQ-DEC'))  \n",
    "print(pd.date_range('2017','2020', freq = 'BA-DEC')) \n",
    "print('------')\n",
    "# BM：每月最后一个工作日\n",
    "# BQ-月：指定月为季度末，每个季度末最后一月的最后一个工作日\n",
    "# BA-月：每年指定月份的最后一个工作日"
   ]
  },
  {
   "cell_type": "code",
   "execution_count": null,
   "metadata": {},
   "outputs": [],
   "source": [
    "print(pd.date_range('2017','2018', freq = 'MS'))  \n",
    "print(pd.date_range('2017','2020', freq = 'QS-DEC'))  \n",
    "print(pd.date_range('2017','2020', freq = 'AS-DEC')) \n",
    "print('------')\n",
    "# M：每月第一个日历日\n",
    "# Q-月：指定月为季度末，每个季度末最后一月的第一个日历日\n",
    "# A-月：每年指定月份的第一个日历日"
   ]
  },
  {
   "cell_type": "code",
   "execution_count": null,
   "metadata": {},
   "outputs": [],
   "source": [
    "print(pd.date_range('2017','2018', freq = 'BMS'))  \n",
    "print(pd.date_range('2017','2020', freq = 'BQS-DEC'))  \n",
    "print(pd.date_range('2017','2020', freq = 'BAS-DEC')) \n",
    "print('------')\n",
    "# BM：每月第一个工作日\n",
    "# BQ-月：指定月为季度末，每个季度末最后一月的第一个工作日\n",
    "# BA-月：每年指定月份的第一个工作日"
   ]
  },
  {
   "cell_type": "code",
   "execution_count": null,
   "metadata": {},
   "outputs": [],
   "source": [
    "# pd.date_range()-日期范围：复合频率\n",
    "\n",
    "print(pd.date_range('2017/1/1','2017/2/1', freq = '7D'))  # 7天\n",
    "print(pd.date_range('2017/1/1','2017/1/2', freq = '2h30min'))  # 2小时30分钟\n",
    "print(pd.date_range('2017','2018', freq = '2M'))  # 2月，每月最后一个日历日"
   ]
  },
  {
   "cell_type": "code",
   "execution_count": null,
   "metadata": {},
   "outputs": [],
   "source": [
    "pd.date_range(start='1/1/2018', periods=5, freq='3M')"
   ]
  },
  {
   "cell_type": "markdown",
   "metadata": {},
   "source": [
    "4).  `closed`: 边界设置\n",
    "\n",
    "        控制是否包括屏幕上的“开始”和“结束”边界默认设置包括两端的边界点{None, ‘left’, ‘right’}"
   ]
  },
  {
   "cell_type": "code",
   "execution_count": null,
   "metadata": {},
   "outputs": [],
   "source": [
    "pd.date_range(start='2022-01-01', end='2022-01-04', closed=None)"
   ]
  },
  {
   "cell_type": "code",
   "execution_count": null,
   "metadata": {},
   "outputs": [],
   "source": [
    "pd.date_range(start='2022-01-01', end='2022-01-04')"
   ]
  },
  {
   "cell_type": "markdown",
   "metadata": {},
   "source": [
    "如果需要排除\"end\",则使用“closed='left'”"
   ]
  },
  {
   "cell_type": "code",
   "execution_count": null,
   "metadata": {},
   "outputs": [],
   "source": [
    "pd.date_range(start='2022-01-01', end='2022-01-04',closed=\"left\")"
   ]
  },
  {
   "cell_type": "markdown",
   "metadata": {},
   "source": [
    "如果需要排除\"start\",则使用“closed='right'”"
   ]
  },
  {
   "cell_type": "code",
   "execution_count": null,
   "metadata": {},
   "outputs": [],
   "source": [
    "pd.date_range(start='2022-01-01', end='2022-01-04',closed=\"right\")"
   ]
  },
  {
   "cell_type": "markdown",
   "metadata": {},
   "source": [
    "5)  `normalize`: 在生成日期范围之前，将开始/结束日期标准化"
   ]
  },
  {
   "cell_type": "code",
   "execution_count": null,
   "metadata": {
    "scrolled": true
   },
   "outputs": [],
   "source": [
    "pd.date_range(start = '1/1/2021 15:30', periods =10, name = 'mypd')"
   ]
  },
  {
   "cell_type": "code",
   "execution_count": null,
   "metadata": {},
   "outputs": [],
   "source": [
    "pd.date_range(start = '1/1/2021 15:30', periods =10, name = 'mypd',normalize=True)"
   ]
  },
  {
   "cell_type": "code",
   "execution_count": null,
   "metadata": {},
   "outputs": [],
   "source": [
    "pd.date_range(start = '1/1/2021 15:30', periods=10, name='mypd', freq=\"H\")"
   ]
  },
  {
   "cell_type": "code",
   "execution_count": null,
   "metadata": {},
   "outputs": [],
   "source": [
    "pd.date_range(start = '1/1/2021 15:30', periods=10, name='mypd',normalize=True, freq=\"H\")"
   ]
  },
  {
   "cell_type": "markdown",
   "metadata": {},
   "source": [
    "## 5.时期频率转换"
   ]
  },
  {
   "cell_type": "code",
   "execution_count": null,
   "metadata": {},
   "outputs": [],
   "source": [
    "# asfreq：时期频率转换\n",
    "\n",
    "ts = pd.Series(np.random.rand(4),\n",
    "              index = pd.date_range('20170101','20170104'))\n",
    "print(ts)\n",
    "print(ts.asfreq('4H',method = 'ffill'))\n",
    "# 改变频率，这里是D改为4H\n",
    "# method：插值模式，None不插值，ffill用之前值填充，bfill用之后值填充"
   ]
  },
  {
   "cell_type": "markdown",
   "metadata": {},
   "source": [
    "## 6. shift()-时间频率进行移位\n",
    "\n",
    "`shift(periods=1, freq=None, axis=0, fill_value=None)`\n",
    "按所需的时段数和可选的时间频率进行移位索引。\n",
    "\n",
    "如果未传递freq，则在不重新调整数据的情况下移动索引。如果传递了freq（在这种情况下，索引必须是date或datetime，否则将引发NotImplementedError），只要在索引中设置了freq或推断的_freq属性，就可以推断freq\n",
    "\n",
    "- periods: 要转换的时段数。可以是正面的，也可以是负面的\n",
    "- freq:如果指定了freq，则索引值会移位，但数据不会重新对齐。也就是说，如果要在移动时扩展索引并保留原始数据\n",
    "- axis:{0 or 'index', 1 or 'columns', None} 转换方向.\n",
    "- fill_value: 填充值"
   ]
  },
  {
   "cell_type": "code",
   "execution_count": null,
   "metadata": {},
   "outputs": [],
   "source": [
    "df = pd.DataFrame(np.random.rand(16).reshape((4,4)), \n",
    "                  index = pd.date_range('20210101','20210104'),\n",
    "                  columns=list('ABCD'))\n",
    "df"
   ]
  },
  {
   "cell_type": "code",
   "execution_count": null,
   "metadata": {},
   "outputs": [],
   "source": [
    "# 正数：数值后移（滞后）,模式为行\n",
    "df.shift(periods=2)"
   ]
  },
  {
   "cell_type": "code",
   "execution_count": null,
   "metadata": {},
   "outputs": [],
   "source": [
    "# 正数：数值后移（滞后） 设置为列\n",
    "df.shift(periods=1, axis=\"columns\")"
   ]
  },
  {
   "cell_type": "code",
   "execution_count": null,
   "metadata": {},
   "outputs": [],
   "source": [
    "# 正数: 数值后移, NaN填充为0\n",
    "df.shift(periods=3, fill_value=0)"
   ]
  },
  {
   "cell_type": "code",
   "execution_count": null,
   "metadata": {},
   "outputs": [],
   "source": [
    "# 当设置freq时 ,对时间索引移动\n",
    "df.shift(periods=3, freq=\"D\")"
   ]
  },
  {
   "cell_type": "code",
   "execution_count": null,
   "metadata": {},
   "outputs": [],
   "source": [
    "# 计算变化百分比，这里计算：该时间戳与上一个时间戳相比，变化百分比\n",
    "per = ts/ts.shift(1) - 1\n",
    "print(per)"
   ]
  },
  {
   "cell_type": "markdown",
   "metadata": {},
   "source": [
    "# 作业"
   ]
  },
  {
   "cell_type": "markdown",
   "metadata": {},
   "source": [
    "作业1：请输出以下时间序列\n",
    "<img src=\"images/20220417232940.png\" style=\"width:60%\"/>\n"
   ]
  },
  {
   "cell_type": "code",
   "execution_count": null,
   "metadata": {},
   "outputs": [],
   "source": []
  }
 ],
 "metadata": {
  "kernelspec": {
   "display_name": "Python 3",
   "language": "python",
   "name": "python3"
  },
  "language_info": {
   "codemirror_mode": {
    "name": "ipython",
    "version": 3
   },
   "file_extension": ".py",
   "mimetype": "text/x-python",
   "name": "python",
   "nbconvert_exporter": "python",
   "pygments_lexer": "ipython3",
   "version": "3.7.6"
  }
 },
 "nbformat": 4,
 "nbformat_minor": 4
}
