{
 "cells": [
  {
   "cell_type": "code",
   "execution_count": 2,
   "metadata": {},
   "outputs": [],
   "source": [
    "import numpy as np\n",
    "import pandas as pd\n",
    "import matplotlib.pyplot as plt"
   ]
  },
  {
   "cell_type": "markdown",
   "metadata": {},
   "source": [
    "###  也可以通过cut方法\n",
    "pandas.cut使用总结\n",
    "\n",
    "用途\n",
    "\n",
    "pandas.cut用来把一组数据分割成离散的区间。比如有一组年龄数据，可以使用pandas.cut将年龄数据分割成不同的年龄段并打上标签。"
   ]
  },
  {
   "cell_type": "markdown",
   "metadata": {},
   "source": [
    "`pd.cut(\n",
    "    x,\n",
    "    bins,\n",
    "    right: bool = True,\n",
    "    labels=None,\n",
    "    retbins: bool = False,\n",
    "    precision: int = 3,\n",
    "    include_lowest: bool = False,\n",
    "    duplicates: str = 'raise',\n",
    ")`"
   ]
  },
  {
   "cell_type": "markdown",
   "metadata": {},
   "source": [
    "参数含义\n",
    "\n",
    "- x：被切分的类数组（array-like）数据，必须是1维的（不能用DataFrame）；\n",
    "- bins：bins是被切割后的区间（或者叫“桶”、“箱”、“面元”），有3中形式：一个int型的标量、标量序列（数组）或者pandas.IntervalIndex 。\n",
    "\n",
    "    一个int型的标量\n",
    "    当bins为一个int型的标量时，代表将x平分成bins份。x的范围在每侧扩展0.1%，以包括x的最大值和最小值。\n",
    "    标量序列\n",
    "    标量序列定义了被分割后每一个bin的区间边缘，此时x没有扩展。\n",
    "    pandas.IntervalIndex\n",
    "    定义要使用的精确区间。\n",
    "\n",
    "- right：bool型参数，默认为True，表示是否包含区间右部。比如如果bins=[1,2,3]，right=True，则区间为(1,2]，(2,3]；right=False，则区间为(1,2),(2,3)。\n",
    "- labels：给分割后的bins打标签，比如把年龄x分割成年龄段bins后，可以给年龄段打上诸如青年、中年的标签。labels的长度必须和划分后的区间长度相等，比如bins=[1,2,3]，划分后有2个区间(1,2]，(2,3]，则labels的长度必须为2。如果指定labels=False，则返回x中的数据在第几个bin中（从0开始）。\n",
    "- retbins：bool型的参数，表示是否将分割后的bins返回，当bins为一个int型的标量时比较有用，这样可以得到划分后的区间，默认为False。\n",
    "- precision：保留区间小数点的位数，默认为3.\n",
    "- include_lowest：bool型的参数，表示区间的左边是开还是闭的，默认为false，也就是不包含区间左部（闭）。\n",
    "- duplicates：是否允许重复区间。有两种选择：raise：不允许，drop：允许"
   ]
  },
  {
   "cell_type": "markdown",
   "metadata": {},
   "source": [
    "返回值\n",
    "\n",
    "- out：一个pandas.Categorical, Series或者ndarray类型的值，代表分区后x中的每个值在哪个bin（区间）中，如果指定了labels，则返回对应的label。\n",
    "- bins：分隔后的区间，当指定retbins为True时返回。"
   ]
  },
  {
   "cell_type": "code",
   "execution_count": 3,
   "metadata": {},
   "outputs": [
    {
     "data": {
      "text/plain": [
       "[(0.901, 20.8], (0.901, 20.8], (0.901, 20.8], (20.8, 40.6], (20.8, 40.6], ..., (0.901, 20.8], (0.901, 20.8], (20.8, 40.6], (20.8, 40.6], (20.8, 40.6]]\n",
       "Length: 16\n",
       "Categories (5, interval[float64]): [(0.901, 20.8] < (20.8, 40.6] < (40.6, 60.4] < (60.4, 80.2] < (80.2, 100.0]]"
      ]
     },
     "execution_count": 3,
     "metadata": {},
     "output_type": "execute_result"
    }
   ],
   "source": [
    "ages = np.array([1,5,10,40,36,12,58,62,77,89,100,18,20,25,30,32]) \n",
    "pd.cut(ages, 5)"
   ]
  },
  {
   "cell_type": "markdown",
   "metadata": {},
   "source": [
    "可以看到ages被平分成5个区间，且区间两边都有扩展以包含最大值和最小值。"
   ]
  },
  {
   "cell_type": "markdown",
   "metadata": {},
   "source": [
    "#### 将ages平分成5个区间并指定labels"
   ]
  },
  {
   "cell_type": "code",
   "execution_count": 4,
   "metadata": {},
   "outputs": [
    {
     "data": {
      "text/plain": [
       "[婴儿, 婴儿, 婴儿, 青年, 青年, ..., 婴儿, 婴儿, 青年, 青年, 青年]\n",
       "Length: 16\n",
       "Categories (5, object): [婴儿 < 青年 < 中年 < 壮年 < 老年]"
      ]
     },
     "execution_count": 4,
     "metadata": {},
     "output_type": "execute_result"
    }
   ],
   "source": [
    "ages = np.array([1,5,10,40,36,12,58,62,77,89,100,18,20,25,30,32]) #年龄数据\n",
    "pd.cut(ages, 5, labels=[u\"婴儿\",u\"青年\",u\"中年\",u\"壮年\",u\"老年\"])"
   ]
  },
  {
   "cell_type": "markdown",
   "metadata": {},
   "source": [
    "#### 给ages指定区间进行分割"
   ]
  },
  {
   "cell_type": "code",
   "execution_count": 5,
   "metadata": {},
   "outputs": [
    {
     "data": {
      "text/plain": [
       "[(0, 5], (0, 5], (5, 20], (30, 50], (30, 50], ..., (5, 20], (5, 20], (20, 30], (20, 30], (30, 50]]\n",
       "Length: 16\n",
       "Categories (5, interval[int64]): [(0, 5] < (5, 20] < (20, 30] < (30, 50] < (50, 100]]"
      ]
     },
     "execution_count": 5,
     "metadata": {},
     "output_type": "execute_result"
    }
   ],
   "source": [
    "ages = np.array([1,5,10,40,36,12,58,62,77,89,100,18,20,25,30,32]) #年龄数据\n",
    "pd.cut(ages, [0,5,20,30,50,100])"
   ]
  },
  {
   "cell_type": "code",
   "execution_count": 6,
   "metadata": {},
   "outputs": [
    {
     "data": {
      "text/plain": [
       "[婴儿, 婴儿, 青年, 壮年, 壮年, ..., 青年, 青年, 中年, 中年, 壮年]\n",
       "Length: 16\n",
       "Categories (5, object): [婴儿 < 青年 < 中年 < 壮年 < 老年]"
      ]
     },
     "execution_count": 6,
     "metadata": {},
     "output_type": "execute_result"
    }
   ],
   "source": [
    "ages = np.array([1,5,10,40,36,12,58,62,77,89,100,18,20,25,30,32]) #年龄数据\n",
    "pd.cut(ages, [0,5,20,30,50,100], labels=[u\"婴儿\",u\"青年\",u\"中年\",u\"壮年\",u\"老年\"])"
   ]
  },
  {
   "cell_type": "markdown",
   "metadata": {},
   "source": [
    "这里不再平分ages，而是将ages分为了5个区间(0, 5],(5, 20],(20, 30],(30,50],(50,100]."
   ]
  },
  {
   "cell_type": "markdown",
   "metadata": {},
   "source": [
    "#### 返回分割后的bins\n",
    "- 令retbins=True即可"
   ]
  },
  {
   "cell_type": "code",
   "execution_count": 7,
   "metadata": {},
   "outputs": [
    {
     "name": "stdout",
     "output_type": "stream",
     "text": [
      "([婴儿, 婴儿, 青年, 壮年, 壮年, ..., 青年, 青年, 中年, 中年, 壮年]\n",
      "Length: 16\n",
      "Categories (5, object): [婴儿 < 青年 < 中年 < 壮年 < 老年], array([  0,   5,  20,  30,  50, 100]))\n",
      "<class 'tuple'>\n"
     ]
    }
   ],
   "source": [
    "ages = np.array([1,5,10,40,36,12,58,62,77,89,100,18,20,25,30,32]) #年龄数据\n",
    "s = pd.cut(ages, [0,5,20,30,50,100], labels=[u\"婴儿\",u\"青年\",u\"中年\",u\"壮年\",u\"老年\"],retbins=True)\n",
    "print(s)\n",
    "print(type(s))"
   ]
  },
  {
   "cell_type": "code",
   "execution_count": 8,
   "metadata": {},
   "outputs": [
    {
     "name": "stdout",
     "output_type": "stream",
     "text": [
      "婴儿    2\n",
      "青年    4\n",
      "中年    2\n",
      "壮年    3\n",
      "老年    5\n",
      "dtype: int64\n",
      "<class 'pandas.core.arrays.categorical.Categorical'>\n"
     ]
    }
   ],
   "source": [
    "print(s[0].value_counts())\n",
    "print(type(s[0]))"
   ]
  },
  {
   "cell_type": "code",
   "execution_count": 9,
   "metadata": {},
   "outputs": [
    {
     "name": "stdout",
     "output_type": "stream",
     "text": [
      "[  0   5  20  30  50 100]\n"
     ]
    }
   ],
   "source": [
    "print(s[1])"
   ]
  },
  {
   "cell_type": "markdown",
   "metadata": {},
   "source": [
    "#### 只返回x中的数据在哪个bin\n",
    "令labels=False即可"
   ]
  },
  {
   "cell_type": "code",
   "execution_count": 10,
   "metadata": {},
   "outputs": [
    {
     "data": {
      "text/plain": [
       "array([0, 0, 1, 3, 3, 1, 4, 4, 4, 4, 4, 1, 1, 2, 2, 3], dtype=int64)"
      ]
     },
     "execution_count": 10,
     "metadata": {},
     "output_type": "execute_result"
    }
   ],
   "source": [
    "ages = np.array([1,5,10,40,36,12,58,62,77,89,100,18,20,25,30,32]) #年龄数据\n",
    "pd.cut(ages, [0,5,20,30,50,100], labels=False)"
   ]
  },
  {
   "cell_type": "markdown",
   "metadata": {},
   "source": [
    "## 表格视觉样式：Dataframe.style"
   ]
  },
  {
   "cell_type": "markdown",
   "metadata": {},
   "source": [
    "### 1,表格样式创建\n",
    "\n",
    "表格视觉样式：Dataframe.style → 返回pandas.Styler对象的属性，具有格式化和显示Dataframe的有用方法\n",
    "\n",
    "样式创建：\n",
    "\n",
    "    ① Styler.applymap：→ 按元素方式处理Dataframe\n",
    "    ② Styler.apply：column- / row- / table-wise → 按行/列处理Dataframe"
   ]
  },
  {
   "cell_type": "code",
   "execution_count": 1,
   "metadata": {},
   "outputs": [],
   "source": [
    "import numpy as np\n",
    "import pandas as pd\n",
    "import matplotlib.pyplot as plt"
   ]
  },
  {
   "cell_type": "code",
   "execution_count": 2,
   "metadata": {},
   "outputs": [
    {
     "name": "stdout",
     "output_type": "stream",
     "text": [
      "<pandas.io.formats.style.Styler object at 0x00000209AFCA3CC8> <class 'pandas.io.formats.style.Styler'>\n"
     ]
    }
   ],
   "source": [
    "df = pd.DataFrame(np.random.randn(10, 4), columns=['a','b','c','d'])\n",
    "sty = df.style\n",
    "print(sty, type(sty)) # 查看样式类型"
   ]
  },
  {
   "cell_type": "markdown",
   "metadata": {},
   "source": [
    "#### 按元素处理样式 df.style.applymap( 函数 )"
   ]
  },
  {
   "cell_type": "code",
   "execution_count": 3,
   "metadata": {},
   "outputs": [
    {
     "data": {
      "text/html": [
       "<style  type=\"text/css\" >\n",
       "    #T_03bf5eba_d4d6_11ec_b7ad_38b1dbd15c05row0_col0 {\n",
       "            color: black;\n",
       "        }    #T_03bf5eba_d4d6_11ec_b7ad_38b1dbd15c05row0_col1 {\n",
       "            color: red;\n",
       "        }    #T_03bf5eba_d4d6_11ec_b7ad_38b1dbd15c05row0_col2 {\n",
       "            color: red;\n",
       "        }    #T_03bf5eba_d4d6_11ec_b7ad_38b1dbd15c05row0_col3 {\n",
       "            color: red;\n",
       "        }    #T_03bf5eba_d4d6_11ec_b7ad_38b1dbd15c05row1_col0 {\n",
       "            color: red;\n",
       "        }    #T_03bf5eba_d4d6_11ec_b7ad_38b1dbd15c05row1_col1 {\n",
       "            color: red;\n",
       "        }    #T_03bf5eba_d4d6_11ec_b7ad_38b1dbd15c05row1_col2 {\n",
       "            color: red;\n",
       "        }    #T_03bf5eba_d4d6_11ec_b7ad_38b1dbd15c05row1_col3 {\n",
       "            color: black;\n",
       "        }    #T_03bf5eba_d4d6_11ec_b7ad_38b1dbd15c05row2_col0 {\n",
       "            color: black;\n",
       "        }    #T_03bf5eba_d4d6_11ec_b7ad_38b1dbd15c05row2_col1 {\n",
       "            color: red;\n",
       "        }    #T_03bf5eba_d4d6_11ec_b7ad_38b1dbd15c05row2_col2 {\n",
       "            color: red;\n",
       "        }    #T_03bf5eba_d4d6_11ec_b7ad_38b1dbd15c05row2_col3 {\n",
       "            color: black;\n",
       "        }    #T_03bf5eba_d4d6_11ec_b7ad_38b1dbd15c05row3_col0 {\n",
       "            color: black;\n",
       "        }    #T_03bf5eba_d4d6_11ec_b7ad_38b1dbd15c05row3_col1 {\n",
       "            color: red;\n",
       "        }    #T_03bf5eba_d4d6_11ec_b7ad_38b1dbd15c05row3_col2 {\n",
       "            color: black;\n",
       "        }    #T_03bf5eba_d4d6_11ec_b7ad_38b1dbd15c05row3_col3 {\n",
       "            color: red;\n",
       "        }    #T_03bf5eba_d4d6_11ec_b7ad_38b1dbd15c05row4_col0 {\n",
       "            color: red;\n",
       "        }    #T_03bf5eba_d4d6_11ec_b7ad_38b1dbd15c05row4_col1 {\n",
       "            color: black;\n",
       "        }    #T_03bf5eba_d4d6_11ec_b7ad_38b1dbd15c05row4_col2 {\n",
       "            color: black;\n",
       "        }    #T_03bf5eba_d4d6_11ec_b7ad_38b1dbd15c05row4_col3 {\n",
       "            color: red;\n",
       "        }    #T_03bf5eba_d4d6_11ec_b7ad_38b1dbd15c05row5_col0 {\n",
       "            color: red;\n",
       "        }    #T_03bf5eba_d4d6_11ec_b7ad_38b1dbd15c05row5_col1 {\n",
       "            color: black;\n",
       "        }    #T_03bf5eba_d4d6_11ec_b7ad_38b1dbd15c05row5_col2 {\n",
       "            color: red;\n",
       "        }    #T_03bf5eba_d4d6_11ec_b7ad_38b1dbd15c05row5_col3 {\n",
       "            color: red;\n",
       "        }    #T_03bf5eba_d4d6_11ec_b7ad_38b1dbd15c05row6_col0 {\n",
       "            color: red;\n",
       "        }    #T_03bf5eba_d4d6_11ec_b7ad_38b1dbd15c05row6_col1 {\n",
       "            color: red;\n",
       "        }    #T_03bf5eba_d4d6_11ec_b7ad_38b1dbd15c05row6_col2 {\n",
       "            color: red;\n",
       "        }    #T_03bf5eba_d4d6_11ec_b7ad_38b1dbd15c05row6_col3 {\n",
       "            color: black;\n",
       "        }    #T_03bf5eba_d4d6_11ec_b7ad_38b1dbd15c05row7_col0 {\n",
       "            color: black;\n",
       "        }    #T_03bf5eba_d4d6_11ec_b7ad_38b1dbd15c05row7_col1 {\n",
       "            color: black;\n",
       "        }    #T_03bf5eba_d4d6_11ec_b7ad_38b1dbd15c05row7_col2 {\n",
       "            color: red;\n",
       "        }    #T_03bf5eba_d4d6_11ec_b7ad_38b1dbd15c05row7_col3 {\n",
       "            color: red;\n",
       "        }    #T_03bf5eba_d4d6_11ec_b7ad_38b1dbd15c05row8_col0 {\n",
       "            color: red;\n",
       "        }    #T_03bf5eba_d4d6_11ec_b7ad_38b1dbd15c05row8_col1 {\n",
       "            color: red;\n",
       "        }    #T_03bf5eba_d4d6_11ec_b7ad_38b1dbd15c05row8_col2 {\n",
       "            color: black;\n",
       "        }    #T_03bf5eba_d4d6_11ec_b7ad_38b1dbd15c05row8_col3 {\n",
       "            color: red;\n",
       "        }    #T_03bf5eba_d4d6_11ec_b7ad_38b1dbd15c05row9_col0 {\n",
       "            color: red;\n",
       "        }    #T_03bf5eba_d4d6_11ec_b7ad_38b1dbd15c05row9_col1 {\n",
       "            color: red;\n",
       "        }    #T_03bf5eba_d4d6_11ec_b7ad_38b1dbd15c05row9_col2 {\n",
       "            color: black;\n",
       "        }    #T_03bf5eba_d4d6_11ec_b7ad_38b1dbd15c05row9_col3 {\n",
       "            color: red;\n",
       "        }</style><table id=\"T_03bf5eba_d4d6_11ec_b7ad_38b1dbd15c05\" ><thead>    <tr>        <th class=\"blank level0\" ></th>        <th class=\"col_heading level0 col0\" >a</th>        <th class=\"col_heading level0 col1\" >b</th>        <th class=\"col_heading level0 col2\" >c</th>        <th class=\"col_heading level0 col3\" >d</th>    </tr></thead><tbody>\n",
       "                <tr>\n",
       "                        <th id=\"T_03bf5eba_d4d6_11ec_b7ad_38b1dbd15c05level0_row0\" class=\"row_heading level0 row0\" >0</th>\n",
       "                        <td id=\"T_03bf5eba_d4d6_11ec_b7ad_38b1dbd15c05row0_col0\" class=\"data row0 col0\" >0.447798</td>\n",
       "                        <td id=\"T_03bf5eba_d4d6_11ec_b7ad_38b1dbd15c05row0_col1\" class=\"data row0 col1\" >-0.534326</td>\n",
       "                        <td id=\"T_03bf5eba_d4d6_11ec_b7ad_38b1dbd15c05row0_col2\" class=\"data row0 col2\" >-0.614525</td>\n",
       "                        <td id=\"T_03bf5eba_d4d6_11ec_b7ad_38b1dbd15c05row0_col3\" class=\"data row0 col3\" >-0.538871</td>\n",
       "            </tr>\n",
       "            <tr>\n",
       "                        <th id=\"T_03bf5eba_d4d6_11ec_b7ad_38b1dbd15c05level0_row1\" class=\"row_heading level0 row1\" >1</th>\n",
       "                        <td id=\"T_03bf5eba_d4d6_11ec_b7ad_38b1dbd15c05row1_col0\" class=\"data row1 col0\" >-0.612528</td>\n",
       "                        <td id=\"T_03bf5eba_d4d6_11ec_b7ad_38b1dbd15c05row1_col1\" class=\"data row1 col1\" >-1.982758</td>\n",
       "                        <td id=\"T_03bf5eba_d4d6_11ec_b7ad_38b1dbd15c05row1_col2\" class=\"data row1 col2\" >-1.255578</td>\n",
       "                        <td id=\"T_03bf5eba_d4d6_11ec_b7ad_38b1dbd15c05row1_col3\" class=\"data row1 col3\" >0.151178</td>\n",
       "            </tr>\n",
       "            <tr>\n",
       "                        <th id=\"T_03bf5eba_d4d6_11ec_b7ad_38b1dbd15c05level0_row2\" class=\"row_heading level0 row2\" >2</th>\n",
       "                        <td id=\"T_03bf5eba_d4d6_11ec_b7ad_38b1dbd15c05row2_col0\" class=\"data row2 col0\" >0.386986</td>\n",
       "                        <td id=\"T_03bf5eba_d4d6_11ec_b7ad_38b1dbd15c05row2_col1\" class=\"data row2 col1\" >-1.344207</td>\n",
       "                        <td id=\"T_03bf5eba_d4d6_11ec_b7ad_38b1dbd15c05row2_col2\" class=\"data row2 col2\" >-0.659319</td>\n",
       "                        <td id=\"T_03bf5eba_d4d6_11ec_b7ad_38b1dbd15c05row2_col3\" class=\"data row2 col3\" >0.578583</td>\n",
       "            </tr>\n",
       "            <tr>\n",
       "                        <th id=\"T_03bf5eba_d4d6_11ec_b7ad_38b1dbd15c05level0_row3\" class=\"row_heading level0 row3\" >3</th>\n",
       "                        <td id=\"T_03bf5eba_d4d6_11ec_b7ad_38b1dbd15c05row3_col0\" class=\"data row3 col0\" >0.867958</td>\n",
       "                        <td id=\"T_03bf5eba_d4d6_11ec_b7ad_38b1dbd15c05row3_col1\" class=\"data row3 col1\" >-0.715200</td>\n",
       "                        <td id=\"T_03bf5eba_d4d6_11ec_b7ad_38b1dbd15c05row3_col2\" class=\"data row3 col2\" >0.639464</td>\n",
       "                        <td id=\"T_03bf5eba_d4d6_11ec_b7ad_38b1dbd15c05row3_col3\" class=\"data row3 col3\" >-1.346157</td>\n",
       "            </tr>\n",
       "            <tr>\n",
       "                        <th id=\"T_03bf5eba_d4d6_11ec_b7ad_38b1dbd15c05level0_row4\" class=\"row_heading level0 row4\" >4</th>\n",
       "                        <td id=\"T_03bf5eba_d4d6_11ec_b7ad_38b1dbd15c05row4_col0\" class=\"data row4 col0\" >-2.108436</td>\n",
       "                        <td id=\"T_03bf5eba_d4d6_11ec_b7ad_38b1dbd15c05row4_col1\" class=\"data row4 col1\" >0.528856</td>\n",
       "                        <td id=\"T_03bf5eba_d4d6_11ec_b7ad_38b1dbd15c05row4_col2\" class=\"data row4 col2\" >1.194276</td>\n",
       "                        <td id=\"T_03bf5eba_d4d6_11ec_b7ad_38b1dbd15c05row4_col3\" class=\"data row4 col3\" >-1.169152</td>\n",
       "            </tr>\n",
       "            <tr>\n",
       "                        <th id=\"T_03bf5eba_d4d6_11ec_b7ad_38b1dbd15c05level0_row5\" class=\"row_heading level0 row5\" >5</th>\n",
       "                        <td id=\"T_03bf5eba_d4d6_11ec_b7ad_38b1dbd15c05row5_col0\" class=\"data row5 col0\" >-0.552108</td>\n",
       "                        <td id=\"T_03bf5eba_d4d6_11ec_b7ad_38b1dbd15c05row5_col1\" class=\"data row5 col1\" >0.117717</td>\n",
       "                        <td id=\"T_03bf5eba_d4d6_11ec_b7ad_38b1dbd15c05row5_col2\" class=\"data row5 col2\" >-1.118881</td>\n",
       "                        <td id=\"T_03bf5eba_d4d6_11ec_b7ad_38b1dbd15c05row5_col3\" class=\"data row5 col3\" >-2.651756</td>\n",
       "            </tr>\n",
       "            <tr>\n",
       "                        <th id=\"T_03bf5eba_d4d6_11ec_b7ad_38b1dbd15c05level0_row6\" class=\"row_heading level0 row6\" >6</th>\n",
       "                        <td id=\"T_03bf5eba_d4d6_11ec_b7ad_38b1dbd15c05row6_col0\" class=\"data row6 col0\" >-0.395649</td>\n",
       "                        <td id=\"T_03bf5eba_d4d6_11ec_b7ad_38b1dbd15c05row6_col1\" class=\"data row6 col1\" >-0.367974</td>\n",
       "                        <td id=\"T_03bf5eba_d4d6_11ec_b7ad_38b1dbd15c05row6_col2\" class=\"data row6 col2\" >-0.981922</td>\n",
       "                        <td id=\"T_03bf5eba_d4d6_11ec_b7ad_38b1dbd15c05row6_col3\" class=\"data row6 col3\" >0.582689</td>\n",
       "            </tr>\n",
       "            <tr>\n",
       "                        <th id=\"T_03bf5eba_d4d6_11ec_b7ad_38b1dbd15c05level0_row7\" class=\"row_heading level0 row7\" >7</th>\n",
       "                        <td id=\"T_03bf5eba_d4d6_11ec_b7ad_38b1dbd15c05row7_col0\" class=\"data row7 col0\" >0.144310</td>\n",
       "                        <td id=\"T_03bf5eba_d4d6_11ec_b7ad_38b1dbd15c05row7_col1\" class=\"data row7 col1\" >1.064642</td>\n",
       "                        <td id=\"T_03bf5eba_d4d6_11ec_b7ad_38b1dbd15c05row7_col2\" class=\"data row7 col2\" >-0.384505</td>\n",
       "                        <td id=\"T_03bf5eba_d4d6_11ec_b7ad_38b1dbd15c05row7_col3\" class=\"data row7 col3\" >-0.632541</td>\n",
       "            </tr>\n",
       "            <tr>\n",
       "                        <th id=\"T_03bf5eba_d4d6_11ec_b7ad_38b1dbd15c05level0_row8\" class=\"row_heading level0 row8\" >8</th>\n",
       "                        <td id=\"T_03bf5eba_d4d6_11ec_b7ad_38b1dbd15c05row8_col0\" class=\"data row8 col0\" >-1.566459</td>\n",
       "                        <td id=\"T_03bf5eba_d4d6_11ec_b7ad_38b1dbd15c05row8_col1\" class=\"data row8 col1\" >-0.322027</td>\n",
       "                        <td id=\"T_03bf5eba_d4d6_11ec_b7ad_38b1dbd15c05row8_col2\" class=\"data row8 col2\" >0.972508</td>\n",
       "                        <td id=\"T_03bf5eba_d4d6_11ec_b7ad_38b1dbd15c05row8_col3\" class=\"data row8 col3\" >-0.080237</td>\n",
       "            </tr>\n",
       "            <tr>\n",
       "                        <th id=\"T_03bf5eba_d4d6_11ec_b7ad_38b1dbd15c05level0_row9\" class=\"row_heading level0 row9\" >9</th>\n",
       "                        <td id=\"T_03bf5eba_d4d6_11ec_b7ad_38b1dbd15c05row9_col0\" class=\"data row9 col0\" >-1.680165</td>\n",
       "                        <td id=\"T_03bf5eba_d4d6_11ec_b7ad_38b1dbd15c05row9_col1\" class=\"data row9 col1\" >-0.278028</td>\n",
       "                        <td id=\"T_03bf5eba_d4d6_11ec_b7ad_38b1dbd15c05row9_col2\" class=\"data row9 col2\" >1.195218</td>\n",
       "                        <td id=\"T_03bf5eba_d4d6_11ec_b7ad_38b1dbd15c05row9_col3\" class=\"data row9 col3\" >-0.813649</td>\n",
       "            </tr>\n",
       "    </tbody></table>"
      ],
      "text/plain": [
       "<pandas.io.formats.style.Styler at 0x209afde6e48>"
      ]
     },
     "execution_count": 3,
     "metadata": {},
     "output_type": "execute_result"
    }
   ],
   "source": [
    "def color_neg_red(val):\n",
    "    if val < 0:\n",
    "        color = 'red'\n",
    "    else:\n",
    "        color = 'black'\n",
    "    return ('color:%s'% color)\n",
    "df.style.applymap(color_neg_red)\n",
    "# 创建样式方法，使得小于0的数变成红色\n",
    "# style.applymap() → 自动调用其中的函数"
   ]
  },
  {
   "cell_type": "markdown",
   "metadata": {},
   "source": [
    "#### 按行/列处理样式 df.style.apply( 函数, axis=0按列, subset=['b','c']处理b、c列 )"
   ]
  },
  {
   "cell_type": "code",
   "execution_count": 5,
   "metadata": {},
   "outputs": [
    {
     "name": "stdout",
     "output_type": "stream",
     "text": [
      "0    False\n",
      "1    False\n",
      "2    False\n",
      "3    False\n",
      "4    False\n",
      "5    False\n",
      "6    False\n",
      "7     True\n",
      "8    False\n",
      "9    False\n",
      "Name: b, dtype: bool\n",
      "0    False\n",
      "1    False\n",
      "2    False\n",
      "3    False\n",
      "4    False\n",
      "5    False\n",
      "6    False\n",
      "7    False\n",
      "8    False\n",
      "9     True\n",
      "Name: c, dtype: bool\n"
     ]
    },
    {
     "data": {
      "text/html": [
       "<style  type=\"text/css\" >\n",
       "    #T_767b59f4_d4d6_11ec_8260_38b1dbd15c05row7_col1 {\n",
       "             padding:  0px;\n",
       "             color:  rgb(128, 0, 0);\n",
       "             line-height:  1.5 !important;\n",
       "            : ;\n",
       "        }    #T_767b59f4_d4d6_11ec_8260_38b1dbd15c05row9_col2 {\n",
       "             padding:  0px;\n",
       "             color:  rgb(128, 0, 0);\n",
       "             line-height:  1.5 !important;\n",
       "            : ;\n",
       "        }</style><table id=\"T_767b59f4_d4d6_11ec_8260_38b1dbd15c05\" ><thead>    <tr>        <th class=\"blank level0\" ></th>        <th class=\"col_heading level0 col0\" >a</th>        <th class=\"col_heading level0 col1\" >b</th>        <th class=\"col_heading level0 col2\" >c</th>        <th class=\"col_heading level0 col3\" >d</th>    </tr></thead><tbody>\n",
       "                <tr>\n",
       "                        <th id=\"T_767b59f4_d4d6_11ec_8260_38b1dbd15c05level0_row0\" class=\"row_heading level0 row0\" >0</th>\n",
       "                        <td id=\"T_767b59f4_d4d6_11ec_8260_38b1dbd15c05row0_col0\" class=\"data row0 col0\" >0.447798</td>\n",
       "                        <td id=\"T_767b59f4_d4d6_11ec_8260_38b1dbd15c05row0_col1\" class=\"data row0 col1\" >-0.534326</td>\n",
       "                        <td id=\"T_767b59f4_d4d6_11ec_8260_38b1dbd15c05row0_col2\" class=\"data row0 col2\" >-0.614525</td>\n",
       "                        <td id=\"T_767b59f4_d4d6_11ec_8260_38b1dbd15c05row0_col3\" class=\"data row0 col3\" >-0.538871</td>\n",
       "            </tr>\n",
       "            <tr>\n",
       "                        <th id=\"T_767b59f4_d4d6_11ec_8260_38b1dbd15c05level0_row1\" class=\"row_heading level0 row1\" >1</th>\n",
       "                        <td id=\"T_767b59f4_d4d6_11ec_8260_38b1dbd15c05row1_col0\" class=\"data row1 col0\" >-0.612528</td>\n",
       "                        <td id=\"T_767b59f4_d4d6_11ec_8260_38b1dbd15c05row1_col1\" class=\"data row1 col1\" >-1.982758</td>\n",
       "                        <td id=\"T_767b59f4_d4d6_11ec_8260_38b1dbd15c05row1_col2\" class=\"data row1 col2\" >-1.255578</td>\n",
       "                        <td id=\"T_767b59f4_d4d6_11ec_8260_38b1dbd15c05row1_col3\" class=\"data row1 col3\" >0.151178</td>\n",
       "            </tr>\n",
       "            <tr>\n",
       "                        <th id=\"T_767b59f4_d4d6_11ec_8260_38b1dbd15c05level0_row2\" class=\"row_heading level0 row2\" >2</th>\n",
       "                        <td id=\"T_767b59f4_d4d6_11ec_8260_38b1dbd15c05row2_col0\" class=\"data row2 col0\" >0.386986</td>\n",
       "                        <td id=\"T_767b59f4_d4d6_11ec_8260_38b1dbd15c05row2_col1\" class=\"data row2 col1\" >-1.344207</td>\n",
       "                        <td id=\"T_767b59f4_d4d6_11ec_8260_38b1dbd15c05row2_col2\" class=\"data row2 col2\" >-0.659319</td>\n",
       "                        <td id=\"T_767b59f4_d4d6_11ec_8260_38b1dbd15c05row2_col3\" class=\"data row2 col3\" >0.578583</td>\n",
       "            </tr>\n",
       "            <tr>\n",
       "                        <th id=\"T_767b59f4_d4d6_11ec_8260_38b1dbd15c05level0_row3\" class=\"row_heading level0 row3\" >3</th>\n",
       "                        <td id=\"T_767b59f4_d4d6_11ec_8260_38b1dbd15c05row3_col0\" class=\"data row3 col0\" >0.867958</td>\n",
       "                        <td id=\"T_767b59f4_d4d6_11ec_8260_38b1dbd15c05row3_col1\" class=\"data row3 col1\" >-0.715200</td>\n",
       "                        <td id=\"T_767b59f4_d4d6_11ec_8260_38b1dbd15c05row3_col2\" class=\"data row3 col2\" >0.639464</td>\n",
       "                        <td id=\"T_767b59f4_d4d6_11ec_8260_38b1dbd15c05row3_col3\" class=\"data row3 col3\" >-1.346157</td>\n",
       "            </tr>\n",
       "            <tr>\n",
       "                        <th id=\"T_767b59f4_d4d6_11ec_8260_38b1dbd15c05level0_row4\" class=\"row_heading level0 row4\" >4</th>\n",
       "                        <td id=\"T_767b59f4_d4d6_11ec_8260_38b1dbd15c05row4_col0\" class=\"data row4 col0\" >-2.108436</td>\n",
       "                        <td id=\"T_767b59f4_d4d6_11ec_8260_38b1dbd15c05row4_col1\" class=\"data row4 col1\" >0.528856</td>\n",
       "                        <td id=\"T_767b59f4_d4d6_11ec_8260_38b1dbd15c05row4_col2\" class=\"data row4 col2\" >1.194276</td>\n",
       "                        <td id=\"T_767b59f4_d4d6_11ec_8260_38b1dbd15c05row4_col3\" class=\"data row4 col3\" >-1.169152</td>\n",
       "            </tr>\n",
       "            <tr>\n",
       "                        <th id=\"T_767b59f4_d4d6_11ec_8260_38b1dbd15c05level0_row5\" class=\"row_heading level0 row5\" >5</th>\n",
       "                        <td id=\"T_767b59f4_d4d6_11ec_8260_38b1dbd15c05row5_col0\" class=\"data row5 col0\" >-0.552108</td>\n",
       "                        <td id=\"T_767b59f4_d4d6_11ec_8260_38b1dbd15c05row5_col1\" class=\"data row5 col1\" >0.117717</td>\n",
       "                        <td id=\"T_767b59f4_d4d6_11ec_8260_38b1dbd15c05row5_col2\" class=\"data row5 col2\" >-1.118881</td>\n",
       "                        <td id=\"T_767b59f4_d4d6_11ec_8260_38b1dbd15c05row5_col3\" class=\"data row5 col3\" >-2.651756</td>\n",
       "            </tr>\n",
       "            <tr>\n",
       "                        <th id=\"T_767b59f4_d4d6_11ec_8260_38b1dbd15c05level0_row6\" class=\"row_heading level0 row6\" >6</th>\n",
       "                        <td id=\"T_767b59f4_d4d6_11ec_8260_38b1dbd15c05row6_col0\" class=\"data row6 col0\" >-0.395649</td>\n",
       "                        <td id=\"T_767b59f4_d4d6_11ec_8260_38b1dbd15c05row6_col1\" class=\"data row6 col1\" >-0.367974</td>\n",
       "                        <td id=\"T_767b59f4_d4d6_11ec_8260_38b1dbd15c05row6_col2\" class=\"data row6 col2\" >-0.981922</td>\n",
       "                        <td id=\"T_767b59f4_d4d6_11ec_8260_38b1dbd15c05row6_col3\" class=\"data row6 col3\" >0.582689</td>\n",
       "            </tr>\n",
       "            <tr>\n",
       "                        <th id=\"T_767b59f4_d4d6_11ec_8260_38b1dbd15c05level0_row7\" class=\"row_heading level0 row7\" >7</th>\n",
       "                        <td id=\"T_767b59f4_d4d6_11ec_8260_38b1dbd15c05row7_col0\" class=\"data row7 col0\" >0.144310</td>\n",
       "                        <td id=\"T_767b59f4_d4d6_11ec_8260_38b1dbd15c05row7_col1\" class=\"data row7 col1\" >1.064642</td>\n",
       "                        <td id=\"T_767b59f4_d4d6_11ec_8260_38b1dbd15c05row7_col2\" class=\"data row7 col2\" >-0.384505</td>\n",
       "                        <td id=\"T_767b59f4_d4d6_11ec_8260_38b1dbd15c05row7_col3\" class=\"data row7 col3\" >-0.632541</td>\n",
       "            </tr>\n",
       "            <tr>\n",
       "                        <th id=\"T_767b59f4_d4d6_11ec_8260_38b1dbd15c05level0_row8\" class=\"row_heading level0 row8\" >8</th>\n",
       "                        <td id=\"T_767b59f4_d4d6_11ec_8260_38b1dbd15c05row8_col0\" class=\"data row8 col0\" >-1.566459</td>\n",
       "                        <td id=\"T_767b59f4_d4d6_11ec_8260_38b1dbd15c05row8_col1\" class=\"data row8 col1\" >-0.322027</td>\n",
       "                        <td id=\"T_767b59f4_d4d6_11ec_8260_38b1dbd15c05row8_col2\" class=\"data row8 col2\" >0.972508</td>\n",
       "                        <td id=\"T_767b59f4_d4d6_11ec_8260_38b1dbd15c05row8_col3\" class=\"data row8 col3\" >-0.080237</td>\n",
       "            </tr>\n",
       "            <tr>\n",
       "                        <th id=\"T_767b59f4_d4d6_11ec_8260_38b1dbd15c05level0_row9\" class=\"row_heading level0 row9\" >9</th>\n",
       "                        <td id=\"T_767b59f4_d4d6_11ec_8260_38b1dbd15c05row9_col0\" class=\"data row9 col0\" >-1.680165</td>\n",
       "                        <td id=\"T_767b59f4_d4d6_11ec_8260_38b1dbd15c05row9_col1\" class=\"data row9 col1\" >-0.278028</td>\n",
       "                        <td id=\"T_767b59f4_d4d6_11ec_8260_38b1dbd15c05row9_col2\" class=\"data row9 col2\" >1.195218</td>\n",
       "                        <td id=\"T_767b59f4_d4d6_11ec_8260_38b1dbd15c05row9_col3\" class=\"data row9 col3\" >-0.813649</td>\n",
       "            </tr>\n",
       "    </tbody></table>"
      ],
      "text/plain": [
       "<pandas.io.formats.style.Styler at 0x209afde6648>"
      ]
     },
     "execution_count": 5,
     "metadata": {},
     "output_type": "execute_result"
    }
   ],
   "source": [
    "# 按行/列处理样式：style.apply()\n",
    "def highlight_max(s):\n",
    "    is_max = s == s.max()\n",
    "    print(is_max)\n",
    "    lst = []\n",
    "    for v in is_max:\n",
    "        if v:\n",
    "            lst.append(' padding: 0px; color: rgb(128, 0, 0); line-height: 1.5 !important;\">')\n",
    "        else:\n",
    "            lst.append('')\n",
    "    return lst\n",
    "df.style.apply(highlight_max, axis=0, subset=['b', 'c']) # axis：0为列，1为行，默认为0；  # subset：索引\n",
    "# 创建样式方法，每列最大值填充黄色"
   ]
  },
  {
   "cell_type": "markdown",
   "metadata": {},
   "source": [
    "### 2.表格显示控制"
   ]
  },
  {
   "cell_type": "code",
   "execution_count": 8,
   "metadata": {},
   "outputs": [
    {
     "data": {
      "text/html": [
       "<style  type=\"text/css\" >\n",
       "</style><table id=\"T_bdde975c_d4d6_11ec_ab6c_38b1dbd15c05\" ><thead>    <tr>        <th class=\"blank level0\" ></th>        <th class=\"col_heading level0 col0\" >a</th>        <th class=\"col_heading level0 col1\" >b</th>        <th class=\"col_heading level0 col2\" >c</th>        <th class=\"col_heading level0 col3\" >d</th>    </tr></thead><tbody>\n",
       "                <tr>\n",
       "                        <th id=\"T_bdde975c_d4d6_11ec_ab6c_38b1dbd15c05level0_row0\" class=\"row_heading level0 row0\" >0</th>\n",
       "                        <td id=\"T_bdde975c_d4d6_11ec_ab6c_38b1dbd15c05row0_col0\" class=\"data row0 col0\" >44.78%</td>\n",
       "                        <td id=\"T_bdde975c_d4d6_11ec_ab6c_38b1dbd15c05row0_col1\" class=\"data row0 col1\" >-53.43%</td>\n",
       "                        <td id=\"T_bdde975c_d4d6_11ec_ab6c_38b1dbd15c05row0_col2\" class=\"data row0 col2\" >-61.45%</td>\n",
       "                        <td id=\"T_bdde975c_d4d6_11ec_ab6c_38b1dbd15c05row0_col3\" class=\"data row0 col3\" >-53.89%</td>\n",
       "            </tr>\n",
       "            <tr>\n",
       "                        <th id=\"T_bdde975c_d4d6_11ec_ab6c_38b1dbd15c05level0_row1\" class=\"row_heading level0 row1\" >1</th>\n",
       "                        <td id=\"T_bdde975c_d4d6_11ec_ab6c_38b1dbd15c05row1_col0\" class=\"data row1 col0\" >-61.25%</td>\n",
       "                        <td id=\"T_bdde975c_d4d6_11ec_ab6c_38b1dbd15c05row1_col1\" class=\"data row1 col1\" >-198.28%</td>\n",
       "                        <td id=\"T_bdde975c_d4d6_11ec_ab6c_38b1dbd15c05row1_col2\" class=\"data row1 col2\" >-125.56%</td>\n",
       "                        <td id=\"T_bdde975c_d4d6_11ec_ab6c_38b1dbd15c05row1_col3\" class=\"data row1 col3\" >15.12%</td>\n",
       "            </tr>\n",
       "            <tr>\n",
       "                        <th id=\"T_bdde975c_d4d6_11ec_ab6c_38b1dbd15c05level0_row2\" class=\"row_heading level0 row2\" >2</th>\n",
       "                        <td id=\"T_bdde975c_d4d6_11ec_ab6c_38b1dbd15c05row2_col0\" class=\"data row2 col0\" >38.70%</td>\n",
       "                        <td id=\"T_bdde975c_d4d6_11ec_ab6c_38b1dbd15c05row2_col1\" class=\"data row2 col1\" >-134.42%</td>\n",
       "                        <td id=\"T_bdde975c_d4d6_11ec_ab6c_38b1dbd15c05row2_col2\" class=\"data row2 col2\" >-65.93%</td>\n",
       "                        <td id=\"T_bdde975c_d4d6_11ec_ab6c_38b1dbd15c05row2_col3\" class=\"data row2 col3\" >57.86%</td>\n",
       "            </tr>\n",
       "            <tr>\n",
       "                        <th id=\"T_bdde975c_d4d6_11ec_ab6c_38b1dbd15c05level0_row3\" class=\"row_heading level0 row3\" >3</th>\n",
       "                        <td id=\"T_bdde975c_d4d6_11ec_ab6c_38b1dbd15c05row3_col0\" class=\"data row3 col0\" >86.80%</td>\n",
       "                        <td id=\"T_bdde975c_d4d6_11ec_ab6c_38b1dbd15c05row3_col1\" class=\"data row3 col1\" >-71.52%</td>\n",
       "                        <td id=\"T_bdde975c_d4d6_11ec_ab6c_38b1dbd15c05row3_col2\" class=\"data row3 col2\" >63.95%</td>\n",
       "                        <td id=\"T_bdde975c_d4d6_11ec_ab6c_38b1dbd15c05row3_col3\" class=\"data row3 col3\" >-134.62%</td>\n",
       "            </tr>\n",
       "            <tr>\n",
       "                        <th id=\"T_bdde975c_d4d6_11ec_ab6c_38b1dbd15c05level0_row4\" class=\"row_heading level0 row4\" >4</th>\n",
       "                        <td id=\"T_bdde975c_d4d6_11ec_ab6c_38b1dbd15c05row4_col0\" class=\"data row4 col0\" >-210.84%</td>\n",
       "                        <td id=\"T_bdde975c_d4d6_11ec_ab6c_38b1dbd15c05row4_col1\" class=\"data row4 col1\" >52.89%</td>\n",
       "                        <td id=\"T_bdde975c_d4d6_11ec_ab6c_38b1dbd15c05row4_col2\" class=\"data row4 col2\" >119.43%</td>\n",
       "                        <td id=\"T_bdde975c_d4d6_11ec_ab6c_38b1dbd15c05row4_col3\" class=\"data row4 col3\" >-116.92%</td>\n",
       "            </tr>\n",
       "    </tbody></table>"
      ],
      "text/plain": [
       "<pandas.io.formats.style.Styler at 0x209afe06dc8>"
      ]
     },
     "execution_count": 8,
     "metadata": {},
     "output_type": "execute_result"
    }
   ],
   "source": [
    "df.head().style.format(\"{:.2%}\")"
   ]
  },
  {
   "cell_type": "markdown",
   "metadata": {},
   "source": [
    "按照百分数显示"
   ]
  },
  {
   "cell_type": "code",
   "execution_count": 9,
   "metadata": {},
   "outputs": [
    {
     "name": "stdout",
     "output_type": "stream",
     "text": [
      "          a         b         c         d\n",
      "0 -0.340871 -0.825292  0.907506  0.805764\n",
      "1  1.435370 -0.254078 -0.174431  0.060038\n",
      "2  0.799676  0.324985  0.463950  1.922623\n",
      "3 -0.460490  0.461384  0.218530  0.846301\n",
      "4  1.138265 -0.530664  1.507698 -0.215005\n"
     ]
    },
    {
     "data": {
      "text/html": [
       "<style  type=\"text/css\" >\n",
       "</style><table id=\"T_e1b225b4_d4d6_11ec_b035_38b1dbd15c05\" ><thead>    <tr>        <th class=\"blank level0\" ></th>        <th class=\"col_heading level0 col0\" >a</th>        <th class=\"col_heading level0 col1\" >b</th>        <th class=\"col_heading level0 col2\" >c</th>        <th class=\"col_heading level0 col3\" >d</th>    </tr></thead><tbody>\n",
       "                <tr>\n",
       "                        <th id=\"T_e1b225b4_d4d6_11ec_b035_38b1dbd15c05level0_row0\" class=\"row_heading level0 row0\" >0</th>\n",
       "                        <td id=\"T_e1b225b4_d4d6_11ec_b035_38b1dbd15c05row0_col0\" class=\"data row0 col0\" >-34.09%</td>\n",
       "                        <td id=\"T_e1b225b4_d4d6_11ec_b035_38b1dbd15c05row0_col1\" class=\"data row0 col1\" >-82.53%</td>\n",
       "                        <td id=\"T_e1b225b4_d4d6_11ec_b035_38b1dbd15c05row0_col2\" class=\"data row0 col2\" >90.75%</td>\n",
       "                        <td id=\"T_e1b225b4_d4d6_11ec_b035_38b1dbd15c05row0_col3\" class=\"data row0 col3\" >80.58%</td>\n",
       "            </tr>\n",
       "            <tr>\n",
       "                        <th id=\"T_e1b225b4_d4d6_11ec_b035_38b1dbd15c05level0_row1\" class=\"row_heading level0 row1\" >1</th>\n",
       "                        <td id=\"T_e1b225b4_d4d6_11ec_b035_38b1dbd15c05row1_col0\" class=\"data row1 col0\" >143.54%</td>\n",
       "                        <td id=\"T_e1b225b4_d4d6_11ec_b035_38b1dbd15c05row1_col1\" class=\"data row1 col1\" >-25.41%</td>\n",
       "                        <td id=\"T_e1b225b4_d4d6_11ec_b035_38b1dbd15c05row1_col2\" class=\"data row1 col2\" >-17.44%</td>\n",
       "                        <td id=\"T_e1b225b4_d4d6_11ec_b035_38b1dbd15c05row1_col3\" class=\"data row1 col3\" >6.00%</td>\n",
       "            </tr>\n",
       "            <tr>\n",
       "                        <th id=\"T_e1b225b4_d4d6_11ec_b035_38b1dbd15c05level0_row2\" class=\"row_heading level0 row2\" >2</th>\n",
       "                        <td id=\"T_e1b225b4_d4d6_11ec_b035_38b1dbd15c05row2_col0\" class=\"data row2 col0\" >79.97%</td>\n",
       "                        <td id=\"T_e1b225b4_d4d6_11ec_b035_38b1dbd15c05row2_col1\" class=\"data row2 col1\" >32.50%</td>\n",
       "                        <td id=\"T_e1b225b4_d4d6_11ec_b035_38b1dbd15c05row2_col2\" class=\"data row2 col2\" >46.39%</td>\n",
       "                        <td id=\"T_e1b225b4_d4d6_11ec_b035_38b1dbd15c05row2_col3\" class=\"data row2 col3\" >192.26%</td>\n",
       "            </tr>\n",
       "            <tr>\n",
       "                        <th id=\"T_e1b225b4_d4d6_11ec_b035_38b1dbd15c05level0_row3\" class=\"row_heading level0 row3\" >3</th>\n",
       "                        <td id=\"T_e1b225b4_d4d6_11ec_b035_38b1dbd15c05row3_col0\" class=\"data row3 col0\" >-46.05%</td>\n",
       "                        <td id=\"T_e1b225b4_d4d6_11ec_b035_38b1dbd15c05row3_col1\" class=\"data row3 col1\" >46.14%</td>\n",
       "                        <td id=\"T_e1b225b4_d4d6_11ec_b035_38b1dbd15c05row3_col2\" class=\"data row3 col2\" >21.85%</td>\n",
       "                        <td id=\"T_e1b225b4_d4d6_11ec_b035_38b1dbd15c05row3_col3\" class=\"data row3 col3\" >84.63%</td>\n",
       "            </tr>\n",
       "            <tr>\n",
       "                        <th id=\"T_e1b225b4_d4d6_11ec_b035_38b1dbd15c05level0_row4\" class=\"row_heading level0 row4\" >4</th>\n",
       "                        <td id=\"T_e1b225b4_d4d6_11ec_b035_38b1dbd15c05row4_col0\" class=\"data row4 col0\" >113.83%</td>\n",
       "                        <td id=\"T_e1b225b4_d4d6_11ec_b035_38b1dbd15c05row4_col1\" class=\"data row4 col1\" >-53.07%</td>\n",
       "                        <td id=\"T_e1b225b4_d4d6_11ec_b035_38b1dbd15c05row4_col2\" class=\"data row4 col2\" >150.77%</td>\n",
       "                        <td id=\"T_e1b225b4_d4d6_11ec_b035_38b1dbd15c05row4_col3\" class=\"data row4 col3\" >-21.50%</td>\n",
       "            </tr>\n",
       "    </tbody></table>"
      ],
      "text/plain": [
       "<pandas.io.formats.style.Styler at 0x209afe00508>"
      ]
     },
     "execution_count": 9,
     "metadata": {},
     "output_type": "execute_result"
    }
   ],
   "source": [
    "df = pd.DataFrame(np.random.randn(10,4),columns=['a','b','c','d'])\n",
    "print(df.head())\n",
    "df.head().style.format(\"{:.2%}\")"
   ]
  },
  {
   "cell_type": "code",
   "execution_count": 10,
   "metadata": {},
   "outputs": [
    {
     "data": {
      "text/html": [
       "<style  type=\"text/css\" >\n",
       "</style><table id=\"T_eaa3f5ec_d4d6_11ec_8e84_38b1dbd15c05\" ><thead>    <tr>        <th class=\"blank level0\" ></th>        <th class=\"col_heading level0 col0\" >a</th>        <th class=\"col_heading level0 col1\" >b</th>        <th class=\"col_heading level0 col2\" >c</th>        <th class=\"col_heading level0 col3\" >d</th>    </tr></thead><tbody>\n",
       "                <tr>\n",
       "                        <th id=\"T_eaa3f5ec_d4d6_11ec_8e84_38b1dbd15c05level0_row0\" class=\"row_heading level0 row0\" >0</th>\n",
       "                        <td id=\"T_eaa3f5ec_d4d6_11ec_8e84_38b1dbd15c05row0_col0\" class=\"data row0 col0\" >-0.3409</td>\n",
       "                        <td id=\"T_eaa3f5ec_d4d6_11ec_8e84_38b1dbd15c05row0_col1\" class=\"data row0 col1\" >-0.8253</td>\n",
       "                        <td id=\"T_eaa3f5ec_d4d6_11ec_8e84_38b1dbd15c05row0_col2\" class=\"data row0 col2\" >0.9075</td>\n",
       "                        <td id=\"T_eaa3f5ec_d4d6_11ec_8e84_38b1dbd15c05row0_col3\" class=\"data row0 col3\" >0.8058</td>\n",
       "            </tr>\n",
       "            <tr>\n",
       "                        <th id=\"T_eaa3f5ec_d4d6_11ec_8e84_38b1dbd15c05level0_row1\" class=\"row_heading level0 row1\" >1</th>\n",
       "                        <td id=\"T_eaa3f5ec_d4d6_11ec_8e84_38b1dbd15c05row1_col0\" class=\"data row1 col0\" >1.4354</td>\n",
       "                        <td id=\"T_eaa3f5ec_d4d6_11ec_8e84_38b1dbd15c05row1_col1\" class=\"data row1 col1\" >-0.2541</td>\n",
       "                        <td id=\"T_eaa3f5ec_d4d6_11ec_8e84_38b1dbd15c05row1_col2\" class=\"data row1 col2\" >-0.1744</td>\n",
       "                        <td id=\"T_eaa3f5ec_d4d6_11ec_8e84_38b1dbd15c05row1_col3\" class=\"data row1 col3\" >0.0600</td>\n",
       "            </tr>\n",
       "            <tr>\n",
       "                        <th id=\"T_eaa3f5ec_d4d6_11ec_8e84_38b1dbd15c05level0_row2\" class=\"row_heading level0 row2\" >2</th>\n",
       "                        <td id=\"T_eaa3f5ec_d4d6_11ec_8e84_38b1dbd15c05row2_col0\" class=\"data row2 col0\" >0.7997</td>\n",
       "                        <td id=\"T_eaa3f5ec_d4d6_11ec_8e84_38b1dbd15c05row2_col1\" class=\"data row2 col1\" >0.3250</td>\n",
       "                        <td id=\"T_eaa3f5ec_d4d6_11ec_8e84_38b1dbd15c05row2_col2\" class=\"data row2 col2\" >0.4639</td>\n",
       "                        <td id=\"T_eaa3f5ec_d4d6_11ec_8e84_38b1dbd15c05row2_col3\" class=\"data row2 col3\" >1.9226</td>\n",
       "            </tr>\n",
       "            <tr>\n",
       "                        <th id=\"T_eaa3f5ec_d4d6_11ec_8e84_38b1dbd15c05level0_row3\" class=\"row_heading level0 row3\" >3</th>\n",
       "                        <td id=\"T_eaa3f5ec_d4d6_11ec_8e84_38b1dbd15c05row3_col0\" class=\"data row3 col0\" >-0.4605</td>\n",
       "                        <td id=\"T_eaa3f5ec_d4d6_11ec_8e84_38b1dbd15c05row3_col1\" class=\"data row3 col1\" >0.4614</td>\n",
       "                        <td id=\"T_eaa3f5ec_d4d6_11ec_8e84_38b1dbd15c05row3_col2\" class=\"data row3 col2\" >0.2185</td>\n",
       "                        <td id=\"T_eaa3f5ec_d4d6_11ec_8e84_38b1dbd15c05row3_col3\" class=\"data row3 col3\" >0.8463</td>\n",
       "            </tr>\n",
       "            <tr>\n",
       "                        <th id=\"T_eaa3f5ec_d4d6_11ec_8e84_38b1dbd15c05level0_row4\" class=\"row_heading level0 row4\" >4</th>\n",
       "                        <td id=\"T_eaa3f5ec_d4d6_11ec_8e84_38b1dbd15c05row4_col0\" class=\"data row4 col0\" >1.1383</td>\n",
       "                        <td id=\"T_eaa3f5ec_d4d6_11ec_8e84_38b1dbd15c05row4_col1\" class=\"data row4 col1\" >-0.5307</td>\n",
       "                        <td id=\"T_eaa3f5ec_d4d6_11ec_8e84_38b1dbd15c05row4_col2\" class=\"data row4 col2\" >1.5077</td>\n",
       "                        <td id=\"T_eaa3f5ec_d4d6_11ec_8e84_38b1dbd15c05row4_col3\" class=\"data row4 col3\" >-0.2150</td>\n",
       "            </tr>\n",
       "    </tbody></table>"
      ],
      "text/plain": [
       "<pandas.io.formats.style.Styler at 0x209afef8d48>"
      ]
     },
     "execution_count": 10,
     "metadata": {},
     "output_type": "execute_result"
    }
   ],
   "source": [
    "df.head().style.format(\"{:.4f}\")"
   ]
  },
  {
   "cell_type": "code",
   "execution_count": 11,
   "metadata": {},
   "outputs": [
    {
     "data": {
      "text/html": [
       "<style  type=\"text/css\" >\n",
       "</style><table id=\"T_f58de6b0_d4d6_11ec_acf5_38b1dbd15c05\" ><thead>    <tr>        <th class=\"blank level0\" ></th>        <th class=\"col_heading level0 col0\" >a</th>        <th class=\"col_heading level0 col1\" >b</th>        <th class=\"col_heading level0 col2\" >c</th>        <th class=\"col_heading level0 col3\" >d</th>    </tr></thead><tbody>\n",
       "                <tr>\n",
       "                        <th id=\"T_f58de6b0_d4d6_11ec_acf5_38b1dbd15c05level0_row0\" class=\"row_heading level0 row0\" >0</th>\n",
       "                        <td id=\"T_f58de6b0_d4d6_11ec_acf5_38b1dbd15c05row0_col0\" class=\"data row0 col0\" >-0.34</td>\n",
       "                        <td id=\"T_f58de6b0_d4d6_11ec_acf5_38b1dbd15c05row0_col1\" class=\"data row0 col1\" >-0.83</td>\n",
       "                        <td id=\"T_f58de6b0_d4d6_11ec_acf5_38b1dbd15c05row0_col2\" class=\"data row0 col2\" >+0.91</td>\n",
       "                        <td id=\"T_f58de6b0_d4d6_11ec_acf5_38b1dbd15c05row0_col3\" class=\"data row0 col3\" >+0.81</td>\n",
       "            </tr>\n",
       "            <tr>\n",
       "                        <th id=\"T_f58de6b0_d4d6_11ec_acf5_38b1dbd15c05level0_row1\" class=\"row_heading level0 row1\" >1</th>\n",
       "                        <td id=\"T_f58de6b0_d4d6_11ec_acf5_38b1dbd15c05row1_col0\" class=\"data row1 col0\" >+1.44</td>\n",
       "                        <td id=\"T_f58de6b0_d4d6_11ec_acf5_38b1dbd15c05row1_col1\" class=\"data row1 col1\" >-0.25</td>\n",
       "                        <td id=\"T_f58de6b0_d4d6_11ec_acf5_38b1dbd15c05row1_col2\" class=\"data row1 col2\" >-0.17</td>\n",
       "                        <td id=\"T_f58de6b0_d4d6_11ec_acf5_38b1dbd15c05row1_col3\" class=\"data row1 col3\" >+0.06</td>\n",
       "            </tr>\n",
       "            <tr>\n",
       "                        <th id=\"T_f58de6b0_d4d6_11ec_acf5_38b1dbd15c05level0_row2\" class=\"row_heading level0 row2\" >2</th>\n",
       "                        <td id=\"T_f58de6b0_d4d6_11ec_acf5_38b1dbd15c05row2_col0\" class=\"data row2 col0\" >+0.80</td>\n",
       "                        <td id=\"T_f58de6b0_d4d6_11ec_acf5_38b1dbd15c05row2_col1\" class=\"data row2 col1\" >+0.32</td>\n",
       "                        <td id=\"T_f58de6b0_d4d6_11ec_acf5_38b1dbd15c05row2_col2\" class=\"data row2 col2\" >+0.46</td>\n",
       "                        <td id=\"T_f58de6b0_d4d6_11ec_acf5_38b1dbd15c05row2_col3\" class=\"data row2 col3\" >+1.92</td>\n",
       "            </tr>\n",
       "            <tr>\n",
       "                        <th id=\"T_f58de6b0_d4d6_11ec_acf5_38b1dbd15c05level0_row3\" class=\"row_heading level0 row3\" >3</th>\n",
       "                        <td id=\"T_f58de6b0_d4d6_11ec_acf5_38b1dbd15c05row3_col0\" class=\"data row3 col0\" >-0.46</td>\n",
       "                        <td id=\"T_f58de6b0_d4d6_11ec_acf5_38b1dbd15c05row3_col1\" class=\"data row3 col1\" >+0.46</td>\n",
       "                        <td id=\"T_f58de6b0_d4d6_11ec_acf5_38b1dbd15c05row3_col2\" class=\"data row3 col2\" >+0.22</td>\n",
       "                        <td id=\"T_f58de6b0_d4d6_11ec_acf5_38b1dbd15c05row3_col3\" class=\"data row3 col3\" >+0.85</td>\n",
       "            </tr>\n",
       "            <tr>\n",
       "                        <th id=\"T_f58de6b0_d4d6_11ec_acf5_38b1dbd15c05level0_row4\" class=\"row_heading level0 row4\" >4</th>\n",
       "                        <td id=\"T_f58de6b0_d4d6_11ec_acf5_38b1dbd15c05row4_col0\" class=\"data row4 col0\" >+1.14</td>\n",
       "                        <td id=\"T_f58de6b0_d4d6_11ec_acf5_38b1dbd15c05row4_col1\" class=\"data row4 col1\" >-0.53</td>\n",
       "                        <td id=\"T_f58de6b0_d4d6_11ec_acf5_38b1dbd15c05row4_col2\" class=\"data row4 col2\" >+1.51</td>\n",
       "                        <td id=\"T_f58de6b0_d4d6_11ec_acf5_38b1dbd15c05row4_col3\" class=\"data row4 col3\" >-0.22</td>\n",
       "            </tr>\n",
       "    </tbody></table>"
      ],
      "text/plain": [
       "<pandas.io.formats.style.Styler at 0x209afef8f48>"
      ]
     },
     "execution_count": 11,
     "metadata": {},
     "output_type": "execute_result"
    }
   ],
   "source": [
    "# 显示正负数\n",
    "df.head().style.format(\"{:+.2f}\")"
   ]
  },
  {
   "cell_type": "code",
   "execution_count": 12,
   "metadata": {},
   "outputs": [
    {
     "data": {
      "text/html": [
       "<style  type=\"text/css\" >\n",
       "</style><table id=\"T_063abc68_d4d7_11ec_a899_38b1dbd15c05\" ><thead>    <tr>        <th class=\"blank level0\" ></th>        <th class=\"col_heading level0 col0\" >a</th>        <th class=\"col_heading level0 col1\" >b</th>        <th class=\"col_heading level0 col2\" >c</th>        <th class=\"col_heading level0 col3\" >d</th>    </tr></thead><tbody>\n",
       "                <tr>\n",
       "                        <th id=\"T_063abc68_d4d7_11ec_a899_38b1dbd15c05level0_row0\" class=\"row_heading level0 row0\" >0</th>\n",
       "                        <td id=\"T_063abc68_d4d7_11ec_a899_38b1dbd15c05row0_col0\" class=\"data row0 col0\" >-0.340871</td>\n",
       "                        <td id=\"T_063abc68_d4d7_11ec_a899_38b1dbd15c05row0_col1\" class=\"data row0 col1\" >-82.53%</td>\n",
       "                        <td id=\"T_063abc68_d4d7_11ec_a899_38b1dbd15c05row0_col2\" class=\"data row0 col2\" >+0.908</td>\n",
       "                        <td id=\"T_063abc68_d4d7_11ec_a899_38b1dbd15c05row0_col3\" class=\"data row0 col3\" >0.806</td>\n",
       "            </tr>\n",
       "            <tr>\n",
       "                        <th id=\"T_063abc68_d4d7_11ec_a899_38b1dbd15c05level0_row1\" class=\"row_heading level0 row1\" >1</th>\n",
       "                        <td id=\"T_063abc68_d4d7_11ec_a899_38b1dbd15c05row1_col0\" class=\"data row1 col0\" >1.435370</td>\n",
       "                        <td id=\"T_063abc68_d4d7_11ec_a899_38b1dbd15c05row1_col1\" class=\"data row1 col1\" >-25.41%</td>\n",
       "                        <td id=\"T_063abc68_d4d7_11ec_a899_38b1dbd15c05row1_col2\" class=\"data row1 col2\" >-0.174</td>\n",
       "                        <td id=\"T_063abc68_d4d7_11ec_a899_38b1dbd15c05row1_col3\" class=\"data row1 col3\" >0.060</td>\n",
       "            </tr>\n",
       "            <tr>\n",
       "                        <th id=\"T_063abc68_d4d7_11ec_a899_38b1dbd15c05level0_row2\" class=\"row_heading level0 row2\" >2</th>\n",
       "                        <td id=\"T_063abc68_d4d7_11ec_a899_38b1dbd15c05row2_col0\" class=\"data row2 col0\" >0.799676</td>\n",
       "                        <td id=\"T_063abc68_d4d7_11ec_a899_38b1dbd15c05row2_col1\" class=\"data row2 col1\" >32.50%</td>\n",
       "                        <td id=\"T_063abc68_d4d7_11ec_a899_38b1dbd15c05row2_col2\" class=\"data row2 col2\" >+0.464</td>\n",
       "                        <td id=\"T_063abc68_d4d7_11ec_a899_38b1dbd15c05row2_col3\" class=\"data row2 col3\" >1.923</td>\n",
       "            </tr>\n",
       "            <tr>\n",
       "                        <th id=\"T_063abc68_d4d7_11ec_a899_38b1dbd15c05level0_row3\" class=\"row_heading level0 row3\" >3</th>\n",
       "                        <td id=\"T_063abc68_d4d7_11ec_a899_38b1dbd15c05row3_col0\" class=\"data row3 col0\" >-0.460490</td>\n",
       "                        <td id=\"T_063abc68_d4d7_11ec_a899_38b1dbd15c05row3_col1\" class=\"data row3 col1\" >46.14%</td>\n",
       "                        <td id=\"T_063abc68_d4d7_11ec_a899_38b1dbd15c05row3_col2\" class=\"data row3 col2\" >+0.219</td>\n",
       "                        <td id=\"T_063abc68_d4d7_11ec_a899_38b1dbd15c05row3_col3\" class=\"data row3 col3\" >0.846</td>\n",
       "            </tr>\n",
       "            <tr>\n",
       "                        <th id=\"T_063abc68_d4d7_11ec_a899_38b1dbd15c05level0_row4\" class=\"row_heading level0 row4\" >4</th>\n",
       "                        <td id=\"T_063abc68_d4d7_11ec_a899_38b1dbd15c05row4_col0\" class=\"data row4 col0\" >1.138265</td>\n",
       "                        <td id=\"T_063abc68_d4d7_11ec_a899_38b1dbd15c05row4_col1\" class=\"data row4 col1\" >-53.07%</td>\n",
       "                        <td id=\"T_063abc68_d4d7_11ec_a899_38b1dbd15c05row4_col2\" class=\"data row4 col2\" >+1.508</td>\n",
       "                        <td id=\"T_063abc68_d4d7_11ec_a899_38b1dbd15c05row4_col3\" class=\"data row4 col3\" >-0.215</td>\n",
       "            </tr>\n",
       "    </tbody></table>"
      ],
      "text/plain": [
       "<pandas.io.formats.style.Styler at 0x209afe3f248>"
      ]
     },
     "execution_count": 12,
     "metadata": {},
     "output_type": "execute_result"
    }
   ],
   "source": [
    "# 分列显示\n",
    "\n",
    "df.head().style.format({'b':\"{:.2%}\", 'c':\"{:+.3f}\", 'd':\"{:.3f}\"})"
   ]
  },
  {
   "cell_type": "markdown",
   "metadata": {},
   "source": [
    "### 3.表格样式调用\n",
    "\n",
    "Styler内置样式调用"
   ]
  },
  {
   "cell_type": "code",
   "execution_count": 15,
   "metadata": {},
   "outputs": [
    {
     "data": {
      "text/html": [
       "<style  type=\"text/css\" >\n",
       "    #T_5204467e_d4d7_11ec_8808_38b1dbd15c05row2_col0 {\n",
       "            background-color:  red;\n",
       "        }</style><table id=\"T_5204467e_d4d7_11ec_8808_38b1dbd15c05\" ><thead>    <tr>        <th class=\"blank level0\" ></th>        <th class=\"col_heading level0 col0\" >A</th>        <th class=\"col_heading level0 col1\" >B</th>        <th class=\"col_heading level0 col2\" >C</th>        <th class=\"col_heading level0 col3\" >D</th>    </tr></thead><tbody>\n",
       "                <tr>\n",
       "                        <th id=\"T_5204467e_d4d7_11ec_8808_38b1dbd15c05level0_row0\" class=\"row_heading level0 row0\" >0</th>\n",
       "                        <td id=\"T_5204467e_d4d7_11ec_8808_38b1dbd15c05row0_col0\" class=\"data row0 col0\" >0.718534</td>\n",
       "                        <td id=\"T_5204467e_d4d7_11ec_8808_38b1dbd15c05row0_col1\" class=\"data row0 col1\" >0.897299</td>\n",
       "                        <td id=\"T_5204467e_d4d7_11ec_8808_38b1dbd15c05row0_col2\" class=\"data row0 col2\" >0.862468</td>\n",
       "                        <td id=\"T_5204467e_d4d7_11ec_8808_38b1dbd15c05row0_col3\" class=\"data row0 col3\" >0.148617</td>\n",
       "            </tr>\n",
       "            <tr>\n",
       "                        <th id=\"T_5204467e_d4d7_11ec_8808_38b1dbd15c05level0_row1\" class=\"row_heading level0 row1\" >1</th>\n",
       "                        <td id=\"T_5204467e_d4d7_11ec_8808_38b1dbd15c05row1_col0\" class=\"data row1 col0\" >0.076916</td>\n",
       "                        <td id=\"T_5204467e_d4d7_11ec_8808_38b1dbd15c05row1_col1\" class=\"data row1 col1\" >0.731825</td>\n",
       "                        <td id=\"T_5204467e_d4d7_11ec_8808_38b1dbd15c05row1_col2\" class=\"data row1 col2\" >0.430534</td>\n",
       "                        <td id=\"T_5204467e_d4d7_11ec_8808_38b1dbd15c05row1_col3\" class=\"data row1 col3\" >0.745501</td>\n",
       "            </tr>\n",
       "            <tr>\n",
       "                        <th id=\"T_5204467e_d4d7_11ec_8808_38b1dbd15c05level0_row2\" class=\"row_heading level0 row2\" >2</th>\n",
       "                        <td id=\"T_5204467e_d4d7_11ec_8808_38b1dbd15c05row2_col0\" class=\"data row2 col0\" >nan</td>\n",
       "                        <td id=\"T_5204467e_d4d7_11ec_8808_38b1dbd15c05row2_col1\" class=\"data row2 col1\" >0.106515</td>\n",
       "                        <td id=\"T_5204467e_d4d7_11ec_8808_38b1dbd15c05row2_col2\" class=\"data row2 col2\" >0.380902</td>\n",
       "                        <td id=\"T_5204467e_d4d7_11ec_8808_38b1dbd15c05row2_col3\" class=\"data row2 col3\" >0.724866</td>\n",
       "            </tr>\n",
       "            <tr>\n",
       "                        <th id=\"T_5204467e_d4d7_11ec_8808_38b1dbd15c05level0_row3\" class=\"row_heading level0 row3\" >3</th>\n",
       "                        <td id=\"T_5204467e_d4d7_11ec_8808_38b1dbd15c05row3_col0\" class=\"data row3 col0\" >0.064327</td>\n",
       "                        <td id=\"T_5204467e_d4d7_11ec_8808_38b1dbd15c05row3_col1\" class=\"data row3 col1\" >0.345559</td>\n",
       "                        <td id=\"T_5204467e_d4d7_11ec_8808_38b1dbd15c05row3_col2\" class=\"data row3 col2\" >0.961766</td>\n",
       "                        <td id=\"T_5204467e_d4d7_11ec_8808_38b1dbd15c05row3_col3\" class=\"data row3 col3\" >0.080762</td>\n",
       "            </tr>\n",
       "            <tr>\n",
       "                        <th id=\"T_5204467e_d4d7_11ec_8808_38b1dbd15c05level0_row4\" class=\"row_heading level0 row4\" >4</th>\n",
       "                        <td id=\"T_5204467e_d4d7_11ec_8808_38b1dbd15c05row4_col0\" class=\"data row4 col0\" >0.419344</td>\n",
       "                        <td id=\"T_5204467e_d4d7_11ec_8808_38b1dbd15c05row4_col1\" class=\"data row4 col1\" >0.875916</td>\n",
       "                        <td id=\"T_5204467e_d4d7_11ec_8808_38b1dbd15c05row4_col2\" class=\"data row4 col2\" >0.467781</td>\n",
       "                        <td id=\"T_5204467e_d4d7_11ec_8808_38b1dbd15c05row4_col3\" class=\"data row4 col3\" >0.027139</td>\n",
       "            </tr>\n",
       "    </tbody></table>"
      ],
      "text/plain": [
       "<pandas.io.formats.style.Styler at 0x209afe39248>"
      ]
     },
     "execution_count": 15,
     "metadata": {},
     "output_type": "execute_result"
    }
   ],
   "source": [
    "# 定位空值\n",
    "df = pd.DataFrame(np.random.rand(5, 4), columns=list('ABCD'))\n",
    "df['A'][2] = np.nan\n",
    "\n",
    "df.style.highlight_null(null_color='red')"
   ]
  },
  {
   "cell_type": "markdown",
   "metadata": {},
   "source": [
    "#####  色彩映射\n",
    "`df.style.background_gradient(cmap='Greens',axis =1,low=0,high=1)` 色彩映射"
   ]
  },
  {
   "cell_type": "code",
   "execution_count": 16,
   "metadata": {},
   "outputs": [
    {
     "data": {
      "text/html": [
       "<style  type=\"text/css\" >\n",
       "    #T_a3ca7fe4_d4d7_11ec_a3a9_38b1dbd15c05row0_col0 {\n",
       "            background-color:  #f7fcf5;\n",
       "            color:  #000000;\n",
       "        }    #T_a3ca7fe4_d4d7_11ec_a3a9_38b1dbd15c05row0_col1 {\n",
       "            background-color:  #73c476;\n",
       "            color:  #000000;\n",
       "        }    #T_a3ca7fe4_d4d7_11ec_a3a9_38b1dbd15c05row0_col2 {\n",
       "            background-color:  #ecf8e8;\n",
       "            color:  #000000;\n",
       "        }    #T_a3ca7fe4_d4d7_11ec_a3a9_38b1dbd15c05row0_col3 {\n",
       "            background-color:  #caeac3;\n",
       "            color:  #000000;\n",
       "        }    #T_a3ca7fe4_d4d7_11ec_a3a9_38b1dbd15c05row1_col0 {\n",
       "            background-color:  #73c476;\n",
       "            color:  #000000;\n",
       "        }    #T_a3ca7fe4_d4d7_11ec_a3a9_38b1dbd15c05row1_col1 {\n",
       "            background-color:  #f7fcf5;\n",
       "            color:  #000000;\n",
       "        }    #T_a3ca7fe4_d4d7_11ec_a3a9_38b1dbd15c05row1_col2 {\n",
       "            background-color:  #f2faef;\n",
       "            color:  #000000;\n",
       "        }    #T_a3ca7fe4_d4d7_11ec_a3a9_38b1dbd15c05row1_col3 {\n",
       "            background-color:  #e9f7e5;\n",
       "            color:  #000000;\n",
       "        }    #T_a3ca7fe4_d4d7_11ec_a3a9_38b1dbd15c05row2_col0 {\n",
       "            background-color:  #f7fcf5;\n",
       "            color:  #000000;\n",
       "        }    #T_a3ca7fe4_d4d7_11ec_a3a9_38b1dbd15c05row2_col1 {\n",
       "            background-color:  #73c476;\n",
       "            color:  #000000;\n",
       "        }    #T_a3ca7fe4_d4d7_11ec_a3a9_38b1dbd15c05row2_col2 {\n",
       "            background-color:  #d8f0d2;\n",
       "            color:  #000000;\n",
       "        }    #T_a3ca7fe4_d4d7_11ec_a3a9_38b1dbd15c05row2_col3 {\n",
       "            background-color:  #d6efd0;\n",
       "            color:  #000000;\n",
       "        }    #T_a3ca7fe4_d4d7_11ec_a3a9_38b1dbd15c05row3_col0 {\n",
       "            background-color:  #e0f3db;\n",
       "            color:  #000000;\n",
       "        }    #T_a3ca7fe4_d4d7_11ec_a3a9_38b1dbd15c05row3_col1 {\n",
       "            background-color:  #75c477;\n",
       "            color:  #000000;\n",
       "        }    #T_a3ca7fe4_d4d7_11ec_a3a9_38b1dbd15c05row3_col2 {\n",
       "            background-color:  #7ac77b;\n",
       "            color:  #000000;\n",
       "        }    #T_a3ca7fe4_d4d7_11ec_a3a9_38b1dbd15c05row3_col3 {\n",
       "            background-color:  #f7fcf5;\n",
       "            color:  #000000;\n",
       "        }    #T_a3ca7fe4_d4d7_11ec_a3a9_38b1dbd15c05row4_col0 {\n",
       "            background-color:  #73c476;\n",
       "            color:  #000000;\n",
       "        }    #T_a3ca7fe4_d4d7_11ec_a3a9_38b1dbd15c05row4_col1 {\n",
       "            background-color:  #f7fcf5;\n",
       "            color:  #000000;\n",
       "        }    #T_a3ca7fe4_d4d7_11ec_a3a9_38b1dbd15c05row4_col2 {\n",
       "            background-color:  #e0f3db;\n",
       "            color:  #000000;\n",
       "        }    #T_a3ca7fe4_d4d7_11ec_a3a9_38b1dbd15c05row4_col3 {\n",
       "            background-color:  #e2f4dd;\n",
       "            color:  #000000;\n",
       "        }    #T_a3ca7fe4_d4d7_11ec_a3a9_38b1dbd15c05row5_col0 {\n",
       "            background-color:  #f0f9ec;\n",
       "            color:  #000000;\n",
       "        }    #T_a3ca7fe4_d4d7_11ec_a3a9_38b1dbd15c05row5_col1 {\n",
       "            background-color:  #bbe4b4;\n",
       "            color:  #000000;\n",
       "        }    #T_a3ca7fe4_d4d7_11ec_a3a9_38b1dbd15c05row5_col2 {\n",
       "            background-color:  #73c476;\n",
       "            color:  #000000;\n",
       "        }    #T_a3ca7fe4_d4d7_11ec_a3a9_38b1dbd15c05row5_col3 {\n",
       "            background-color:  #f7fcf5;\n",
       "            color:  #000000;\n",
       "        }    #T_a3ca7fe4_d4d7_11ec_a3a9_38b1dbd15c05row6_col0 {\n",
       "            background-color:  #76c578;\n",
       "            color:  #000000;\n",
       "        }    #T_a3ca7fe4_d4d7_11ec_a3a9_38b1dbd15c05row6_col1 {\n",
       "            background-color:  #73c476;\n",
       "            color:  #000000;\n",
       "        }    #T_a3ca7fe4_d4d7_11ec_a3a9_38b1dbd15c05row6_col2 {\n",
       "            background-color:  #f7fcf5;\n",
       "            color:  #000000;\n",
       "        }    #T_a3ca7fe4_d4d7_11ec_a3a9_38b1dbd15c05row6_col3 {\n",
       "            background-color:  #7dc87e;\n",
       "            color:  #000000;\n",
       "        }    #T_a3ca7fe4_d4d7_11ec_a3a9_38b1dbd15c05row7_col0 {\n",
       "            background-color:  #e3f4de;\n",
       "            color:  #000000;\n",
       "        }    #T_a3ca7fe4_d4d7_11ec_a3a9_38b1dbd15c05row7_col1 {\n",
       "            background-color:  #e9f7e5;\n",
       "            color:  #000000;\n",
       "        }    #T_a3ca7fe4_d4d7_11ec_a3a9_38b1dbd15c05row7_col2 {\n",
       "            background-color:  #f7fcf5;\n",
       "            color:  #000000;\n",
       "        }    #T_a3ca7fe4_d4d7_11ec_a3a9_38b1dbd15c05row7_col3 {\n",
       "            background-color:  #73c476;\n",
       "            color:  #000000;\n",
       "        }    #T_a3ca7fe4_d4d7_11ec_a3a9_38b1dbd15c05row8_col0 {\n",
       "            background-color:  #f5fbf2;\n",
       "            color:  #000000;\n",
       "        }    #T_a3ca7fe4_d4d7_11ec_a3a9_38b1dbd15c05row8_col1 {\n",
       "            background-color:  #f7fcf5;\n",
       "            color:  #000000;\n",
       "        }    #T_a3ca7fe4_d4d7_11ec_a3a9_38b1dbd15c05row8_col2 {\n",
       "            background-color:  #8bcf89;\n",
       "            color:  #000000;\n",
       "        }    #T_a3ca7fe4_d4d7_11ec_a3a9_38b1dbd15c05row8_col3 {\n",
       "            background-color:  #73c476;\n",
       "            color:  #000000;\n",
       "        }    #T_a3ca7fe4_d4d7_11ec_a3a9_38b1dbd15c05row9_col0 {\n",
       "            background-color:  #e9f7e5;\n",
       "            color:  #000000;\n",
       "        }    #T_a3ca7fe4_d4d7_11ec_a3a9_38b1dbd15c05row9_col1 {\n",
       "            background-color:  #f7fcf5;\n",
       "            color:  #000000;\n",
       "        }    #T_a3ca7fe4_d4d7_11ec_a3a9_38b1dbd15c05row9_col2 {\n",
       "            background-color:  #d7efd1;\n",
       "            color:  #000000;\n",
       "        }    #T_a3ca7fe4_d4d7_11ec_a3a9_38b1dbd15c05row9_col3 {\n",
       "            background-color:  #73c476;\n",
       "            color:  #000000;\n",
       "        }</style><table id=\"T_a3ca7fe4_d4d7_11ec_a3a9_38b1dbd15c05\" ><thead>    <tr>        <th class=\"blank level0\" ></th>        <th class=\"col_heading level0 col0\" >A</th>        <th class=\"col_heading level0 col1\" >B</th>        <th class=\"col_heading level0 col2\" >C</th>        <th class=\"col_heading level0 col3\" >D</th>    </tr></thead><tbody>\n",
       "                <tr>\n",
       "                        <th id=\"T_a3ca7fe4_d4d7_11ec_a3a9_38b1dbd15c05level0_row0\" class=\"row_heading level0 row0\" >0</th>\n",
       "                        <td id=\"T_a3ca7fe4_d4d7_11ec_a3a9_38b1dbd15c05row0_col0\" class=\"data row0 col0\" >0.454667</td>\n",
       "                        <td id=\"T_a3ca7fe4_d4d7_11ec_a3a9_38b1dbd15c05row0_col1\" class=\"data row0 col1\" >0.895418</td>\n",
       "                        <td id=\"T_a3ca7fe4_d4d7_11ec_a3a9_38b1dbd15c05row0_col2\" class=\"data row0 col2\" >0.522539</td>\n",
       "                        <td id=\"T_a3ca7fe4_d4d7_11ec_a3a9_38b1dbd15c05row0_col3\" class=\"data row0 col3\" >0.668088</td>\n",
       "            </tr>\n",
       "            <tr>\n",
       "                        <th id=\"T_a3ca7fe4_d4d7_11ec_a3a9_38b1dbd15c05level0_row1\" class=\"row_heading level0 row1\" >1</th>\n",
       "                        <td id=\"T_a3ca7fe4_d4d7_11ec_a3a9_38b1dbd15c05row1_col0\" class=\"data row1 col0\" >0.915492</td>\n",
       "                        <td id=\"T_a3ca7fe4_d4d7_11ec_a3a9_38b1dbd15c05row1_col1\" class=\"data row1 col1\" >0.063815</td>\n",
       "                        <td id=\"T_a3ca7fe4_d4d7_11ec_a3a9_38b1dbd15c05row1_col2\" class=\"data row1 col2\" >0.129173</td>\n",
       "                        <td id=\"T_a3ca7fe4_d4d7_11ec_a3a9_38b1dbd15c05row1_col3\" class=\"data row1 col3\" >0.232624</td>\n",
       "            </tr>\n",
       "            <tr>\n",
       "                        <th id=\"T_a3ca7fe4_d4d7_11ec_a3a9_38b1dbd15c05level0_row2\" class=\"row_heading level0 row2\" >2</th>\n",
       "                        <td id=\"T_a3ca7fe4_d4d7_11ec_a3a9_38b1dbd15c05row2_col0\" class=\"data row2 col0\" >0.318130</td>\n",
       "                        <td id=\"T_a3ca7fe4_d4d7_11ec_a3a9_38b1dbd15c05row2_col1\" class=\"data row2 col1\" >0.901456</td>\n",
       "                        <td id=\"T_a3ca7fe4_d4d7_11ec_a3a9_38b1dbd15c05row2_col2\" class=\"data row2 col2\" >0.529192</td>\n",
       "                        <td id=\"T_a3ca7fe4_d4d7_11ec_a3a9_38b1dbd15c05row2_col3\" class=\"data row2 col3\" >0.540301</td>\n",
       "            </tr>\n",
       "            <tr>\n",
       "                        <th id=\"T_a3ca7fe4_d4d7_11ec_a3a9_38b1dbd15c05level0_row3\" class=\"row_heading level0 row3\" >3</th>\n",
       "                        <td id=\"T_a3ca7fe4_d4d7_11ec_a3a9_38b1dbd15c05row3_col0\" class=\"data row3 col0\" >0.520605</td>\n",
       "                        <td id=\"T_a3ca7fe4_d4d7_11ec_a3a9_38b1dbd15c05row3_col1\" class=\"data row3 col1\" >0.893578</td>\n",
       "                        <td id=\"T_a3ca7fe4_d4d7_11ec_a3a9_38b1dbd15c05row3_col2\" class=\"data row3 col2\" >0.873407</td>\n",
       "                        <td id=\"T_a3ca7fe4_d4d7_11ec_a3a9_38b1dbd15c05row3_col3\" class=\"data row3 col3\" >0.365717</td>\n",
       "            </tr>\n",
       "            <tr>\n",
       "                        <th id=\"T_a3ca7fe4_d4d7_11ec_a3a9_38b1dbd15c05level0_row4\" class=\"row_heading level0 row4\" >4</th>\n",
       "                        <td id=\"T_a3ca7fe4_d4d7_11ec_a3a9_38b1dbd15c05row4_col0\" class=\"data row4 col0\" >0.985473</td>\n",
       "                        <td id=\"T_a3ca7fe4_d4d7_11ec_a3a9_38b1dbd15c05row4_col1\" class=\"data row4 col1\" >0.376337</td>\n",
       "                        <td id=\"T_a3ca7fe4_d4d7_11ec_a3a9_38b1dbd15c05row4_col2\" class=\"data row4 col2\" >0.555237</td>\n",
       "                        <td id=\"T_a3ca7fe4_d4d7_11ec_a3a9_38b1dbd15c05row4_col3\" class=\"data row4 col3\" >0.547585</td>\n",
       "            </tr>\n",
       "            <tr>\n",
       "                        <th id=\"T_a3ca7fe4_d4d7_11ec_a3a9_38b1dbd15c05level0_row5\" class=\"row_heading level0 row5\" >5</th>\n",
       "                        <td id=\"T_a3ca7fe4_d4d7_11ec_a3a9_38b1dbd15c05row5_col0\" class=\"data row5 col0\" >0.138856</td>\n",
       "                        <td id=\"T_a3ca7fe4_d4d7_11ec_a3a9_38b1dbd15c05row5_col1\" class=\"data row5 col1\" >0.527383</td>\n",
       "                        <td id=\"T_a3ca7fe4_d4d7_11ec_a3a9_38b1dbd15c05row5_col2\" class=\"data row5 col2\" >0.863354</td>\n",
       "                        <td id=\"T_a3ca7fe4_d4d7_11ec_a3a9_38b1dbd15c05row5_col3\" class=\"data row5 col3\" >0.054810</td>\n",
       "            </tr>\n",
       "            <tr>\n",
       "                        <th id=\"T_a3ca7fe4_d4d7_11ec_a3a9_38b1dbd15c05level0_row6\" class=\"row_heading level0 row6\" >6</th>\n",
       "                        <td id=\"T_a3ca7fe4_d4d7_11ec_a3a9_38b1dbd15c05row6_col0\" class=\"data row6 col0\" >0.878319</td>\n",
       "                        <td id=\"T_a3ca7fe4_d4d7_11ec_a3a9_38b1dbd15c05row6_col1\" class=\"data row6 col1\" >0.889584</td>\n",
       "                        <td id=\"T_a3ca7fe4_d4d7_11ec_a3a9_38b1dbd15c05row6_col2\" class=\"data row6 col2\" >0.069524</td>\n",
       "                        <td id=\"T_a3ca7fe4_d4d7_11ec_a3a9_38b1dbd15c05row6_col3\" class=\"data row6 col3\" >0.850255</td>\n",
       "            </tr>\n",
       "            <tr>\n",
       "                        <th id=\"T_a3ca7fe4_d4d7_11ec_a3a9_38b1dbd15c05level0_row7\" class=\"row_heading level0 row7\" >7</th>\n",
       "                        <td id=\"T_a3ca7fe4_d4d7_11ec_a3a9_38b1dbd15c05row7_col0\" class=\"data row7 col0\" >0.368717</td>\n",
       "                        <td id=\"T_a3ca7fe4_d4d7_11ec_a3a9_38b1dbd15c05row7_col1\" class=\"data row7 col1\" >0.317610</td>\n",
       "                        <td id=\"T_a3ca7fe4_d4d7_11ec_a3a9_38b1dbd15c05row7_col2\" class=\"data row7 col2\" >0.180074</td>\n",
       "                        <td id=\"T_a3ca7fe4_d4d7_11ec_a3a9_38b1dbd15c05row7_col3\" class=\"data row7 col3\" >0.875139</td>\n",
       "            </tr>\n",
       "            <tr>\n",
       "                        <th id=\"T_a3ca7fe4_d4d7_11ec_a3a9_38b1dbd15c05level0_row8\" class=\"row_heading level0 row8\" >8</th>\n",
       "                        <td id=\"T_a3ca7fe4_d4d7_11ec_a3a9_38b1dbd15c05row8_col0\" class=\"data row8 col0\" >0.304992</td>\n",
       "                        <td id=\"T_a3ca7fe4_d4d7_11ec_a3a9_38b1dbd15c05row8_col1\" class=\"data row8 col1\" >0.290734</td>\n",
       "                        <td id=\"T_a3ca7fe4_d4d7_11ec_a3a9_38b1dbd15c05row8_col2\" class=\"data row8 col2\" >0.614449</td>\n",
       "                        <td id=\"T_a3ca7fe4_d4d7_11ec_a3a9_38b1dbd15c05row8_col3\" class=\"data row8 col3\" >0.662185</td>\n",
       "            </tr>\n",
       "            <tr>\n",
       "                        <th id=\"T_a3ca7fe4_d4d7_11ec_a3a9_38b1dbd15c05level0_row9\" class=\"row_heading level0 row9\" >9</th>\n",
       "                        <td id=\"T_a3ca7fe4_d4d7_11ec_a3a9_38b1dbd15c05row9_col0\" class=\"data row9 col0\" >0.178260</td>\n",
       "                        <td id=\"T_a3ca7fe4_d4d7_11ec_a3a9_38b1dbd15c05row9_col1\" class=\"data row9 col1\" >0.028863</td>\n",
       "                        <td id=\"T_a3ca7fe4_d4d7_11ec_a3a9_38b1dbd15c05row9_col2\" class=\"data row9 col2\" >0.307339</td>\n",
       "                        <td id=\"T_a3ca7fe4_d4d7_11ec_a3a9_38b1dbd15c05row9_col3\" class=\"data row9 col3\" >0.786306</td>\n",
       "            </tr>\n",
       "    </tbody></table>"
      ],
      "text/plain": [
       "<pandas.io.formats.style.Styler at 0x209aff120c8>"
      ]
     },
     "execution_count": 16,
     "metadata": {},
     "output_type": "execute_result"
    }
   ],
   "source": [
    "df = pd.DataFrame(np.random.rand(10,4),columns = list('ABCD'))\n",
    "df.style.background_gradient(cmap='Greens',axis =1,low=0,high=1) # cmap：颜色; # axis：映射参考，0为行，1以列"
   ]
  },
  {
   "cell_type": "markdown",
   "metadata": {},
   "source": [
    "#### 条形图"
   ]
  },
  {
   "cell_type": "code",
   "execution_count": 17,
   "metadata": {},
   "outputs": [
    {
     "data": {
      "text/html": [
       "<style  type=\"text/css\" >\n",
       "    #T_b75f4276_d4d7_11ec_97b5_38b1dbd15c05row0_col0 {\n",
       "            width:  10em;\n",
       "             height:  80%;\n",
       "        }    #T_b75f4276_d4d7_11ec_97b5_38b1dbd15c05row0_col1 {\n",
       "            width:  10em;\n",
       "             height:  80%;\n",
       "            background:  linear-gradient(90deg,#d65f5f 57.3%, transparent 57.3%);\n",
       "        }    #T_b75f4276_d4d7_11ec_97b5_38b1dbd15c05row1_col0 {\n",
       "            width:  10em;\n",
       "             height:  80%;\n",
       "            background:  linear-gradient(90deg,#d65f5f 17.6%, transparent 17.6%);\n",
       "        }    #T_b75f4276_d4d7_11ec_97b5_38b1dbd15c05row1_col1 {\n",
       "            width:  10em;\n",
       "             height:  80%;\n",
       "            background:  linear-gradient(90deg,#d65f5f 72.3%, transparent 72.3%);\n",
       "        }    #T_b75f4276_d4d7_11ec_97b5_38b1dbd15c05row2_col0 {\n",
       "            width:  10em;\n",
       "             height:  80%;\n",
       "            background:  linear-gradient(90deg,#d65f5f 52.8%, transparent 52.8%);\n",
       "        }    #T_b75f4276_d4d7_11ec_97b5_38b1dbd15c05row2_col1 {\n",
       "            width:  10em;\n",
       "             height:  80%;\n",
       "            background:  linear-gradient(90deg,#d65f5f 43.2%, transparent 43.2%);\n",
       "        }    #T_b75f4276_d4d7_11ec_97b5_38b1dbd15c05row3_col0 {\n",
       "            width:  10em;\n",
       "             height:  80%;\n",
       "            background:  linear-gradient(90deg,#d65f5f 14.4%, transparent 14.4%);\n",
       "        }    #T_b75f4276_d4d7_11ec_97b5_38b1dbd15c05row3_col1 {\n",
       "            width:  10em;\n",
       "             height:  80%;\n",
       "            background:  linear-gradient(90deg,#d65f5f 7.2%, transparent 7.2%);\n",
       "        }    #T_b75f4276_d4d7_11ec_97b5_38b1dbd15c05row4_col0 {\n",
       "            width:  10em;\n",
       "             height:  80%;\n",
       "            background:  linear-gradient(90deg,#d65f5f 73.9%, transparent 73.9%);\n",
       "        }    #T_b75f4276_d4d7_11ec_97b5_38b1dbd15c05row4_col1 {\n",
       "            width:  10em;\n",
       "             height:  80%;\n",
       "            background:  linear-gradient(90deg,#d65f5f 100.0%, transparent 100.0%);\n",
       "        }    #T_b75f4276_d4d7_11ec_97b5_38b1dbd15c05row5_col0 {\n",
       "            width:  10em;\n",
       "             height:  80%;\n",
       "            background:  linear-gradient(90deg,#d65f5f 4.2%, transparent 4.2%);\n",
       "        }    #T_b75f4276_d4d7_11ec_97b5_38b1dbd15c05row5_col1 {\n",
       "            width:  10em;\n",
       "             height:  80%;\n",
       "            background:  linear-gradient(90deg,#d65f5f 49.5%, transparent 49.5%);\n",
       "        }    #T_b75f4276_d4d7_11ec_97b5_38b1dbd15c05row6_col0 {\n",
       "            width:  10em;\n",
       "             height:  80%;\n",
       "            background:  linear-gradient(90deg,#d65f5f 70.3%, transparent 70.3%);\n",
       "        }    #T_b75f4276_d4d7_11ec_97b5_38b1dbd15c05row6_col1 {\n",
       "            width:  10em;\n",
       "             height:  80%;\n",
       "            background:  linear-gradient(90deg,#d65f5f 53.0%, transparent 53.0%);\n",
       "        }    #T_b75f4276_d4d7_11ec_97b5_38b1dbd15c05row7_col0 {\n",
       "            width:  10em;\n",
       "             height:  80%;\n",
       "            background:  linear-gradient(90deg,#d65f5f 19.2%, transparent 19.2%);\n",
       "        }    #T_b75f4276_d4d7_11ec_97b5_38b1dbd15c05row7_col1 {\n",
       "            width:  10em;\n",
       "             height:  80%;\n",
       "            background:  linear-gradient(90deg,#d65f5f 20.4%, transparent 20.4%);\n",
       "        }    #T_b75f4276_d4d7_11ec_97b5_38b1dbd15c05row8_col0 {\n",
       "            width:  10em;\n",
       "             height:  80%;\n",
       "            background:  linear-gradient(90deg,#d65f5f 100.0%, transparent 100.0%);\n",
       "        }    #T_b75f4276_d4d7_11ec_97b5_38b1dbd15c05row8_col1 {\n",
       "            width:  10em;\n",
       "             height:  80%;\n",
       "            background:  linear-gradient(90deg,#d65f5f 44.9%, transparent 44.9%);\n",
       "        }    #T_b75f4276_d4d7_11ec_97b5_38b1dbd15c05row9_col0 {\n",
       "            width:  10em;\n",
       "             height:  80%;\n",
       "            background:  linear-gradient(90deg,#d65f5f 28.6%, transparent 28.6%);\n",
       "        }    #T_b75f4276_d4d7_11ec_97b5_38b1dbd15c05row9_col1 {\n",
       "            width:  10em;\n",
       "             height:  80%;\n",
       "        }</style><table id=\"T_b75f4276_d4d7_11ec_97b5_38b1dbd15c05\" ><thead>    <tr>        <th class=\"blank level0\" ></th>        <th class=\"col_heading level0 col0\" >A</th>        <th class=\"col_heading level0 col1\" >B</th>        <th class=\"col_heading level0 col2\" >C</th>        <th class=\"col_heading level0 col3\" >D</th>    </tr></thead><tbody>\n",
       "                <tr>\n",
       "                        <th id=\"T_b75f4276_d4d7_11ec_97b5_38b1dbd15c05level0_row0\" class=\"row_heading level0 row0\" >0</th>\n",
       "                        <td id=\"T_b75f4276_d4d7_11ec_97b5_38b1dbd15c05row0_col0\" class=\"data row0 col0\" >0.091162</td>\n",
       "                        <td id=\"T_b75f4276_d4d7_11ec_97b5_38b1dbd15c05row0_col1\" class=\"data row0 col1\" >0.659391</td>\n",
       "                        <td id=\"T_b75f4276_d4d7_11ec_97b5_38b1dbd15c05row0_col2\" class=\"data row0 col2\" >0.793890</td>\n",
       "                        <td id=\"T_b75f4276_d4d7_11ec_97b5_38b1dbd15c05row0_col3\" class=\"data row0 col3\" >0.453831</td>\n",
       "            </tr>\n",
       "            <tr>\n",
       "                        <th id=\"T_b75f4276_d4d7_11ec_97b5_38b1dbd15c05level0_row1\" class=\"row_heading level0 row1\" >1</th>\n",
       "                        <td id=\"T_b75f4276_d4d7_11ec_97b5_38b1dbd15c05row1_col0\" class=\"data row1 col0\" >0.241611</td>\n",
       "                        <td id=\"T_b75f4276_d4d7_11ec_97b5_38b1dbd15c05row1_col1\" class=\"data row1 col1\" >0.774842</td>\n",
       "                        <td id=\"T_b75f4276_d4d7_11ec_97b5_38b1dbd15c05row1_col2\" class=\"data row1 col2\" >0.822867</td>\n",
       "                        <td id=\"T_b75f4276_d4d7_11ec_97b5_38b1dbd15c05row1_col3\" class=\"data row1 col3\" >0.250582</td>\n",
       "            </tr>\n",
       "            <tr>\n",
       "                        <th id=\"T_b75f4276_d4d7_11ec_97b5_38b1dbd15c05level0_row2\" class=\"row_heading level0 row2\" >2</th>\n",
       "                        <td id=\"T_b75f4276_d4d7_11ec_97b5_38b1dbd15c05row2_col0\" class=\"data row2 col0\" >0.541411</td>\n",
       "                        <td id=\"T_b75f4276_d4d7_11ec_97b5_38b1dbd15c05row2_col1\" class=\"data row2 col1\" >0.551059</td>\n",
       "                        <td id=\"T_b75f4276_d4d7_11ec_97b5_38b1dbd15c05row2_col2\" class=\"data row2 col2\" >0.521213</td>\n",
       "                        <td id=\"T_b75f4276_d4d7_11ec_97b5_38b1dbd15c05row2_col3\" class=\"data row2 col3\" >0.529303</td>\n",
       "            </tr>\n",
       "            <tr>\n",
       "                        <th id=\"T_b75f4276_d4d7_11ec_97b5_38b1dbd15c05level0_row3\" class=\"row_heading level0 row3\" >3</th>\n",
       "                        <td id=\"T_b75f4276_d4d7_11ec_97b5_38b1dbd15c05row3_col0\" class=\"data row3 col0\" >0.214128</td>\n",
       "                        <td id=\"T_b75f4276_d4d7_11ec_97b5_38b1dbd15c05row3_col1\" class=\"data row3 col1\" >0.274993</td>\n",
       "                        <td id=\"T_b75f4276_d4d7_11ec_97b5_38b1dbd15c05row3_col2\" class=\"data row3 col2\" >0.438851</td>\n",
       "                        <td id=\"T_b75f4276_d4d7_11ec_97b5_38b1dbd15c05row3_col3\" class=\"data row3 col3\" >0.158967</td>\n",
       "            </tr>\n",
       "            <tr>\n",
       "                        <th id=\"T_b75f4276_d4d7_11ec_97b5_38b1dbd15c05level0_row4\" class=\"row_heading level0 row4\" >4</th>\n",
       "                        <td id=\"T_b75f4276_d4d7_11ec_97b5_38b1dbd15c05row4_col0\" class=\"data row4 col0\" >0.721968</td>\n",
       "                        <td id=\"T_b75f4276_d4d7_11ec_97b5_38b1dbd15c05row4_col1\" class=\"data row4 col1\" >0.987833</td>\n",
       "                        <td id=\"T_b75f4276_d4d7_11ec_97b5_38b1dbd15c05row4_col2\" class=\"data row4 col2\" >0.770800</td>\n",
       "                        <td id=\"T_b75f4276_d4d7_11ec_97b5_38b1dbd15c05row4_col3\" class=\"data row4 col3\" >0.077401</td>\n",
       "            </tr>\n",
       "            <tr>\n",
       "                        <th id=\"T_b75f4276_d4d7_11ec_97b5_38b1dbd15c05level0_row5\" class=\"row_heading level0 row5\" >5</th>\n",
       "                        <td id=\"T_b75f4276_d4d7_11ec_97b5_38b1dbd15c05row5_col0\" class=\"data row5 col0\" >0.126808</td>\n",
       "                        <td id=\"T_b75f4276_d4d7_11ec_97b5_38b1dbd15c05row5_col1\" class=\"data row5 col1\" >0.599619</td>\n",
       "                        <td id=\"T_b75f4276_d4d7_11ec_97b5_38b1dbd15c05row5_col2\" class=\"data row5 col2\" >0.814085</td>\n",
       "                        <td id=\"T_b75f4276_d4d7_11ec_97b5_38b1dbd15c05row5_col3\" class=\"data row5 col3\" >0.454038</td>\n",
       "            </tr>\n",
       "            <tr>\n",
       "                        <th id=\"T_b75f4276_d4d7_11ec_97b5_38b1dbd15c05level0_row6\" class=\"row_heading level0 row6\" >6</th>\n",
       "                        <td id=\"T_b75f4276_d4d7_11ec_97b5_38b1dbd15c05row6_col0\" class=\"data row6 col0\" >0.691255</td>\n",
       "                        <td id=\"T_b75f4276_d4d7_11ec_97b5_38b1dbd15c05row6_col1\" class=\"data row6 col1\" >0.626466</td>\n",
       "                        <td id=\"T_b75f4276_d4d7_11ec_97b5_38b1dbd15c05row6_col2\" class=\"data row6 col2\" >0.573361</td>\n",
       "                        <td id=\"T_b75f4276_d4d7_11ec_97b5_38b1dbd15c05row6_col3\" class=\"data row6 col3\" >0.629499</td>\n",
       "            </tr>\n",
       "            <tr>\n",
       "                        <th id=\"T_b75f4276_d4d7_11ec_97b5_38b1dbd15c05level0_row7\" class=\"row_heading level0 row7\" >7</th>\n",
       "                        <td id=\"T_b75f4276_d4d7_11ec_97b5_38b1dbd15c05row7_col0\" class=\"data row7 col0\" >0.255340</td>\n",
       "                        <td id=\"T_b75f4276_d4d7_11ec_97b5_38b1dbd15c05row7_col1\" class=\"data row7 col1\" >0.376143</td>\n",
       "                        <td id=\"T_b75f4276_d4d7_11ec_97b5_38b1dbd15c05row7_col2\" class=\"data row7 col2\" >0.655323</td>\n",
       "                        <td id=\"T_b75f4276_d4d7_11ec_97b5_38b1dbd15c05row7_col3\" class=\"data row7 col3\" >0.574809</td>\n",
       "            </tr>\n",
       "            <tr>\n",
       "                        <th id=\"T_b75f4276_d4d7_11ec_97b5_38b1dbd15c05level0_row8\" class=\"row_heading level0 row8\" >8</th>\n",
       "                        <td id=\"T_b75f4276_d4d7_11ec_97b5_38b1dbd15c05row8_col0\" class=\"data row8 col0\" >0.944275</td>\n",
       "                        <td id=\"T_b75f4276_d4d7_11ec_97b5_38b1dbd15c05row8_col1\" class=\"data row8 col1\" >0.564231</td>\n",
       "                        <td id=\"T_b75f4276_d4d7_11ec_97b5_38b1dbd15c05row8_col2\" class=\"data row8 col2\" >0.162931</td>\n",
       "                        <td id=\"T_b75f4276_d4d7_11ec_97b5_38b1dbd15c05row8_col3\" class=\"data row8 col3\" >0.559705</td>\n",
       "            </tr>\n",
       "            <tr>\n",
       "                        <th id=\"T_b75f4276_d4d7_11ec_97b5_38b1dbd15c05level0_row9\" class=\"row_heading level0 row9\" >9</th>\n",
       "                        <td id=\"T_b75f4276_d4d7_11ec_97b5_38b1dbd15c05row9_col0\" class=\"data row9 col0\" >0.335346</td>\n",
       "                        <td id=\"T_b75f4276_d4d7_11ec_97b5_38b1dbd15c05row9_col1\" class=\"data row9 col1\" >0.219521</td>\n",
       "                        <td id=\"T_b75f4276_d4d7_11ec_97b5_38b1dbd15c05row9_col2\" class=\"data row9 col2\" >0.050439</td>\n",
       "                        <td id=\"T_b75f4276_d4d7_11ec_97b5_38b1dbd15c05row9_col3\" class=\"data row9 col3\" >0.731554</td>\n",
       "            </tr>\n",
       "    </tbody></table>"
      ],
      "text/plain": [
       "<pandas.io.formats.style.Styler at 0x209aff0ce08>"
      ]
     },
     "execution_count": 17,
     "metadata": {},
     "output_type": "execute_result"
    }
   ],
   "source": [
    "df = pd.DataFrame(np.random.rand(10,4),columns = list('ABCD'))\n",
    "df.style.bar(subset=['A', 'B'], color='#d65f5f', width=100) # width：最长长度在格子的占比"
   ]
  },
  {
   "cell_type": "code",
   "execution_count": 18,
   "metadata": {},
   "outputs": [
    {
     "data": {
      "text/html": [
       "<style  type=\"text/css\" >\n",
       "    #T_d04daab8_d4d7_11ec_84e2_38b1dbd15c05row0_col0 {\n",
       "            width:  10em;\n",
       "             height:  80%;\n",
       "            background:  linear-gradient(90deg,#d65f5f 26.0%, transparent 26.0%);\n",
       "            : ;\n",
       "        }    #T_d04daab8_d4d7_11ec_84e2_38b1dbd15c05row0_col1 {\n",
       "            width:  10em;\n",
       "             height:  80%;\n",
       "            background:  linear-gradient(90deg,#d65f5f 100.0%, transparent 100.0%);\n",
       "            : ;\n",
       "        }    #T_d04daab8_d4d7_11ec_84e2_38b1dbd15c05row1_col0 {\n",
       "            width:  10em;\n",
       "             height:  80%;\n",
       "            background:  linear-gradient(90deg,#d65f5f 100.0%, transparent 100.0%);\n",
       "            : ;\n",
       "        }    #T_d04daab8_d4d7_11ec_84e2_38b1dbd15c05row1_col1 {\n",
       "            width:  10em;\n",
       "             height:  80%;\n",
       "            background:  linear-gradient(90deg,#d65f5f 24.0%, transparent 24.0%);\n",
       "            : ;\n",
       "        }    #T_d04daab8_d4d7_11ec_84e2_38b1dbd15c05row2_col0 {\n",
       "            : ;\n",
       "            background-color:  yellow;\n",
       "        }    #T_d04daab8_d4d7_11ec_84e2_38b1dbd15c05row2_col1 {\n",
       "            width:  10em;\n",
       "             height:  80%;\n",
       "            background:  linear-gradient(90deg,#d65f5f 71.5%, transparent 71.5%);\n",
       "            : ;\n",
       "        }    #T_d04daab8_d4d7_11ec_84e2_38b1dbd15c05row3_col0 {\n",
       "            : ;\n",
       "            background-color:  yellow;\n",
       "        }    #T_d04daab8_d4d7_11ec_84e2_38b1dbd15c05row3_col1 {\n",
       "            width:  10em;\n",
       "             height:  80%;\n",
       "            background:  linear-gradient(90deg,#d65f5f 12.4%, transparent 12.4%);\n",
       "            : ;\n",
       "        }    #T_d04daab8_d4d7_11ec_84e2_38b1dbd15c05row4_col0 {\n",
       "            width:  10em;\n",
       "             height:  80%;\n",
       "            background:  linear-gradient(90deg,#d65f5f 73.9%, transparent 73.9%);\n",
       "            : ;\n",
       "        }    #T_d04daab8_d4d7_11ec_84e2_38b1dbd15c05row4_col1 {\n",
       "            width:  10em;\n",
       "             height:  80%;\n",
       "            background:  linear-gradient(90deg,#d65f5f 80.3%, transparent 80.3%);\n",
       "            : ;\n",
       "        }    #T_d04daab8_d4d7_11ec_84e2_38b1dbd15c05row5_col0 {\n",
       "            width:  10em;\n",
       "             height:  80%;\n",
       "            background:  linear-gradient(90deg,#d65f5f 21.6%, transparent 21.6%);\n",
       "            : ;\n",
       "        }    #T_d04daab8_d4d7_11ec_84e2_38b1dbd15c05row5_col1 {\n",
       "            width:  10em;\n",
       "             height:  80%;\n",
       "            background:  linear-gradient(90deg,#d65f5f 0.4%, transparent 0.4%);\n",
       "            : ;\n",
       "        }    #T_d04daab8_d4d7_11ec_84e2_38b1dbd15c05row6_col0 {\n",
       "            width:  10em;\n",
       "             height:  80%;\n",
       "            background:  linear-gradient(90deg,#d65f5f 62.8%, transparent 62.8%);\n",
       "            : ;\n",
       "        }    #T_d04daab8_d4d7_11ec_84e2_38b1dbd15c05row6_col1 {\n",
       "            width:  10em;\n",
       "             height:  80%;\n",
       "            : ;\n",
       "        }    #T_d04daab8_d4d7_11ec_84e2_38b1dbd15c05row7_col0 {\n",
       "            width:  10em;\n",
       "             height:  80%;\n",
       "            background:  linear-gradient(90deg,#d65f5f 16.2%, transparent 16.2%);\n",
       "            : ;\n",
       "        }    #T_d04daab8_d4d7_11ec_84e2_38b1dbd15c05row7_col1 {\n",
       "            width:  10em;\n",
       "             height:  80%;\n",
       "            background:  linear-gradient(90deg,#d65f5f 86.7%, transparent 86.7%);\n",
       "            : ;\n",
       "        }    #T_d04daab8_d4d7_11ec_84e2_38b1dbd15c05row8_col0 {\n",
       "            width:  10em;\n",
       "             height:  80%;\n",
       "            : ;\n",
       "        }    #T_d04daab8_d4d7_11ec_84e2_38b1dbd15c05row8_col1 {\n",
       "            width:  10em;\n",
       "             height:  80%;\n",
       "            background:  linear-gradient(90deg,#d65f5f 88.9%, transparent 88.9%);\n",
       "            : ;\n",
       "        }    #T_d04daab8_d4d7_11ec_84e2_38b1dbd15c05row9_col0 {\n",
       "            width:  10em;\n",
       "             height:  80%;\n",
       "            background:  linear-gradient(90deg,#d65f5f 54.3%, transparent 54.3%);\n",
       "            : ;\n",
       "        }    #T_d04daab8_d4d7_11ec_84e2_38b1dbd15c05row9_col1 {\n",
       "            width:  10em;\n",
       "             height:  80%;\n",
       "            background:  linear-gradient(90deg,#d65f5f 52.8%, transparent 52.8%);\n",
       "            : ;\n",
       "        }</style><table id=\"T_d04daab8_d4d7_11ec_84e2_38b1dbd15c05\" ><thead>    <tr>        <th class=\"blank level0\" ></th>        <th class=\"col_heading level0 col0\" >A</th>        <th class=\"col_heading level0 col1\" >B</th>        <th class=\"col_heading level0 col2\" >C</th>        <th class=\"col_heading level0 col3\" >D</th>    </tr></thead><tbody>\n",
       "                <tr>\n",
       "                        <th id=\"T_d04daab8_d4d7_11ec_84e2_38b1dbd15c05level0_row0\" class=\"row_heading level0 row0\" >0</th>\n",
       "                        <td id=\"T_d04daab8_d4d7_11ec_84e2_38b1dbd15c05row0_col0\" class=\"data row0 col0\" >0.411905</td>\n",
       "                        <td id=\"T_d04daab8_d4d7_11ec_84e2_38b1dbd15c05row0_col1\" class=\"data row0 col1\" >0.965642</td>\n",
       "                        <td id=\"T_d04daab8_d4d7_11ec_84e2_38b1dbd15c05row0_col2\" class=\"data row0 col2\" >0.670273</td>\n",
       "                        <td id=\"T_d04daab8_d4d7_11ec_84e2_38b1dbd15c05row0_col3\" class=\"data row0 col3\" >0.085508</td>\n",
       "            </tr>\n",
       "            <tr>\n",
       "                        <th id=\"T_d04daab8_d4d7_11ec_84e2_38b1dbd15c05level0_row1\" class=\"row_heading level0 row1\" >1</th>\n",
       "                        <td id=\"T_d04daab8_d4d7_11ec_84e2_38b1dbd15c05row1_col0\" class=\"data row1 col0\" >0.930053</td>\n",
       "                        <td id=\"T_d04daab8_d4d7_11ec_84e2_38b1dbd15c05row1_col1\" class=\"data row1 col1\" >0.538399</td>\n",
       "                        <td id=\"T_d04daab8_d4d7_11ec_84e2_38b1dbd15c05row1_col2\" class=\"data row1 col2\" >0.764947</td>\n",
       "                        <td id=\"T_d04daab8_d4d7_11ec_84e2_38b1dbd15c05row1_col3\" class=\"data row1 col3\" >0.219239</td>\n",
       "            </tr>\n",
       "            <tr>\n",
       "                        <th id=\"T_d04daab8_d4d7_11ec_84e2_38b1dbd15c05level0_row2\" class=\"row_heading level0 row2\" >2</th>\n",
       "                        <td id=\"T_d04daab8_d4d7_11ec_84e2_38b1dbd15c05row2_col0\" class=\"data row2 col0\" >nan</td>\n",
       "                        <td id=\"T_d04daab8_d4d7_11ec_84e2_38b1dbd15c05row2_col1\" class=\"data row2 col1\" >0.805292</td>\n",
       "                        <td id=\"T_d04daab8_d4d7_11ec_84e2_38b1dbd15c05row2_col2\" class=\"data row2 col2\" >0.987287</td>\n",
       "                        <td id=\"T_d04daab8_d4d7_11ec_84e2_38b1dbd15c05row2_col3\" class=\"data row2 col3\" >0.285137</td>\n",
       "            </tr>\n",
       "            <tr>\n",
       "                        <th id=\"T_d04daab8_d4d7_11ec_84e2_38b1dbd15c05level0_row3\" class=\"row_heading level0 row3\" >3</th>\n",
       "                        <td id=\"T_d04daab8_d4d7_11ec_84e2_38b1dbd15c05row3_col0\" class=\"data row3 col0\" >nan</td>\n",
       "                        <td id=\"T_d04daab8_d4d7_11ec_84e2_38b1dbd15c05row3_col1\" class=\"data row3 col1\" >0.473305</td>\n",
       "                        <td id=\"T_d04daab8_d4d7_11ec_84e2_38b1dbd15c05row3_col2\" class=\"data row3 col2\" >0.420893</td>\n",
       "                        <td id=\"T_d04daab8_d4d7_11ec_84e2_38b1dbd15c05row3_col3\" class=\"data row3 col3\" >0.677806</td>\n",
       "            </tr>\n",
       "            <tr>\n",
       "                        <th id=\"T_d04daab8_d4d7_11ec_84e2_38b1dbd15c05level0_row4\" class=\"row_heading level0 row4\" >4</th>\n",
       "                        <td id=\"T_d04daab8_d4d7_11ec_84e2_38b1dbd15c05row4_col0\" class=\"data row4 col0\" >0.747552</td>\n",
       "                        <td id=\"T_d04daab8_d4d7_11ec_84e2_38b1dbd15c05row4_col1\" class=\"data row4 col1\" >0.854908</td>\n",
       "                        <td id=\"T_d04daab8_d4d7_11ec_84e2_38b1dbd15c05row4_col2\" class=\"data row4 col2\" >0.570274</td>\n",
       "                        <td id=\"T_d04daab8_d4d7_11ec_84e2_38b1dbd15c05row4_col3\" class=\"data row4 col3\" >0.730824</td>\n",
       "            </tr>\n",
       "            <tr>\n",
       "                        <th id=\"T_d04daab8_d4d7_11ec_84e2_38b1dbd15c05level0_row5\" class=\"row_heading level0 row5\" >5</th>\n",
       "                        <td id=\"T_d04daab8_d4d7_11ec_84e2_38b1dbd15c05row5_col0\" class=\"data row5 col0\" >0.381100</td>\n",
       "                        <td id=\"T_d04daab8_d4d7_11ec_84e2_38b1dbd15c05row5_col1\" class=\"data row5 col1\" >0.405887</td>\n",
       "                        <td id=\"T_d04daab8_d4d7_11ec_84e2_38b1dbd15c05row5_col2\" class=\"data row5 col2\" >0.992994</td>\n",
       "                        <td id=\"T_d04daab8_d4d7_11ec_84e2_38b1dbd15c05row5_col3\" class=\"data row5 col3\" >0.771802</td>\n",
       "            </tr>\n",
       "            <tr>\n",
       "                        <th id=\"T_d04daab8_d4d7_11ec_84e2_38b1dbd15c05level0_row6\" class=\"row_heading level0 row6\" >6</th>\n",
       "                        <td id=\"T_d04daab8_d4d7_11ec_84e2_38b1dbd15c05row6_col0\" class=\"data row6 col0\" >0.669553</td>\n",
       "                        <td id=\"T_d04daab8_d4d7_11ec_84e2_38b1dbd15c05row6_col1\" class=\"data row6 col1\" >0.403413</td>\n",
       "                        <td id=\"T_d04daab8_d4d7_11ec_84e2_38b1dbd15c05row6_col2\" class=\"data row6 col2\" >0.211431</td>\n",
       "                        <td id=\"T_d04daab8_d4d7_11ec_84e2_38b1dbd15c05row6_col3\" class=\"data row6 col3\" >0.096229</td>\n",
       "            </tr>\n",
       "            <tr>\n",
       "                        <th id=\"T_d04daab8_d4d7_11ec_84e2_38b1dbd15c05level0_row7\" class=\"row_heading level0 row7\" >7</th>\n",
       "                        <td id=\"T_d04daab8_d4d7_11ec_84e2_38b1dbd15c05row7_col0\" class=\"data row7 col0\" >0.343851</td>\n",
       "                        <td id=\"T_d04daab8_d4d7_11ec_84e2_38b1dbd15c05row7_col1\" class=\"data row7 col1\" >0.890898</td>\n",
       "                        <td id=\"T_d04daab8_d4d7_11ec_84e2_38b1dbd15c05row7_col2\" class=\"data row7 col2\" >0.259756</td>\n",
       "                        <td id=\"T_d04daab8_d4d7_11ec_84e2_38b1dbd15c05row7_col3\" class=\"data row7 col3\" >0.585015</td>\n",
       "            </tr>\n",
       "            <tr>\n",
       "                        <th id=\"T_d04daab8_d4d7_11ec_84e2_38b1dbd15c05level0_row8\" class=\"row_heading level0 row8\" >8</th>\n",
       "                        <td id=\"T_d04daab8_d4d7_11ec_84e2_38b1dbd15c05row8_col0\" class=\"data row8 col0\" >0.230246</td>\n",
       "                        <td id=\"T_d04daab8_d4d7_11ec_84e2_38b1dbd15c05row8_col1\" class=\"data row8 col1\" >0.903022</td>\n",
       "                        <td id=\"T_d04daab8_d4d7_11ec_84e2_38b1dbd15c05row8_col2\" class=\"data row8 col2\" >0.364885</td>\n",
       "                        <td id=\"T_d04daab8_d4d7_11ec_84e2_38b1dbd15c05row8_col3\" class=\"data row8 col3\" >0.290795</td>\n",
       "            </tr>\n",
       "            <tr>\n",
       "                        <th id=\"T_d04daab8_d4d7_11ec_84e2_38b1dbd15c05level0_row9\" class=\"row_heading level0 row9\" >9</th>\n",
       "                        <td id=\"T_d04daab8_d4d7_11ec_84e2_38b1dbd15c05row9_col0\" class=\"data row9 col0\" >0.610535</td>\n",
       "                        <td id=\"T_d04daab8_d4d7_11ec_84e2_38b1dbd15c05row9_col1\" class=\"data row9 col1\" >0.700028</td>\n",
       "                        <td id=\"T_d04daab8_d4d7_11ec_84e2_38b1dbd15c05row9_col2\" class=\"data row9 col2\" >0.310637</td>\n",
       "                        <td id=\"T_d04daab8_d4d7_11ec_84e2_38b1dbd15c05row9_col3\" class=\"data row9 col3\" >0.062491</td>\n",
       "            </tr>\n",
       "    </tbody></table>"
      ],
      "text/plain": [
       "<pandas.io.formats.style.Styler at 0x209aff22fc8>"
      ]
     },
     "execution_count": 18,
     "metadata": {},
     "output_type": "execute_result"
    }
   ],
   "source": [
    "# 分段式构建样式\n",
    "df = pd.DataFrame(np.random.rand(10,4),columns = list('ABCD'))\n",
    "df['A'][[3,2]] = np.nan\n",
    "df.style.bar(subset=['A', 'B'], color='#d65f5f', width=100).highlight_null(null_color='yellow')"
   ]
  },
  {
   "cell_type": "code",
   "execution_count": null,
   "metadata": {},
   "outputs": [],
   "source": []
  }
 ],
 "metadata": {
  "kernelspec": {
   "display_name": "Python 3",
   "language": "python",
   "name": "python3"
  },
  "language_info": {
   "codemirror_mode": {
    "name": "ipython",
    "version": 3
   },
   "file_extension": ".py",
   "mimetype": "text/x-python",
   "name": "python",
   "nbconvert_exporter": "python",
   "pygments_lexer": "ipython3",
   "version": "3.7.6"
  }
 },
 "nbformat": 4,
 "nbformat_minor": 4
}
