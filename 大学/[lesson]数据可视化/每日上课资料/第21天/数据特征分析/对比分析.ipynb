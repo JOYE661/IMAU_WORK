{
 "cells": [
  {
   "cell_type": "markdown",
   "metadata": {},
   "source": [
    "## 对比分析"
   ]
  },
  {
   "cell_type": "markdown",
   "metadata": {},
   "source": [
    "对比分析 → 两个互相联系的指标进行比较\n",
    "\n",
    "    绝对数比较（相减） / 相对数比较（相除）\n",
    "    结构分析、比例分析、空间比较分析、动态对比分析\n"
   ]
  },
  {
   "cell_type": "code",
   "execution_count": null,
   "metadata": {},
   "outputs": [],
   "source": [
    "import numpy as np\n",
    "import pandas as pd\n",
    "import matplotlib.pyplot as plt\n",
    "plt.rcParams['font.sans-serif'] = 'SimHei'\n",
    "plt.rcParams['axes.unicode_minus'] = False"
   ]
  },
  {
   "cell_type": "code",
   "execution_count": null,
   "metadata": {},
   "outputs": [],
   "source": [
    "# 1、绝对数比较 → 相减\n",
    "# 相互对比的指标在量级上不能差别过大\n",
    "# （1）折线图比较\n",
    "# （2）多系列柱状图比较\n",
    "\n",
    "data = pd.DataFrame(np.random.rand(30,2)*1000,\n",
    "                   columns = ['A_sale','B_sale'],\n",
    "                   index = pd.period_range('20170601','20170630'))\n",
    "data.head()"
   ]
  },
  {
   "cell_type": "code",
   "execution_count": null,
   "metadata": {},
   "outputs": [],
   "source": [
    "# 创建数据 → 30天内A/B产品的日销售额\n",
    "# 折线图比较\n",
    "data.plot(kind='line',\n",
    "       style = '--.',\n",
    "       alpha = 0.8,\n",
    "       figsize = (10,3),\n",
    "       title = 'AB产品销量对比-折线图')\n"
   ]
  },
  {
   "cell_type": "code",
   "execution_count": null,
   "metadata": {},
   "outputs": [],
   "source": [
    "data.plot(kind = 'bar',\n",
    "          width = 0.8,\n",
    "          alpha = 0.8,\n",
    "          figsize = (10,3),\n",
    "          title = 'AB产品销量对比-柱状图')\n",
    "# 多系列柱状图比较"
   ]
  },
  {
   "cell_type": "markdown",
   "metadata": {},
   "source": [
    "### 1、绝对数比较 → 相减\n",
    "（3）柱状图堆叠图+差值折线图比较"
   ]
  },
  {
   "cell_type": "code",
   "execution_count": null,
   "metadata": {},
   "outputs": [],
   "source": [
    "fig3 = plt.figure(figsize=(10,6))\n",
    "plt.subplots_adjust(hspace=0.3)\n",
    "# 创建子图及间隔设置\n",
    "\n",
    "# 创建堆叠图\n",
    "ax1 = fig3.add_subplot(2,1,1)  \n",
    "x = range(len(data))\n",
    "y1 = data['A_sale']\n",
    "y2 = -data['B_sale']\n",
    "plt.bar(x,y1,width = 1,facecolor = 'yellowgreen')\n",
    "plt.bar(x,y2,width = 1,facecolor = 'lightskyblue')\n",
    "plt.title('AB产品销量对比-堆叠图')\n",
    "plt.grid()\n",
    "plt.xticks(range(0,30,6))\n",
    "ax1.set_xticklabels(data.index[::6])\n",
    "\n",
    "\n",
    "# 创建差值折线图\n",
    "ax2 = fig3.add_subplot(2,1,2)  \n",
    "y3 = data['A_sale']-data['B_sale']\n",
    "plt.plot(x,y3,'--go')\n",
    "\n",
    "plt.grid()\n",
    "plt.title('AB产品销量对比-差值折线')\n",
    "plt.xticks(range(0,30,6))\n",
    "ax2.set_xticklabels(data.index[::6])\n"
   ]
  },
  {
   "cell_type": "markdown",
   "metadata": {},
   "source": [
    "### 2、相对数比较 → 相除\n",
    "- 有联系的指标综合计算后的对比，数值为相对数\n",
    "- 结构分析、比例分析、空间比较分析、动态对比分析、计划完成度分析\n"
   ]
  },
  {
   "cell_type": "markdown",
   "metadata": {},
   "source": [
    "#### （1）结构分析\n",
    "- 在分组基础上，各组总量指标与总体的总量指标对比，计算出各组数量在总量中所占比重\n",
    "- 反映总体的内部结构"
   ]
  },
  {
   "cell_type": "code",
   "execution_count": null,
   "metadata": {},
   "outputs": [],
   "source": [
    "# 创建数据 → 30天内A/B产品的日销售额\n",
    "# A/B产品销售额量级不同\n",
    "data = pd.DataFrame({'A_sale':np.random.rand(30)*1000,\n",
    "                    'B_sale':np.random.rand(30)*200},\n",
    "                   index = pd.period_range('20170601','20170630'))\n",
    "print(data.head())"
   ]
  },
  {
   "cell_type": "code",
   "execution_count": null,
   "metadata": {},
   "outputs": [],
   "source": [
    "# 计算出每天的营收占比\n",
    "data['A_per'] = data['A_sale'] / data['A_sale'].sum()\n",
    "data['B_per'] = data['B_sale'] / data['B_sale'].sum()\n",
    "\n",
    "# 转换为百分数\n",
    "data['A_per%'] = data['A_per'].apply(lambda x: '%.2f%%' % (x*100))\n",
    "data['B_per%'] = data['B_per'].apply(lambda x: '%.2f%%' % (x*100))\n",
    "\n",
    "print(data.head())\n",
    "\n"
   ]
  },
  {
   "cell_type": "code",
   "execution_count": null,
   "metadata": {},
   "outputs": [],
   "source": [
    "# 绝对值对比较难看出结构性变化，通过看销售额占比来看售卖情况的对比\n",
    "\n",
    "# 同时可以反应“强度” → 两个性质不同但有一定联系的总量指标对比，用来说明“强度”、“密度”、“普遍程度”\n",
    "# 例如：国内生产总值“元/人”，人口密度“人/平方公里”\n",
    "fig,axes = plt.subplots(2,1,figsize = (10,6),sharex=True)\n",
    "data[['A_sale','B_sale']].plot(kind='line',style = '--.',alpha = 0.8,ax=axes[0])\n",
    "axes[0].legend(loc = 'upper right')\n",
    "data[['A_per','B_per']].plot(kind='line',style = '--.',alpha = 0.8,ax=axes[1])\n",
    "axes[1].legend(loc = 'upper right')"
   ]
  },
  {
   "cell_type": "markdown",
   "metadata": {},
   "source": [
    "#### （2）比例分析\n",
    "- 在分组的基础上，将总体不同部分的指标数值进行对比，其相对指标一般称为“比例相对数”\n",
    "- 比例相对数 = 总体中某一部分数值 / 总体中另一部分数值 → “基本建设投资额中工业、农业、教育投资的比例”、“男女比例”..."
   ]
  },
  {
   "cell_type": "code",
   "execution_count": null,
   "metadata": {},
   "outputs": [],
   "source": [
    "data = pd.DataFrame({'consumption':np.random.rand(12)*1000 + 2000,\n",
    "                    'salary':np.random.rand(12)*500 + 5000},\n",
    "                   index = pd.period_range('2017/1','2017/12',freq = 'M'))\n",
    "print(data.head())\n",
    "print('------')"
   ]
  },
  {
   "cell_type": "code",
   "execution_count": null,
   "metadata": {},
   "outputs": [],
   "source": [
    "# 创建数据 → 某人一年内的消费、工资薪水情况\n",
    "# 消费按照2000-3000/月随机，工资按照5000-5500/月随机\n",
    "data = pd.DataFrame({'consumption':np.random.rand(12)*1000 + 2000,\n",
    "                    'salary':np.random.rand(12)*500 + 5000},\n",
    "                   index = pd.period_range('2017/1','2017/12',freq = 'M'))\n",
    "print(data.head())\n",
    "print('------')\n",
    "\n",
    "\n",
    "# 比例相对数 → 消费收入比\n",
    "data['c_s'] = data['consumption'] / data['salary']\n",
    "print(data['c_s'].head())\n",
    "\n",
    "\n",
    "# 创建面积图表达\n",
    "data['c_s'].plot.area(color = 'green',alpha = 0.5,ylim = [0.3,0.6],figsize=(8,3),grid=True)"
   ]
  },
  {
   "cell_type": "markdown",
   "metadata": {},
   "source": [
    "###  （3）空间比较分析（横向对比分析）\n",
    "\n",
    "- 同类现象在同一时间不同空间的指标数值进行对比，反应同类现象在不同空间上的差异程度和现象发展不平衡的状况\n",
    "- 空间比较相对数 = 甲空间某一现象的数值 / 乙空间同类现象的数值\n",
    "- 一个很现实的例子 → 绝对数来看，我国多经济总量世界第一，但从人均水平来看是另一回事"
   ]
  },
  {
   "cell_type": "code",
   "execution_count": null,
   "metadata": {},
   "outputs": [],
   "source": [
    "# 创建数据 → 30天内A/B/C/D四个产品的销售情况\n",
    "# 不同产品的销售量级不同\n",
    "data = pd.DataFrame({'A':np.random.rand(30)*5000,\n",
    "                    'B':np.random.rand(30)*2000,\n",
    "                    'C':np.random.rand(30)*10000,\n",
    "                    'D':np.random.rand(30)*800},\n",
    "                   index = pd.period_range('20170601','20170630'))\n",
    "print(data.head())\n",
    "print('------',data.sum())\n",
    "\n",
    "# 通过柱状图做横向比较 → 4个产品的销售额总量\n",
    "data.sum().plot(kind = 'bar',color = ['r','g','b','k'], alpha = 0.8, grid = True)\n",
    "for i,j in zip(range(4),data.sum()):\n",
    "    plt.text(i-0.25,j+2000,'%.2f' % j, color = 'k')\n",
    "\n",
    "# 多系列柱状图，横向比较前十天4个产品的销售额\n",
    "data[:10].plot(kind = 'bar', alpha = 0.8, grid = True, figsize = (12,4),width = 0.8)\n"
   ]
  },
  {
   "cell_type": "markdown",
   "metadata": {},
   "source": [
    "### （4）动态对比分析（纵向对比分析）\n",
    "\n",
    "- 同一现象在不同时间上的指标数值进行对比，反应现象的数量随着时间推移而发展变动的程度及趋势\n",
    "- 最基本方法，计算动态相对数 → 发展速度\n",
    "- 动态相对数（发展速度） = 某一现象的报告期数值 / 同一现象的基期数值\n",
    "- 基期：用来比较的基础时期\n",
    "- 报告期：所要研究的时期，又称计算期"
   ]
  },
  {
   "cell_type": "code",
   "execution_count": null,
   "metadata": {},
   "outputs": [],
   "source": [
    "# 创建数据 → 30天内A产品的销售情况\n",
    "data = pd.DataFrame({'A':np.random.rand(30)*2000+1000},\n",
    "                   index = pd.period_range('20170601','20170630'))\n",
    "print(data.head())"
   ]
  },
  {
   "cell_type": "code",
   "execution_count": null,
   "metadata": {},
   "outputs": [],
   "source": [
    "data.shift(1)"
   ]
  },
  {
   "cell_type": "code",
   "execution_count": null,
   "metadata": {},
   "outputs": [],
   "source": [
    "# 创建数据 → 30天内A产品的销售情况\n",
    "data = pd.DataFrame({'A':np.random.rand(30)*2000+1000},\n",
    "                   index = pd.period_range('20170601','20170630'))\n",
    "print(data.head())\n",
    "print('------')\n",
    "\n",
    "\n",
    "data['base'] = 1000  # 假设基期销售额为1000，后面每一天都为计算期\n",
    "data['l_growth'] = data['A'] - data['base']  # 累计增长量 = 报告期水平 - 固定基期水平\n",
    "data['z_growth'] = data['A'] - data.shift(1)['A']  # 逐期增长量 = 报告期水平 - 报告期前一期水平\n",
    "data[data.isnull()] = 0  # 替换缺失值\n",
    "\n",
    "# 通过折线图查看增长量情况\n",
    "data[['l_growth','z_growth']].plot(figsize = (10,4),style = '--.',alpha = 0.8)  \n",
    "\n",
    "plt.legend(loc = 'lower left')\n",
    "plt.grid()\n",
    "\n",
    "# 通过折线图查看发展速度\n",
    "data['lspeed'] = data['l_growth'] / data['base']  # 定基增长速度\n",
    "data['zspeed'] = data['z_growth'] / data.shift(1)['A']  # 环比增长速度\n",
    "data[['lspeed','zspeed']].plot(figsize = (10,4),style = '--.',alpha = 0.8)  \n",
    "\n",
    "plt.grid()\n",
    "print(data.head())\n",
    "print('------')\n"
   ]
  },
  {
   "cell_type": "code",
   "execution_count": null,
   "metadata": {},
   "outputs": [],
   "source": []
  },
  {
   "cell_type": "code",
   "execution_count": null,
   "metadata": {},
   "outputs": [],
   "source": []
  }
 ],
 "metadata": {
  "kernelspec": {
   "display_name": "Python 3",
   "language": "python",
   "name": "python3"
  },
  "language_info": {
   "codemirror_mode": {
    "name": "ipython",
    "version": 3
   },
   "file_extension": ".py",
   "mimetype": "text/x-python",
   "name": "python",
   "nbconvert_exporter": "python",
   "pygments_lexer": "ipython3",
   "version": "3.7.6"
  }
 },
 "nbformat": 4,
 "nbformat_minor": 4
}
