{
 "cells": [
  {
   "cell_type": "code",
   "execution_count": null,
   "metadata": {},
   "outputs": [],
   "source": [
    "import numpy as np\n",
    "import pandas as pd\n",
    "import matplotlib.pyplot as plt"
   ]
  },
  {
   "cell_type": "markdown",
   "metadata": {},
   "source": [
    "###  也可以通过cut方法\n",
    "pandas.cut使用总结\n",
    "\n",
    "用途\n",
    "\n",
    "pandas.cut用来把一组数据分割成离散的区间。比如有一组年龄数据，可以使用pandas.cut将年龄数据分割成不同的年龄段并打上标签。"
   ]
  },
  {
   "cell_type": "markdown",
   "metadata": {},
   "source": [
    "`pd.cut(\n",
    "    x,\n",
    "    bins,\n",
    "    right: bool = True,\n",
    "    labels=None,\n",
    "    retbins: bool = False,\n",
    "    precision: int = 3,\n",
    "    include_lowest: bool = False,\n",
    "    duplicates: str = 'raise',\n",
    ")`"
   ]
  },
  {
   "cell_type": "markdown",
   "metadata": {},
   "source": [
    "参数含义\n",
    "\n",
    "- x：被切分的类数组（array-like）数据，必须是1维的（不能用DataFrame）；\n",
    "- bins：bins是被切割后的区间（或者叫“桶”、“箱”、“面元”），有3中形式：一个int型的标量、标量序列（数组）或者pandas.IntervalIndex 。\n",
    "\n",
    "    一个int型的标量\n",
    "    当bins为一个int型的标量时，代表将x平分成bins份。x的范围在每侧扩展0.1%，以包括x的最大值和最小值。\n",
    "    标量序列\n",
    "    标量序列定义了被分割后每一个bin的区间边缘，此时x没有扩展。\n",
    "    pandas.IntervalIndex\n",
    "    定义要使用的精确区间。\n",
    "\n",
    "- right：bool型参数，默认为True，表示是否包含区间右部。比如如果bins=[1,2,3]，right=True，则区间为(1,2]，(2,3]；right=False，则区间为(1,2),(2,3)。\n",
    "- labels：给分割后的bins打标签，比如把年龄x分割成年龄段bins后，可以给年龄段打上诸如青年、中年的标签。labels的长度必须和划分后的区间长度相等，比如bins=[1,2,3]，划分后有2个区间(1,2]，(2,3]，则labels的长度必须为2。如果指定labels=False，则返回x中的数据在第几个bin中（从0开始）。\n",
    "- retbins：bool型的参数，表示是否将分割后的bins返回，当bins为一个int型的标量时比较有用，这样可以得到划分后的区间，默认为False。\n",
    "- precision：保留区间小数点的位数，默认为3.\n",
    "- include_lowest：bool型的参数，表示区间的左边是开还是闭的，默认为false，也就是不包含区间左部（闭）。\n",
    "- duplicates：是否允许重复区间。有两种选择：raise：不允许，drop：允许"
   ]
  },
  {
   "cell_type": "markdown",
   "metadata": {},
   "source": [
    "返回值\n",
    "\n",
    "- out：一个pandas.Categorical, Series或者ndarray类型的值，代表分区后x中的每个值在哪个bin（区间）中，如果指定了labels，则返回对应的label。\n",
    "- bins：分隔后的区间，当指定retbins为True时返回。"
   ]
  },
  {
   "cell_type": "code",
   "execution_count": null,
   "metadata": {},
   "outputs": [],
   "source": [
    "ages = np.array([1,5,10,40,36,12,58,62,77,89,100,18,20,25,30,32]) \n",
    "pd.cut(ages, 5)"
   ]
  },
  {
   "cell_type": "markdown",
   "metadata": {},
   "source": [
    "可以看到ages被平分成5个区间，且区间两边都有扩展以包含最大值和最小值。"
   ]
  },
  {
   "cell_type": "markdown",
   "metadata": {},
   "source": [
    "#### 将ages平分成5个区间并指定labels"
   ]
  },
  {
   "cell_type": "code",
   "execution_count": null,
   "metadata": {},
   "outputs": [],
   "source": [
    "ages = np.array([1,5,10,40,36,12,58,62,77,89,100,18,20,25,30,32]) #年龄数据\n",
    "pd.cut(ages, 5, labels=[u\"婴儿\",u\"青年\",u\"中年\",u\"壮年\",u\"老年\"])"
   ]
  },
  {
   "cell_type": "markdown",
   "metadata": {},
   "source": [
    "#### 给ages指定区间进行分割"
   ]
  },
  {
   "cell_type": "code",
   "execution_count": null,
   "metadata": {},
   "outputs": [],
   "source": [
    "ages = np.array([1,5,10,40,36,12,58,62,77,89,100,18,20,25,30,32]) #年龄数据\n",
    "pd.cut(ages, [0,5,20,30,50,100])"
   ]
  },
  {
   "cell_type": "code",
   "execution_count": null,
   "metadata": {},
   "outputs": [],
   "source": [
    "ages = np.array([1,5,10,40,36,12,58,62,77,89,100,18,20,25,30,32]) #年龄数据\n",
    "pd.cut(ages, [0,5,20,30,50,100], labels=[u\"婴儿\",u\"青年\",u\"中年\",u\"壮年\",u\"老年\"])"
   ]
  },
  {
   "cell_type": "markdown",
   "metadata": {},
   "source": [
    "这里不再平分ages，而是将ages分为了5个区间(0, 5],(5, 20],(20, 30],(30,50],(50,100]."
   ]
  },
  {
   "cell_type": "markdown",
   "metadata": {},
   "source": [
    "#### 返回分割后的bins\n",
    "- 令retbins=True即可"
   ]
  },
  {
   "cell_type": "code",
   "execution_count": null,
   "metadata": {
    "scrolled": true
   },
   "outputs": [],
   "source": [
    "ages = np.array([1,5,10,40,36,12,58,62,77,89,100,18,20,25,30,32]) #年龄数据\n",
    "s = pd.cut(ages, [0,5,20,30,50,100], labels=[u\"婴儿\",u\"青年\",u\"中年\",u\"壮年\",u\"老年\"])\n",
    "print(s)\n",
    "print(type(s))"
   ]
  },
  {
   "cell_type": "code",
   "execution_count": null,
   "metadata": {},
   "outputs": [],
   "source": [
    "type(s)"
   ]
  },
  {
   "cell_type": "code",
   "execution_count": null,
   "metadata": {},
   "outputs": [],
   "source": []
  },
  {
   "cell_type": "code",
   "execution_count": null,
   "metadata": {},
   "outputs": [],
   "source": []
  },
  {
   "cell_type": "markdown",
   "metadata": {},
   "source": [
    "#### 只返回x中的数据在哪个bin\n",
    "令labels=False即可"
   ]
  },
  {
   "cell_type": "code",
   "execution_count": null,
   "metadata": {},
   "outputs": [],
   "source": [
    "ages = np.array([1,5,10,40,36,12,58,62,77,89,100,18,20,25,30,32]) #年龄数据\n",
    "pd.cut(ages, [0,5,20,30,50,100], retbins=True)[0].value_counts()"
   ]
  },
  {
   "cell_type": "markdown",
   "metadata": {},
   "source": [
    "## 表格视觉样式：Dataframe.style"
   ]
  },
  {
   "cell_type": "markdown",
   "metadata": {},
   "source": [
    "### 1,表格样式创建\n",
    "\n",
    "表格视觉样式：Dataframe.style → 返回pandas.Styler对象的属性，具有格式化和显示Dataframe的有用方法\n",
    "\n",
    "样式创建：\n",
    "\n",
    "    ① Styler.applymap：→ 按元素方式处理Dataframe\n",
    "    ② Styler.apply：column- / row- / table-wise → 按行/列处理Dataframe"
   ]
  },
  {
   "cell_type": "code",
   "execution_count": null,
   "metadata": {},
   "outputs": [],
   "source": [
    "df = pd.DataFrame(np.random.randn(10, 4), columns=['a','b','c','d'])\n",
    "sty = df.style\n",
    "print(sty, type(sty)) # 查看样式类型"
   ]
  },
  {
   "cell_type": "markdown",
   "metadata": {},
   "source": [
    "#### 按元素处理样式 df.style.applymap( 函数 )"
   ]
  },
  {
   "cell_type": "code",
   "execution_count": null,
   "metadata": {},
   "outputs": [],
   "source": [
    "def color_neg_red(val):\n",
    "    if val < 0:\n",
    "        color = 'red'\n",
    "        size =\"14px\"\n",
    "    else:\n",
    "        color = 'blue'\n",
    "        size =\"10px\"\n",
    "    return 'color:%s;font-size:%s'% (color,size)\n",
    "# style=\"color:red;font-size:12px;\"\n",
    "df.style.applymap(color_neg_red)\n",
    "# 创建样式方法，使得小于0的数变成红色\n",
    "# style.applymap() → 自动调用其中的函数"
   ]
  },
  {
   "cell_type": "markdown",
   "metadata": {},
   "source": [
    "#### 按行/列处理样式 df.style.apply( 函数, axis=0按列, subset=['b','c']处理b、c列 )"
   ]
  },
  {
   "cell_type": "code",
   "execution_count": null,
   "metadata": {},
   "outputs": [],
   "source": [
    "df"
   ]
  },
  {
   "cell_type": "code",
   "execution_count": null,
   "metadata": {},
   "outputs": [],
   "source": [
    "# 按行/列处理样式：style.apply()\n",
    "def highlight_max(s):\n",
    "    # s.max()=这列的最大值 \n",
    "    is_max = s == s.max() # 如果单元格中的数据等于这一列中最大值,返回True,否则范围false\n",
    "    lst = [] # 定义列表保存样式\n",
    "    # 循环series中每一个元素\n",
    "    for v in is_max:\n",
    "        if v:\n",
    "            lst.append(' color: red; line-height: 1.5;\">')\n",
    "        else:\n",
    "            lst.append('')\n",
    "    return lst\n",
    "df.style.apply(highlight_max, axis=0, subset=['b', 'c']) # axis：0为列，1为行，默认为0；  # subset：索引\n",
    "# 创建样式方法，每列最大值填充黄色"
   ]
  },
  {
   "cell_type": "markdown",
   "metadata": {},
   "source": [
    "### 2.表格显示控制"
   ]
  },
  {
   "cell_type": "code",
   "execution_count": null,
   "metadata": {},
   "outputs": [],
   "source": [
    "df.head().style.format(\"{:.2%}\")"
   ]
  },
  {
   "cell_type": "markdown",
   "metadata": {},
   "source": [
    "按照百分数显示"
   ]
  },
  {
   "cell_type": "code",
   "execution_count": null,
   "metadata": {},
   "outputs": [],
   "source": [
    "df = pd.DataFrame(np.random.randn(10,4),columns=['a','b','c','d'])\n",
    "df "
   ]
  },
  {
   "cell_type": "code",
   "execution_count": null,
   "metadata": {},
   "outputs": [],
   "source": [
    "df.style.format(\"{:.2%}\")"
   ]
  },
  {
   "cell_type": "code",
   "execution_count": null,
   "metadata": {},
   "outputs": [],
   "source": [
    "'{:.2%}'.format(0.23124)"
   ]
  },
  {
   "cell_type": "code",
   "execution_count": null,
   "metadata": {},
   "outputs": [],
   "source": [
    "'{:.2f}'.format(0.23124)"
   ]
  },
  {
   "cell_type": "code",
   "execution_count": null,
   "metadata": {},
   "outputs": [],
   "source": [
    "df.head().style.format(\"{:.4f}\")"
   ]
  },
  {
   "cell_type": "code",
   "execution_count": null,
   "metadata": {},
   "outputs": [],
   "source": [
    "# 显示正负数\n",
    "df.head().style.format(\"{:+.2f}\")"
   ]
  },
  {
   "cell_type": "code",
   "execution_count": null,
   "metadata": {},
   "outputs": [],
   "source": [
    "# 分列显示\n",
    "df.head().style.format({'b':\"{:.2%}\", 'c':\"{:+.3f}\", 'd':\"{:.3f}\"})"
   ]
  },
  {
   "cell_type": "markdown",
   "metadata": {},
   "source": [
    "### 3.表格样式调用\n",
    "\n",
    "Styler内置样式调用"
   ]
  },
  {
   "cell_type": "code",
   "execution_count": null,
   "metadata": {},
   "outputs": [],
   "source": [
    "# 定位空值\n",
    "df = pd.DataFrame(np.random.rand(5, 4), columns=list('ABCD'))\n",
    "df['A'][2] = np.nan\n",
    "df"
   ]
  },
  {
   "cell_type": "code",
   "execution_count": null,
   "metadata": {},
   "outputs": [],
   "source": [
    "# 定位空值\n",
    "df.style.highlight_null(null_color='red')"
   ]
  },
  {
   "cell_type": "markdown",
   "metadata": {},
   "source": [
    "#####  色彩映射\n",
    "`df.style.background_gradient(cmap='Greens',axis =1,low=0,high=1)` 色彩映射"
   ]
  },
  {
   "cell_type": "code",
   "execution_count": null,
   "metadata": {},
   "outputs": [],
   "source": [
    "df = pd.DataFrame(np.random.rand(10,4),columns = list('ABCD'))\n",
    "df.style.background_gradient(axis =1) # cmap：颜色; # axis：映射参考，0为行，1以列"
   ]
  },
  {
   "cell_type": "markdown",
   "metadata": {},
   "source": [
    "#### 条形图"
   ]
  },
  {
   "cell_type": "code",
   "execution_count": null,
   "metadata": {},
   "outputs": [],
   "source": [
    "df = pd.DataFrame(np.random.rand(10,4),columns = list('ABCD'))\n",
    "df"
   ]
  },
  {
   "cell_type": "code",
   "execution_count": null,
   "metadata": {
    "scrolled": true
   },
   "outputs": [],
   "source": [
    "df.style.bar(subset=['A', 'B'], color='#EED8AE', width=100) # width：最长长度在格子的占比"
   ]
  },
  {
   "cell_type": "code",
   "execution_count": null,
   "metadata": {},
   "outputs": [],
   "source": [
    "df = pd.DataFrame(np.random.rand(10,4),columns = list('ABCD'))\n",
    "df['A'][[3,2]] = np.nan\n",
    "df"
   ]
  },
  {
   "cell_type": "code",
   "execution_count": null,
   "metadata": {},
   "outputs": [],
   "source": [
    "# 分段式构建样式\n",
    "df.style.bar(subset=['A', 'B'], color='#d65f5f', width=100).highlight_null(null_color='red')"
   ]
  },
  {
   "cell_type": "code",
   "execution_count": null,
   "metadata": {},
   "outputs": [],
   "source": []
  }
 ],
 "metadata": {
  "kernelspec": {
   "display_name": "Python 3",
   "language": "python",
   "name": "python3"
  },
  "language_info": {
   "codemirror_mode": {
    "name": "ipython",
    "version": 3
   },
   "file_extension": ".py",
   "mimetype": "text/x-python",
   "name": "python",
   "nbconvert_exporter": "python",
   "pygments_lexer": "ipython3",
   "version": "3.7.6"
  }
 },
 "nbformat": 4,
 "nbformat_minor": 4
}
