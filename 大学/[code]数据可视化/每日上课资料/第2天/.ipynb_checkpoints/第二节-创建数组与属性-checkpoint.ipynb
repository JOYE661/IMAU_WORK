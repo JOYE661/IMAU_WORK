{
 "cells": [
  {
   "cell_type": "markdown",
   "metadata": {},
   "source": [
    "## 创建ndarray对象\n",
    "通过 NumPy 的内置函数 array() 可以创建 ndarray 对象，其语法格式如下：\n",
    "\n",
    "<b>numpy.array(object, dtype = None, copy = True, order = None,subok=False,ndmin = 0)</b>\n",
    "\n",
    "参数说明   \n",
    "\n",
    "| 序号 | 参数 | 描述说明 |\n",
    "| :--- | :--- | :--- |\n",
    "| 1      | object| 表示一个数组序列。       |\n",
    "| 2   | dtype | 可选参数，通过它可以更改数组的数据类型。        |\n",
    "| 3      | copy | 可选参数，表示数组能否被复制，默认是 True。        |\n",
    "| 4      | ndmin |  用于指定数组的维度。       |\n",
    "| 5      | subok |  可选参数，类型为bool值，默认False。为True，使用object的内部数据类型；False：使用object数组的数据类型。|\n"
   ]
  },
  {
   "cell_type": "markdown",
   "metadata": {},
   "source": [
    "### 引入numpy"
   ]
  },
  {
   "cell_type": "code",
   "execution_count": null,
   "metadata": {},
   "outputs": [],
   "source": [
    "# 注意默认都会给numpy包设置别名为np\n",
    "import numpy as np"
   ]
  },
  {
   "cell_type": "markdown",
   "metadata": {},
   "source": [
    "\n",
    "\n",
    "\n",
    "# array创建数组："
   ]
  },
  {
   "cell_type": "code",
   "execution_count": null,
   "metadata": {},
   "outputs": [],
   "source": [
    "#array()函数，括号内可以是列表、元祖、数组、迭代对象,生成器等\n",
    "np.array([1,2,3,4,5])"
   ]
  },
  {
   "cell_type": "code",
   "execution_count": null,
   "metadata": {},
   "outputs": [],
   "source": [
    "# 元组\n",
    "np.array((1,2,3,4,5))"
   ]
  },
  {
   "cell_type": "code",
   "execution_count": null,
   "metadata": {},
   "outputs": [],
   "source": [
    "a = np.array([1,2,3,4,5])\n",
    "# 数组\n",
    "np.array(a)"
   ]
  },
  {
   "cell_type": "code",
   "execution_count": null,
   "metadata": {},
   "outputs": [],
   "source": [
    "# 迭代对象\n",
    "np.array(range(10))"
   ]
  },
  {
   "cell_type": "code",
   "execution_count": null,
   "metadata": {},
   "outputs": [],
   "source": [
    "# 生成器\n",
    "np.array([i**2 for i in range(10)])"
   ]
  },
  {
   "cell_type": "markdown",
   "metadata": {},
   "source": [
    "练习1\n",
    "\n",
    "    创建10以内的偶数的数组\n",
    "\n"
   ]
  },
  {
   "cell_type": "code",
   "execution_count": null,
   "metadata": {},
   "outputs": [],
   "source": []
  },
  {
   "cell_type": "code",
   "execution_count": null,
   "metadata": {
    "scrolled": true
   },
   "outputs": [],
   "source": [
    "# 列表中元素类型不相同\n",
    "np.array([1,1.5,3,4.5,'5'])"
   ]
  },
  {
   "cell_type": "code",
   "execution_count": null,
   "metadata": {},
   "outputs": [],
   "source": [
    "ar1 = np.array(range(10))   # 整型\n",
    "ar1"
   ]
  },
  {
   "cell_type": "code",
   "execution_count": null,
   "metadata": {},
   "outputs": [],
   "source": [
    "ar2 = np.array([1,2,3.14,4,5])   # 浮点型\n",
    "ar2"
   ]
  },
  {
   "cell_type": "code",
   "execution_count": null,
   "metadata": {},
   "outputs": [],
   "source": [
    "ar3 = np.array([[1,2,3],('a','b','c')])   # 二维数组：嵌套序列（列表，元祖均可）\n",
    "ar3"
   ]
  },
  {
   "cell_type": "code",
   "execution_count": null,
   "metadata": {},
   "outputs": [],
   "source": [
    "# 注意嵌套序列数量不一会怎么样\n",
    "ar4 = np.array([[1,2,3],('a','b','c','d')])   \n",
    "ar4"
   ]
  },
  {
   "cell_type": "code",
   "execution_count": null,
   "metadata": {},
   "outputs": [],
   "source": [
    "# 注意嵌套序列数量不一会怎么样\n",
    "ar4 = np.array([[1,2,3],[1,2,3,4]]) \n",
    "ar4"
   ]
  },
  {
   "cell_type": "markdown",
   "metadata": {},
   "source": [
    "1. 设置dtype参数，默认自动识别"
   ]
  },
  {
   "cell_type": "code",
   "execution_count": null,
   "metadata": {},
   "outputs": [],
   "source": [
    "a = np.array([1,2,3,4,5])\n",
    "print(a)\n",
    "# 设置数组元素类型\n",
    "has_dtype_a = np.array([1,2,3,4,5],dtype='float')\n",
    "has_dtype_a"
   ]
  },
  {
   "cell_type": "markdown",
   "metadata": {},
   "source": [
    "##### 思考如何将浮点型的数据，设置为整形，会是什么情况？"
   ]
  },
  {
   "cell_type": "code",
   "execution_count": null,
   "metadata": {},
   "outputs": [],
   "source": [
    "np.array([1.1,2.5,3.8,4,5],dtype='int')\n",
    "# 将结果发到群里"
   ]
  },
  {
   "cell_type": "markdown",
   "metadata": {},
   "source": [
    "2.设置copy参数,默认为True"
   ]
  },
  {
   "cell_type": "code",
   "execution_count": null,
   "metadata": {},
   "outputs": [],
   "source": [
    "a = np.array([1,2,3,4,5])\n",
    "# 定义b，复制a\n",
    "b = np.array(a)\n",
    "# 输出a和b的id\n",
    "print('a:', id(a), '  b:', id(b))\n",
    "print('以上看出a和b的内存地址')\n"
   ]
  },
  {
   "cell_type": "code",
   "execution_count": null,
   "metadata": {},
   "outputs": [],
   "source": [
    "# 当修改b的元素时，a不会发生变化\n",
    "b[0] = 10\n",
    "print('a:', a,'  b:', b)\n",
    "print('='*10)"
   ]
  },
  {
   "cell_type": "code",
   "execution_count": null,
   "metadata": {},
   "outputs": [],
   "source": [
    "a = np.array([1,2,3,4,5])\n",
    "# 定义b，当设置copy参数为Fasle时，不会创建副本，\n",
    "# 两个变量会指向相同的内容地址，没有创建新的对象\n",
    "b = np.array(a, copy=False)\n",
    "# 输出a和b的id\n",
    "print('a:', id(a), '  b:', id(b))\n",
    "print('以上看出a和b的内存地址')\n",
    "# 由于a和b指向的是相同的内存地址，因此当修改b的元素时，a会发生变化\n",
    "b[0] = 10\n",
    "print('a:',a,'  b:',b)"
   ]
  },
  {
   "cell_type": "markdown",
   "metadata": {},
   "source": [
    "3. ndmin 用于指定数组的维度"
   ]
  },
  {
   "cell_type": "code",
   "execution_count": null,
   "metadata": {},
   "outputs": [],
   "source": [
    "a = np.array([1,2,3])\n",
    "print(a)\n",
    "\n",
    "a = np.array([1,2,3], ndmin=2)\n",
    "a\n"
   ]
  },
  {
   "cell_type": "markdown",
   "metadata": {},
   "source": [
    "4.subok参数，类型为bool值，默认False。为True，使用object的内部数据类型；False：使用object数组的数据类型。"
   ]
  },
  {
   "cell_type": "code",
   "execution_count": null,
   "metadata": {},
   "outputs": [],
   "source": [
    "# 创建一个矩阵\n",
    "a = np.mat([1,2,3,4])\n",
    "# 输出为矩阵类型\n",
    "print(type(a))\n",
    "\n",
    "#既要复制一份副本，又要保持原类型\n",
    "at = np.array(a,subok=True)\n",
    "af = np.array(a)  # 默认为False\n",
    "print('at,subok为True:',type(at))\n",
    "print('af,subok为False:',type(af))\n",
    "print(id(at),id(a))\n"
   ]
  },
  {
   "cell_type": "markdown",
   "metadata": {},
   "source": [
    "### 书写代码是需要注意的内容："
   ]
  },
  {
   "cell_type": "code",
   "execution_count": null,
   "metadata": {
    "scrolled": false
   },
   "outputs": [],
   "source": [
    "#定义个数组\n",
    "a = np.array([2,4,3,1])\n",
    "# 在定义b时，如果想复制a的几种方案：\n",
    "\n",
    "# 1.使用np.array()\n",
    "b = np.array(a)\n",
    "print('b = np.array(a)：',id(b),id(a))\n",
    "\n",
    "# 2.使用数组的copy()方法\n",
    "c = a.copy()\n",
    "print('c = a.copy()：',id(c),id(a))\n",
    "\n",
    "# 注意不能直接使用=号复制，直接使用=号，会使2个变量指向相同的内存地址\n",
    "d = a\n",
    "# 修改d也会相应的修改a\n",
    "print('d = a：',id(d),id(a))"
   ]
  },
  {
   "cell_type": "markdown",
   "metadata": {},
   "source": [
    "### 练习\n",
    "完成以下内容，完成后截图，图片上写上姓名发到钉钉群里。"
   ]
  },
  {
   "cell_type": "markdown",
   "metadata": {},
   "source": [
    "  1. 创建一个一维数组\n",
    "  2. 创建一个二维数组\n",
    "  3. 创建嵌套序列数量不一样的数组，查看结果\n",
    "  4. 测试数组a，将数组赋值给b，修改b中的一个元素，查看a是否变化。\n",
    "  5. 紧接着4.如果想让b变化不影响a，如何实现"
   ]
  },
  {
   "cell_type": "markdown",
   "metadata": {},
   "source": [
    " "
   ]
  },
  {
   "cell_type": "markdown",
   "metadata": {},
   "source": [
    " "
   ]
  },
  {
   "cell_type": "markdown",
   "metadata": {},
   "source": [
    "  "
   ]
  },
  {
   "cell_type": "markdown",
   "metadata": {},
   "source": [
    "\n",
    "\n",
    "\n",
    "# arange()生成区间数组\n",
    "根据 start 与 stop 指定的范围以及 step 设定的步长，生成一个 ndarray。\n",
    "\n",
    "<b>numpy.arange(start, stop, step, dtype)</b>\n",
    "\n",
    "参数说明   \n",
    "\n",
    "| 序号 | 参数 | 描述说明 |\n",
    "| :--- | :--- | :--- |\n",
    "| 1      | start| 起始值，默认为0   |\n",
    "| 2   | stop | 终止值（不包含）        |\n",
    "| 3      | step | 步长，默认为1        |\n",
    "| 4      | dtype |  返回ndarray的数据类型，如果没有提供，则会使用输入数据的类型。     |"
   ]
  },
  {
   "cell_type": "code",
   "execution_count": null,
   "metadata": {},
   "outputs": [],
   "source": [
    "np.arange(10)"
   ]
  },
  {
   "cell_type": "code",
   "execution_count": null,
   "metadata": {
    "scrolled": true
   },
   "outputs": [],
   "source": [
    "np.arange(3.1)"
   ]
  },
  {
   "cell_type": "code",
   "execution_count": null,
   "metadata": {},
   "outputs": [],
   "source": [
    "# 这个的结果？\n",
    "range(3.1)\n",
    "# A --- range(3.1)\n",
    "# B -- [0,1,2,3]\n",
    "# C --错误\n",
    "# D - [0.0,1.0,2.0,3.0]"
   ]
  },
  {
   "cell_type": "code",
   "execution_count": null,
   "metadata": {},
   "outputs": [],
   "source": [
    "# 返回浮点型的，也可以指定类型\n",
    "x = np.arange(5, dtype =  float)  \n",
    "print(x)"
   ]
  },
  {
   "cell_type": "markdown",
   "metadata": {},
   "source": [
    "### 设置了起始值、终止值及步长："
   ]
  },
  {
   "cell_type": "code",
   "execution_count": null,
   "metadata": {},
   "outputs": [],
   "source": [
    "# 起始10 ，终止值20 步长2\n",
    "np.arange(10,20,2)"
   ]
  },
  {
   "cell_type": "code",
   "execution_count": null,
   "metadata": {},
   "outputs": [],
   "source": [
    "# 起始0 ，终止值10 步长3\n",
    "\n",
    "ar2 = np.arange(20,3) # 这个书写是否正确?\n",
    "print(ar2)"
   ]
  },
  {
   "cell_type": "code",
   "execution_count": null,
   "metadata": {},
   "outputs": [],
   "source": [
    "#正确的书写格式是什么\n",
    "\n"
   ]
  },
  {
   "cell_type": "code",
   "execution_count": null,
   "metadata": {},
   "outputs": [],
   "source": [
    "# 如果数组太大而无法打印，NumPy会自动跳过数组的中心部分，并只打印边角：\n",
    "np.arange(10000)"
   ]
  },
  {
   "cell_type": "markdown",
   "metadata": {},
   "source": [
    "### 题目：\n",
    "在庆祝教师节活动中，学校为了烘托节日气氛，在200米长的校园主干道一侧，\n",
    "\n",
    "从起点开始，每间隔3米插一面彩旗，由近到远排成一排，\n",
    "\n",
    "问：1.最后一面彩旗会插到终点处吗？\n",
    "\n",
    "   2.一共应插多少面彩旗？"
   ]
  },
  {
   "cell_type": "code",
   "execution_count": null,
   "metadata": {},
   "outputs": [],
   "source": []
  },
  {
   "cell_type": "markdown",
   "metadata": {},
   "source": [
    "## 如何防止 float 不精确影响numpy.arange\n",
    "> <font color=red>注意：ceil((stop - start)/step)确定项目数，小浮点不精确(stop = .400000001)可以向列表中添加意外值。</font>\n"
   ]
  },
  {
   "cell_type": "markdown",
   "metadata": {},
   "source": [
    "#### 想得到一个长度为3的、从0.1开始的、间隔为0.1的数组，想当然地如下coding，结果意料之外："
   ]
  },
  {
   "cell_type": "code",
   "execution_count": null,
   "metadata": {},
   "outputs": [],
   "source": [
    "np.arange(0.1,0.4,0.1)"
   ]
  },
  {
   "cell_type": "markdown",
   "metadata": {},
   "source": [
    "\n",
    "\n",
    "\n",
    "\n",
    "\n",
    "\n"
   ]
  },
  {
   "cell_type": "markdown",
   "metadata": {},
   "source": [
    "# linspace() 创建等差数列\n",
    "\n",
    "返回在间隔[开始，停止]上计算的num个均匀间隔的样本。<b>数组是一个等差数列构成</b>\n",
    "\n",
    "<b>np.linspace(start, stop, num=50, endpoint=True, retstep=False, dtype=None)</b>\n",
    "\n",
    "参数说明   \n",
    "\n",
    "| 序号 | 参数 | 描述说明 |\n",
    "| :--- | :--- | :--- |\n",
    "| 1      | start| 必填项，序列的起始值，  |\n",
    "| 2   | stop | 必填项，序列的终止值，如果endpoint为true，该值包含于数列中      |\n",
    "| 3      | num | 要生成的等步长的样本数量，默认为50      |\n",
    "| 4      | endpoint |  该值为 true 时，数列中包含stop值，反之不包含，默认是True。  | \n",
    "| 5      | retstep |  如果为 True 时，生成的数组中会显示间距，反之不显示。   | \n",
    "| 6      | dtype |  ndarray 的数据类型 | "
   ]
  },
  {
   "cell_type": "code",
   "execution_count": null,
   "metadata": {},
   "outputs": [],
   "source": [
    "# 以下实例用到三个参数，设置起始点为 1 ，终止点为 10，数列个数为 10。\n",
    "a = np.linspace(1,10,10)\n",
    "a"
   ]
  },
  {
   "cell_type": "code",
   "execution_count": null,
   "metadata": {},
   "outputs": [],
   "source": [
    "# 使用等差数列 实现输出0 0.5 1 1.5 2 2.5 3 3.5 4\n",
    "# 选择题： A 还是 B \n",
    "A = np.linspace(0, 4, 9)\n",
    "print(A)\n",
    "B = np.linspace(0, 4.1, 9)\n",
    "print(B)"
   ]
  },
  {
   "cell_type": "code",
   "execution_count": null,
   "metadata": {},
   "outputs": [],
   "source": [
    "# 一下实例用到三个参数，设置起始位置为2.0，终点为3,0 数列个数为5\n",
    "ar1 = np.linspace(2.0, 3.0, num=5)\n",
    "ar1"
   ]
  },
  {
   "cell_type": "code",
   "execution_count": null,
   "metadata": {},
   "outputs": [],
   "source": [
    "# 设置参数endpoint 为False时，不包含终止值\n",
    "ar1 = np.linspace(2.0, 3.0, num=5, endpoint=False)\n",
    "ar1"
   ]
  },
  {
   "cell_type": "code",
   "execution_count": null,
   "metadata": {},
   "outputs": [],
   "source": [
    "#设置retstep显示计算后的步长\n",
    "ar1 = np.linspace(2.0,3.0,num=5, retstep=True)\n",
    "ar1"
   ]
  },
  {
   "cell_type": "code",
   "execution_count": null,
   "metadata": {},
   "outputs": [],
   "source": [
    "#设置retstep显示计算后的步长\n",
    "ar1 = np.linspace(2.0,3.0,num=5,endpoint=False,retstep=True)\n",
    "ar1"
   ]
  },
  {
   "cell_type": "code",
   "execution_count": null,
   "metadata": {},
   "outputs": [],
   "source": [
    "#想得到一个长度为10的、从0.1开始的、间隔为0.1的数组\n",
    "np.linspace(0.1,1,10)"
   ]
  },
  {
   "cell_type": "markdown",
   "metadata": {},
   "source": [
    "#### 等差数列 在线性回归经常作为样本集\n",
    "如：生成x_data，值为[0, 100]之间500个等差数列数据集合作为样本特征，根据目标线性方程y=3*x+2，生成相应的标签集合y_data"
   ]
  },
  {
   "cell_type": "code",
   "execution_count": null,
   "metadata": {
    "scrolled": false
   },
   "outputs": [],
   "source": [
    "x_data = np.linspace(0,100,500)\n",
    "x_data"
   ]
  },
  {
   "cell_type": "markdown",
   "metadata": {},
   "source": [
    " "
   ]
  },
  {
   "cell_type": "markdown",
   "metadata": {},
   "source": [
    " "
   ]
  },
  {
   "cell_type": "markdown",
   "metadata": {},
   "source": [
    "#  等比数列\n",
    "\n",
    "返回在间隔[开始，停止]上计算的num个均匀间隔的样本。<b>数组是一个等比数列构成</b>\n",
    "\n",
    "<b>np.logspace(start, stop, num=50, endpoint=True, base=10.0, dtype=None)</b>\n",
    "\n",
    "参数说明   \n",
    "\n",
    "| 序号 | 参数 | 描述说明 |\n",
    "| :--- | :--- | :--- |\n",
    "| 1      | start| 必填项，序列的起始值，  |\n",
    "| 2   | stop | 必填项，序列的终止值，如果endpoint为true，该值包含于数列中      |\n",
    "| 3      | num | 要生成的等步长的样本数量，默认为50      |\n",
    "| 4      | endpoint |  该值为 true 时，数列中包含stop值，反之不包含，默认是True。  | \n",
    "| 5      | base |  对数 log 的底数   | \n",
    "| 6      | dtype |  ndarray 的数据类型 | "
   ]
  },
  {
   "cell_type": "code",
   "execution_count": null,
   "metadata": {},
   "outputs": [],
   "source": [
    "a = np.logspace(0,9,10,base=2)\n",
    "a"
   ]
  },
  {
   "cell_type": "markdown",
   "metadata": {},
   "source": [
    "np.logspace(A,B,C,base=D)\n",
    "- A: 生成数组的起始值为D的A次方\n",
    "- B:生成数组的结束值为D的B次方\n",
    "- C:总共生成C个数\n",
    "- D:指数型数组的底数为D，当省略base=D时，默认底数为10"
   ]
  },
  {
   "cell_type": "code",
   "execution_count": null,
   "metadata": {},
   "outputs": [],
   "source": [
    "# 我们先使用前3个参数，将[1,5]均匀分成3个数，得到{1,3,5}，\n",
    "# 然后利用第4个参数base=2(默认是10）使用指数函数可以得到最终输出结果 {2^1,2^3,2^5}\n",
    "np.logspace(1,5,3,base=2)\n"
   ]
  },
  {
   "cell_type": "code",
   "execution_count": null,
   "metadata": {},
   "outputs": [],
   "source": [
    "# 取得1到2之间10个常用对数\n",
    "\n",
    "np.logspace(1.0,2.0,num=10)"
   ]
  },
  {
   "cell_type": "code",
   "execution_count": null,
   "metadata": {},
   "outputs": [],
   "source": [
    "a =  np.linspace(1.0,2.0,num=10)\n",
    "print(a)\n",
    "10 ** a"
   ]
  },
  {
   "cell_type": "markdown",
   "metadata": {},
   "source": [
    "## 练习题\n",
    "\n",
    "一个穷人到富人那里去借钱，原以为富人不愿意，哪知富人一口答应了下来，\n",
    "但提出了如下条件：\n",
    "- 在30天中，富人第一天借给穷人1万元，第二天借给2万，以后每天所借的钱数都比上一天的多一万；\n",
    "- 但 借钱第一天，穷人还1分钱，第二天还2分钱，以后每天所还的钱数都是上一天的两倍。\n",
    "- 30天后互不相欠，\n",
    "\n",
    "穷人听后觉得挺划算，本想定下来，但又想到富人是个吝啬出了名的，怕上当，所以很为难。\n",
    "\n",
    "- `同学们思考下，如何用我们刚才学到的方法计算出结果，确定是否向富人借钱？`"
   ]
  },
  {
   "cell_type": "code",
   "execution_count": null,
   "metadata": {},
   "outputs": [],
   "source": []
  },
  {
   "cell_type": "code",
   "execution_count": null,
   "metadata": {},
   "outputs": [],
   "source": []
  },
  {
   "cell_type": "markdown",
   "metadata": {},
   "source": [
    "  \n",
    "  "
   ]
  },
  {
   "cell_type": "markdown",
   "metadata": {},
   "source": [
    "#  全0数列\n",
    "\n",
    "创建指定大小的数组，数组元素以 0 来填充\n",
    "\n",
    "<b>numpy.zeros(shape, dtype = float, order = 'C')</b>\n",
    "\n",
    "参数说明   \n",
    "\n",
    "| 序号 | 参数 | 描述说明 |\n",
    "| :--- | :--- | :--- |\n",
    "| 1      | shape| 数组形状  |\n",
    "| 2   | dtype | 数据类型，可选     |"
   ]
  },
  {
   "cell_type": "code",
   "execution_count": null,
   "metadata": {},
   "outputs": [],
   "source": [
    "# 默认为浮点数\n",
    "np.zeros(5)"
   ]
  },
  {
   "cell_type": "code",
   "execution_count": null,
   "metadata": {},
   "outputs": [],
   "source": [
    "# 设置为整形\n",
    "np.zeros((5,), dtype = 'int') "
   ]
  },
  {
   "cell_type": "code",
   "execution_count": null,
   "metadata": {},
   "outputs": [],
   "source": [
    "# 2行2列的全0数组\n",
    "np.zeros((2,2))"
   ]
  },
  {
   "cell_type": "code",
   "execution_count": null,
   "metadata": {},
   "outputs": [],
   "source": [
    "#zeros_like返回具有与给定数组相同的形状和类型的零数组\n",
    "ar1 = np.array([[1,2,3],[4,5,6]])\n",
    "np.zeros_like(ar1)"
   ]
  },
  {
   "cell_type": "markdown",
   "metadata": {},
   "source": [
    "# 全1数列"
   ]
  },
  {
   "cell_type": "code",
   "execution_count": null,
   "metadata": {},
   "outputs": [],
   "source": [
    "# 全为1的数列\n",
    "ar5 = np.ones(9)\n",
    "ar6 = np.ones((2,3,4))\n",
    "ar7 = np.ones_like(ar3)\n",
    "print('ar5:',ar5)\n",
    "print('ar6:',ar6)\n",
    "print('ar7:',ar7)"
   ]
  },
  {
   "cell_type": "markdown",
   "metadata": {},
   "source": [
    " \n",
    "\n",
    " "
   ]
  },
  {
   "cell_type": "markdown",
   "metadata": {},
   "source": [
    "# NumPy 数组属性"
   ]
  },
  {
   "cell_type": "markdown",
   "metadata": {},
   "source": [
    "NumPy 的数组中比较重要 ndarray 对象属性有："
   ]
  },
  {
   "cell_type": "markdown",
   "metadata": {},
   "source": [
    "| 属性 \t| 说明 |\n",
    "| ------  \t|:------ |\n",
    "| ndarray.ndim\t| 秩，即轴的数量或维度的数量 |\n",
    "| ndarray.shape\t | 数组的维度，对于矩阵，n 行 m 列 |\n",
    "| ndarray.size \t | 数组元素的总个数，相当于 .shape 中 n*m 的值 |\n",
    "| ndarray.dtype \t | ndarray 对象的元素类型 |\n",
    "| ndarray.itemsize  | \tndarray 对象中每个元素的大小，以字节为单位 |"
   ]
  },
  {
   "cell_type": "markdown",
   "metadata": {},
   "source": [
    "### 1.ndarray.shape\n",
    "返回一个包含数组维度的元组，对于矩阵，n 行 m 列，它也可以用于调整数组维度"
   ]
  },
  {
   "cell_type": "code",
   "execution_count": null,
   "metadata": {},
   "outputs": [],
   "source": [
    "a = np.array([1,2,3,4,5, 6])\n",
    "print('一维数组：',a.shape)\n",
    "\n",
    "b = np.array([[1, 2, 3], [4, 5, 6]])\n",
    "print('二维数组：', b.shape)\n",
    "\n",
    "c = np.array([\n",
    "    [\n",
    "        [1, 2, 3],\n",
    "        [4, 5, 6]\n",
    "    ],\n",
    "    [\n",
    "        [11, 22, 33],\n",
    "        [44, 55, 66]\n",
    "        ]\n",
    "    ])\n",
    "print('三维数组：', c.shape)"
   ]
  },
  {
   "cell_type": "markdown",
   "metadata": {},
   "source": [
    "#### 调整维度 reshape\n",
    "返回调整维度后的副本，而不改变原 ndarray。"
   ]
  },
  {
   "cell_type": "code",
   "execution_count": null,
   "metadata": {},
   "outputs": [],
   "source": [
    "a = np.array([1,2,3,4,5, 6])\n",
    "print('一维数组a：',a.shape)\n",
    "# 使用a数组，创建一个新的数组b，并向形状修改为2行3列\n",
    "b = a.reshape((2,3))\n",
    "print('b的形状：',b.shape)\n",
    "print('b：', b)\n",
    "\n",
    "print('a的形状：',a.shape)\n",
    "print('a：', a)\n"
   ]
  },
  {
   "cell_type": "markdown",
   "metadata": {},
   "source": [
    "### 调整维度 resize\n",
    "`numpy.resize(a, new_shape)`\n",
    "如果新数组大于原始数组，则新数组将填充a的重复副本。\n",
    "> 请注意，此行为与a.resize(new_shape)不同，后者用零而不是重复的a填充。"
   ]
  },
  {
   "cell_type": "code",
   "execution_count": null,
   "metadata": {},
   "outputs": [],
   "source": [
    "# a 为2行2列\n",
    "a=np.array([[0,1],[2,3]])\n",
    "# 一a为原数组创建2行3列的新数组\n",
    "b_2_3 = np.resize(a,(2,3))\n",
    "b_2_3"
   ]
  },
  {
   "cell_type": "code",
   "execution_count": null,
   "metadata": {},
   "outputs": [],
   "source": []
  },
  {
   "cell_type": "markdown",
   "metadata": {},
   "source": [
    "### 2. ndarray.ndim\n",
    "返回数组的维度（秩）:轴的数量，或者维度的数量，是一个标量，一维数组的秩为 1，二维数组的秩为 2"
   ]
  },
  {
   "cell_type": "code",
   "execution_count": null,
   "metadata": {},
   "outputs": [],
   "source": [
    "a = np.array([1,2,3,4,5, 6])\n",
    "\n",
    "b = a.reshape((2,3))\n",
    "\n",
    "c = np.array([\n",
    "    [\n",
    "        [1, 2, 3],\n",
    "        [4, 5, 6]\n",
    "    ],\n",
    "    [\n",
    "        [11, 22, 33],\n",
    "        [44, 55, 66]\n",
    "        ]\n",
    "    ])\n",
    "print('a的ndim：',a.ndim)\n",
    "print('b的ndim：', b.ndim)\n",
    "print('c的ndim：', c.ndim)"
   ]
  },
  {
   "cell_type": "markdown",
   "metadata": {},
   "source": [
    "### 3. ndarray.size\n",
    "数组元素的总个数，相当于 .shape 中 n*m 的值"
   ]
  },
  {
   "cell_type": "code",
   "execution_count": null,
   "metadata": {},
   "outputs": [],
   "source": [
    "a = np.array([1,2,3,4,5,6])\n",
    "print('[1,2,3,4,5,6]的size:', a.size)\n",
    "\n",
    "a = np.array([[1,2,3],[4,5,6]])\n",
    "print('[[1,2,3],[4,5,6]]的size:', a.size)"
   ]
  },
  {
   "cell_type": "markdown",
   "metadata": {},
   "source": [
    "### 3. ndarray.dtype\n",
    "ndarray 对象的元素类型"
   ]
  },
  {
   "cell_type": "code",
   "execution_count": null,
   "metadata": {},
   "outputs": [],
   "source": [
    "a = np.array([1,2,3,4,5,6])\n",
    "print(a.dtype)\n",
    "\n",
    "b = np.array([1.1,2,3,4,5,6])\n",
    "print(b.dtype)"
   ]
  },
  {
   "cell_type": "markdown",
   "metadata": {},
   "source": [
    "#### 方法astype()\n",
    "numpy数据类型转换，调用astype返回数据类型修改后的数据，但是源数据的类型不会变"
   ]
  },
  {
   "cell_type": "code",
   "execution_count": null,
   "metadata": {},
   "outputs": [],
   "source": [
    "a=np.array([1.1, 1.2])\n",
    "print('a数据类型：',a.dtype)  # \n",
    "print('astype修改数据类型:',a.astype('float32').dtype)\n",
    "print('原数据类型未改变',a.dtype)\n",
    "\n",
    "# 正确操作\n",
    "a = a.astype('float32')\n",
    "print('修改类型后再次操作，类型改变:',a.dtype)"
   ]
  },
  {
   "cell_type": "markdown",
   "metadata": {},
   "source": [
    "### ndarray.itemsize\n",
    "以字节的形式返回数组中每一个元素的大小。\n",
    "\n",
    "例如，一个元素类型为 float64 的数组 itemsize 属性值为 8(float64 占用 64 个 bits，每个字节长度为 8，所以 64/8，占用 8 个字节）"
   ]
  },
  {
   "cell_type": "code",
   "execution_count": null,
   "metadata": {},
   "outputs": [],
   "source": [
    "a = np.array([1.1,2.2,3.3])\n",
    "print('dtype:',a.dtype,' itemsize:',a.itemsize)\n",
    "\n",
    "b = np.array([1,2,3,4,5])\n",
    "print('dtype:',b.dtype,' itemsize:',b.itemsize)"
   ]
  },
  {
   "cell_type": "markdown",
   "metadata": {},
   "source": [
    "# 数据类型\n",
    "\n",
    "| 名称 \t| 描述 | 名称 \t| 描述 |\n",
    "| ------  \t|:------ |------  \t|:------ |\n",
    "| bool_\t| 布尔型数据类型（True 或者 False） |float_\t| float64 类型的简写 |\n",
    "|int_\t | 默认的整数类型（类似于 C 语言中的 long，int32 或 int64） |float16/32/64\t| 半精度浮点数:1 个符号位，5 个指数位，10个尾数位<br/>单精度浮点数:1 个符号位，8 个指数位，23个尾数位<br/>双精度浮点数,包括：1 个符号位，11 个指数位，52个尾数位|\n",
    "| intc \t | 和 C 语言的 int 类型一样，一般是 int32 或 int 64 |complex_\t| 复数类型，与 complex128 类型相同 |\n",
    "| intp \t | 用于索引的整数类型（类似于 C 的 ssize_t，通常为 int32 或 int64） |complex64/128\t| 复数，表示双 32 位浮点数（实数部分和虚数部分）<br/>复数，表示双 64 位浮点数（实数部分和虚数部分） |\n",
    "| int8/16/32/64  | \t代表与1字节相同的8位整数<br/>代表与2字节相同的16位整数<br/>代表与4字节相同的32位整数<br/>代表与8字节相同的64位整数 |str_\t| 表示字符串类型 |\n",
    "| uint8/16/32/64  | 代表1字节（8位）无符号整数<br/>代表与2字节相同的16位整数<br/>代表与4字节相同的32位整数<br/>代表与8字节相同的64位整数 |string_\t| 表示字节串类型,也就是bytes类型 |"
   ]
  },
  {
   "cell_type": "code",
   "execution_count": null,
   "metadata": {},
   "outputs": [],
   "source": [
    "# 将数组中的类型存储为浮点型\n",
    "a = np.array([1,2,3,4],dtype=np.float64)\n",
    "a"
   ]
  },
  {
   "cell_type": "code",
   "execution_count": null,
   "metadata": {},
   "outputs": [],
   "source": [
    "# 将数组中的类型存储为布尔类型\n",
    "a = np.array([0,1,2,3,4],dtype=np.bool_)\n",
    "print(a)\n",
    "a = np.array([0,1,2,3,4],dtype=np.float_)\n",
    "print(a)"
   ]
  },
  {
   "cell_type": "code",
   "execution_count": null,
   "metadata": {},
   "outputs": [],
   "source": [
    "# str_和string_区别\n",
    "str1 = np.array([1,2,3,4,5,6],dtype=np.str_)\n",
    "string1 = np.array([1,2,3,4,5,6],dtype=np.string_)\n",
    "\n",
    "str2 = np.array(['我们',2,3,4,5,6],dtype=np.str_)\n",
    "\n",
    "print(str1,str1.dtype)\n",
    "print(string1,string1.dtype)\n",
    "print(str2,str2.dtype)"
   ]
  },
  {
   "cell_type": "markdown",
   "metadata": {},
   "source": [
    "在内存里统一使用unicode， 记录到硬盘或者编辑文本的时候都转换成了utf8\n",
    "UTF-8 将Unicode编码后的字符串保存到硬盘的一种压缩编码方式"
   ]
  },
  {
   "cell_type": "markdown",
   "metadata": {},
   "source": [
    "### 定义结构化数据\n",
    "\n",
    "使用数据类型标识码\n",
    "\n",
    "| 字符 \t| 对应类型 | 字符 \t| 对应类型 | 字符 \t| 对应类型 | 字符 \t| 对应类型 |\n",
    "| ------  \t|:------ |------  \t|:------ | ------  \t|:------ |------  \t|:------ |\n",
    "| b \t| 代表布尔型| i \t| 带符号整型| u \t| 无符号整型| f \t| 浮点型|  \n",
    "| c \t| 复数浮点型| m \t| 时间间隔（timedelta）| M \t| datatime（日期时间）| O \t| Python对象|  \n",
    "| S,a \t| 字节串（S）与字符串（a）| U \t| Unicode| V \t| 原始数据（void）|  \t| |   \n",
    " \n",
    "\n",
    "还可以将两个字符作为参数传给数据类型的构造函数。此时，第一个字符表示数据类型，\n",
    "第二个字符表示该类型在内存中占用的字节数（2、4、8分别代表精度为16、32、64位的\n",
    "浮点数）："
   ]
  },
  {
   "cell_type": "code",
   "execution_count": null,
   "metadata": {},
   "outputs": [],
   "source": [
    "# 首先创建结构化数据类型\n",
    "dt = np.dtype([('age','i1')]) \n",
    "print(dt)\n",
    "# 将数据类型应用于 ndarray 对象\n",
    "students = np.array([(18),(19)],dtype=dt)\n",
    "students"
   ]
  },
  {
   "cell_type": "markdown",
   "metadata": {},
   "source": [
    "以下示例描述一位老师的姓名、年龄、工资的特征，该结构化数据其包含以下字段：\n",
    "\n",
    "    str 字段：name\n",
    "    int 字段：age\n",
    "    float 字段：salary\n"
   ]
  },
  {
   "cell_type": "code",
   "execution_count": null,
   "metadata": {},
   "outputs": [],
   "source": [
    "import numpy as np\n",
    "teacher = np.dtype([('name',np.str_,2), ('age', 'i1'), ('salary', 'f4')])\n",
    "#输出结构化数据teacher\n",
    "print(teacher)\n",
    "#将其应用于ndarray对象\n",
    "b = np.array([('wl', 32, 8357.50),('lh', 28, 7856.80)], dtype = teacher) \n",
    "print(b)"
   ]
  },
  {
   "cell_type": "markdown",
   "metadata": {},
   "source": [
    "### 作业"
   ]
  },
  {
   "cell_type": "markdown",
   "metadata": {},
   "source": [
    "<img src=\"https://gitee.com/wu-chao-588/picgo/raw/master/images/image-20220302212721587.png\" style=\"float:left\"/>\n",
    "\n",
    "<img src=\"https://gitee.com/wu-chao-588/picgo/raw/master/images/image-20220302212653067.png\" style=\"float:left\"/>\n"
   ]
  },
  {
   "cell_type": "code",
   "execution_count": null,
   "metadata": {},
   "outputs": [],
   "source": []
  }
 ],
 "metadata": {
  "kernelspec": {
   "display_name": "Python 3",
   "language": "python",
   "name": "python3"
  },
  "language_info": {
   "codemirror_mode": {
    "name": "ipython",
    "version": 3
   },
   "file_extension": ".py",
   "mimetype": "text/x-python",
   "name": "python",
   "nbconvert_exporter": "python",
   "pygments_lexer": "ipython3",
   "version": "3.7.6"
  }
 },
 "nbformat": 4,
 "nbformat_minor": 4
}
