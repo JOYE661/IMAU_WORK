{
 "cells": [
  {
   "cell_type": "code",
   "execution_count": null,
   "metadata": {},
   "outputs": [],
   "source": [
    "import pandas as pd\n",
    "import numpy as np"
   ]
  },
  {
   "cell_type": "markdown",
   "metadata": {},
   "source": [
    "在日常的数据处理中，经常会对一个DataFrame进行逐行、逐列和逐元素的操作，对应这些操作，Pandas中的map、apply和applymap可以解决绝大部分这样的数据处理需求"
   ]
  },
  {
   "cell_type": "markdown",
   "metadata": {},
   "source": [
    "三种方法的使用和区别：\n",
    "\n",
    "    apply：应用在DataFrame的行或列中；\n",
    "    applymap：应用在DataFrame的每个元素中；\n",
    "    map：应用在单独一列（Series）的每个元素中。\n"
   ]
  },
  {
   "cell_type": "markdown",
   "metadata": {},
   "source": [
    "### apply()方法\n",
    "\n",
    "前面也说了apply方法是一般性的“拆分-应用-合并”方法。\n",
    "apply()将一个函数作用于DataFrame中的每个行或者列\n",
    "它既可以得到一个经过广播的标量值，也可以得到一个相同大小的结果数组。我们先来看下函数形式：\n",
    "\n",
    "`df.apply(func, axis=0, raw=False, result_type=None, args=(), **kwds)`\n",
    "\n",
    "- `func` : 函数应用于每一列或每一行\n",
    "- `axis`: \n",
    "        0或“索引”：将函数应用于每一列。\n",
    "        1或“列”：将函数应用于每一行。\n",
    "- ``"
   ]
  },
  {
   "cell_type": "code",
   "execution_count": null,
   "metadata": {},
   "outputs": [],
   "source": [
    "df = pd.DataFrame([[4, 9]] * 3, columns=['A', 'B'])\n",
    "df"
   ]
  },
  {
   "cell_type": "code",
   "execution_count": null,
   "metadata": {},
   "outputs": [],
   "source": [
    "df.apply(np.sum)"
   ]
  },
  {
   "cell_type": "code",
   "execution_count": null,
   "metadata": {},
   "outputs": [],
   "source": [
    "# 1或“列”：将函数应用于每一行。\n",
    "df.apply(np.sum, axis=1)"
   ]
  },
  {
   "cell_type": "markdown",
   "metadata": {},
   "source": [
    "### 或者使用 lambda 函数做简单的运算："
   ]
  },
  {
   "cell_type": "code",
   "execution_count": null,
   "metadata": {},
   "outputs": [],
   "source": [
    "df.apply(lambda x: x + 1)"
   ]
  },
  {
   "cell_type": "markdown",
   "metadata": {},
   "source": [
    "但是这样使用起来非常不方便，每次都要定义 lambda 函数。因此可以通过 def 定义一个函数，然后再调用该函数，在实际处理中都是定义自己所需要的函数完成操作："
   ]
  },
  {
   "cell_type": "code",
   "execution_count": null,
   "metadata": {},
   "outputs": [],
   "source": [
    "def cal_result(df, x, y):\n",
    "    df['C'] = (df['A'] + df['B']) * x\n",
    "    df['D'] = (df['A'] + df['B']) * y\n",
    "    return df\n",
    "df.apply(cal_result, x=3, y=8, axis=1)"
   ]
  },
  {
   "cell_type": "code",
   "execution_count": null,
   "metadata": {},
   "outputs": [],
   "source": [
    "df.apply(cal_result, args=(3, 8), axis=1) "
   ]
  },
  {
   "cell_type": "code",
   "execution_count": null,
   "metadata": {},
   "outputs": [],
   "source": [
    "df.apply(cal_result, **{'x': 3, 'y': 8}, axis=1)"
   ]
  },
  {
   "cell_type": "markdown",
   "metadata": {},
   "source": [
    "在这里我们先定义了一个 cal_result 函数，它的作用是计算 A,B 列和的 x 倍和 y 倍添加到 C,D 列中。这里有三种方式可以完成参数的赋值，\n",
    "\n",
    "第一种方式直接通过关键字参数赋值，指定参数的值；\n",
    "\n",
    "第二种方式是使用 args 关键字参数传入一个包含参数的元组；\n",
    "\n",
    "第三种方式传入通过 ** 传入包含参数和值的字典"
   ]
  },
  {
   "cell_type": "markdown",
   "metadata": {},
   "source": [
    "apply的使用是很灵活的，再举一个例子，配合 loc 方法我们能够在最后一行得到一个总和："
   ]
  },
  {
   "cell_type": "code",
   "execution_count": null,
   "metadata": {},
   "outputs": [],
   "source": [
    "df.loc[2] = df.apply(np.sum)\n",
    "df"
   ]
  },
  {
   "cell_type": "markdown",
   "metadata": {},
   "source": [
    "## applymap()方法\n",
    "该方法针对DataFrame中的元素进行操作，还是使用这个数据：\n",
    "`df.applymap(func)`"
   ]
  },
  {
   "cell_type": "code",
   "execution_count": null,
   "metadata": {},
   "outputs": [],
   "source": [
    "df"
   ]
  },
  {
   "cell_type": "code",
   "execution_count": null,
   "metadata": {},
   "outputs": [],
   "source": [
    "df.applymap(lambda x: '%.2f'%x)"
   ]
  },
  {
   "cell_type": "markdown",
   "metadata": {},
   "source": [
    "在这里可以看到applymap方法操作的是其中的元素，并且是对整个DataFrame进行了格式化，我们也可以选择行或列中的元素："
   ]
  },
  {
   "cell_type": "code",
   "execution_count": null,
   "metadata": {},
   "outputs": [],
   "source": [
    "# 取列\n",
    "df[['A']].applymap(lambda x: '%.2f'%x)"
   ]
  },
  {
   "cell_type": "code",
   "execution_count": null,
   "metadata": {},
   "outputs": [],
   "source": [
    "df['A'].applymap(lambda x: '%.2f'%x)  # 异常 "
   ]
  },
  {
   "cell_type": "markdown",
   "metadata": {},
   "source": [
    "需要注意的是这里必须使用 df[['A']] ，表示这是一个DataFrame，而不是一个Series，如果使用 df['A'] 就会报错。同样从行取元素也要将它先转成DataFrame。还需要注意apply方法和applymap的区别：\n",
    "\n",
    "    apply方法操作的是行或列的运算，而不是元素的运算，比如在这里使用格式化操作就会报错；\n",
    "    applymap方法操作的是元素，因此没有诸如axis这样的参数，它只接受函数传入。\n"
   ]
  },
  {
   "cell_type": "markdown",
   "metadata": {},
   "source": [
    "### map()方法\n",
    "\n",
    "如果你对applymap方法搞清楚了，那么map方法就很简单，说白了map方法是应用在Series中的，还是举上面的例子："
   ]
  },
  {
   "cell_type": "code",
   "execution_count": null,
   "metadata": {},
   "outputs": [],
   "source": [
    "df[['A']].applymap(lambda x: '%.2f'%x)"
   ]
  },
  {
   "cell_type": "code",
   "execution_count": null,
   "metadata": {},
   "outputs": [],
   "source": [
    "df['A'].map(lambda x: '%.2f'%x)"
   ]
  },
  {
   "cell_type": "code",
   "execution_count": null,
   "metadata": {},
   "outputs": [],
   "source": []
  }
 ],
 "metadata": {
  "kernelspec": {
   "display_name": "Python 3",
   "language": "python",
   "name": "python3"
  },
  "language_info": {
   "codemirror_mode": {
    "name": "ipython",
    "version": 3
   },
   "file_extension": ".py",
   "mimetype": "text/x-python",
   "name": "python",
   "nbconvert_exporter": "python",
   "pygments_lexer": "ipython3",
   "version": "3.7.6"
  }
 },
 "nbformat": 4,
 "nbformat_minor": 4
}
