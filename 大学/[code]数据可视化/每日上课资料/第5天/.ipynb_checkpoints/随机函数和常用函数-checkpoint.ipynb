{
 "cells": [
  {
   "cell_type": "code",
   "execution_count": 2,
   "metadata": {},
   "outputs": [],
   "source": [
    "import numpy as np"
   ]
  },
  {
   "cell_type": "markdown",
   "metadata": {},
   "source": [
    "# 随机函数\n",
    "\n",
    "NumPy中也有自己的随机函数，包含在random模块中。它能产生特定分布的随机数，如正态分布等。接下来介绍一些常用的随机数。\n",
    "\n",
    "\n",
    "| 函数名                          | 功能                    | 参数使用(int a,b,c,d)       |\n",
    "| :------------------------------- | :----------------------- | :--------------------------- |\n",
    "| rand(int1,[int2,[int3,]])       | 生成(0,1)均匀分布随机数 | (a)，(a,b)，(a,b,c)         |\n",
    "| randn(int1,[int2,[int3,]])      | 生成标准正态分布随机数  | (a)，(a,b)，(a,b,c)         |\n",
    "| randint(low[,hight,size,dtype]) | 生成随机整数            | (a,b)，(a,b,c)，(a,b,(c,d)) |\n",
    "| sample(size)             | 生成[0,1)随机数         | (a)，((a,b))，((a,b,c))     |"
   ]
  },
  {
   "cell_type": "markdown",
   "metadata": {},
   "source": [
    "### numpy.random.rand(d0,d1,…,dn)\n",
    "\n",
    "- rand函数根据给定维度生成[0,1)之间的数据，包含0，不包含1\n",
    "- dn表示每个维度\n",
    "- 返回值为指定维度的array\n"
   ]
  },
  {
   "cell_type": "code",
   "execution_count": 3,
   "metadata": {},
   "outputs": [
    {
     "data": {
      "text/plain": [
       "array([[0.02533197, 0.80477348],\n",
       "       [0.85778508, 0.01261245],\n",
       "       [0.04261013, 0.26928786],\n",
       "       [0.81136377, 0.34618951]])"
      ]
     },
     "execution_count": 3,
     "metadata": {},
     "output_type": "execute_result"
    }
   ],
   "source": [
    "# 创建4行2列的随机数据\n",
    "np.random.rand(4,2)"
   ]
  },
  {
   "cell_type": "code",
   "execution_count": 4,
   "metadata": {},
   "outputs": [
    {
     "data": {
      "text/plain": [
       "array([[[0.01820147, 0.5591452 , 0.05975028],\n",
       "        [0.09208771, 0.96067587, 0.87031724]],\n",
       "\n",
       "       [[0.32644706, 0.9580549 , 0.94756885],\n",
       "        [0.57613453, 0.59642938, 0.62449385]]])"
      ]
     },
     "execution_count": 4,
     "metadata": {},
     "output_type": "execute_result"
    }
   ],
   "source": [
    "# 创建2块2行3列的随机数据\n",
    "np.random.rand(2,2,3)"
   ]
  },
  {
   "cell_type": "markdown",
   "metadata": {},
   "source": [
    "### numpy.random.randn(d0,d1,…,dn)\n",
    "\n",
    "- randn函数返回一个或一组样本，具有标准正态分布。\n",
    "- dn表示每个维度\n",
    "- 返回值为指定维度的array\n",
    "\n",
    "标准正态分布又称为u分布，是以0为均值、以1为标准差的正态分布，记为N（0，1）。"
   ]
  },
  {
   "cell_type": "code",
   "execution_count": 7,
   "metadata": {},
   "outputs": [
    {
     "name": "stdout",
     "output_type": "stream",
     "text": [
      "[ 0.42646668 -1.40306793 -0.05431918  0.03763756  1.7889215   0.25540288\n",
      " -1.60619811 -2.21199667 -0.92209721  0.47669523]\n"
     ]
    },
    {
     "data": {
      "text/plain": [
       "(array([1., 1., 1., 1., 0., 2., 3., 0., 0., 1.]),\n",
       " array([-2.21199667, -1.81190485, -1.41181303, -1.01172122, -0.6116294 ,\n",
       "        -0.21153758,  0.18855423,  0.58864605,  0.98873787,  1.38882969,\n",
       "         1.7889215 ]),\n",
       " <a list of 10 Patch objects>)"
      ]
     },
     "execution_count": 7,
     "metadata": {},
     "output_type": "execute_result"
    },
    {
     "data": {
      "image/png": "[encoded data removed]",
      "text/plain": [
       "<Figure size 432x288 with 1 Axes>"
      ]
     },
     "metadata": {
      "needs_background": "light"
     },
     "output_type": "display_data"
    }
   ],
   "source": [
    "from matplotlib import pyplot as plt\n",
    "a = np.random.randn(10)\n",
    "print(a)\n",
    "# 直方图\n",
    "plt.hist(a)"
   ]
  },
  {
   "cell_type": "markdown",
   "metadata": {},
   "source": [
    "### numpy.random.normal()\n",
    "\n",
    "`numpy.random.normal(loc=0.0, scale=1.0, size=None)`\n",
    "返回一个由size指定形状的数组，数组中的值服从 μ=loc,σ=scale 的正态分布。"
   ]
  },
  {
   "cell_type": "markdown",
   "metadata": {},
   "source": [
    "### numpy.random.randint()\n",
    "\n",
    "`numpy.random.randint(low, high=None, size=None, dtype=’l’)`\n",
    "- 返回随机整数，范围区间为[low,high），包含low，不包含high\n",
    "- 参数：low为最小值，high为最大值，size为数组维度大小，dtype为数据类型，默认的数据类型是np.int\n",
    "- high没有填写时，默认生成随机数的范围是[0，low)"
   ]
  },
  {
   "cell_type": "code",
   "execution_count": 11,
   "metadata": {},
   "outputs": [
    {
     "data": {
      "text/plain": [
       "array([1, 0, 6, 8, 0])"
      ]
     },
     "execution_count": 11,
     "metadata": {},
     "output_type": "execute_result"
    }
   ],
   "source": [
    "# 返回[0,1)之间的整数，所以只有0\n",
    "np.random.randint(10,size=5) "
   ]
  },
  {
   "cell_type": "code",
   "execution_count": 13,
   "metadata": {},
   "outputs": [
    {
     "data": {
      "text/plain": [
       "array([7, 6, 7, 8, 3])"
      ]
     },
     "execution_count": 13,
     "metadata": {},
     "output_type": "execute_result"
    }
   ],
   "source": [
    "np.random.randint(2,10,size=5) "
   ]
  },
  {
   "cell_type": "code",
   "execution_count": 14,
   "metadata": {},
   "outputs": [
    {
     "data": {
      "text/plain": [
       "array([[7, 7, 2, 7, 4],\n",
       "       [5, 8, 6, 9, 7]])"
      ]
     },
     "execution_count": 14,
     "metadata": {},
     "output_type": "execute_result"
    }
   ],
   "source": [
    "np.random.randint(2,10,size=(2,5)) "
   ]
  },
  {
   "cell_type": "code",
   "execution_count": 15,
   "metadata": {},
   "outputs": [
    {
     "data": {
      "text/plain": [
       "2"
      ]
     },
     "execution_count": 15,
     "metadata": {},
     "output_type": "execute_result"
    }
   ],
   "source": [
    "# 返回1个[1,5)时间的随机整数\n",
    "np.random.randint(1,5)"
   ]
  },
  {
   "cell_type": "code",
   "execution_count": 16,
   "metadata": {},
   "outputs": [
    {
     "data": {
      "text/plain": [
       "array([[-4, -5],\n",
       "       [ 1,  3]])"
      ]
     },
     "execution_count": 16,
     "metadata": {},
     "output_type": "execute_result"
    }
   ],
   "source": [
    "# 返回 -5到5之间不包含5的 2行2列数据\n",
    "np.random.randint(-5,5,size=(2,2))"
   ]
  },
  {
   "cell_type": "markdown",
   "metadata": {},
   "source": [
    "### numpy.random.sample\n",
    "\n",
    "`numpy.random.sample(size=None)`\n",
    "\n",
    "返回半开区间内的随机浮点数[0.0，1.0]。"
   ]
  },
  {
   "cell_type": "code",
   "execution_count": 18,
   "metadata": {},
   "outputs": [
    {
     "data": {
      "text/plain": [
       "array([[[0.7686855 , 0.70071112, 0.24265062],\n",
       "        [0.63907407, 0.76102216, 0.66424632]],\n",
       "\n",
       "       [[0.40679315, 0.73614372, 0.64102261],\n",
       "        [0.97843216, 0.52552309, 0.44970841]]])"
      ]
     },
     "execution_count": 18,
     "metadata": {},
     "output_type": "execute_result"
    }
   ],
   "source": [
    "np.random.sample((2,3))\n",
    "np.random.sample((2,2,3))"
   ]
  },
  {
   "cell_type": "markdown",
   "metadata": {},
   "source": []
  },
  {
   "cell_type": "markdown",
   "metadata": {},
   "source": [
    "### 随机种子np.random.seed()\n",
    "\n",
    "使用相同的seed()值，则每次生成的随机数都相同,使得随机数可以预测\n",
    "\n",
    "但是，只在调用的时候seed()一下并不能使生成的随机数相同，需要每次调用都seed()一下，表示种子相同，从而生成的随机数相同。"
   ]
  },
  {
   "cell_type": "code",
   "execution_count": 21,
   "metadata": {},
   "outputs": [
    {
     "name": "stdout",
     "output_type": "stream",
     "text": [
      "[[-0.41675785 -0.05626683 -2.1361961 ]\n",
      " [ 1.64027081 -1.79343559 -0.84174737]\n",
      " [ 0.50288142 -1.24528809 -1.05795222]]\n",
      "----------\n",
      "[[-0.90900761  0.55145404  2.29220801]\n",
      " [ 0.04153939 -1.11792545  0.53905832]\n",
      " [-0.5961597  -0.0191305   1.17500122]]\n"
     ]
    }
   ],
   "source": [
    "np.random.seed(2)\n",
    "\n",
    "L1 = np.random.randn(3, 3)\n",
    "L2 = np.random.randn(3, 3)\n",
    "print(L1)\n",
    "print(\"-\"*10)\n",
    "print(L2)"
   ]
  },
  {
   "cell_type": "code",
   "execution_count": 20,
   "metadata": {},
   "outputs": [
    {
     "name": "stdout",
     "output_type": "stream",
     "text": [
      "[[ 1.62434536 -0.61175641 -0.52817175]\n",
      " [-1.07296862  0.86540763 -2.3015387 ]\n",
      " [ 1.74481176 -0.7612069   0.3190391 ]]\n",
      "----------\n",
      "[[ 1.62434536 -0.61175641 -0.52817175]\n",
      " [-1.07296862  0.86540763 -2.3015387 ]\n",
      " [ 1.74481176 -0.7612069   0.3190391 ]]\n"
     ]
    }
   ],
   "source": [
    "np.random.seed(1)\n",
    " \n",
    "L1 = np.random.randn(3, 3)\n",
    "\n",
    "np.random.seed(1)\n",
    "L2 = np.random.randn(3, 3)\n",
    "print(L1)\n",
    "print(\"-\"*10)\n",
    "print(L2)"
   ]
  },
  {
   "cell_type": "markdown",
   "metadata": {},
   "source": [
    "### 正态分布 numpy.random.normal\n",
    "`numpy.random.normal(loc=0.0, scale=1.0, size=None)`\n",
    "\n",
    "作用：返回一个由size指定形状的数组，数组中的值服从 μ=loc,σ=scale 的正态分布。\n",
    "\n",
    "参数：\n",
    "- loc : float型或者float型的类数组对象，指定均值 μ\n",
    "- scale : float型或者float型的类数组对象，指定标准差 σ\n",
    "- size : int型或者int型的元组，指定了数组的形状。如果不提供size，且loc和scale为标量（不是类数组对象），则返回一个服从该分布的随机数。"
   ]
  },
  {
   "cell_type": "code",
   "execution_count": 23,
   "metadata": {},
   "outputs": [
    {
     "name": "stdout",
     "output_type": "stream",
     "text": [
      "[[-0.26905696  2.23136679]\n",
      " [-2.43476758  0.1127265 ]\n",
      " [ 0.37044454  1.35963386]]\n",
      "--------------------\n",
      "[[ 2.50557162 -1.53264111]\n",
      " [ 1.00002928  2.62705772]\n",
      " [ 0.05947541  3.31303521]]\n"
     ]
    }
   ],
   "source": [
    "# 标准正态分布，3行2列\n",
    "a = np.random.normal(0, 1, (3, 2))\n",
    "print(a)\n",
    "print('-'*20)\n",
    "# 均值为1，标准差为3\n",
    "b = np.random.normal(1, 3, (3, 2))\n",
    "print(b)"
   ]
  },
  {
   "cell_type": "markdown",
   "metadata": {},
   "source": [
    "\n",
    "# 数组的其他函数"
   ]
  },
  {
   "cell_type": "markdown",
   "metadata": {},
   "source": [
    "主要有以下方法:"
   ]
  },
  {
   "cell_type": "markdown",
   "metadata": {},
   "source": [
    "| 函数名称 | 描述说明                                                     |\n",
    "| :-------- | :------------------------------------------------------------ |\n",
    "| resize   | 返回指定形状的新数组。                                       |\n",
    "| append   | 将元素值添加到数组的末尾。                                   |\n",
    "| insert   | 沿规定的轴将元素值插入到指定的元素前。                       |\n",
    "| delete   | 删掉某个轴上的子数组，并返回删除后的新数组。                 |\n",
    "| argwhere | 返回数组内符合条件的元素的索引值。                           |\n",
    "| unique   | 用于删除数组中重复的元素，并按元素值由大到小返回一个新数组。 |\n",
    "| sort()   | 对输入数组执行排序，并返回一个数组副本                       |\n",
    "| argsort  | 沿着指定的轴，对输入数组的元素值进行排序，并返回排序后的元素索引数组 |"
   ]
  },
  {
   "cell_type": "markdown",
   "metadata": {},
   "source": [
    "#### numpy.resize()\n",
    "\n",
    "`numpy.resize(arr, shape)`\n",
    "\n",
    "numpy.resize() 返回指定形状的新数组。\n",
    "\n",
    "numpy.resize(arr,shape) 和ndarray.resize(shape, refcheck=False)区别:\n",
    "- numpy.resize(arr,shape),有返回值,返回复制内容.如果维度不够,会使用原数组数据补齐\n",
    "- ndarray.resize(shape, refcheck=False),修改原数组,不会返回数据,如果维度不够,会使用0补齐"
   ]
  },
  {
   "cell_type": "code",
   "execution_count": 24,
   "metadata": {},
   "outputs": [
    {
     "name": "stdout",
     "output_type": "stream",
     "text": [
      "a数组: [[1 2 3]\n",
      " [4 5 6]]\n",
      "a数组形状: (2, 3)\n"
     ]
    }
   ],
   "source": [
    "a = np.array([[1,2,3],[4,5,6]])\n",
    "print('a数组:',a)\n",
    "#a数组的形状\n",
    "print('a数组形状:',a.shape)\n"
   ]
  },
  {
   "cell_type": "code",
   "execution_count": 25,
   "metadata": {},
   "outputs": [
    {
     "data": {
      "text/plain": [
       "array([[1, 2, 3],\n",
       "       [4, 5, 6],\n",
       "       [1, 2, 3]])"
      ]
     },
     "execution_count": 25,
     "metadata": {},
     "output_type": "execute_result"
    }
   ],
   "source": [
    "b = np.resize(a,(3,3))\n",
    "b"
   ]
  },
  {
   "cell_type": "code",
   "execution_count": 26,
   "metadata": {},
   "outputs": [
    {
     "data": {
      "text/plain": [
       "array([[1, 2, 3],\n",
       "       [4, 5, 6]])"
      ]
     },
     "execution_count": 26,
     "metadata": {},
     "output_type": "execute_result"
    }
   ],
   "source": [
    "a"
   ]
  },
  {
   "cell_type": "code",
   "execution_count": 27,
   "metadata": {},
   "outputs": [
    {
     "data": {
      "text/plain": [
       "array([[1, 2, 3],\n",
       "       [4, 5, 6],\n",
       "       [0, 0, 0]])"
      ]
     },
     "execution_count": 27,
     "metadata": {},
     "output_type": "execute_result"
    }
   ],
   "source": [
    "a.resize((3,3),refcheck=False)\n",
    "a"
   ]
  },
  {
   "cell_type": "markdown",
   "metadata": {},
   "source": [
    "### numpy.append()\n",
    "在数组的末尾添加值，默认返回一个一维数组。\n",
    "\n",
    "`numpy.append(arr, values, axis=None)`\n",
    "\n",
    "参数说明：\n",
    "\n",
    "- arr：输入的数组；\n",
    "- values：向 arr 数组中添加的值，需要和 arr 数组的形状保持一致；\n",
    "- axis：默认为 None，返回的是一维数组；当 axis =0 时，追加的值会被添加到行，而列数保持不变，若 axis=1 则与其恰好相反。\n",
    "\n"
   ]
  },
  {
   "cell_type": "code",
   "execution_count": 28,
   "metadata": {},
   "outputs": [
    {
     "name": "stdout",
     "output_type": "stream",
     "text": [
      "[1 2 3 4 5 6 7 8 9]\n"
     ]
    }
   ],
   "source": [
    "a = np.array([[1,2,3],[4,5,6]])\n",
    "#向数组a添加元素\n",
    "print (np.append(a, [7,8,9]))\n"
   ]
  },
  {
   "cell_type": "code",
   "execution_count": 31,
   "metadata": {},
   "outputs": [
    {
     "name": "stdout",
     "output_type": "stream",
     "text": [
      "[[1 2 3]\n",
      " [4 5 6]\n",
      " [7 8 9]]\n"
     ]
    }
   ],
   "source": [
    "#沿轴 0 添加元素\n",
    "print (np.append(a, [[7,8,9]],axis = 0))\n"
   ]
  },
  {
   "cell_type": "code",
   "execution_count": 32,
   "metadata": {},
   "outputs": [
    {
     "name": "stdout",
     "output_type": "stream",
     "text": [
      "[[1 2 3 5 5 5]\n",
      " [4 5 6 7 8 9]]\n"
     ]
    }
   ],
   "source": [
    "#沿轴 1 添加元素\n",
    "print (np.append(a, [[5,5,5],[7,8,9]],axis = 1))"
   ]
  },
  {
   "cell_type": "markdown",
   "metadata": {},
   "source": [
    "#### numpy.insert()\n",
    "表示沿指定的轴，在给定索引值的前一个位置插入相应的值，如果没有提供轴，则输入数组被展开为一维数组。\n",
    "\n",
    "`numpy.insert(arr, obj, values, axis)`\n",
    "\n",
    "参数说明：\n",
    "\n",
    "- arr：要输入的数组\n",
    "- obj：表示索引值，在该索引值之前插入 values 值；\n",
    "- values：要插入的值；\n",
    "- axis：指定的轴，如果未提供，则输入数组会被展开为一维数组。\n"
   ]
  },
  {
   "cell_type": "code",
   "execution_count": 33,
   "metadata": {},
   "outputs": [
    {
     "name": "stdout",
     "output_type": "stream",
     "text": [
      "[ 1  2  3 11 12  4  5  6]\n"
     ]
    }
   ],
   "source": [
    "a = np.array([[1,2],[3,4],[5,6]])\n",
    "#不提供axis的情况，会将数组展开\n",
    "print (np.insert(a,3,[11,12]))\n"
   ]
  },
  {
   "cell_type": "code",
   "execution_count": 34,
   "metadata": {},
   "outputs": [
    {
     "name": "stdout",
     "output_type": "stream",
     "text": [
      "[[ 1  2]\n",
      " [11 11]\n",
      " [ 3  4]\n",
      " [ 5  6]]\n"
     ]
    }
   ],
   "source": [
    "#沿轴 0 垂直方向\n",
    "print (np.insert(a,1,[11],axis = 0))\n"
   ]
  },
  {
   "cell_type": "code",
   "execution_count": 35,
   "metadata": {},
   "outputs": [
    {
     "name": "stdout",
     "output_type": "stream",
     "text": [
      "[[ 1 11  2]\n",
      " [ 3 11  4]\n",
      " [ 5 11  6]]\n"
     ]
    }
   ],
   "source": [
    "#沿轴 1 水平方向\n",
    "print (np.insert(a,1,11,axis = 1))"
   ]
  },
  {
   "cell_type": "markdown",
   "metadata": {},
   "source": [
    "#### numpy.delete()\n",
    "该方法表示从输入数组中删除指定的子数组，并返回一个新数组。它与 insert() 函数相似，若不提供 axis 参数，则输入数组被展开为一维数组。\n",
    "`numpy.delete(arr, obj, axis)`\n",
    "参数说明：\n",
    "\n",
    "- arr：要输入的数组；\n",
    "- obj：整数或者整数数组，表示要被删除数组元素或者子数组；\n",
    "- axis：沿着哪条轴删除子数组。\n"
   ]
  },
  {
   "cell_type": "code",
   "execution_count": 43,
   "metadata": {},
   "outputs": [
    {
     "name": "stdout",
     "output_type": "stream",
     "text": [
      "[[ 0  1  2  3]\n",
      " [ 4  5  6  7]\n",
      " [ 8  9 10 11]]\n",
      "[ 0  1  2  3  4  6  7  8  9 10 11]\n"
     ]
    }
   ],
   "source": [
    "a = np.arange(12).reshape(3,4)\n",
    "#a数组\n",
    "print(a)\n",
    "#不提供axis参数情况\n",
    "print(np.delete(a,5))\n"
   ]
  },
  {
   "cell_type": "code",
   "execution_count": 44,
   "metadata": {},
   "outputs": [
    {
     "name": "stdout",
     "output_type": "stream",
     "text": [
      "[[ 0  1  2  3]\n",
      " [ 4  5  6  7]\n",
      " [ 8  9 10 11]]\n"
     ]
    }
   ],
   "source": [
    "#删除第二列\n",
    "#print(np.delete(a,1,axis = 1))\n",
    "print(a)\n",
    "\n",
    "#a = np.array([1,2,3,4,5,6,7,8,9,10])\n",
    "#删除多行\n",
    "print(np.delete(a,[1,2],axis = 0))\n",
    "\n",
    "# 注意不能使用切片的形式\n",
    "#print(np.delete(a,[1:4]))"
   ]
  },
  {
   "cell_type": "code",
   "execution_count": null,
   "metadata": {},
   "outputs": [],
   "source": [
    "np.s_[1:4]"
   ]
  },
  {
   "cell_type": "code",
   "execution_count": null,
   "metadata": {},
   "outputs": [],
   "source": [
    "np.r_[1:4]"
   ]
  },
  {
   "cell_type": "code",
   "execution_count": null,
   "metadata": {},
   "outputs": [],
   "source": [
    "np.c_[1:4]"
   ]
  },
  {
   "cell_type": "markdown",
   "metadata": {},
   "source": [
    "### numpy.argwhere()\n",
    "\n",
    "该函数返回数组中非 0 元素的索引，若是多维数组则返回行、列索引组成的索引坐标。"
   ]
  },
  {
   "cell_type": "code",
   "execution_count": null,
   "metadata": {},
   "outputs": [],
   "source": [
    "x = np.arange(6).reshape(2,3)\n",
    "print(x)\n",
    "#返回所有大于1的元素索引\n",
    "y=np.argwhere(x>1)\n",
    "print(y,y.shape)"
   ]
  },
  {
   "cell_type": "markdown",
   "metadata": {},
   "source": [
    "### numpy.unique()\n",
    "\n",
    "用于删除数组中重复的元素，其语法格式如下：\n",
    "`numpy.unique(arr, return_index, return_inverse, return_counts)`\n",
    "\n",
    "参数说明：\n",
    "\n",
    "- arr：输入数组，若是多维数组则以一维数组形式展开；\n",
    "- return_index：如果为 True，则返回新数组元素在原数组中的位置（索引）；\n",
    "- return_inverse：如果为 True，则返回原数组元素在新数组中的位置（索引）；\n",
    "- return_counts：如果为 True，则返回去重后的数组元素在原数组中出现的次数。\n"
   ]
  },
  {
   "cell_type": "code",
   "execution_count": null,
   "metadata": {},
   "outputs": [],
   "source": [
    "a = np.array([5,2,6,2,7,5,6,8,2,9])\n",
    "print (a)\n",
    "# 对a数组的去重\n",
    "uq = np.unique(a)\n",
    "print (uq)"
   ]
  },
  {
   "cell_type": "code",
   "execution_count": null,
   "metadata": {},
   "outputs": [],
   "source": [
    "# 数组去重后的索引数组\n",
    "u,indices = np.unique(a, return_index = True)\n",
    "# 打印去重后数组的索引\n",
    "print(u)\n",
    "\n",
    "print('-'*20)\n",
    "\n",
    "print(indices)"
   ]
  },
  {
   "cell_type": "code",
   "execution_count": null,
   "metadata": {},
   "outputs": [],
   "source": [
    "# 去重数组的下标：\n",
    "ui,indices = np.unique(a,return_inverse = True)\n",
    "print (ui)\n",
    "print('-'*20)\n",
    "# 打印下标\n",
    "print (indices)"
   ]
  },
  {
   "cell_type": "code",
   "execution_count": null,
   "metadata": {},
   "outputs": [],
   "source": [
    "# 返回去重元素的重复数量\n",
    "uc,indices = np.unique(a,return_counts = True)\n",
    "print (uc)\n",
    "# 元素出现次数：\n",
    "print (indices)"
   ]
  },
  {
   "cell_type": "code",
   "execution_count": null,
   "metadata": {},
   "outputs": [],
   "source": [
    "# 取出出现次数最多或最小的值和索引"
   ]
  },
  {
   "cell_type": "markdown",
   "metadata": {},
   "source": [
    "#### numpy.sort()\n",
    "\n",
    "对输入数组执行排序，并返回一个数组副本。\n",
    "`numpy.sort(a, axis, kind, order)`\n",
    "\n",
    "参数说明：\n",
    "\n",
    "- a：要排序的数组；\n",
    "- axis：沿着指定轴进行排序，如果没有指定 axis，默认在最后一个轴上排序，若 axis=0 表示按列排序，axis=1 表示按行排序；\n",
    "- kind：默认为 quicksort（快速排序）；\n",
    "- order：若数组设置了字段，则 order 表示要排序的字段。\n"
   ]
  },
  {
   "cell_type": "code",
   "execution_count": null,
   "metadata": {},
   "outputs": [],
   "source": [
    "a = np.array([[3,7,5],[6,1,4]]) \n",
    "print('a数组是：', a)\n",
    "\n",
    "#调用sort()函数\n",
    "print('排序后的内容:',np.sort(a))\n",
    "a"
   ]
  },
  {
   "cell_type": "code",
   "execution_count": null,
   "metadata": {},
   "outputs": [],
   "source": [
    "#以行为参照,列上面的数据排序：\n",
    "print(np.sort(a, axis = 0))"
   ]
  },
  {
   "cell_type": "code",
   "execution_count": null,
   "metadata": {},
   "outputs": [],
   "source": [
    "#以列为参照,行上面的数据排序：\n",
    "print(np.sort(a, axis = 1))"
   ]
  },
  {
   "cell_type": "code",
   "execution_count": null,
   "metadata": {},
   "outputs": [],
   "source": [
    "#设置在sort函数中排序字段\n",
    "dt = np.dtype([('name',  'S10'),('age',  int)])\n",
    "a = np.array([(\"raju\",21),(\"anil\",25),(\"ravi\",  17),  (\"amar\",27)], dtype = dt) \n",
    "#再次打印a数组\n",
    "print(a)\n",
    "#按name字段排序\n",
    "print(np.sort(a, order = 'name'))"
   ]
  },
  {
   "cell_type": "markdown",
   "metadata": {},
   "source": [
    "#### numpy.argsort()\n",
    "\n",
    "argsort() 沿着指定的轴，对输入数组的元素值进行排序，并返回排序后的元素索引数组。示例如下： "
   ]
  },
  {
   "cell_type": "code",
   "execution_count": null,
   "metadata": {},
   "outputs": [],
   "source": [
    "a = np.array([90, 29, 89, 12]) \n",
    "print(\"原数组:\",a) \n",
    "sort_ind = np.argsort(a) \n",
    "print(\"打印排序元素索引值:\",sort_ind) \n",
    "#使用索引数组对原数组排序\n",
    "sort_a = a[sort_ind] \n",
    "print(\"打印排序数组\") \n",
    "for i in sort_ind: \n",
    "    print(a[i],end = \" \")  "
   ]
  },
  {
   "cell_type": "markdown",
   "metadata": {},
   "source": [
    "# 练习题:"
   ]
  },
  {
   "cell_type": "code",
   "execution_count": null,
   "metadata": {},
   "outputs": [],
   "source": [
    "# 1. 创建长度为10的零向量"
   ]
  },
  {
   "cell_type": "code",
   "execution_count": null,
   "metadata": {},
   "outputs": [],
   "source": [
    "# 2.获取数组np.zeros((10, 10))所占内存大小"
   ]
  },
  {
   "cell_type": "code",
   "execution_count": null,
   "metadata": {},
   "outputs": [],
   "source": [
    "# 3.创建一个长度为10的零向量，并把第五个值赋值为1"
   ]
  },
  {
   "cell_type": "code",
   "execution_count": null,
   "metadata": {},
   "outputs": [],
   "source": [
    "# 4.创建一个值域为10到49的向量"
   ]
  },
  {
   "cell_type": "code",
   "execution_count": null,
   "metadata": {},
   "outputs": [],
   "source": [
    "# 5.将一个向量进行反转（第一个元素变为最后一个元素）"
   ]
  },
  {
   "cell_type": "code",
   "execution_count": null,
   "metadata": {},
   "outputs": [],
   "source": [
    "# 6.创建一个3x3的矩阵，值域为0到8"
   ]
  },
  {
   "cell_type": "code",
   "execution_count": null,
   "metadata": {
    "scrolled": true
   },
   "outputs": [],
   "source": [
    "# 7.从数组[1, 2, 0, 0, 4, 0]中找出非0元素的位置索引"
   ]
  },
  {
   "cell_type": "code",
   "execution_count": null,
   "metadata": {},
   "outputs": [],
   "source": [
    "# 8.创建一个3x3x3的随机数组"
   ]
  },
  {
   "cell_type": "code",
   "execution_count": null,
   "metadata": {},
   "outputs": [],
   "source": [
    "# 9.创建一个10x10的随机数组，并找出该数组中的最大值与最小值"
   ]
  },
  {
   "cell_type": "code",
   "execution_count": null,
   "metadata": {},
   "outputs": [],
   "source": [
    "# 10.创建一个长度为30的随机向量，并求它的平均值"
   ]
  },
  {
   "cell_type": "code",
   "execution_count": null,
   "metadata": {},
   "outputs": [],
   "source": [
    "# 11.创建一个10*10的2维数组，该数组边界值为1，内部的值为0"
   ]
  },
  {
   "cell_type": "code",
   "execution_count": null,
   "metadata": {},
   "outputs": [],
   "source": [
    "# 12.对5x5的随机矩阵进行归一化 提示:归一化 (x - min) / (max - min))"
   ]
  },
  {
   "cell_type": "code",
   "execution_count": null,
   "metadata": {},
   "outputs": [],
   "source": [
    "# 13一个5x3的数组和一个3x2的数组是否可以相乘"
   ]
  },
  {
   "cell_type": "code",
   "execution_count": null,
   "metadata": {},
   "outputs": [],
   "source": [
    "# 14. 创建一个大小为10的随机向量，并把它排序"
   ]
  },
  {
   "cell_type": "code",
   "execution_count": null,
   "metadata": {},
   "outputs": [],
   "source": [
    "# 15. 创建一个numpy数组元素值全为True（真）的数组"
   ]
  },
  {
   "cell_type": "code",
   "execution_count": null,
   "metadata": {},
   "outputs": [],
   "source": []
  },
  {
   "cell_type": "markdown",
   "metadata": {},
   "source": [
    "# 鸢尾属植物数据集"
   ]
  },
  {
   "cell_type": "markdown",
   "metadata": {},
   "source": [
    "本次练习使用 鸢尾属植物数据集 .\\iris.data ，在这个数据集中，包括了三类不同的鸢尾属植物：\n",
    "分别为山鸢尾（Iris-setosa）、变色鸢尾（Iris-versicolor）和维吉尼亚鸢尾（Iris-virginica）。每类收集了50个样本，因此这个数据集一共包含了150个样本。\n",
    "- sepallength：萼片长度\n",
    "- sepalwidth：萼片宽度\n",
    "- petallength：花瓣长度\n",
    "- petalwidth：花瓣宽度\n",
    "以上四个特征的单位都是厘米（cm）。\n",
    "\n",
    "`https://archive.ics.uci.edu/ml/machine-learning-databases/iris/iris.data`\n",
    "    "
   ]
  },
  {
   "cell_type": "markdown",
   "metadata": {},
   "source": [
    "# 鸢尾花识别问题\n",
    "\n",
    "<img src=\"https://gitee.com/wu-chao-588/picgo/raw/master/images/image-20220309153926936.png\">\n",
    "\n",
    "萼片在花朵开放前起保护花的作用。\n",
    "花开放之前就脱落的花萼称早落萼，如白屈菜、虞美人；果实成熟后，花萼仍然存在，并且随果实一起增大，称宿萼，如柿、辣椒等。萼片大而鲜艳呈花冠状，称瓣状萼，如乌头、铁线莲；有的萼筒一边向外凸起，形成一管状或囊状突起，称距，如凤仙花。\n",
    "一朵花中所有萼片(sepal)的总称是花萼，包被在花的最外层。萼片多为绿色而相对较厚的叶状"
   ]
  },
  {
   "cell_type": "code",
   "execution_count": null,
   "metadata": {
    "scrolled": false
   },
   "outputs": [],
   "source": [
    "# 1. 导入鸢尾属植物数据集，保持文本不变。\n",
    "import numpy as np\n",
    "url = 'https://archive.ics.uci.edu/ml/machine-learning-databases/iris/iris.data'\n",
    "iris_data = np.loadtxt(url, dtype=object, delimiter=',')"
   ]
  },
  {
   "cell_type": "code",
   "execution_count": null,
   "metadata": {},
   "outputs": [],
   "source": [
    "# 提取出3个类别,所在的行索引\n",
    "setosa_index = np.where(iris_data[...,4] == 'Iris-setosa')\n",
    "\n",
    "versicolor_index = np.where(iris_data[...,4] == 'Iris-versicolor')\n",
    "\n",
    "virginica_index = np.where(iris_data[...,4] == 'Iris-virginica')"
   ]
  },
  {
   "cell_type": "code",
   "execution_count": null,
   "metadata": {},
   "outputs": [],
   "source": [
    "# 分别按类别分组,保存各自的信息\n",
    "setos_arr = iris_data[setosa_index,:-1]\n",
    "\n",
    "versicolor_arr = iris_data[versicolor_index,:-1]\n",
    "\n",
    "virginica_arr = iris_data[virginica_index,:-1]\n"
   ]
  },
  {
   "cell_type": "code",
   "execution_count": null,
   "metadata": {},
   "outputs": [],
   "source": [
    "# 求出鸢尾属植物萼片长度的平均值、中位数和标准差（第1列，sepallength）"
   ]
  }
 ],
 "metadata": {
  "kernelspec": {
   "display_name": "Python 3",
   "language": "python",
   "name": "python3"
  },
  "language_info": {
   "codemirror_mode": {
    "name": "ipython",
    "version": 3
   },
   "file_extension": ".py",
   "mimetype": "text/x-python",
   "name": "python",
   "nbconvert_exporter": "python",
   "pygments_lexer": "ipython3",
   "version": "3.7.6"
  }
 },
 "nbformat": 4,
 "nbformat_minor": 4
}
