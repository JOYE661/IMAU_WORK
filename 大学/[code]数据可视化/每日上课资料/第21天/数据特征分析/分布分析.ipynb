{
 "cells": [
  {
   "cell_type": "markdown",
   "metadata": {},
   "source": [
    "# 二手房分布分析\n",
    "`data/second_hand_ house.csv`\n",
    "\n",
    "- 朝向分布情况\n",
    "- 首付分布情况\n",
    "- "
   ]
  },
  {
   "cell_type": "code",
   "execution_count": 1,
   "metadata": {},
   "outputs": [],
   "source": [
    "import numpy as np\n",
    "import pandas as pd\n",
    "import matplotlib.pyplot as plt\n",
    "plt.rcParams['font.sans-serif'] = 'SimHei'\n",
    "plt.rcParams['axes.unicode_minus'] = False"
   ]
  },
  {
   "cell_type": "code",
   "execution_count": 2,
   "metadata": {},
   "outputs": [
    {
     "data": {
      "text/html": [
       "<div>\n",
       "<style scoped>\n",
       "    .dataframe tbody tr th:only-of-type {\n",
       "        vertical-align: middle;\n",
       "    }\n",
       "\n",
       "    .dataframe tbody tr th {\n",
       "        vertical-align: top;\n",
       "    }\n",
       "\n",
       "    .dataframe thead th {\n",
       "        text-align: right;\n",
       "    }\n",
       "</style>\n",
       "<table border=\"1\" class=\"dataframe\">\n",
       "  <thead>\n",
       "    <tr style=\"text-align: right;\">\n",
       "      <th></th>\n",
       "      <th>房屋编码</th>\n",
       "      <th>小区</th>\n",
       "      <th>朝向</th>\n",
       "      <th>房屋单价</th>\n",
       "      <th>参考首付</th>\n",
       "      <th>参考总价</th>\n",
       "      <th>经度</th>\n",
       "      <th>纬度</th>\n",
       "    </tr>\n",
       "  </thead>\n",
       "  <tbody>\n",
       "    <tr>\n",
       "      <th>0</th>\n",
       "      <td>605093949</td>\n",
       "      <td>大望新平村</td>\n",
       "      <td>南北</td>\n",
       "      <td>5434</td>\n",
       "      <td>15.0</td>\n",
       "      <td>50.0</td>\n",
       "      <td>114.180964</td>\n",
       "      <td>22.603698</td>\n",
       "    </tr>\n",
       "    <tr>\n",
       "      <th>1</th>\n",
       "      <td>605768856</td>\n",
       "      <td>通宝楼</td>\n",
       "      <td>南北</td>\n",
       "      <td>3472</td>\n",
       "      <td>7.5</td>\n",
       "      <td>25.0</td>\n",
       "      <td>114.179298</td>\n",
       "      <td>22.566910</td>\n",
       "    </tr>\n",
       "    <tr>\n",
       "      <th>2</th>\n",
       "      <td>606815561</td>\n",
       "      <td>罗湖区罗芳村</td>\n",
       "      <td>南北</td>\n",
       "      <td>5842</td>\n",
       "      <td>15.6</td>\n",
       "      <td>52.0</td>\n",
       "      <td>114.158869</td>\n",
       "      <td>22.547223</td>\n",
       "    </tr>\n",
       "    <tr>\n",
       "      <th>3</th>\n",
       "      <td>605147285</td>\n",
       "      <td>兴华苑</td>\n",
       "      <td>南北</td>\n",
       "      <td>3829</td>\n",
       "      <td>10.8</td>\n",
       "      <td>36.0</td>\n",
       "      <td>114.158040</td>\n",
       "      <td>22.554343</td>\n",
       "    </tr>\n",
       "    <tr>\n",
       "      <th>4</th>\n",
       "      <td>606030866</td>\n",
       "      <td>京基东方都会</td>\n",
       "      <td>西南</td>\n",
       "      <td>47222</td>\n",
       "      <td>51.0</td>\n",
       "      <td>170.0</td>\n",
       "      <td>114.149243</td>\n",
       "      <td>22.554370</td>\n",
       "    </tr>\n",
       "    <tr>\n",
       "      <th>...</th>\n",
       "      <td>...</td>\n",
       "      <td>...</td>\n",
       "      <td>...</td>\n",
       "      <td>...</td>\n",
       "      <td>...</td>\n",
       "      <td>...</td>\n",
       "      <td>...</td>\n",
       "      <td>...</td>\n",
       "    </tr>\n",
       "    <tr>\n",
       "      <th>70</th>\n",
       "      <td>598258845</td>\n",
       "      <td>三九花园</td>\n",
       "      <td>南</td>\n",
       "      <td>5833</td>\n",
       "      <td>12.6</td>\n",
       "      <td>42.0</td>\n",
       "      <td>114.089539</td>\n",
       "      <td>22.577080</td>\n",
       "    </tr>\n",
       "    <tr>\n",
       "      <th>71</th>\n",
       "      <td>594221866</td>\n",
       "      <td>三九花园</td>\n",
       "      <td>南</td>\n",
       "      <td>5681</td>\n",
       "      <td>15.0</td>\n",
       "      <td>50.0</td>\n",
       "      <td>114.089539</td>\n",
       "      <td>22.577080</td>\n",
       "    </tr>\n",
       "    <tr>\n",
       "      <th>72</th>\n",
       "      <td>606700179</td>\n",
       "      <td>城市春天</td>\n",
       "      <td>南北</td>\n",
       "      <td>3571</td>\n",
       "      <td>7.5</td>\n",
       "      <td>25.0</td>\n",
       "      <td>114.083405</td>\n",
       "      <td>22.539505</td>\n",
       "    </tr>\n",
       "    <tr>\n",
       "      <th>73</th>\n",
       "      <td>603950517</td>\n",
       "      <td>皇御苑</td>\n",
       "      <td>东北</td>\n",
       "      <td>59701</td>\n",
       "      <td>54.0</td>\n",
       "      <td>180.0</td>\n",
       "      <td>114.081795</td>\n",
       "      <td>22.531393</td>\n",
       "    </tr>\n",
       "    <tr>\n",
       "      <th>74</th>\n",
       "      <td>605232094</td>\n",
       "      <td>晨晖家园</td>\n",
       "      <td>南</td>\n",
       "      <td>54285</td>\n",
       "      <td>57.0</td>\n",
       "      <td>190.0</td>\n",
       "      <td>114.067625</td>\n",
       "      <td>22.525508</td>\n",
       "    </tr>\n",
       "  </tbody>\n",
       "</table>\n",
       "<p>75 rows × 8 columns</p>\n",
       "</div>"
      ],
      "text/plain": [
       "         房屋编码      小区  朝向   房屋单价  参考首付   参考总价          经度         纬度\n",
       "0   605093949   大望新平村  南北   5434  15.0   50.0  114.180964  22.603698\n",
       "1   605768856     通宝楼  南北   3472   7.5   25.0  114.179298  22.566910\n",
       "2   606815561  罗湖区罗芳村  南北   5842  15.6   52.0  114.158869  22.547223\n",
       "3   605147285     兴华苑  南北   3829  10.8   36.0  114.158040  22.554343\n",
       "4   606030866  京基东方都会  西南  47222  51.0  170.0  114.149243  22.554370\n",
       "..        ...     ...  ..    ...   ...    ...         ...        ...\n",
       "70  598258845    三九花园   南   5833  12.6   42.0  114.089539  22.577080\n",
       "71  594221866    三九花园   南   5681  15.0   50.0  114.089539  22.577080\n",
       "72  606700179    城市春天  南北   3571   7.5   25.0  114.083405  22.539505\n",
       "73  603950517     皇御苑  东北  59701  54.0  180.0  114.081795  22.531393\n",
       "74  605232094    晨晖家园   南  54285  57.0  190.0  114.067625  22.525508\n",
       "\n",
       "[75 rows x 8 columns]"
      ]
     },
     "execution_count": 2,
     "metadata": {},
     "output_type": "execute_result"
    }
   ],
   "source": [
    "# 读取数据\n",
    "data = pd.read_csv('data/second_hand_ house.csv')\n",
    "data"
   ]
  },
  {
   "cell_type": "markdown",
   "metadata": {},
   "source": [
    "#### 绘制散点图\n",
    "- 经度和维度作为x和y\n",
    "- 按照房屋的单价控制大小  颜色按照参考总价"
   ]
  },
  {
   "cell_type": "code",
   "execution_count": 5,
   "metadata": {
    "scrolled": false
   },
   "outputs": [
    {
     "data": {
      "image/png": "[encoded data removed]",
      "text/plain": [
       "<Figure size 432x288 with 1 Axes>"
      ]
     },
     "metadata": {
      "needs_background": "light"
     },
     "output_type": "display_data"
    }
   ],
   "source": [
    "plt.scatter(data['经度'],\n",
    "            data['纬度'], \n",
    "            s=data['房屋单价']/400, \n",
    "            c=data['参考总价'], # 总价越高,颜色越深\n",
    "            alpha=0.5, # 透明度\n",
    "            cmap=\"Reds\")\n",
    "plt.grid()"
   ]
  },
  {
   "cell_type": "markdown",
   "metadata": {},
   "source": [
    "### 极差：max-min\n",
    "- 只针对定量字段"
   ]
  },
  {
   "cell_type": "code",
   "execution_count": 8,
   "metadata": {},
   "outputs": [
    {
     "data": {
      "text/plain": [
       "52.5"
      ]
     },
     "execution_count": 8,
     "metadata": {},
     "output_type": "execute_result"
    }
   ],
   "source": [
    "### 房价首付的极差\n",
    "data.参考首付.max() - data.参考首付.min()\n",
    "data['参考首付'].max() - data['参考首付'].min()"
   ]
  },
  {
   "cell_type": "code",
   "execution_count": 7,
   "metadata": {},
   "outputs": [
    {
     "data": {
      "text/plain": [
       "175.0"
      ]
     },
     "execution_count": 7,
     "metadata": {},
     "output_type": "execute_result"
    }
   ],
   "source": [
    "### 房价总价的极差\n",
    "data.参考总价.max() - data.参考总价.min()"
   ]
  },
  {
   "cell_type": "markdown",
   "metadata": {},
   "source": [
    "#### 参考总价-频率分布情况\n",
    "① 通过直方图直接判断分组组数"
   ]
  },
  {
   "cell_type": "code",
   "execution_count": 9,
   "metadata": {},
   "outputs": [
    {
     "data": {
      "text/plain": [
       "<matplotlib.axes._subplots.AxesSubplot at 0x132e9b1bdc8>"
      ]
     },
     "execution_count": 9,
     "metadata": {},
     "output_type": "execute_result"
    },
    {
     "data": {
      "image/png": "[encoded data removed]",
      "text/plain": [
       "<Figure size 432x288 with 1 Axes>"
      ]
     },
     "metadata": {
      "needs_background": "light"
     },
     "output_type": "display_data"
    }
   ],
   "source": [
    "data.参考总价.hist(bins=10)\n",
    "# 简单查看数据分布，确定分布组数 → 一般8-16即可"
   ]
  },
  {
   "cell_type": "code",
   "execution_count": 14,
   "metadata": {},
   "outputs": [
    {
     "name": "stdout",
     "output_type": "stream",
     "text": [
      "25.0\n",
      "42.5\n",
      "60.0\n",
      "77.5\n",
      "95.0\n",
      "112.5\n",
      "130.0\n",
      "147.5\n",
      "165.0\n",
      "182.5\n"
     ]
    },
    {
     "data": {
      "text/plain": [
       "200.0"
      ]
     },
     "execution_count": 14,
     "metadata": {},
     "output_type": "execute_result"
    },
    {
     "data": {
      "image/png": "[encoded data removed]",
      "text/plain": [
       "<Figure size 432x288 with 1 Axes>"
      ]
     },
     "metadata": {
      "needs_background": "light"
     },
     "output_type": "display_data"
    }
   ],
   "source": [
    "# 取得高度\n",
    "d_hist = data.参考总价.hist(bins=10)\n",
    "for d in d_hist.patches:\n",
    "    # print(d.get_height())\n",
    "    # 区间\n",
    "    print(d.get_x())\n",
    "data.参考总价.max()"
   ]
  },
  {
   "cell_type": "markdown",
   "metadata": {},
   "source": [
    "###  也可以通过cut方法\n",
    "pandas.cut使用总结\n",
    "\n",
    "用途\n",
    "\n",
    "pandas.cut用来把一组数据分割成离散的区间。比如有一组年龄数据，可以使用pandas.cut将年龄数据分割成不同的年龄段并打上标签。"
   ]
  },
  {
   "cell_type": "markdown",
   "metadata": {},
   "source": [
    "第一个0表示1在第0个bin中"
   ]
  },
  {
   "cell_type": "code",
   "execution_count": 26,
   "metadata": {},
   "outputs": [
    {
     "data": {
      "text/plain": [
       "0         [42.5, 60.0)\n",
       "1         [25.0, 42.5)\n",
       "2         [42.5, 60.0)\n",
       "3         [25.0, 42.5)\n",
       "4       [165.0, 182.5)\n",
       "            ...       \n",
       "70        [25.0, 42.5)\n",
       "71        [42.5, 60.0)\n",
       "72        [25.0, 42.5)\n",
       "73      [165.0, 182.5)\n",
       "74    [182.5, 200.175)\n",
       "Name: 参考总价, Length: 75, dtype: category\n",
       "Categories (10, interval[float64]): [[25.0, 42.5) < [42.5, 60.0) < [60.0, 77.5) < [77.5, 95.0) ... [130.0, 147.5) < [147.5, 165.0) < [165.0, 182.5) < [182.5, 200.175)]"
      ]
     },
     "execution_count": 26,
     "metadata": {},
     "output_type": "execute_result"
    }
   ],
   "source": [
    "gcut = pd.cut(data['参考总价'],10,right=False)\n",
    "gcut"
   ]
  },
  {
   "cell_type": "code",
   "execution_count": 19,
   "metadata": {},
   "outputs": [
    {
     "data": {
      "text/plain": [
       "<bound method IndexOpsMixin.value_counts of 0         [42.5, 60.0)\n",
       "1         [25.0, 42.5)\n",
       "2         [42.5, 60.0)\n",
       "3         [25.0, 42.5)\n",
       "4       [165.0, 182.5)\n",
       "            ...       \n",
       "70        [25.0, 42.5)\n",
       "71        [42.5, 60.0)\n",
       "72        [25.0, 42.5)\n",
       "73      [165.0, 182.5)\n",
       "74    [182.5, 200.175)\n",
       "Name: 参考总价, Length: 75, dtype: category\n",
       "Categories (10, interval[float64]): [[25.0, 42.5) < [42.5, 60.0) < [60.0, 77.5) < [77.5, 95.0) ... [130.0, 147.5) < [147.5, 165.0) < [165.0, 182.5) < [182.5, 200.175)]>"
      ]
     },
     "execution_count": 19,
     "metadata": {},
     "output_type": "execute_result"
    }
   ],
   "source": [
    "gcut.value_counts"
   ]
  },
  {
   "cell_type": "code",
   "execution_count": null,
   "metadata": {},
   "outputs": [],
   "source": []
  },
  {
   "cell_type": "code",
   "execution_count": 20,
   "metadata": {
    "scrolled": true
   },
   "outputs": [
    {
     "data": {
      "text/html": [
       "<div>\n",
       "<style scoped>\n",
       "    .dataframe tbody tr th:only-of-type {\n",
       "        vertical-align: middle;\n",
       "    }\n",
       "\n",
       "    .dataframe tbody tr th {\n",
       "        vertical-align: top;\n",
       "    }\n",
       "\n",
       "    .dataframe thead th {\n",
       "        text-align: right;\n",
       "    }\n",
       "</style>\n",
       "<table border=\"1\" class=\"dataframe\">\n",
       "  <thead>\n",
       "    <tr style=\"text-align: right;\">\n",
       "      <th></th>\n",
       "      <th>房屋编码</th>\n",
       "      <th>小区</th>\n",
       "      <th>朝向</th>\n",
       "      <th>房屋单价</th>\n",
       "      <th>参考首付</th>\n",
       "      <th>参考总价</th>\n",
       "      <th>经度</th>\n",
       "      <th>纬度</th>\n",
       "      <th>参考总价分组区间</th>\n",
       "    </tr>\n",
       "  </thead>\n",
       "  <tbody>\n",
       "    <tr>\n",
       "      <th>0</th>\n",
       "      <td>605093949</td>\n",
       "      <td>大望新平村</td>\n",
       "      <td>南北</td>\n",
       "      <td>5434</td>\n",
       "      <td>15.0</td>\n",
       "      <td>50.0</td>\n",
       "      <td>114.180964</td>\n",
       "      <td>22.603698</td>\n",
       "      <td>[42.5, 60.0)</td>\n",
       "    </tr>\n",
       "    <tr>\n",
       "      <th>1</th>\n",
       "      <td>605768856</td>\n",
       "      <td>通宝楼</td>\n",
       "      <td>南北</td>\n",
       "      <td>3472</td>\n",
       "      <td>7.5</td>\n",
       "      <td>25.0</td>\n",
       "      <td>114.179298</td>\n",
       "      <td>22.566910</td>\n",
       "      <td>[25.0, 42.5)</td>\n",
       "    </tr>\n",
       "    <tr>\n",
       "      <th>2</th>\n",
       "      <td>606815561</td>\n",
       "      <td>罗湖区罗芳村</td>\n",
       "      <td>南北</td>\n",
       "      <td>5842</td>\n",
       "      <td>15.6</td>\n",
       "      <td>52.0</td>\n",
       "      <td>114.158869</td>\n",
       "      <td>22.547223</td>\n",
       "      <td>[42.5, 60.0)</td>\n",
       "    </tr>\n",
       "    <tr>\n",
       "      <th>3</th>\n",
       "      <td>605147285</td>\n",
       "      <td>兴华苑</td>\n",
       "      <td>南北</td>\n",
       "      <td>3829</td>\n",
       "      <td>10.8</td>\n",
       "      <td>36.0</td>\n",
       "      <td>114.158040</td>\n",
       "      <td>22.554343</td>\n",
       "      <td>[25.0, 42.5)</td>\n",
       "    </tr>\n",
       "    <tr>\n",
       "      <th>4</th>\n",
       "      <td>606030866</td>\n",
       "      <td>京基东方都会</td>\n",
       "      <td>西南</td>\n",
       "      <td>47222</td>\n",
       "      <td>51.0</td>\n",
       "      <td>170.0</td>\n",
       "      <td>114.149243</td>\n",
       "      <td>22.554370</td>\n",
       "      <td>[165.0, 182.5)</td>\n",
       "    </tr>\n",
       "  </tbody>\n",
       "</table>\n",
       "</div>"
      ],
      "text/plain": [
       "        房屋编码      小区  朝向   房屋单价  参考首付   参考总价          经度         纬度  \\\n",
       "0  605093949   大望新平村  南北   5434  15.0   50.0  114.180964  22.603698   \n",
       "1  605768856     通宝楼  南北   3472   7.5   25.0  114.179298  22.566910   \n",
       "2  606815561  罗湖区罗芳村  南北   5842  15.6   52.0  114.158869  22.547223   \n",
       "3  605147285     兴华苑  南北   3829  10.8   36.0  114.158040  22.554343   \n",
       "4  606030866  京基东方都会  西南  47222  51.0  170.0  114.149243  22.554370   \n",
       "\n",
       "         参考总价分组区间  \n",
       "0    [42.5, 60.0)  \n",
       "1    [25.0, 42.5)  \n",
       "2    [42.5, 60.0)  \n",
       "3    [25.0, 42.5)  \n",
       "4  [165.0, 182.5)  "
      ]
     },
     "execution_count": 20,
     "metadata": {},
     "output_type": "execute_result"
    }
   ],
   "source": [
    "gcut = pd.cut(data['参考总价'],10,right=False)\n",
    "#gcut_count = gcut.value_counts(sort=False)  # 不排序\n",
    "data['参考总价分组区间'] = gcut.values\n",
    "data.head()"
   ]
  },
  {
   "cell_type": "markdown",
   "metadata": {},
   "source": [
    "③  求出目标字段下频率分布的其他统计量 → 频数，频率，累计频率\n",
    "\n",
    "分组区间,每个区间的频率"
   ]
  },
  {
   "cell_type": "code",
   "execution_count": 27,
   "metadata": {
    "scrolled": true
   },
   "outputs": [
    {
     "data": {
      "text/plain": [
       "[25.0, 42.5)        14\n",
       "[42.5, 60.0)        17\n",
       "[60.0, 77.5)         1\n",
       "[77.5, 95.0)         2\n",
       "[95.0, 112.5)        4\n",
       "[112.5, 130.0)       2\n",
       "[130.0, 147.5)       3\n",
       "[147.5, 165.0)       4\n",
       "[165.0, 182.5)       8\n",
       "[182.5, 200.175)    20\n",
       "Name: 参考总价, dtype: int64"
      ]
     },
     "execution_count": 27,
     "metadata": {},
     "output_type": "execute_result"
    }
   ],
   "source": [
    "gcut_count = gcut.value_counts(sort=False)\n",
    "gcut_count"
   ]
  },
  {
   "cell_type": "code",
   "execution_count": 30,
   "metadata": {},
   "outputs": [],
   "source": [
    "r_zj = pd.DataFrame(gcut_count)\n",
    "r_zj.rename(columns ={gcut_count.name:'频数'}, inplace = True)"
   ]
  },
  {
   "cell_type": "code",
   "execution_count": 32,
   "metadata": {},
   "outputs": [
    {
     "data": {
      "text/plain": [
       "75"
      ]
     },
     "execution_count": 32,
     "metadata": {},
     "output_type": "execute_result"
    }
   ],
   "source": [
    "r_zj['频数'].sum()"
   ]
  },
  {
   "cell_type": "code",
   "execution_count": 34,
   "metadata": {
    "scrolled": true
   },
   "outputs": [
    {
     "data": {
      "text/html": [
       "<style  type=\"text/css\" >\n",
       "    #T_59f839ac_d4ed_11ec_86b4_38b1dbd15c05row0_col1 {\n",
       "            width:  10em;\n",
       "             height:  80%;\n",
       "            background:  linear-gradient(90deg,green 68.4%, transparent 68.4%);\n",
       "        }    #T_59f839ac_d4ed_11ec_86b4_38b1dbd15c05row0_col2 {\n",
       "            width:  10em;\n",
       "             height:  80%;\n",
       "        }    #T_59f839ac_d4ed_11ec_86b4_38b1dbd15c05row1_col1 {\n",
       "            width:  10em;\n",
       "             height:  80%;\n",
       "            background:  linear-gradient(90deg,green 84.2%, transparent 84.2%);\n",
       "        }    #T_59f839ac_d4ed_11ec_86b4_38b1dbd15c05row1_col2 {\n",
       "            width:  10em;\n",
       "             height:  80%;\n",
       "            background:  linear-gradient(90deg,green 27.9%, transparent 27.9%);\n",
       "        }    #T_59f839ac_d4ed_11ec_86b4_38b1dbd15c05row2_col1 {\n",
       "            width:  10em;\n",
       "             height:  80%;\n",
       "        }    #T_59f839ac_d4ed_11ec_86b4_38b1dbd15c05row2_col2 {\n",
       "            width:  10em;\n",
       "             height:  80%;\n",
       "            background:  linear-gradient(90deg,green 29.5%, transparent 29.5%);\n",
       "        }    #T_59f839ac_d4ed_11ec_86b4_38b1dbd15c05row3_col1 {\n",
       "            width:  10em;\n",
       "             height:  80%;\n",
       "            background:  linear-gradient(90deg,green 5.3%, transparent 5.3%);\n",
       "        }    #T_59f839ac_d4ed_11ec_86b4_38b1dbd15c05row3_col2 {\n",
       "            width:  10em;\n",
       "             height:  80%;\n",
       "            background:  linear-gradient(90deg,green 32.8%, transparent 32.8%);\n",
       "        }    #T_59f839ac_d4ed_11ec_86b4_38b1dbd15c05row4_col1 {\n",
       "            width:  10em;\n",
       "             height:  80%;\n",
       "            background:  linear-gradient(90deg,green 15.8%, transparent 15.8%);\n",
       "        }    #T_59f839ac_d4ed_11ec_86b4_38b1dbd15c05row4_col2 {\n",
       "            width:  10em;\n",
       "             height:  80%;\n",
       "            background:  linear-gradient(90deg,green 39.3%, transparent 39.3%);\n",
       "        }    #T_59f839ac_d4ed_11ec_86b4_38b1dbd15c05row5_col1 {\n",
       "            width:  10em;\n",
       "             height:  80%;\n",
       "            background:  linear-gradient(90deg,green 5.3%, transparent 5.3%);\n",
       "        }    #T_59f839ac_d4ed_11ec_86b4_38b1dbd15c05row5_col2 {\n",
       "            width:  10em;\n",
       "             height:  80%;\n",
       "            background:  linear-gradient(90deg,green 42.6%, transparent 42.6%);\n",
       "        }    #T_59f839ac_d4ed_11ec_86b4_38b1dbd15c05row6_col1 {\n",
       "            width:  10em;\n",
       "             height:  80%;\n",
       "            background:  linear-gradient(90deg,green 10.5%, transparent 10.5%);\n",
       "        }    #T_59f839ac_d4ed_11ec_86b4_38b1dbd15c05row6_col2 {\n",
       "            width:  10em;\n",
       "             height:  80%;\n",
       "            background:  linear-gradient(90deg,green 47.5%, transparent 47.5%);\n",
       "        }    #T_59f839ac_d4ed_11ec_86b4_38b1dbd15c05row7_col1 {\n",
       "            width:  10em;\n",
       "             height:  80%;\n",
       "            background:  linear-gradient(90deg,green 15.8%, transparent 15.8%);\n",
       "        }    #T_59f839ac_d4ed_11ec_86b4_38b1dbd15c05row7_col2 {\n",
       "            width:  10em;\n",
       "             height:  80%;\n",
       "            background:  linear-gradient(90deg,green 54.1%, transparent 54.1%);\n",
       "        }    #T_59f839ac_d4ed_11ec_86b4_38b1dbd15c05row8_col1 {\n",
       "            width:  10em;\n",
       "             height:  80%;\n",
       "            background:  linear-gradient(90deg,green 36.8%, transparent 36.8%);\n",
       "        }    #T_59f839ac_d4ed_11ec_86b4_38b1dbd15c05row8_col2 {\n",
       "            width:  10em;\n",
       "             height:  80%;\n",
       "            background:  linear-gradient(90deg,green 67.2%, transparent 67.2%);\n",
       "        }    #T_59f839ac_d4ed_11ec_86b4_38b1dbd15c05row9_col1 {\n",
       "            width:  10em;\n",
       "             height:  80%;\n",
       "            background:  linear-gradient(90deg,green 100.0%, transparent 100.0%);\n",
       "        }    #T_59f839ac_d4ed_11ec_86b4_38b1dbd15c05row9_col2 {\n",
       "            width:  10em;\n",
       "             height:  80%;\n",
       "            background:  linear-gradient(90deg,green 100.0%, transparent 100.0%);\n",
       "        }</style><table id=\"T_59f839ac_d4ed_11ec_86b4_38b1dbd15c05\" ><thead>    <tr>        <th class=\"blank level0\" ></th>        <th class=\"col_heading level0 col0\" >频数</th>        <th class=\"col_heading level0 col1\" >频率</th>        <th class=\"col_heading level0 col2\" >累计频率</th>        <th class=\"col_heading level0 col3\" >频率%</th>        <th class=\"col_heading level0 col4\" >累计频率%</th>    </tr></thead><tbody>\n",
       "                <tr>\n",
       "                        <th id=\"T_59f839ac_d4ed_11ec_86b4_38b1dbd15c05level0_row0\" class=\"row_heading level0 row0\" >[25.0, 42.5)</th>\n",
       "                        <td id=\"T_59f839ac_d4ed_11ec_86b4_38b1dbd15c05row0_col0\" class=\"data row0 col0\" >14</td>\n",
       "                        <td id=\"T_59f839ac_d4ed_11ec_86b4_38b1dbd15c05row0_col1\" class=\"data row0 col1\" >0.186667</td>\n",
       "                        <td id=\"T_59f839ac_d4ed_11ec_86b4_38b1dbd15c05row0_col2\" class=\"data row0 col2\" >0.186667</td>\n",
       "                        <td id=\"T_59f839ac_d4ed_11ec_86b4_38b1dbd15c05row0_col3\" class=\"data row0 col3\" >18.67%</td>\n",
       "                        <td id=\"T_59f839ac_d4ed_11ec_86b4_38b1dbd15c05row0_col4\" class=\"data row0 col4\" >18.67%</td>\n",
       "            </tr>\n",
       "            <tr>\n",
       "                        <th id=\"T_59f839ac_d4ed_11ec_86b4_38b1dbd15c05level0_row1\" class=\"row_heading level0 row1\" >[42.5, 60.0)</th>\n",
       "                        <td id=\"T_59f839ac_d4ed_11ec_86b4_38b1dbd15c05row1_col0\" class=\"data row1 col0\" >17</td>\n",
       "                        <td id=\"T_59f839ac_d4ed_11ec_86b4_38b1dbd15c05row1_col1\" class=\"data row1 col1\" >0.226667</td>\n",
       "                        <td id=\"T_59f839ac_d4ed_11ec_86b4_38b1dbd15c05row1_col2\" class=\"data row1 col2\" >0.413333</td>\n",
       "                        <td id=\"T_59f839ac_d4ed_11ec_86b4_38b1dbd15c05row1_col3\" class=\"data row1 col3\" >22.67%</td>\n",
       "                        <td id=\"T_59f839ac_d4ed_11ec_86b4_38b1dbd15c05row1_col4\" class=\"data row1 col4\" >41.33%</td>\n",
       "            </tr>\n",
       "            <tr>\n",
       "                        <th id=\"T_59f839ac_d4ed_11ec_86b4_38b1dbd15c05level0_row2\" class=\"row_heading level0 row2\" >[60.0, 77.5)</th>\n",
       "                        <td id=\"T_59f839ac_d4ed_11ec_86b4_38b1dbd15c05row2_col0\" class=\"data row2 col0\" >1</td>\n",
       "                        <td id=\"T_59f839ac_d4ed_11ec_86b4_38b1dbd15c05row2_col1\" class=\"data row2 col1\" >0.013333</td>\n",
       "                        <td id=\"T_59f839ac_d4ed_11ec_86b4_38b1dbd15c05row2_col2\" class=\"data row2 col2\" >0.426667</td>\n",
       "                        <td id=\"T_59f839ac_d4ed_11ec_86b4_38b1dbd15c05row2_col3\" class=\"data row2 col3\" >1.33%</td>\n",
       "                        <td id=\"T_59f839ac_d4ed_11ec_86b4_38b1dbd15c05row2_col4\" class=\"data row2 col4\" >42.67%</td>\n",
       "            </tr>\n",
       "            <tr>\n",
       "                        <th id=\"T_59f839ac_d4ed_11ec_86b4_38b1dbd15c05level0_row3\" class=\"row_heading level0 row3\" >[77.5, 95.0)</th>\n",
       "                        <td id=\"T_59f839ac_d4ed_11ec_86b4_38b1dbd15c05row3_col0\" class=\"data row3 col0\" >2</td>\n",
       "                        <td id=\"T_59f839ac_d4ed_11ec_86b4_38b1dbd15c05row3_col1\" class=\"data row3 col1\" >0.026667</td>\n",
       "                        <td id=\"T_59f839ac_d4ed_11ec_86b4_38b1dbd15c05row3_col2\" class=\"data row3 col2\" >0.453333</td>\n",
       "                        <td id=\"T_59f839ac_d4ed_11ec_86b4_38b1dbd15c05row3_col3\" class=\"data row3 col3\" >2.67%</td>\n",
       "                        <td id=\"T_59f839ac_d4ed_11ec_86b4_38b1dbd15c05row3_col4\" class=\"data row3 col4\" >45.33%</td>\n",
       "            </tr>\n",
       "            <tr>\n",
       "                        <th id=\"T_59f839ac_d4ed_11ec_86b4_38b1dbd15c05level0_row4\" class=\"row_heading level0 row4\" >[95.0, 112.5)</th>\n",
       "                        <td id=\"T_59f839ac_d4ed_11ec_86b4_38b1dbd15c05row4_col0\" class=\"data row4 col0\" >4</td>\n",
       "                        <td id=\"T_59f839ac_d4ed_11ec_86b4_38b1dbd15c05row4_col1\" class=\"data row4 col1\" >0.053333</td>\n",
       "                        <td id=\"T_59f839ac_d4ed_11ec_86b4_38b1dbd15c05row4_col2\" class=\"data row4 col2\" >0.506667</td>\n",
       "                        <td id=\"T_59f839ac_d4ed_11ec_86b4_38b1dbd15c05row4_col3\" class=\"data row4 col3\" >5.33%</td>\n",
       "                        <td id=\"T_59f839ac_d4ed_11ec_86b4_38b1dbd15c05row4_col4\" class=\"data row4 col4\" >50.67%</td>\n",
       "            </tr>\n",
       "            <tr>\n",
       "                        <th id=\"T_59f839ac_d4ed_11ec_86b4_38b1dbd15c05level0_row5\" class=\"row_heading level0 row5\" >[112.5, 130.0)</th>\n",
       "                        <td id=\"T_59f839ac_d4ed_11ec_86b4_38b1dbd15c05row5_col0\" class=\"data row5 col0\" >2</td>\n",
       "                        <td id=\"T_59f839ac_d4ed_11ec_86b4_38b1dbd15c05row5_col1\" class=\"data row5 col1\" >0.026667</td>\n",
       "                        <td id=\"T_59f839ac_d4ed_11ec_86b4_38b1dbd15c05row5_col2\" class=\"data row5 col2\" >0.533333</td>\n",
       "                        <td id=\"T_59f839ac_d4ed_11ec_86b4_38b1dbd15c05row5_col3\" class=\"data row5 col3\" >2.67%</td>\n",
       "                        <td id=\"T_59f839ac_d4ed_11ec_86b4_38b1dbd15c05row5_col4\" class=\"data row5 col4\" >53.33%</td>\n",
       "            </tr>\n",
       "            <tr>\n",
       "                        <th id=\"T_59f839ac_d4ed_11ec_86b4_38b1dbd15c05level0_row6\" class=\"row_heading level0 row6\" >[130.0, 147.5)</th>\n",
       "                        <td id=\"T_59f839ac_d4ed_11ec_86b4_38b1dbd15c05row6_col0\" class=\"data row6 col0\" >3</td>\n",
       "                        <td id=\"T_59f839ac_d4ed_11ec_86b4_38b1dbd15c05row6_col1\" class=\"data row6 col1\" >0.040000</td>\n",
       "                        <td id=\"T_59f839ac_d4ed_11ec_86b4_38b1dbd15c05row6_col2\" class=\"data row6 col2\" >0.573333</td>\n",
       "                        <td id=\"T_59f839ac_d4ed_11ec_86b4_38b1dbd15c05row6_col3\" class=\"data row6 col3\" >4.00%</td>\n",
       "                        <td id=\"T_59f839ac_d4ed_11ec_86b4_38b1dbd15c05row6_col4\" class=\"data row6 col4\" >57.33%</td>\n",
       "            </tr>\n",
       "            <tr>\n",
       "                        <th id=\"T_59f839ac_d4ed_11ec_86b4_38b1dbd15c05level0_row7\" class=\"row_heading level0 row7\" >[147.5, 165.0)</th>\n",
       "                        <td id=\"T_59f839ac_d4ed_11ec_86b4_38b1dbd15c05row7_col0\" class=\"data row7 col0\" >4</td>\n",
       "                        <td id=\"T_59f839ac_d4ed_11ec_86b4_38b1dbd15c05row7_col1\" class=\"data row7 col1\" >0.053333</td>\n",
       "                        <td id=\"T_59f839ac_d4ed_11ec_86b4_38b1dbd15c05row7_col2\" class=\"data row7 col2\" >0.626667</td>\n",
       "                        <td id=\"T_59f839ac_d4ed_11ec_86b4_38b1dbd15c05row7_col3\" class=\"data row7 col3\" >5.33%</td>\n",
       "                        <td id=\"T_59f839ac_d4ed_11ec_86b4_38b1dbd15c05row7_col4\" class=\"data row7 col4\" >62.67%</td>\n",
       "            </tr>\n",
       "            <tr>\n",
       "                        <th id=\"T_59f839ac_d4ed_11ec_86b4_38b1dbd15c05level0_row8\" class=\"row_heading level0 row8\" >[165.0, 182.5)</th>\n",
       "                        <td id=\"T_59f839ac_d4ed_11ec_86b4_38b1dbd15c05row8_col0\" class=\"data row8 col0\" >8</td>\n",
       "                        <td id=\"T_59f839ac_d4ed_11ec_86b4_38b1dbd15c05row8_col1\" class=\"data row8 col1\" >0.106667</td>\n",
       "                        <td id=\"T_59f839ac_d4ed_11ec_86b4_38b1dbd15c05row8_col2\" class=\"data row8 col2\" >0.733333</td>\n",
       "                        <td id=\"T_59f839ac_d4ed_11ec_86b4_38b1dbd15c05row8_col3\" class=\"data row8 col3\" >10.67%</td>\n",
       "                        <td id=\"T_59f839ac_d4ed_11ec_86b4_38b1dbd15c05row8_col4\" class=\"data row8 col4\" >73.33%</td>\n",
       "            </tr>\n",
       "            <tr>\n",
       "                        <th id=\"T_59f839ac_d4ed_11ec_86b4_38b1dbd15c05level0_row9\" class=\"row_heading level0 row9\" >[182.5, 200.175)</th>\n",
       "                        <td id=\"T_59f839ac_d4ed_11ec_86b4_38b1dbd15c05row9_col0\" class=\"data row9 col0\" >20</td>\n",
       "                        <td id=\"T_59f839ac_d4ed_11ec_86b4_38b1dbd15c05row9_col1\" class=\"data row9 col1\" >0.266667</td>\n",
       "                        <td id=\"T_59f839ac_d4ed_11ec_86b4_38b1dbd15c05row9_col2\" class=\"data row9 col2\" >1.000000</td>\n",
       "                        <td id=\"T_59f839ac_d4ed_11ec_86b4_38b1dbd15c05row9_col3\" class=\"data row9 col3\" >26.67%</td>\n",
       "                        <td id=\"T_59f839ac_d4ed_11ec_86b4_38b1dbd15c05row9_col4\" class=\"data row9 col4\" >100.00%</td>\n",
       "            </tr>\n",
       "    </tbody></table>"
      ],
      "text/plain": [
       "<pandas.io.formats.style.Styler at 0x132e9f58908>"
      ]
     },
     "execution_count": 34,
     "metadata": {},
     "output_type": "execute_result"
    }
   ],
   "source": [
    "# 将gcut_count 转为DataFrame类型\n",
    "r_zj = pd.DataFrame(gcut_count)\n",
    "r_zj.rename(columns ={gcut_count.name:'频数'}, inplace = True)  # 修改频数字段名\n",
    "\n",
    "r_zj['频率'] = r_zj / r_zj['频数'].sum()  # 计算频率\n",
    "\n",
    "r_zj['累计频率'] = r_zj['频率'].cumsum()  # 计算累计频率\n",
    "\n",
    "r_zj['频率%'] = r_zj['频率'].apply(lambda x: \"%.2f%%\" % (x*100))  # 以百分比显示频率\n",
    "r_zj['累计频率%'] = r_zj['累计频率'].apply(lambda x: \"%.2f%%\" % (x*100))  # 以百分比显示累计频率\n",
    "r_zj.style.bar(subset=['频率','累计频率'], color='green',width=100)"
   ]
  },
  {
   "cell_type": "code",
   "execution_count": 36,
   "metadata": {},
   "outputs": [
    {
     "data": {
      "text/plain": [
       "[25.0, 42.5)        0.186667\n",
       "[42.5, 60.0)        0.226667\n",
       "[60.0, 77.5)        0.013333\n",
       "[77.5, 95.0)        0.026667\n",
       "[95.0, 112.5)       0.053333\n",
       "[112.5, 130.0)      0.026667\n",
       "[130.0, 147.5)      0.040000\n",
       "[147.5, 165.0)      0.053333\n",
       "[165.0, 182.5)      0.106667\n",
       "[182.5, 200.175)    0.266667\n",
       "Name: 频率, dtype: float64"
      ]
     },
     "execution_count": 36,
     "metadata": {},
     "output_type": "execute_result"
    }
   ],
   "source": [
    "r_zj['频率']"
   ]
  },
  {
   "cell_type": "code",
   "execution_count": 38,
   "metadata": {},
   "outputs": [
    {
     "data": {
      "image/png": "[encoded data removed]",
      "text/plain": [
       "<Figure size 864x144 with 1 Axes>"
      ]
     },
     "metadata": {
      "needs_background": "light"
     },
     "output_type": "display_data"
    }
   ],
   "source": [
    "# 频率分布情况 - 定量字段\n",
    "# ④ 绘制频率直方图\n",
    "# 中文设置\n",
    "r_zj['频率'].plot(kind = 'bar',\n",
    "                 width = 0.8,\n",
    "                 figsize = (12,2),\n",
    "                 rot = 0,\n",
    "                 color = 'k',\n",
    "                 grid = True,\n",
    "                 alpha = 0.5)\n",
    "plt.title('参考总价分布频率直方图')\n",
    "# 绘制直方图\n",
    "\n",
    "x = len(r_zj)\n",
    "y = r_zj['频率']\n",
    "m = r_zj['频数']\n",
    "for i,j,k in zip(range(x),y,m):\n",
    "    plt.text(i-0.1,j+0.01,'%i' % k, color = 'k')"
   ]
  },
  {
   "cell_type": "code",
   "execution_count": 39,
   "metadata": {},
   "outputs": [
    {
     "name": "stdout",
     "output_type": "stream",
     "text": [
      "南北    29\n",
      "南     20\n",
      "东      8\n",
      "东南     5\n",
      "西南     4\n",
      "北      4\n",
      "西北     3\n",
      "东北     1\n",
      "东西     1\n",
      "Name: 朝向, dtype: int64\n"
     ]
    },
    {
     "data": {
      "text/html": [
       "<style  type=\"text/css\" >\n",
       "    #T_acace4a2_d4ed_11ec_87be_38b1dbd15c05row0_col1 {\n",
       "            width:  10em;\n",
       "             height:  80%;\n",
       "            background:  linear-gradient(90deg,#d65f5f 100.0%, transparent 100.0%);\n",
       "        }    #T_acace4a2_d4ed_11ec_87be_38b1dbd15c05row0_col2 {\n",
       "            width:  10em;\n",
       "             height:  80%;\n",
       "        }    #T_acace4a2_d4ed_11ec_87be_38b1dbd15c05row1_col1 {\n",
       "            width:  10em;\n",
       "             height:  80%;\n",
       "            background:  linear-gradient(90deg,#d65f5f 67.9%, transparent 67.9%);\n",
       "        }    #T_acace4a2_d4ed_11ec_87be_38b1dbd15c05row1_col2 {\n",
       "            width:  10em;\n",
       "             height:  80%;\n",
       "            background:  linear-gradient(90deg,#d65f5f 43.5%, transparent 43.5%);\n",
       "        }    #T_acace4a2_d4ed_11ec_87be_38b1dbd15c05row2_col1 {\n",
       "            width:  10em;\n",
       "             height:  80%;\n",
       "            background:  linear-gradient(90deg,#d65f5f 25.0%, transparent 25.0%);\n",
       "        }    #T_acace4a2_d4ed_11ec_87be_38b1dbd15c05row2_col2 {\n",
       "            width:  10em;\n",
       "             height:  80%;\n",
       "            background:  linear-gradient(90deg,#d65f5f 60.9%, transparent 60.9%);\n",
       "        }    #T_acace4a2_d4ed_11ec_87be_38b1dbd15c05row3_col1 {\n",
       "            width:  10em;\n",
       "             height:  80%;\n",
       "            background:  linear-gradient(90deg,#d65f5f 14.3%, transparent 14.3%);\n",
       "        }    #T_acace4a2_d4ed_11ec_87be_38b1dbd15c05row3_col2 {\n",
       "            width:  10em;\n",
       "             height:  80%;\n",
       "            background:  linear-gradient(90deg,#d65f5f 71.7%, transparent 71.7%);\n",
       "        }    #T_acace4a2_d4ed_11ec_87be_38b1dbd15c05row4_col1 {\n",
       "            width:  10em;\n",
       "             height:  80%;\n",
       "            background:  linear-gradient(90deg,#d65f5f 10.7%, transparent 10.7%);\n",
       "        }    #T_acace4a2_d4ed_11ec_87be_38b1dbd15c05row4_col2 {\n",
       "            width:  10em;\n",
       "             height:  80%;\n",
       "            background:  linear-gradient(90deg,#d65f5f 80.4%, transparent 80.4%);\n",
       "        }    #T_acace4a2_d4ed_11ec_87be_38b1dbd15c05row5_col1 {\n",
       "            width:  10em;\n",
       "             height:  80%;\n",
       "            background:  linear-gradient(90deg,#d65f5f 10.7%, transparent 10.7%);\n",
       "        }    #T_acace4a2_d4ed_11ec_87be_38b1dbd15c05row5_col2 {\n",
       "            width:  10em;\n",
       "             height:  80%;\n",
       "            background:  linear-gradient(90deg,#d65f5f 89.1%, transparent 89.1%);\n",
       "        }    #T_acace4a2_d4ed_11ec_87be_38b1dbd15c05row6_col1 {\n",
       "            width:  10em;\n",
       "             height:  80%;\n",
       "            background:  linear-gradient(90deg,#d65f5f 7.1%, transparent 7.1%);\n",
       "        }    #T_acace4a2_d4ed_11ec_87be_38b1dbd15c05row6_col2 {\n",
       "            width:  10em;\n",
       "             height:  80%;\n",
       "            background:  linear-gradient(90deg,#d65f5f 95.7%, transparent 95.7%);\n",
       "        }    #T_acace4a2_d4ed_11ec_87be_38b1dbd15c05row7_col1 {\n",
       "            width:  10em;\n",
       "             height:  80%;\n",
       "        }    #T_acace4a2_d4ed_11ec_87be_38b1dbd15c05row7_col2 {\n",
       "            width:  10em;\n",
       "             height:  80%;\n",
       "            background:  linear-gradient(90deg,#d65f5f 97.8%, transparent 97.8%);\n",
       "        }    #T_acace4a2_d4ed_11ec_87be_38b1dbd15c05row8_col1 {\n",
       "            width:  10em;\n",
       "             height:  80%;\n",
       "        }    #T_acace4a2_d4ed_11ec_87be_38b1dbd15c05row8_col2 {\n",
       "            width:  10em;\n",
       "             height:  80%;\n",
       "            background:  linear-gradient(90deg,#d65f5f 100.0%, transparent 100.0%);\n",
       "        }</style><table id=\"T_acace4a2_d4ed_11ec_87be_38b1dbd15c05\" ><thead>    <tr>        <th class=\"blank level0\" ></th>        <th class=\"col_heading level0 col0\" >频数</th>        <th class=\"col_heading level0 col1\" >频率</th>        <th class=\"col_heading level0 col2\" >累计频率</th>        <th class=\"col_heading level0 col3\" >频率%</th>        <th class=\"col_heading level0 col4\" >累计频率%</th>    </tr></thead><tbody>\n",
       "                <tr>\n",
       "                        <th id=\"T_acace4a2_d4ed_11ec_87be_38b1dbd15c05level0_row0\" class=\"row_heading level0 row0\" >南北</th>\n",
       "                        <td id=\"T_acace4a2_d4ed_11ec_87be_38b1dbd15c05row0_col0\" class=\"data row0 col0\" >29</td>\n",
       "                        <td id=\"T_acace4a2_d4ed_11ec_87be_38b1dbd15c05row0_col1\" class=\"data row0 col1\" >0.386667</td>\n",
       "                        <td id=\"T_acace4a2_d4ed_11ec_87be_38b1dbd15c05row0_col2\" class=\"data row0 col2\" >0.386667</td>\n",
       "                        <td id=\"T_acace4a2_d4ed_11ec_87be_38b1dbd15c05row0_col3\" class=\"data row0 col3\" >38.67%</td>\n",
       "                        <td id=\"T_acace4a2_d4ed_11ec_87be_38b1dbd15c05row0_col4\" class=\"data row0 col4\" >38.67%</td>\n",
       "            </tr>\n",
       "            <tr>\n",
       "                        <th id=\"T_acace4a2_d4ed_11ec_87be_38b1dbd15c05level0_row1\" class=\"row_heading level0 row1\" >南</th>\n",
       "                        <td id=\"T_acace4a2_d4ed_11ec_87be_38b1dbd15c05row1_col0\" class=\"data row1 col0\" >20</td>\n",
       "                        <td id=\"T_acace4a2_d4ed_11ec_87be_38b1dbd15c05row1_col1\" class=\"data row1 col1\" >0.266667</td>\n",
       "                        <td id=\"T_acace4a2_d4ed_11ec_87be_38b1dbd15c05row1_col2\" class=\"data row1 col2\" >0.653333</td>\n",
       "                        <td id=\"T_acace4a2_d4ed_11ec_87be_38b1dbd15c05row1_col3\" class=\"data row1 col3\" >26.67%</td>\n",
       "                        <td id=\"T_acace4a2_d4ed_11ec_87be_38b1dbd15c05row1_col4\" class=\"data row1 col4\" >65.33%</td>\n",
       "            </tr>\n",
       "            <tr>\n",
       "                        <th id=\"T_acace4a2_d4ed_11ec_87be_38b1dbd15c05level0_row2\" class=\"row_heading level0 row2\" >东</th>\n",
       "                        <td id=\"T_acace4a2_d4ed_11ec_87be_38b1dbd15c05row2_col0\" class=\"data row2 col0\" >8</td>\n",
       "                        <td id=\"T_acace4a2_d4ed_11ec_87be_38b1dbd15c05row2_col1\" class=\"data row2 col1\" >0.106667</td>\n",
       "                        <td id=\"T_acace4a2_d4ed_11ec_87be_38b1dbd15c05row2_col2\" class=\"data row2 col2\" >0.760000</td>\n",
       "                        <td id=\"T_acace4a2_d4ed_11ec_87be_38b1dbd15c05row2_col3\" class=\"data row2 col3\" >10.67%</td>\n",
       "                        <td id=\"T_acace4a2_d4ed_11ec_87be_38b1dbd15c05row2_col4\" class=\"data row2 col4\" >76.00%</td>\n",
       "            </tr>\n",
       "            <tr>\n",
       "                        <th id=\"T_acace4a2_d4ed_11ec_87be_38b1dbd15c05level0_row3\" class=\"row_heading level0 row3\" >东南</th>\n",
       "                        <td id=\"T_acace4a2_d4ed_11ec_87be_38b1dbd15c05row3_col0\" class=\"data row3 col0\" >5</td>\n",
       "                        <td id=\"T_acace4a2_d4ed_11ec_87be_38b1dbd15c05row3_col1\" class=\"data row3 col1\" >0.066667</td>\n",
       "                        <td id=\"T_acace4a2_d4ed_11ec_87be_38b1dbd15c05row3_col2\" class=\"data row3 col2\" >0.826667</td>\n",
       "                        <td id=\"T_acace4a2_d4ed_11ec_87be_38b1dbd15c05row3_col3\" class=\"data row3 col3\" >6.67%</td>\n",
       "                        <td id=\"T_acace4a2_d4ed_11ec_87be_38b1dbd15c05row3_col4\" class=\"data row3 col4\" >82.67%</td>\n",
       "            </tr>\n",
       "            <tr>\n",
       "                        <th id=\"T_acace4a2_d4ed_11ec_87be_38b1dbd15c05level0_row4\" class=\"row_heading level0 row4\" >西南</th>\n",
       "                        <td id=\"T_acace4a2_d4ed_11ec_87be_38b1dbd15c05row4_col0\" class=\"data row4 col0\" >4</td>\n",
       "                        <td id=\"T_acace4a2_d4ed_11ec_87be_38b1dbd15c05row4_col1\" class=\"data row4 col1\" >0.053333</td>\n",
       "                        <td id=\"T_acace4a2_d4ed_11ec_87be_38b1dbd15c05row4_col2\" class=\"data row4 col2\" >0.880000</td>\n",
       "                        <td id=\"T_acace4a2_d4ed_11ec_87be_38b1dbd15c05row4_col3\" class=\"data row4 col3\" >5.33%</td>\n",
       "                        <td id=\"T_acace4a2_d4ed_11ec_87be_38b1dbd15c05row4_col4\" class=\"data row4 col4\" >88.00%</td>\n",
       "            </tr>\n",
       "            <tr>\n",
       "                        <th id=\"T_acace4a2_d4ed_11ec_87be_38b1dbd15c05level0_row5\" class=\"row_heading level0 row5\" >北</th>\n",
       "                        <td id=\"T_acace4a2_d4ed_11ec_87be_38b1dbd15c05row5_col0\" class=\"data row5 col0\" >4</td>\n",
       "                        <td id=\"T_acace4a2_d4ed_11ec_87be_38b1dbd15c05row5_col1\" class=\"data row5 col1\" >0.053333</td>\n",
       "                        <td id=\"T_acace4a2_d4ed_11ec_87be_38b1dbd15c05row5_col2\" class=\"data row5 col2\" >0.933333</td>\n",
       "                        <td id=\"T_acace4a2_d4ed_11ec_87be_38b1dbd15c05row5_col3\" class=\"data row5 col3\" >5.33%</td>\n",
       "                        <td id=\"T_acace4a2_d4ed_11ec_87be_38b1dbd15c05row5_col4\" class=\"data row5 col4\" >93.33%</td>\n",
       "            </tr>\n",
       "            <tr>\n",
       "                        <th id=\"T_acace4a2_d4ed_11ec_87be_38b1dbd15c05level0_row6\" class=\"row_heading level0 row6\" >西北</th>\n",
       "                        <td id=\"T_acace4a2_d4ed_11ec_87be_38b1dbd15c05row6_col0\" class=\"data row6 col0\" >3</td>\n",
       "                        <td id=\"T_acace4a2_d4ed_11ec_87be_38b1dbd15c05row6_col1\" class=\"data row6 col1\" >0.040000</td>\n",
       "                        <td id=\"T_acace4a2_d4ed_11ec_87be_38b1dbd15c05row6_col2\" class=\"data row6 col2\" >0.973333</td>\n",
       "                        <td id=\"T_acace4a2_d4ed_11ec_87be_38b1dbd15c05row6_col3\" class=\"data row6 col3\" >4.00%</td>\n",
       "                        <td id=\"T_acace4a2_d4ed_11ec_87be_38b1dbd15c05row6_col4\" class=\"data row6 col4\" >97.33%</td>\n",
       "            </tr>\n",
       "            <tr>\n",
       "                        <th id=\"T_acace4a2_d4ed_11ec_87be_38b1dbd15c05level0_row7\" class=\"row_heading level0 row7\" >东北</th>\n",
       "                        <td id=\"T_acace4a2_d4ed_11ec_87be_38b1dbd15c05row7_col0\" class=\"data row7 col0\" >1</td>\n",
       "                        <td id=\"T_acace4a2_d4ed_11ec_87be_38b1dbd15c05row7_col1\" class=\"data row7 col1\" >0.013333</td>\n",
       "                        <td id=\"T_acace4a2_d4ed_11ec_87be_38b1dbd15c05row7_col2\" class=\"data row7 col2\" >0.986667</td>\n",
       "                        <td id=\"T_acace4a2_d4ed_11ec_87be_38b1dbd15c05row7_col3\" class=\"data row7 col3\" >1.33%</td>\n",
       "                        <td id=\"T_acace4a2_d4ed_11ec_87be_38b1dbd15c05row7_col4\" class=\"data row7 col4\" >98.67%</td>\n",
       "            </tr>\n",
       "            <tr>\n",
       "                        <th id=\"T_acace4a2_d4ed_11ec_87be_38b1dbd15c05level0_row8\" class=\"row_heading level0 row8\" >东西</th>\n",
       "                        <td id=\"T_acace4a2_d4ed_11ec_87be_38b1dbd15c05row8_col0\" class=\"data row8 col0\" >1</td>\n",
       "                        <td id=\"T_acace4a2_d4ed_11ec_87be_38b1dbd15c05row8_col1\" class=\"data row8 col1\" >0.013333</td>\n",
       "                        <td id=\"T_acace4a2_d4ed_11ec_87be_38b1dbd15c05row8_col2\" class=\"data row8 col2\" >1.000000</td>\n",
       "                        <td id=\"T_acace4a2_d4ed_11ec_87be_38b1dbd15c05row8_col3\" class=\"data row8 col3\" >1.33%</td>\n",
       "                        <td id=\"T_acace4a2_d4ed_11ec_87be_38b1dbd15c05row8_col4\" class=\"data row8 col4\" >100.00%</td>\n",
       "            </tr>\n",
       "    </tbody></table>"
      ],
      "text/plain": [
       "<pandas.io.formats.style.Styler at 0x132eb239908>"
      ]
     },
     "execution_count": 39,
     "metadata": {},
     "output_type": "execute_result"
    }
   ],
   "source": [
    "# 频率分布情况 - 定性字段\n",
    "# ① 通过计数统计判断不同类别的频率\n",
    "\n",
    "cx_g = data['朝向'].value_counts(sort=True)\n",
    "print(cx_g)\n",
    "# 统计频率\n",
    "\n",
    "r_cx = pd.DataFrame(cx_g)\n",
    "r_cx.rename(columns ={cx_g.name:'频数'}, inplace = True)  # 修改频数字段名\n",
    "r_cx['频率'] = r_cx / r_cx['频数'].sum()  # 计算频率\n",
    "r_cx['累计频率'] = r_cx['频率'].cumsum()  # 计算累计频率\n",
    "r_cx['频率%'] = r_cx['频率'].apply(lambda x: \"%.2f%%\" % (x*100))  # 以百分比显示频率\n",
    "r_cx['累计频率%'] = r_cx['累计频率'].apply(lambda x: \"%.2f%%\" % (x*100))  # 以百分比显示累计频率\n",
    "r_cx.style.bar(subset=['频率','累计频率'], color='#d65f5f',width=100)"
   ]
  },
  {
   "cell_type": "code",
   "execution_count": 40,
   "metadata": {},
   "outputs": [
    {
     "data": {
      "text/plain": [
       "(-1.1101621526291232,\n",
       " 1.1004839130571389,\n",
       " -1.1062755172910221,\n",
       " 1.1205348076125872)"
      ]
     },
     "execution_count": 40,
     "metadata": {},
     "output_type": "execute_result"
    },
    {
     "data": {
      "image/png": "[encoded data removed]",
      "text/plain": [
       "<Figure size 864x144 with 1 Axes>"
      ]
     },
     "metadata": {
      "needs_background": "light"
     },
     "output_type": "display_data"
    },
    {
     "data": {
      "image/png": "[encoded data removed]",
      "text/plain": [
       "<Figure size 432x288 with 1 Axes>"
      ]
     },
     "metadata": {},
     "output_type": "display_data"
    }
   ],
   "source": [
    "# 频率分布情况 - 定量字段\n",
    "# ② 绘制频率直方图、饼图\n",
    "\n",
    "plt.figure(num = 1,figsize = (12,2))\n",
    "r_cx['频率'].plot(kind = 'bar',\n",
    "                 width = 0.8,\n",
    "                 rot = 0,\n",
    "                 color = 'k',\n",
    "                 grid = True,\n",
    "                 alpha = 0.5)\n",
    "plt.title('参考总价分布频率直方图')\n",
    "# 绘制直方图\n",
    "\n",
    "plt.figure(num = 2)\n",
    "plt.pie(r_cx['频数'],\n",
    "       labels = r_cx.index,\n",
    "       autopct='%.2f%%',\n",
    "       shadow = True)\n",
    "\n",
    "\n",
    "\n",
    "plt.axis('equal')"
   ]
  },
  {
   "cell_type": "code",
   "execution_count": 42,
   "metadata": {},
   "outputs": [
    {
     "data": {
      "text/plain": [
       "<matplotlib.axes._subplots.AxesSubplot at 0x132eb2ed588>"
      ]
     },
     "execution_count": 42,
     "metadata": {},
     "output_type": "execute_result"
    },
    {
     "data": {
      "image/png": "[encoded data removed]",
      "text/plain": [
       "<Figure size 432x288 with 1 Axes>"
      ]
     },
     "metadata": {},
     "output_type": "display_data"
    }
   ],
   "source": [
    "r_cx['频数'].plot(kind=\"pie\", autopct='%.2f%%',)"
   ]
  },
  {
   "cell_type": "code",
   "execution_count": null,
   "metadata": {},
   "outputs": [],
   "source": []
  }
 ],
 "metadata": {
  "kernelspec": {
   "display_name": "Python 3",
   "language": "python",
   "name": "python3"
  },
  "language_info": {
   "codemirror_mode": {
    "name": "ipython",
    "version": 3
   },
   "file_extension": ".py",
   "mimetype": "text/x-python",
   "name": "python",
   "nbconvert_exporter": "python",
   "pygments_lexer": "ipython3",
   "version": "3.7.6"
  }
 },
 "nbformat": 4,
 "nbformat_minor": 4
}
