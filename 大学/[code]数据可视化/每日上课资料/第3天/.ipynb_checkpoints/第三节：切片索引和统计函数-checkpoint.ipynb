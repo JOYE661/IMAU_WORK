{
 "cells": [
  {
   "cell_type": "markdown",
   "metadata": {},
   "source": [
    "# 切片和索引\n",
    "\n",
    "ndarray对象的内容可以通过索引或切片来访问和修改，与 Python 中 list 的切片操作一样。\n",
    "\n",
    "ndarray 数组可以基于 0 - n 的下标进行索引\n",
    "\n",
    "\n",
    ">区别在于：<font color='red'>数组切片是原始数组视图（这就意味着，如果做任何修改，原始都会跟着更改）。\n",
    "这也意味着，如果不想更改原始数组，我们需要进行显式的复制，从而得到它的副本（.copy())。</font>\n",
    "\n",
    "`冒号分隔切片参数 [start:stop:step]`"
   ]
  },
  {
   "cell_type": "code",
   "execution_count": 2,
   "metadata": {},
   "outputs": [],
   "source": [
    "# 导入numpy包\n",
    "import numpy as np"
   ]
  },
  {
   "cell_type": "markdown",
   "metadata": {},
   "source": [
    "## 一维数组"
   ]
  },
  {
   "cell_type": "code",
   "execution_count": 2,
   "metadata": {},
   "outputs": [
    {
     "data": {
      "text/plain": [
       "array([0, 1, 2, 3, 4, 5, 6, 7, 8, 9])"
      ]
     },
     "execution_count": 2,
     "metadata": {},
     "output_type": "execute_result"
    }
   ],
   "source": [
    "ar1 = np.arange(10)\n",
    "ar1"
   ]
  },
  {
   "cell_type": "code",
   "execution_count": 3,
   "metadata": {},
   "outputs": [
    {
     "data": {
      "text/plain": [
       "array([2, 4, 6])"
      ]
     },
     "execution_count": 3,
     "metadata": {},
     "output_type": "execute_result"
    }
   ],
   "source": [
    "# 从索引 2 开始到索引 7 停止，间隔为 2\n",
    "ar2 = ar1[2:7:2]\n",
    "ar2\n",
    "#  A索引2 --- 1  \n",
    "#   B ----- 2 "
   ]
  },
  {
   "cell_type": "markdown",
   "metadata": {},
   "source": [
    "冒号 : 的解释：如果只放置一个参数，\n",
    "- 如 [2]，将返回与该索引相对应的单个元素。\n",
    "- 如果为 [2:]，表示从该索引开始以后的所有项都将被提取。\n",
    "- 如果使用了两个参数，如 [2:7]，那么则提取两个索引(不包括停止索引)之间的项。"
   ]
  },
  {
   "cell_type": "code",
   "execution_count": 4,
   "metadata": {},
   "outputs": [
    {
     "name": "stdout",
     "output_type": "stream",
     "text": [
      "ar1: [0 1 2 3 4 5 6 7 8 9]\n",
      "ar1[4]: 4\n"
     ]
    }
   ],
   "source": [
    "print('ar1:',ar1)\n",
    "# 返回索引对应的数据，（注意是从0开始的）\n",
    "print('ar1[4]:',ar1[4])"
   ]
  },
  {
   "cell_type": "code",
   "execution_count": 5,
   "metadata": {},
   "outputs": [
    {
     "data": {
      "text/plain": [
       "array([ 1,  3,  5,  7,  9, 11, 13, 15, 17, 19])"
      ]
     },
     "execution_count": 5,
     "metadata": {},
     "output_type": "execute_result"
    }
   ],
   "source": [
    "ar3 = np.arange(1,20,2)\n",
    "ar3"
   ]
  },
  {
   "cell_type": "code",
   "execution_count": null,
   "metadata": {},
   "outputs": [],
   "source": [
    "#如何取出元素9？\\\n",
    "# 需要考虑如何取, 索引取\n",
    "# 索引是从几开始  --- 0\n",
    "# A------ar3[9]\n",
    "# B------ar3[5]\n",
    "# C------ar3[4]"
   ]
  },
  {
   "cell_type": "markdown",
   "metadata": {},
   "source": [
    "#### 从该索引开始以后的所有项都将被提取"
   ]
  },
  {
   "cell_type": "code",
   "execution_count": 6,
   "metadata": {},
   "outputs": [
    {
     "name": "stdout",
     "output_type": "stream",
     "text": [
      "[ 1  3  5  7  9 11 13 15 17 19]\n"
     ]
    },
    {
     "data": {
      "text/plain": [
       "array([ 5,  7,  9, 11, 13, 15, 17, 19])"
      ]
     },
     "execution_count": 6,
     "metadata": {},
     "output_type": "execute_result"
    }
   ],
   "source": [
    "print(ar3)\n",
    "# 从索引2开始，取后面所有数据\n",
    "ar3[2:]"
   ]
  },
  {
   "cell_type": "markdown",
   "metadata": {},
   "source": [
    "#### 从索引开始，到索引结束(不包含结束)"
   ]
  },
  {
   "cell_type": "code",
   "execution_count": 10,
   "metadata": {},
   "outputs": [
    {
     "name": "stdout",
     "output_type": "stream",
     "text": [
      "[ 1  3  5  7  9 11 13 15 17 19]\n"
     ]
    },
    {
     "data": {
      "text/plain": [
       "array([ 1,  3,  5,  7,  9, 11, 13, 15])"
      ]
     },
     "execution_count": 10,
     "metadata": {},
     "output_type": "execute_result"
    }
   ],
   "source": [
    "print(ar3)\n",
    "# 从索引2开始到索引7(包含索引7)\n",
    "ar3[2:7]\n",
    "ar3[:-2]"
   ]
  },
  {
   "cell_type": "markdown",
   "metadata": {},
   "source": [
    "#### 步长"
   ]
  },
  {
   "cell_type": "code",
   "execution_count": 8,
   "metadata": {},
   "outputs": [
    {
     "data": {
      "text/plain": [
       "array([19, 17, 15, 13, 11,  9,  7,  5,  3,  1])"
      ]
     },
     "execution_count": 8,
     "metadata": {},
     "output_type": "execute_result"
    }
   ],
   "source": [
    "# 取所有数据，步长-1，\n",
    "ar3[::-1]"
   ]
  },
  {
   "cell_type": "code",
   "execution_count": 15,
   "metadata": {},
   "outputs": [
    {
     "name": "stdout",
     "output_type": "stream",
     "text": [
      "[ 1  3  5  7  9 11 13 15 17 19]\n",
      "[ 1  3  5  7  9 11]\n",
      "[13 15 17 19]\n"
     ]
    }
   ],
   "source": [
    "# 取数据1到17之间， 并且间隔一位的数据\n",
    "# A ---- ar3[:-2:2]\n",
    "# B ---- ar3[1:-2:2]\n",
    "# C---- ar3[1:-3:2]\n",
    "ar3[1:-2:2]\n",
    "\n",
    "print(ar3)\n",
    "print(ar3[:6])\n",
    "print(ar3[6:])"
   ]
  },
  {
   "cell_type": "markdown",
   "metadata": {},
   "source": [
    "### 为什么切片和区间会忽略最后一个元素\n",
    "计算机科学家edsger w.dijkstra(艾兹格·W·迪科斯彻)，delattr这一风格的解释应该是比较好的：\n",
    "- 当只有最后一个位置信息时，我们可以快速看出切片和区间里有几个元素：range(3)和my_list[:3]\n",
    "- 当起始位置信息都可见时，我们可以快速计算出切片和区间的长度，用有一个数减去第一个下表(stop-start)即可\n",
    "- 这样做也让我们可以利用任意一个下标把序列分割成不重叠的两部分，只要写成my_list[:x]和my_list[x:]就可以了。"
   ]
  },
  {
   "cell_type": "markdown",
   "metadata": {},
   "source": [
    "#### 比如："
   ]
  },
  {
   "cell_type": "code",
   "execution_count": null,
   "metadata": {},
   "outputs": [],
   "source": [
    "ar = np.array([10,20,30,40,50,60])\n",
    "# 在下标2的地方开始分割\n",
    "print('ar[2:]',ar[2:])\n",
    "# 在下标3的之前结束分割\n",
    "print('ar[:3]',ar[:3])\n",
    "# 使用下标2将数组分别为不重叠的两部分\n",
    "print('ar[:2]',ar[:2])\n",
    "print('ar[2:]',ar[2:])\n"
   ]
  },
  {
   "cell_type": "markdown",
   "metadata": {},
   "source": [
    "## 二维数组\n",
    "同样适用上述索引提取方法："
   ]
  },
  {
   "cell_type": "code",
   "execution_count": 16,
   "metadata": {},
   "outputs": [
    {
     "data": {
      "text/plain": [
       "array([[ 0,  1,  2,  3,  4],\n",
       "       [ 5,  6,  7,  8,  9],\n",
       "       [10, 11, 12, 13, 14],\n",
       "       [15, 16, 17, 18, 19]])"
      ]
     },
     "execution_count": 16,
     "metadata": {},
     "output_type": "execute_result"
    }
   ],
   "source": [
    "# 定义4行5列的数据\n",
    "ar4_5 = np.arange(20).reshape(4,5)\n",
    "ar4_5"
   ]
  },
  {
   "cell_type": "code",
   "execution_count": 17,
   "metadata": {},
   "outputs": [
    {
     "data": {
      "text/plain": [
       "2"
      ]
     },
     "execution_count": 17,
     "metadata": {},
     "output_type": "execute_result"
    }
   ],
   "source": [
    "# 返回ar4_5的秩（几维）\n",
    "ar4_5.ndim"
   ]
  },
  {
   "cell_type": "code",
   "execution_count": 18,
   "metadata": {},
   "outputs": [
    {
     "data": {
      "text/plain": [
       "array([10, 11, 12, 13, 14])"
      ]
     },
     "execution_count": 18,
     "metadata": {},
     "output_type": "execute_result"
    }
   ],
   "source": [
    "# 切片为下一维度的一个元素，所以是一维数组\n",
    "ar4_5[2]"
   ]
  },
  {
   "cell_type": "code",
   "execution_count": 19,
   "metadata": {},
   "outputs": [
    {
     "data": {
      "text/plain": [
       "12"
      ]
     },
     "execution_count": 19,
     "metadata": {},
     "output_type": "execute_result"
    }
   ],
   "source": [
    "# 二次索引取得，一维数组中的元素\n",
    "ar4_5[2][2]\n",
    "# 结果？\n",
    "# A - 11\n",
    "# B - 12"
   ]
  },
  {
   "cell_type": "code",
   "execution_count": 20,
   "metadata": {},
   "outputs": [
    {
     "name": "stdout",
     "output_type": "stream",
     "text": [
      "[[ 0  1  2  3  4]\n",
      " [ 5  6  7  8  9]\n",
      " [10 11 12 13 14]\n",
      " [15 16 17 18 19]]\n"
     ]
    }
   ],
   "source": [
    "print(ar4_5)"
   ]
  },
  {
   "cell_type": "code",
   "execution_count": 21,
   "metadata": {},
   "outputs": [
    {
     "data": {
      "text/plain": [
       "array([[10, 11, 12, 13, 14],\n",
       "       [15, 16, 17, 18, 19]])"
      ]
     },
     "execution_count": 21,
     "metadata": {},
     "output_type": "execute_result"
    }
   ],
   "source": [
    "ar4_5[2:]"
   ]
  },
  {
   "cell_type": "code",
   "execution_count": 26,
   "metadata": {},
   "outputs": [],
   "source": [
    "s = ar4_5[:][0]"
   ]
  },
  {
   "cell_type": "markdown",
   "metadata": {},
   "source": [
    ">注意：切片还可以使用省略号“…”，如果在行位置使用省略号，那么返回值将包含所有行元素，反之，则包含所有列元素。"
   ]
  },
  {
   "cell_type": "code",
   "execution_count": 27,
   "metadata": {},
   "outputs": [
    {
     "data": {
      "text/plain": [
       "array([ 1,  6, 11, 16])"
      ]
     },
     "execution_count": 27,
     "metadata": {},
     "output_type": "execute_result"
    }
   ],
   "source": [
    "# 需要取得第二列数据\n",
    "ar4_5[...,1]\n"
   ]
  },
  {
   "cell_type": "code",
   "execution_count": 28,
   "metadata": {},
   "outputs": [
    {
     "data": {
      "text/plain": [
       "array([[ 1,  2,  3,  4],\n",
       "       [ 6,  7,  8,  9],\n",
       "       [11, 12, 13, 14],\n",
       "       [16, 17, 18, 19]])"
      ]
     },
     "execution_count": 28,
     "metadata": {},
     "output_type": "execute_result"
    }
   ],
   "source": [
    "#返回第二列后的所有项\n",
    "ar4_5[...,1:]"
   ]
  },
  {
   "cell_type": "code",
   "execution_count": 30,
   "metadata": {},
   "outputs": [
    {
     "data": {
      "text/plain": [
       "7"
      ]
     },
     "execution_count": 30,
     "metadata": {},
     "output_type": "execute_result"
    }
   ],
   "source": [
    "# 返回2行3列数据\n",
    "ar4_5[1,2]  # 对应(1,2) 的元素"
   ]
  },
  {
   "cell_type": "code",
   "execution_count": 31,
   "metadata": {},
   "outputs": [
    {
     "data": {
      "text/plain": [
       "7"
      ]
     },
     "execution_count": 31,
     "metadata": {},
     "output_type": "execute_result"
    }
   ],
   "source": [
    "# 返回2行3列数据\n",
    "ar4_5[1][2]"
   ]
  },
  {
   "cell_type": "code",
   "execution_count": 34,
   "metadata": {},
   "outputs": [
    {
     "data": {
      "text/plain": [
       "array([[ 1,  2,  3,  4],\n",
       "       [ 6,  7,  8,  9],\n",
       "       [11, 12, 13, 14],\n",
       "       [16, 17, 18, 19]])"
      ]
     },
     "execution_count": 34,
     "metadata": {},
     "output_type": "execute_result"
    }
   ],
   "source": [
    "# 返回包含第二列以后的数据\n",
    "ar4_5[...,1:]"
   ]
  },
  {
   "cell_type": "code",
   "execution_count": null,
   "metadata": {},
   "outputs": [],
   "source": [
    "ar4_5[...][2]"
   ]
  },
  {
   "cell_type": "markdown",
   "metadata": {},
   "source": [
    "# 索引的高级操作\n",
    "在 NumPy 中还可以使用高级索引方式，比如整数数组索引、布尔索引，以下将对两种种索引方式做详细介绍。\n"
   ]
  },
  {
   "cell_type": "markdown",
   "metadata": {},
   "source": [
    "### 1. 整数数组索引"
   ]
  },
  {
   "cell_type": "code",
   "execution_count": 9,
   "metadata": {},
   "outputs": [
    {
     "data": {
      "text/plain": [
       "array([[1, 2, 1, 1],\n",
       "       [3, 4, 1, 2],\n",
       "       [5, 6, 2, 3]])"
      ]
     },
     "execution_count": 9,
     "metadata": {},
     "output_type": "execute_result"
    }
   ],
   "source": [
    "#创建二维数组\n",
    "x = np.array([\n",
    "        [1,  2,1,1],\n",
    "        [3,  4,1,2],\n",
    "        [5,  6,2,3]\n",
    "    ])\n",
    "#[0,1,2]代表行索引;[0,1,0]代表列索引\n",
    "y = x[\n",
    "    [0,1,2],[0,1,0]\n",
    "] \n",
    "# y分别获取x中的(0,0)、(1,1) 和(2,0)的数据\n",
    "x[\n",
    "    [0,1,2],:\n",
    "] "
   ]
  },
  {
   "cell_type": "markdown",
   "metadata": {},
   "source": [
    "#### 获取了 4*3 数组中的四个角上元素，它们对应的行索引是 [0,0] 和 [3,3]，列索引是 [0,2] 和 [0,2]。"
   ]
  },
  {
   "cell_type": "code",
   "execution_count": 36,
   "metadata": {},
   "outputs": [
    {
     "data": {
      "text/plain": [
       "array([[ 0,  2],\n",
       "       [ 9, 11]])"
      ]
     },
     "execution_count": 36,
     "metadata": {},
     "output_type": "execute_result"
    }
   ],
   "source": [
    "b = np.array([[ 0, 1, 2],\n",
    "              [ 3, 4, 5],\n",
    "              [ 6, 7, 8],\n",
    "              [ 9,10,11]])\n",
    "\n",
    "\n",
    "\n",
    "a = b[[0,0,3,3],[0,2,0,2]]  # (0,0)(0,2) (3,0) (3,2)\n",
    "\n",
    "r = np.array([[0,0] ,[3,3]]).reshape(4)\n",
    "l = np.array([[0,2] ,[0,2]]).reshape(4)\n",
    "s = b[r,l].reshape((2,2))\n",
    "s"
   ]
  },
  {
   "cell_type": "code",
   "execution_count": 38,
   "metadata": {},
   "outputs": [
    {
     "data": {
      "text/plain": [
       "array([[5, 6],\n",
       "       [8, 9]])"
      ]
     },
     "execution_count": 38,
     "metadata": {},
     "output_type": "execute_result"
    }
   ],
   "source": [
    "a = np.array([\n",
    "        [1,2,3], \n",
    "        [4,5,6],\n",
    "        [7,8,9]\n",
    "    ])\n",
    "# 行取得2行和3行，列取得2列和3列\n",
    "b = a[1:3, 1:3]\n",
    "b\n"
   ]
  },
  {
   "cell_type": "code",
   "execution_count": 39,
   "metadata": {},
   "outputs": [
    {
     "name": "stdout",
     "output_type": "stream",
     "text": [
      "[[5 6]\n",
      " [8 9]]\n",
      "[[5 6]\n",
      " [8 9]]\n",
      "[[2 3]\n",
      " [5 6]\n",
      " [8 9]]\n"
     ]
    }
   ],
   "source": [
    "# 1:3 == [1,2]\n",
    "c = a[1:3,[1,2]]\n",
    "# ... 表示所有行，1: 表示从第二列开始的所有列\n",
    "d = a[...,1:]\n",
    "\n",
    "print(b)\n",
    "print(c)\n",
    "print(d)"
   ]
  },
  {
   "cell_type": "markdown",
   "metadata": {},
   "source": [
    "### 创建一个8x8的国际象棋棋盘矩阵（黑块为0，白块为1）\n",
    "1.  [0 1 0 1 0 1 0 1]\n",
    "2.  [1 0 1 0 1 0 1 0]\n",
    "3.  [0 1 0 1 0 1 0 1]\n",
    "4.  [1 0 1 0 1 0 1 0]\n",
    "5.  [0 1 0 1 0 1 0 1]\n",
    "6.  [1 0 1 0 1 0 1 0]\n",
    "7.  [0 1 0 1 0 1 0 1]\n",
    "8.  [1 0 1 0 1 0 1 0]]"
   ]
  },
  {
   "cell_type": "code",
   "execution_count": 42,
   "metadata": {},
   "outputs": [
    {
     "data": {
      "text/plain": [
       "array([[0, 0, 0, 0, 0, 0, 0, 0],\n",
       "       [1, 0, 1, 0, 1, 0, 1, 0],\n",
       "       [0, 0, 0, 0, 0, 0, 0, 0],\n",
       "       [1, 0, 1, 0, 1, 0, 1, 0],\n",
       "       [0, 0, 0, 0, 0, 0, 0, 0],\n",
       "       [1, 0, 1, 0, 1, 0, 1, 0],\n",
       "       [0, 0, 0, 0, 0, 0, 0, 0],\n",
       "       [1, 0, 1, 0, 1, 0, 1, 0]])"
      ]
     },
     "execution_count": 42,
     "metadata": {},
     "output_type": "execute_result"
    }
   ],
   "source": [
    "Z = np.zeros((8, 8), dtype=int)\n",
    "Z[1::2,::2] = 1\n",
    "\n",
    "Z"
   ]
  },
  {
   "cell_type": "markdown",
   "metadata": {},
   "source": [
    "### 2. 布尔数组索引\n",
    "当输出的结果需要经过布尔运算（如比较运算）时，此时会使用到另一种高级索引方式，即布尔数组索引。下面示例返回数组中大于 6 的的所有元素："
   ]
  },
  {
   "cell_type": "code",
   "execution_count": 43,
   "metadata": {},
   "outputs": [
    {
     "name": "stdout",
     "output_type": "stream",
     "text": [
      "(4, 3)\n"
     ]
    },
    {
     "data": {
      "text/plain": [
       "array([ 7,  8,  9, 10, 11])"
      ]
     },
     "execution_count": 43,
     "metadata": {},
     "output_type": "execute_result"
    }
   ],
   "source": [
    "# #返回所有大于6的数字组成的数组\n",
    "x = np.array([[ 0,  1,  2],[ 3,  4,  5],[ 6,  7,  8],[ 9, 10, 11]])\n",
    "print(x.shape)\n",
    "x[x>6]"
   ]
  },
  {
   "cell_type": "markdown",
   "metadata": {},
   "source": [
    "- 布尔索引 实现的是通过一维数组中的每个元素的布尔型数值对一个与一维数组有着同样行数或列数的矩阵进行符合匹配。\n",
    "这种作用，其实是把一维数组中布尔值为True的相应行或列给抽取了出来\n",
    ">（注意：一维数组的长度必须和想要切片的维度或轴的长度一致）。"
   ]
  },
  {
   "cell_type": "markdown",
   "metadata": {},
   "source": [
    "####  练习:\n",
    "\n",
    "1. 提取出数组中所有奇数\n",
    "\n",
    "2.  修改奇数值修改为-1"
   ]
  },
  {
   "cell_type": "code",
   "execution_count": 44,
   "metadata": {},
   "outputs": [
    {
     "data": {
      "text/plain": [
       "array([ 1,  3,  5,  7,  9, 11])"
      ]
     },
     "execution_count": 44,
     "metadata": {},
     "output_type": "execute_result"
    }
   ],
   "source": [
    "x = np.array([[ 0,  1,  2],[ 3,  4,  5],[ 6,  7,  8],[ 9, 10, 11]])\n",
    "# 答案:\n",
    "x[x%2 == 1]"
   ]
  },
  {
   "cell_type": "code",
   "execution_count": 45,
   "metadata": {},
   "outputs": [
    {
     "data": {
      "text/plain": [
       "array([[ 0, -1,  2],\n",
       "       [-1,  4, -1],\n",
       "       [ 6, -1,  8],\n",
       "       [-1, 10, -1]])"
      ]
     },
     "execution_count": 45,
     "metadata": {},
     "output_type": "execute_result"
    }
   ],
   "source": [
    "x[x%2 == 1] = -1\n",
    "x"
   ]
  },
  {
   "cell_type": "markdown",
   "metadata": {},
   "source": [
    "#### 筛选出指定区间内数据\n",
    "- & 和\n",
    "- | 或 "
   ]
  },
  {
   "cell_type": "code",
   "execution_count": 46,
   "metadata": {},
   "outputs": [
    {
     "data": {
      "text/plain": [
       "array([5, 6, 7, 8])"
      ]
     },
     "execution_count": 46,
     "metadata": {},
     "output_type": "execute_result"
    }
   ],
   "source": [
    "x = np.array([[ 0,  1,  2],[ 3,  4,  5],[ 6,  7,  8],[ 9, 10, 11]])\n",
    "# 以上x中大于4并且小于9的数据\n",
    "x[(x>4) & (x<9)]"
   ]
  },
  {
   "cell_type": "code",
   "execution_count": 47,
   "metadata": {},
   "outputs": [
    {
     "data": {
      "text/plain": [
       "array([ 0,  1,  2,  3, 10, 11])"
      ]
     },
     "execution_count": 47,
     "metadata": {},
     "output_type": "execute_result"
    }
   ],
   "source": [
    "x = np.array([[ 0,  1,  2],[ 3,  4,  5],[ 6,  7,  8],[ 9, 10, 11]])\n",
    "# 以上x中小于4或者大于9的数据\n",
    "x[(x<4) | (x>9)]\n"
   ]
  },
  {
   "cell_type": "markdown",
   "metadata": {},
   "source": [
    "#### True和False的形式表示需要和不需要的数据"
   ]
  },
  {
   "cell_type": "code",
   "execution_count": 48,
   "metadata": {},
   "outputs": [
    {
     "data": {
      "text/plain": [
       "array([[ 0,  1,  2,  3],\n",
       "       [ 4,  5,  6,  7],\n",
       "       [ 8,  9, 10, 11]])"
      ]
     },
     "execution_count": 48,
     "metadata": {},
     "output_type": "execute_result"
    }
   ],
   "source": [
    "# 创建3*4的数组\n",
    "a3_4 = np.arange(12).reshape((3,4))\n",
    "a3_4"
   ]
  },
  {
   "cell_type": "code",
   "execution_count": 50,
   "metadata": {},
   "outputs": [],
   "source": [
    "# 行变量 存在3个元素\n",
    "row1 = np.array([False,True,True])\n",
    "\n",
    "# 列变量 存在4个元素\n",
    "column1 = np.array([True,False,True,False])"
   ]
  },
  {
   "cell_type": "code",
   "execution_count": 51,
   "metadata": {},
   "outputs": [
    {
     "data": {
      "text/plain": [
       "array([[ 4,  5,  6,  7],\n",
       "       [ 8,  9, 10, 11]])"
      ]
     },
     "execution_count": 51,
     "metadata": {},
     "output_type": "execute_result"
    }
   ],
   "source": [
    "# a3_4 是3行, 做切片时也提供3个元素的数组,轴的长度一致\n",
    "a3_4[row1]"
   ]
  },
  {
   "cell_type": "code",
   "execution_count": 52,
   "metadata": {},
   "outputs": [
    {
     "data": {
      "text/plain": [
       "array([[ 0,  2],\n",
       "       [ 4,  6],\n",
       "       [ 8, 10]])"
      ]
     },
     "execution_count": 52,
     "metadata": {},
     "output_type": "execute_result"
    }
   ],
   "source": [
    "a3_4[:,column1]"
   ]
  },
  {
   "cell_type": "markdown",
   "metadata": {},
   "source": [
    "那么是否可以用两个一维布尔数组进行切片呢？我们继续进行试验得到如下结果："
   ]
  },
  {
   "cell_type": "code",
   "execution_count": 53,
   "metadata": {},
   "outputs": [
    {
     "data": {
      "text/plain": [
       "array([ 4, 10])"
      ]
     },
     "execution_count": 53,
     "metadata": {},
     "output_type": "execute_result"
    }
   ],
   "source": [
    "a3_4[row1,column1]"
   ]
  },
  {
   "cell_type": "markdown",
   "metadata": {},
   "source": [
    "`从结果上看，它实际上等价于下面的代码。`"
   ]
  },
  {
   "cell_type": "code",
   "execution_count": 1,
   "metadata": {},
   "outputs": [
    {
     "ename": "NameError",
     "evalue": "name 'a3_4' is not defined",
     "output_type": "error",
     "traceback": [
      "\u001b[1;31m---------------------------------------------------------------------------\u001b[0m",
      "\u001b[1;31mNameError\u001b[0m                                 Traceback (most recent call last)",
      "\u001b[1;32m<ipython-input-1-810fa977da94>\u001b[0m in \u001b[0;36m<module>\u001b[1;34m\u001b[0m\n\u001b[1;32m----> 1\u001b[1;33m \u001b[0ma3_4\u001b[0m\u001b[1;33m[\u001b[0m\u001b[1;33m[\u001b[0m\u001b[1;36m1\u001b[0m\u001b[1;33m,\u001b[0m \u001b[1;36m2\u001b[0m\u001b[1;33m]\u001b[0m\u001b[1;33m,\u001b[0m\u001b[1;33m[\u001b[0m\u001b[1;36m0\u001b[0m\u001b[1;33m,\u001b[0m \u001b[1;36m1\u001b[0m\u001b[1;33m]\u001b[0m\u001b[1;33m]\u001b[0m\u001b[1;33m\u001b[0m\u001b[1;33m\u001b[0m\u001b[0m\n\u001b[0m\u001b[0;32m      2\u001b[0m \u001b[0ma3_4\u001b[0m\u001b[1;33m[\u001b[0m\u001b[1;33m[\u001b[0m\u001b[1;36m1\u001b[0m\u001b[1;33m,\u001b[0m \u001b[1;36m2\u001b[0m\u001b[1;33m]\u001b[0m\u001b[1;33m,\u001b[0m\u001b[1;33m[\u001b[0m\u001b[1;36m0\u001b[0m\u001b[1;33m]\u001b[0m\u001b[1;33m]\u001b[0m\u001b[1;33m\u001b[0m\u001b[1;33m\u001b[0m\u001b[0m\n\u001b[0;32m      3\u001b[0m \u001b[1;31m# 输出的相当于是坐标序号为（0，1），（2，2）的数。结果如下：\u001b[0m\u001b[1;33m\u001b[0m\u001b[1;33m\u001b[0m\u001b[1;33m\u001b[0m\u001b[0m\n",
      "\u001b[1;31mNameError\u001b[0m: name 'a3_4' is not defined"
     ]
    }
   ],
   "source": [
    "a3_4[[1, 2],[0, 1]]\n",
    "a3_4[[1, 2],[0]]\n",
    "# 输出的相当于是坐标序号为（0，1），（2，2）的数。结果如下："
   ]
  },
  {
   "cell_type": "markdown",
   "metadata": {},
   "source": [
    "#### 索引形状不匹配"
   ]
  },
  {
   "cell_type": "markdown",
   "metadata": {},
   "source": [
    "> 从上面的结果可以知道，能够进行切片的前提是：两个一维布尔数组中True的个数需要相等，否则会出现下面的情况"
   ]
  },
  {
   "cell_type": "code",
   "execution_count": 56,
   "metadata": {},
   "outputs": [
    {
     "ename": "IndexError",
     "evalue": "shape mismatch: indexing arrays could not be broadcast together with shapes (2,) (3,) ",
     "output_type": "error",
     "traceback": [
      "\u001b[1;31m---------------------------------------------------------------------------\u001b[0m",
      "\u001b[1;31mIndexError\u001b[0m                                Traceback (most recent call last)",
      "\u001b[1;32m<ipython-input-56-4a12b1a74880>\u001b[0m in \u001b[0;36m<module>\u001b[1;34m\u001b[0m\n\u001b[0;32m      5\u001b[0m \u001b[0mcolumn2\u001b[0m \u001b[1;33m=\u001b[0m \u001b[0mnp\u001b[0m\u001b[1;33m.\u001b[0m\u001b[0marray\u001b[0m\u001b[1;33m(\u001b[0m\u001b[1;33m[\u001b[0m\u001b[1;32mTrue\u001b[0m\u001b[1;33m,\u001b[0m\u001b[1;32mFalse\u001b[0m\u001b[1;33m,\u001b[0m\u001b[1;32mTrue\u001b[0m\u001b[1;33m,\u001b[0m\u001b[1;32mTrue\u001b[0m\u001b[1;33m]\u001b[0m\u001b[1;33m)\u001b[0m\u001b[1;33m\u001b[0m\u001b[1;33m\u001b[0m\u001b[0m\n\u001b[0;32m      6\u001b[0m \u001b[1;31m# 行列中的True个数不一致,会导致错误\u001b[0m\u001b[1;33m\u001b[0m\u001b[1;33m\u001b[0m\u001b[1;33m\u001b[0m\u001b[0m\n\u001b[1;32m----> 7\u001b[1;33m \u001b[0ma3_4\u001b[0m\u001b[1;33m[\u001b[0m\u001b[0mrow2\u001b[0m\u001b[1;33m,\u001b[0m \u001b[0mcolumn2\u001b[0m\u001b[1;33m]\u001b[0m\u001b[1;33m\u001b[0m\u001b[1;33m\u001b[0m\u001b[0m\n\u001b[0m\u001b[0;32m      8\u001b[0m \u001b[1;31m# 相当于\u001b[0m\u001b[1;33m\u001b[0m\u001b[1;33m\u001b[0m\u001b[1;33m\u001b[0m\u001b[0m\n\u001b[0;32m      9\u001b[0m \u001b[0ma3_4\u001b[0m\u001b[1;33m[\u001b[0m\u001b[1;33m[\u001b[0m\u001b[1;36m1\u001b[0m\u001b[1;33m,\u001b[0m\u001b[1;36m2\u001b[0m\u001b[1;33m]\u001b[0m\u001b[1;33m,\u001b[0m\u001b[1;33m[\u001b[0m\u001b[1;36m0\u001b[0m\u001b[1;33m,\u001b[0m\u001b[1;36m2\u001b[0m\u001b[1;33m,\u001b[0m\u001b[1;36m3\u001b[0m\u001b[1;33m]\u001b[0m\u001b[1;33m]\u001b[0m\u001b[1;33m\u001b[0m\u001b[1;33m\u001b[0m\u001b[0m\n",
      "\u001b[1;31mIndexError\u001b[0m: shape mismatch: indexing arrays could not be broadcast together with shapes (2,) (3,) "
     ]
    }
   ],
   "source": [
    "# 行变量 2个True元素\n",
    "row2 = np.array([False,True,True])\n",
    "\n",
    "# 列变量 存在3 个True元素\n",
    "column2 = np.array([True,False,True,True])\n",
    "# 行列中的True个数不一致,会导致错误\n",
    "a3_4[row2, column2]\n",
    "# 相当于\n",
    "a3_4[[1,2],[0,2,3]]"
   ]
  },
  {
   "cell_type": "markdown",
   "metadata": {},
   "source": [
    ">报错信息如下：indexError: shape mismatch: indexing arrays could not be broadcast together with shapes (2,) (3,) \n",
    "\n",
    "是因为所选索引形状不匹配：索引数组无法与该形状一起广播。\n",
    "当访问numpy多维数组时，用于索引的数组需要具有相同的形状（行和列）。numpy将有可能去广播，所以，若要为了实现不同维度的选择，\n",
    "可分两步对数组进行选择。\n",
    "1. 例如我需要选择第1行和最后一行的第1，3，4列时，先选择行，再选择列。\n",
    "2. 先读取数组 a3_4 的第一行和最后一行，保存到 temp ，然后再筛选相应的列即可。\n"
   ]
  },
  {
   "cell_type": "code",
   "execution_count": 54,
   "metadata": {},
   "outputs": [
    {
     "data": {
      "text/plain": [
       "array([[ 0,  1,  2,  3],\n",
       "       [ 4,  5,  6,  7],\n",
       "       [ 8,  9, 10, 11]])"
      ]
     },
     "execution_count": 54,
     "metadata": {},
     "output_type": "execute_result"
    }
   ],
   "source": [
    "a3_4"
   ]
  },
  {
   "cell_type": "code",
   "execution_count": 55,
   "metadata": {},
   "outputs": [
    {
     "data": {
      "text/plain": [
       "array([[ 0,  1,  2,  3],\n",
       "       [ 8,  9, 10, 11]])"
      ]
     },
     "execution_count": 55,
     "metadata": {},
     "output_type": "execute_result"
    }
   ],
   "source": [
    "# 选择第1行和最后一行的第1，3，4列,操作步骤\n",
    "\n",
    "# 第一步:先选行\n",
    "temp = a3_4[[0,-1],:]\n",
    "temp"
   ]
  },
  {
   "cell_type": "code",
   "execution_count": 57,
   "metadata": {},
   "outputs": [
    {
     "data": {
      "text/plain": [
       "array([[ 0,  2,  3],\n",
       "       [ 8, 10, 11]])"
      ]
     },
     "execution_count": 57,
     "metadata": {},
     "output_type": "execute_result"
    }
   ],
   "source": [
    "# 第二步:再选择列\n",
    "temp[:,[0,2,3]]"
   ]
  },
  {
   "cell_type": "code",
   "execution_count": null,
   "metadata": {},
   "outputs": [],
   "source": [
    "# 合并一条\n",
    "a3_4[[0,-1],:][:,[0,2,3]]"
   ]
  },
  {
   "cell_type": "markdown",
   "metadata": {},
   "source": [
    "<font color=red>但是，如果有一个一维数组长度是1时，这时又不会报错：</font>"
   ]
  },
  {
   "cell_type": "code",
   "execution_count": 58,
   "metadata": {},
   "outputs": [
    {
     "data": {
      "text/plain": [
       "array([4, 6])"
      ]
     },
     "execution_count": 58,
     "metadata": {},
     "output_type": "execute_result"
    }
   ],
   "source": [
    "# 比如:需要提取第二行,第1,3列的数据\n",
    "a3_4[[1],[0,2]]"
   ]
  },
  {
   "cell_type": "markdown",
   "metadata": {},
   "source": [
    "为什么？这里要引出另一个现象：广播(后面课程学习)\n",
    "\n",
    "以上相当于(1,0)和(1,2)"
   ]
  },
  {
   "cell_type": "markdown",
   "metadata": {},
   "source": [
    " ### 数组索引及切片的值更改会修改原数组"
   ]
  },
  {
   "cell_type": "code",
   "execution_count": 61,
   "metadata": {},
   "outputs": [
    {
     "name": "stdout",
     "output_type": "stream",
     "text": [
      "[0 1 2 3 4 5 6 7 8 9]\n",
      "[  0   1   2   3   4 100   6   7   8   9]\n"
     ]
    }
   ],
   "source": [
    "ar = np.arange(10)\n",
    "print(ar)\n",
    "ab = ar[:]\n",
    "ar[5] = 100\n",
    "print(ab)\n",
    "# 一个标量赋值给一个索引/切片时，会自动改变/传播原始数组"
   ]
  },
  {
   "cell_type": "code",
   "execution_count": null,
   "metadata": {},
   "outputs": [],
   "source": [
    "# 可以使用复制操作\n",
    "ar = np.arange(10)\n",
    "b = ar.copy()\n",
    "# 或者 b = np.array(ar)\n",
    "b[7:9] = 200\n",
    "print('ar:',ar)\n",
    "print('b:',b)\n",
    "# 复制"
   ]
  },
  {
   "cell_type": "markdown",
   "metadata": {},
   "source": [
    "### 练习：\n",
    "1. 创建0到24的5*5数组ar，通过索引，其ar[4]、ar[:2,3:]、ar[3][2]分别是多少\n",
    "\n",
    "\n",
    "2. 创建0到9的2*5数组ar,筛选出元素值大于5的值并生成新的数组.\n",
    "\n",
    "\n",
    "3. 创建一个2维10*10数组，使该数组边界值为1，内部的值为0\n",
    "\n",
    "\n",
    "4. 创建一个从10到49的ndarray对象,并进行倒序复制给另一个变量\n",
    "\n",
    "\n",
    "5. a=np.arange(0,20).reshape(4,5),需要更换第二行和三行的位置\n",
    "\n",
    "\n",
    "6. 分别反转练习5中 二维数组的列,和行"
   ]
  },
  {
   "cell_type": "code",
   "execution_count": null,
   "metadata": {
    "scrolled": true
   },
   "outputs": [],
   "source": []
  },
  {
   "cell_type": "code",
   "execution_count": null,
   "metadata": {},
   "outputs": [],
   "source": [
    "  "
   ]
  },
  {
   "cell_type": "code",
   "execution_count": null,
   "metadata": {},
   "outputs": [],
   "source": []
  },
  {
   "cell_type": "code",
   "execution_count": null,
   "metadata": {},
   "outputs": [],
   "source": []
  },
  {
   "cell_type": "code",
   "execution_count": 69,
   "metadata": {},
   "outputs": [
    {
     "data": {
      "text/plain": [
       "array([[ 0,  1,  2,  3,  4],\n",
       "       [ 5,  6,  7,  8,  9],\n",
       "       [10, 11, 12, 13, 14],\n",
       "       [15, 16, 17, 18, 19]])"
      ]
     },
     "execution_count": 69,
     "metadata": {},
     "output_type": "execute_result"
    }
   ],
   "source": [
    "a=np.arange(0,20).reshape(4,5)\n",
    "a "
   ]
  },
  {
   "cell_type": "code",
   "execution_count": 72,
   "metadata": {},
   "outputs": [
    {
     "data": {
      "text/plain": [
       "array([[ 0,  1,  2,  3,  4],\n",
       "       [10, 11, 12, 13, 14],\n",
       "       [ 5,  6,  7,  8,  9],\n",
       "       [15, 16, 17, 18, 19]])"
      ]
     },
     "execution_count": 72,
     "metadata": {},
     "output_type": "execute_result"
    }
   ],
   "source": [
    "a[[0,1,2,3],:]\n",
    "a[[0,2,1,3],:]"
   ]
  },
  {
   "cell_type": "code",
   "execution_count": 73,
   "metadata": {},
   "outputs": [
    {
     "data": {
      "text/plain": [
       "array([[ 0,  1,  2,  3,  4],\n",
       "       [ 5,  6,  7,  8,  9],\n",
       "       [10, 11, 12, 13, 14],\n",
       "       [15, 16, 17, 18, 19]])"
      ]
     },
     "execution_count": 73,
     "metadata": {},
     "output_type": "execute_result"
    }
   ],
   "source": [
    "a"
   ]
  },
  {
   "cell_type": "code",
   "execution_count": 75,
   "metadata": {},
   "outputs": [
    {
     "data": {
      "text/plain": [
       "array([[19, 18, 17, 16, 15],\n",
       "       [14, 13, 12, 11, 10],\n",
       "       [ 9,  8,  7,  6,  5],\n",
       "       [ 4,  3,  2,  1,  0]])"
      ]
     },
     "execution_count": 75,
     "metadata": {},
     "output_type": "execute_result"
    }
   ],
   "source": [
    "a[::-1,::-1]"
   ]
  },
  {
   "cell_type": "markdown",
   "metadata": {},
   "source": [
    "# 广播机制\n",
    "\n",
    "广播(Broadcast)是 numpy 对不同形状(shape)的数组进行数值计算的方式， 对数组的算术运算通常在相应的元素上进行。\n",
    "\n",
    "如果两个数组 a 和 b 形状相同，即满足 a.shape == b.shape，那么 a*b 的结果就是 a 与 b 数组对应位相乘。这要求维数相同，且各维度的长度相同。"
   ]
  },
  {
   "cell_type": "code",
   "execution_count": 62,
   "metadata": {},
   "outputs": [
    {
     "name": "stdout",
     "output_type": "stream",
     "text": [
      "[ 10  40  90 160]\n"
     ]
    }
   ],
   "source": [
    "a = np.array([1,2,3,4]) \n",
    "b = np.array([10,20,30,40]) \n",
    "c = a * b \n",
    "print (c)"
   ]
  },
  {
   "cell_type": "markdown",
   "metadata": {},
   "source": [
    "但如果两个形状不同的数组呢？它们之间就不能做算术运算了吗？当然不是！为了保持数组形状相同，\n",
    "\n",
    "NumPy 设计了一种广播机制，\n",
    "这种机制的核心是对形状较小的数组，在横向或纵向上进行一定次数的重复，使其与形状较大的数组拥有相同的维度。"
   ]
  },
  {
   "cell_type": "code",
   "execution_count": null,
   "metadata": {},
   "outputs": [],
   "source": [
    "a = np.array([[ 0, 0, 0],\n",
    "           [10,10,10],\n",
    "           [20,20,20],\n",
    "           [30,30,30]])\n",
    "b = np.array([1,2,3])\n",
    "print(a + b)"
   ]
  },
  {
   "cell_type": "markdown",
   "metadata": {},
   "source": [
    "下面的图片展示了数组 b 如何通过广播来与数组 a 兼容。\n",
    "\n",
    "<img src=\"https://gitee.com/wu-chao-588/picgo/raw/master/images/image-20220306211717616.png\"/>\n",
    "\n",
    "4x3 的二维数组与长为 3 的一维数组相加，等效于把数组 b 在二维上重复 4 次再运算："
   ]
  },
  {
   "cell_type": "markdown",
   "metadata": {},
   "source": [
    "广播的规则:\n",
    "\n",
    "- 让所有输入数组都向其中形状最长的数组看齐，形状中不足的部分都通过在前面加 1 补齐。\n",
    "- 输出数组的形状是输入数组形状的各个维度上的最大值。\n",
    "- 如果输入数组的某个维度和输出数组的对应维度的长度相同或者其长度为 1 时，这个数组能够用来计算，否则出错。\n",
    "- 当输入数组的某个维度的长度为 1 时，沿着此维度运算时都用此维度上的第一组值。"
   ]
  },
  {
   "cell_type": "code",
   "execution_count": null,
   "metadata": {},
   "outputs": [],
   "source": [
    "a = np.arange(6).reshape((2,3))\n",
    "b = np.arange(2).reshape((2,1))"
   ]
  },
  {
   "cell_type": "code",
   "execution_count": null,
   "metadata": {},
   "outputs": [],
   "source": []
  },
  {
   "cell_type": "code",
   "execution_count": null,
   "metadata": {},
   "outputs": [],
   "source": []
  },
  {
   "cell_type": "code",
   "execution_count": null,
   "metadata": {},
   "outputs": [],
   "source": []
  },
  {
   "cell_type": "markdown",
   "metadata": {},
   "source": [
    "#### 为了更清楚的理解这些规则看，来看几个具体的示例。"
   ]
  },
  {
   "cell_type": "code",
   "execution_count": 63,
   "metadata": {},
   "outputs": [
    {
     "name": "stdout",
     "output_type": "stream",
     "text": [
      "[[1. 1. 1.]\n",
      " [1. 1. 1.]]\n",
      "[0 1 2]\n"
     ]
    },
    {
     "data": {
      "text/plain": [
       "array([[1., 2., 3.],\n",
       "       [1., 2., 3.]])"
      ]
     },
     "execution_count": 63,
     "metadata": {},
     "output_type": "execute_result"
    }
   ],
   "source": [
    "M = np.ones((2,3))\n",
    "print(M)\n",
    "a = np.arange(3)\n",
    "print(a)\n",
    "#两个数组的形状为 M.shape=(2,3),a.shape=(3,)\n",
    "#可以看到，根据规则1,数组a的维度更小，所以在其左边补1,变为M.shape -> (2,3), a.shape -> (1,3)\n",
    "#根据规则2,第一个维度不匹配，因此扩展这个维度以匹配数组：M.shape ->(2,3), a.shape -> (1,3)\n",
    "#现在两个数组的形状匹配了，可以看到它们的最终形状都为(2,3):\n",
    "M + a"
   ]
  },
  {
   "cell_type": "code",
   "execution_count": 64,
   "metadata": {},
   "outputs": [
    {
     "name": "stdout",
     "output_type": "stream",
     "text": [
      "a: [[0]\n",
      " [1]\n",
      " [2]]\n",
      "b: [0 1 2]\n"
     ]
    },
    {
     "data": {
      "text/plain": [
       "array([[0, 1, 2],\n",
       "       [1, 2, 3],\n",
       "       [2, 3, 4]])"
      ]
     },
     "execution_count": 64,
     "metadata": {},
     "output_type": "execute_result"
    }
   ],
   "source": [
    "a = np.arange(3).reshape((3,1))\n",
    "print('a:',a)\n",
    "b = np.arange(3)\n",
    "print('b:',b)\n",
    "a + b\n",
    "\n",
    "#两个数组的形状为：a.shape=(3,1), b.shape=(3,)\n",
    "#规则1告诉我们，需要用1将b的形状补全：a.shape -> (3,1), b.shape -> (1,3)\n",
    "#规则2告诉我们，需要更新这两个数组的维度来相互匹配：a.shape -> (3,3), b.shape -> (3,3)\n",
    "#因为结果匹配，所以这两个形状是兼容的"
   ]
  },
  {
   "cell_type": "markdown",
   "metadata": {},
   "source": [
    "### 对于广播规则另一种简单理解\n",
    "- 将两个数组的维度大小右对齐，然后比较对应维度上的数值，\n",
    "- 如果数值相等或其中有一个为1或者为空，则能进行广播运算，\n",
    "- 输出的维度大小为取数值大的数值。否则不能进行数组运算。"
   ]
  },
  {
   "cell_type": "code",
   "execution_count": null,
   "metadata": {},
   "outputs": [],
   "source": [
    "数组a大小为(2, 3)\n",
    "数组b大小为(1,)\n",
    "首先右对齐：\n",
    "   2   3\n",
    "       1\n",
    "----------\n",
    "   2   3\n",
    "所以最后两个数组运算的输出大小为：（2， 3）"
   ]
  },
  {
   "cell_type": "code",
   "execution_count": 65,
   "metadata": {},
   "outputs": [
    {
     "name": "stdout",
     "output_type": "stream",
     "text": [
      "a: [[0 1 2]\n",
      " [3 4 5]]\n",
      "b: [5]\n"
     ]
    },
    {
     "data": {
      "text/plain": [
       "array([[ 0,  5, 10],\n",
       "       [15, 20, 25]])"
      ]
     },
     "execution_count": 65,
     "metadata": {},
     "output_type": "execute_result"
    }
   ],
   "source": [
    "# 数组a大小为(2, 3)\n",
    "a = np.arange(6).reshape(2, 3)\n",
    "print('a:', a)\n",
    "# 数组b大小为(1,)\n",
    "b = np.array([5])\n",
    "print('b:',b)\n",
    "c = a * b \n",
    "# 输出的大小为(2, 3)\n",
    "c"
   ]
  },
  {
   "cell_type": "code",
   "execution_count": null,
   "metadata": {},
   "outputs": [],
   "source": [
    "数组a大小为(2, 1, 3)\n",
    "数组b大小为(4, 1)\n",
    "首先右对齐：\n",
    " 2  1  3\n",
    "    4  1\n",
    "----------\n",
    " 2  4  3\n",
    "所以最后两个数组运算的输出大小为：（2, 4, 3）"
   ]
  },
  {
   "cell_type": "code",
   "execution_count": 66,
   "metadata": {},
   "outputs": [
    {
     "name": "stdout",
     "output_type": "stream",
     "text": [
      "a: [[[0 1 2]]\n",
      "\n",
      " [[3 4 5]]]\n",
      "----------\n",
      "b: [[0]\n",
      " [1]\n",
      " [2]\n",
      " [3]]\n",
      "----------\n",
      "[[[0 1 2]\n",
      "  [1 2 3]\n",
      "  [2 3 4]\n",
      "  [3 4 5]]\n",
      "\n",
      " [[3 4 5]\n",
      "  [4 5 6]\n",
      "  [5 6 7]\n",
      "  [6 7 8]]] (2, 4, 3)\n"
     ]
    }
   ],
   "source": [
    "# 数组大小为(2, 1, 3)\n",
    "a= np.arange(6).reshape(2, 1, 3)\n",
    "\n",
    "print('a:',a)\n",
    "print('-'*10)\n",
    "# 数组大小为(4, 1)\n",
    "b = np.arange(4).reshape(4, 1)\n",
    "print('b:',b)\n",
    "print('-'*10)\n",
    "c = a + b\n",
    "print(c,c.shape)\n"
   ]
  },
  {
   "cell_type": "markdown",
   "metadata": {},
   "source": [
    "从这里能够看出:\n",
    "- 两个数组右对齐以后，对应维度里的数值要么相等，要么有一个为1，要么缺失取大值。\n",
    "- 除此之外就会报错。像下面的两个数组就不能做运算。"
   ]
  },
  {
   "cell_type": "code",
   "execution_count": null,
   "metadata": {},
   "outputs": [],
   "source": [
    "数组a大小为(2, 1, 3)\n",
    "数组b大小为(4, 2)\n",
    "首先右对齐：\n",
    " 2  1  3\n",
    "    4  2\n",
    "----------\n",
    "2跟3不匹配，此时就不能做运算"
   ]
  },
  {
   "cell_type": "code",
   "execution_count": 68,
   "metadata": {},
   "outputs": [
    {
     "name": "stdout",
     "output_type": "stream",
     "text": [
      "a: [[[0 1 2]]\n",
      "\n",
      " [[3 4 5]]]\n",
      "----------\n",
      "b: [[0 1]\n",
      " [2 3]\n",
      " [4 5]\n",
      " [6 7]]\n",
      "----------\n"
     ]
    },
    {
     "ename": "ValueError",
     "evalue": "operands could not be broadcast together with shapes (2,1,3) (4,2) ",
     "output_type": "error",
     "traceback": [
      "\u001b[1;31m---------------------------------------------------------------------------\u001b[0m",
      "\u001b[1;31mValueError\u001b[0m                                Traceback (most recent call last)",
      "\u001b[1;32m<ipython-input-68-2ebfaa0877fb>\u001b[0m in \u001b[0;36m<module>\u001b[1;34m\u001b[0m\n\u001b[0;32m      9\u001b[0m \u001b[0mprint\u001b[0m\u001b[1;33m(\u001b[0m\u001b[1;34m'-'\u001b[0m\u001b[1;33m*\u001b[0m\u001b[1;36m10\u001b[0m\u001b[1;33m)\u001b[0m\u001b[1;33m\u001b[0m\u001b[1;33m\u001b[0m\u001b[0m\n\u001b[0;32m     10\u001b[0m \u001b[1;31m# 运行报错\u001b[0m\u001b[1;33m\u001b[0m\u001b[1;33m\u001b[0m\u001b[1;33m\u001b[0m\u001b[0m\n\u001b[1;32m---> 11\u001b[1;33m \u001b[0ma\u001b[0m \u001b[1;33m+\u001b[0m \u001b[0mb\u001b[0m\u001b[1;33m\u001b[0m\u001b[1;33m\u001b[0m\u001b[0m\n\u001b[0m",
      "\u001b[1;31mValueError\u001b[0m: operands could not be broadcast together with shapes (2,1,3) (4,2) "
     ]
    }
   ],
   "source": [
    "# 数组a大小为(2, 1, 3)\n",
    "a = np.arange(6).reshape(2, 1, 3)\n",
    "print('a:',a)\n",
    "print('-'*10)\n",
    "\n",
    "# 数组b大小为(4, 2)\n",
    "b = np.arange(8).reshape(4, 2)\n",
    "print('b:',b)\n",
    "print('-'*10)\n",
    "# 运行报错\n",
    "a + b"
   ]
  },
  {
   "cell_type": "markdown",
   "metadata": {},
   "source": [
    ">广播机制能够处理不同大小的数组，数组之间必须满足广播的规则，否则就会报错。事实上，相同大小的数组运算也遵循广播机制"
   ]
  },
  {
   "cell_type": "markdown",
   "metadata": {},
   "source": [
    "# 统计函数\n",
    "NumPy 能方便地求出统计学常见的描述性统计量。"
   ]
  },
  {
   "cell_type": "markdown",
   "metadata": {},
   "source": [
    "### 求平均值 mean()"
   ]
  },
  {
   "cell_type": "code",
   "execution_count": null,
   "metadata": {},
   "outputs": [],
   "source": [
    "m1 = np.arange(20).reshape((4,5))\n",
    "print(m1)\n",
    "# 默认求出数组所有元素的平均值\n",
    "m1.mean()"
   ]
  },
  {
   "cell_type": "markdown",
   "metadata": {},
   "source": [
    "#### 若想求某一维度的平均值，设置 axis 参数，多维数组的元素指定\n",
    "\n",
    "<img src=\"https://gitee.com/wu-chao-588/picgo/raw/master/images/image-20220306224655273.png\" />\n",
    "\n",
    "- axis = 0,将从上往下计算\n",
    "- axis = 1,将从左往右计算"
   ]
  },
  {
   "cell_type": "code",
   "execution_count": null,
   "metadata": {},
   "outputs": [],
   "source": [
    "m1 = np.arange(20).reshape((4,5))\n",
    "print(m1)\n",
    "# axis=0将从上往下计算平均值\n",
    "m1.mean(axis=0)"
   ]
  },
  {
   "cell_type": "code",
   "execution_count": null,
   "metadata": {},
   "outputs": [],
   "source": [
    "# axis=1 将从左往右计算平均值\n",
    "m1.mean(axis=1)"
   ]
  },
  {
   "cell_type": "markdown",
   "metadata": {},
   "source": [
    "### 中位数 np.median\n",
    "又称中点数，中值\n",
    "\n",
    "是按顺序排列的一组数据中居于中间位置的数，代表一个样本、种群或概率分布中的一个数值\n",
    "\n",
    "- 平均数：是一个\"虚拟\"的数，是通过计算得到的，它不是数据中的原始数据。. 中位数：是一个不完全\"虚拟\"的数。\n",
    "- 平均数：反映了一组数据的平均大小，常用来一代表数据的总体 \"平均水平\"。. 中位数：像一条分界线，将数据分成前半部分和后半部分，因此用来代表一组数据的\"中等水平\""
   ]
  },
  {
   "cell_type": "code",
   "execution_count": null,
   "metadata": {},
   "outputs": [],
   "source": [
    "ar1 = np.array([1,3,5,6,8])\n",
    "np.median(ar1)"
   ]
  },
  {
   "cell_type": "code",
   "execution_count": null,
   "metadata": {},
   "outputs": [],
   "source": [
    "ar1 = np.array([1,3,5,6,8,9])\n",
    "np.median(ar1)"
   ]
  },
  {
   "cell_type": "code",
   "execution_count": null,
   "metadata": {},
   "outputs": [],
   "source": []
  },
  {
   "cell_type": "markdown",
   "metadata": {},
   "source": [
    "### 求标准差 ndarray.std\n",
    "在概率统计中最常使用作为统计分布程度上的测量,是反映一组数据离散程度最常用的一种量化形式，是表示精确度的重要指标\n",
    "- 标准差定义是总体各单位标准值与其平均数离差平方的算术平均数的平方根。\n",
    "\n",
    "简单来说，标准差是一组数据平均值分散程度的一种度量。\n",
    "- 一个较大的标准差，代表大部分数值和其平均值之间差异较大；\n",
    "- 一个较小的标准差，代表这些数值较接近平均值。"
   ]
  },
  {
   "cell_type": "code",
   "execution_count": null,
   "metadata": {},
   "outputs": [],
   "source": [
    "'''\n",
    "例如，A、B两组各有6位学生参加同一次语文测验，\n",
    "A组的分数为95、85、75、65、55、45，\n",
    "B组的分数为73、72、71、69、68、67。\n",
    "分析那组学生之间的差距大?\n",
    "'''\n",
    "a = np.array([95,85,75,65,55,45])\n",
    "b = np.array([73,72,71,69,68,67])\n",
    "print('A组的标准差为:',a.std())\n",
    "print('B组的标准差为:',b.std())\n",
    "\n"
   ]
  },
  {
   "cell_type": "code",
   "execution_count": null,
   "metadata": {},
   "outputs": [],
   "source": [
    "# 按步骤计算下标准差\n",
    "\n"
   ]
  },
  {
   "cell_type": "markdown",
   "metadata": {},
   "source": [
    ">标准差应用于投资上，可作为量度回报稳定性的指标。标准差数值越大，代表回报远离过去平均数值，回报较不稳定故风险越高。相反，标准差数值越小，代表回报较为稳定，风险亦较小。"
   ]
  },
  {
   "cell_type": "markdown",
   "metadata": {},
   "source": [
    "###  方差ndarray.var()\n",
    "\n",
    "衡量随机变量或一组数据时离散程度的度量"
   ]
  },
  {
   "cell_type": "code",
   "execution_count": null,
   "metadata": {},
   "outputs": [],
   "source": [
    "a = np.array([95,85,75,65,55,45])\n",
    "b = np.array([73,72,71,69,68,67])\n",
    "print('A组的方差为:',a.var())\n",
    "print('B组的方准差为:',b.var())"
   ]
  },
  {
   "cell_type": "markdown",
   "metadata": {},
   "source": [
    "> 标准差有计量单位，而方差无计量单位，但两者的作用一样，虽然能很好的描述数据与均值的偏离程度，但是处理结果是不符合我们的直观思维的。 "
   ]
  },
  {
   "cell_type": "markdown",
   "metadata": {},
   "source": [
    "### 求最大值 ndarray.max()"
   ]
  },
  {
   "cell_type": "code",
   "execution_count": null,
   "metadata": {},
   "outputs": [],
   "source": [
    "print(m1)\n",
    "print(m1.max())\n",
    "print('axis=0,从上往下查找:',m1.max(axis=0))\n",
    "print('axis=1,从左往右查找',m1.max(axis=1))"
   ]
  },
  {
   "cell_type": "markdown",
   "metadata": {},
   "source": [
    "### 求最小值 ndarray.min()"
   ]
  },
  {
   "cell_type": "code",
   "execution_count": null,
   "metadata": {},
   "outputs": [],
   "source": [
    "print(m1)\n",
    "print(m1.min())\n",
    "print('axis=0,从上往下查找:',m1.min(axis=0))\n",
    "print('axis=1,从左往右查找',m1.min(axis=1))"
   ]
  },
  {
   "cell_type": "markdown",
   "metadata": {},
   "source": [
    "### 求和 ndarray.sum()"
   ]
  },
  {
   "cell_type": "code",
   "execution_count": null,
   "metadata": {},
   "outputs": [],
   "source": [
    "print(m1)\n",
    "print(m1.sum())\n",
    "print('axis=0,从上往下查找:',m1.sum(axis=0))\n",
    "print('axis=1,从左往右查找',m1.sum(axis=1))"
   ]
  },
  {
   "cell_type": "markdown",
   "metadata": {},
   "source": [
    "\n",
    "### 加权平均值 numpy.average()\n",
    "即将各数值乘以相应的权数，然后加总求和得到总体值，再除以总的单位数\n",
    "\n",
    "<b>numpy.average(a, axis=None, weights=None, returned=False)</b>\n",
    "\n",
    "- weights： 数组，可选\n",
    "\n",
    "    `与 a 中的值关联的权重数组。 a 中的每个值都根据其关联的权重对平均值做出贡献。权重数组可以是一维的(在这种情况下，它的长度必须是沿给定轴的 a 的大小)或与 a 具有相同的形状。如果 weights=None，则假定 a 中的所有数据的权重等于 1。一维计算是：\n",
    "\n",
    "    avg = sum(a * weights) / sum(weights)\n",
    "\n",
    "    对权重的唯一限制是 sum(weights) 不能为 0。`\n"
   ]
  },
  {
   "cell_type": "code",
   "execution_count": null,
   "metadata": {},
   "outputs": [],
   "source": [
    "average_a1 = [20,30,50]\n",
    "\n",
    "print(np.average(average_a1))\n",
    "print(np.mean(average_a1))\n"
   ]
  },
  {
   "cell_type": "markdown",
   "metadata": {},
   "source": [
    "# 实例\n",
    "\n",
    "\n",
    "使用“示例—权重已知”中的数据，我们对比两位学生的考试成绩\n",
    "\n",
    "| 姓名| 平时测验|期中考试| 期末考试|\n",
    "|--| -- |:--| :--|\n",
    "|小明| 80 |90| 95|  \n",
    "|小刚| 95 |90| 80| \n",
    "\n",
    "学校规定的学科综合成绩的计算方式是：\n",
    "\n",
    "| 平时测验占比|期中考试占比| 期末考试占比|\n",
    "| -- |:--| :--|\n",
    "| 20% |30%| 50%|   \n",
    "\n",
    "要求 :比较谁的综合成绩更好\n"
   ]
  },
  {
   "cell_type": "code",
   "execution_count": null,
   "metadata": {},
   "outputs": [],
   "source": [
    "xiaoming = np.array([80,90,95])\n",
    "xiaogang = np.array([95,90,80])\n",
    "# 权重:\n",
    "\n",
    "weights = np.array([0.2,0.3,0.5])\n",
    "# 分别计算小明和小刚的平均值\n",
    "\n",
    "\n",
    "# 分别计算小明和小刚的加权平均值\n",
    "\n",
    "\n",
    "# 对比得到结果\n"
   ]
  },
  {
   "cell_type": "markdown",
   "metadata": {},
   "source": [
    "股票价格的波动是股票市场风险的表现，因此股票市场风险分析就是对股票市场价格波动进行分析。波动性代表了未来价格取值的不确定性，这种不确定性一般用`方差`或`标准差`来刻画（Markowitz,1952）。\n",
    "\n",
    "下表是中国和美国部分时段的股票统计指标，其中中国证券市场的数据由“钱龙”软件下载，美国证券市场的数据取自ECI的“WorldStockExchangeDataDisk”。表2股票统计指标\n",
    "\n",
    "\n",
    "\n",
    "| 年份 | 业绩表现                                          | 业绩表现                                                  | 波动率                                            | 波动率                                                    |\n",
    "| ---- | ------------------------------------------------- | --------------------------------------------------------- | ------------------------------------------------- | :-------------------------------------------------------- |\n",
    "| 年代 | [上证综指] | [标准普尔指数] | [上证综指] | [标准普尔指数] |\n",
    "| 1996 | 110.93                                            | 16.46                                                     | 0.2376                                            | 0.0573                                                    |\n",
    "| 1997 | -0.13                                             | 31.01                                                     | 0.1188                                            | 0.0836                                                    |\n",
    "| 1998 | 8.94                                              | 26.67                                                     | 0.0565                                            | 0.0676                                                    |\n",
    "| 1999 | 17.24                                             | 19.53                                                     | 0.1512                                            | 0.0433                                                    |\n",
    "| 2000 | 43.86                                             | -10.14                                                    | 0.097                                             | 0.0421                                                    |\n",
    "| 2001 | -15.34                                            | -13.04                                                    | 0.0902                                            | 0.0732                                                    |\n",
    "| 2002 | -20.82                                            | -23.37                                                    | 0.0582                                            | 0.1091                                                    |\n",
    "\n",
    "\n",
    "变异系数（Coefficient of Variation）：当需要比较两组数据离散程度大小的时候，如果两组数据的测量尺度相差太大，或者数据量纲的不同，直接使用标准差来进行比较不合适，此时就应当消除测量尺度和量纲的影响，而变异系数可以做到这一点，它是原始数据标准差与原始数据平均数的比"
   ]
  },
  {
   "cell_type": "code",
   "execution_count": null,
   "metadata": {},
   "outputs": [],
   "source": [
    "# 股票信息\n",
    "stat_info = np.array([\n",
    "                [110.93, 16.46, 0.2376, 0.0573],\n",
    "                [-0.13, 31.01, 0.1188, 0.0836],\n",
    "                [8.94, 26.67, 0.0565, 0.0676],\n",
    "                [17.24, 19.53, 0.1512, 0.0433],\n",
    "                [43.86, -10.14, 0.097, 0.0421],\n",
    "                [-15.34, 13.04, 0.0902, 0.0732],\n",
    "                [-20.82, 23.37, 0.0582, 0.1091]\n",
    "])\n",
    "    \n",
    "# 先计算7年的期望值(平均值)\n",
    "\n",
    "# 计算7年的方差\n",
    "\n",
    "  \n",
    "# 因为标准差是绝对值，不能通过标准差对中美直接进行对比，而变异系数可以直接比较\n",
    "# 变异系数 = 原始数据标准差 / 原始数据平均数\n"
   ]
  },
  {
   "cell_type": "code",
   "execution_count": null,
   "metadata": {},
   "outputs": [],
   "source": []
  }
 ],
 "metadata": {
  "kernelspec": {
   "display_name": "Python 3",
   "language": "python",
   "name": "python3"
  },
  "language_info": {
   "codemirror_mode": {
    "name": "ipython",
    "version": 3
   },
   "file_extension": ".py",
   "mimetype": "text/x-python",
   "name": "python",
   "nbconvert_exporter": "python",
   "pygments_lexer": "ipython3",
   "version": "3.7.6"
  }
 },
 "nbformat": 4,
 "nbformat_minor": 4
}
