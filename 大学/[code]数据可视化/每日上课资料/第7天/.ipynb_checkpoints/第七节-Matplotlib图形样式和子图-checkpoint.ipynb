{
 "cells": [
  {
   "cell_type": "code",
   "execution_count": null,
   "metadata": {},
   "outputs": [],
   "source": [
    "%matplotlib inline\n",
    "\n",
    "# 引入Matplotlib引入\n",
    "from matplotlib import pyplot as plt\n",
    "import numpy as np"
   ]
  },
  {
   "cell_type": "markdown",
   "metadata": {},
   "source": [
    "# 一. 改变x轴显示内容xticks方法再次说明\n",
    "\n",
    "- <font color=\"red\">第一个参数 需要一个数字列表，指示x轴上的记号应该指向哪里,您向这个函数传递了一个字符串，它不知道如何将其转换为x轴上的位置</font>"
   ]
  },
  {
   "cell_type": "markdown",
   "metadata": {},
   "source": [
    "- 1.x轴是数值型数据"
   ]
  },
  {
   "cell_type": "code",
   "execution_count": null,
   "metadata": {},
   "outputs": [],
   "source": [
    "# 日期从1991年到2020 ,30年的日期\n",
    "dates = np.arange(1991,2021)\n",
    "dates"
   ]
  },
  {
   "cell_type": "code",
   "execution_count": null,
   "metadata": {},
   "outputs": [],
   "source": [
    "# 使用numpy随机生成销量\n",
    "sales = np.random.randint(50,500,size=30)\n",
    "sales"
   ]
  },
  {
   "cell_type": "code",
   "execution_count": null,
   "metadata": {},
   "outputs": [],
   "source": [
    "# 绘制销量图:\n",
    "plt.plot(dates,sales)"
   ]
  },
  {
   "cell_type": "markdown",
   "metadata": {},
   "source": [
    "> 对于数值型数组,绘图会自动分割."
   ]
  },
  {
   "cell_type": "code",
   "execution_count": null,
   "metadata": {},
   "outputs": [],
   "source": [
    "# 如果想按照自己的逻辑分割,注意数值型对应轴上面的数值,比如:\n",
    "plt.xticks([1980,1980]) # 当前会看到x轴上面没有数据,其实是有数据,只不过,默认当前图形的x轴区间是1991,2021\n",
    "# 可以借助设置%matplotlib notebook,移动图像来查看\n",
    "# 绘制销量图:\n",
    "plt.plot(dates,sales)"
   ]
  },
  {
   "cell_type": "code",
   "execution_count": null,
   "metadata": {},
   "outputs": [],
   "source": [
    "# 如果想安装自己的逻辑分割,注意数值型使用的是元素本身,而不是元素的索引\n",
    "plt.xticks([1990,2005,2010,2020]) # 元素本身\n",
    "plt.plot(dates,sales)"
   ]
  },
  {
   "cell_type": "code",
   "execution_count": null,
   "metadata": {},
   "outputs": [],
   "source": [
    "# 如果想安装自己的逻辑分割,注意数值型使用的是元素本身,而不是元素的索引\n",
    "plt.xticks([dates[i] for i in range(0,len(dates),2)]+[2020],rotation=45) # 元素本身\n",
    "# 绘制销量图:\n",
    "plt.plot(dates,sales)"
   ]
  },
  {
   "cell_type": "code",
   "execution_count": null,
   "metadata": {},
   "outputs": [],
   "source": [
    "# 如何还是x轴想间隔指定个数\n",
    "# 1. 将x轴更改为字符串\n",
    "# 日期从1991年到2020 ,30年的日期\n",
    "dates = np.arange(1991,2021).astype(np.str_)\n",
    "# xticks 第一个参数中元素不能我字符串 \n",
    "plt.xticks(range(1,len(dates),2),rotation=45) # 元素本身\n",
    "# 绘制销量图:\n",
    "plt.plot(dates,sales)"
   ]
  },
  {
   "cell_type": "code",
   "execution_count": null,
   "metadata": {
    "scrolled": true
   },
   "outputs": [],
   "source": [
    "# 如何还是x轴想间隔指定个数\n",
    "# 1. 将x轴更改为字符串\n",
    "# 日期从1991年到2020 ,30年的日期\n",
    "dates = np.arange(1991,2021)\n",
    "# 间隔取得元素本身\n",
    "plt.xticks(dates,rotation=45) # 元素本身\n",
    "# plt.xticks([dates[i] for i in range(0,len(dates),2)],rotation=45) # 元素本身\n",
    "# 绘制销量图:\n",
    "plt.ylim(0,500)\n",
    "plt.plot(dates,sales)"
   ]
  },
  {
   "cell_type": "markdown",
   "metadata": {},
   "source": [
    "\n",
    "<font color=\"red\">\n",
    "# 总结:\n",
    "    \n",
    "- x轴是数值型,会按照数值型本身作为x轴的坐标\n",
    "    \n",
    "- x轴为字符串类型,会按照索引作为x轴的坐标\n",
    "</font>"
   ]
  },
  {
   "cell_type": "markdown",
   "metadata": {},
   "source": [
    "# 例子"
   ]
  },
  {
   "cell_type": "code",
   "execution_count": null,
   "metadata": {},
   "outputs": [],
   "source": [
    "time=np.arange(2000,2020).astype(np.str_)\n",
    "sales = [109, 150, 172, 260, 273, 333, 347, 393, 402, 446, 466, 481, 499,504, 513, 563, 815, 900, 930, 961]\n",
    "plt.xticks(range(0,len(time),2))##,labels=['year%s'%i for i in time],rotation=45,color=\"red\")\n",
    "#plt.xticks(range(0,len(time),2),labels=['year%s'%time[i] for i in range(0,len(time),2)],rotation=45,color=\"red\")\n",
    "plt.yticks(color=\"blue\")\n",
    "plt.plot(time,sales)"
   ]
  },
  {
   "cell_type": "code",
   "execution_count": null,
   "metadata": {},
   "outputs": [],
   "source": []
  },
  {
   "cell_type": "markdown",
   "metadata": {},
   "source": [
    "# 二. 其他元素可视性"
   ]
  },
  {
   "cell_type": "markdown",
   "metadata": {},
   "source": [
    "### 1. 显示网格:plt.grid()\n",
    "\n",
    "`plt.grid(True, linestyle = \"--\",color = \"gray\", linewidth = \"0.5\",axis = 'x') `\n",
    "\n",
    "- 显示网格\n",
    "- linestyle：线型\n",
    "- color：颜色\n",
    "- linewidth：宽度\n",
    "- axis：x，y，both，显示x/y/两者的格网"
   ]
  },
  {
   "cell_type": "code",
   "execution_count": null,
   "metadata": {
    "scrolled": true
   },
   "outputs": [],
   "source": [
    "x = np.linspace(-np.pi,np.pi,256,endpoint = True)\n",
    "c, s = np.cos(x), np.sin(x)\n",
    "plt.plot(x, c)\n",
    "plt.plot(x, s)\n",
    "# 通过ndarry创建图表\n",
    "plt.grid(True, linestyle = \"--\",color = \"gray\", linewidth = \"0.5\",axis = 'both')\n",
    "# 显示网格\n",
    "# linestyle：线型\n",
    "# color：颜色\n",
    "# linewidth：宽度  (lw)\n",
    "# axis：x，y，both，显示x/y/两者的格网"
   ]
  },
  {
   "cell_type": "markdown",
   "metadata": {},
   "source": [
    "### 2. plt.gca( ) 对坐标轴的操作\n",
    "\n",
    "首先观察画布上面的坐标轴，如下图\n",
    "<img src=\"https://gitee.com/wu-chao-588/picgo/raw/master/images/image-20220319000438039.png\" style=\"width:200px\">\n",
    "\n",
    "上图中，用红色标识出的黑色边界框线在Matplotlib中被称为<b>spines</b>，中文翻译为脊柱......在我理解看来，意思是这些边界框线是坐标轴区域的“支柱”。\n",
    "\n",
    "那么，我们最终要挪动的其实就是这四个“支柱”\n",
    "\n",
    "且所有的操作均在plt.gca( )中完成，gca就是get current axes的意思\n",
    "\n",
    "接下来需要绘制图如下:\n",
    "\n",
    "<img src=\"https://gitee.com/wu-chao-588/picgo/raw/master/images/image-20220319004154730.png\" style=\"width:600px\"/>"
   ]
  },
  {
   "cell_type": "markdown",
   "metadata": {},
   "source": [
    "- 获取当前坐标轴位置并移动"
   ]
  },
  {
   "cell_type": "code",
   "execution_count": null,
   "metadata": {},
   "outputs": [],
   "source": [
    "x = np.arange(-50,51)\n",
    "y = x ** 2\n",
    "plt.plot(x, y)"
   ]
  },
  {
   "cell_type": "code",
   "execution_count": null,
   "metadata": {
    "scrolled": true
   },
   "outputs": [],
   "source": [
    "x = np.arange(-50,51)\n",
    "y = x ** 2\n",
    "# 获取当前坐标轴\n",
    "ax = plt.gca()\n",
    "# 通过坐标轴spines,确定 top, bottom, left, right (分别表示上,下,左和右)\n",
    "\n",
    "# 不需要右侧和上侧线条,则可以设置他的颜色\n",
    "ax.spines['right'].set_color(\"none\")\n",
    "ax.spines['top'].set_color(\"none\")\n",
    "\n",
    "plt.plot(x, y)"
   ]
  },
  {
   "cell_type": "code",
   "execution_count": null,
   "metadata": {
    "scrolled": true
   },
   "outputs": [],
   "source": [
    "# 分别定义x y\n",
    "x = np.arange(-50,51)\n",
    "y = x ** 2\n",
    "# 获取当前坐标轴\n",
    "ax = plt.gca()\n",
    "# 不需要右侧和上侧线条,则可以设置他的颜色\n",
    "ax.spines['right'].set_color(\"none\")\n",
    "ax.spines['top'].set_color(\"none\")\n",
    "# 移动下轴到指定位置\n",
    "# 在这里，position位置参数有三种，data , outward(向外-可自行尝试) , axes\n",
    "# axes:0.0 - 1.0之间的值，整个轴上的比例\n",
    "ax.spines['left'].set_position(('axes',0.5))\n",
    "\n",
    "# 移动下轴到指定位置\n",
    "# 'data'表示按数值挪动，其后数字代表挪动到Y轴的刻度值\n",
    "ax.spines['bottom'].set_position(('data',0.0))\n",
    "\n",
    "plt.plot(x, y)"
   ]
  },
  {
   "cell_type": "code",
   "execution_count": null,
   "metadata": {},
   "outputs": [],
   "source": []
  },
  {
   "cell_type": "code",
   "execution_count": null,
   "metadata": {},
   "outputs": [],
   "source": []
  },
  {
   "cell_type": "code",
   "execution_count": null,
   "metadata": {},
   "outputs": [],
   "source": []
  },
  {
   "cell_type": "markdown",
   "metadata": {},
   "source": [
    "# 三. plt.rcParams设置画图的分辨率，大小等信息\n",
    "\n",
    "- plt.rcParams['figure.figsize'] = (8.0, 4.0) # 设置figure_size尺寸\n",
    "- plt.rcParams['figure.dpi'] = 300 #分辨率\n",
    " - 默认的像素：[6.0,4.0]，分辨率为72，图片尺寸为 432x288\n",
    " - 指定dpi=100，图片尺寸为 600*400\n",
    " - 指定dpi=300，图片尺寸为 1800*1200"
   ]
  },
  {
   "cell_type": "code",
   "execution_count": null,
   "metadata": {},
   "outputs": [],
   "source": [
    "# 分辨率为72，图片尺寸为 432x288\n",
    "plt.plot() "
   ]
  },
  {
   "cell_type": "code",
   "execution_count": null,
   "metadata": {},
   "outputs": [],
   "source": [
    "# 指定dpi=100，图片尺寸为 600*400\n",
    "plt.rcParams['figure.dpi'] = 100"
   ]
  },
  {
   "cell_type": "code",
   "execution_count": null,
   "metadata": {},
   "outputs": [],
   "source": [
    "plt.plot()"
   ]
  },
  {
   "cell_type": "code",
   "execution_count": null,
   "metadata": {},
   "outputs": [],
   "source": [
    "# 设置尺寸\n",
    "plt.rcParams['figure.figsize']=(3,2)\n",
    "plt.plot()"
   ]
  },
  {
   "cell_type": "markdown",
   "metadata": {},
   "source": [
    "# 练习 \n",
    "\n",
    "将上节课的 销量程序的分别率调高,看下轴上面的字体是否清晰"
   ]
  },
  {
   "cell_type": "code",
   "execution_count": null,
   "metadata": {},
   "outputs": [],
   "source": []
  },
  {
   "cell_type": "markdown",
   "metadata": {},
   "source": [
    "# 四.图表的样式参数设置"
   ]
  },
  {
   "cell_type": "markdown",
   "metadata": {},
   "source": [
    "\n",
    "### 1.线条样式\n",
    "\n",
    "传入x,y，通过plot画图,并设置折线颜色、透明度、折线样式和折线宽度  标记点、标记点大小、标记点边颜色、标记点边宽,网格\n",
    "\n",
    "`plt.plot(x,y,color='red',alpha=0.3,linestyle='-',linewidth=5,marker='o',markeredgecolor='r',markersize='20',markeredgewidth=10)`\n",
    "\n",
    "- 1). color:可以使用颜色的16进制，也可以使用线条颜色的英文，还可是使用之前的缩写\n",
    "    \n",
    "| 字符  | 颜色 | 英文全称 |\n",
    "| :----- | :---- |:-------- |\n",
    "| ‘b’   | 蓝色 | blue     |\n",
    "| ‘g’   | 绿色 | green    |\n",
    "| ’ r ’ | 红色 | red      |\n",
    "| ’ c ’ | 青色 | cyan     |\n",
    "| ’ m ’ | 品红 | magenta  |\n",
    "| ’ y ’ | 黄色 | yellow   |\n",
    "| ’ k ’ | 黑色 | black    |\n",
    "| ’ w ’ | 白色 | white    |\n",
    "\n",
    "> 颜色参考地址:http://tools.jb51.net/color/jPicker\n",
    "  \n",
    "- 2). alpha: 0-1，透明度\n",
    " \n",
    "- 3). linestyle:折线样式\n",
    "\n",
    "| 字符 | 描述   |\n",
    "| :---- | :------ |\n",
    "| '-'  | 实线   |\n",
    "| '--' | 虚线   |\n",
    "| '-.' | 点划线 |\n",
    "| ':'  | 虚线   |\n",
    "\n",
    "\n",
    "\n",
    "- 3). marker标记点:\n",
    "\n",
    "\n",
    "| 标记符号 | 描述       |\n",
    "| :-------- | :---------- |\n",
    "| '.'      | 点标记     |\n",
    "| 'o'      | 圆圈标记   |\n",
    "| 'x'      | 'X'标记    |\n",
    "| 'D'      | 钻石标记   |\n",
    "| 'H'      | 六角标记   |\n",
    "| 's'      | 正方形标记 |\n",
    "| '+'      | 加号标记   |\n"
   ]
  },
  {
   "cell_type": "code",
   "execution_count": null,
   "metadata": {},
   "outputs": [],
   "source": [
    "x= np.arange(0, 100,10)\n",
    "y= x ** 2\n",
    "\"\"\"linewidth 设置线条粗细\n",
    "   label 设置线条标签\n",
    "   color 设置线条颜色\n",
    "   linestyle 设置线条形状\n",
    "   marker 设置线条样点标记\n",
    "\"\"\"\n",
    "plt.plot(x, y, linewidth = '1', label = \"test\", color='r', linestyle='--', marker='H')\n",
    "plt.legend(loc='upper left')"
   ]
  },
  {
   "cell_type": "code",
   "execution_count": null,
   "metadata": {},
   "outputs": [],
   "source": [
    "# 练习:\n",
    "\n",
    "- 1. 线条样点标记: 圆圈标记\n",
    "- 2. 线条样式: 虚线\n",
    "- 3. 线条颜色: 自选"
   ]
  },
  {
   "cell_type": "markdown",
   "metadata": {},
   "source": [
    "### 2.线条样式缩写"
   ]
  },
  {
   "cell_type": "code",
   "execution_count": null,
   "metadata": {
    "scrolled": true
   },
   "outputs": [],
   "source": [
    "# 颜色 标记 样式\n",
    "plt.plot([1,2,3],[4,7,6],'r*-.')\n",
    "plt.plot([2,4,5],[3,8,7],'m+--')"
   ]
  },
  {
   "cell_type": "code",
   "execution_count": null,
   "metadata": {},
   "outputs": [],
   "source": [
    "plt.rcParams['figure.figsize']=(8,4)\n",
    "#不同种类不同颜色的线\n",
    "#不同种类不同颜色的线并添加图例\n",
    "x=np.linspace(0,10,100)\n",
    "\n",
    "plt.plot(x,x+0, '-g', label='-g')    #实线  绿色\n",
    "\n",
    "plt.plot(x,x+1, '--c', label='--c')   #虚线 浅蓝色\n",
    "\n",
    "plt.plot(x,x+2, '-.k', label='-.k')   #点划线 黑色\n",
    "\n",
    "plt.plot(x,x+3, '-r', label='-r')    #实线  红色\n",
    "\n",
    "plt.plot(x,x+4, 'o', label='o')     #点   默认是蓝色\n",
    "\n",
    "plt.plot(x,x+5, 'x', label='x')     #叉叉  默认是蓝色\n",
    "\n",
    "plt.plot(x,x+6, 'dr', label='dr')    #砖石  红色\n",
    "\n",
    "#添加图例右下角lower right  透明度  阴影  边框宽度\n",
    "plt.legend(loc='lower right',framealpha=0.5,shadow=True, borderpad=0.5)"
   ]
  },
  {
   "cell_type": "code",
   "execution_count": null,
   "metadata": {},
   "outputs": [],
   "source": []
  },
  {
   "cell_type": "code",
   "execution_count": null,
   "metadata": {},
   "outputs": [],
   "source": [
    "# 练习:\n",
    "\n",
    "#之前的使用缩写形式呈现:\n",
    "\n",
    "\n"
   ]
  },
  {
   "cell_type": "markdown",
   "metadata": {},
   "source": [
    "# 五.创建图形对象\n",
    "\n",
    "在 Matplotlib 中，面向对象编程的核心思想是创建图形对象（figure object）。通过图形对象来调用其它的方法和属性，这样有助于我们更好地处理多个画布。在这个过程中，pyplot 负责生成图形对象，并通过该对象来添加一个或多个 axes 对象（即绘图区域）。\n",
    "\n",
    "Matplotlib 提供了`matplotlib.figure`图形类模块，它包含了创建图形对象的方法。通过调用 pyplot 模块中 figure() 函数来实例化 figure 对象。\n",
    "\n"
   ]
  },
  {
   "cell_type": "markdown",
   "metadata": {},
   "source": [
    "### 创建图形对象\n",
    "figure方法如下：\n",
    "\n",
    "`plt.figure(\n",
    "    num=None,------------------------------------> 图像编号或名称，数字为编号 ，字符串为名称\n",
    "    figsize=None,--------------------------------> 指定figure的宽和高，单位为英寸；\n",
    "    dpi=None,------------------------------------> 定绘图对象的分辨率，即每英寸多少个像素，缺省值为72\n",
    "    facecolor=None,------------------------------> 背景颜色\n",
    "    edgecolor=None, -----------------------------> 边框颜色\n",
    "    frameon=True, -------------------------------> 是否显示边框\n",
    "    **kwargs,\n",
    ")`"
   ]
  },
  {
   "cell_type": "code",
   "execution_count": null,
   "metadata": {},
   "outputs": [],
   "source": [
    "from matplotlib import pyplot as plt\n",
    "# 创建图形对象\n",
    "fig = plt.figure()"
   ]
  },
  {
   "cell_type": "code",
   "execution_count": null,
   "metadata": {},
   "outputs": [],
   "source": [
    "# 之前通过配置更改图形的分辨率和宽高. 如今可以再创建图像对象是创建\n",
    "\n",
    "fig = plt.figure('f1',figsize=(6,4),dpi=30)\n",
    "plt.plot()"
   ]
  },
  {
   "cell_type": "code",
   "execution_count": null,
   "metadata": {
    "scrolled": true
   },
   "outputs": [],
   "source": [
    "fig = plt.figure('f1',figsize=(4,2),dpi=100)\n",
    "plt.plot()"
   ]
  },
  {
   "cell_type": "code",
   "execution_count": null,
   "metadata": {},
   "outputs": [],
   "source": [
    "x = np.arange(0,50)\n",
    "y = x ** 2\n",
    "# 创建图形对象, 图形对象的分辨率为100,背景颜色为:灰色\n",
    "fig = plt.figure('f1',figsize=(4,2), dpi=100,facecolor='gray')\n",
    "plt.plot(x,y)"
   ]
  },
  {
   "cell_type": "markdown",
   "metadata": {},
   "source": [
    "# 六. 绘制多子图\n",
    "\n",
    "figure是绘制对象(可理解为一个空白的画布)，一个figure对象可以包含多个Axes子图，一个Axes是一个绘图区域，不加设置时，Axes为1，且每次绘图其实都是在figure上的Axes上绘图。\n",
    "\n",
    "接下来将学习绘制子图的几种方式:\n",
    "\n",
    "- add_axes() : 添加区域\n",
    "- subplot()  : 均等地划分画布,只是创建一个包含子图区域的画布,(返回区域对象)\n",
    "- subplots() : 既创建了一个包含子图区域的画布，又创建了一个 figure 图形对象.(返回图形对象和区域对象)"
   ]
  },
  {
   "cell_type": "markdown",
   "metadata": {},
   "source": [
    "### 1.add_axes() : 添加区域\n",
    "\n",
    "Matplotlib 定义了一个 axes 类（轴域类），该类的对象被称为 axes 对象（即轴域对象），它指定了一个有数值范围限制的绘图区域。在一个给定的画布（figure）中可以包含多个 axes 对象，但是同一个 axes 对象只能在一个画布中使用。\n",
    "\n",
    "> 2D 绘图区域（axes）包含两个轴（axis）对象\n",
    "\n",
    "语法:\n",
    "\n",
    "add_axes(rect)\n",
    "\n",
    "- 该方法用来生成一个 axes 轴域对象，对象的位置由参数rect决定\n",
    "- rect 是位置参数，接受一个由 4 个元素组成的浮点数列表，形如 [left, bottom, width, height] ，它表示添加到画布中的矩形区域的左下角坐标(x, y)，以及宽度和高度。\n",
    "\n",
    "如下所示："
   ]
  },
  {
   "cell_type": "code",
   "execution_count": null,
   "metadata": {},
   "outputs": [],
   "source": [
    "fig = plt.figure(figsize=(4,2),facecolor='g')\n",
    "\n",
    "# ax1从画布起始位置绘制,宽高和画布一致\n",
    "ax1=fig.add_axes([0,0,1,1])\n",
    "\n",
    "# ax2 从画布 20% 的位置开始绘制, 宽高是画布的 50%\n",
    "ax2=fig.add_axes([0.2,0.2,0.5,0.5])"
   ]
  },
  {
   "cell_type": "markdown",
   "metadata": {},
   "source": [
    "> 注意：每个元素的值是画布宽度和高度的分数。即将画布的宽、高作为 1 个单位。比如，[ 0.2, 0.2, 0.5, 0.5]，它代表着从画布 20% 的位置开始绘制, 宽高是画布的 50%"
   ]
  },
  {
   "cell_type": "code",
   "execution_count": null,
   "metadata": {},
   "outputs": [],
   "source": [
    "# 创建绘图对象\n",
    "fig = plt.figure(figsize=(4,2),facecolor='g')\n",
    "\n",
    "# 创建x坐标\n",
    "x = np.arange(0,50,2)\n",
    "# 创建y坐标\n",
    "y = x ** 2\n",
    "# 创建区域1,和画布位置一致\n",
    "ax1 = fig.add_axes([0.0,0.0,1,1])\n",
    "\n",
    "# 区域绘制图形\n",
    "ax1.plot(x,y)\n",
    "\n",
    "# 创建区域ax2 从画布 40% 的位置开始绘制, 宽高是画布的 50%\n",
    "ax2=fig.add_axes([0.4,0.4,0.3,0.3])\n",
    "\n",
    "# 区域2中绘制图形\n",
    "ax2.plot(x,y)\n"
   ]
  },
  {
   "cell_type": "markdown",
   "metadata": {},
   "source": [
    "### 练习:\n",
    "修改上面代码,将区域2放到右下角."
   ]
  },
  {
   "cell_type": "code",
   "execution_count": null,
   "metadata": {},
   "outputs": [],
   "source": []
  },
  {
   "cell_type": "code",
   "execution_count": null,
   "metadata": {},
   "outputs": [],
   "source": []
  },
  {
   "cell_type": "markdown",
   "metadata": {},
   "source": [
    "### 区域中基本方法的使用\n",
    "\n",
    "- 区域图表名称: set_title\n",
    "- 区域中x轴和y轴名称:set_xlabel() set_ylabel()\n",
    "- 刻度设置: set_xticks()\n",
    "- 区域图表图例: legend()"
   ]
  },
  {
   "cell_type": "code",
   "execution_count": null,
   "metadata": {},
   "outputs": [],
   "source": [
    "# 创建绘图对象\n",
    "fig = plt.figure(figsize=(4,2),facecolor='g')\n",
    "\n",
    "# 创建x坐标\n",
    "x = np.arange(0,50,2)\n",
    "# 创建y坐标\n",
    "y = x ** 2\n",
    "# 创建区域1,和画布位置一致\n",
    "ax1 = fig.add_axes([0.0,0.0,1,1])\n",
    "# 设置图表名称\n",
    "ax1.set_title(\"axes1\")\n",
    "# x轴名称 \n",
    "ax1.set_xlabel('X axis')\n",
    "\n",
    "# 设置ax1横轴刻度\n",
    "ax1.set_xticks(np.arange(0,50,3))\n",
    "\n",
    "# 区域绘制图形\n",
    "ax1.plot(x,y,label=\"ax1\")\n",
    "# 图例\n",
    "ax1.legend()\n",
    "# 创建区域ax2 从画布 40% 的位置开始绘制, 宽高是画布的 50%\n",
    "ax2=fig.add_axes([0.2,0.2,0.4,0.4])\n",
    "ax2.set_title(\"axes2\")\n",
    "\n",
    "# 区域2中绘制图形\n",
    "ax2.plot(x,y,label='ax2')\n",
    "# 图例,\n",
    "ax2.legend()\n"
   ]
  },
  {
   "cell_type": "markdown",
   "metadata": {},
   "source": [
    "# 练习:\n",
    "\n",
    "- 1. 使用add_axes()方法,在一个图形对象中创建2个区域,分别画一个曲线和一个直线\n",
    "- 2. 分别设置两个区域图形的名称和其他设置\n"
   ]
  },
  {
   "cell_type": "code",
   "execution_count": null,
   "metadata": {},
   "outputs": [],
   "source": []
  },
  {
   "cell_type": "markdown",
   "metadata": {},
   "source": [
    "### 2.subplot() 函数，它可以均等地划分画布\n",
    "参数格式如下：\n",
    "ax = `plt.subplot(nrows, ncols, index,*args, **kwargs)`\n",
    "\n",
    "- nrows 行\n",
    "- ncols 列\n",
    "- index: 索引\n",
    "- kwargs: title/xlabel/ylabel 等.....\n",
    "\n",
    "><font color=\"red\">也可以直接将几个值写到一起,如:subplot(233)</font>\n",
    "\n",
    "返回:`区域对象`\n",
    "\n",
    "nrows 与 ncols 表示要划分几行几列的子区域（nrows*nclos表示子图数量），index 的初始值为1，用来选定具体的某个子区域。\n",
    "\n",
    "例如： subplot(233)表示在当前画布的右上角创建一个两行三列的绘图区域（如下图所示），同时，选择在第 3 个位置绘制子图。\n",
    "\n",
    "<img src=\"https://gitee.com/wu-chao-588/picgo/raw/master/images/image-20220207234025887.png\" style=\"300px\">\n",
    "\n",
    ">如果新建的子图与现有的子图重叠，那么重叠部分的子图将会被自动删除，因为它们不可以共享绘图区域。"
   ]
  },
  {
   "cell_type": "code",
   "execution_count": null,
   "metadata": {
    "scrolled": true
   },
   "outputs": [],
   "source": [
    "plt.plot([1,2,3])\n",
    "#现在创建一个子图，它表示一个有1行2列的网格的顶部图。\n",
    "#因为这个子图将与第一个重叠，所以之前创建的图将被删除\n",
    "plt.subplot(211)\n",
    "# x可省略,默认[0,1..,N-1]递增\n",
    "plt.plot(range(50,70))\n",
    "\n",
    "plt.subplot(212)\n",
    "\n",
    "plt.plot(np.arange(12)**2)\n"
   ]
  },
  {
   "cell_type": "markdown",
   "metadata": {},
   "source": [
    "### 如果不想覆盖之前的图,需要先创建画布,也就是"
   ]
  },
  {
   "cell_type": "code",
   "execution_count": null,
   "metadata": {},
   "outputs": [],
   "source": [
    "# 还可以先设置画布的大小,再通过画布创建区域\n",
    "fig = plt.figure(figsize=(4,2))\n",
    "\n",
    "fig.add_subplot(111)\n",
    "\n",
    "plt.plot(range(20))\n",
    "\n",
    "fig.add_subplot(221)\n",
    "\n",
    "plt.plot(range(12))"
   ]
  },
  {
   "cell_type": "markdown",
   "metadata": {},
   "source": [
    "### 设置多图的基本信息方式:\n",
    "\n",
    "#### a. 在创建的时候直接设置:\n",
    "- 对于subplot关键词赋值参数的了解,可以将光标移动到subplot方法上,使用快捷键shift+tab查看具体内容"
   ]
  },
  {
   "cell_type": "code",
   "execution_count": null,
   "metadata": {},
   "outputs": [],
   "source": [
    "#现在创建一个子图，它表示一个有2行1列的网格的顶部图。\n",
    "plt.subplot(211,title=\"pic1\", xlabel=\"x axis\")\n",
    "# x可省略,默认[0,1..,N-1]递增\n",
    "plt.plot(range(50,70))\n",
    "\n",
    "plt.subplot(212, title=\"pic2\", xlabel=\"x axis\")\n",
    "\n",
    "plt.plot(np.arange(12)**2)\n"
   ]
  },
  {
   "cell_type": "markdown",
   "metadata": {},
   "source": [
    "> 发现子图标题重叠,在最后使用<font color=\"red\">plt.tight_layout()</font>"
   ]
  },
  {
   "cell_type": "code",
   "execution_count": null,
   "metadata": {},
   "outputs": [],
   "source": [
    "#现在创建一个子图，它表示一个有2行1列的网格的顶部图。\n",
    "#--------------- 第一个区域---------------\n",
    "plt.subplot(211,title=\"pic1\", xlabel=\"x axis\")\n",
    "# x可省略,默认[0,1..,N-1]递增\n",
    "plt.plot(range(50,70))\n",
    "\n",
    "#--------------------第二区域-----------\n",
    "plt.subplot(212, title=\"pic2\", xlabel=\"x axis\")\n",
    "\n",
    "plt.plot(np.arange(12)**2)\n",
    "# 紧凑的布局\n",
    "plt.tight_layout()"
   ]
  },
  {
   "cell_type": "markdown",
   "metadata": {},
   "source": [
    "#### b.使用pyplot模块中的方法设置后再绘制\n"
   ]
  },
  {
   "cell_type": "code",
   "execution_count": null,
   "metadata": {},
   "outputs": [],
   "source": [
    "#现在创建一个子图，它表示一个有2行1列的网格的顶部图。\n",
    "\n",
    "#--------------- 第一个区域---------------\n",
    "plt.subplot(211)\n",
    "# 使用图形对象:\n",
    "plt.title(\"ax1\")\n",
    "# x可省略,默认[0,1..,N-1]递增\n",
    "plt.plot(range(50,70))\n",
    "\n",
    "#--------------------第二区域-----------\n",
    "plt.subplot(212)\n",
    "plt.title(\"ax2\")\n",
    "\n",
    "#...其他的自己设置\n",
    "\n",
    "plt.plot(np.arange(12)**2)\n",
    "# 紧凑的布局\n",
    "plt.tight_layout()"
   ]
  },
  {
   "cell_type": "markdown",
   "metadata": {},
   "source": [
    "### c.使用返回的区域对象设置.\n",
    "\n",
    "> 注意区域对象的方法很多都是set_开头\n",
    "\n",
    "- 使用区域对象将不存在 设置位置"
   ]
  },
  {
   "cell_type": "code",
   "execution_count": null,
   "metadata": {},
   "outputs": [],
   "source": [
    "#现在创建一个子图，它表示一个有2行1列的网格的顶部图。\n",
    "\n",
    "#--------------- 第一个区域 ax1---------------\n",
    "ax1 = plt.subplot(211)\n",
    "# 使用区域对象:\n",
    "ax1.set_title(\"ax1\")\n",
    "# x可省略,默认[0,1..,N-1]递增\n",
    "ax1.plot(range(50,70))\n",
    "\n",
    "#--------------------第二区域 ax2-----------\n",
    "ax2 = plt.subplot(212)\n",
    "ax2.set_title(\"ax2\")\n",
    "\n",
    "#...其他的自己设置\n",
    "\n",
    "ax2.plot(np.arange(12)**2)\n",
    "# 紧凑的布局\n",
    "plt.tight_layout()"
   ]
  },
  {
   "cell_type": "markdown",
   "metadata": {},
   "source": [
    "### 3.subplots()函数详解\n",
    "\n",
    "matplotlib.pyplot模块提供了一个 subplots() 函数，它的使用方法和 subplot() 函数类似。其不同之处在于，subplots() 既创建了一个包含子图区域的画布，又创建了一个 figure 图形对象，而 subplot() 只是创建一个包含子图区域的画布。\n",
    "\n",
    "subplots 的函数格式如下：\n",
    "\n",
    "`fig , ax = plt.subplots(nrows, ncols)`\n",
    "\n",
    "- nrows 与 ncols 表示两个整数参数，它们指定子图所占的行数、列\n",
    "\n",
    "函数的返回值是一个元组，包括一个图形对象和所有的 axes 对象。其中 axes 对象的数量等于 nrows * ncols，且每个 axes 对象均可通过索引值访问（从1开始）"
   ]
  },
  {
   "cell_type": "markdown",
   "metadata": {},
   "source": [
    "### 下面我们创建了一个 2 行 2 列的子图，并在每个子图中显示 4 个不同的图像。"
   ]
  },
  {
   "cell_type": "code",
   "execution_count": null,
   "metadata": {},
   "outputs": [],
   "source": [
    "# 引入模块\n",
    "import matplotlib.pyplot as plt\n",
    "import numpy as np\n",
    "\n",
    "# 创建2行2列的子图,返回图形对象(画布),所有子图的坐标轴\n",
    "fig, axes =  plt.subplots(2,2)\n",
    "\n",
    "x = np.arange(1,5)\n",
    "#绘制平方函数\n",
    "axes[0][0].plot(x, x*x)\n",
    "axes[0][0].set_title('square')\n",
    "#绘制平方根图像\n",
    "axes[0][1].plot(x, np.sqrt(x))\n",
    "axes[0][1].set_title('square root')\n",
    "#绘制指数函数\n",
    "axes[1][0].plot(x, np.exp(x))\n",
    "axes[1][0].set_title('exp')\n",
    "\n",
    "#绘制对数函数\n",
    "axes[1][1].plot(x,np.log10(x))\n",
    "axes[1][1].set_title('log')\n",
    "\n",
    "# 处理标题遮挡\n",
    "plt.tight_layout()\n",
    "\n",
    "plt.show()"
   ]
  },
  {
   "cell_type": "code",
   "execution_count": null,
   "metadata": {},
   "outputs": [],
   "source": []
  },
  {
   "cell_type": "code",
   "execution_count": null,
   "metadata": {},
   "outputs": [],
   "source": []
  },
  {
   "cell_type": "code",
   "execution_count": null,
   "metadata": {},
   "outputs": [],
   "source": []
  },
  {
   "cell_type": "markdown",
   "metadata": {},
   "source": [
    "### 例2:\n",
    "x轴为-50到50\n",
    "y轴为x轴的平方\n",
    "\n",
    "一个画布中绘制2个图.一个是正常图,一个是将纵向坐标向有移动一半距离,效果如下\n",
    "<img src=\"https://gitee.com/wu-chao-588/picgo/raw/master/images/image-20220319185321938.png\" width=\"500px\"/>"
   ]
  },
  {
   "cell_type": "code",
   "execution_count": null,
   "metadata": {
    "scrolled": true
   },
   "outputs": [],
   "source": [
    "fig,axes =  plt.subplots(1,2)\n",
    "# 设置画布的高和宽, 注意:只为英寸 ,默认分别率为72\n",
    "fig.set_figheight(3) # 实际高度为 73*3 像素\n",
    "fig.set_figwidth(8) # 实际宽度为 73*8 像素\n",
    "# 设置背景:\n",
    "fig.set_facecolor('gray')\n",
    "# 分别定义x y\n",
    "x = np.arange(-50,51)\n",
    "y = x ** 2\n",
    "\n",
    "#--------------------绘制图形1 -----------\n",
    "axes[0].plot(x, y)\n",
    "\n",
    "# ------------处理图形2的绘制----------------\n",
    "# 不需要右侧和上侧线条,则可以设置他的颜色\n",
    "axes[1].spines['right'].set_color(\"none\")\n",
    "a[1].spines['top'].set_color(\"none\")\n",
    "# 移动下轴到指定位置\n",
    "# 在这里，position位置参数有三种，data , outward(向外-可自行尝试) , axes\n",
    "# axes:0.0 - 1.0之间的值，整个轴上的比例\n",
    "a[1].spines['left'].set_position(('axes',0.5))\n",
    "\n",
    "# 移动下轴到指定位置\n",
    "# 'data'表示按数值挪动，其后数字代表挪动到Y轴的刻度值\n",
    "a[1].spines['bottom'].set_position(('data',0.0))\n",
    "\n",
    "a[1].plot(x, y)"
   ]
  },
  {
   "cell_type": "markdown",
   "metadata": {},
   "source": [
    "可以看到top和right边被隐藏了"
   ]
  },
  {
   "cell_type": "code",
   "execution_count": null,
   "metadata": {},
   "outputs": [],
   "source": []
  },
  {
   "cell_type": "markdown",
   "metadata": {},
   "source": [
    "# 绘制一个特殊的图形,如:\n",
    "\n",
    "一共划分了2X2=4个区域，然后1234分别开始绘图, \n",
    "\n",
    "<img src=\"https://gitee.com/wu-chao-588/picgo/raw/master/images/image-20220319203805039.png\" style=\"width:400px\">"
   ]
  },
  {
   "cell_type": "code",
   "execution_count": null,
   "metadata": {},
   "outputs": [],
   "source": [
    "# 一共划分了2X2=4个区域，到第三个区域时绘制2X1,移动到第二个图\n"
   ]
  },
  {
   "cell_type": "code",
   "execution_count": null,
   "metadata": {},
   "outputs": [],
   "source": []
  }
 ],
 "metadata": {
  "kernelspec": {
   "display_name": "Python 3",
   "language": "python",
   "name": "python3"
  },
  "language_info": {
   "codemirror_mode": {
    "name": "ipython",
    "version": 3
   },
   "file_extension": ".py",
   "mimetype": "text/x-python",
   "name": "python",
   "nbconvert_exporter": "python",
   "pygments_lexer": "ipython3",
   "version": "3.7.6"
  }
 },
 "nbformat": 4,
 "nbformat_minor": 4
}
