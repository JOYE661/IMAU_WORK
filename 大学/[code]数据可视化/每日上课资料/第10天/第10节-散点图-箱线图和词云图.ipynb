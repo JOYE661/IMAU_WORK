{
 "cells": [
  {
   "cell_type": "code",
   "execution_count": null,
   "metadata": {},
   "outputs": [],
   "source": [
    "# 引入Matplotlib引入\n",
    "from matplotlib import pyplot as plt\n",
    "import numpy as np"
   ]
  },
  {
   "cell_type": "code",
   "execution_count": null,
   "metadata": {},
   "outputs": [],
   "source": [
    "# 设置中文字体\n",
    "plt.rcParams['font.sans-serif'] = ['SimHei']\n",
    "# 中文负号\n",
    "plt.rcParams['axes.unicode_minus'] = False\n",
    "\n",
    "# 设置分别率 为100\n",
    "plt.rcParams['figure.dpi'] = 100\n",
    "\n",
    "# 设置大小\n",
    "plt.rcParams['figure.figsize'] = (5,3)"
   ]
  },
  {
   "cell_type": "markdown",
   "metadata": {},
   "source": [
    "# 散点图 scatter()\n",
    "散点图也叫 X-Y 图，它将所有的数据以点的形式展现在直角坐标系上，以显示变量之间的相互影响程度，点的位置由变量的数值决定。\n",
    "\n",
    "通过观察散点图上数据点的分布情况，我们可以推断出变量间的相关性。如果变量之间不存在相互\n",
    "关系，那么在散点图上就会表现为随机分布的离散的点，如果存在某种相关性，那么大部分的数据\n",
    "点就会相对密集并以某种趋势呈现。\n",
    "\n",
    "   数据的相关关系主要分为：正相关（两个变量值同时增长）、负相关（一个变量值增加另一个变量值下降）、\n",
    "不相关、线性相关、指数相关等，表现在散点图上的大致分布如下图所示。那些离点集群较远的点我们称为离群点或者异常点。\n",
    "\n",
    "<img src=\"images/20220329205808.png\" style=\"width:300px\"/>"
   ]
  },
  {
   "cell_type": "markdown",
   "metadata": {},
   "source": [
    "`matplotlib.pyplot.scatter(x, y, s=None, c=None, marker=None, cmap=None, norm=None, vmin=None, vmax=None, alpha=None, linewidths=None, *, edgecolors=None, plotnonfinite=False, data=None, **kwargs)\n",
    "\n",
    "- x, y → 散点的坐标\n",
    "- s → 散点的面积\n",
    "- c → 散点的颜色（默认值为蓝色，'b'，其余颜色同plt.plot( )） \n",
    "- marker → 散点样式（默认值为实心圆，'o'，其余样式同plt.plot( )）\n",
    "- alpha → 散点透明度（[0, 1]之间的数，0表示完全透明，1则表示完全不透明）\n",
    "- linewidths →散点的边缘线宽\n",
    "- edgecolors → 散点的边缘颜色\n",
    "- cmap → Colormap，默认 None，标量或者是一个 colormap 的名字，只有 c 是一个浮点数数组的时才使用\n"
   ]
  },
  {
   "cell_type": "markdown",
   "metadata": {},
   "source": [
    "#### 以下实例 scatter() 函数接收长度相同的数组参数，一个用于 x 轴的值，另一个用于 y 轴上的值："
   ]
  },
  {
   "cell_type": "code",
   "execution_count": null,
   "metadata": {},
   "outputs": [],
   "source": [
    "# x轴数据\n",
    "x = np.array([1, 2, 3, 4, 5, 6, 7, 8])\n",
    "# y轴数据\n",
    "y = np.array([1, 4, 9, 16, 7, 11, 23, 18])\n",
    "\n",
    "plt.scatter(x, y)"
   ]
  },
  {
   "cell_type": "markdown",
   "metadata": {},
   "source": [
    "#### 设置图标大小："
   ]
  },
  {
   "cell_type": "code",
   "execution_count": null,
   "metadata": {},
   "outputs": [],
   "source": [
    "# x轴数据\n",
    "x = np.array([1, 2, 3, 4, 5, 6, 7, 8])\n",
    "# y轴数据\n",
    "y = np.array([1, 4, 9, 16, 7, 11, 23, 18])\n",
    "# 生成一个[0,1)之间的随机浮点数或N维浮点数组。\n",
    "s = (20 * np.random.rand(8))** 2\n",
    "\n",
    "plt.scatter(x, y, s)"
   ]
  },
  {
   "cell_type": "markdown",
   "metadata": {},
   "source": [
    "#### 自定义点的颜色和透明度："
   ]
  },
  {
   "cell_type": "code",
   "execution_count": null,
   "metadata": {},
   "outputs": [],
   "source": [
    "# 保存图片"
   ]
  },
  {
   "cell_type": "code",
   "execution_count": null,
   "metadata": {},
   "outputs": [],
   "source": [
    "# x轴数据\n",
    "\n",
    "x = np.random.rand(100)   # rand()生成一个[0,1)之间的随机浮点数或N维浮点数组。\n",
    "# y轴数据\n",
    "y = np.random.rand(100)\n",
    "\n",
    "# \n",
    "# 生成一个浮点数或N维浮点数组，取数范围：正态分布的随机样本数。\n",
    "s = (10 * np.random.randn(100))** 2  \n",
    "# 颜色可以使用一组数字序列\n",
    "# 如只需要3中颜色\n",
    "#colors = np.resize(np.array([1,2,3]),100)\n",
    "# 颜色随机\n",
    "colors = np.random.rand(100)\n",
    "plt.scatter(x, y, s,c=colors,alpha=0.5)"
   ]
  },
  {
   "cell_type": "markdown",
   "metadata": {},
   "source": [
    "### 可以选择不同的颜色条--配合cmap参数\n",
    "\n",
    "颜色条 Colormap\n",
    "\n",
    "Matplotlib 模块提供了很多可用的颜色条。\n",
    "\n",
    "颜色条就像一个颜色列表，其中每种颜色都有一个范围从 0 到 100 的值。\n",
    "\n",
    "下面是一个颜色条的例子： viridis\n",
    "\n",
    "<img src=\"images/20220329220806.png\" style=\"height:300px;float:left\"/>\n"
   ]
  },
  {
   "cell_type": "code",
   "execution_count": null,
   "metadata": {},
   "outputs": [],
   "source": [
    "# x轴数据\n",
    "\n",
    "x = np.arange(1,101)\n",
    "\n",
    "y = np.arange(1,101)\n",
    "colors = np.arange(1,101)\n",
    "\n",
    "plt.scatter(x, y, c=colors, cmap='viridis')"
   ]
  },
  {
   "cell_type": "code",
   "execution_count": null,
   "metadata": {},
   "outputs": [],
   "source": [
    "# x轴数据\n",
    "\n",
    "x = np.arange(1,101)\n",
    "\n",
    "y = np.arange(1,101)\n",
    "colors = np.arange(1,101)\n",
    "\n",
    "plt.scatter(x, y, c=colors, cmap='Set1')\n",
    "plt.savefig('./test2.jpg')\n",
    "plt.show()"
   ]
  },
  {
   "cell_type": "code",
   "execution_count": null,
   "metadata": {},
   "outputs": [],
   "source": [
    "# x轴数据\n",
    "\n",
    "x = np.arange(1,11)\n",
    "\n",
    "y = np.arange(1,11)\n",
    "# 也可以是小数\n",
    "colors = np.linspace(0, 1, 10)\n",
    "#colors = [0.5]*10\n",
    "plt.scatter(x, y, c=colors, cmap='Set1')\n"
   ]
  },
  {
   "cell_type": "markdown",
   "metadata": {},
   "source": [
    "## cmap的分类\n",
    "\n",
    "cmap主要分为以下四大类：\n"
   ]
  },
  {
   "cell_type": "markdown",
   "metadata": {},
   "source": [
    "1. Sequential colormaps：连续化色图\n",
    "\n",
    " - 特点：在两种色调之间近似平滑变化，通常是从低饱和度（例如白色）到高饱和度（例如明亮的蓝色）。\n",
    "\n",
    " - 应用：适用于大多数科学数据，可直观地看出数据从低到高的变化。\n",
    "\n",
    "  - 1）以中间值颜色命名（eg：viridis 松石绿）:['viridis', 'plasma', 'inferno', 'magma', 'cividis']\n",
    "\n",
    "<img src=\"images/20220329230439.png\" style=\"width:400px;\"/>\n"
   ]
  },
  {
   "cell_type": "markdown",
   "metadata": {},
   "source": [
    " - 2）以色系名称命名，由低饱和度到高饱和度过渡（eg：YlOrRd = yellow-orange-red，其它同理）:\n",
    " ['Greys', 'Purples', 'Blues', 'Greens', 'Oranges', 'Reds','YlOrBr', 'YlOrRd', 'OrRd', 'PuRd', 'RdPu', 'BuPu','GnBu', 'PuBu', 'YlGnBu', 'PuBuGn', 'BuGn', 'YlGn','binary', 'gist_yarg', 'gist_gray', 'gray', 'bone', 'pink','spring', 'summer', 'autumn', 'winter', 'cool', 'Wistia','hot', 'afmhot', 'gist_heat', 'copper']\n",
    "\n",
    "<img src=\"images/20220329230540.png\" style=\"width:400px;\"/>\n",
    "<img src=\"images/20220329230558.png\" style=\"width:400px;\"/>"
   ]
  },
  {
   "cell_type": "markdown",
   "metadata": {},
   "source": [
    "2. Diverging colormaps：两端发散的色图 .\n",
    " - 特点：具有中间值（通常是浅色），并在高值和低值处平滑变化为两种不同的色调。\n",
    " - 应用：适用于数据的中间值很大的情况（例如0，因此正值和负值分别表示为颜色图的不同颜色）。\n",
    "\n",
    "['PiYG', 'PRGn', 'BrBG', 'PuOr', 'RdGy', 'RdBu','RdYlBu', 'RdYlGn', 'Spectral', 'coolwarm', 'bwr', 'seismic']\n",
    "<img src=\"images/20220329230716.png\" style=\"width:400px;\"/>"
   ]
  },
  {
   "cell_type": "markdown",
   "metadata": {},
   "source": [
    "3. Qualitative colormaps：离散化色图\n",
    "\n",
    " - 特点：离散的颜色组合\n",
    " - 应用：在深色背景上绘制一系列线条时，可以在定性色图中选择一组离散的颜色，例如：color_list = plt.cm.Set3(np.linspace(0, 1, 12))\n",
    "<img src=\"images/20220329230832.png\" style=\"width:400px;\"/>"
   ]
  },
  {
   "cell_type": "markdown",
   "metadata": {},
   "source": [
    "4. Miscellaneous colormaps：其它色图\n",
    "<img src=\"images/20220329230906.png\" style=\"width:400px;\"/>"
   ]
  },
  {
   "cell_type": "markdown",
   "metadata": {},
   "source": [
    "# 保存图片 pyplot.savefig()\n",
    "\n",
    "`savefig(fname, dpi=None, facecolor=’w’, edgecolor=’w’, orientation=’portrait’, papertype=None, format=None, transparent=False, bbox_inches=None, pad_inches=0.1, frameon=None, metadata=None)`\n",
    "\n",
    "- fname: （字符串或者仿路径或仿文件）如果格式已经设置，这将决定输出的格式并将文件按fname来保存。如果格式没有设置，在fname有扩展名的情况下推断按此保存，没有扩展名将按照默认格式存储为“png”格式，并将适当的扩展名添加在fname后面。\n",
    "- dpi: 分辨率，每英寸的点数\n",
    "- facecolor（颜色或“auto”，默认值是“auto”）：图形表面颜色。如果是“auto”，使用当前图形的表面颜色。\n",
    "- edgecolor（颜色或“auto”，默认值：“auto”）：图形边缘颜色。如果是“auto”，使用当前图形的边缘颜色。\n",
    "- format（字符串）：文件格式，比如“png”，“pdf”，“svg”等，未设置的行为将被记录在fname中。\n",
    "- transparent: 用于将图片背景设置为透明。图形也会是透明，除非通过关键字参数指定了表面颜色和/或边缘"
   ]
  },
  {
   "cell_type": "code",
   "execution_count": null,
   "metadata": {},
   "outputs": [],
   "source": [
    "# x轴数据\n",
    "x_axis =[1, 4, 9, 16, 25, 36, 49, 64, 81, 100]\n",
    "# y轴数据\n",
    "y_axis =[1, 2, 3, 4, 5, 6, 7, 8, 9, 10]\n",
    "# 绘制图形\n",
    "plt.plot(x_axis, y_axis)\n",
    "# x和y轴标签\n",
    "plt.xlabel(\"X\")\n",
    "plt.ylabel(\"Y\")\n",
    "\n",
    "plt.savefig(\"my.png\")\n",
    "\n",
    "plt.show()"
   ]
  },
  {
   "cell_type": "markdown",
   "metadata": {},
   "source": [
    "### 需要注意  1.在使用保存savefig是必须放到show()函数之前"
   ]
  },
  {
   "cell_type": "code",
   "execution_count": null,
   "metadata": {
    "scrolled": true
   },
   "outputs": [],
   "source": [
    "# x轴数据\n",
    "x_axis =[1, 4, 9, 16, 25, 36, 49, 64, 81, 100]\n",
    "# y轴数据\n",
    "y_axis =[1, 2, 3, 4, 5, 6, 7, 8, 9, 10]\n",
    "# 绘制图形\n",
    "plt.plot(x_axis, y_axis)\n",
    "# x和y轴标签\n",
    "plt.xlabel(\"X\")\n",
    "plt.ylabel(\"Y\")\n",
    "\n",
    "plt.show()\n",
    "plt.savefig(\"new_my.jpg\")"
   ]
  },
  {
   "cell_type": "markdown",
   "metadata": {},
   "source": [
    "### 需要注意  2.如果保存到指定文件夹中,一定确保文件夹存在\n"
   ]
  },
  {
   "cell_type": "code",
   "execution_count": null,
   "metadata": {},
   "outputs": [],
   "source": [
    "# x轴数据\n",
    "x_axis =[1, 4, 9, 16, 25, 36, 49, 64, 81, 100]\n",
    "# y轴数据\n",
    "y_axis =[1, 2, 3, 4, 5, 6, 7, 8, 9, 10]\n",
    "# 绘制图形\n",
    "plt.plot(x_axis, y_axis)\n",
    "# x和y轴标签\n",
    "plt.xlabel(\"X\")\n",
    "plt.ylabel(\"Y\")\n",
    "\n",
    "plt.savefig(\"img/my.png\")\n",
    "\n",
    "plt.show()"
   ]
  },
  {
   "cell_type": "code",
   "execution_count": null,
   "metadata": {},
   "outputs": [],
   "source": [
    "import os\n",
    "# x轴数据\n",
    "x_axis =[1, 4, 9, 16, 25, 36, 49, 64, 81, 100]\n",
    "# y轴数据\n",
    "y_axis =[1, 2, 3, 4, 5, 6, 7, 8, 9, 10]\n",
    "# 绘制图形\n",
    "plt.plot(x_axis, y_axis)\n",
    "# x和y轴标签\n",
    "plt.xlabel(\"X\")\n",
    "plt.ylabel(\"Y\")\n",
    "# 使用os模块判断文件夹是否存在,不存在进行创建\n",
    "if not os.path.exists(\"img\"):\n",
    "    os.mkdir(\"img\")\n",
    "plt.savefig(\"img/my.png\")\n",
    "\n",
    "plt.show()"
   ]
  },
  {
   "cell_type": "markdown",
   "metadata": {},
   "source": [
    "# 箱线图绘制boxplot()\n",
    "\n",
    "箱线图(Boxplot)  是一种用作显示一组数据分散情况资料的统计图表\n",
    "\n",
    "箱线图基本介绍 \n",
    "\n",
    "箱线图，又称箱形图（boxplot）或盒式图，不同于一般的折线图、柱状图或饼图等图表，\n",
    "其包含一些统计学的`均值`、`分位数`、`极值`等统计量，该图信息量较大，不仅能够分析不同类别数据平均水平差异，\n",
    "还能揭示数据间`离散程度`、`异常值`、`分布差异`等。具体含义可通过如下图表进行说明：\n",
    "\n",
    "<img src=\"images/20220329234028.png\" style=\"width:500px;\">"
   ]
  },
  {
   "cell_type": "markdown",
   "metadata": {},
   "source": [
    "在箱型图中，我们从上四分位数到下四分位数绘制一个盒子，然后用一条垂直触须（形象地称为“盒须”）穿过盒子的中间。上垂线延伸至上边缘（最大值），下垂线延伸至下边缘（最小值）"
   ]
  },
  {
   "cell_type": "markdown",
   "metadata": {},
   "source": [
    "### 箱型图应用场景\n",
    "\n",
    "- 箱型图由于能显示一组数据分散情况，常用于品质管理\n",
    "- 箱型图有利于数据的清洗，能快速知道数据分别情况\n",
    "- 箱型图有助于分析一直数据的偏向如分析公司员工收入水平\n"
   ]
  },
  {
   "cell_type": "markdown",
   "metadata": {},
   "source": [
    "## 函数的使用pyplot.boxplot()\n",
    "\n",
    "`matplotlib.pyplot.boxplot(x, notch=None, sym=None, vert=None, whis=None, positions=None, widths=None, patch_artist=None, bootstrap=None, usermedians=None, conf_intervals=None, meanline=None, showmeans=None, showcaps=None, showbox=None, showfliers=None, boxprops=None, labels=None, flierprops=None, medianprops=None, meanprops=None, capprops=None, whiskerprops=None, manage_ticks=True, autorange=False, zorder=None, *, data=None)\n",
    "\n",
    "- x：输入数据。类型为数组或向量序列。必备参数。\n",
    "\n",
    "- notch：控制箱体中央是否有V型凹槽。当取值为True时，箱体中央有V型凹槽，凹槽表示中位数的置信区间；取值为False时，箱体为矩形。类型为布尔值，默认值为False。可选参数。\n",
    "\n",
    "- vert：箱体的方向，当取值为True时，绘制垂直箱体，当取值为False时，绘制水平箱体。类型为布尔值，默认值为True。可选参数。\n",
    "\n",
    "- positions：指定箱体的位置。刻度和极值会自动匹配箱体位置。类型为类数组结构。可选参数。默认值为range(1, N+1) ，N为箱线图的个数。\n",
    "\n",
    "- widths：箱体的宽度。类型为浮点数或类数组结构。默认值为0.5或0.15*极值间的距离。\n",
    "\n",
    "- labels：每个数据集的标签，默认值为'None'。类型为序列。可选参数。\n",
    "\n",
    "- autorange：类型为布尔值，默认值为False。可选参数。当取值为True且数据分布满足上四分位数（75%）和下四分位数（25%）相等\n",
    "\n",
    "- showmeans：是否显示算术平均值。类型为布尔值，默认值为False。可选参数。\n",
    "- meanline：均值显示为线还是点。类型为布尔值，默认值为False。可选参数。当取值为True，且showmeans、shownotches参数均为True，时显示为线\n",
    "\n",
    "- capprops：箱须横杠的样式。类型为字典，默认值为None。可选参数。\n",
    "\n",
    "- boxprops：箱体的样式。类型为字典，默认值为None。可选参数。\n",
    "\n",
    "- whiskerprops：箱须的样式。类型为字典，默认值为None。可选参数。\n",
    "\n",
    "- flierprops：离群点的样式。类型为字典，默认值为None。可选参数。\n",
    "\n",
    "- medianprops：中位数的样式。类型为字典，默认值为None。可选参数。\n",
    "\n",
    "- meanprops：算术平均值的样式。类型为字典，默认值为None。可选参数。"
   ]
  },
  {
   "cell_type": "code",
   "execution_count": null,
   "metadata": {},
   "outputs": [],
   "source": [
    "# logspace\n",
    "x = np.random.rand(20)\n",
    "print(x)\n",
    "# showmeans -- 是否显示算术平均值\n",
    "# meanline：均值显示为线还是点。类型为布尔值，默认值为False。\n",
    "# 可选参数。当取值为True，且showmeans、shownotches参数均为True，时显示为线\n",
    "# labels：每个数据集的标签\n",
    "plt.boxplot(x,showmeans=True, meanline=True, labels=[\"A\"])\n",
    "plt.show()"
   ]
  },
  {
   "cell_type": "code",
   "execution_count": null,
   "metadata": {},
   "outputs": [],
   "source": [
    "# 创建5行5列的数据\n",
    "x = np.random.randint(10,100,size=(5,5))\n",
    "\n",
    "box = {\"linestyle\":'--',\"linewidth\":1,\"color\":'blue'}\n",
    "\n",
    "mean = {\"marker\":'o','markerfacecolor':'pink','markersize':2}\n",
    "\n",
    "# boxprops-- 箱体的样式。类型为字典\n",
    "\n",
    "# meanprops-- 算术平均值的样式。类型为字典\n",
    "\n",
    "plt.boxplot(x,meanline=True,showmeans=True,labels=[\"A\",\"B\",\"C\",\"D\",\"E\"], boxprops=box,meanprops=mean)\n",
    "plt.show()"
   ]
  },
  {
   "cell_type": "code",
   "execution_count": null,
   "metadata": {},
   "outputs": [],
   "source": []
  },
  {
   "cell_type": "markdown",
   "metadata": {},
   "source": [
    "# 词云图\n",
    "\n",
    "wordcloud 是什么？\n",
    "词云图，也叫文字云，是对文本中出现频率较高的“关键词”予以视觉化的展现，\n",
    "词云图过滤掉大量的低频低质的文本信息，使得浏览者只要一眼扫过文本就可领略文本的主旨。\n",
    "<img src=\"images/20220330104342.png\" style=\"height:300px\"/>\n",
    "<img src=\"images/20220330104518.png\" style=\"height:300px\"/>\n",
    "\n",
    "WordCloud\n",
    "\n",
    "WordCloud 是一款python环境下的词云图工具包，同时支持python2和python3，能通过代码的形式把关键词数据转换成直观且有趣的图文模式。\n",
    "\n",
    "pip默认安装方式\n",
    "\t\n",
    "`pip install wordcloud`\n",
    "\n",
    "\n",
    "如果是使用conda的方式安装，则使用以下命令安装\n",
    "\n",
    "`conda install -c conda-forge wordcloud`"
   ]
  },
  {
   "cell_type": "code",
   "execution_count": null,
   "metadata": {},
   "outputs": [],
   "source": [
    "pip install wordcloud"
   ]
  },
  {
   "cell_type": "code",
   "execution_count": null,
   "metadata": {},
   "outputs": [],
   "source": [
    "import numpy as np\n",
    "from PIL import Image\n",
    "from os import path\n",
    "import matplotlib.pyplot as plt\n",
    "import os\n",
    "import random\n",
    "\n",
    "from wordcloud import WordCloud\n",
    "\n",
    "with open(\"data/a_new_hope.txt\", encoding=\"utf-8\") as file:\n",
    "     # 数据文件\n",
    "     txt = file.read()\n",
    "     # 如果数据文件中包含的有中文的话，font_path必须指定字体，否则中文会乱码\n",
    "     # collocations：是否包括两个词的搭配，默认为True，如果为true的时候会有\n",
    "     # 重复的数据，这里我不需要重复数据，所以设置为False\n",
    "     # width 幕布的宽度，height 幕布的高度\n",
    "     # max_words 要显示的词的最大个数\n",
    "     # generate 读取文本文件\n",
    "     wordcloud = WordCloud(font_path=\"C:/Windows/Fonts/simfang.ttf\",\n",
    "                                                 collocations=False,\n",
    "                           background_color=\"black\",\n",
    "                           width=800,\n",
    "                           height=600,\n",
    "                           max_words=100).generate(txt)\n",
    "     # 生成图片\n",
    "     image = wordcloud.to_image()\n",
    "     # 展示图片\n",
    "     image.show()\n",
    "     # 写入文件\n",
    "     wordcloud.to_file(\"tag.jpg\")"
   ]
  },
  {
   "cell_type": "markdown",
   "metadata": {},
   "source": [
    "## 详细参数讲解请查看\n",
    "\n",
    "https://www.yuque.com/darren-irbls/python/pr2zc5\n",
    "    \n",
    "\n",
    "| **属性**             | **数据类型\\|默认值**                              | **解析**                                                     |\n",
    "| :-------------------- | :------------------------------------------------- | :------------------------------------------------------------ |\n",
    "| font_path            | string                                            | `字体路径` `windows：C:/Windows/Fonts/` `Linux: /usr/share/fonts` |\n",
    "| `width `             | `int (default=400)`                               | `输出的画布宽度，默认为400像素`                              |\n",
    "| `height `            | `int (default=200)`                               | `输出的画布高度，默认为200像素`                              |\n",
    "| `prefer_horizontal ` | `float (default=0.90)`                            | `词语水平方向排版出现的频率,默认 0.9 ` `所以词语垂直方向排版出现频率为0.1` |\n",
    "| `mask `              | `nd-array or None` (default=None)                 | `如果参数为空，则使用二维遮罩绘制词云` `如果mask非空，设置的宽高值将被忽略` `遮罩形状被 mask 取代` ` ` |\n",
    "| `scale `             | `float (default=1)`                               | `按照比例进行放大画布，如设置为1.5，` `则长和宽都是原来画布的1.5倍` |\n",
    "| `min_font_size `     | `int (default=4)`                                 | `显示的最小的字体大小`                                       |\n",
    "| `font_step `         | `int (default=1)`                                 | `字体步长，如果步长大于1，会加快运算` `但是可能导致结果出现较大的误差` |\n",
    "| `max_words `         | `number (default=200)`                            | `要显示的词的最大个数`                                       |\n",
    "| `stopwords `         | `set of strings or None`                          | `设置需要屏蔽的词，如果为空，` `则使用内置的STOPWORDS`       |\n",
    "| `background_color `  | `color value ` `default=”black”`                  | `背景颜色`                                                   |\n",
    "| `max_font_size `     | `int or None` default=None                        | `显示的最大的字体大小`                                       |\n",
    "| `mode `              | `string (default=”RGB”)`                          | `当参数为“RGBA”并且background_color` `不为空时，背景为透明`  |\n",
    "| `relative_scaling `  | `float (default=.5)`                              | `词频和字体大小的关联性`                                     |\n",
    "| `color_func `        | `callable, default=None`                          | `生成新颜色的函数，如果为空，` `则使用 self.color_func`      |\n",
    "| `regexp `            | string or None (optional)                         | `使用正则表达式分隔输入的文本`                               |\n",
    "| `collocations `      | `bool, default=True`                              | `是否包括两个词的搭配`                                       |\n",
    "| `colormap `          | `string or matplotlib colormap` default=”viridis” | `给每个单词随机分配颜色，` `若指定color_func，则忽略该方法`  |\n",
    "| `random_state `      | `int or None`                                     | `为每个单词返回一个PIL颜色`                                  |"
   ]
  },
  {
   "cell_type": "markdown",
   "metadata": {},
   "source": [
    "# 中文使用词云图--- 需要使用jieba分词模块\n",
    "\n",
    "- 还需要学习jieba分词\n",
    " -结巴”中文分词：做最好的 Python 中文分词组件\n",
    "    \n",
    "特点\n",
    "-支持三种分词模式：\n",
    " - 精确模式，试图将句子最精确地切开，适合文本分析；\n",
    " - 全模式，把句子中所有的可以成词的词语都扫描出来, 速度非常快，但是不能解决歧义；\n",
    " - 搜索引擎模式，在精确模式的基础上，对长词再次切分，提高召回率，适合用于搜索引擎分词。\n",
    " - 支持繁体分词\n",
    " - 支持自定义词典\n"
   ]
  },
  {
   "cell_type": "markdown",
   "metadata": {},
   "source": [
    "### 安装说明\n",
    "\n",
    "代码对 Python 2/3 均兼容\n",
    "\n",
    "- 全自动安装：easy_install jieba 或者 pip install jieba / pip3 install jieba\n",
    "- 半自动安装：先下载 http://pypi.python.org/pypi/jieba/ ，解压后运行 python setup.py install\n",
    "- 手动安装：将 jieba 目录放置于当前目录或者 site-packages 目录\n",
    "- 通过 import jieba 来引用\n"
   ]
  },
  {
   "cell_type": "code",
   "execution_count": null,
   "metadata": {},
   "outputs": [],
   "source": [
    "pip install jieba"
   ]
  },
  {
   "cell_type": "markdown",
   "metadata": {},
   "source": [
    "- jieba.cut 方法接受三个输入参数: 需要分词的字符串；cut_all 参数用来控制是否采用全模式；HMM 参数用来控制是否使用 HMM 模型\n",
    "- jieba.cut_for_search 方法接受两个参数：需要分词的字符串；是否使用 HMM 模型。该方法适合用于搜索引擎构建倒排索引的分词，粒度比较细\n",
    "待分词的字符串可以是 unicode 或 UTF-8 字符串、GBK 字符串。注意：不建议直接输入 GBK 字符串，可能无法预料地错误解码成 UTF-8\n",
    "- jieba.cut 以及 jieba.cut_for_search 返回的结构都是一个可迭代的 generator，可以使用 for 循环来获得分词后得到的每一个词语(unicode)，或者用\n",
    "=jieba.lcut 以及 jieba.lcut_for_search 直接返回 list"
   ]
  },
  {
   "cell_type": "code",
   "execution_count": null,
   "metadata": {},
   "outputs": [],
   "source": [
    "import jieba\n",
    "\n",
    "seg_list = jieba.cut(\"我来到北京清华大学\", cut_all=True)\n",
    "print(\"Full Mode: \" + \"/ \".join(seg_list))  # 全模式\n",
    "\n",
    "seg_list = jieba.cut(\"我来到北京清华大学\", cut_all=False)\n",
    "print(\"Default Mode: \" + \"/ \".join(seg_list))  # 精确模式\n",
    "\n",
    "seg_list = jieba.cut(\"他来到了网易杭研大厦\")  # 默认是精确模式\n",
    "print(\", \".join(seg_list))\n",
    "\n",
    "seg_list = jieba.cut_for_search(\"小明硕士毕业于中国科学院计算所，后在日本京都大学深造\")  # 搜索引擎模式\n",
    "print(\", \".join(seg_list))"
   ]
  },
  {
   "cell_type": "markdown",
   "metadata": {},
   "source": [
    "## jieba.analyse的使用：提取关键字\n",
    "\n",
    "- 第一个参数：待提取关键词的文本\n",
    "- 第二个参数 topK：返回关键词的数量，重要性从高到低排序\n",
    "- 第三个参数 withWeight：是否同时返回每个关键词的权重\n",
    "- 第四个参数allowPOS=()：词性过滤，为空表示不过滤，若提供则仅返回符合词性要求的关键词 ,查看:jieba词性表.txt"
   ]
  },
  {
   "cell_type": "code",
   "execution_count": null,
   "metadata": {},
   "outputs": [],
   "source": [
    "import jieba\n",
    "import jieba.analyse\n",
    "text = \" 因此电影开头谜语人从用地毯铲杀市长开始就在为验证蝙蝠侠的身份布局了\"\n",
    "\n",
    "seg_list = jieba.cut(text, cut_all=True)\n",
    "print(\"Full Mode: \" + \"/ \".join(seg_list))  # 全模式\n",
    "\n",
    "seg_list = jieba.cut(text, cut_all=False)\n",
    "print(\"Default Mode: \" + \"/ \".join(seg_list))  # 精确模式\n",
    "\n",
    "# 提取关键字\n",
    "seg_list = jieba.analyse.extract_tags(text)\n",
    "print(\"analysea extract: \" + \"/ \".join(seg_list))  # 分析提取\n",
    "\n",
    "# 提取5个\n",
    "seg_list = jieba.analyse.extract_tags(text, topK=5)\n",
    "print(\"analysea extract topK: \" + \"/ \".join(seg_list))  # 分析提取\n",
    "\n",
    "# 返回权重\n",
    "seg_list = jieba.analyse.extract_tags(text, topK=5, withWeight=True)\n",
    "print(\"analysea extract withWeight: \" + str((seg_list)))  # 分析提取\n",
    "\n",
    "# 词性过滤 返回 n名词\n",
    "seg_list = jieba.analyse.extract_tags(text, allowPOS=(\"n\"))\n",
    "print(\"analysea extract allowPOS: \" + str((seg_list)))  # 分析提取\n"
   ]
  },
  {
   "cell_type": "code",
   "execution_count": null,
   "metadata": {},
   "outputs": [],
   "source": []
  },
  {
   "cell_type": "markdown",
   "metadata": {},
   "source": [
    "## 词云图案例:\n",
    "\n",
    "data/新蝙蝠侠评论.txt --->保存采集的1000条评论\n",
    "\n",
    "绘制词云图"
   ]
  },
  {
   "cell_type": "code",
   "execution_count": null,
   "metadata": {},
   "outputs": [],
   "source": [
    "import jieba.analyse\n",
    "from wordcloud import WordCloud\n",
    "from matplotlib import pyplot as plt\n",
    "\n",
    "#绘制画布\n",
    "fig = plt.figure(dpi=200)\n",
    "# 获取文本text\n",
    "text = open(\"新蝙蝠侠评论.txt\",encoding=\"utf-8\").read()\n",
    "\n",
    "# 已换行符分割文本内容\n",
    "p_list = text.split(\"\\n\")\n",
    "# 保存结巴提取后的数据列表\n",
    "text_cut = []\n",
    "# 循环每个段落使用结巴提取内容\n",
    "for p in p_list:\n",
    "    # 注意 列表操作中append和extend的区别\n",
    "    text_cut.extend(jieba.analyse.extract_tags(p,allowPOS=(\"a\")))  # 提取形容词\n",
    "# 组合分词\n",
    "new_text=' '.join(text_cut)   #组合\n",
    "\n",
    "# 生成词云\n",
    "wordcloud = WordCloud(font_path=\"C:/Windows/Fonts/simfang.ttf\",\n",
    "                       collocations=False,\n",
    "                       background_color=\"black\",\n",
    "                       width=1200,\n",
    "                       height=600,\n",
    "                       max_words=100).generate(new_text)\n",
    "\n",
    "#生成图片\n",
    "image = wordcloud.to_image()\n",
    "# 展示图片\n",
    "image.show()\n",
    "# 写入文件\n",
    "wordcloud.to_file(\"新蝙蝠侠评论.jpg\")"
   ]
  },
  {
   "cell_type": "code",
   "execution_count": null,
   "metadata": {},
   "outputs": [],
   "source": []
  },
  {
   "cell_type": "code",
   "execution_count": null,
   "metadata": {},
   "outputs": [],
   "source": []
  },
  {
   "cell_type": "code",
   "execution_count": null,
   "metadata": {},
   "outputs": [],
   "source": []
  }
 ],
 "metadata": {
  "kernelspec": {
   "display_name": "Python 3",
   "language": "python",
   "name": "python3"
  },
  "language_info": {
   "codemirror_mode": {
    "name": "ipython",
    "version": 3
   },
   "file_extension": ".py",
   "mimetype": "text/x-python",
   "name": "python",
   "nbconvert_exporter": "python",
   "pygments_lexer": "ipython3",
   "version": "3.7.6"
  }
 },
 "nbformat": 4,
 "nbformat_minor": 4
}
