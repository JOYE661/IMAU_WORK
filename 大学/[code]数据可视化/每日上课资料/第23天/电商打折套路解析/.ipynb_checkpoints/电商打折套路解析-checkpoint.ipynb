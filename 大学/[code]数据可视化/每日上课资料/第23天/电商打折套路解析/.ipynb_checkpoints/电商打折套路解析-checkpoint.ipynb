{
 "cells": [
  {
   "cell_type": "markdown",
   "metadata": {
    "collapsed": true
   },
   "source": [
    "## 电商打折套路解析\n",
    "\n",
    "### 1、从现有数据中，分析出“各个品牌都有多少商品参加了双十一活动？”\n",
    "\n",
    "    要求：\n",
    "      ① 计算得到：商品总数、品牌总数\n",
    "      ② 双十一当天在售的商品占比情况（思考：是不是只有双十一当天在售的商品是“参与双十一活动的商品？”）\n",
    "      ③ 未参与双十一当天活动的商品，在双十一之后的去向如何？\n",
    "      ④ 真正参与双十一活动的品牌有哪些？其各个品牌参与双十一活动的商品数量分布是怎样的？\n",
    "       * 用绘制柱状图表示\n",
    "#### 提示：\n",
    "\n",
    "    ① 数据的“id”字段为商品的实际唯一标识，“title”字段则为商品在网页上显示的名称\n",
    "       * 仔细看数据可以发现，同一个id的title不一定一样（双十一前后）\n",
    "    ② 数据的“店名”字段为品牌的唯一标识\n",
    "    ③ 按照商品销售节奏分类，我们可以将商品分为7类\n",
    "       A. 11.11前后及当天都在售 → 一直在售\n",
    "       B. 11.11之后停止销售 → 双十一后停止销售\n",
    "       C. 11.11开始销售并当天不停止 → 双十一当天上架并持续在售\n",
    "       D. 11.11开始销售且当天停止 → 仅双十一当天有售\n",
    "       E. 11.5 - 11.10 → 双十一前停止销售\n",
    "       F. 仅11.11当天停止销售 → 仅双十一当天停止销售\n",
    "       G. 11.12开始销售 → 双十一后上架\n",
    "    ④ 未参与双十一当天活动的商品，可能有四种情况：\n",
    "       con1 → 暂时下架（F）\n",
    "       con2 → 重新上架（E中部分数据，数据中同一个id可能有不同title，“换个马甲重新上架”），字符串查找特定字符 dataframe.str.contains('预售')\n",
    "       con3 → 预售（E中部分数据，预售商品的title中包含“预售”二字）\n",
    "       con4 → 彻底下架（E中部分数据），可忽略\n",
    "    ⑤ 真正参加活动的商品 = 双十一当天在售的商品 + 预售商品 （可以尝试结果去重）\n",
    "       通过上述几个指标计算，研究出哪些是真正参与双十一活动的品牌，且其商品数量是多少\n",
    "   \n",
    "### 2、哪些商品真的在打折呢？\n",
    "    要求：\n",
    "        ① 针对每个商品，评估其打折的情况\n",
    "        ② 针对在打折的商品，其折扣率是多少\n",
    "           * 绘制折线图：x轴为折扣率，y轴为商品数量\n",
    "        ③ 按照品牌分析，不同品牌的打折力度\n",
    "           * 绘制浮动散点图，y坐标为品牌类型，x坐标为折扣力度\n",
    "        提示：\n",
    "        ① 打折情况评估方法：\n",
    "           真打折：商品的价格在10天内有波动、双11价格为10天内最低价、不存在涨价现象\n",
    "           不打折：商品价格无变化\n",
    "        ② 针对每个商品做price字段的value值统计，查看价格是否有波动，可以先用pd.cut将date分为不同周期：'双十一前','双十一当天','双十一后'，得到period字段\n",
    "           data[['id','price','date']].groupby(['id','price']).min()\n",
    "           针对统计出来的结果，如果按照id和price分组仍只有一个唯一值，则说明价格未变，没打折；否则为打折\n",
    "        ③ 折扣率 = 双十一当天价格 / 双十一之前价格\n",
    "        ④ 作图过程中，清除掉折扣率大于95%的数据\n"
   ]
  },
  {
   "cell_type": "code",
   "execution_count": null,
   "metadata": {},
   "outputs": [],
   "source": [
    "import numpy as np\n",
    "import pandas as pd\n",
    "import matplotlib.pyplot as plt\n",
    "import warnings\n",
    "# 忽略警告\n",
    "warnings.filterwarnings(\"ignore\")\n",
    "plt.rcParams[\"font.sans-serif\"]=[\"SimHei\"] #设置字体\n",
    "plt.rcParams[\"axes.unicode_minus\"]=False #该语句解决图像中的“-”负号的乱码问题"
   ]
  },
  {
   "cell_type": "markdown",
   "metadata": {
    "collapsed": true
   },
   "source": [
    "#### 1.读取文件,查出基本信息"
   ]
  },
  {
   "cell_type": "code",
   "execution_count": null,
   "metadata": {},
   "outputs": [],
   "source": [
    "df = pd.read_excel('双十一淘宝美妆数据.xlsx')\n",
    "df.head()"
   ]
  },
  {
   "cell_type": "code",
   "execution_count": null,
   "metadata": {},
   "outputs": [],
   "source": [
    "df.info()"
   ]
  },
  {
   "cell_type": "markdown",
   "metadata": {},
   "source": [
    "#### 2. 计算商品总数、品牌总数"
   ]
  },
  {
   "cell_type": "code",
   "execution_count": null,
   "metadata": {},
   "outputs": [],
   "source": []
  },
  {
   "cell_type": "code",
   "execution_count": null,
   "metadata": {},
   "outputs": [],
   "source": []
  },
  {
   "cell_type": "markdown",
   "metadata": {},
   "source": [
    "#### 3 .统计不同商品的销售开始日期、截止日期"
   ]
  },
  {
   "cell_type": "code",
   "execution_count": null,
   "metadata": {},
   "outputs": [],
   "source": [
    "df['day'] = df['update_time'].dt.day"
   ]
  },
  {
   "cell_type": "code",
   "execution_count": null,
   "metadata": {},
   "outputs": [],
   "source": [
    "df.index = df['update_time']"
   ]
  },
  {
   "cell_type": "code",
   "execution_count": null,
   "metadata": {},
   "outputs": [],
   "source": [
    "df.head()"
   ]
  },
  {
   "cell_type": "code",
   "execution_count": null,
   "metadata": {},
   "outputs": [],
   "source": [
    "# df在售商品占比\n",
    "data1 = df[[\"id\",\"title\",\"店名\",\"day\"]]\n",
    "data1.head()"
   ]
  },
  {
   "cell_type": "code",
   "execution_count": null,
   "metadata": {},
   "outputs": [],
   "source": [
    "# 对商品进行分类\n",
    "df = pd.read_excel('双十一淘宝美妆数据.xlsx')\n",
    "# 创建新day列,保存产品销售日期\n",
    "df['day'] = df.update_time.dt.day\n",
    "df.index = df.update_time\n",
    "\n",
    "'''\n",
    "    1. 双11 商品占比\n",
    "    \n",
    "'''\n",
    "# 分析各品牌双11的占比\n",
    "df_1 = df[['id',\"title\",'day']].copy()\n",
    "\n",
    "# 可以通过日期的最大值和最小值来判断售卖区间\n",
    "min_max_day = df_1[['id','day']].groupby('id').agg(['min','max'])['day'].copy()\n",
    "\n",
    "# 筛选出双11当天销售的商品\n",
    "\n",
    "day_11_id = df[df['day'] == 11]['id'].unique()\n",
    "#拼接dataFrame,id为参加双11的商品\n",
    "day_11_data = pd.DataFrame({\"id\":day_11_id,\"双11售卖\":True})\n",
    "\n",
    "# 将df_1和双11售卖的数据合并,对商品进行分组\n",
    "merge_data = pd.merge(min_max_day,day_11_data,how=\"left\",on='id')\n",
    "\n",
    "# 双11未售卖的填充为False\n",
    "merge_data.fillna(False,inplace=True)\n",
    "\n",
    "# 计算11 产品占比\n",
    "p_total = len(df['id'].unique())\n",
    "\n",
    "print(\"双11商品售卖占比:\",'{:.2%}'.format(len(day_11_data)/p_total))\n",
    "\n",
    "\n",
    "'''\n",
    "    1. 产品销售分类分类\n",
    "    \n",
    "'''\n",
    "merge_data['type'] = \"分类\"\n",
    "merge_data['type'][(merge_data['min']<11) & (merge_data['max']>11) & (merge_data['双11售卖']==True)] = 'A'\n",
    "\n",
    "merge_data['type'][(merge_data['min']<11) & (merge_data['max']==11)] = 'B'\n",
    "\n",
    "merge_data['type'][(merge_data['min']==11) & (merge_data['max']>11)] = 'C'\n",
    "\n",
    "merge_data['type'][(merge_data['min']==11) & (merge_data['max']==11)] = 'D'\n",
    "\n",
    "merge_data['type'][(merge_data['min']<11) & (merge_data['max']<11)] = 'E'\n",
    "\n",
    "merge_data['type'][(merge_data['min']<11) & (merge_data['max']>11) & (merge_data['双11售卖']==False)] = 'F'\n",
    "\n",
    "merge_data[merge_data['min']>11] = 'G'\n",
    "\n",
    "merge_data['type'].value_counts().plot.pie(autopct='%.2f%%',title=\"\")\n",
    "plt.show()"
   ]
  },
  {
   "cell_type": "code",
   "execution_count": null,
   "metadata": {},
   "outputs": [],
   "source": [
    "# 未参与双十一当天活动的商品，在双十一之后的去向如何？\n",
    "#   con1 → 暂时下架（F）\n",
    "#   con2 → 重新上架（E中部分数据，数据中同一个id可能有不同title，“换个马甲重新上架”）\n",
    "#   con3 → 预售（E中部分数据，预售商品的title中包含“预售”二字），字符串查找特定字符 dataframe.str.contains('预售')\n",
    "#   con4 → 彻底下架（E中部分数据），可忽略\n",
    "'''\n",
    "    3. 未参加商品11的商品去向如何\n",
    "    \n",
    "'''\n",
    "id_not11 = merge_data[merge_data['双11售卖']==False]\n",
    "\n",
    "print('双十一当天没参加活动的商品总数为{}个，占比为{:.2%}\\n-------'.format(len(id_not11),len(id_not11)/len(merge_data)))\n",
    "print('双十一当天没参加活动的商品销售节奏类别为：\\n',id_not11['type'].value_counts().index.tolist())\n",
    "\n",
    "# con1 → 暂时下架（F）\n",
    "id_con1 = merge_data[merge_data['type'] == 'F']['id'].values\n",
    "\n",
    "#   con2 → 重新上架（E中部分数据，数据中同一个id可能有不同title，“换个马甲重新上架”）\n",
    "#  -- 取出原始数据\n",
    "data_not11 = pd.merge(id_not11,df,how='left',on=\"id\")\n",
    "# 按照id和title分组（找到id和title一对多的情况）\n",
    "#计算id出现的次数，如果出现次数大于1，则说明该商品是更改了title的\n",
    "data_con2 = data_not11[['id','title',\"day\"]].groupby(by = ['id','title']).count()\n",
    "# 将id作为列计算重复个数\n",
    "id_count = data_con2.reset_index()['id'].value_counts()\n",
    "# 判断id个数大于1个,并取出id\n",
    "id_con2 = id_count[id_count>1].index\n",
    "\n",
    "# con3 → 预售（E中部分数据，预售商品的title中包含“预售”二字\n",
    "data_con3 = data_not11[data_not11['title'].str.contains(\"预售\")]   # 筛选出title中含有“预售”二字的数据\n",
    "id_con3 = data_con3['id'].value_counts().index  \n",
    "\n",
    "print(\"未参与双十一当天活动的商品中：\\n暂时下架商品的数量为%i个，重新上架商品的数据量为%i个，预售商品的数据量为%i个\" \n",
    "      % (len(id_con1), len(id_con2), len(id_con3)))"
   ]
  },
  {
   "cell_type": "markdown",
   "metadata": {},
   "source": [
    "- 真正参与双十一活动的品牌有哪些？其各个品牌参与双十一活动的商品数量分布是怎样的？\n",
    "- 真正参加活动的商品 = 双十一当天在售的商品 + 预售商品 （相加后再去重，去掉预售且当天在售的商品）\n",
    "\n",
    "<img src=\"images/20220523111608.png\" style=\"width:500px\">"
   ]
  },
  {
   "cell_type": "code",
   "execution_count": null,
   "metadata": {},
   "outputs": [],
   "source": [
    "# 真正参加活动的应该是预售的+双11当天的,将双11的id和 预售产品的id合并\n",
    "real_11_id = np.hstack((day_11_id,id_con3))\n",
    "\n",
    "print('商品总数为%i个' % p_total)\n",
    "print('真正参加活动的商品商品总数为{}个，占比为{:.2%}\\n-------' .format(len(real_11_id),len(real_11_id)/p_total))\n",
    "\n",
    "# 品牌总数为 \n",
    " # 筛选出真正参与活动中 当天在售的商品id对应源数据\n",
    "day_11_id_data = pd.DataFrame({'id':day_11_id})\n",
    "\n",
    "data_11_source = pd.merge(day_11_id_data,df,how='left',on=\"id\")\n",
    "data_11_source_bc = data_11_source.groupby('店名')['id'].count()\n",
    "\n",
    "\n",
    "day_11_pre_sale = pd.DataFrame({'id':id_con3})\n",
    "\n",
    "day_11_pre_sale_source = pd.merge(day_11_pre_sale,df,how='left',on=\"id\")\n",
    "\n",
    "day_11_pre_sale_bc = day_11_pre_sale_source.groupby('店名')['id'].count()\n",
    "\n",
    "result2_data = pd.DataFrame({'当天参与活动商品数量':data_11_source_bc,\n",
    "                            '预售商品数量':day_11_pre_sale_bc})\n",
    "\n",
    "\n",
    "result2_data['11活动总数'] = result2_data['当天参与活动商品数量']+result2_data['预售商品数量']\n",
    "# 排序\n",
    "result2_data.sort_values(by = '11活动总数',inplace = True,ascending = False)                                   \n",
    "result2_data.plot.bar()  "
   ]
  },
  {
   "cell_type": "markdown",
   "metadata": {},
   "source": [
    "### 2、哪些商品真的在打折呢？\n",
    "\n",
    "要求：\n",
    "\n",
    "    ① 针对每个商品，评估其打折的情况\n",
    "    ② 针对在打折的商品，其折扣率是多少\n",
    "       * 绘制折线图：x轴为折扣率，y轴为商品数量\n",
    "    ③ 按照品牌分析，不同品牌的打折力度\n",
    "       * 绘制散点图，y坐标为品牌类型，x坐标为折扣力度\n",
    "    提示：\n",
    "    ① 打折情况评估方法：\n",
    "       真打折：商品的价格在10天内有波动、双11价格为10天内最低价、不存在涨价现象\n",
    "       不打折：商品价格无变化\n",
    "    ② 针对每个商品做price字段的value值统计，查看价格是否有波动，可以先用pd.cut将date分为不同周期：'双十一前','双十一当天','双十一后'，得到period字段\n",
    "       data[['id','price','date']].groupby(['id','price']).min()\n",
    "       针对统计出来的结果，如果按照id和price分组仍只有一个唯一值，则说明价格未变，没打折；否则为打折\n",
    "    ③ 折扣率 = 双十一当天价格 / 双十一之前价格\n",
    "    ④ 作图过程中，清除掉折扣率大于95%的数据"
   ]
  },
  {
   "cell_type": "code",
   "execution_count": null,
   "metadata": {},
   "outputs": [],
   "source": [
    "data2 = df[['id','title','店名','day','price']].copy()\n",
    "# 默认是包含右侧,不包含做些数据\n",
    "data2['period'] = pd.cut(data2['day'],[4,10,11,14],labels = ['双十一前','双十一当天','双十一后'])\n",
    "#print(data2.head())\n",
    "# 筛选数据\n",
    "\n",
    "price = data2[['id','price','period']].groupby(['id','price']).min()\n",
    "\n",
    "price.reset_index(inplace = True)\n",
    "# 针对每个商品做price字段的value值统计，查看价格是否有波动\n",
    "\n",
    "id_count = price['id'].value_counts()\n",
    "id_type1 = id_count[id_count == 1].index\n",
    "id_type2 = id_count[id_count != 1].index\n",
    "# 筛选出“不打折”和“真打折”的商品id\n",
    "\n",
    "n1 = len(id_type1)\n",
    "n2 = len(id_type2)\n",
    "print('真打折的商品数量约占比%.2f%%，不打折的商品数量约占比%.2f%%' % (n2/len(id_count)*100, n1/len(id_count)*100))"
   ]
  },
  {
   "cell_type": "code",
   "execution_count": null,
   "metadata": {
    "scrolled": true
   },
   "outputs": [],
   "source": [
    "data2"
   ]
  },
  {
   "cell_type": "code",
   "execution_count": null,
   "metadata": {},
   "outputs": [],
   "source": [
    "data2[['id','price','period','店名']].groupby(['id','period']).agg({\"店名\":\"min\",\"price\":'min'})"
   ]
  },
  {
   "cell_type": "code",
   "execution_count": null,
   "metadata": {
    "scrolled": true
   },
   "outputs": [],
   "source": [
    "# 针对在打折的商品，其折扣率是多少\n",
    "\n",
    "result3_data1 = data2[['id','price','period','店名']].groupby(['id','period']).agg({\"店名\":\"min\",\"price\":'min'})\n",
    "result3_data1.reset_index(inplace = True)\n",
    "# 筛选数据\n",
    "\n",
    "result3_before11 = result3_data1[result3_data1['period'] == '双十一前']\n",
    "result3_at11 = result3_data1[result3_data1['period'] == '双十一当天']\n",
    "result3_data2 = pd.merge(result3_at11,result3_before11,on = 'id')\n",
    "# 筛选出商品双十一当天及双十一之前的价格\n",
    "\n",
    "result3_data2['zkl'] = result3_data2['price_x'] / result3_data2['price_y']\n",
    "# 计算折扣率\n",
    "\n",
    "\n",
    "result3_data2"
   ]
  },
  {
   "cell_type": "code",
   "execution_count": null,
   "metadata": {
    "scrolled": false
   },
   "outputs": [],
   "source": [
    "#提取出id和折扣率\n",
    "plot_data = result3_data2[['id','zkl']].dropna()\n",
    "# 将折扣率拆分为20个分组\n",
    "plot_data['zkl_range'] = pd.cut(plot_data['zkl'],\n",
    "                                bins = np.linspace(0,1,21))\n",
    "plot_data\n",
    "# 按照分组进行统计个数\n",
    "zkl_range_data = plot_data.groupby('zkl_range').count()\n",
    "zkl_range_data\n",
    "# 绘制图形\n",
    "zkl_range_data['zkl'].plot()"
   ]
  },
  {
   "cell_type": "code",
   "execution_count": null,
   "metadata": {},
   "outputs": [],
   "source": [
    "# 删除 \n",
    "\n",
    "bokeh_data['zkl_range'] = pd.cut(bokeh_data['zkl'],bins = np.linspace(0,1,21))\n",
    "bokeh_data2 = bokeh_data.groupby('zkl_range').count().iloc[:-1] # 这里去掉折扣率在0.95-1之间的数据，该区间内数据zkl大部分为1，不打折\n",
    "bokeh_data2['zkl_pre'] = bokeh_data2['zkl']/bokeh_data2['zkl'].sum()"
   ]
  }
 ],
 "metadata": {
  "anaconda-cloud": {},
  "kernelspec": {
   "display_name": "Python 3",
   "language": "python",
   "name": "python3"
  },
  "language_info": {
   "codemirror_mode": {
    "name": "ipython",
    "version": 3
   },
   "file_extension": ".py",
   "mimetype": "text/x-python",
   "name": "python",
   "nbconvert_exporter": "python",
   "pygments_lexer": "ipython3",
   "version": "3.7.6"
  }
 },
 "nbformat": 4,
 "nbformat_minor": 1
}
