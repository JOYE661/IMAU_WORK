{
 "cells": [
  {
   "cell_type": "markdown",
   "metadata": {},
   "source": [
    "Pandas的DataFrame和Series，在matplotlib基础上封装了一个简易的绘图函数, 使得我们在数据处理过程中方便可视化查看结果。\n",
    "\n",
    "- 好处: 方便快捷的可视化的方式洞察数据， 覆盖常用图标类型\n",
    "- 不足: 不如Matplotlib灵活，仅仅看下分布情况，基本是足满足日常使用"
   ]
  },
  {
   "cell_type": "markdown",
   "metadata": {},
   "source": [
    "Pandas 对 Matplotlib 绘图软件包的基础上单独封装了一个plot()接口，通过调用该接口可以实现常用的绘图操作\n",
    "\n",
    "Pandas 之所以能够实现了数据可视化，主要利用了 Matplotlib 库的 plot() 方法，它对 plot() 方法做了简单的封装，因此您可以直接调用该接口。\n",
    "\n",
    "下面看一组简单的示例： "
   ]
  },
  {
   "cell_type": "code",
   "execution_count": null,
   "metadata": {},
   "outputs": [],
   "source": [
    "import pandas as pd\n",
    "import numpy as np"
   ]
  },
  {
   "cell_type": "code",
   "execution_count": null,
   "metadata": {
    "scrolled": true
   },
   "outputs": [],
   "source": [
    "#创建包含时间序列的数据\n",
    "data = np.random.randn(8,4)\n",
    "print(data)\n",
    "df = pd.DataFrame(data,index=pd.date_range('2/1/2020',periods=8), columns=list('ABCD'))\n",
    "df.plot()"
   ]
  },
  {
   "cell_type": "markdown",
   "metadata": {},
   "source": []
  },
  {
   "cell_type": "markdown",
   "metadata": {},
   "source": [
    "除了使用默认的线条绘图外，您还可以使用其他绘图方式，如下所示：\n",
    "\n",
    "    柱状图：bar() 或 barh()\n",
    "    直方图：hist()\n",
    "    箱状箱：box()\n",
    "    区域图：area()\n",
    "    散点图：scatter()\n"
   ]
  },
  {
   "cell_type": "markdown",
   "metadata": {},
   "source": [
    "通过关键字参数kind可以把上述方法传递给 plot()。"
   ]
  },
  {
   "cell_type": "markdown",
   "metadata": {},
   "source": [
    "## 柱状图\n",
    "创建一个柱状图，如下所示："
   ]
  },
  {
   "cell_type": "code",
   "execution_count": null,
   "metadata": {},
   "outputs": [],
   "source": [
    "df = pd.DataFrame(np.random.rand(10,5),columns=['a','b','c','d','e'])\n",
    "#或使用df.plot(kind=\"bar\")\n",
    "df.plot.bar()"
   ]
  },
  {
   "cell_type": "markdown",
   "metadata": {},
   "source": [
    "通过设置参数stacked=True可以生成柱状堆叠图，示例如下："
   ]
  },
  {
   "cell_type": "code",
   "execution_count": null,
   "metadata": {},
   "outputs": [],
   "source": [
    "df = pd.DataFrame(np.random.rand(10,4),columns=['a','b','c','d'])\n",
    "df.plot(kind=\"bar\",stacked=True)\n",
    "#或者使用df.plot.bar(stacked=\"True\")"
   ]
  },
  {
   "cell_type": "markdown",
   "metadata": {},
   "source": [
    "如果要绘制水平柱状图，您可以使用以下方法："
   ]
  },
  {
   "cell_type": "code",
   "execution_count": null,
   "metadata": {},
   "outputs": [],
   "source": [
    "df = pd.DataFrame(np.random.rand(10,4),columns=['a','b','c','d'])\n",
    "print(df)\n",
    "df.plot.barh(stacked=True)"
   ]
  },
  {
   "cell_type": "markdown",
   "metadata": {},
   "source": [
    "## 直方图\n",
    " plot.hist() 可以实现绘制直方图，并且它还可以指定 bins（构成直方图的箱数）。"
   ]
  },
  {
   "cell_type": "code",
   "execution_count": null,
   "metadata": {},
   "outputs": [],
   "source": [
    "df = pd.DataFrame({'A':np.random.randn(100)+2, 'B':np.random.randn(100), 'C': np.random.randn(100)-2}, columns=['A', 'B', 'C'])\n",
    "print(df)\n",
    "#指定箱数为15\n",
    "df.plot.hist(bins=15)"
   ]
  },
  {
   "cell_type": "markdown",
   "metadata": {},
   "source": [
    "给每一列数据都绘制一个直方图，需要使以下方法"
   ]
  },
  {
   "cell_type": "code",
   "execution_count": null,
   "metadata": {},
   "outputs": [],
   "source": [
    "from matplotlib import pyplot as plt\n",
    "df = pd.DataFrame({'A':np.random.randn(100)+2,'B':np.random.randn(100),'C':\n",
    "np.random.randn(100)-2,'D':np.random.randn(100)+3},columns=['A', 'B', 'C','D'])\n",
    "#使用diff绘制\n",
    "df.diff().hist(color=\"r\",alpha=0.5,bins=15)\n",
    "plt.show()"
   ]
  },
  {
   "cell_type": "markdown",
   "metadata": {},
   "source": [
    "## 箱型图\n",
    "通过调用 Series.box.plot() 、DataFrame.box.plot() 或者 DataFrame.boxplot() 方法来绘制箱型图，它将每一列数据的分布情况，以可视化的图像展现出来。 "
   ]
  },
  {
   "cell_type": "code",
   "execution_count": null,
   "metadata": {},
   "outputs": [],
   "source": [
    "df = pd.DataFrame(np.random.rand(10, 4), columns=['A', 'B', 'C', 'D'])\n",
    "df.plot.box()"
   ]
  },
  {
   "cell_type": "markdown",
   "metadata": {},
   "source": [
    "## 区域图\n",
    "您可以使用 Series.plot.area() 或 DataFrame.plot.area() 方法来绘制区域图。"
   ]
  },
  {
   "cell_type": "code",
   "execution_count": null,
   "metadata": {},
   "outputs": [],
   "source": [
    "df = pd.DataFrame(np.random.rand(5, 4), columns=['a', 'b', 'c', 'd'])\n",
    "df.plot.area()"
   ]
  },
  {
   "cell_type": "markdown",
   "metadata": {},
   "source": [
    "## 散点图\n",
    "使用 DataFrame.plot.scatter() 方法来绘制散点图，如下所示： "
   ]
  },
  {
   "cell_type": "code",
   "execution_count": null,
   "metadata": {},
   "outputs": [],
   "source": [
    "data = np.random.rand(30, 4)\n",
    "df = pd.DataFrame(data, columns=['a', 'b', 'c', 'd'])\n",
    "print(df)\n",
    "df.plot.scatter(x='a',y='b')"
   ]
  },
  {
   "cell_type": "markdown",
   "metadata": {},
   "source": [
    "## 饼状图\n",
    "饼状图可以通过 DataFrame.plot.pie() 方法来绘制。示例如下："
   ]
  },
  {
   "cell_type": "code",
   "execution_count": null,
   "metadata": {
    "scrolled": true
   },
   "outputs": [],
   "source": [
    "df = pd.DataFrame(3 * np.random.rand(4), index=['go', 'java', 'c++', 'c'], columns=['L'])\n",
    "df.plot.pie(subplots=True)"
   ]
  },
  {
   "cell_type": "markdown",
   "metadata": {},
   "source": [
    "## DataFrame.plot详解:"
   ]
  },
  {
   "cell_type": "markdown",
   "metadata": {},
   "source": [
    "\n",
    "\n",
    "`DataFrame.plot(x=None, y=None, kind='line', ax=None, subplots=False, \n",
    "                sharex=None, sharey=False, layout=None,figsize=None, \n",
    "                use_index=True, title=None, grid=None, legend=True, \n",
    "                style=None, logx=False, logy=False, loglog=False, \n",
    "                xticks=None, yticks=None, xlim=None, ylim=None, rot=None,\n",
    "                xerr=None,secondary_y=False, sort_columns=False, **kwds)`\n",
    "- `x` : label or position, default None#指数据框列的标签或位置参数\n",
    "\n",
    "- `y` : label or position, default None\n",
    "\n",
    "- `kind` : str\n",
    "    ‘line’ : line plot (default)#折线图\n",
    "    ‘bar’ : vertical bar plot#条形图\n",
    "    ‘barh’ : horizontal bar plot#横向条形图\n",
    "    ‘hist’ : histogram#柱状图\n",
    "    ‘box’ : boxplot#箱线图\n",
    "    ‘kde’ : Kernel Density Estimation plot#Kernel 的密度估计图，主要对柱状图添加Kernel 概率密度线\n",
    "    ‘area’ : area plot#区域图\n",
    "    ‘pie’ : pie plot#饼图\n",
    "    ‘scatter’ : scatter plot#散点图  需要传入columns方向的索引\n",
    "\n",
    "- `ax` : matplotlib axes object, default None#**子图(axes, 也可以理解成坐标轴) 要在其上进行绘制的matplotlib subplot对象。如果没有设置，则使用当前matplotlib subplot**其中，变量和函数通过改变figure和axes中的元素（例如：title,label,点和线等等）一起描述figure和axes，也就是在画布上绘图。\n",
    "- subplots : boolean, default False#判断图片中是否有子图\n",
    "- `sharex` : boolean, default True if ax is None else False#如果有子图，子图共x轴刻度，标签\n",
    "- `sharey` : boolean, default False#如果有子图，子图共y轴刻度，标签\n",
    "- `layout` : tuple (optional)#子图的行列布局 (rows, columns) for the layout of subplots\n",
    "- `figsize` : a tuple (width, height) in inches#图片尺寸大小\n",
    "- `use_index` : boolean, default True#默认用索引做x轴\n",
    "- `title` : string#图片的标题用字符串\n",
    "\n",
    "- `grid` : boolean, default None (matlab style default)#图片是否有网格\n",
    "- `legend` : False/True/’reverse’#子图的图例，添加一个subplot图例(默认为True)\n",
    "- `style` : list or dict#对每列折线图设置线的类型\n",
    "- `logx` : boolean, default False#设置x轴刻度是否取对数\n",
    "- `xticks` : sequence#设置x轴刻度值，序列形式（比如列表）\n",
    "- `yticks` : sequence#设置y轴刻度，序列形式（比如列表）\n",
    "- `xlim` : 2-tuple/list#设置坐标轴的范围，列表或元组形式\n",
    "- `ylim` : 2-tuple/list\n",
    "- `rot` : int, default None#设置轴标签（轴刻度）的显示旋转度数\n",
    "\n",
    "- `fontsize` : int, default None#设置轴刻度的字体大小\n",
    "- `colormap` : str or matplotlib colormap object, default None#设置图的区域颜色\n",
    "- `position` : float   \n",
    "- `table` : boolean, Series or DataFrame, default False  #如果为正，则选择DataFrame类型的数据并且转换匹配matplotlib的布局。\n",
    "- `stacked` : boolean, default False in line and # 为True创建叠状图\n",
    "- `sort_columns` : boolean, default False  # 以字母表顺序绘制各列，默认使用前列顺序"
   ]
  },
  {
   "cell_type": "code",
   "execution_count": null,
   "metadata": {},
   "outputs": [],
   "source": []
  }
 ],
 "metadata": {
  "kernelspec": {
   "display_name": "Python 3",
   "language": "python",
   "name": "python3"
  },
  "language_info": {
   "codemirror_mode": {
    "name": "ipython",
    "version": 3
   },
   "file_extension": ".py",
   "mimetype": "text/x-python",
   "name": "python",
   "nbconvert_exporter": "python",
   "pygments_lexer": "ipython3",
   "version": "3.7.6"
  }
 },
 "nbformat": 4,
 "nbformat_minor": 4
}
